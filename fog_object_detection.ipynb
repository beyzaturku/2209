{
  "nbformat": 4,
  "nbformat_minor": 0,
  "metadata": {
    "colab": {
      "provenance": [],
      "machine_shape": "hm",
      "gpuType": "L4",
      "mount_file_id": "1450oOY16sqZu5nNHjDPwJzliSrS7Jvog",
      "authorship_tag": "ABX9TyMkwGASbQpywzValmPaAHdx",
      "include_colab_link": true
    },
    "kernelspec": {
      "name": "python3",
      "display_name": "Python 3"
    },
    "language_info": {
      "name": "python"
    },
    "accelerator": "GPU"
  },
  "cells": [
    {
      "cell_type": "markdown",
      "metadata": {
        "id": "view-in-github",
        "colab_type": "text"
      },
      "source": [
        "<a href=\"https://colab.research.google.com/github/beyzaturku/2209/blob/main/fog_object_detection.ipynb\" target=\"_parent\"><img src=\"https://colab.research.google.com/assets/colab-badge.svg\" alt=\"Open In Colab\"/></a>"
      ]
    },
    {
      "cell_type": "code",
      "execution_count": null,
      "metadata": {
        "colab": {
          "base_uri": "https://localhost:8080/"
        },
        "id": "arftn46jSfI7",
        "outputId": "6b926541-10af-4dc2-d3d7-1f6e175d3e94"
      },
      "outputs": [
        {
          "output_type": "stream",
          "name": "stdout",
          "text": [
            "Mounted at /content/drive\n"
          ]
        }
      ],
      "source": [
        "from google.colab import drive\n",
        "drive.mount('/content/drive')"
      ]
    },
    {
      "cell_type": "code",
      "source": [
        "import zipfile\n",
        "\n",
        "zip_path = \"/content/drive/MyDrive/fog_object_detection.zip\"\n",
        "with zipfile.ZipFile(zip_path, 'r') as zip_ref:\n",
        "    file_list = zip_ref.namelist()\n",
        "\n",
        "    folder_list = {\"/\".join(file.split('/')[:-1]) + '/' for file in file_list if '/' in file}\n",
        "\n",
        "    print(\"ZIP İçindeki Tüm Klasörler:\")\n",
        "    for folder in sorted(folder_list):\n",
        "        print(folder)"
      ],
      "metadata": {
        "colab": {
          "base_uri": "https://localhost:8080/"
        },
        "id": "OFknDYfnSmRM",
        "outputId": "09ff0df1-a714-44f4-b279-1af99941ac45"
      },
      "execution_count": null,
      "outputs": [
        {
          "output_type": "stream",
          "name": "stdout",
          "text": [
            "ZIP İçindeki Tüm Klasörler:\n",
            "fog_object_detection/\n",
            "fog_object_detection/images/\n",
            "fog_object_detection/images/train/\n",
            "fog_object_detection/images/val/\n",
            "fog_object_detection/labels/\n",
            "fog_object_detection/labels/train/\n",
            "fog_object_detection/labels/val/\n"
          ]
        }
      ]
    },
    {
      "cell_type": "code",
      "source": [
        "import zipfile\n",
        "import os\n",
        "\n",
        "# ZIP dosyasının tam yolunu belirt\n",
        "zip_path = \"/content/drive/MyDrive/fog_object_detection.zip\"\n",
        "extract_path = \"/content/drive/MyDrive/fog_weather_object_detection\"\n",
        "\n",
        "# ZIP dosyasını aç ve içeriğini çıkar\n",
        "with zipfile.ZipFile(zip_path, 'r') as zip_ref:\n",
        "    zip_ref.extractall(extract_path)\n",
        "\n",
        "print(f\"Dosya {extract_path} konumuna çıkarıldı.\")"
      ],
      "metadata": {
        "colab": {
          "base_uri": "https://localhost:8080/"
        },
        "id": "rCh2TnYiS931",
        "outputId": "a8c2ab28-1c24-472b-cfbd-a9d71cd1f8f0"
      },
      "execution_count": null,
      "outputs": [
        {
          "output_type": "stream",
          "name": "stdout",
          "text": [
            "Dosya /content/drive/MyDrive/fog_weather_object_detection konumuna çıkarıldı.\n"
          ]
        }
      ]
    },
    {
      "cell_type": "code",
      "source": [
        "yaml_content = \"\"\"train: /content/drive/MyDrive/fog_weather_object_detection/fog_object_detection/images/train\n",
        "val: /content/drive/MyDrive/fog_weather_object_detection/fog_object_detection/images/val\n",
        "\n",
        "nc: 4\n",
        "names: [\"car\", \"vehicle\", \"truck\", \"bus\"]\n",
        "\"\"\"\n",
        "\n",
        "yaml_path = \"/content/drive/MyDrive/fog_weather_object_detection/fog_object_detection/data.yaml\"\n",
        "\n",
        "with open(yaml_path, \"w\") as file:\n",
        "    file.write(yaml_content)\n",
        "\n",
        "print(f\"✅ data.yaml başarıyla kaydedildi: {yaml_path}\")"
      ],
      "metadata": {
        "colab": {
          "base_uri": "https://localhost:8080/"
        },
        "id": "vkLAJRQUo6w3",
        "outputId": "e2108d2e-fcdb-4f7e-f47f-34dcd43e638f"
      },
      "execution_count": null,
      "outputs": [
        {
          "output_type": "stream",
          "name": "stdout",
          "text": [
            "✅ data.yaml başarıyla kaydedildi: /content/drive/MyDrive/fog_weather_object_detection/fog_object_detection/data.yaml\n"
          ]
        }
      ]
    },
    {
      "cell_type": "code",
      "source": [
        "!pip install ultralytics\n",
        "!pip install tensorboard"
      ],
      "metadata": {
        "colab": {
          "base_uri": "https://localhost:8080/"
        },
        "id": "-t2AlHEAUTbs",
        "outputId": "3a2a8cac-96b4-4339-de36-f9a77df3576f"
      },
      "execution_count": null,
      "outputs": [
        {
          "output_type": "stream",
          "name": "stdout",
          "text": [
            "Collecting ultralytics\n",
            "  Downloading ultralytics-8.3.79-py3-none-any.whl.metadata (35 kB)\n",
            "Requirement already satisfied: numpy<=2.1.1,>=1.23.0 in /usr/local/lib/python3.11/dist-packages (from ultralytics) (1.26.4)\n",
            "Requirement already satisfied: matplotlib>=3.3.0 in /usr/local/lib/python3.11/dist-packages (from ultralytics) (3.10.0)\n",
            "Requirement already satisfied: opencv-python>=4.6.0 in /usr/local/lib/python3.11/dist-packages (from ultralytics) (4.11.0.86)\n",
            "Requirement already satisfied: pillow>=7.1.2 in /usr/local/lib/python3.11/dist-packages (from ultralytics) (11.1.0)\n",
            "Requirement already satisfied: pyyaml>=5.3.1 in /usr/local/lib/python3.11/dist-packages (from ultralytics) (6.0.2)\n",
            "Requirement already satisfied: requests>=2.23.0 in /usr/local/lib/python3.11/dist-packages (from ultralytics) (2.32.3)\n",
            "Requirement already satisfied: scipy>=1.4.1 in /usr/local/lib/python3.11/dist-packages (from ultralytics) (1.13.1)\n",
            "Requirement already satisfied: torch>=1.8.0 in /usr/local/lib/python3.11/dist-packages (from ultralytics) (2.5.1+cu124)\n",
            "Requirement already satisfied: torchvision>=0.9.0 in /usr/local/lib/python3.11/dist-packages (from ultralytics) (0.20.1+cu124)\n",
            "Requirement already satisfied: tqdm>=4.64.0 in /usr/local/lib/python3.11/dist-packages (from ultralytics) (4.67.1)\n",
            "Requirement already satisfied: psutil in /usr/local/lib/python3.11/dist-packages (from ultralytics) (5.9.5)\n",
            "Requirement already satisfied: py-cpuinfo in /usr/local/lib/python3.11/dist-packages (from ultralytics) (9.0.0)\n",
            "Requirement already satisfied: pandas>=1.1.4 in /usr/local/lib/python3.11/dist-packages (from ultralytics) (2.2.2)\n",
            "Requirement already satisfied: seaborn>=0.11.0 in /usr/local/lib/python3.11/dist-packages (from ultralytics) (0.13.2)\n",
            "Collecting ultralytics-thop>=2.0.0 (from ultralytics)\n",
            "  Downloading ultralytics_thop-2.0.14-py3-none-any.whl.metadata (9.4 kB)\n",
            "Requirement already satisfied: contourpy>=1.0.1 in /usr/local/lib/python3.11/dist-packages (from matplotlib>=3.3.0->ultralytics) (1.3.1)\n",
            "Requirement already satisfied: cycler>=0.10 in /usr/local/lib/python3.11/dist-packages (from matplotlib>=3.3.0->ultralytics) (0.12.1)\n",
            "Requirement already satisfied: fonttools>=4.22.0 in /usr/local/lib/python3.11/dist-packages (from matplotlib>=3.3.0->ultralytics) (4.56.0)\n",
            "Requirement already satisfied: kiwisolver>=1.3.1 in /usr/local/lib/python3.11/dist-packages (from matplotlib>=3.3.0->ultralytics) (1.4.8)\n",
            "Requirement already satisfied: packaging>=20.0 in /usr/local/lib/python3.11/dist-packages (from matplotlib>=3.3.0->ultralytics) (24.2)\n",
            "Requirement already satisfied: pyparsing>=2.3.1 in /usr/local/lib/python3.11/dist-packages (from matplotlib>=3.3.0->ultralytics) (3.2.1)\n",
            "Requirement already satisfied: python-dateutil>=2.7 in /usr/local/lib/python3.11/dist-packages (from matplotlib>=3.3.0->ultralytics) (2.8.2)\n",
            "Requirement already satisfied: pytz>=2020.1 in /usr/local/lib/python3.11/dist-packages (from pandas>=1.1.4->ultralytics) (2025.1)\n",
            "Requirement already satisfied: tzdata>=2022.7 in /usr/local/lib/python3.11/dist-packages (from pandas>=1.1.4->ultralytics) (2025.1)\n",
            "Requirement already satisfied: charset-normalizer<4,>=2 in /usr/local/lib/python3.11/dist-packages (from requests>=2.23.0->ultralytics) (3.4.1)\n",
            "Requirement already satisfied: idna<4,>=2.5 in /usr/local/lib/python3.11/dist-packages (from requests>=2.23.0->ultralytics) (3.10)\n",
            "Requirement already satisfied: urllib3<3,>=1.21.1 in /usr/local/lib/python3.11/dist-packages (from requests>=2.23.0->ultralytics) (2.3.0)\n",
            "Requirement already satisfied: certifi>=2017.4.17 in /usr/local/lib/python3.11/dist-packages (from requests>=2.23.0->ultralytics) (2025.1.31)\n",
            "Requirement already satisfied: filelock in /usr/local/lib/python3.11/dist-packages (from torch>=1.8.0->ultralytics) (3.17.0)\n",
            "Requirement already satisfied: typing-extensions>=4.8.0 in /usr/local/lib/python3.11/dist-packages (from torch>=1.8.0->ultralytics) (4.12.2)\n",
            "Requirement already satisfied: networkx in /usr/local/lib/python3.11/dist-packages (from torch>=1.8.0->ultralytics) (3.4.2)\n",
            "Requirement already satisfied: jinja2 in /usr/local/lib/python3.11/dist-packages (from torch>=1.8.0->ultralytics) (3.1.5)\n",
            "Requirement already satisfied: fsspec in /usr/local/lib/python3.11/dist-packages (from torch>=1.8.0->ultralytics) (2024.10.0)\n",
            "Collecting nvidia-cuda-nvrtc-cu12==12.4.127 (from torch>=1.8.0->ultralytics)\n",
            "  Downloading nvidia_cuda_nvrtc_cu12-12.4.127-py3-none-manylinux2014_x86_64.whl.metadata (1.5 kB)\n",
            "Collecting nvidia-cuda-runtime-cu12==12.4.127 (from torch>=1.8.0->ultralytics)\n",
            "  Downloading nvidia_cuda_runtime_cu12-12.4.127-py3-none-manylinux2014_x86_64.whl.metadata (1.5 kB)\n",
            "Collecting nvidia-cuda-cupti-cu12==12.4.127 (from torch>=1.8.0->ultralytics)\n",
            "  Downloading nvidia_cuda_cupti_cu12-12.4.127-py3-none-manylinux2014_x86_64.whl.metadata (1.6 kB)\n",
            "Collecting nvidia-cudnn-cu12==9.1.0.70 (from torch>=1.8.0->ultralytics)\n",
            "  Downloading nvidia_cudnn_cu12-9.1.0.70-py3-none-manylinux2014_x86_64.whl.metadata (1.6 kB)\n",
            "Collecting nvidia-cublas-cu12==12.4.5.8 (from torch>=1.8.0->ultralytics)\n",
            "  Downloading nvidia_cublas_cu12-12.4.5.8-py3-none-manylinux2014_x86_64.whl.metadata (1.5 kB)\n",
            "Collecting nvidia-cufft-cu12==11.2.1.3 (from torch>=1.8.0->ultralytics)\n",
            "  Downloading nvidia_cufft_cu12-11.2.1.3-py3-none-manylinux2014_x86_64.whl.metadata (1.5 kB)\n",
            "Collecting nvidia-curand-cu12==10.3.5.147 (from torch>=1.8.0->ultralytics)\n",
            "  Downloading nvidia_curand_cu12-10.3.5.147-py3-none-manylinux2014_x86_64.whl.metadata (1.5 kB)\n",
            "Collecting nvidia-cusolver-cu12==11.6.1.9 (from torch>=1.8.0->ultralytics)\n",
            "  Downloading nvidia_cusolver_cu12-11.6.1.9-py3-none-manylinux2014_x86_64.whl.metadata (1.6 kB)\n",
            "Collecting nvidia-cusparse-cu12==12.3.1.170 (from torch>=1.8.0->ultralytics)\n",
            "  Downloading nvidia_cusparse_cu12-12.3.1.170-py3-none-manylinux2014_x86_64.whl.metadata (1.6 kB)\n",
            "Requirement already satisfied: nvidia-nccl-cu12==2.21.5 in /usr/local/lib/python3.11/dist-packages (from torch>=1.8.0->ultralytics) (2.21.5)\n",
            "Requirement already satisfied: nvidia-nvtx-cu12==12.4.127 in /usr/local/lib/python3.11/dist-packages (from torch>=1.8.0->ultralytics) (12.4.127)\n",
            "Collecting nvidia-nvjitlink-cu12==12.4.127 (from torch>=1.8.0->ultralytics)\n",
            "  Downloading nvidia_nvjitlink_cu12-12.4.127-py3-none-manylinux2014_x86_64.whl.metadata (1.5 kB)\n",
            "Requirement already satisfied: triton==3.1.0 in /usr/local/lib/python3.11/dist-packages (from torch>=1.8.0->ultralytics) (3.1.0)\n",
            "Requirement already satisfied: sympy==1.13.1 in /usr/local/lib/python3.11/dist-packages (from torch>=1.8.0->ultralytics) (1.13.1)\n",
            "Requirement already satisfied: mpmath<1.4,>=1.1.0 in /usr/local/lib/python3.11/dist-packages (from sympy==1.13.1->torch>=1.8.0->ultralytics) (1.3.0)\n",
            "Requirement already satisfied: six>=1.5 in /usr/local/lib/python3.11/dist-packages (from python-dateutil>=2.7->matplotlib>=3.3.0->ultralytics) (1.17.0)\n",
            "Requirement already satisfied: MarkupSafe>=2.0 in /usr/local/lib/python3.11/dist-packages (from jinja2->torch>=1.8.0->ultralytics) (3.0.2)\n",
            "Downloading ultralytics-8.3.79-py3-none-any.whl (921 kB)\n",
            "\u001b[2K   \u001b[90m━━━━━━━━━━━━━━━━━━━━━━━━━━━━━━━━━━━━━━━━\u001b[0m \u001b[32m921.8/921.8 kB\u001b[0m \u001b[31m24.2 MB/s\u001b[0m eta \u001b[36m0:00:00\u001b[0m\n",
            "\u001b[?25hDownloading nvidia_cublas_cu12-12.4.5.8-py3-none-manylinux2014_x86_64.whl (363.4 MB)\n",
            "\u001b[2K   \u001b[90m━━━━━━━━━━━━━━━━━━━━━━━━━━━━━━━━━━━━━━━━\u001b[0m \u001b[32m363.4/363.4 MB\u001b[0m \u001b[31m2.9 MB/s\u001b[0m eta \u001b[36m0:00:00\u001b[0m\n",
            "\u001b[?25hDownloading nvidia_cuda_cupti_cu12-12.4.127-py3-none-manylinux2014_x86_64.whl (13.8 MB)\n",
            "\u001b[2K   \u001b[90m━━━━━━━━━━━━━━━━━━━━━━━━━━━━━━━━━━━━━━━━\u001b[0m \u001b[32m13.8/13.8 MB\u001b[0m \u001b[31m114.7 MB/s\u001b[0m eta \u001b[36m0:00:00\u001b[0m\n",
            "\u001b[?25hDownloading nvidia_cuda_nvrtc_cu12-12.4.127-py3-none-manylinux2014_x86_64.whl (24.6 MB)\n",
            "\u001b[2K   \u001b[90m━━━━━━━━━━━━━━━━━━━━━━━━━━━━━━━━━━━━━━━━\u001b[0m \u001b[32m24.6/24.6 MB\u001b[0m \u001b[31m90.3 MB/s\u001b[0m eta \u001b[36m0:00:00\u001b[0m\n",
            "\u001b[?25hDownloading nvidia_cuda_runtime_cu12-12.4.127-py3-none-manylinux2014_x86_64.whl (883 kB)\n",
            "\u001b[2K   \u001b[90m━━━━━━━━━━━━━━━━━━━━━━━━━━━━━━━━━━━━━━━━\u001b[0m \u001b[32m883.7/883.7 kB\u001b[0m \u001b[31m62.3 MB/s\u001b[0m eta \u001b[36m0:00:00\u001b[0m\n",
            "\u001b[?25hDownloading nvidia_cudnn_cu12-9.1.0.70-py3-none-manylinux2014_x86_64.whl (664.8 MB)\n",
            "\u001b[2K   \u001b[90m━━━━━━━━━━━━━━━━━━━━━━━━━━━━━━━━━━━━━━━━\u001b[0m \u001b[32m664.8/664.8 MB\u001b[0m \u001b[31m2.1 MB/s\u001b[0m eta \u001b[36m0:00:00\u001b[0m\n",
            "\u001b[?25hDownloading nvidia_cufft_cu12-11.2.1.3-py3-none-manylinux2014_x86_64.whl (211.5 MB)\n",
            "\u001b[2K   \u001b[90m━━━━━━━━━━━━━━━━━━━━━━━━━━━━━━━━━━━━━━━━\u001b[0m \u001b[32m211.5/211.5 MB\u001b[0m \u001b[31m4.8 MB/s\u001b[0m eta \u001b[36m0:00:00\u001b[0m\n",
            "\u001b[?25hDownloading nvidia_curand_cu12-10.3.5.147-py3-none-manylinux2014_x86_64.whl (56.3 MB)\n",
            "\u001b[2K   \u001b[90m━━━━━━━━━━━━━━━━━━━━━━━━━━━━━━━━━━━━━━━━\u001b[0m \u001b[32m56.3/56.3 MB\u001b[0m \u001b[31m40.5 MB/s\u001b[0m eta \u001b[36m0:00:00\u001b[0m\n",
            "\u001b[?25hDownloading nvidia_cusolver_cu12-11.6.1.9-py3-none-manylinux2014_x86_64.whl (127.9 MB)\n",
            "\u001b[2K   \u001b[90m━━━━━━━━━━━━━━━━━━━━━━━━━━━━━━━━━━━━━━━━\u001b[0m \u001b[32m127.9/127.9 MB\u001b[0m \u001b[31m18.6 MB/s\u001b[0m eta \u001b[36m0:00:00\u001b[0m\n",
            "\u001b[?25hDownloading nvidia_cusparse_cu12-12.3.1.170-py3-none-manylinux2014_x86_64.whl (207.5 MB)\n",
            "\u001b[2K   \u001b[90m━━━━━━━━━━━━━━━━━━━━━━━━━━━━━━━━━━━━━━━━\u001b[0m \u001b[32m207.5/207.5 MB\u001b[0m \u001b[31m4.8 MB/s\u001b[0m eta \u001b[36m0:00:00\u001b[0m\n",
            "\u001b[?25hDownloading nvidia_nvjitlink_cu12-12.4.127-py3-none-manylinux2014_x86_64.whl (21.1 MB)\n",
            "\u001b[2K   \u001b[90m━━━━━━━━━━━━━━━━━━━━━━━━━━━━━━━━━━━━━━━━\u001b[0m \u001b[32m21.1/21.1 MB\u001b[0m \u001b[31m89.6 MB/s\u001b[0m eta \u001b[36m0:00:00\u001b[0m\n",
            "\u001b[?25hDownloading ultralytics_thop-2.0.14-py3-none-any.whl (26 kB)\n",
            "Installing collected packages: nvidia-nvjitlink-cu12, nvidia-curand-cu12, nvidia-cufft-cu12, nvidia-cuda-runtime-cu12, nvidia-cuda-nvrtc-cu12, nvidia-cuda-cupti-cu12, nvidia-cublas-cu12, nvidia-cusparse-cu12, nvidia-cudnn-cu12, nvidia-cusolver-cu12, ultralytics-thop, ultralytics\n",
            "  Attempting uninstall: nvidia-nvjitlink-cu12\n",
            "    Found existing installation: nvidia-nvjitlink-cu12 12.5.82\n",
            "    Uninstalling nvidia-nvjitlink-cu12-12.5.82:\n",
            "      Successfully uninstalled nvidia-nvjitlink-cu12-12.5.82\n",
            "  Attempting uninstall: nvidia-curand-cu12\n",
            "    Found existing installation: nvidia-curand-cu12 10.3.6.82\n",
            "    Uninstalling nvidia-curand-cu12-10.3.6.82:\n",
            "      Successfully uninstalled nvidia-curand-cu12-10.3.6.82\n",
            "  Attempting uninstall: nvidia-cufft-cu12\n",
            "    Found existing installation: nvidia-cufft-cu12 11.2.3.61\n",
            "    Uninstalling nvidia-cufft-cu12-11.2.3.61:\n",
            "      Successfully uninstalled nvidia-cufft-cu12-11.2.3.61\n",
            "  Attempting uninstall: nvidia-cuda-runtime-cu12\n",
            "    Found existing installation: nvidia-cuda-runtime-cu12 12.5.82\n",
            "    Uninstalling nvidia-cuda-runtime-cu12-12.5.82:\n",
            "      Successfully uninstalled nvidia-cuda-runtime-cu12-12.5.82\n",
            "  Attempting uninstall: nvidia-cuda-nvrtc-cu12\n",
            "    Found existing installation: nvidia-cuda-nvrtc-cu12 12.5.82\n",
            "    Uninstalling nvidia-cuda-nvrtc-cu12-12.5.82:\n",
            "      Successfully uninstalled nvidia-cuda-nvrtc-cu12-12.5.82\n",
            "  Attempting uninstall: nvidia-cuda-cupti-cu12\n",
            "    Found existing installation: nvidia-cuda-cupti-cu12 12.5.82\n",
            "    Uninstalling nvidia-cuda-cupti-cu12-12.5.82:\n",
            "      Successfully uninstalled nvidia-cuda-cupti-cu12-12.5.82\n",
            "  Attempting uninstall: nvidia-cublas-cu12\n",
            "    Found existing installation: nvidia-cublas-cu12 12.5.3.2\n",
            "    Uninstalling nvidia-cublas-cu12-12.5.3.2:\n",
            "      Successfully uninstalled nvidia-cublas-cu12-12.5.3.2\n",
            "  Attempting uninstall: nvidia-cusparse-cu12\n",
            "    Found existing installation: nvidia-cusparse-cu12 12.5.1.3\n",
            "    Uninstalling nvidia-cusparse-cu12-12.5.1.3:\n",
            "      Successfully uninstalled nvidia-cusparse-cu12-12.5.1.3\n",
            "  Attempting uninstall: nvidia-cudnn-cu12\n",
            "    Found existing installation: nvidia-cudnn-cu12 9.3.0.75\n",
            "    Uninstalling nvidia-cudnn-cu12-9.3.0.75:\n",
            "      Successfully uninstalled nvidia-cudnn-cu12-9.3.0.75\n",
            "  Attempting uninstall: nvidia-cusolver-cu12\n",
            "    Found existing installation: nvidia-cusolver-cu12 11.6.3.83\n",
            "    Uninstalling nvidia-cusolver-cu12-11.6.3.83:\n",
            "      Successfully uninstalled nvidia-cusolver-cu12-11.6.3.83\n",
            "Successfully installed nvidia-cublas-cu12-12.4.5.8 nvidia-cuda-cupti-cu12-12.4.127 nvidia-cuda-nvrtc-cu12-12.4.127 nvidia-cuda-runtime-cu12-12.4.127 nvidia-cudnn-cu12-9.1.0.70 nvidia-cufft-cu12-11.2.1.3 nvidia-curand-cu12-10.3.5.147 nvidia-cusolver-cu12-11.6.1.9 nvidia-cusparse-cu12-12.3.1.170 nvidia-nvjitlink-cu12-12.4.127 ultralytics-8.3.79 ultralytics-thop-2.0.14\n",
            "Requirement already satisfied: tensorboard in /usr/local/lib/python3.11/dist-packages (2.18.0)\n",
            "Requirement already satisfied: absl-py>=0.4 in /usr/local/lib/python3.11/dist-packages (from tensorboard) (1.4.0)\n",
            "Requirement already satisfied: grpcio>=1.48.2 in /usr/local/lib/python3.11/dist-packages (from tensorboard) (1.70.0)\n",
            "Requirement already satisfied: markdown>=2.6.8 in /usr/local/lib/python3.11/dist-packages (from tensorboard) (3.7)\n",
            "Requirement already satisfied: numpy>=1.12.0 in /usr/local/lib/python3.11/dist-packages (from tensorboard) (1.26.4)\n",
            "Requirement already satisfied: packaging in /usr/local/lib/python3.11/dist-packages (from tensorboard) (24.2)\n",
            "Requirement already satisfied: protobuf!=4.24.0,>=3.19.6 in /usr/local/lib/python3.11/dist-packages (from tensorboard) (4.25.6)\n",
            "Requirement already satisfied: setuptools>=41.0.0 in /usr/local/lib/python3.11/dist-packages (from tensorboard) (75.1.0)\n",
            "Requirement already satisfied: six>1.9 in /usr/local/lib/python3.11/dist-packages (from tensorboard) (1.17.0)\n",
            "Requirement already satisfied: tensorboard-data-server<0.8.0,>=0.7.0 in /usr/local/lib/python3.11/dist-packages (from tensorboard) (0.7.2)\n",
            "Requirement already satisfied: werkzeug>=1.0.1 in /usr/local/lib/python3.11/dist-packages (from tensorboard) (3.1.3)\n",
            "Requirement already satisfied: MarkupSafe>=2.1.1 in /usr/local/lib/python3.11/dist-packages (from werkzeug>=1.0.1->tensorboard) (3.0.2)\n"
          ]
        }
      ]
    },
    {
      "cell_type": "code",
      "source": [
        "yaml_content = \"\"\"train: /content/drive/MyDrive/daylight_weather_object_detection/daylight_object_detection/images/train\n",
        "val: /content/drive/MyDrive/daylight_weather_object_detection/daylight_object_detection/images/val\n",
        "\n",
        "nc: 4\n",
        "names: [\"car\", \"vehicle\", \"truck\", \"bus\"]\n",
        "\"\"\"\n",
        "\n",
        "yaml_path = \"/content/drive/MyDrive/daylight_weather_object_detection/daylight_object_detection/data.yaml\"\n",
        "\n",
        "with open(yaml_path, \"w\") as file:\n",
        "    file.write(yaml_content)\n",
        "\n",
        "print(f\"✅ data.yaml başarıyla kaydedildi: {yaml_path}\")"
      ],
      "metadata": {
        "id": "PBmphuBaXUuZ",
        "colab": {
          "base_uri": "https://localhost:8080/"
        },
        "outputId": "716fffa6-5f08-43e0-86b6-5964e57b7d32"
      },
      "execution_count": null,
      "outputs": [
        {
          "output_type": "stream",
          "name": "stdout",
          "text": [
            "✅ data.yaml başarıyla kaydedildi: /content/drive/MyDrive/daylight_weather_object_detection/daylight_object_detection/data.yaml\n"
          ]
        }
      ]
    },
    {
      "cell_type": "code",
      "source": [
        "from ultralytics import YOLO\n",
        "\n",
        "model = YOLO(\"yolov8n.pt\")\n",
        "\n",
        "results = model.train(\n",
        "    data=\"/content/drive/MyDrive/fog_weather_object_detection/fog_object_detection/data.yaml\",\n",
        "    epochs=50,\n",
        "    imgsz=640,\n",
        "    batch=16,\n",
        "    project=\"/content/drive/MyDrive/fog_weather_object_detection\",\n",
        "    name=\"yolov8_fog_weather\",\n",
        "    save=True,\n",
        "    save_period=5,\n",
        "    val=True\n",
        ")"
      ],
      "metadata": {
        "colab": {
          "base_uri": "https://localhost:8080/"
        },
        "id": "4qklcKkXYJ9k",
        "outputId": "13b29453-8437-4da9-d3d9-1f4c590d6471"
      },
      "execution_count": 34,
      "outputs": [
        {
          "output_type": "stream",
          "name": "stdout",
          "text": [
            "Ultralytics 8.3.79 🚀 Python-3.11.11 torch-2.5.1+cu124 CUDA:0 (NVIDIA L4, 22693MiB)\n",
            "\u001b[34m\u001b[1mengine/trainer: \u001b[0mtask=detect, mode=train, model=yolov8n.pt, data=/content/drive/MyDrive/fog_weather_object_detection/fog_object_detection/data.yaml, epochs=50, time=None, patience=100, batch=16, imgsz=640, save=True, save_period=5, cache=False, device=None, workers=8, project=/content/drive/MyDrive/fog_weather_object_detection, name=yolov8_fog_weather, exist_ok=False, pretrained=True, optimizer=auto, verbose=True, seed=0, deterministic=True, single_cls=False, rect=False, cos_lr=False, close_mosaic=10, resume=False, amp=True, fraction=1.0, profile=False, freeze=None, multi_scale=False, overlap_mask=True, mask_ratio=4, dropout=0.0, val=True, split=val, save_json=False, save_hybrid=False, conf=None, iou=0.7, max_det=300, half=False, dnn=False, plots=True, source=None, vid_stride=1, stream_buffer=False, visualize=False, augment=False, agnostic_nms=False, classes=None, retina_masks=False, embed=None, show=False, save_frames=False, save_txt=False, save_conf=False, save_crop=False, show_labels=True, show_conf=True, show_boxes=True, line_width=None, format=torchscript, keras=False, optimize=False, int8=False, dynamic=False, simplify=True, opset=None, workspace=None, nms=False, lr0=0.01, lrf=0.01, momentum=0.937, weight_decay=0.0005, warmup_epochs=3.0, warmup_momentum=0.8, warmup_bias_lr=0.1, box=7.5, cls=0.5, dfl=1.5, pose=12.0, kobj=1.0, nbs=64, hsv_h=0.015, hsv_s=0.7, hsv_v=0.4, degrees=0.0, translate=0.1, scale=0.5, shear=0.0, perspective=0.0, flipud=0.0, fliplr=0.5, bgr=0.0, mosaic=1.0, mixup=0.0, copy_paste=0.0, copy_paste_mode=flip, auto_augment=randaugment, erasing=0.4, crop_fraction=1.0, cfg=None, tracker=botsort.yaml, save_dir=/content/drive/MyDrive/fog_weather_object_detection/yolov8_fog_weather\n",
            "Overriding model.yaml nc=80 with nc=4\n",
            "\n",
            "                   from  n    params  module                                       arguments                     \n",
            "  0                  -1  1       464  ultralytics.nn.modules.conv.Conv             [3, 16, 3, 2]                 \n",
            "  1                  -1  1      4672  ultralytics.nn.modules.conv.Conv             [16, 32, 3, 2]                \n",
            "  2                  -1  1      7360  ultralytics.nn.modules.block.C2f             [32, 32, 1, True]             \n",
            "  3                  -1  1     18560  ultralytics.nn.modules.conv.Conv             [32, 64, 3, 2]                \n",
            "  4                  -1  2     49664  ultralytics.nn.modules.block.C2f             [64, 64, 2, True]             \n",
            "  5                  -1  1     73984  ultralytics.nn.modules.conv.Conv             [64, 128, 3, 2]               \n",
            "  6                  -1  2    197632  ultralytics.nn.modules.block.C2f             [128, 128, 2, True]           \n",
            "  7                  -1  1    295424  ultralytics.nn.modules.conv.Conv             [128, 256, 3, 2]              \n",
            "  8                  -1  1    460288  ultralytics.nn.modules.block.C2f             [256, 256, 1, True]           \n",
            "  9                  -1  1    164608  ultralytics.nn.modules.block.SPPF            [256, 256, 5]                 \n",
            " 10                  -1  1         0  torch.nn.modules.upsampling.Upsample         [None, 2, 'nearest']          \n",
            " 11             [-1, 6]  1         0  ultralytics.nn.modules.conv.Concat           [1]                           \n",
            " 12                  -1  1    148224  ultralytics.nn.modules.block.C2f             [384, 128, 1]                 \n",
            " 13                  -1  1         0  torch.nn.modules.upsampling.Upsample         [None, 2, 'nearest']          \n",
            " 14             [-1, 4]  1         0  ultralytics.nn.modules.conv.Concat           [1]                           \n",
            " 15                  -1  1     37248  ultralytics.nn.modules.block.C2f             [192, 64, 1]                  \n",
            " 16                  -1  1     36992  ultralytics.nn.modules.conv.Conv             [64, 64, 3, 2]                \n",
            " 17            [-1, 12]  1         0  ultralytics.nn.modules.conv.Concat           [1]                           \n",
            " 18                  -1  1    123648  ultralytics.nn.modules.block.C2f             [192, 128, 1]                 \n",
            " 19                  -1  1    147712  ultralytics.nn.modules.conv.Conv             [128, 128, 3, 2]              \n",
            " 20             [-1, 9]  1         0  ultralytics.nn.modules.conv.Concat           [1]                           \n",
            " 21                  -1  1    493056  ultralytics.nn.modules.block.C2f             [384, 256, 1]                 \n",
            " 22        [15, 18, 21]  1    752092  ultralytics.nn.modules.head.Detect           [4, [64, 128, 256]]           \n",
            "Model summary: 129 layers, 3,011,628 parameters, 3,011,612 gradients, 8.2 GFLOPs\n",
            "\n",
            "Transferred 319/355 items from pretrained weights\n",
            "\u001b[34m\u001b[1mTensorBoard: \u001b[0mStart with 'tensorboard --logdir /content/drive/MyDrive/fog_weather_object_detection/yolov8_fog_weather', view at http://localhost:6006/\n",
            "Freezing layer 'model.22.dfl.conv.weight'\n",
            "\u001b[34m\u001b[1mAMP: \u001b[0mrunning Automatic Mixed Precision (AMP) checks...\n",
            "\u001b[34m\u001b[1mAMP: \u001b[0mchecks passed ✅\n"
          ]
        },
        {
          "output_type": "stream",
          "name": "stderr",
          "text": [
            "\u001b[34m\u001b[1mtrain: \u001b[0mScanning /content/drive/MyDrive/fog_weather_object_detection/fog_object_detection/labels/train... 2398 images, 0 backgrounds, 0 corrupt: 100%|██████████| 2398/2398 [00:29<00:00, 79.95it/s] \n"
          ]
        },
        {
          "output_type": "stream",
          "name": "stdout",
          "text": [
            "\u001b[34m\u001b[1mtrain: \u001b[0mNew cache created: /content/drive/MyDrive/fog_weather_object_detection/fog_object_detection/labels/train.cache\n",
            "\u001b[34m\u001b[1malbumentations: \u001b[0mBlur(p=0.01, blur_limit=(3, 7)), MedianBlur(p=0.01, blur_limit=(3, 7)), ToGray(p=0.01, num_output_channels=3, method='weighted_average'), CLAHE(p=0.01, clip_limit=(1.0, 4.0), tile_grid_size=(8, 8))\n"
          ]
        },
        {
          "output_type": "stream",
          "name": "stderr",
          "text": [
            "\u001b[34m\u001b[1mval: \u001b[0mScanning /content/drive/MyDrive/fog_weather_object_detection/fog_object_detection/labels/val... 600 images, 0 backgrounds, 0 corrupt: 100%|██████████| 600/600 [00:05<00:00, 114.52it/s]\n"
          ]
        },
        {
          "output_type": "stream",
          "name": "stdout",
          "text": [
            "\u001b[34m\u001b[1mval: \u001b[0mNew cache created: /content/drive/MyDrive/fog_weather_object_detection/fog_object_detection/labels/val.cache\n",
            "Plotting labels to /content/drive/MyDrive/fog_weather_object_detection/yolov8_fog_weather/labels.jpg... \n",
            "\u001b[34m\u001b[1moptimizer:\u001b[0m 'optimizer=auto' found, ignoring 'lr0=0.01' and 'momentum=0.937' and determining best 'optimizer', 'lr0' and 'momentum' automatically... \n",
            "\u001b[34m\u001b[1moptimizer:\u001b[0m AdamW(lr=0.00125, momentum=0.9) with parameter groups 57 weight(decay=0.0), 64 weight(decay=0.0005), 63 bias(decay=0.0)\n",
            "\u001b[34m\u001b[1mTensorBoard: \u001b[0mmodel graph visualization added ✅\n",
            "Image sizes 640 train, 640 val\n",
            "Using 8 dataloader workers\n",
            "Logging results to \u001b[1m/content/drive/MyDrive/fog_weather_object_detection/yolov8_fog_weather\u001b[0m\n",
            "Starting training for 50 epochs...\n",
            "\n",
            "      Epoch    GPU_mem   box_loss   cls_loss   dfl_loss  Instances       Size\n"
          ]
        },
        {
          "output_type": "stream",
          "name": "stderr",
          "text": [
            "       1/50      3.16G      1.871      1.895     0.9945        704        640: 100%|██████████| 150/150 [00:20<00:00,  7.45it/s]\n",
            "                 Class     Images  Instances      Box(P          R      mAP50  mAP50-95): 100%|██████████| 19/19 [00:02<00:00,  6.40it/s]\n"
          ]
        },
        {
          "output_type": "stream",
          "name": "stdout",
          "text": [
            "                   all        600      14752      0.584      0.535      0.602      0.372\n",
            "\n",
            "      Epoch    GPU_mem   box_loss   cls_loss   dfl_loss  Instances       Size\n"
          ]
        },
        {
          "output_type": "stream",
          "name": "stderr",
          "text": [
            "       2/50         4G       1.56     0.9962     0.9136        611        640: 100%|██████████| 150/150 [00:18<00:00,  7.96it/s]\n",
            "                 Class     Images  Instances      Box(P          R      mAP50  mAP50-95): 100%|██████████| 19/19 [00:03<00:00,  6.32it/s]\n"
          ]
        },
        {
          "output_type": "stream",
          "name": "stdout",
          "text": [
            "                   all        600      14752        0.8      0.668      0.766      0.511\n",
            "\n",
            "      Epoch    GPU_mem   box_loss   cls_loss   dfl_loss  Instances       Size\n"
          ]
        },
        {
          "output_type": "stream",
          "name": "stderr",
          "text": [
            "       3/50         4G      1.418     0.8514     0.8935        490        640: 100%|██████████| 150/150 [00:18<00:00,  8.19it/s]\n",
            "                 Class     Images  Instances      Box(P          R      mAP50  mAP50-95): 100%|██████████| 19/19 [00:03<00:00,  6.24it/s]"
          ]
        },
        {
          "output_type": "stream",
          "name": "stdout",
          "text": [
            "                   all        600      14752      0.895      0.786      0.892      0.593\n"
          ]
        },
        {
          "output_type": "stream",
          "name": "stderr",
          "text": [
            "\n"
          ]
        },
        {
          "output_type": "stream",
          "name": "stdout",
          "text": [
            "\n",
            "      Epoch    GPU_mem   box_loss   cls_loss   dfl_loss  Instances       Size\n"
          ]
        },
        {
          "output_type": "stream",
          "name": "stderr",
          "text": [
            "       4/50      2.97G      1.348     0.7769     0.8835        558        640: 100%|██████████| 150/150 [00:18<00:00,  8.31it/s]\n",
            "                 Class     Images  Instances      Box(P          R      mAP50  mAP50-95): 100%|██████████| 19/19 [00:02<00:00,  6.54it/s]"
          ]
        },
        {
          "output_type": "stream",
          "name": "stdout",
          "text": [
            "                   all        600      14752      0.873      0.827      0.924      0.638\n"
          ]
        },
        {
          "output_type": "stream",
          "name": "stderr",
          "text": [
            "\n"
          ]
        },
        {
          "output_type": "stream",
          "name": "stdout",
          "text": [
            "\n",
            "      Epoch    GPU_mem   box_loss   cls_loss   dfl_loss  Instances       Size\n"
          ]
        },
        {
          "output_type": "stream",
          "name": "stderr",
          "text": [
            "       5/50      3.84G      1.309     0.7246     0.8748        623        640: 100%|██████████| 150/150 [00:18<00:00,  8.25it/s]\n",
            "                 Class     Images  Instances      Box(P          R      mAP50  mAP50-95): 100%|██████████| 19/19 [00:02<00:00,  6.40it/s]"
          ]
        },
        {
          "output_type": "stream",
          "name": "stdout",
          "text": [
            "                   all        600      14752      0.926      0.823      0.929       0.68\n"
          ]
        },
        {
          "output_type": "stream",
          "name": "stderr",
          "text": [
            "\n"
          ]
        },
        {
          "output_type": "stream",
          "name": "stdout",
          "text": [
            "\n",
            "      Epoch    GPU_mem   box_loss   cls_loss   dfl_loss  Instances       Size\n"
          ]
        },
        {
          "output_type": "stream",
          "name": "stderr",
          "text": [
            "       6/50      3.11G      1.253     0.6838     0.8672        719        640: 100%|██████████| 150/150 [00:18<00:00,  8.24it/s]\n",
            "                 Class     Images  Instances      Box(P          R      mAP50  mAP50-95): 100%|██████████| 19/19 [00:02<00:00,  6.49it/s]"
          ]
        },
        {
          "output_type": "stream",
          "name": "stdout",
          "text": [
            "                   all        600      14752      0.938      0.868      0.958      0.699\n"
          ]
        },
        {
          "output_type": "stream",
          "name": "stderr",
          "text": [
            "\n"
          ]
        },
        {
          "output_type": "stream",
          "name": "stdout",
          "text": [
            "\n",
            "      Epoch    GPU_mem   box_loss   cls_loss   dfl_loss  Instances       Size\n"
          ]
        },
        {
          "output_type": "stream",
          "name": "stderr",
          "text": [
            "       7/50      4.05G      1.214     0.6495     0.8614        801        640: 100%|██████████| 150/150 [00:18<00:00,  8.30it/s]\n",
            "                 Class     Images  Instances      Box(P          R      mAP50  mAP50-95): 100%|██████████| 19/19 [00:02<00:00,  6.85it/s]"
          ]
        },
        {
          "output_type": "stream",
          "name": "stdout",
          "text": [
            "                   all        600      14752      0.906      0.878      0.964      0.715\n"
          ]
        },
        {
          "output_type": "stream",
          "name": "stderr",
          "text": [
            "\n"
          ]
        },
        {
          "output_type": "stream",
          "name": "stdout",
          "text": [
            "\n",
            "      Epoch    GPU_mem   box_loss   cls_loss   dfl_loss  Instances       Size\n"
          ]
        },
        {
          "output_type": "stream",
          "name": "stderr",
          "text": [
            "       8/50      3.78G      1.203      0.642     0.8575        547        640: 100%|██████████| 150/150 [00:18<00:00,  8.24it/s]\n",
            "                 Class     Images  Instances      Box(P          R      mAP50  mAP50-95): 100%|██████████| 19/19 [00:02<00:00,  6.64it/s]"
          ]
        },
        {
          "output_type": "stream",
          "name": "stdout",
          "text": [
            "                   all        600      14752      0.925      0.893      0.954      0.713\n"
          ]
        },
        {
          "output_type": "stream",
          "name": "stderr",
          "text": [
            "\n"
          ]
        },
        {
          "output_type": "stream",
          "name": "stdout",
          "text": [
            "\n",
            "      Epoch    GPU_mem   box_loss   cls_loss   dfl_loss  Instances       Size\n"
          ]
        },
        {
          "output_type": "stream",
          "name": "stderr",
          "text": [
            "       9/50      3.79G      1.155     0.6152     0.8548        404        640: 100%|██████████| 150/150 [00:18<00:00,  8.26it/s]\n",
            "                 Class     Images  Instances      Box(P          R      mAP50  mAP50-95): 100%|██████████| 19/19 [00:02<00:00,  7.03it/s]"
          ]
        },
        {
          "output_type": "stream",
          "name": "stdout",
          "text": [
            "                   all        600      14752      0.911      0.903      0.974      0.731\n"
          ]
        },
        {
          "output_type": "stream",
          "name": "stderr",
          "text": [
            "\n"
          ]
        },
        {
          "output_type": "stream",
          "name": "stdout",
          "text": [
            "\n",
            "      Epoch    GPU_mem   box_loss   cls_loss   dfl_loss  Instances       Size\n"
          ]
        },
        {
          "output_type": "stream",
          "name": "stderr",
          "text": [
            "      10/50      3.29G      1.145     0.6022     0.8516        556        640: 100%|██████████| 150/150 [00:18<00:00,  8.31it/s]\n",
            "                 Class     Images  Instances      Box(P          R      mAP50  mAP50-95): 100%|██████████| 19/19 [00:02<00:00,  6.51it/s]"
          ]
        },
        {
          "output_type": "stream",
          "name": "stdout",
          "text": [
            "                   all        600      14752      0.937       0.94       0.98      0.734\n"
          ]
        },
        {
          "output_type": "stream",
          "name": "stderr",
          "text": [
            "\n"
          ]
        },
        {
          "output_type": "stream",
          "name": "stdout",
          "text": [
            "\n",
            "      Epoch    GPU_mem   box_loss   cls_loss   dfl_loss  Instances       Size\n"
          ]
        },
        {
          "output_type": "stream",
          "name": "stderr",
          "text": [
            "      11/50      3.26G      1.135     0.5952       0.85        521        640: 100%|██████████| 150/150 [00:18<00:00,  8.25it/s]\n",
            "                 Class     Images  Instances      Box(P          R      mAP50  mAP50-95): 100%|██████████| 19/19 [00:02<00:00,  6.80it/s]"
          ]
        },
        {
          "output_type": "stream",
          "name": "stdout",
          "text": [
            "                   all        600      14752      0.933       0.93      0.976      0.741\n"
          ]
        },
        {
          "output_type": "stream",
          "name": "stderr",
          "text": [
            "\n"
          ]
        },
        {
          "output_type": "stream",
          "name": "stdout",
          "text": [
            "\n",
            "      Epoch    GPU_mem   box_loss   cls_loss   dfl_loss  Instances       Size\n"
          ]
        },
        {
          "output_type": "stream",
          "name": "stderr",
          "text": [
            "      12/50      3.25G      1.111     0.5788     0.8469        584        640: 100%|██████████| 150/150 [00:18<00:00,  8.29it/s]\n",
            "                 Class     Images  Instances      Box(P          R      mAP50  mAP50-95): 100%|██████████| 19/19 [00:02<00:00,  6.83it/s]"
          ]
        },
        {
          "output_type": "stream",
          "name": "stdout",
          "text": [
            "                   all        600      14752      0.928      0.915      0.971      0.751\n"
          ]
        },
        {
          "output_type": "stream",
          "name": "stderr",
          "text": [
            "\n"
          ]
        },
        {
          "output_type": "stream",
          "name": "stdout",
          "text": [
            "\n",
            "      Epoch    GPU_mem   box_loss   cls_loss   dfl_loss  Instances       Size\n"
          ]
        },
        {
          "output_type": "stream",
          "name": "stderr",
          "text": [
            "      13/50      3.98G       1.08     0.5609     0.8429        428        640: 100%|██████████| 150/150 [00:18<00:00,  8.27it/s]\n",
            "                 Class     Images  Instances      Box(P          R      mAP50  mAP50-95): 100%|██████████| 19/19 [00:03<00:00,  6.21it/s]"
          ]
        },
        {
          "output_type": "stream",
          "name": "stdout",
          "text": [
            "                   all        600      14752      0.954      0.942      0.981      0.752\n"
          ]
        },
        {
          "output_type": "stream",
          "name": "stderr",
          "text": [
            "\n"
          ]
        },
        {
          "output_type": "stream",
          "name": "stdout",
          "text": [
            "\n",
            "      Epoch    GPU_mem   box_loss   cls_loss   dfl_loss  Instances       Size\n"
          ]
        },
        {
          "output_type": "stream",
          "name": "stderr",
          "text": [
            "      14/50      4.34G      1.072     0.5565     0.8416        605        640: 100%|██████████| 150/150 [00:18<00:00,  8.20it/s]\n",
            "                 Class     Images  Instances      Box(P          R      mAP50  mAP50-95): 100%|██████████| 19/19 [00:02<00:00,  6.75it/s]"
          ]
        },
        {
          "output_type": "stream",
          "name": "stdout",
          "text": [
            "                   all        600      14752      0.954       0.95      0.984      0.759\n"
          ]
        },
        {
          "output_type": "stream",
          "name": "stderr",
          "text": [
            "\n"
          ]
        },
        {
          "output_type": "stream",
          "name": "stdout",
          "text": [
            "\n",
            "      Epoch    GPU_mem   box_loss   cls_loss   dfl_loss  Instances       Size\n"
          ]
        },
        {
          "output_type": "stream",
          "name": "stderr",
          "text": [
            "      15/50      3.25G      1.058     0.5464     0.8385        816        640: 100%|██████████| 150/150 [00:18<00:00,  8.21it/s]\n",
            "                 Class     Images  Instances      Box(P          R      mAP50  mAP50-95): 100%|██████████| 19/19 [00:02<00:00,  6.79it/s]"
          ]
        },
        {
          "output_type": "stream",
          "name": "stdout",
          "text": [
            "                   all        600      14752      0.958      0.946      0.983      0.764\n"
          ]
        },
        {
          "output_type": "stream",
          "name": "stderr",
          "text": [
            "\n"
          ]
        },
        {
          "output_type": "stream",
          "name": "stdout",
          "text": [
            "\n",
            "      Epoch    GPU_mem   box_loss   cls_loss   dfl_loss  Instances       Size\n"
          ]
        },
        {
          "output_type": "stream",
          "name": "stderr",
          "text": [
            "      16/50      3.34G      1.052     0.5478     0.8383        390        640: 100%|██████████| 150/150 [00:18<00:00,  8.21it/s]\n",
            "                 Class     Images  Instances      Box(P          R      mAP50  mAP50-95): 100%|██████████| 19/19 [00:02<00:00,  6.62it/s]"
          ]
        },
        {
          "output_type": "stream",
          "name": "stdout",
          "text": [
            "                   all        600      14752      0.936      0.944       0.98      0.766\n"
          ]
        },
        {
          "output_type": "stream",
          "name": "stderr",
          "text": [
            "\n"
          ]
        },
        {
          "output_type": "stream",
          "name": "stdout",
          "text": [
            "\n",
            "      Epoch    GPU_mem   box_loss   cls_loss   dfl_loss  Instances       Size\n"
          ]
        },
        {
          "output_type": "stream",
          "name": "stderr",
          "text": [
            "      17/50      4.21G      1.047     0.5404     0.8372        619        640: 100%|██████████| 150/150 [00:17<00:00,  8.34it/s]\n",
            "                 Class     Images  Instances      Box(P          R      mAP50  mAP50-95): 100%|██████████| 19/19 [00:02<00:00,  6.46it/s]"
          ]
        },
        {
          "output_type": "stream",
          "name": "stdout",
          "text": [
            "                   all        600      14752      0.971      0.952      0.986      0.756\n"
          ]
        },
        {
          "output_type": "stream",
          "name": "stderr",
          "text": [
            "\n"
          ]
        },
        {
          "output_type": "stream",
          "name": "stdout",
          "text": [
            "\n",
            "      Epoch    GPU_mem   box_loss   cls_loss   dfl_loss  Instances       Size\n"
          ]
        },
        {
          "output_type": "stream",
          "name": "stderr",
          "text": [
            "      18/50      2.85G      1.024     0.5252      0.835        574        640: 100%|██████████| 150/150 [00:18<00:00,  8.28it/s]\n",
            "                 Class     Images  Instances      Box(P          R      mAP50  mAP50-95): 100%|██████████| 19/19 [00:02<00:00,  6.89it/s]"
          ]
        },
        {
          "output_type": "stream",
          "name": "stdout",
          "text": [
            "                   all        600      14752      0.938      0.947      0.982      0.781\n"
          ]
        },
        {
          "output_type": "stream",
          "name": "stderr",
          "text": [
            "\n"
          ]
        },
        {
          "output_type": "stream",
          "name": "stdout",
          "text": [
            "\n",
            "      Epoch    GPU_mem   box_loss   cls_loss   dfl_loss  Instances       Size\n"
          ]
        },
        {
          "output_type": "stream",
          "name": "stderr",
          "text": [
            "      19/50      4.35G       1.02     0.5269     0.8328        688        640: 100%|██████████| 150/150 [00:18<00:00,  8.27it/s]\n",
            "                 Class     Images  Instances      Box(P          R      mAP50  mAP50-95): 100%|██████████| 19/19 [00:02<00:00,  6.54it/s]"
          ]
        },
        {
          "output_type": "stream",
          "name": "stdout",
          "text": [
            "                   all        600      14752      0.953      0.947      0.984      0.777\n"
          ]
        },
        {
          "output_type": "stream",
          "name": "stderr",
          "text": [
            "\n"
          ]
        },
        {
          "output_type": "stream",
          "name": "stdout",
          "text": [
            "\n",
            "      Epoch    GPU_mem   box_loss   cls_loss   dfl_loss  Instances       Size\n"
          ]
        },
        {
          "output_type": "stream",
          "name": "stderr",
          "text": [
            "      20/50      3.31G      1.005     0.5167     0.8316        678        640: 100%|██████████| 150/150 [00:18<00:00,  8.21it/s]\n",
            "                 Class     Images  Instances      Box(P          R      mAP50  mAP50-95): 100%|██████████| 19/19 [00:02<00:00,  6.74it/s]"
          ]
        },
        {
          "output_type": "stream",
          "name": "stdout",
          "text": [
            "                   all        600      14752      0.957      0.953      0.985      0.794\n"
          ]
        },
        {
          "output_type": "stream",
          "name": "stderr",
          "text": [
            "\n"
          ]
        },
        {
          "output_type": "stream",
          "name": "stdout",
          "text": [
            "\n",
            "      Epoch    GPU_mem   box_loss   cls_loss   dfl_loss  Instances       Size\n"
          ]
        },
        {
          "output_type": "stream",
          "name": "stderr",
          "text": [
            "      21/50      3.99G     0.9938     0.5111     0.8288        584        640: 100%|██████████| 150/150 [00:18<00:00,  8.29it/s]\n",
            "                 Class     Images  Instances      Box(P          R      mAP50  mAP50-95): 100%|██████████| 19/19 [00:02<00:00,  6.96it/s]"
          ]
        },
        {
          "output_type": "stream",
          "name": "stdout",
          "text": [
            "                   all        600      14752      0.961      0.966      0.986       0.78\n"
          ]
        },
        {
          "output_type": "stream",
          "name": "stderr",
          "text": [
            "\n"
          ]
        },
        {
          "output_type": "stream",
          "name": "stdout",
          "text": [
            "\n",
            "      Epoch    GPU_mem   box_loss   cls_loss   dfl_loss  Instances       Size\n"
          ]
        },
        {
          "output_type": "stream",
          "name": "stderr",
          "text": [
            "      22/50      3.37G     0.9814     0.5071     0.8283        576        640: 100%|██████████| 150/150 [00:18<00:00,  8.21it/s]\n",
            "                 Class     Images  Instances      Box(P          R      mAP50  mAP50-95): 100%|██████████| 19/19 [00:02<00:00,  6.95it/s]"
          ]
        },
        {
          "output_type": "stream",
          "name": "stdout",
          "text": [
            "                   all        600      14752      0.976      0.946      0.987      0.787\n"
          ]
        },
        {
          "output_type": "stream",
          "name": "stderr",
          "text": [
            "\n"
          ]
        },
        {
          "output_type": "stream",
          "name": "stdout",
          "text": [
            "\n",
            "      Epoch    GPU_mem   box_loss   cls_loss   dfl_loss  Instances       Size\n"
          ]
        },
        {
          "output_type": "stream",
          "name": "stderr",
          "text": [
            "      23/50      3.43G     0.9763     0.5038     0.8279        530        640: 100%|██████████| 150/150 [00:18<00:00,  8.23it/s]\n",
            "                 Class     Images  Instances      Box(P          R      mAP50  mAP50-95): 100%|██████████| 19/19 [00:02<00:00,  6.42it/s]"
          ]
        },
        {
          "output_type": "stream",
          "name": "stdout",
          "text": [
            "                   all        600      14752      0.964      0.961      0.986      0.788\n"
          ]
        },
        {
          "output_type": "stream",
          "name": "stderr",
          "text": [
            "\n"
          ]
        },
        {
          "output_type": "stream",
          "name": "stdout",
          "text": [
            "\n",
            "      Epoch    GPU_mem   box_loss   cls_loss   dfl_loss  Instances       Size\n"
          ]
        },
        {
          "output_type": "stream",
          "name": "stderr",
          "text": [
            "      24/50      4.58G     0.9788     0.5032     0.8277        638        640: 100%|██████████| 150/150 [00:18<00:00,  8.15it/s]\n",
            "                 Class     Images  Instances      Box(P          R      mAP50  mAP50-95): 100%|██████████| 19/19 [00:02<00:00,  6.71it/s]"
          ]
        },
        {
          "output_type": "stream",
          "name": "stdout",
          "text": [
            "                   all        600      14752      0.969      0.961      0.989      0.792\n"
          ]
        },
        {
          "output_type": "stream",
          "name": "stderr",
          "text": [
            "\n"
          ]
        },
        {
          "output_type": "stream",
          "name": "stdout",
          "text": [
            "\n",
            "      Epoch    GPU_mem   box_loss   cls_loss   dfl_loss  Instances       Size\n"
          ]
        },
        {
          "output_type": "stream",
          "name": "stderr",
          "text": [
            "      25/50      3.61G     0.9575     0.4925     0.8272        547        640: 100%|██████████| 150/150 [00:18<00:00,  8.18it/s]\n",
            "                 Class     Images  Instances      Box(P          R      mAP50  mAP50-95): 100%|██████████| 19/19 [00:02<00:00,  6.81it/s]"
          ]
        },
        {
          "output_type": "stream",
          "name": "stdout",
          "text": [
            "                   all        600      14752      0.969       0.97      0.989      0.796\n"
          ]
        },
        {
          "output_type": "stream",
          "name": "stderr",
          "text": [
            "\n"
          ]
        },
        {
          "output_type": "stream",
          "name": "stdout",
          "text": [
            "\n",
            "      Epoch    GPU_mem   box_loss   cls_loss   dfl_loss  Instances       Size\n"
          ]
        },
        {
          "output_type": "stream",
          "name": "stderr",
          "text": [
            "      26/50      4.11G     0.9491     0.4868     0.8234        578        640: 100%|██████████| 150/150 [00:18<00:00,  8.18it/s]\n",
            "                 Class     Images  Instances      Box(P          R      mAP50  mAP50-95): 100%|██████████| 19/19 [00:03<00:00,  6.33it/s]"
          ]
        },
        {
          "output_type": "stream",
          "name": "stdout",
          "text": [
            "                   all        600      14752      0.965      0.955      0.987      0.801\n"
          ]
        },
        {
          "output_type": "stream",
          "name": "stderr",
          "text": [
            "\n"
          ]
        },
        {
          "output_type": "stream",
          "name": "stdout",
          "text": [
            "\n",
            "      Epoch    GPU_mem   box_loss   cls_loss   dfl_loss  Instances       Size\n"
          ]
        },
        {
          "output_type": "stream",
          "name": "stderr",
          "text": [
            "      27/50      3.51G     0.9442     0.4876     0.8234        518        640: 100%|██████████| 150/150 [00:18<00:00,  8.20it/s]\n",
            "                 Class     Images  Instances      Box(P          R      mAP50  mAP50-95): 100%|██████████| 19/19 [00:02<00:00,  6.70it/s]"
          ]
        },
        {
          "output_type": "stream",
          "name": "stdout",
          "text": [
            "                   all        600      14752      0.971      0.963      0.989      0.801\n"
          ]
        },
        {
          "output_type": "stream",
          "name": "stderr",
          "text": [
            "\n"
          ]
        },
        {
          "output_type": "stream",
          "name": "stdout",
          "text": [
            "\n",
            "      Epoch    GPU_mem   box_loss   cls_loss   dfl_loss  Instances       Size\n"
          ]
        },
        {
          "output_type": "stream",
          "name": "stderr",
          "text": [
            "      28/50       4.5G     0.9236     0.4761     0.8207        741        640: 100%|██████████| 150/150 [00:18<00:00,  8.22it/s]\n",
            "                 Class     Images  Instances      Box(P          R      mAP50  mAP50-95): 100%|██████████| 19/19 [00:02<00:00,  7.11it/s]"
          ]
        },
        {
          "output_type": "stream",
          "name": "stdout",
          "text": [
            "                   all        600      14752      0.972      0.968       0.99      0.809\n"
          ]
        },
        {
          "output_type": "stream",
          "name": "stderr",
          "text": [
            "\n"
          ]
        },
        {
          "output_type": "stream",
          "name": "stdout",
          "text": [
            "\n",
            "      Epoch    GPU_mem   box_loss   cls_loss   dfl_loss  Instances       Size\n"
          ]
        },
        {
          "output_type": "stream",
          "name": "stderr",
          "text": [
            "      29/50       3.2G     0.9185     0.4705     0.8208        805        640: 100%|██████████| 150/150 [00:18<00:00,  8.20it/s]\n",
            "                 Class     Images  Instances      Box(P          R      mAP50  mAP50-95): 100%|██████████| 19/19 [00:02<00:00,  6.84it/s]"
          ]
        },
        {
          "output_type": "stream",
          "name": "stdout",
          "text": [
            "                   all        600      14752      0.974      0.961       0.99      0.814\n"
          ]
        },
        {
          "output_type": "stream",
          "name": "stderr",
          "text": [
            "\n"
          ]
        },
        {
          "output_type": "stream",
          "name": "stdout",
          "text": [
            "\n",
            "      Epoch    GPU_mem   box_loss   cls_loss   dfl_loss  Instances       Size\n"
          ]
        },
        {
          "output_type": "stream",
          "name": "stderr",
          "text": [
            "      30/50       3.5G     0.9259     0.4731     0.8204        687        640: 100%|██████████| 150/150 [00:18<00:00,  8.19it/s]\n",
            "                 Class     Images  Instances      Box(P          R      mAP50  mAP50-95): 100%|██████████| 19/19 [00:02<00:00,  6.45it/s]"
          ]
        },
        {
          "output_type": "stream",
          "name": "stdout",
          "text": [
            "                   all        600      14752      0.967      0.966      0.989      0.814\n"
          ]
        },
        {
          "output_type": "stream",
          "name": "stderr",
          "text": [
            "\n"
          ]
        },
        {
          "output_type": "stream",
          "name": "stdout",
          "text": [
            "\n",
            "      Epoch    GPU_mem   box_loss   cls_loss   dfl_loss  Instances       Size\n"
          ]
        },
        {
          "output_type": "stream",
          "name": "stderr",
          "text": [
            "      31/50      3.33G     0.8998      0.464     0.8189        539        640: 100%|██████████| 150/150 [00:18<00:00,  8.31it/s]\n",
            "                 Class     Images  Instances      Box(P          R      mAP50  mAP50-95): 100%|██████████| 19/19 [00:02<00:00,  6.71it/s]"
          ]
        },
        {
          "output_type": "stream",
          "name": "stdout",
          "text": [
            "                   all        600      14752      0.974       0.96       0.99      0.815\n"
          ]
        },
        {
          "output_type": "stream",
          "name": "stderr",
          "text": [
            "\n"
          ]
        },
        {
          "output_type": "stream",
          "name": "stdout",
          "text": [
            "\n",
            "      Epoch    GPU_mem   box_loss   cls_loss   dfl_loss  Instances       Size\n"
          ]
        },
        {
          "output_type": "stream",
          "name": "stderr",
          "text": [
            "      32/50      3.41G      0.916     0.4731     0.8206        569        640: 100%|██████████| 150/150 [00:18<00:00,  8.26it/s]\n",
            "                 Class     Images  Instances      Box(P          R      mAP50  mAP50-95): 100%|██████████| 19/19 [00:02<00:00,  6.94it/s]"
          ]
        },
        {
          "output_type": "stream",
          "name": "stdout",
          "text": [
            "                   all        600      14752      0.977      0.963      0.989      0.816\n"
          ]
        },
        {
          "output_type": "stream",
          "name": "stderr",
          "text": [
            "\n"
          ]
        },
        {
          "output_type": "stream",
          "name": "stdout",
          "text": [
            "\n",
            "      Epoch    GPU_mem   box_loss   cls_loss   dfl_loss  Instances       Size\n"
          ]
        },
        {
          "output_type": "stream",
          "name": "stderr",
          "text": [
            "      33/50      3.55G      0.898     0.4618     0.8185        580        640: 100%|██████████| 150/150 [00:18<00:00,  8.24it/s]\n",
            "                 Class     Images  Instances      Box(P          R      mAP50  mAP50-95): 100%|██████████| 19/19 [00:02<00:00,  6.39it/s]"
          ]
        },
        {
          "output_type": "stream",
          "name": "stdout",
          "text": [
            "                   all        600      14752      0.963      0.972      0.991      0.817\n"
          ]
        },
        {
          "output_type": "stream",
          "name": "stderr",
          "text": [
            "\n"
          ]
        },
        {
          "output_type": "stream",
          "name": "stdout",
          "text": [
            "\n",
            "      Epoch    GPU_mem   box_loss   cls_loss   dfl_loss  Instances       Size\n"
          ]
        },
        {
          "output_type": "stream",
          "name": "stderr",
          "text": [
            "      34/50      4.43G      0.892     0.4586     0.8162        625        640: 100%|██████████| 150/150 [00:18<00:00,  8.25it/s]\n",
            "                 Class     Images  Instances      Box(P          R      mAP50  mAP50-95): 100%|██████████| 19/19 [00:02<00:00,  7.09it/s]"
          ]
        },
        {
          "output_type": "stream",
          "name": "stdout",
          "text": [
            "                   all        600      14752      0.978      0.964      0.991      0.817\n"
          ]
        },
        {
          "output_type": "stream",
          "name": "stderr",
          "text": [
            "\n"
          ]
        },
        {
          "output_type": "stream",
          "name": "stdout",
          "text": [
            "\n",
            "      Epoch    GPU_mem   box_loss   cls_loss   dfl_loss  Instances       Size\n"
          ]
        },
        {
          "output_type": "stream",
          "name": "stderr",
          "text": [
            "      35/50      3.78G     0.8787     0.4544     0.8151        576        640: 100%|██████████| 150/150 [00:18<00:00,  8.23it/s]\n",
            "                 Class     Images  Instances      Box(P          R      mAP50  mAP50-95): 100%|██████████| 19/19 [00:02<00:00,  6.97it/s]"
          ]
        },
        {
          "output_type": "stream",
          "name": "stdout",
          "text": [
            "                   all        600      14752      0.969      0.963      0.989      0.819\n"
          ]
        },
        {
          "output_type": "stream",
          "name": "stderr",
          "text": [
            "\n"
          ]
        },
        {
          "output_type": "stream",
          "name": "stdout",
          "text": [
            "\n",
            "      Epoch    GPU_mem   box_loss   cls_loss   dfl_loss  Instances       Size\n"
          ]
        },
        {
          "output_type": "stream",
          "name": "stderr",
          "text": [
            "      36/50      3.64G     0.8798     0.4515     0.8152        592        640: 100%|██████████| 150/150 [00:18<00:00,  8.23it/s]\n",
            "                 Class     Images  Instances      Box(P          R      mAP50  mAP50-95): 100%|██████████| 19/19 [00:02<00:00,  6.51it/s]"
          ]
        },
        {
          "output_type": "stream",
          "name": "stdout",
          "text": [
            "                   all        600      14752      0.975      0.971      0.991       0.83\n"
          ]
        },
        {
          "output_type": "stream",
          "name": "stderr",
          "text": [
            "\n"
          ]
        },
        {
          "output_type": "stream",
          "name": "stdout",
          "text": [
            "\n",
            "      Epoch    GPU_mem   box_loss   cls_loss   dfl_loss  Instances       Size\n"
          ]
        },
        {
          "output_type": "stream",
          "name": "stderr",
          "text": [
            "      37/50      3.22G     0.8677     0.4481     0.8144        776        640: 100%|██████████| 150/150 [00:18<00:00,  8.26it/s]\n",
            "                 Class     Images  Instances      Box(P          R      mAP50  mAP50-95): 100%|██████████| 19/19 [00:02<00:00,  6.86it/s]"
          ]
        },
        {
          "output_type": "stream",
          "name": "stdout",
          "text": [
            "                   all        600      14752      0.978      0.976      0.992      0.824\n"
          ]
        },
        {
          "output_type": "stream",
          "name": "stderr",
          "text": [
            "\n"
          ]
        },
        {
          "output_type": "stream",
          "name": "stdout",
          "text": [
            "\n",
            "      Epoch    GPU_mem   box_loss   cls_loss   dfl_loss  Instances       Size\n"
          ]
        },
        {
          "output_type": "stream",
          "name": "stderr",
          "text": [
            "      38/50      4.12G     0.8689     0.4466     0.8129        485        640: 100%|██████████| 150/150 [00:18<00:00,  8.28it/s]\n",
            "                 Class     Images  Instances      Box(P          R      mAP50  mAP50-95): 100%|██████████| 19/19 [00:02<00:00,  6.85it/s]"
          ]
        },
        {
          "output_type": "stream",
          "name": "stdout",
          "text": [
            "                   all        600      14752       0.98      0.971      0.992      0.827\n"
          ]
        },
        {
          "output_type": "stream",
          "name": "stderr",
          "text": [
            "\n"
          ]
        },
        {
          "output_type": "stream",
          "name": "stdout",
          "text": [
            "\n",
            "      Epoch    GPU_mem   box_loss   cls_loss   dfl_loss  Instances       Size\n"
          ]
        },
        {
          "output_type": "stream",
          "name": "stderr",
          "text": [
            "      39/50      3.57G     0.8618      0.444     0.8132        591        640: 100%|██████████| 150/150 [00:18<00:00,  8.23it/s]\n",
            "                 Class     Images  Instances      Box(P          R      mAP50  mAP50-95): 100%|██████████| 19/19 [00:02<00:00,  6.45it/s]"
          ]
        },
        {
          "output_type": "stream",
          "name": "stdout",
          "text": [
            "                   all        600      14752      0.981      0.968      0.992      0.831\n"
          ]
        },
        {
          "output_type": "stream",
          "name": "stderr",
          "text": [
            "\n"
          ]
        },
        {
          "output_type": "stream",
          "name": "stdout",
          "text": [
            "\n",
            "      Epoch    GPU_mem   box_loss   cls_loss   dfl_loss  Instances       Size\n"
          ]
        },
        {
          "output_type": "stream",
          "name": "stderr",
          "text": [
            "      40/50      4.61G      0.853     0.4382     0.8111        536        640: 100%|██████████| 150/150 [00:18<00:00,  8.21it/s]\n",
            "                 Class     Images  Instances      Box(P          R      mAP50  mAP50-95): 100%|██████████| 19/19 [00:02<00:00,  6.72it/s]"
          ]
        },
        {
          "output_type": "stream",
          "name": "stdout",
          "text": [
            "                   all        600      14752      0.974      0.976      0.991      0.832\n"
          ]
        },
        {
          "output_type": "stream",
          "name": "stderr",
          "text": [
            "\n"
          ]
        },
        {
          "output_type": "stream",
          "name": "stdout",
          "text": [
            "Closing dataloader mosaic\n",
            "\u001b[34m\u001b[1malbumentations: \u001b[0mBlur(p=0.01, blur_limit=(3, 7)), MedianBlur(p=0.01, blur_limit=(3, 7)), ToGray(p=0.01, num_output_channels=3, method='weighted_average'), CLAHE(p=0.01, clip_limit=(1.0, 4.0), tile_grid_size=(8, 8))\n",
            "\n",
            "      Epoch    GPU_mem   box_loss   cls_loss   dfl_loss  Instances       Size\n"
          ]
        },
        {
          "output_type": "stream",
          "name": "stderr",
          "text": [
            "      41/50      2.47G     0.8284      0.427     0.8084        279        640: 100%|██████████| 150/150 [00:17<00:00,  8.58it/s]\n",
            "                 Class     Images  Instances      Box(P          R      mAP50  mAP50-95): 100%|██████████| 19/19 [00:02<00:00,  6.71it/s]"
          ]
        },
        {
          "output_type": "stream",
          "name": "stdout",
          "text": [
            "                   all        600      14752       0.98       0.97      0.991      0.834\n"
          ]
        },
        {
          "output_type": "stream",
          "name": "stderr",
          "text": [
            "\n"
          ]
        },
        {
          "output_type": "stream",
          "name": "stdout",
          "text": [
            "\n",
            "      Epoch    GPU_mem   box_loss   cls_loss   dfl_loss  Instances       Size\n"
          ]
        },
        {
          "output_type": "stream",
          "name": "stderr",
          "text": [
            "      42/50       2.3G     0.8132     0.4184     0.8065        347        640: 100%|██████████| 150/150 [00:16<00:00,  9.04it/s]\n",
            "                 Class     Images  Instances      Box(P          R      mAP50  mAP50-95): 100%|██████████| 19/19 [00:02<00:00,  6.55it/s]"
          ]
        },
        {
          "output_type": "stream",
          "name": "stdout",
          "text": [
            "                   all        600      14752      0.967      0.974      0.991      0.831\n"
          ]
        },
        {
          "output_type": "stream",
          "name": "stderr",
          "text": [
            "\n"
          ]
        },
        {
          "output_type": "stream",
          "name": "stdout",
          "text": [
            "\n",
            "      Epoch    GPU_mem   box_loss   cls_loss   dfl_loss  Instances       Size\n"
          ]
        },
        {
          "output_type": "stream",
          "name": "stderr",
          "text": [
            "      43/50      2.29G     0.8003     0.4131     0.8061        354        640: 100%|██████████| 150/150 [00:16<00:00,  9.24it/s]\n",
            "                 Class     Images  Instances      Box(P          R      mAP50  mAP50-95): 100%|██████████| 19/19 [00:02<00:00,  6.87it/s]"
          ]
        },
        {
          "output_type": "stream",
          "name": "stdout",
          "text": [
            "                   all        600      14752      0.979       0.97      0.991      0.836\n"
          ]
        },
        {
          "output_type": "stream",
          "name": "stderr",
          "text": [
            "\n"
          ]
        },
        {
          "output_type": "stream",
          "name": "stdout",
          "text": [
            "\n",
            "      Epoch    GPU_mem   box_loss   cls_loss   dfl_loss  Instances       Size\n"
          ]
        },
        {
          "output_type": "stream",
          "name": "stderr",
          "text": [
            "      44/50      2.29G     0.7843     0.4061     0.8039        319        640: 100%|██████████| 150/150 [00:16<00:00,  9.05it/s]\n",
            "                 Class     Images  Instances      Box(P          R      mAP50  mAP50-95): 100%|██████████| 19/19 [00:02<00:00,  6.75it/s]"
          ]
        },
        {
          "output_type": "stream",
          "name": "stdout",
          "text": [
            "                   all        600      14752      0.967      0.975      0.991      0.837\n"
          ]
        },
        {
          "output_type": "stream",
          "name": "stderr",
          "text": [
            "\n"
          ]
        },
        {
          "output_type": "stream",
          "name": "stdout",
          "text": [
            "\n",
            "      Epoch    GPU_mem   box_loss   cls_loss   dfl_loss  Instances       Size\n"
          ]
        },
        {
          "output_type": "stream",
          "name": "stderr",
          "text": [
            "      45/50      2.35G     0.7807     0.4029      0.802        292        640: 100%|██████████| 150/150 [00:16<00:00,  9.29it/s]\n",
            "                 Class     Images  Instances      Box(P          R      mAP50  mAP50-95): 100%|██████████| 19/19 [00:02<00:00,  6.81it/s]"
          ]
        },
        {
          "output_type": "stream",
          "name": "stdout",
          "text": [
            "                   all        600      14752      0.977      0.974      0.992      0.842\n"
          ]
        },
        {
          "output_type": "stream",
          "name": "stderr",
          "text": [
            "\n"
          ]
        },
        {
          "output_type": "stream",
          "name": "stdout",
          "text": [
            "\n",
            "      Epoch    GPU_mem   box_loss   cls_loss   dfl_loss  Instances       Size\n"
          ]
        },
        {
          "output_type": "stream",
          "name": "stderr",
          "text": [
            "      46/50      2.26G     0.7724     0.4009      0.804        371        640: 100%|██████████| 150/150 [00:16<00:00,  9.12it/s]\n",
            "                 Class     Images  Instances      Box(P          R      mAP50  mAP50-95): 100%|██████████| 19/19 [00:02<00:00,  6.81it/s]"
          ]
        },
        {
          "output_type": "stream",
          "name": "stdout",
          "text": [
            "                   all        600      14752      0.974      0.977      0.992      0.843\n"
          ]
        },
        {
          "output_type": "stream",
          "name": "stderr",
          "text": [
            "\n"
          ]
        },
        {
          "output_type": "stream",
          "name": "stdout",
          "text": [
            "\n",
            "      Epoch    GPU_mem   box_loss   cls_loss   dfl_loss  Instances       Size\n"
          ]
        },
        {
          "output_type": "stream",
          "name": "stderr",
          "text": [
            "      47/50      2.34G     0.7676     0.3974     0.8028        278        640: 100%|██████████| 150/150 [00:16<00:00,  9.25it/s]\n",
            "                 Class     Images  Instances      Box(P          R      mAP50  mAP50-95): 100%|██████████| 19/19 [00:02<00:00,  6.52it/s]"
          ]
        },
        {
          "output_type": "stream",
          "name": "stdout",
          "text": [
            "                   all        600      14752      0.977      0.978      0.992      0.847\n"
          ]
        },
        {
          "output_type": "stream",
          "name": "stderr",
          "text": [
            "\n"
          ]
        },
        {
          "output_type": "stream",
          "name": "stdout",
          "text": [
            "\n",
            "      Epoch    GPU_mem   box_loss   cls_loss   dfl_loss  Instances       Size\n"
          ]
        },
        {
          "output_type": "stream",
          "name": "stderr",
          "text": [
            "      48/50       2.2G     0.7519     0.3923     0.8001        314        640: 100%|██████████| 150/150 [00:16<00:00,  9.24it/s]\n",
            "                 Class     Images  Instances      Box(P          R      mAP50  mAP50-95): 100%|██████████| 19/19 [00:02<00:00,  6.74it/s]"
          ]
        },
        {
          "output_type": "stream",
          "name": "stdout",
          "text": [
            "                   all        600      14752       0.98      0.978      0.992      0.844\n"
          ]
        },
        {
          "output_type": "stream",
          "name": "stderr",
          "text": [
            "\n"
          ]
        },
        {
          "output_type": "stream",
          "name": "stdout",
          "text": [
            "\n",
            "      Epoch    GPU_mem   box_loss   cls_loss   dfl_loss  Instances       Size\n"
          ]
        },
        {
          "output_type": "stream",
          "name": "stderr",
          "text": [
            "      49/50      2.38G     0.7461     0.3874     0.7997        221        640: 100%|██████████| 150/150 [00:16<00:00,  9.28it/s]\n",
            "                 Class     Images  Instances      Box(P          R      mAP50  mAP50-95): 100%|██████████| 19/19 [00:03<00:00,  6.31it/s]"
          ]
        },
        {
          "output_type": "stream",
          "name": "stdout",
          "text": [
            "                   all        600      14752      0.974      0.983      0.992      0.848\n"
          ]
        },
        {
          "output_type": "stream",
          "name": "stderr",
          "text": [
            "\n"
          ]
        },
        {
          "output_type": "stream",
          "name": "stdout",
          "text": [
            "\n",
            "      Epoch    GPU_mem   box_loss   cls_loss   dfl_loss  Instances       Size\n"
          ]
        },
        {
          "output_type": "stream",
          "name": "stderr",
          "text": [
            "      50/50      2.38G     0.7405     0.3871     0.7989        316        640: 100%|██████████| 150/150 [00:16<00:00,  9.19it/s]\n",
            "                 Class     Images  Instances      Box(P          R      mAP50  mAP50-95): 100%|██████████| 19/19 [00:02<00:00,  6.62it/s]"
          ]
        },
        {
          "output_type": "stream",
          "name": "stdout",
          "text": [
            "                   all        600      14752       0.98       0.98      0.992      0.851\n"
          ]
        },
        {
          "output_type": "stream",
          "name": "stderr",
          "text": [
            "\n"
          ]
        },
        {
          "output_type": "stream",
          "name": "stdout",
          "text": [
            "\n",
            "50 epochs completed in 0.300 hours.\n",
            "Optimizer stripped from /content/drive/MyDrive/fog_weather_object_detection/yolov8_fog_weather/weights/last.pt, 6.2MB\n",
            "Optimizer stripped from /content/drive/MyDrive/fog_weather_object_detection/yolov8_fog_weather/weights/best.pt, 6.2MB\n",
            "\n",
            "Validating /content/drive/MyDrive/fog_weather_object_detection/yolov8_fog_weather/weights/best.pt...\n",
            "Ultralytics 8.3.79 🚀 Python-3.11.11 torch-2.5.1+cu124 CUDA:0 (NVIDIA L4, 22693MiB)\n",
            "Model summary (fused): 72 layers, 3,006,428 parameters, 0 gradients, 8.1 GFLOPs\n"
          ]
        },
        {
          "output_type": "stream",
          "name": "stderr",
          "text": [
            "                 Class     Images  Instances      Box(P          R      mAP50  mAP50-95): 100%|██████████| 19/19 [00:05<00:00,  3.18it/s]\n"
          ]
        },
        {
          "output_type": "stream",
          "name": "stdout",
          "text": [
            "                   all        600      14752       0.98       0.98      0.992       0.85\n",
            "                   car        600      13988      0.972      0.954       0.99      0.782\n",
            "                 truck        312        597      0.975      0.985      0.993      0.821\n",
            "                   bus         96        167      0.994          1      0.995      0.948\n",
            "Speed: 0.1ms preprocess, 0.5ms inference, 0.0ms loss, 1.0ms postprocess per image\n",
            "Results saved to \u001b[1m/content/drive/MyDrive/fog_weather_object_detection/yolov8_fog_weather\u001b[0m\n"
          ]
        }
      ]
    },
    {
      "cell_type": "code",
      "source": [
        "#!pip install ultralytics\n",
        "import torch\n",
        "from pathlib import Path\n",
        "from ultralytics import YOLO\n",
        "import os\n",
        "import matplotlib.pyplot as plt\n",
        "\n",
        "model_path = \"/content/drive/MyDrive/fog_weather_object_detection/yolov8_fog_weather/weights/best.pt\"\n",
        "model = YOLO(model_path)\n",
        "\n",
        "test_images_path = \"/content/drive/MyDrive/fog_weather_object_detection/fog_object_detection/images/val\"\n",
        "test_annotations_path = \"/content/drive/MyDrive/fog_weather_object_detection/fog_object_detection/labels/val\"\n",
        "\n",
        "results = model.predict(source=test_images_path, conf=0.54, iou=0.3, save=True, stream=True, save_dir=\"/content/drive/MyDrive/fog_weather_object_detection/test_results\")\n",
        "\n",
        "all_results = list(results)"
      ],
      "metadata": {
        "colab": {
          "base_uri": "https://localhost:8080/"
        },
        "id": "-sKzxP-ye_fV",
        "outputId": "5918a2e2-964d-4964-81c1-d01c6d172d30"
      },
      "execution_count": 35,
      "outputs": [
        {
          "output_type": "stream",
          "name": "stdout",
          "text": [
            "\n",
            "image 1/600 /content/drive/MyDrive/fog_weather_object_detection/fog_object_detection/images/val/M0501_img000002.jpg: 352x640 12 cars, 10.9ms\n",
            "image 2/600 /content/drive/MyDrive/fog_weather_object_detection/fog_object_detection/images/val/M0501_img000004.jpg: 352x640 14 cars, 8.2ms\n",
            "image 3/600 /content/drive/MyDrive/fog_weather_object_detection/fog_object_detection/images/val/M0501_img000005.jpg: 352x640 14 cars, 8.3ms\n",
            "image 4/600 /content/drive/MyDrive/fog_weather_object_detection/fog_object_detection/images/val/M0501_img000015.jpg: 352x640 12 cars, 8.1ms\n",
            "image 5/600 /content/drive/MyDrive/fog_weather_object_detection/fog_object_detection/images/val/M0501_img000021.jpg: 352x640 12 cars, 8.2ms\n",
            "image 6/600 /content/drive/MyDrive/fog_weather_object_detection/fog_object_detection/images/val/M0501_img000024.jpg: 352x640 12 cars, 7.9ms\n",
            "image 7/600 /content/drive/MyDrive/fog_weather_object_detection/fog_object_detection/images/val/M0501_img000028.jpg: 352x640 13 cars, 15.0ms\n",
            "image 8/600 /content/drive/MyDrive/fog_weather_object_detection/fog_object_detection/images/val/M0501_img000037.jpg: 352x640 13 cars, 8.2ms\n",
            "image 9/600 /content/drive/MyDrive/fog_weather_object_detection/fog_object_detection/images/val/M0501_img000038.jpg: 352x640 13 cars, 7.9ms\n",
            "image 10/600 /content/drive/MyDrive/fog_weather_object_detection/fog_object_detection/images/val/M0501_img000042.jpg: 352x640 13 cars, 7.8ms\n",
            "image 11/600 /content/drive/MyDrive/fog_weather_object_detection/fog_object_detection/images/val/M0501_img000044.jpg: 352x640 13 cars, 7.7ms\n",
            "image 12/600 /content/drive/MyDrive/fog_weather_object_detection/fog_object_detection/images/val/M0501_img000052.jpg: 352x640 12 cars, 8.0ms\n",
            "image 13/600 /content/drive/MyDrive/fog_weather_object_detection/fog_object_detection/images/val/M0501_img000053.jpg: 352x640 12 cars, 7.9ms\n",
            "image 14/600 /content/drive/MyDrive/fog_weather_object_detection/fog_object_detection/images/val/M0501_img000061.jpg: 352x640 11 cars, 7.8ms\n",
            "image 15/600 /content/drive/MyDrive/fog_weather_object_detection/fog_object_detection/images/val/M0501_img000067.jpg: 352x640 12 cars, 7.8ms\n",
            "image 16/600 /content/drive/MyDrive/fog_weather_object_detection/fog_object_detection/images/val/M0501_img000069.jpg: 352x640 12 cars, 7.7ms\n",
            "image 17/600 /content/drive/MyDrive/fog_weather_object_detection/fog_object_detection/images/val/M0501_img000076.jpg: 352x640 11 cars, 7.7ms\n",
            "image 18/600 /content/drive/MyDrive/fog_weather_object_detection/fog_object_detection/images/val/M0501_img000082.jpg: 352x640 12 cars, 7.7ms\n",
            "image 19/600 /content/drive/MyDrive/fog_weather_object_detection/fog_object_detection/images/val/M0501_img000094.jpg: 352x640 11 cars, 7.6ms\n",
            "image 20/600 /content/drive/MyDrive/fog_weather_object_detection/fog_object_detection/images/val/M0501_img000098.jpg: 352x640 12 cars, 7.7ms\n",
            "image 21/600 /content/drive/MyDrive/fog_weather_object_detection/fog_object_detection/images/val/M0501_img000101.jpg: 352x640 11 cars, 8.0ms\n",
            "image 22/600 /content/drive/MyDrive/fog_weather_object_detection/fog_object_detection/images/val/M0501_img000110.jpg: 352x640 11 cars, 7.7ms\n",
            "image 23/600 /content/drive/MyDrive/fog_weather_object_detection/fog_object_detection/images/val/M0501_img000117.jpg: 352x640 12 cars, 7.7ms\n",
            "image 24/600 /content/drive/MyDrive/fog_weather_object_detection/fog_object_detection/images/val/M0501_img000119.jpg: 352x640 12 cars, 7.5ms\n",
            "image 25/600 /content/drive/MyDrive/fog_weather_object_detection/fog_object_detection/images/val/M0501_img000120.jpg: 352x640 11 cars, 7.8ms\n",
            "image 26/600 /content/drive/MyDrive/fog_weather_object_detection/fog_object_detection/images/val/M0501_img000124.jpg: 352x640 12 cars, 7.7ms\n",
            "image 27/600 /content/drive/MyDrive/fog_weather_object_detection/fog_object_detection/images/val/M0501_img000128.jpg: 352x640 11 cars, 7.7ms\n",
            "image 28/600 /content/drive/MyDrive/fog_weather_object_detection/fog_object_detection/images/val/M0501_img000131.jpg: 352x640 10 cars, 7.4ms\n",
            "image 29/600 /content/drive/MyDrive/fog_weather_object_detection/fog_object_detection/images/val/M0501_img000132.jpg: 352x640 10 cars, 7.7ms\n",
            "image 30/600 /content/drive/MyDrive/fog_weather_object_detection/fog_object_detection/images/val/M0501_img000141.jpg: 352x640 10 cars, 7.8ms\n",
            "image 31/600 /content/drive/MyDrive/fog_weather_object_detection/fog_object_detection/images/val/M0501_img000149.jpg: 352x640 10 cars, 7.4ms\n",
            "image 32/600 /content/drive/MyDrive/fog_weather_object_detection/fog_object_detection/images/val/M0501_img000150.jpg: 352x640 12 cars, 7.5ms\n",
            "image 33/600 /content/drive/MyDrive/fog_weather_object_detection/fog_object_detection/images/val/M0501_img000164.jpg: 352x640 12 cars, 7.8ms\n",
            "image 34/600 /content/drive/MyDrive/fog_weather_object_detection/fog_object_detection/images/val/M0501_img000183.jpg: 352x640 12 cars, 8.1ms\n",
            "image 35/600 /content/drive/MyDrive/fog_weather_object_detection/fog_object_detection/images/val/M0501_img000187.jpg: 352x640 12 cars, 8.5ms\n",
            "image 36/600 /content/drive/MyDrive/fog_weather_object_detection/fog_object_detection/images/val/M0501_img000190.jpg: 352x640 12 cars, 7.9ms\n",
            "image 37/600 /content/drive/MyDrive/fog_weather_object_detection/fog_object_detection/images/val/M0501_img000198.jpg: 352x640 12 cars, 7.9ms\n",
            "image 38/600 /content/drive/MyDrive/fog_weather_object_detection/fog_object_detection/images/val/M0501_img000200.jpg: 352x640 11 cars, 7.7ms\n",
            "image 39/600 /content/drive/MyDrive/fog_weather_object_detection/fog_object_detection/images/val/M0501_img000204.jpg: 352x640 12 cars, 7.6ms\n",
            "image 40/600 /content/drive/MyDrive/fog_weather_object_detection/fog_object_detection/images/val/M0501_img000208.jpg: 352x640 10 cars, 7.8ms\n",
            "image 41/600 /content/drive/MyDrive/fog_weather_object_detection/fog_object_detection/images/val/M0501_img000212.jpg: 352x640 12 cars, 7.5ms\n",
            "image 42/600 /content/drive/MyDrive/fog_weather_object_detection/fog_object_detection/images/val/M0501_img000213.jpg: 352x640 11 cars, 9.5ms\n",
            "image 43/600 /content/drive/MyDrive/fog_weather_object_detection/fog_object_detection/images/val/M0501_img000221.jpg: 352x640 10 cars, 7.4ms\n",
            "image 44/600 /content/drive/MyDrive/fog_weather_object_detection/fog_object_detection/images/val/M0501_img000222.jpg: 352x640 10 cars, 7.7ms\n",
            "image 45/600 /content/drive/MyDrive/fog_weather_object_detection/fog_object_detection/images/val/M0501_img000225.jpg: 352x640 11 cars, 9.2ms\n",
            "image 46/600 /content/drive/MyDrive/fog_weather_object_detection/fog_object_detection/images/val/M0501_img000241.jpg: 352x640 10 cars, 7.3ms\n",
            "image 47/600 /content/drive/MyDrive/fog_weather_object_detection/fog_object_detection/images/val/M0501_img000243.jpg: 352x640 11 cars, 7.4ms\n",
            "image 48/600 /content/drive/MyDrive/fog_weather_object_detection/fog_object_detection/images/val/M0501_img000260.jpg: 352x640 11 cars, 7.3ms\n",
            "image 49/600 /content/drive/MyDrive/fog_weather_object_detection/fog_object_detection/images/val/M0501_img000263.jpg: 352x640 10 cars, 7.8ms\n",
            "image 50/600 /content/drive/MyDrive/fog_weather_object_detection/fog_object_detection/images/val/M0501_img000266.jpg: 352x640 10 cars, 7.6ms\n",
            "image 51/600 /content/drive/MyDrive/fog_weather_object_detection/fog_object_detection/images/val/M0501_img000270.jpg: 352x640 10 cars, 7.5ms\n",
            "image 52/600 /content/drive/MyDrive/fog_weather_object_detection/fog_object_detection/images/val/M0501_img000285.jpg: 352x640 9 cars, 7.3ms\n",
            "image 53/600 /content/drive/MyDrive/fog_weather_object_detection/fog_object_detection/images/val/M0501_img000287.jpg: 352x640 9 cars, 7.5ms\n",
            "image 54/600 /content/drive/MyDrive/fog_weather_object_detection/fog_object_detection/images/val/M0501_img000297.jpg: 352x640 9 cars, 7.4ms\n",
            "image 55/600 /content/drive/MyDrive/fog_weather_object_detection/fog_object_detection/images/val/M0501_img000299.jpg: 352x640 9 cars, 1 bus, 7.3ms\n",
            "image 56/600 /content/drive/MyDrive/fog_weather_object_detection/fog_object_detection/images/val/M0501_img000304.jpg: 352x640 8 cars, 1 bus, 7.5ms\n",
            "image 57/600 /content/drive/MyDrive/fog_weather_object_detection/fog_object_detection/images/val/M0501_img000311.jpg: 352x640 8 cars, 1 bus, 7.5ms\n",
            "image 58/600 /content/drive/MyDrive/fog_weather_object_detection/fog_object_detection/images/val/M0501_img000313.jpg: 352x640 9 cars, 1 bus, 7.5ms\n",
            "image 59/600 /content/drive/MyDrive/fog_weather_object_detection/fog_object_detection/images/val/M0501_img000320.jpg: 352x640 8 cars, 1 bus, 7.3ms\n",
            "image 60/600 /content/drive/MyDrive/fog_weather_object_detection/fog_object_detection/images/val/M0501_img000324.jpg: 352x640 9 cars, 1 bus, 7.5ms\n",
            "image 61/600 /content/drive/MyDrive/fog_weather_object_detection/fog_object_detection/images/val/M0501_img000325.jpg: 352x640 7 cars, 1 bus, 7.3ms\n",
            "image 62/600 /content/drive/MyDrive/fog_weather_object_detection/fog_object_detection/images/val/M0501_img000327.jpg: 352x640 7 cars, 1 bus, 7.5ms\n",
            "image 63/600 /content/drive/MyDrive/fog_weather_object_detection/fog_object_detection/images/val/M0501_img000330.jpg: 352x640 7 cars, 1 bus, 7.7ms\n",
            "image 64/600 /content/drive/MyDrive/fog_weather_object_detection/fog_object_detection/images/val/M0501_img000336.jpg: 352x640 7 cars, 1 bus, 7.4ms\n",
            "image 65/600 /content/drive/MyDrive/fog_weather_object_detection/fog_object_detection/images/val/M0501_img000340.jpg: 352x640 7 cars, 1 bus, 7.6ms\n",
            "image 66/600 /content/drive/MyDrive/fog_weather_object_detection/fog_object_detection/images/val/M0501_img000341.jpg: 352x640 7 cars, 1 bus, 7.8ms\n",
            "image 67/600 /content/drive/MyDrive/fog_weather_object_detection/fog_object_detection/images/val/M0501_img000350.jpg: 352x640 8 cars, 1 bus, 7.6ms\n",
            "image 68/600 /content/drive/MyDrive/fog_weather_object_detection/fog_object_detection/images/val/M0501_img000352.jpg: 352x640 8 cars, 1 bus, 7.5ms\n",
            "image 69/600 /content/drive/MyDrive/fog_weather_object_detection/fog_object_detection/images/val/M0704_img000010.jpg: 352x640 29 cars, 4 trucks, 7.4ms\n",
            "image 70/600 /content/drive/MyDrive/fog_weather_object_detection/fog_object_detection/images/val/M0704_img000013.jpg: 352x640 27 cars, 4 trucks, 7.6ms\n",
            "image 71/600 /content/drive/MyDrive/fog_weather_object_detection/fog_object_detection/images/val/M0704_img000015.jpg: 352x640 28 cars, 3 trucks, 7.4ms\n",
            "image 72/600 /content/drive/MyDrive/fog_weather_object_detection/fog_object_detection/images/val/M0704_img000028.jpg: 352x640 28 cars, 4 trucks, 7.5ms\n",
            "image 73/600 /content/drive/MyDrive/fog_weather_object_detection/fog_object_detection/images/val/M0704_img000034.jpg: 352x640 31 cars, 4 trucks, 7.4ms\n",
            "image 74/600 /content/drive/MyDrive/fog_weather_object_detection/fog_object_detection/images/val/M0704_img000036.jpg: 352x640 27 cars, 4 trucks, 7.8ms\n",
            "image 75/600 /content/drive/MyDrive/fog_weather_object_detection/fog_object_detection/images/val/M0704_img000046.jpg: 352x640 27 cars, 4 trucks, 7.6ms\n",
            "image 76/600 /content/drive/MyDrive/fog_weather_object_detection/fog_object_detection/images/val/M0704_img000047.jpg: 352x640 27 cars, 4 trucks, 8.1ms\n",
            "image 77/600 /content/drive/MyDrive/fog_weather_object_detection/fog_object_detection/images/val/M0704_img000048.jpg: 352x640 27 cars, 4 trucks, 7.6ms\n",
            "image 78/600 /content/drive/MyDrive/fog_weather_object_detection/fog_object_detection/images/val/M0704_img000050.jpg: 352x640 27 cars, 4 trucks, 10.2ms\n",
            "image 79/600 /content/drive/MyDrive/fog_weather_object_detection/fog_object_detection/images/val/M0704_img000054.jpg: 352x640 29 cars, 4 trucks, 8.1ms\n",
            "image 80/600 /content/drive/MyDrive/fog_weather_object_detection/fog_object_detection/images/val/M0704_img000059.jpg: 352x640 27 cars, 4 trucks, 7.7ms\n",
            "image 81/600 /content/drive/MyDrive/fog_weather_object_detection/fog_object_detection/images/val/M0704_img000060.jpg: 352x640 28 cars, 4 trucks, 7.6ms\n",
            "image 82/600 /content/drive/MyDrive/fog_weather_object_detection/fog_object_detection/images/val/M0704_img000064.jpg: 352x640 27 cars, 4 trucks, 7.6ms\n",
            "image 83/600 /content/drive/MyDrive/fog_weather_object_detection/fog_object_detection/images/val/M0704_img000070.jpg: 352x640 27 cars, 4 trucks, 7.6ms\n",
            "image 84/600 /content/drive/MyDrive/fog_weather_object_detection/fog_object_detection/images/val/M0704_img000077.jpg: 352x640 27 cars, 4 trucks, 7.4ms\n",
            "image 85/600 /content/drive/MyDrive/fog_weather_object_detection/fog_object_detection/images/val/M0704_img000079.jpg: 352x640 29 cars, 5 trucks, 7.3ms\n",
            "image 86/600 /content/drive/MyDrive/fog_weather_object_detection/fog_object_detection/images/val/M0704_img000085.jpg: 352x640 26 cars, 4 trucks, 8.0ms\n",
            "image 87/600 /content/drive/MyDrive/fog_weather_object_detection/fog_object_detection/images/val/M0704_img000089.jpg: 352x640 25 cars, 4 trucks, 7.4ms\n",
            "image 88/600 /content/drive/MyDrive/fog_weather_object_detection/fog_object_detection/images/val/M0704_img000090.jpg: 352x640 24 cars, 4 trucks, 7.6ms\n",
            "image 89/600 /content/drive/MyDrive/fog_weather_object_detection/fog_object_detection/images/val/M0704_img000091.jpg: 352x640 25 cars, 4 trucks, 7.5ms\n",
            "image 90/600 /content/drive/MyDrive/fog_weather_object_detection/fog_object_detection/images/val/M0704_img000093.jpg: 352x640 23 cars, 4 trucks, 7.7ms\n",
            "image 91/600 /content/drive/MyDrive/fog_weather_object_detection/fog_object_detection/images/val/M0704_img000094.jpg: 352x640 26 cars, 4 trucks, 7.9ms\n",
            "image 92/600 /content/drive/MyDrive/fog_weather_object_detection/fog_object_detection/images/val/M0704_img000097.jpg: 352x640 26 cars, 4 trucks, 7.7ms\n",
            "image 93/600 /content/drive/MyDrive/fog_weather_object_detection/fog_object_detection/images/val/M0704_img000103.jpg: 352x640 28 cars, 4 trucks, 7.9ms\n",
            "image 94/600 /content/drive/MyDrive/fog_weather_object_detection/fog_object_detection/images/val/M0704_img000104.jpg: 352x640 29 cars, 4 trucks, 7.8ms\n",
            "image 95/600 /content/drive/MyDrive/fog_weather_object_detection/fog_object_detection/images/val/M0704_img000106.jpg: 352x640 29 cars, 4 trucks, 8.6ms\n",
            "image 96/600 /content/drive/MyDrive/fog_weather_object_detection/fog_object_detection/images/val/M0704_img000107.jpg: 352x640 29 cars, 3 trucks, 7.5ms\n",
            "image 97/600 /content/drive/MyDrive/fog_weather_object_detection/fog_object_detection/images/val/M0704_img000120.jpg: 352x640 33 cars, 3 trucks, 7.6ms\n",
            "image 98/600 /content/drive/MyDrive/fog_weather_object_detection/fog_object_detection/images/val/M0704_img000127.jpg: 352x640 33 cars, 3 trucks, 7.4ms\n",
            "image 99/600 /content/drive/MyDrive/fog_weather_object_detection/fog_object_detection/images/val/M0704_img000133.jpg: 352x640 30 cars, 4 trucks, 7.5ms\n",
            "image 100/600 /content/drive/MyDrive/fog_weather_object_detection/fog_object_detection/images/val/M0704_img000135.jpg: 352x640 28 cars, 4 trucks, 7.5ms\n",
            "image 101/600 /content/drive/MyDrive/fog_weather_object_detection/fog_object_detection/images/val/M0704_img000136.jpg: 352x640 30 cars, 4 trucks, 7.7ms\n",
            "image 102/600 /content/drive/MyDrive/fog_weather_object_detection/fog_object_detection/images/val/M0704_img000144.jpg: 352x640 29 cars, 3 trucks, 7.8ms\n",
            "image 103/600 /content/drive/MyDrive/fog_weather_object_detection/fog_object_detection/images/val/M0704_img000148.jpg: 352x640 29 cars, 3 trucks, 7.5ms\n",
            "image 104/600 /content/drive/MyDrive/fog_weather_object_detection/fog_object_detection/images/val/M0704_img000157.jpg: 352x640 31 cars, 3 trucks, 7.6ms\n",
            "image 105/600 /content/drive/MyDrive/fog_weather_object_detection/fog_object_detection/images/val/M0704_img000165.jpg: 352x640 26 cars, 3 trucks, 7.4ms\n",
            "image 106/600 /content/drive/MyDrive/fog_weather_object_detection/fog_object_detection/images/val/M0704_img000169.jpg: 352x640 26 cars, 4 trucks, 7.3ms\n",
            "image 107/600 /content/drive/MyDrive/fog_weather_object_detection/fog_object_detection/images/val/M0704_img000174.jpg: 352x640 28 cars, 3 trucks, 7.6ms\n",
            "image 108/600 /content/drive/MyDrive/fog_weather_object_detection/fog_object_detection/images/val/M0704_img000176.jpg: 352x640 29 cars, 3 trucks, 7.6ms\n",
            "image 109/600 /content/drive/MyDrive/fog_weather_object_detection/fog_object_detection/images/val/M0704_img000181.jpg: 352x640 30 cars, 3 trucks, 7.4ms\n",
            "image 110/600 /content/drive/MyDrive/fog_weather_object_detection/fog_object_detection/images/val/M0704_img000197.jpg: 352x640 29 cars, 4 trucks, 7.4ms\n",
            "image 111/600 /content/drive/MyDrive/fog_weather_object_detection/fog_object_detection/images/val/M0704_img000209.jpg: 352x640 28 cars, 3 trucks, 7.3ms\n",
            "image 112/600 /content/drive/MyDrive/fog_weather_object_detection/fog_object_detection/images/val/M0704_img000211.jpg: 352x640 30 cars, 3 trucks, 7.5ms\n",
            "image 113/600 /content/drive/MyDrive/fog_weather_object_detection/fog_object_detection/images/val/M0704_img000217.jpg: 352x640 27 cars, 4 trucks, 8.8ms\n",
            "image 114/600 /content/drive/MyDrive/fog_weather_object_detection/fog_object_detection/images/val/M0704_img000218.jpg: 352x640 27 cars, 4 trucks, 7.6ms\n",
            "image 115/600 /content/drive/MyDrive/fog_weather_object_detection/fog_object_detection/images/val/M0704_img000224.jpg: 352x640 28 cars, 4 trucks, 7.5ms\n",
            "image 116/600 /content/drive/MyDrive/fog_weather_object_detection/fog_object_detection/images/val/M0704_img000238.jpg: 352x640 30 cars, 3 trucks, 7.7ms\n",
            "image 117/600 /content/drive/MyDrive/fog_weather_object_detection/fog_object_detection/images/val/M0704_img000240.jpg: 352x640 31 cars, 3 trucks, 8.2ms\n",
            "image 118/600 /content/drive/MyDrive/fog_weather_object_detection/fog_object_detection/images/val/M0704_img000241.jpg: 352x640 30 cars, 3 trucks, 8.5ms\n",
            "image 119/600 /content/drive/MyDrive/fog_weather_object_detection/fog_object_detection/images/val/M0704_img000247.jpg: 352x640 30 cars, 3 trucks, 8.0ms\n",
            "image 120/600 /content/drive/MyDrive/fog_weather_object_detection/fog_object_detection/images/val/M0704_img000248.jpg: 352x640 30 cars, 3 trucks, 7.8ms\n",
            "image 121/600 /content/drive/MyDrive/fog_weather_object_detection/fog_object_detection/images/val/M0704_img000249.jpg: 352x640 28 cars, 3 trucks, 7.5ms\n",
            "image 122/600 /content/drive/MyDrive/fog_weather_object_detection/fog_object_detection/images/val/M0704_img000254.jpg: 352x640 31 cars, 3 trucks, 8.3ms\n",
            "image 123/600 /content/drive/MyDrive/fog_weather_object_detection/fog_object_detection/images/val/M0704_img000258.jpg: 352x640 27 cars, 3 trucks, 8.0ms\n",
            "image 124/600 /content/drive/MyDrive/fog_weather_object_detection/fog_object_detection/images/val/M0704_img000267.jpg: 352x640 30 cars, 3 trucks, 7.9ms\n",
            "image 125/600 /content/drive/MyDrive/fog_weather_object_detection/fog_object_detection/images/val/M0704_img000278.jpg: 352x640 33 cars, 3 trucks, 7.5ms\n",
            "image 126/600 /content/drive/MyDrive/fog_weather_object_detection/fog_object_detection/images/val/M0704_img000291.jpg: 352x640 36 cars, 3 trucks, 7.7ms\n",
            "image 127/600 /content/drive/MyDrive/fog_weather_object_detection/fog_object_detection/images/val/M0704_img000292.jpg: 352x640 34 cars, 3 trucks, 7.7ms\n",
            "image 128/600 /content/drive/MyDrive/fog_weather_object_detection/fog_object_detection/images/val/M0704_img000293.jpg: 352x640 35 cars, 3 trucks, 7.6ms\n",
            "image 129/600 /content/drive/MyDrive/fog_weather_object_detection/fog_object_detection/images/val/M0704_img000294.jpg: 352x640 35 cars, 3 trucks, 7.7ms\n",
            "image 130/600 /content/drive/MyDrive/fog_weather_object_detection/fog_object_detection/images/val/M0704_img000296.jpg: 352x640 31 cars, 3 trucks, 7.4ms\n",
            "image 131/600 /content/drive/MyDrive/fog_weather_object_detection/fog_object_detection/images/val/M0704_img000304.jpg: 352x640 36 cars, 3 trucks, 7.3ms\n",
            "image 132/600 /content/drive/MyDrive/fog_weather_object_detection/fog_object_detection/images/val/M0704_img000309.jpg: 352x640 34 cars, 3 trucks, 7.7ms\n",
            "image 133/600 /content/drive/MyDrive/fog_weather_object_detection/fog_object_detection/images/val/M0704_img000310.jpg: 352x640 35 cars, 3 trucks, 7.5ms\n",
            "image 134/600 /content/drive/MyDrive/fog_weather_object_detection/fog_object_detection/images/val/M0704_img000324.jpg: 352x640 35 cars, 2 trucks, 7.4ms\n",
            "image 135/600 /content/drive/MyDrive/fog_weather_object_detection/fog_object_detection/images/val/M0704_img000328.jpg: 352x640 34 cars, 2 trucks, 7.4ms\n",
            "image 136/600 /content/drive/MyDrive/fog_weather_object_detection/fog_object_detection/images/val/M0704_img000330.jpg: 352x640 32 cars, 2 trucks, 7.3ms\n",
            "image 137/600 /content/drive/MyDrive/fog_weather_object_detection/fog_object_detection/images/val/M0704_img000344.jpg: 352x640 31 cars, 2 trucks, 7.4ms\n",
            "image 138/600 /content/drive/MyDrive/fog_weather_object_detection/fog_object_detection/images/val/M0704_img000363.jpg: 352x640 33 cars, 1 truck, 7.5ms\n",
            "image 139/600 /content/drive/MyDrive/fog_weather_object_detection/fog_object_detection/images/val/M0704_img000366.jpg: 352x640 32 cars, 2 trucks, 7.4ms\n",
            "image 140/600 /content/drive/MyDrive/fog_weather_object_detection/fog_object_detection/images/val/M0704_img000383.jpg: 352x640 31 cars, 2 trucks, 7.3ms\n",
            "image 141/600 /content/drive/MyDrive/fog_weather_object_detection/fog_object_detection/images/val/M0704_img000390.jpg: 352x640 30 cars, 2 trucks, 7.6ms\n",
            "image 142/600 /content/drive/MyDrive/fog_weather_object_detection/fog_object_detection/images/val/M0704_img000398.jpg: 352x640 32 cars, 2 trucks, 7.8ms\n",
            "image 143/600 /content/drive/MyDrive/fog_weather_object_detection/fog_object_detection/images/val/M0704_img000410.jpg: 352x640 34 cars, 2 trucks, 7.7ms\n",
            "image 144/600 /content/drive/MyDrive/fog_weather_object_detection/fog_object_detection/images/val/M0704_img000415.jpg: 352x640 33 cars, 2 trucks, 7.5ms\n",
            "image 145/600 /content/drive/MyDrive/fog_weather_object_detection/fog_object_detection/images/val/M0704_img000420.jpg: 352x640 32 cars, 1 truck, 7.9ms\n",
            "image 146/600 /content/drive/MyDrive/fog_weather_object_detection/fog_object_detection/images/val/M0704_img000424.jpg: 352x640 33 cars, 1 truck, 7.6ms\n",
            "image 147/600 /content/drive/MyDrive/fog_weather_object_detection/fog_object_detection/images/val/M0704_img000428.jpg: 352x640 33 cars, 1 truck, 7.8ms\n",
            "image 148/600 /content/drive/MyDrive/fog_weather_object_detection/fog_object_detection/images/val/M0704_img000430.jpg: 352x640 32 cars, 1 truck, 9.7ms\n",
            "image 149/600 /content/drive/MyDrive/fog_weather_object_detection/fog_object_detection/images/val/M0704_img000439.jpg: 352x640 32 cars, 1 truck, 7.4ms\n",
            "image 150/600 /content/drive/MyDrive/fog_weather_object_detection/fog_object_detection/images/val/M0704_img000440.jpg: 352x640 32 cars, 1 truck, 7.8ms\n",
            "image 151/600 /content/drive/MyDrive/fog_weather_object_detection/fog_object_detection/images/val/M0704_img000444.jpg: 352x640 32 cars, 1 truck, 7.5ms\n",
            "image 152/600 /content/drive/MyDrive/fog_weather_object_detection/fog_object_detection/images/val/M0704_img000446.jpg: 352x640 32 cars, 1 truck, 7.6ms\n",
            "image 153/600 /content/drive/MyDrive/fog_weather_object_detection/fog_object_detection/images/val/M0704_img000455.jpg: 352x640 30 cars, 1 truck, 7.3ms\n",
            "image 154/600 /content/drive/MyDrive/fog_weather_object_detection/fog_object_detection/images/val/M0704_img000459.jpg: 352x640 30 cars, 1 truck, 7.8ms\n",
            "image 155/600 /content/drive/MyDrive/fog_weather_object_detection/fog_object_detection/images/val/M0704_img000461.jpg: 352x640 30 cars, 1 truck, 7.5ms\n",
            "image 156/600 /content/drive/MyDrive/fog_weather_object_detection/fog_object_detection/images/val/M0704_img000465.jpg: 352x640 30 cars, 1 truck, 10.5ms\n",
            "image 157/600 /content/drive/MyDrive/fog_weather_object_detection/fog_object_detection/images/val/M0704_img000466.jpg: 352x640 30 cars, 1 truck, 9.9ms\n",
            "image 158/600 /content/drive/MyDrive/fog_weather_object_detection/fog_object_detection/images/val/M0704_img000469.jpg: 352x640 27 cars, 1 truck, 7.6ms\n",
            "image 159/600 /content/drive/MyDrive/fog_weather_object_detection/fog_object_detection/images/val/M0704_img000471.jpg: 352x640 29 cars, 1 truck, 7.5ms\n",
            "image 160/600 /content/drive/MyDrive/fog_weather_object_detection/fog_object_detection/images/val/M0704_img000473.jpg: 352x640 28 cars, 1 truck, 7.6ms\n",
            "image 161/600 /content/drive/MyDrive/fog_weather_object_detection/fog_object_detection/images/val/M0704_img000488.jpg: 352x640 29 cars, 1 truck, 7.7ms\n",
            "image 162/600 /content/drive/MyDrive/fog_weather_object_detection/fog_object_detection/images/val/M0704_img000490.jpg: 352x640 29 cars, 1 truck, 7.7ms\n",
            "image 163/600 /content/drive/MyDrive/fog_weather_object_detection/fog_object_detection/images/val/M0704_img000492.jpg: 352x640 29 cars, 1 truck, 7.7ms\n",
            "image 164/600 /content/drive/MyDrive/fog_weather_object_detection/fog_object_detection/images/val/M0704_img000495.jpg: 352x640 30 cars, 1 truck, 9.2ms\n",
            "image 165/600 /content/drive/MyDrive/fog_weather_object_detection/fog_object_detection/images/val/M0704_img000497.jpg: 352x640 29 cars, 1 truck, 7.7ms\n",
            "image 166/600 /content/drive/MyDrive/fog_weather_object_detection/fog_object_detection/images/val/M0704_img000498.jpg: 352x640 30 cars, 2 trucks, 7.7ms\n",
            "image 167/600 /content/drive/MyDrive/fog_weather_object_detection/fog_object_detection/images/val/M0704_img000501.jpg: 352x640 28 cars, 2 trucks, 7.9ms\n",
            "image 168/600 /content/drive/MyDrive/fog_weather_object_detection/fog_object_detection/images/val/M0704_img000502.jpg: 352x640 31 cars, 2 trucks, 7.8ms\n",
            "image 169/600 /content/drive/MyDrive/fog_weather_object_detection/fog_object_detection/images/val/M0704_img000503.jpg: 352x640 31 cars, 2 trucks, 7.5ms\n",
            "image 170/600 /content/drive/MyDrive/fog_weather_object_detection/fog_object_detection/images/val/M0704_img000504.jpg: 352x640 32 cars, 2 trucks, 8.0ms\n",
            "image 171/600 /content/drive/MyDrive/fog_weather_object_detection/fog_object_detection/images/val/M0704_img000505.jpg: 352x640 32 cars, 1 truck, 7.4ms\n",
            "image 172/600 /content/drive/MyDrive/fog_weather_object_detection/fog_object_detection/images/val/M0704_img000506.jpg: 352x640 31 cars, 2 trucks, 7.7ms\n",
            "image 173/600 /content/drive/MyDrive/fog_weather_object_detection/fog_object_detection/images/val/M0704_img000509.jpg: 352x640 31 cars, 2 trucks, 7.6ms\n",
            "image 174/600 /content/drive/MyDrive/fog_weather_object_detection/fog_object_detection/images/val/M0704_img000522.jpg: 352x640 29 cars, 2 trucks, 7.6ms\n",
            "image 175/600 /content/drive/MyDrive/fog_weather_object_detection/fog_object_detection/images/val/M0704_img000529.jpg: 352x640 31 cars, 2 trucks, 7.6ms\n",
            "image 176/600 /content/drive/MyDrive/fog_weather_object_detection/fog_object_detection/images/val/M0704_img000530.jpg: 352x640 30 cars, 2 trucks, 7.7ms\n",
            "image 177/600 /content/drive/MyDrive/fog_weather_object_detection/fog_object_detection/images/val/M0704_img000533.jpg: 352x640 31 cars, 2 trucks, 7.8ms\n",
            "image 178/600 /content/drive/MyDrive/fog_weather_object_detection/fog_object_detection/images/val/M0704_img000534.jpg: 352x640 31 cars, 2 trucks, 8.2ms\n",
            "image 179/600 /content/drive/MyDrive/fog_weather_object_detection/fog_object_detection/images/val/M0704_img000554.jpg: 352x640 33 cars, 2 trucks, 7.8ms\n",
            "image 180/600 /content/drive/MyDrive/fog_weather_object_detection/fog_object_detection/images/val/M0704_img000557.jpg: 352x640 33 cars, 1 truck, 7.6ms\n",
            "image 181/600 /content/drive/MyDrive/fog_weather_object_detection/fog_object_detection/images/val/M0704_img000559.jpg: 352x640 33 cars, 2 trucks, 7.6ms\n",
            "image 182/600 /content/drive/MyDrive/fog_weather_object_detection/fog_object_detection/images/val/M0704_img000564.jpg: 352x640 32 cars, 2 trucks, 7.3ms\n",
            "image 183/600 /content/drive/MyDrive/fog_weather_object_detection/fog_object_detection/images/val/M0704_img000569.jpg: 352x640 34 cars, 2 trucks, 7.4ms\n",
            "image 184/600 /content/drive/MyDrive/fog_weather_object_detection/fog_object_detection/images/val/M0704_img000582.jpg: 352x640 34 cars, 3 trucks, 7.4ms\n",
            "image 185/600 /content/drive/MyDrive/fog_weather_object_detection/fog_object_detection/images/val/M0704_img000594.jpg: 352x640 34 cars, 3 trucks, 7.7ms\n",
            "image 186/600 /content/drive/MyDrive/fog_weather_object_detection/fog_object_detection/images/val/M0704_img000599.jpg: 352x640 33 cars, 2 trucks, 7.3ms\n",
            "image 187/600 /content/drive/MyDrive/fog_weather_object_detection/fog_object_detection/images/val/M0704_img000602.jpg: 352x640 33 cars, 2 trucks, 8.1ms\n",
            "image 188/600 /content/drive/MyDrive/fog_weather_object_detection/fog_object_detection/images/val/M0704_img000603.jpg: 352x640 34 cars, 1 truck, 13.3ms\n",
            "image 189/600 /content/drive/MyDrive/fog_weather_object_detection/fog_object_detection/images/val/M0704_img000604.jpg: 352x640 33 cars, 1 truck, 8.1ms\n",
            "image 190/600 /content/drive/MyDrive/fog_weather_object_detection/fog_object_detection/images/val/M0704_img000626.jpg: 352x640 33 cars, 1 truck, 8.1ms\n",
            "image 191/600 /content/drive/MyDrive/fog_weather_object_detection/fog_object_detection/images/val/M0704_img000630.jpg: 352x640 33 cars, 1 truck, 8.2ms\n",
            "image 192/600 /content/drive/MyDrive/fog_weather_object_detection/fog_object_detection/images/val/M0704_img000632.jpg: 352x640 33 cars, 1 truck, 7.8ms\n",
            "image 193/600 /content/drive/MyDrive/fog_weather_object_detection/fog_object_detection/images/val/M0704_img000641.jpg: 352x640 34 cars, 1 truck, 8.0ms\n",
            "image 194/600 /content/drive/MyDrive/fog_weather_object_detection/fog_object_detection/images/val/M0704_img000644.jpg: 352x640 34 cars, 1 truck, 7.6ms\n",
            "image 195/600 /content/drive/MyDrive/fog_weather_object_detection/fog_object_detection/images/val/M0704_img000652.jpg: 352x640 33 cars, 1 truck, 7.6ms\n",
            "image 196/600 /content/drive/MyDrive/fog_weather_object_detection/fog_object_detection/images/val/M0704_img000657.jpg: 352x640 33 cars, 1 truck, 7.8ms\n",
            "image 197/600 /content/drive/MyDrive/fog_weather_object_detection/fog_object_detection/images/val/M0704_img000666.jpg: 352x640 35 cars, 1 truck, 9.3ms\n",
            "image 198/600 /content/drive/MyDrive/fog_weather_object_detection/fog_object_detection/images/val/M0704_img000673.jpg: 352x640 35 cars, 1 truck, 7.5ms\n",
            "image 199/600 /content/drive/MyDrive/fog_weather_object_detection/fog_object_detection/images/val/M0704_img000674.jpg: 352x640 35 cars, 1 truck, 7.6ms\n",
            "image 200/600 /content/drive/MyDrive/fog_weather_object_detection/fog_object_detection/images/val/M0704_img000675.jpg: 352x640 35 cars, 1 truck, 10.2ms\n",
            "image 201/600 /content/drive/MyDrive/fog_weather_object_detection/fog_object_detection/images/val/M0704_img000678.jpg: 352x640 36 cars, 1 truck, 7.8ms\n",
            "image 202/600 /content/drive/MyDrive/fog_weather_object_detection/fog_object_detection/images/val/M0704_img000683.jpg: 352x640 36 cars, 1 truck, 7.4ms\n",
            "image 203/600 /content/drive/MyDrive/fog_weather_object_detection/fog_object_detection/images/val/M0704_img000693.jpg: 352x640 36 cars, 1 truck, 7.6ms\n",
            "image 204/600 /content/drive/MyDrive/fog_weather_object_detection/fog_object_detection/images/val/M0704_img000696.jpg: 352x640 36 cars, 1 truck, 7.4ms\n",
            "image 205/600 /content/drive/MyDrive/fog_weather_object_detection/fog_object_detection/images/val/M0704_img000698.jpg: 352x640 36 cars, 1 truck, 7.5ms\n",
            "image 206/600 /content/drive/MyDrive/fog_weather_object_detection/fog_object_detection/images/val/M0704_img000699.jpg: 352x640 37 cars, 1 truck, 7.4ms\n",
            "image 207/600 /content/drive/MyDrive/fog_weather_object_detection/fog_object_detection/images/val/M0704_img000701.jpg: 352x640 36 cars, 7.3ms\n",
            "image 208/600 /content/drive/MyDrive/fog_weather_object_detection/fog_object_detection/images/val/M0704_img000704.jpg: 352x640 36 cars, 7.5ms\n",
            "image 209/600 /content/drive/MyDrive/fog_weather_object_detection/fog_object_detection/images/val/M0704_img000712.jpg: 352x640 38 cars, 1 truck, 7.4ms\n",
            "image 210/600 /content/drive/MyDrive/fog_weather_object_detection/fog_object_detection/images/val/M0704_img000715.jpg: 352x640 39 cars, 1 truck, 7.8ms\n",
            "image 211/600 /content/drive/MyDrive/fog_weather_object_detection/fog_object_detection/images/val/M0704_img000720.jpg: 352x640 39 cars, 1 truck, 7.5ms\n",
            "image 212/600 /content/drive/MyDrive/fog_weather_object_detection/fog_object_detection/images/val/M0704_img000727.jpg: 352x640 39 cars, 1 truck, 7.5ms\n",
            "image 213/600 /content/drive/MyDrive/fog_weather_object_detection/fog_object_detection/images/val/M0704_img000728.jpg: 352x640 39 cars, 1 truck, 7.4ms\n",
            "image 214/600 /content/drive/MyDrive/fog_weather_object_detection/fog_object_detection/images/val/M0704_img000734.jpg: 352x640 39 cars, 1 truck, 7.6ms\n",
            "image 215/600 /content/drive/MyDrive/fog_weather_object_detection/fog_object_detection/images/val/M0704_img000737.jpg: 352x640 38 cars, 1 truck, 7.5ms\n",
            "image 216/600 /content/drive/MyDrive/fog_weather_object_detection/fog_object_detection/images/val/M0704_img000739.jpg: 352x640 39 cars, 1 truck, 7.4ms\n",
            "image 217/600 /content/drive/MyDrive/fog_weather_object_detection/fog_object_detection/images/val/M0704_img000741.jpg: 352x640 39 cars, 1 truck, 7.3ms\n",
            "image 218/600 /content/drive/MyDrive/fog_weather_object_detection/fog_object_detection/images/val/M0704_img000749.jpg: 352x640 38 cars, 1 truck, 7.8ms\n",
            "image 219/600 /content/drive/MyDrive/fog_weather_object_detection/fog_object_detection/images/val/M0704_img000750.jpg: 352x640 39 cars, 1 truck, 7.6ms\n",
            "image 220/600 /content/drive/MyDrive/fog_weather_object_detection/fog_object_detection/images/val/M0704_img000757.jpg: 352x640 40 cars, 1 truck, 7.3ms\n",
            "image 221/600 /content/drive/MyDrive/fog_weather_object_detection/fog_object_detection/images/val/M0704_img000758.jpg: 352x640 42 cars, 1 truck, 9.6ms\n",
            "image 222/600 /content/drive/MyDrive/fog_weather_object_detection/fog_object_detection/images/val/M0704_img000760.jpg: 352x640 40 cars, 1 truck, 7.4ms\n",
            "image 223/600 /content/drive/MyDrive/fog_weather_object_detection/fog_object_detection/images/val/M0704_img000763.jpg: 352x640 41 cars, 1 truck, 7.5ms\n",
            "image 224/600 /content/drive/MyDrive/fog_weather_object_detection/fog_object_detection/images/val/M0704_img000764.jpg: 352x640 41 cars, 1 truck, 9.1ms\n",
            "image 225/600 /content/drive/MyDrive/fog_weather_object_detection/fog_object_detection/images/val/M0704_img000767.jpg: 352x640 42 cars, 1 truck, 7.3ms\n",
            "image 226/600 /content/drive/MyDrive/fog_weather_object_detection/fog_object_detection/images/val/M0704_img000771.jpg: 352x640 42 cars, 1 truck, 7.4ms\n",
            "image 227/600 /content/drive/MyDrive/fog_weather_object_detection/fog_object_detection/images/val/M0704_img000778.jpg: 352x640 41 cars, 1 truck, 7.6ms\n",
            "image 228/600 /content/drive/MyDrive/fog_weather_object_detection/fog_object_detection/images/val/M0704_img000779.jpg: 352x640 41 cars, 1 truck, 9.8ms\n",
            "image 229/600 /content/drive/MyDrive/fog_weather_object_detection/fog_object_detection/images/val/M0704_img000781.jpg: 352x640 41 cars, 1 truck, 9.7ms\n",
            "image 230/600 /content/drive/MyDrive/fog_weather_object_detection/fog_object_detection/images/val/M0704_img000787.jpg: 352x640 41 cars, 1 truck, 7.4ms\n",
            "image 231/600 /content/drive/MyDrive/fog_weather_object_detection/fog_object_detection/images/val/M0704_img000795.jpg: 352x640 40 cars, 1 truck, 7.4ms\n",
            "image 232/600 /content/drive/MyDrive/fog_weather_object_detection/fog_object_detection/images/val/M0704_img000800.jpg: 352x640 40 cars, 1 truck, 7.8ms\n",
            "image 233/600 /content/drive/MyDrive/fog_weather_object_detection/fog_object_detection/images/val/M0704_img000802.jpg: 352x640 41 cars, 1 truck, 7.4ms\n",
            "image 234/600 /content/drive/MyDrive/fog_weather_object_detection/fog_object_detection/images/val/M0704_img000803.jpg: 352x640 41 cars, 1 truck, 7.6ms\n",
            "image 235/600 /content/drive/MyDrive/fog_weather_object_detection/fog_object_detection/images/val/M0704_img000804.jpg: 352x640 41 cars, 1 truck, 7.5ms\n",
            "image 236/600 /content/drive/MyDrive/fog_weather_object_detection/fog_object_detection/images/val/M0704_img000807.jpg: 352x640 41 cars, 1 truck, 7.4ms\n",
            "image 237/600 /content/drive/MyDrive/fog_weather_object_detection/fog_object_detection/images/val/M0704_img000812.jpg: 352x640 41 cars, 1 truck, 7.4ms\n",
            "image 238/600 /content/drive/MyDrive/fog_weather_object_detection/fog_object_detection/images/val/M0704_img000815.jpg: 352x640 42 cars, 1 truck, 7.4ms\n",
            "image 239/600 /content/drive/MyDrive/fog_weather_object_detection/fog_object_detection/images/val/M0704_img000816.jpg: 352x640 42 cars, 1 truck, 7.4ms\n",
            "image 240/600 /content/drive/MyDrive/fog_weather_object_detection/fog_object_detection/images/val/M1005_img000005.jpg: 352x640 11 cars, 7.4ms\n",
            "image 241/600 /content/drive/MyDrive/fog_weather_object_detection/fog_object_detection/images/val/M1005_img000009.jpg: 352x640 11 cars, 7.4ms\n",
            "image 242/600 /content/drive/MyDrive/fog_weather_object_detection/fog_object_detection/images/val/M1005_img000019.jpg: 352x640 12 cars, 7.4ms\n",
            "image 243/600 /content/drive/MyDrive/fog_weather_object_detection/fog_object_detection/images/val/M1005_img000020.jpg: 352x640 12 cars, 7.3ms\n",
            "image 244/600 /content/drive/MyDrive/fog_weather_object_detection/fog_object_detection/images/val/M1005_img000021.jpg: 352x640 12 cars, 8.2ms\n",
            "image 245/600 /content/drive/MyDrive/fog_weather_object_detection/fog_object_detection/images/val/M1005_img000022.jpg: 352x640 12 cars, 7.6ms\n",
            "image 246/600 /content/drive/MyDrive/fog_weather_object_detection/fog_object_detection/images/val/M1005_img000037.jpg: 352x640 14 cars, 7.7ms\n",
            "image 247/600 /content/drive/MyDrive/fog_weather_object_detection/fog_object_detection/images/val/M1005_img000042.jpg: 352x640 14 cars, 7.5ms\n",
            "image 248/600 /content/drive/MyDrive/fog_weather_object_detection/fog_object_detection/images/val/M1005_img000049.jpg: 352x640 14 cars, 7.5ms\n",
            "image 249/600 /content/drive/MyDrive/fog_weather_object_detection/fog_object_detection/images/val/M1005_img000058.jpg: 352x640 14 cars, 7.5ms\n",
            "image 250/600 /content/drive/MyDrive/fog_weather_object_detection/fog_object_detection/images/val/M1005_img000061.jpg: 352x640 14 cars, 7.6ms\n",
            "image 251/600 /content/drive/MyDrive/fog_weather_object_detection/fog_object_detection/images/val/M1005_img000062.jpg: 352x640 15 cars, 7.8ms\n",
            "image 252/600 /content/drive/MyDrive/fog_weather_object_detection/fog_object_detection/images/val/M1005_img000063.jpg: 352x640 14 cars, 7.3ms\n",
            "image 253/600 /content/drive/MyDrive/fog_weather_object_detection/fog_object_detection/images/val/M1005_img000069.jpg: 352x640 17 cars, 7.8ms\n",
            "image 254/600 /content/drive/MyDrive/fog_weather_object_detection/fog_object_detection/images/val/M1005_img000073.jpg: 352x640 17 cars, 7.7ms\n",
            "image 255/600 /content/drive/MyDrive/fog_weather_object_detection/fog_object_detection/images/val/M1005_img000074.jpg: 352x640 17 cars, 7.7ms\n",
            "image 256/600 /content/drive/MyDrive/fog_weather_object_detection/fog_object_detection/images/val/M1005_img000079.jpg: 352x640 18 cars, 7.8ms\n",
            "image 257/600 /content/drive/MyDrive/fog_weather_object_detection/fog_object_detection/images/val/M1005_img000081.jpg: 352x640 18 cars, 8.1ms\n",
            "image 258/600 /content/drive/MyDrive/fog_weather_object_detection/fog_object_detection/images/val/M1005_img000083.jpg: 352x640 17 cars, 7.9ms\n",
            "image 259/600 /content/drive/MyDrive/fog_weather_object_detection/fog_object_detection/images/val/M1005_img000085.jpg: 352x640 17 cars, 7.9ms\n",
            "image 260/600 /content/drive/MyDrive/fog_weather_object_detection/fog_object_detection/images/val/M1005_img000087.jpg: 352x640 18 cars, 7.3ms\n",
            "image 261/600 /content/drive/MyDrive/fog_weather_object_detection/fog_object_detection/images/val/M1005_img000092.jpg: 352x640 17 cars, 7.7ms\n",
            "image 262/600 /content/drive/MyDrive/fog_weather_object_detection/fog_object_detection/images/val/M1005_img000095.jpg: 352x640 16 cars, 10.8ms\n",
            "image 263/600 /content/drive/MyDrive/fog_weather_object_detection/fog_object_detection/images/val/M1005_img000098.jpg: 352x640 16 cars, 10.4ms\n",
            "image 264/600 /content/drive/MyDrive/fog_weather_object_detection/fog_object_detection/images/val/M1005_img000100.jpg: 352x640 18 cars, 10.3ms\n",
            "image 265/600 /content/drive/MyDrive/fog_weather_object_detection/fog_object_detection/images/val/M1005_img000102.jpg: 352x640 20 cars, 7.8ms\n",
            "image 266/600 /content/drive/MyDrive/fog_weather_object_detection/fog_object_detection/images/val/M1005_img000115.jpg: 352x640 20 cars, 7.9ms\n",
            "image 267/600 /content/drive/MyDrive/fog_weather_object_detection/fog_object_detection/images/val/M1005_img000132.jpg: 352x640 18 cars, 7.5ms\n",
            "image 268/600 /content/drive/MyDrive/fog_weather_object_detection/fog_object_detection/images/val/M1005_img000135.jpg: 352x640 19 cars, 7.9ms\n",
            "image 269/600 /content/drive/MyDrive/fog_weather_object_detection/fog_object_detection/images/val/M1005_img000140.jpg: 352x640 20 cars, 7.6ms\n",
            "image 270/600 /content/drive/MyDrive/fog_weather_object_detection/fog_object_detection/images/val/M1005_img000141.jpg: 352x640 20 cars, 7.5ms\n",
            "image 271/600 /content/drive/MyDrive/fog_weather_object_detection/fog_object_detection/images/val/M1005_img000148.jpg: 352x640 20 cars, 7.6ms\n",
            "image 272/600 /content/drive/MyDrive/fog_weather_object_detection/fog_object_detection/images/val/M1005_img000157.jpg: 352x640 18 cars, 7.5ms\n",
            "image 273/600 /content/drive/MyDrive/fog_weather_object_detection/fog_object_detection/images/val/M1005_img000159.jpg: 352x640 17 cars, 7.3ms\n",
            "image 274/600 /content/drive/MyDrive/fog_weather_object_detection/fog_object_detection/images/val/M1005_img000162.jpg: 352x640 19 cars, 7.8ms\n",
            "image 275/600 /content/drive/MyDrive/fog_weather_object_detection/fog_object_detection/images/val/M1005_img000166.jpg: 352x640 19 cars, 7.6ms\n",
            "image 276/600 /content/drive/MyDrive/fog_weather_object_detection/fog_object_detection/images/val/M1005_img000169.jpg: 352x640 18 cars, 7.5ms\n",
            "image 277/600 /content/drive/MyDrive/fog_weather_object_detection/fog_object_detection/images/val/M1005_img000172.jpg: 352x640 20 cars, 7.5ms\n",
            "image 278/600 /content/drive/MyDrive/fog_weather_object_detection/fog_object_detection/images/val/M1005_img000173.jpg: 352x640 19 cars, 7.3ms\n",
            "image 279/600 /content/drive/MyDrive/fog_weather_object_detection/fog_object_detection/images/val/M1005_img000174.jpg: 352x640 20 cars, 7.3ms\n",
            "image 280/600 /content/drive/MyDrive/fog_weather_object_detection/fog_object_detection/images/val/M1005_img000180.jpg: 352x640 19 cars, 7.3ms\n",
            "image 281/600 /content/drive/MyDrive/fog_weather_object_detection/fog_object_detection/images/val/M1005_img000186.jpg: 352x640 20 cars, 7.2ms\n",
            "image 282/600 /content/drive/MyDrive/fog_weather_object_detection/fog_object_detection/images/val/M1005_img000187.jpg: 352x640 20 cars, 7.2ms\n",
            "image 283/600 /content/drive/MyDrive/fog_weather_object_detection/fog_object_detection/images/val/M1005_img000202.jpg: 352x640 20 cars, 7.3ms\n",
            "image 284/600 /content/drive/MyDrive/fog_weather_object_detection/fog_object_detection/images/val/M1005_img000205.jpg: 352x640 20 cars, 7.2ms\n",
            "image 285/600 /content/drive/MyDrive/fog_weather_object_detection/fog_object_detection/images/val/M1005_img000208.jpg: 352x640 20 cars, 7.2ms\n",
            "image 286/600 /content/drive/MyDrive/fog_weather_object_detection/fog_object_detection/images/val/M1005_img000211.jpg: 352x640 20 cars, 7.2ms\n",
            "image 287/600 /content/drive/MyDrive/fog_weather_object_detection/fog_object_detection/images/val/M1005_img000222.jpg: 352x640 22 cars, 7.3ms\n",
            "image 288/600 /content/drive/MyDrive/fog_weather_object_detection/fog_object_detection/images/val/M1005_img000234.jpg: 352x640 22 cars, 7.3ms\n",
            "image 289/600 /content/drive/MyDrive/fog_weather_object_detection/fog_object_detection/images/val/M1005_img000239.jpg: 352x640 22 cars, 7.4ms\n",
            "image 290/600 /content/drive/MyDrive/fog_weather_object_detection/fog_object_detection/images/val/M1005_img000241.jpg: 352x640 21 cars, 7.2ms\n",
            "image 291/600 /content/drive/MyDrive/fog_weather_object_detection/fog_object_detection/images/val/M1005_img000243.jpg: 352x640 21 cars, 7.3ms\n",
            "image 292/600 /content/drive/MyDrive/fog_weather_object_detection/fog_object_detection/images/val/M1005_img000261.jpg: 352x640 21 cars, 7.3ms\n",
            "image 293/600 /content/drive/MyDrive/fog_weather_object_detection/fog_object_detection/images/val/M1005_img000276.jpg: 352x640 20 cars, 7.3ms\n",
            "image 294/600 /content/drive/MyDrive/fog_weather_object_detection/fog_object_detection/images/val/M1005_img000279.jpg: 352x640 20 cars, 7.4ms\n",
            "image 295/600 /content/drive/MyDrive/fog_weather_object_detection/fog_object_detection/images/val/M1005_img000281.jpg: 352x640 21 cars, 7.3ms\n",
            "image 296/600 /content/drive/MyDrive/fog_weather_object_detection/fog_object_detection/images/val/M1005_img000306.jpg: 352x640 25 cars, 1 truck, 7.3ms\n",
            "image 297/600 /content/drive/MyDrive/fog_weather_object_detection/fog_object_detection/images/val/M1005_img000316.jpg: 352x640 24 cars, 1 truck, 7.3ms\n",
            "image 298/600 /content/drive/MyDrive/fog_weather_object_detection/fog_object_detection/images/val/M1005_img000324.jpg: 352x640 24 cars, 1 truck, 7.2ms\n",
            "image 299/600 /content/drive/MyDrive/fog_weather_object_detection/fog_object_detection/images/val/M1005_img000325.jpg: 352x640 24 cars, 1 truck, 7.3ms\n",
            "image 300/600 /content/drive/MyDrive/fog_weather_object_detection/fog_object_detection/images/val/M1005_img000327.jpg: 352x640 24 cars, 1 truck, 7.3ms\n",
            "image 301/600 /content/drive/MyDrive/fog_weather_object_detection/fog_object_detection/images/val/M1005_img000330.jpg: 352x640 23 cars, 1 truck, 7.3ms\n",
            "image 302/600 /content/drive/MyDrive/fog_weather_object_detection/fog_object_detection/images/val/M1005_img000331.jpg: 352x640 23 cars, 1 truck, 7.6ms\n",
            "image 303/600 /content/drive/MyDrive/fog_weather_object_detection/fog_object_detection/images/val/M1005_img000333.jpg: 352x640 22 cars, 1 truck, 7.5ms\n",
            "image 304/600 /content/drive/MyDrive/fog_weather_object_detection/fog_object_detection/images/val/M1005_img000342.jpg: 352x640 22 cars, 1 truck, 7.4ms\n",
            "image 305/600 /content/drive/MyDrive/fog_weather_object_detection/fog_object_detection/images/val/M1005_img000346.jpg: 352x640 22 cars, 1 truck, 7.3ms\n",
            "image 306/600 /content/drive/MyDrive/fog_weather_object_detection/fog_object_detection/images/val/M1005_img000353.jpg: 352x640 22 cars, 1 truck, 7.3ms\n",
            "image 307/600 /content/drive/MyDrive/fog_weather_object_detection/fog_object_detection/images/val/M1005_img000370.jpg: 352x640 21 cars, 1 truck, 9.8ms\n",
            "image 308/600 /content/drive/MyDrive/fog_weather_object_detection/fog_object_detection/images/val/M1005_img000376.jpg: 352x640 21 cars, 1 truck, 7.7ms\n",
            "image 309/600 /content/drive/MyDrive/fog_weather_object_detection/fog_object_detection/images/val/M1005_img000377.jpg: 352x640 21 cars, 1 truck, 8.9ms\n",
            "image 310/600 /content/drive/MyDrive/fog_weather_object_detection/fog_object_detection/images/val/M1005_img000378.jpg: 352x640 21 cars, 1 truck, 7.8ms\n",
            "image 311/600 /content/drive/MyDrive/fog_weather_object_detection/fog_object_detection/images/val/M1005_img000379.jpg: 352x640 21 cars, 1 truck, 8.0ms\n",
            "image 312/600 /content/drive/MyDrive/fog_weather_object_detection/fog_object_detection/images/val/M1005_img000380.jpg: 352x640 22 cars, 1 truck, 8.5ms\n",
            "image 313/600 /content/drive/MyDrive/fog_weather_object_detection/fog_object_detection/images/val/M1005_img000391.jpg: 352x640 21 cars, 1 truck, 8.0ms\n",
            "image 314/600 /content/drive/MyDrive/fog_weather_object_detection/fog_object_detection/images/val/M1005_img000392.jpg: 352x640 20 cars, 1 truck, 7.9ms\n",
            "image 315/600 /content/drive/MyDrive/fog_weather_object_detection/fog_object_detection/images/val/M1005_img000398.jpg: 352x640 22 cars, 1 truck, 7.6ms\n",
            "image 316/600 /content/drive/MyDrive/fog_weather_object_detection/fog_object_detection/images/val/M1005_img000404.jpg: 352x640 20 cars, 1 truck, 7.6ms\n",
            "image 317/600 /content/drive/MyDrive/fog_weather_object_detection/fog_object_detection/images/val/M1005_img000407.jpg: 352x640 21 cars, 1 truck, 7.9ms\n",
            "image 318/600 /content/drive/MyDrive/fog_weather_object_detection/fog_object_detection/images/val/M1005_img000409.jpg: 352x640 23 cars, 1 truck, 7.4ms\n",
            "image 319/600 /content/drive/MyDrive/fog_weather_object_detection/fog_object_detection/images/val/M1005_img000416.jpg: 352x640 22 cars, 1 truck, 7.6ms\n",
            "image 320/600 /content/drive/MyDrive/fog_weather_object_detection/fog_object_detection/images/val/M1005_img000429.jpg: 352x640 22 cars, 1 truck, 7.5ms\n",
            "image 321/600 /content/drive/MyDrive/fog_weather_object_detection/fog_object_detection/images/val/M1005_img000431.jpg: 352x640 22 cars, 1 truck, 7.6ms\n",
            "image 322/600 /content/drive/MyDrive/fog_weather_object_detection/fog_object_detection/images/val/M1005_img000450.jpg: 352x640 24 cars, 1 truck, 7.6ms\n",
            "image 323/600 /content/drive/MyDrive/fog_weather_object_detection/fog_object_detection/images/val/M1005_img000461.jpg: 352x640 24 cars, 1 truck, 7.8ms\n",
            "image 324/600 /content/drive/MyDrive/fog_weather_object_detection/fog_object_detection/images/val/M1005_img000472.jpg: 352x640 23 cars, 1 truck, 7.7ms\n",
            "image 325/600 /content/drive/MyDrive/fog_weather_object_detection/fog_object_detection/images/val/M1005_img000473.jpg: 352x640 23 cars, 1 truck, 7.6ms\n",
            "image 326/600 /content/drive/MyDrive/fog_weather_object_detection/fog_object_detection/images/val/M1005_img000476.jpg: 352x640 24 cars, 1 truck, 7.4ms\n",
            "image 327/600 /content/drive/MyDrive/fog_weather_object_detection/fog_object_detection/images/val/M1005_img000477.jpg: 352x640 24 cars, 1 truck, 7.4ms\n",
            "image 328/600 /content/drive/MyDrive/fog_weather_object_detection/fog_object_detection/images/val/M1005_img000483.jpg: 352x640 24 cars, 1 truck, 7.4ms\n",
            "image 329/600 /content/drive/MyDrive/fog_weather_object_detection/fog_object_detection/images/val/M1005_img000491.jpg: 352x640 23 cars, 1 truck, 7.6ms\n",
            "image 330/600 /content/drive/MyDrive/fog_weather_object_detection/fog_object_detection/images/val/M1005_img000497.jpg: 352x640 23 cars, 1 truck, 7.5ms\n",
            "image 331/600 /content/drive/MyDrive/fog_weather_object_detection/fog_object_detection/images/val/M1005_img000500.jpg: 352x640 24 cars, 1 truck, 7.7ms\n",
            "image 332/600 /content/drive/MyDrive/fog_weather_object_detection/fog_object_detection/images/val/M1005_img000526.jpg: 352x640 23 cars, 1 truck, 7.7ms\n",
            "image 333/600 /content/drive/MyDrive/fog_weather_object_detection/fog_object_detection/images/val/M1006_img000001.jpg: 352x640 24 cars, 2 trucks, 2 buss, 7.6ms\n",
            "image 334/600 /content/drive/MyDrive/fog_weather_object_detection/fog_object_detection/images/val/M1006_img000002.jpg: 352x640 23 cars, 2 trucks, 2 buss, 7.5ms\n",
            "image 335/600 /content/drive/MyDrive/fog_weather_object_detection/fog_object_detection/images/val/M1006_img000003.jpg: 352x640 25 cars, 2 trucks, 2 buss, 7.8ms\n",
            "image 336/600 /content/drive/MyDrive/fog_weather_object_detection/fog_object_detection/images/val/M1006_img000007.jpg: 352x640 25 cars, 2 trucks, 2 buss, 7.4ms\n",
            "image 337/600 /content/drive/MyDrive/fog_weather_object_detection/fog_object_detection/images/val/M1006_img000010.jpg: 352x640 25 cars, 2 trucks, 2 buss, 7.6ms\n",
            "image 338/600 /content/drive/MyDrive/fog_weather_object_detection/fog_object_detection/images/val/M1006_img000015.jpg: 352x640 27 cars, 2 trucks, 2 buss, 7.8ms\n",
            "image 339/600 /content/drive/MyDrive/fog_weather_object_detection/fog_object_detection/images/val/M1006_img000018.jpg: 352x640 27 cars, 2 trucks, 2 buss, 8.1ms\n",
            "image 340/600 /content/drive/MyDrive/fog_weather_object_detection/fog_object_detection/images/val/M1006_img000024.jpg: 352x640 28 cars, 2 trucks, 2 buss, 8.0ms\n",
            "image 341/600 /content/drive/MyDrive/fog_weather_object_detection/fog_object_detection/images/val/M1006_img000030.jpg: 352x640 28 cars, 2 trucks, 2 buss, 7.4ms\n",
            "image 342/600 /content/drive/MyDrive/fog_weather_object_detection/fog_object_detection/images/val/M1006_img000039.jpg: 352x640 28 cars, 2 trucks, 2 buss, 7.5ms\n",
            "image 343/600 /content/drive/MyDrive/fog_weather_object_detection/fog_object_detection/images/val/M1006_img000044.jpg: 352x640 27 cars, 2 trucks, 2 buss, 7.7ms\n",
            "image 344/600 /content/drive/MyDrive/fog_weather_object_detection/fog_object_detection/images/val/M1006_img000049.jpg: 352x640 27 cars, 2 trucks, 2 buss, 7.6ms\n",
            "image 345/600 /content/drive/MyDrive/fog_weather_object_detection/fog_object_detection/images/val/M1006_img000060.jpg: 352x640 29 cars, 2 trucks, 2 buss, 9.6ms\n",
            "image 346/600 /content/drive/MyDrive/fog_weather_object_detection/fog_object_detection/images/val/M1006_img000070.jpg: 352x640 29 cars, 2 trucks, 2 buss, 7.6ms\n",
            "image 347/600 /content/drive/MyDrive/fog_weather_object_detection/fog_object_detection/images/val/M1006_img000072.jpg: 352x640 30 cars, 2 trucks, 2 buss, 7.9ms\n",
            "image 348/600 /content/drive/MyDrive/fog_weather_object_detection/fog_object_detection/images/val/M1006_img000075.jpg: 352x640 30 cars, 2 trucks, 2 buss, 9.0ms\n",
            "image 349/600 /content/drive/MyDrive/fog_weather_object_detection/fog_object_detection/images/val/M1006_img000077.jpg: 352x640 30 cars, 2 trucks, 2 buss, 7.6ms\n",
            "image 350/600 /content/drive/MyDrive/fog_weather_object_detection/fog_object_detection/images/val/M1006_img000079.jpg: 352x640 30 cars, 2 trucks, 2 buss, 8.0ms\n",
            "image 351/600 /content/drive/MyDrive/fog_weather_object_detection/fog_object_detection/images/val/M1006_img000083.jpg: 352x640 31 cars, 2 trucks, 2 buss, 8.2ms\n",
            "image 352/600 /content/drive/MyDrive/fog_weather_object_detection/fog_object_detection/images/val/M1006_img000087.jpg: 352x640 31 cars, 2 trucks, 2 buss, 8.2ms\n",
            "image 353/600 /content/drive/MyDrive/fog_weather_object_detection/fog_object_detection/images/val/M1006_img000089.jpg: 352x640 32 cars, 2 trucks, 2 buss, 7.9ms\n",
            "image 354/600 /content/drive/MyDrive/fog_weather_object_detection/fog_object_detection/images/val/M1006_img000098.jpg: 352x640 30 cars, 2 trucks, 2 buss, 7.5ms\n",
            "image 355/600 /content/drive/MyDrive/fog_weather_object_detection/fog_object_detection/images/val/M1006_img000106.jpg: 352x640 30 cars, 2 trucks, 2 buss, 7.5ms\n",
            "image 356/600 /content/drive/MyDrive/fog_weather_object_detection/fog_object_detection/images/val/M1006_img000110.jpg: 352x640 32 cars, 2 trucks, 2 buss, 7.6ms\n",
            "image 357/600 /content/drive/MyDrive/fog_weather_object_detection/fog_object_detection/images/val/M1006_img000115.jpg: 352x640 32 cars, 2 trucks, 2 buss, 9.0ms\n",
            "image 358/600 /content/drive/MyDrive/fog_weather_object_detection/fog_object_detection/images/val/M1006_img000125.jpg: 352x640 33 cars, 2 trucks, 2 buss, 9.3ms\n",
            "image 359/600 /content/drive/MyDrive/fog_weather_object_detection/fog_object_detection/images/val/M1006_img000132.jpg: 352x640 34 cars, 2 trucks, 2 buss, 7.9ms\n",
            "image 360/600 /content/drive/MyDrive/fog_weather_object_detection/fog_object_detection/images/val/M1006_img000133.jpg: 352x640 34 cars, 2 trucks, 2 buss, 7.3ms\n",
            "image 361/600 /content/drive/MyDrive/fog_weather_object_detection/fog_object_detection/images/val/M1006_img000143.jpg: 352x640 33 cars, 2 trucks, 2 buss, 7.4ms\n",
            "image 362/600 /content/drive/MyDrive/fog_weather_object_detection/fog_object_detection/images/val/M1006_img000146.jpg: 352x640 33 cars, 2 trucks, 2 buss, 7.3ms\n",
            "image 363/600 /content/drive/MyDrive/fog_weather_object_detection/fog_object_detection/images/val/M1006_img000150.jpg: 352x640 34 cars, 2 trucks, 2 buss, 8.2ms\n",
            "image 364/600 /content/drive/MyDrive/fog_weather_object_detection/fog_object_detection/images/val/M1006_img000154.jpg: 352x640 34 cars, 2 trucks, 2 buss, 8.0ms\n",
            "image 365/600 /content/drive/MyDrive/fog_weather_object_detection/fog_object_detection/images/val/M1006_img000169.jpg: 352x640 33 cars, 2 trucks, 2 buss, 7.8ms\n",
            "image 366/600 /content/drive/MyDrive/fog_weather_object_detection/fog_object_detection/images/val/M1006_img000170.jpg: 352x640 33 cars, 2 trucks, 2 buss, 7.5ms\n",
            "image 367/600 /content/drive/MyDrive/fog_weather_object_detection/fog_object_detection/images/val/M1006_img000171.jpg: 352x640 33 cars, 2 trucks, 2 buss, 7.8ms\n",
            "image 368/600 /content/drive/MyDrive/fog_weather_object_detection/fog_object_detection/images/val/M1006_img000175.jpg: 352x640 33 cars, 2 trucks, 2 buss, 8.0ms\n",
            "image 369/600 /content/drive/MyDrive/fog_weather_object_detection/fog_object_detection/images/val/M1006_img000180.jpg: 352x640 33 cars, 2 trucks, 2 buss, 7.9ms\n",
            "image 370/600 /content/drive/MyDrive/fog_weather_object_detection/fog_object_detection/images/val/M1006_img000181.jpg: 352x640 33 cars, 2 trucks, 2 buss, 8.5ms\n",
            "image 371/600 /content/drive/MyDrive/fog_weather_object_detection/fog_object_detection/images/val/M1006_img000190.jpg: 352x640 35 cars, 2 trucks, 2 buss, 7.9ms\n",
            "image 372/600 /content/drive/MyDrive/fog_weather_object_detection/fog_object_detection/images/val/M1006_img000192.jpg: 352x640 35 cars, 2 trucks, 2 buss, 7.7ms\n",
            "image 373/600 /content/drive/MyDrive/fog_weather_object_detection/fog_object_detection/images/val/M1006_img000206.jpg: 352x640 35 cars, 2 trucks, 2 buss, 7.8ms\n",
            "image 374/600 /content/drive/MyDrive/fog_weather_object_detection/fog_object_detection/images/val/M1006_img000216.jpg: 352x640 36 cars, 2 trucks, 2 buss, 7.8ms\n",
            "image 375/600 /content/drive/MyDrive/fog_weather_object_detection/fog_object_detection/images/val/M1006_img000220.jpg: 352x640 37 cars, 2 trucks, 2 buss, 7.8ms\n",
            "image 376/600 /content/drive/MyDrive/fog_weather_object_detection/fog_object_detection/images/val/M1006_img000223.jpg: 352x640 36 cars, 2 trucks, 2 buss, 8.3ms\n",
            "image 377/600 /content/drive/MyDrive/fog_weather_object_detection/fog_object_detection/images/val/M1006_img000224.jpg: 352x640 36 cars, 2 trucks, 2 buss, 7.7ms\n",
            "image 378/600 /content/drive/MyDrive/fog_weather_object_detection/fog_object_detection/images/val/M1006_img000227.jpg: 352x640 35 cars, 2 trucks, 2 buss, 7.6ms\n",
            "image 379/600 /content/drive/MyDrive/fog_weather_object_detection/fog_object_detection/images/val/M1006_img000228.jpg: 352x640 35 cars, 2 trucks, 2 buss, 10.6ms\n",
            "image 380/600 /content/drive/MyDrive/fog_weather_object_detection/fog_object_detection/images/val/M1006_img000230.jpg: 352x640 34 cars, 2 trucks, 2 buss, 9.7ms\n",
            "image 381/600 /content/drive/MyDrive/fog_weather_object_detection/fog_object_detection/images/val/M1006_img000236.jpg: 352x640 34 cars, 2 trucks, 2 buss, 7.8ms\n",
            "image 382/600 /content/drive/MyDrive/fog_weather_object_detection/fog_object_detection/images/val/M1006_img000241.jpg: 352x640 36 cars, 2 trucks, 2 buss, 8.1ms\n",
            "image 383/600 /content/drive/MyDrive/fog_weather_object_detection/fog_object_detection/images/val/M1006_img000245.jpg: 352x640 36 cars, 2 trucks, 2 buss, 10.2ms\n",
            "image 384/600 /content/drive/MyDrive/fog_weather_object_detection/fog_object_detection/images/val/M1006_img000253.jpg: 352x640 36 cars, 2 trucks, 2 buss, 11.6ms\n",
            "image 385/600 /content/drive/MyDrive/fog_weather_object_detection/fog_object_detection/images/val/M1006_img000257.jpg: 352x640 34 cars, 2 trucks, 2 buss, 9.1ms\n",
            "image 386/600 /content/drive/MyDrive/fog_weather_object_detection/fog_object_detection/images/val/M1006_img000259.jpg: 352x640 34 cars, 2 trucks, 2 buss, 7.4ms\n",
            "image 387/600 /content/drive/MyDrive/fog_weather_object_detection/fog_object_detection/images/val/M1006_img000264.jpg: 352x640 36 cars, 2 trucks, 2 buss, 7.5ms\n",
            "image 388/600 /content/drive/MyDrive/fog_weather_object_detection/fog_object_detection/images/val/M1006_img000266.jpg: 352x640 36 cars, 2 trucks, 2 buss, 7.4ms\n",
            "image 389/600 /content/drive/MyDrive/fog_weather_object_detection/fog_object_detection/images/val/M1006_img000268.jpg: 352x640 37 cars, 2 trucks, 2 buss, 7.6ms\n",
            "image 390/600 /content/drive/MyDrive/fog_weather_object_detection/fog_object_detection/images/val/M1006_img000274.jpg: 352x640 36 cars, 2 trucks, 2 buss, 7.4ms\n",
            "image 391/600 /content/drive/MyDrive/fog_weather_object_detection/fog_object_detection/images/val/M1006_img000278.jpg: 352x640 37 cars, 2 trucks, 2 buss, 7.4ms\n",
            "image 392/600 /content/drive/MyDrive/fog_weather_object_detection/fog_object_detection/images/val/M1006_img000289.jpg: 352x640 36 cars, 2 trucks, 2 buss, 7.4ms\n",
            "image 393/600 /content/drive/MyDrive/fog_weather_object_detection/fog_object_detection/images/val/M1006_img000303.jpg: 352x640 35 cars, 2 trucks, 2 buss, 7.4ms\n",
            "image 394/600 /content/drive/MyDrive/fog_weather_object_detection/fog_object_detection/images/val/M1006_img000310.jpg: 352x640 35 cars, 2 trucks, 2 buss, 7.9ms\n",
            "image 395/600 /content/drive/MyDrive/fog_weather_object_detection/fog_object_detection/images/val/M1006_img000311.jpg: 352x640 34 cars, 2 trucks, 2 buss, 7.8ms\n",
            "image 396/600 /content/drive/MyDrive/fog_weather_object_detection/fog_object_detection/images/val/M1006_img000314.jpg: 352x640 34 cars, 2 trucks, 2 buss, 7.9ms\n",
            "image 397/600 /content/drive/MyDrive/fog_weather_object_detection/fog_object_detection/images/val/M1006_img000321.jpg: 352x640 35 cars, 2 trucks, 2 buss, 7.9ms\n",
            "image 398/600 /content/drive/MyDrive/fog_weather_object_detection/fog_object_detection/images/val/M1006_img000325.jpg: 352x640 35 cars, 2 trucks, 2 buss, 7.5ms\n",
            "image 399/600 /content/drive/MyDrive/fog_weather_object_detection/fog_object_detection/images/val/M1006_img000327.jpg: 352x640 35 cars, 2 trucks, 2 buss, 7.7ms\n",
            "image 400/600 /content/drive/MyDrive/fog_weather_object_detection/fog_object_detection/images/val/M1006_img000331.jpg: 352x640 35 cars, 2 trucks, 2 buss, 8.4ms\n",
            "image 401/600 /content/drive/MyDrive/fog_weather_object_detection/fog_object_detection/images/val/M1006_img000333.jpg: 352x640 34 cars, 2 trucks, 2 buss, 8.1ms\n",
            "image 402/600 /content/drive/MyDrive/fog_weather_object_detection/fog_object_detection/images/val/M1006_img000338.jpg: 352x640 34 cars, 2 trucks, 2 buss, 7.9ms\n",
            "image 403/600 /content/drive/MyDrive/fog_weather_object_detection/fog_object_detection/images/val/M1006_img000339.jpg: 352x640 34 cars, 2 trucks, 2 buss, 7.7ms\n",
            "image 404/600 /content/drive/MyDrive/fog_weather_object_detection/fog_object_detection/images/val/M1006_img000348.jpg: 352x640 36 cars, 2 trucks, 1 bus, 8.4ms\n",
            "image 405/600 /content/drive/MyDrive/fog_weather_object_detection/fog_object_detection/images/val/M1006_img000351.jpg: 352x640 36 cars, 2 trucks, 1 bus, 7.9ms\n",
            "image 406/600 /content/drive/MyDrive/fog_weather_object_detection/fog_object_detection/images/val/M1006_img000353.jpg: 352x640 35 cars, 2 trucks, 1 bus, 8.0ms\n",
            "image 407/600 /content/drive/MyDrive/fog_weather_object_detection/fog_object_detection/images/val/M1006_img000355.jpg: 352x640 35 cars, 2 trucks, 1 bus, 7.7ms\n",
            "image 408/600 /content/drive/MyDrive/fog_weather_object_detection/fog_object_detection/images/val/M1006_img000364.jpg: 352x640 33 cars, 1 truck, 1 bus, 8.0ms\n",
            "image 409/600 /content/drive/MyDrive/fog_weather_object_detection/fog_object_detection/images/val/M1006_img000368.jpg: 352x640 32 cars, 1 truck, 1 bus, 7.9ms\n",
            "image 410/600 /content/drive/MyDrive/fog_weather_object_detection/fog_object_detection/images/val/M1006_img000370.jpg: 352x640 32 cars, 1 truck, 1 bus, 7.5ms\n",
            "image 411/600 /content/drive/MyDrive/fog_weather_object_detection/fog_object_detection/images/val/M1006_img000382.jpg: 352x640 31 cars, 1 bus, 7.6ms\n",
            "image 412/600 /content/drive/MyDrive/fog_weather_object_detection/fog_object_detection/images/val/M1006_img000383.jpg: 352x640 31 cars, 1 bus, 8.0ms\n",
            "image 413/600 /content/drive/MyDrive/fog_weather_object_detection/fog_object_detection/images/val/M1006_img000384.jpg: 352x640 30 cars, 1 bus, 7.5ms\n",
            "image 414/600 /content/drive/MyDrive/fog_weather_object_detection/fog_object_detection/images/val/M1006_img000388.jpg: 352x640 30 cars, 1 bus, 7.4ms\n",
            "image 415/600 /content/drive/MyDrive/fog_weather_object_detection/fog_object_detection/images/val/M1006_img000389.jpg: 352x640 32 cars, 8.1ms\n",
            "image 416/600 /content/drive/MyDrive/fog_weather_object_detection/fog_object_detection/images/val/M1006_img000394.jpg: 352x640 31 cars, 7.4ms\n",
            "image 417/600 /content/drive/MyDrive/fog_weather_object_detection/fog_object_detection/images/val/M1006_img000397.jpg: 352x640 30 cars, 7.6ms\n",
            "image 418/600 /content/drive/MyDrive/fog_weather_object_detection/fog_object_detection/images/val/M1006_img000423.jpg: 352x640 32 cars, 7.5ms\n",
            "image 419/600 /content/drive/MyDrive/fog_weather_object_detection/fog_object_detection/images/val/M1006_img000425.jpg: 352x640 32 cars, 7.7ms\n",
            "image 420/600 /content/drive/MyDrive/fog_weather_object_detection/fog_object_detection/images/val/M1006_img000437.jpg: 352x640 29 cars, 7.7ms\n",
            "image 421/600 /content/drive/MyDrive/fog_weather_object_detection/fog_object_detection/images/val/M1006_img000441.jpg: 352x640 29 cars, 8.0ms\n",
            "image 422/600 /content/drive/MyDrive/fog_weather_object_detection/fog_object_detection/images/val/M1006_img000447.jpg: 352x640 28 cars, 7.7ms\n",
            "image 423/600 /content/drive/MyDrive/fog_weather_object_detection/fog_object_detection/images/val/M1006_img000449.jpg: 352x640 28 cars, 7.7ms\n",
            "image 424/600 /content/drive/MyDrive/fog_weather_object_detection/fog_object_detection/images/val/M1006_img000454.jpg: 352x640 28 cars, 9.7ms\n",
            "image 425/600 /content/drive/MyDrive/fog_weather_object_detection/fog_object_detection/images/val/M1006_img000457.jpg: 352x640 28 cars, 8.4ms\n",
            "image 426/600 /content/drive/MyDrive/fog_weather_object_detection/fog_object_detection/images/val/M1006_img000459.jpg: 352x640 28 cars, 8.4ms\n",
            "image 427/600 /content/drive/MyDrive/fog_weather_object_detection/fog_object_detection/images/val/M1006_img000462.jpg: 352x640 28 cars, 8.2ms\n",
            "image 428/600 /content/drive/MyDrive/fog_weather_object_detection/fog_object_detection/images/val/M1006_img000464.jpg: 352x640 28 cars, 8.0ms\n",
            "image 429/600 /content/drive/MyDrive/fog_weather_object_detection/fog_object_detection/images/val/M1006_img000470.jpg: 352x640 28 cars, 8.2ms\n",
            "image 430/600 /content/drive/MyDrive/fog_weather_object_detection/fog_object_detection/images/val/M1006_img000471.jpg: 352x640 28 cars, 8.5ms\n",
            "image 431/600 /content/drive/MyDrive/fog_weather_object_detection/fog_object_detection/images/val/M1006_img000475.jpg: 352x640 28 cars, 8.1ms\n",
            "image 432/600 /content/drive/MyDrive/fog_weather_object_detection/fog_object_detection/images/val/M1006_img000482.jpg: 352x640 28 cars, 7.9ms\n",
            "image 433/600 /content/drive/MyDrive/fog_weather_object_detection/fog_object_detection/images/val/M1006_img000488.jpg: 352x640 28 cars, 8.1ms\n",
            "image 434/600 /content/drive/MyDrive/fog_weather_object_detection/fog_object_detection/images/val/M1006_img000491.jpg: 352x640 28 cars, 7.7ms\n",
            "image 435/600 /content/drive/MyDrive/fog_weather_object_detection/fog_object_detection/images/val/M1006_img000499.jpg: 352x640 29 cars, 8.0ms\n",
            "image 436/600 /content/drive/MyDrive/fog_weather_object_detection/fog_object_detection/images/val/M1006_img000506.jpg: 352x640 26 cars, 8.0ms\n",
            "image 437/600 /content/drive/MyDrive/fog_weather_object_detection/fog_object_detection/images/val/M1006_img000511.jpg: 352x640 27 cars, 8.1ms\n",
            "image 438/600 /content/drive/MyDrive/fog_weather_object_detection/fog_object_detection/images/val/M1006_img000519.jpg: 352x640 26 cars, 9.8ms\n",
            "image 439/600 /content/drive/MyDrive/fog_weather_object_detection/fog_object_detection/images/val/M1006_img000530.jpg: 352x640 23 cars, 8.1ms\n",
            "image 440/600 /content/drive/MyDrive/fog_weather_object_detection/fog_object_detection/images/val/M1006_img000532.jpg: 352x640 23 cars, 8.1ms\n",
            "image 441/600 /content/drive/MyDrive/fog_weather_object_detection/fog_object_detection/images/val/M1006_img000534.jpg: 352x640 24 cars, 7.8ms\n",
            "image 442/600 /content/drive/MyDrive/fog_weather_object_detection/fog_object_detection/images/val/M1006_img000538.jpg: 352x640 23 cars, 8.8ms\n",
            "image 443/600 /content/drive/MyDrive/fog_weather_object_detection/fog_object_detection/images/val/M1006_img000539.jpg: 352x640 23 cars, 8.0ms\n",
            "image 444/600 /content/drive/MyDrive/fog_weather_object_detection/fog_object_detection/images/val/M1006_img000542.jpg: 352x640 23 cars, 7.6ms\n",
            "image 445/600 /content/drive/MyDrive/fog_weather_object_detection/fog_object_detection/images/val/M1006_img000551.jpg: 352x640 23 cars, 1 truck, 8.1ms\n",
            "image 446/600 /content/drive/MyDrive/fog_weather_object_detection/fog_object_detection/images/val/M1006_img000555.jpg: 352x640 22 cars, 1 truck, 7.7ms\n",
            "image 447/600 /content/drive/MyDrive/fog_weather_object_detection/fog_object_detection/images/val/M1006_img000564.jpg: 352x640 22 cars, 1 truck, 7.6ms\n",
            "image 448/600 /content/drive/MyDrive/fog_weather_object_detection/fog_object_detection/images/val/M1006_img000570.jpg: 352x640 22 cars, 1 truck, 7.9ms\n",
            "image 449/600 /content/drive/MyDrive/fog_weather_object_detection/fog_object_detection/images/val/M1006_img000580.jpg: 352x640 24 cars, 1 truck, 8.6ms\n",
            "image 450/600 /content/drive/MyDrive/fog_weather_object_detection/fog_object_detection/images/val/M1006_img000585.jpg: 352x640 24 cars, 1 truck, 8.0ms\n",
            "image 451/600 /content/drive/MyDrive/fog_weather_object_detection/fog_object_detection/images/val/M1006_img000595.jpg: 352x640 22 cars, 1 truck, 8.2ms\n",
            "image 452/600 /content/drive/MyDrive/fog_weather_object_detection/fog_object_detection/images/val/M1006_img000616.jpg: 352x640 20 cars, 1 truck, 7.7ms\n",
            "image 453/600 /content/drive/MyDrive/fog_weather_object_detection/fog_object_detection/images/val/M1006_img000619.jpg: 352x640 20 cars, 1 truck, 7.5ms\n",
            "image 454/600 /content/drive/MyDrive/fog_weather_object_detection/fog_object_detection/images/val/M1006_img000626.jpg: 352x640 20 cars, 1 truck, 7.4ms\n",
            "image 455/600 /content/drive/MyDrive/fog_weather_object_detection/fog_object_detection/images/val/M1006_img000631.jpg: 352x640 19 cars, 1 truck, 7.7ms\n",
            "image 456/600 /content/drive/MyDrive/fog_weather_object_detection/fog_object_detection/images/val/M1006_img000634.jpg: 352x640 18 cars, 1 truck, 7.8ms\n",
            "image 457/600 /content/drive/MyDrive/fog_weather_object_detection/fog_object_detection/images/val/M1006_img000635.jpg: 352x640 18 cars, 1 truck, 7.7ms\n",
            "image 458/600 /content/drive/MyDrive/fog_weather_object_detection/fog_object_detection/images/val/M1006_img000639.jpg: 352x640 18 cars, 1 truck, 7.9ms\n",
            "image 459/600 /content/drive/MyDrive/fog_weather_object_detection/fog_object_detection/images/val/M1006_img000645.jpg: 352x640 19 cars, 1 truck, 7.9ms\n",
            "image 460/600 /content/drive/MyDrive/fog_weather_object_detection/fog_object_detection/images/val/M1006_img000648.jpg: 352x640 19 cars, 1 truck, 7.5ms\n",
            "image 461/600 /content/drive/MyDrive/fog_weather_object_detection/fog_object_detection/images/val/M1006_img000649.jpg: 352x640 19 cars, 1 truck, 10.6ms\n",
            "image 462/600 /content/drive/MyDrive/fog_weather_object_detection/fog_object_detection/images/val/M1006_img000658.jpg: 352x640 19 cars, 1 truck, 8.6ms\n",
            "image 463/600 /content/drive/MyDrive/fog_weather_object_detection/fog_object_detection/images/val/M1006_img000664.jpg: 352x640 20 cars, 1 truck, 8.6ms\n",
            "image 464/600 /content/drive/MyDrive/fog_weather_object_detection/fog_object_detection/images/val/M1006_img000668.jpg: 352x640 19 cars, 1 truck, 7.9ms\n",
            "image 465/600 /content/drive/MyDrive/fog_weather_object_detection/fog_object_detection/images/val/M1006_img000671.jpg: 352x640 18 cars, 1 truck, 8.0ms\n",
            "image 466/600 /content/drive/MyDrive/fog_weather_object_detection/fog_object_detection/images/val/M1006_img000679.jpg: 352x640 18 cars, 1 truck, 7.8ms\n",
            "image 467/600 /content/drive/MyDrive/fog_weather_object_detection/fog_object_detection/images/val/M1006_img000682.jpg: 352x640 18 cars, 1 truck, 9.0ms\n",
            "image 468/600 /content/drive/MyDrive/fog_weather_object_detection/fog_object_detection/images/val/M1006_img000683.jpg: 352x640 19 cars, 1 truck, 8.3ms\n",
            "image 469/600 /content/drive/MyDrive/fog_weather_object_detection/fog_object_detection/images/val/M1006_img000687.jpg: 352x640 19 cars, 1 truck, 7.8ms\n",
            "image 470/600 /content/drive/MyDrive/fog_weather_object_detection/fog_object_detection/images/val/M1006_img000690.jpg: 352x640 19 cars, 1 truck, 8.3ms\n",
            "image 471/600 /content/drive/MyDrive/fog_weather_object_detection/fog_object_detection/images/val/M1006_img000692.jpg: 352x640 19 cars, 1 truck, 8.7ms\n",
            "image 472/600 /content/drive/MyDrive/fog_weather_object_detection/fog_object_detection/images/val/M1008_img000005.jpg: 352x640 6 cars, 8.7ms\n",
            "image 473/600 /content/drive/MyDrive/fog_weather_object_detection/fog_object_detection/images/val/M1008_img000014.jpg: 352x640 7 cars, 8.5ms\n",
            "image 474/600 /content/drive/MyDrive/fog_weather_object_detection/fog_object_detection/images/val/M1008_img000016.jpg: 352x640 7 cars, 7.8ms\n",
            "image 475/600 /content/drive/MyDrive/fog_weather_object_detection/fog_object_detection/images/val/M1008_img000019.jpg: 352x640 7 cars, 7.7ms\n",
            "image 476/600 /content/drive/MyDrive/fog_weather_object_detection/fog_object_detection/images/val/M1008_img000029.jpg: 352x640 7 cars, 8.0ms\n",
            "image 477/600 /content/drive/MyDrive/fog_weather_object_detection/fog_object_detection/images/val/M1008_img000031.jpg: 352x640 7 cars, 8.1ms\n",
            "image 478/600 /content/drive/MyDrive/fog_weather_object_detection/fog_object_detection/images/val/M1008_img000033.jpg: 352x640 7 cars, 7.9ms\n",
            "image 479/600 /content/drive/MyDrive/fog_weather_object_detection/fog_object_detection/images/val/M1008_img000034.jpg: 352x640 7 cars, 7.6ms\n",
            "image 480/600 /content/drive/MyDrive/fog_weather_object_detection/fog_object_detection/images/val/M1008_img000036.jpg: 352x640 7 cars, 7.5ms\n",
            "image 481/600 /content/drive/MyDrive/fog_weather_object_detection/fog_object_detection/images/val/M1008_img000040.jpg: 352x640 7 cars, 7.4ms\n",
            "image 482/600 /content/drive/MyDrive/fog_weather_object_detection/fog_object_detection/images/val/M1008_img000041.jpg: 352x640 7 cars, 7.5ms\n",
            "image 483/600 /content/drive/MyDrive/fog_weather_object_detection/fog_object_detection/images/val/M1008_img000051.jpg: 352x640 8 cars, 7.6ms\n",
            "image 484/600 /content/drive/MyDrive/fog_weather_object_detection/fog_object_detection/images/val/M1008_img000060.jpg: 352x640 8 cars, 7.9ms\n",
            "image 485/600 /content/drive/MyDrive/fog_weather_object_detection/fog_object_detection/images/val/M1008_img000061.jpg: 352x640 8 cars, 8.0ms\n",
            "image 486/600 /content/drive/MyDrive/fog_weather_object_detection/fog_object_detection/images/val/M1008_img000071.jpg: 352x640 8 cars, 7.8ms\n",
            "image 487/600 /content/drive/MyDrive/fog_weather_object_detection/fog_object_detection/images/val/M1008_img000075.jpg: 352x640 7 cars, 8.2ms\n",
            "image 488/600 /content/drive/MyDrive/fog_weather_object_detection/fog_object_detection/images/val/M1008_img000077.jpg: 352x640 8 cars, 7.7ms\n",
            "image 489/600 /content/drive/MyDrive/fog_weather_object_detection/fog_object_detection/images/val/M1008_img000078.jpg: 352x640 8 cars, 8.0ms\n",
            "image 490/600 /content/drive/MyDrive/fog_weather_object_detection/fog_object_detection/images/val/M1008_img000082.jpg: 352x640 7 cars, 9.8ms\n",
            "image 491/600 /content/drive/MyDrive/fog_weather_object_detection/fog_object_detection/images/val/M1008_img000083.jpg: 352x640 7 cars, 7.9ms\n",
            "image 492/600 /content/drive/MyDrive/fog_weather_object_detection/fog_object_detection/images/val/M1008_img000084.jpg: 352x640 7 cars, 7.8ms\n",
            "image 493/600 /content/drive/MyDrive/fog_weather_object_detection/fog_object_detection/images/val/M1008_img000087.jpg: 352x640 7 cars, 7.8ms\n",
            "image 494/600 /content/drive/MyDrive/fog_weather_object_detection/fog_object_detection/images/val/M1008_img000089.jpg: 352x640 8 cars, 7.9ms\n",
            "image 495/600 /content/drive/MyDrive/fog_weather_object_detection/fog_object_detection/images/val/M1008_img000097.jpg: 352x640 8 cars, 7.7ms\n",
            "image 496/600 /content/drive/MyDrive/fog_weather_object_detection/fog_object_detection/images/val/M1008_img000102.jpg: 352x640 8 cars, 7.8ms\n",
            "image 497/600 /content/drive/MyDrive/fog_weather_object_detection/fog_object_detection/images/val/M1008_img000103.jpg: 352x640 8 cars, 8.1ms\n",
            "image 498/600 /content/drive/MyDrive/fog_weather_object_detection/fog_object_detection/images/val/M1008_img000107.jpg: 352x640 8 cars, 8.2ms\n",
            "image 499/600 /content/drive/MyDrive/fog_weather_object_detection/fog_object_detection/images/val/M1008_img000111.jpg: 352x640 8 cars, 8.0ms\n",
            "image 500/600 /content/drive/MyDrive/fog_weather_object_detection/fog_object_detection/images/val/M1008_img000113.jpg: 352x640 8 cars, 8.0ms\n",
            "image 501/600 /content/drive/MyDrive/fog_weather_object_detection/fog_object_detection/images/val/M1008_img000114.jpg: 352x640 8 cars, 8.0ms\n",
            "image 502/600 /content/drive/MyDrive/fog_weather_object_detection/fog_object_detection/images/val/M1008_img000118.jpg: 352x640 8 cars, 7.6ms\n",
            "image 503/600 /content/drive/MyDrive/fog_weather_object_detection/fog_object_detection/images/val/M1008_img000141.jpg: 352x640 8 cars, 8.6ms\n",
            "image 504/600 /content/drive/MyDrive/fog_weather_object_detection/fog_object_detection/images/val/M1008_img000143.jpg: 352x640 8 cars, 7.6ms\n",
            "image 505/600 /content/drive/MyDrive/fog_weather_object_detection/fog_object_detection/images/val/M1008_img000144.jpg: 352x640 8 cars, 7.8ms\n",
            "image 506/600 /content/drive/MyDrive/fog_weather_object_detection/fog_object_detection/images/val/M1008_img000150.jpg: 352x640 8 cars, 7.4ms\n",
            "image 507/600 /content/drive/MyDrive/fog_weather_object_detection/fog_object_detection/images/val/M1008_img000154.jpg: 352x640 8 cars, 7.5ms\n",
            "image 508/600 /content/drive/MyDrive/fog_weather_object_detection/fog_object_detection/images/val/M1008_img000157.jpg: 352x640 8 cars, 7.4ms\n",
            "image 509/600 /content/drive/MyDrive/fog_weather_object_detection/fog_object_detection/images/val/M1008_img000164.jpg: 352x640 8 cars, 7.5ms\n",
            "image 510/600 /content/drive/MyDrive/fog_weather_object_detection/fog_object_detection/images/val/M1008_img000173.jpg: 352x640 8 cars, 7.8ms\n",
            "image 511/600 /content/drive/MyDrive/fog_weather_object_detection/fog_object_detection/images/val/M1008_img000177.jpg: 352x640 8 cars, 7.6ms\n",
            "image 512/600 /content/drive/MyDrive/fog_weather_object_detection/fog_object_detection/images/val/M1008_img000181.jpg: 352x640 8 cars, 7.4ms\n",
            "image 513/600 /content/drive/MyDrive/fog_weather_object_detection/fog_object_detection/images/val/M1008_img000187.jpg: 352x640 8 cars, 7.4ms\n",
            "image 514/600 /content/drive/MyDrive/fog_weather_object_detection/fog_object_detection/images/val/M1008_img000201.jpg: 352x640 8 cars, 7.3ms\n",
            "image 515/600 /content/drive/MyDrive/fog_weather_object_detection/fog_object_detection/images/val/M1008_img000205.jpg: 352x640 8 cars, 7.5ms\n",
            "image 516/600 /content/drive/MyDrive/fog_weather_object_detection/fog_object_detection/images/val/M1008_img000208.jpg: 352x640 8 cars, 7.5ms\n",
            "image 517/600 /content/drive/MyDrive/fog_weather_object_detection/fog_object_detection/images/val/M1008_img000219.jpg: 352x640 8 cars, 7.5ms\n",
            "image 518/600 /content/drive/MyDrive/fog_weather_object_detection/fog_object_detection/images/val/M1008_img000223.jpg: 352x640 8 cars, 7.5ms\n",
            "image 519/600 /content/drive/MyDrive/fog_weather_object_detection/fog_object_detection/images/val/M1008_img000225.jpg: 352x640 8 cars, 7.4ms\n",
            "image 520/600 /content/drive/MyDrive/fog_weather_object_detection/fog_object_detection/images/val/M1008_img000226.jpg: 352x640 8 cars, 7.4ms\n",
            "image 521/600 /content/drive/MyDrive/fog_weather_object_detection/fog_object_detection/images/val/M1008_img000229.jpg: 352x640 8 cars, 7.2ms\n",
            "image 522/600 /content/drive/MyDrive/fog_weather_object_detection/fog_object_detection/images/val/M1008_img000233.jpg: 352x640 9 cars, 7.6ms\n",
            "image 523/600 /content/drive/MyDrive/fog_weather_object_detection/fog_object_detection/images/val/M1008_img000237.jpg: 352x640 9 cars, 7.6ms\n",
            "image 524/600 /content/drive/MyDrive/fog_weather_object_detection/fog_object_detection/images/val/M1008_img000242.jpg: 352x640 9 cars, 7.6ms\n",
            "image 525/600 /content/drive/MyDrive/fog_weather_object_detection/fog_object_detection/images/val/M1008_img000246.jpg: 352x640 9 cars, 7.3ms\n",
            "image 526/600 /content/drive/MyDrive/fog_weather_object_detection/fog_object_detection/images/val/M1008_img000249.jpg: 352x640 9 cars, 7.3ms\n",
            "image 527/600 /content/drive/MyDrive/fog_weather_object_detection/fog_object_detection/images/val/M1008_img000250.jpg: 352x640 9 cars, 7.3ms\n",
            "image 528/600 /content/drive/MyDrive/fog_weather_object_detection/fog_object_detection/images/val/M1008_img000256.jpg: 352x640 8 cars, 7.3ms\n",
            "image 529/600 /content/drive/MyDrive/fog_weather_object_detection/fog_object_detection/images/val/M1008_img000257.jpg: 352x640 8 cars, 7.4ms\n",
            "image 530/600 /content/drive/MyDrive/fog_weather_object_detection/fog_object_detection/images/val/M1008_img000262.jpg: 352x640 8 cars, 7.4ms\n",
            "image 531/600 /content/drive/MyDrive/fog_weather_object_detection/fog_object_detection/images/val/M1008_img000264.jpg: 352x640 8 cars, 7.4ms\n",
            "image 532/600 /content/drive/MyDrive/fog_weather_object_detection/fog_object_detection/images/val/M1008_img000265.jpg: 352x640 8 cars, 7.8ms\n",
            "image 533/600 /content/drive/MyDrive/fog_weather_object_detection/fog_object_detection/images/val/M1008_img000267.jpg: 352x640 8 cars, 7.7ms\n",
            "image 534/600 /content/drive/MyDrive/fog_weather_object_detection/fog_object_detection/images/val/M1008_img000272.jpg: 352x640 8 cars, 8.0ms\n",
            "image 535/600 /content/drive/MyDrive/fog_weather_object_detection/fog_object_detection/images/val/M1008_img000277.jpg: 352x640 8 cars, 8.0ms\n",
            "image 536/600 /content/drive/MyDrive/fog_weather_object_detection/fog_object_detection/images/val/M1008_img000286.jpg: 352x640 8 cars, 7.7ms\n",
            "image 537/600 /content/drive/MyDrive/fog_weather_object_detection/fog_object_detection/images/val/M1008_img000287.jpg: 352x640 8 cars, 7.9ms\n",
            "image 538/600 /content/drive/MyDrive/fog_weather_object_detection/fog_object_detection/images/val/M1008_img000288.jpg: 352x640 8 cars, 8.3ms\n",
            "image 539/600 /content/drive/MyDrive/fog_weather_object_detection/fog_object_detection/images/val/M1008_img000294.jpg: 352x640 8 cars, 10.7ms\n",
            "image 540/600 /content/drive/MyDrive/fog_weather_object_detection/fog_object_detection/images/val/M1008_img000304.jpg: 352x640 8 cars, 10.7ms\n",
            "image 541/600 /content/drive/MyDrive/fog_weather_object_detection/fog_object_detection/images/val/M1008_img000311.jpg: 352x640 8 cars, 7.6ms\n",
            "image 542/600 /content/drive/MyDrive/fog_weather_object_detection/fog_object_detection/images/val/M1008_img000318.jpg: 352x640 8 cars, 7.6ms\n",
            "image 543/600 /content/drive/MyDrive/fog_weather_object_detection/fog_object_detection/images/val/M1008_img000320.jpg: 352x640 8 cars, 7.6ms\n",
            "image 544/600 /content/drive/MyDrive/fog_weather_object_detection/fog_object_detection/images/val/M1008_img000326.jpg: 352x640 8 cars, 7.4ms\n",
            "image 545/600 /content/drive/MyDrive/fog_weather_object_detection/fog_object_detection/images/val/M1008_img000332.jpg: 352x640 8 cars, 7.6ms\n",
            "image 546/600 /content/drive/MyDrive/fog_weather_object_detection/fog_object_detection/images/val/M1008_img000345.jpg: 352x640 8 cars, 7.3ms\n",
            "image 547/600 /content/drive/MyDrive/fog_weather_object_detection/fog_object_detection/images/val/M1008_img000350.jpg: 352x640 8 cars, 7.4ms\n",
            "image 548/600 /content/drive/MyDrive/fog_weather_object_detection/fog_object_detection/images/val/M1008_img000351.jpg: 352x640 8 cars, 7.3ms\n",
            "image 549/600 /content/drive/MyDrive/fog_weather_object_detection/fog_object_detection/images/val/M1008_img000353.jpg: 352x640 8 cars, 7.6ms\n",
            "image 550/600 /content/drive/MyDrive/fog_weather_object_detection/fog_object_detection/images/val/M1008_img000371.jpg: 352x640 7 cars, 7.6ms\n",
            "image 551/600 /content/drive/MyDrive/fog_weather_object_detection/fog_object_detection/images/val/M1008_img000372.jpg: 352x640 7 cars, 7.4ms\n",
            "image 552/600 /content/drive/MyDrive/fog_weather_object_detection/fog_object_detection/images/val/M1008_img000376.jpg: 352x640 7 cars, 7.4ms\n",
            "image 553/600 /content/drive/MyDrive/fog_weather_object_detection/fog_object_detection/images/val/M1008_img000382.jpg: 352x640 7 cars, 7.9ms\n",
            "image 554/600 /content/drive/MyDrive/fog_weather_object_detection/fog_object_detection/images/val/M1008_img000385.jpg: 352x640 7 cars, 9.7ms\n",
            "image 555/600 /content/drive/MyDrive/fog_weather_object_detection/fog_object_detection/images/val/M1008_img000389.jpg: 352x640 7 cars, 7.7ms\n",
            "image 556/600 /content/drive/MyDrive/fog_weather_object_detection/fog_object_detection/images/val/M1008_img000396.jpg: 352x640 8 cars, 8.0ms\n",
            "image 557/600 /content/drive/MyDrive/fog_weather_object_detection/fog_object_detection/images/val/M1008_img000400.jpg: 352x640 8 cars, 9.2ms\n",
            "image 558/600 /content/drive/MyDrive/fog_weather_object_detection/fog_object_detection/images/val/M1008_img000401.jpg: 352x640 8 cars, 7.4ms\n",
            "image 559/600 /content/drive/MyDrive/fog_weather_object_detection/fog_object_detection/images/val/M1008_img000404.jpg: 352x640 8 cars, 7.7ms\n",
            "image 560/600 /content/drive/MyDrive/fog_weather_object_detection/fog_object_detection/images/val/M1008_img000410.jpg: 352x640 7 cars, 7.5ms\n",
            "image 561/600 /content/drive/MyDrive/fog_weather_object_detection/fog_object_detection/images/val/M1008_img000412.jpg: 352x640 7 cars, 7.6ms\n",
            "image 562/600 /content/drive/MyDrive/fog_weather_object_detection/fog_object_detection/images/val/M1008_img000415.jpg: 352x640 7 cars, 7.9ms\n",
            "image 563/600 /content/drive/MyDrive/fog_weather_object_detection/fog_object_detection/images/val/M1008_img000419.jpg: 352x640 7 cars, 7.4ms\n",
            "image 564/600 /content/drive/MyDrive/fog_weather_object_detection/fog_object_detection/images/val/M1008_img000428.jpg: 352x640 6 cars, 7.6ms\n",
            "image 565/600 /content/drive/MyDrive/fog_weather_object_detection/fog_object_detection/images/val/M1008_img000430.jpg: 352x640 6 cars, 7.3ms\n",
            "image 566/600 /content/drive/MyDrive/fog_weather_object_detection/fog_object_detection/images/val/M1008_img000438.jpg: 352x640 6 cars, 8.2ms\n",
            "image 567/600 /content/drive/MyDrive/fog_weather_object_detection/fog_object_detection/images/val/M1008_img000440.jpg: 352x640 6 cars, 7.3ms\n",
            "image 568/600 /content/drive/MyDrive/fog_weather_object_detection/fog_object_detection/images/val/M1008_img000444.jpg: 352x640 6 cars, 7.7ms\n",
            "image 569/600 /content/drive/MyDrive/fog_weather_object_detection/fog_object_detection/images/val/M1008_img000445.jpg: 352x640 6 cars, 7.7ms\n",
            "image 570/600 /content/drive/MyDrive/fog_weather_object_detection/fog_object_detection/images/val/M1008_img000448.jpg: 352x640 6 cars, 8.7ms\n",
            "image 571/600 /content/drive/MyDrive/fog_weather_object_detection/fog_object_detection/images/val/M1008_img000459.jpg: 352x640 6 cars, 10.3ms\n",
            "image 572/600 /content/drive/MyDrive/fog_weather_object_detection/fog_object_detection/images/val/M1008_img000478.jpg: 352x640 6 cars, 8.1ms\n",
            "image 573/600 /content/drive/MyDrive/fog_weather_object_detection/fog_object_detection/images/val/M1008_img000481.jpg: 352x640 6 cars, 7.8ms\n",
            "image 574/600 /content/drive/MyDrive/fog_weather_object_detection/fog_object_detection/images/val/M1008_img000482.jpg: 352x640 6 cars, 7.6ms\n",
            "image 575/600 /content/drive/MyDrive/fog_weather_object_detection/fog_object_detection/images/val/M1008_img000492.jpg: 352x640 6 cars, 7.4ms\n",
            "image 576/600 /content/drive/MyDrive/fog_weather_object_detection/fog_object_detection/images/val/M1008_img000494.jpg: 352x640 6 cars, 7.6ms\n",
            "image 577/600 /content/drive/MyDrive/fog_weather_object_detection/fog_object_detection/images/val/M1008_img000495.jpg: 352x640 6 cars, 7.4ms\n",
            "image 578/600 /content/drive/MyDrive/fog_weather_object_detection/fog_object_detection/images/val/M1008_img000499.jpg: 352x640 6 cars, 7.4ms\n",
            "image 579/600 /content/drive/MyDrive/fog_weather_object_detection/fog_object_detection/images/val/M1008_img000501.jpg: 352x640 6 cars, 7.4ms\n",
            "image 580/600 /content/drive/MyDrive/fog_weather_object_detection/fog_object_detection/images/val/M1008_img000504.jpg: 352x640 6 cars, 7.7ms\n",
            "image 581/600 /content/drive/MyDrive/fog_weather_object_detection/fog_object_detection/images/val/M1008_img000508.jpg: 352x640 6 cars, 7.8ms\n",
            "image 582/600 /content/drive/MyDrive/fog_weather_object_detection/fog_object_detection/images/val/M1008_img000510.jpg: 352x640 6 cars, 7.7ms\n",
            "image 583/600 /content/drive/MyDrive/fog_weather_object_detection/fog_object_detection/images/val/M1008_img000511.jpg: 352x640 6 cars, 7.6ms\n",
            "image 584/600 /content/drive/MyDrive/fog_weather_object_detection/fog_object_detection/images/val/M1008_img000514.jpg: 352x640 6 cars, 7.4ms\n",
            "image 585/600 /content/drive/MyDrive/fog_weather_object_detection/fog_object_detection/images/val/M1008_img000518.jpg: 352x640 6 cars, 7.9ms\n",
            "image 586/600 /content/drive/MyDrive/fog_weather_object_detection/fog_object_detection/images/val/M1008_img000519.jpg: 352x640 6 cars, 7.5ms\n",
            "image 587/600 /content/drive/MyDrive/fog_weather_object_detection/fog_object_detection/images/val/M1008_img000522.jpg: 352x640 6 cars, 7.4ms\n",
            "image 588/600 /content/drive/MyDrive/fog_weather_object_detection/fog_object_detection/images/val/M1008_img000523.jpg: 352x640 6 cars, 7.3ms\n",
            "image 589/600 /content/drive/MyDrive/fog_weather_object_detection/fog_object_detection/images/val/M1008_img000526.jpg: 352x640 6 cars, 7.5ms\n",
            "image 590/600 /content/drive/MyDrive/fog_weather_object_detection/fog_object_detection/images/val/M1008_img000528.jpg: 352x640 6 cars, 7.4ms\n",
            "image 591/600 /content/drive/MyDrive/fog_weather_object_detection/fog_object_detection/images/val/M1008_img000529.jpg: 352x640 6 cars, 7.5ms\n",
            "image 592/600 /content/drive/MyDrive/fog_weather_object_detection/fog_object_detection/images/val/M1008_img000539.jpg: 352x640 5 cars, 7.5ms\n",
            "image 593/600 /content/drive/MyDrive/fog_weather_object_detection/fog_object_detection/images/val/M1008_img000541.jpg: 352x640 5 cars, 7.4ms\n",
            "image 594/600 /content/drive/MyDrive/fog_weather_object_detection/fog_object_detection/images/val/M1008_img000555.jpg: 352x640 5 cars, 7.4ms\n",
            "image 595/600 /content/drive/MyDrive/fog_weather_object_detection/fog_object_detection/images/val/M1008_img000556.jpg: 352x640 5 cars, 8.6ms\n",
            "image 596/600 /content/drive/MyDrive/fog_weather_object_detection/fog_object_detection/images/val/M1008_img000557.jpg: 352x640 5 cars, 8.7ms\n",
            "image 597/600 /content/drive/MyDrive/fog_weather_object_detection/fog_object_detection/images/val/M1008_img000561.jpg: 352x640 5 cars, 8.1ms\n",
            "image 598/600 /content/drive/MyDrive/fog_weather_object_detection/fog_object_detection/images/val/M1008_img000562.jpg: 352x640 5 cars, 7.5ms\n",
            "image 599/600 /content/drive/MyDrive/fog_weather_object_detection/fog_object_detection/images/val/M1008_img000565.jpg: 352x640 5 cars, 7.5ms\n",
            "image 600/600 /content/drive/MyDrive/fog_weather_object_detection/fog_object_detection/images/val/M1008_img000568.jpg: 352x640 5 cars, 7.8ms\n",
            "Speed: 1.9ms preprocess, 7.8ms inference, 1.3ms postprocess per image at shape (1, 3, 352, 640)\n",
            "Results saved to \u001b[1mruns/detect/predict\u001b[0m\n"
          ]
        }
      ]
    },
    {
      "cell_type": "code",
      "source": [
        "import shutil\n",
        "\n",
        "# Tahmin sonuçlarının kaydedildiği dizin\n",
        "default_save_dir = \"/content/runs/detect\"\n",
        "\n",
        "# Hedef dizin\n",
        "target_save_dir = \"/content/drive/MyDrive/fog_weather_object_detection\"\n",
        "\n",
        "# Dizin taşınması\n",
        "shutil.move(default_save_dir, target_save_dir)"
      ],
      "metadata": {
        "id": "WJJZKh6rgfVx",
        "colab": {
          "base_uri": "https://localhost:8080/",
          "height": 36
        },
        "outputId": "59604ab1-ff9c-4ad8-8bb8-352d6267d892"
      },
      "execution_count": 36,
      "outputs": [
        {
          "output_type": "execute_result",
          "data": {
            "text/plain": [
              "'/content/drive/MyDrive/fog_weather_object_detection/detect'"
            ],
            "application/vnd.google.colaboratory.intrinsic+json": {
              "type": "string"
            }
          },
          "metadata": {},
          "execution_count": 36
        }
      ]
    },
    {
      "cell_type": "code",
      "source": [],
      "metadata": {
        "id": "kwf6bQfsm8YC"
      },
      "execution_count": null,
      "outputs": []
    }
  ]
}
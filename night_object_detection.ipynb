{
  "nbformat": 4,
  "nbformat_minor": 0,
  "metadata": {
    "colab": {
      "provenance": [],
      "machine_shape": "hm",
      "gpuType": "L4",
      "mount_file_id": "1450oOY16sqZu5nNHjDPwJzliSrS7Jvog",
      "authorship_tag": "ABX9TyMeNdjwJXrZVTuaZlPMXQOz",
      "include_colab_link": true
    },
    "kernelspec": {
      "name": "python3",
      "display_name": "Python 3"
    },
    "language_info": {
      "name": "python"
    },
    "accelerator": "GPU"
  },
  "cells": [
    {
      "cell_type": "markdown",
      "metadata": {
        "id": "view-in-github",
        "colab_type": "text"
      },
      "source": [
        "<a href=\"https://colab.research.google.com/github/beyzaturku/2209/blob/main/night_object_detection.ipynb\" target=\"_parent\"><img src=\"https://colab.research.google.com/assets/colab-badge.svg\" alt=\"Open In Colab\"/></a>"
      ]
    },
    {
      "cell_type": "code",
      "execution_count": null,
      "metadata": {
        "colab": {
          "base_uri": "https://localhost:8080/"
        },
        "id": "arftn46jSfI7",
        "outputId": "6b926541-10af-4dc2-d3d7-1f6e175d3e94"
      },
      "outputs": [
        {
          "output_type": "stream",
          "name": "stdout",
          "text": [
            "Mounted at /content/drive\n"
          ]
        }
      ],
      "source": [
        "from google.colab import drive\n",
        "drive.mount('/content/drive')"
      ]
    },
    {
      "cell_type": "code",
      "source": [
        "import zipfile\n",
        "\n",
        "zip_path = \"/content/drive/MyDrive/night_object_detection.zip\"\n",
        "with zipfile.ZipFile(zip_path, 'r') as zip_ref:\n",
        "    file_list = zip_ref.namelist()\n",
        "\n",
        "    folder_list = {\"/\".join(file.split('/')[:-1]) + '/' for file in file_list if '/' in file}\n",
        "\n",
        "    print(\"ZIP İçindeki Tüm Klasörler:\")\n",
        "    for folder in sorted(folder_list):\n",
        "        print(folder)"
      ],
      "metadata": {
        "colab": {
          "base_uri": "https://localhost:8080/"
        },
        "id": "OFknDYfnSmRM",
        "outputId": "cbaa7958-4a95-44cc-b8e1-eda12eb63db7"
      },
      "execution_count": null,
      "outputs": [
        {
          "output_type": "stream",
          "name": "stdout",
          "text": [
            "ZIP İçindeki Tüm Klasörler:\n",
            "night_object_detection/\n",
            "night_object_detection/images/\n",
            "night_object_detection/images/train/\n",
            "night_object_detection/images/val/\n",
            "night_object_detection/labels/\n",
            "night_object_detection/labels/train/\n",
            "night_object_detection/labels/val/\n"
          ]
        }
      ]
    },
    {
      "cell_type": "code",
      "source": [
        "import zipfile\n",
        "import os\n",
        "\n",
        "# ZIP dosyasının tam yolunu belirt\n",
        "zip_path = \"/content/drive/MyDrive/night_object_detection.zip\"\n",
        "extract_path = \"/content/drive/MyDrive/night_object_detection\"\n",
        "\n",
        "# ZIP dosyasını aç ve içeriğini çıkar\n",
        "with zipfile.ZipFile(zip_path, 'r') as zip_ref:\n",
        "    zip_ref.extractall(extract_path)\n",
        "\n",
        "print(f\"Dosya {extract_path} konumuna çıkarıldı.\")"
      ],
      "metadata": {
        "colab": {
          "base_uri": "https://localhost:8080/"
        },
        "id": "rCh2TnYiS931",
        "outputId": "3e9667de-1df0-4902-da2a-06f86f6ae008"
      },
      "execution_count": null,
      "outputs": [
        {
          "output_type": "stream",
          "name": "stdout",
          "text": [
            "Dosya /content/drive/MyDrive/night_object_detection konumuna çıkarıldı.\n"
          ]
        }
      ]
    },
    {
      "cell_type": "code",
      "source": [
        "yaml_content = \"\"\"train: /content/drive/MyDrive/night_object_detection/night_object_detection/images/train\n",
        "val: /content/drive/MyDrive/night_object_detection/night_object_detection/images/val\n",
        "\n",
        "nc: 4\n",
        "names: [\"car\", \"vehicle\", \"truck\", \"bus\"]\n",
        "\"\"\"\n",
        "\n",
        "yaml_path = \"/content/drive/MyDrive/night_object_detection/night_object_detection/data.yaml\"\n",
        "\n",
        "with open(yaml_path, \"w\") as file:\n",
        "    file.write(yaml_content)\n",
        "\n",
        "print(f\"✅ data.yaml başarıyla kaydedildi: {yaml_path}\")"
      ],
      "metadata": {
        "colab": {
          "base_uri": "https://localhost:8080/"
        },
        "id": "vkLAJRQUo6w3",
        "outputId": "23ad4e91-3acf-4614-b259-f6956d19ad82"
      },
      "execution_count": 39,
      "outputs": [
        {
          "output_type": "stream",
          "name": "stdout",
          "text": [
            "✅ data.yaml başarıyla kaydedildi: /content/drive/MyDrive/night_object_detection/night_object_detection/data.yaml\n"
          ]
        }
      ]
    },
    {
      "cell_type": "code",
      "source": [
        "!pip install ultralytics\n",
        "!pip install tensorboard"
      ],
      "metadata": {
        "colab": {
          "base_uri": "https://localhost:8080/"
        },
        "id": "-t2AlHEAUTbs",
        "outputId": "3a2a8cac-96b4-4339-de36-f9a77df3576f"
      },
      "execution_count": null,
      "outputs": [
        {
          "output_type": "stream",
          "name": "stdout",
          "text": [
            "Collecting ultralytics\n",
            "  Downloading ultralytics-8.3.79-py3-none-any.whl.metadata (35 kB)\n",
            "Requirement already satisfied: numpy<=2.1.1,>=1.23.0 in /usr/local/lib/python3.11/dist-packages (from ultralytics) (1.26.4)\n",
            "Requirement already satisfied: matplotlib>=3.3.0 in /usr/local/lib/python3.11/dist-packages (from ultralytics) (3.10.0)\n",
            "Requirement already satisfied: opencv-python>=4.6.0 in /usr/local/lib/python3.11/dist-packages (from ultralytics) (4.11.0.86)\n",
            "Requirement already satisfied: pillow>=7.1.2 in /usr/local/lib/python3.11/dist-packages (from ultralytics) (11.1.0)\n",
            "Requirement already satisfied: pyyaml>=5.3.1 in /usr/local/lib/python3.11/dist-packages (from ultralytics) (6.0.2)\n",
            "Requirement already satisfied: requests>=2.23.0 in /usr/local/lib/python3.11/dist-packages (from ultralytics) (2.32.3)\n",
            "Requirement already satisfied: scipy>=1.4.1 in /usr/local/lib/python3.11/dist-packages (from ultralytics) (1.13.1)\n",
            "Requirement already satisfied: torch>=1.8.0 in /usr/local/lib/python3.11/dist-packages (from ultralytics) (2.5.1+cu124)\n",
            "Requirement already satisfied: torchvision>=0.9.0 in /usr/local/lib/python3.11/dist-packages (from ultralytics) (0.20.1+cu124)\n",
            "Requirement already satisfied: tqdm>=4.64.0 in /usr/local/lib/python3.11/dist-packages (from ultralytics) (4.67.1)\n",
            "Requirement already satisfied: psutil in /usr/local/lib/python3.11/dist-packages (from ultralytics) (5.9.5)\n",
            "Requirement already satisfied: py-cpuinfo in /usr/local/lib/python3.11/dist-packages (from ultralytics) (9.0.0)\n",
            "Requirement already satisfied: pandas>=1.1.4 in /usr/local/lib/python3.11/dist-packages (from ultralytics) (2.2.2)\n",
            "Requirement already satisfied: seaborn>=0.11.0 in /usr/local/lib/python3.11/dist-packages (from ultralytics) (0.13.2)\n",
            "Collecting ultralytics-thop>=2.0.0 (from ultralytics)\n",
            "  Downloading ultralytics_thop-2.0.14-py3-none-any.whl.metadata (9.4 kB)\n",
            "Requirement already satisfied: contourpy>=1.0.1 in /usr/local/lib/python3.11/dist-packages (from matplotlib>=3.3.0->ultralytics) (1.3.1)\n",
            "Requirement already satisfied: cycler>=0.10 in /usr/local/lib/python3.11/dist-packages (from matplotlib>=3.3.0->ultralytics) (0.12.1)\n",
            "Requirement already satisfied: fonttools>=4.22.0 in /usr/local/lib/python3.11/dist-packages (from matplotlib>=3.3.0->ultralytics) (4.56.0)\n",
            "Requirement already satisfied: kiwisolver>=1.3.1 in /usr/local/lib/python3.11/dist-packages (from matplotlib>=3.3.0->ultralytics) (1.4.8)\n",
            "Requirement already satisfied: packaging>=20.0 in /usr/local/lib/python3.11/dist-packages (from matplotlib>=3.3.0->ultralytics) (24.2)\n",
            "Requirement already satisfied: pyparsing>=2.3.1 in /usr/local/lib/python3.11/dist-packages (from matplotlib>=3.3.0->ultralytics) (3.2.1)\n",
            "Requirement already satisfied: python-dateutil>=2.7 in /usr/local/lib/python3.11/dist-packages (from matplotlib>=3.3.0->ultralytics) (2.8.2)\n",
            "Requirement already satisfied: pytz>=2020.1 in /usr/local/lib/python3.11/dist-packages (from pandas>=1.1.4->ultralytics) (2025.1)\n",
            "Requirement already satisfied: tzdata>=2022.7 in /usr/local/lib/python3.11/dist-packages (from pandas>=1.1.4->ultralytics) (2025.1)\n",
            "Requirement already satisfied: charset-normalizer<4,>=2 in /usr/local/lib/python3.11/dist-packages (from requests>=2.23.0->ultralytics) (3.4.1)\n",
            "Requirement already satisfied: idna<4,>=2.5 in /usr/local/lib/python3.11/dist-packages (from requests>=2.23.0->ultralytics) (3.10)\n",
            "Requirement already satisfied: urllib3<3,>=1.21.1 in /usr/local/lib/python3.11/dist-packages (from requests>=2.23.0->ultralytics) (2.3.0)\n",
            "Requirement already satisfied: certifi>=2017.4.17 in /usr/local/lib/python3.11/dist-packages (from requests>=2.23.0->ultralytics) (2025.1.31)\n",
            "Requirement already satisfied: filelock in /usr/local/lib/python3.11/dist-packages (from torch>=1.8.0->ultralytics) (3.17.0)\n",
            "Requirement already satisfied: typing-extensions>=4.8.0 in /usr/local/lib/python3.11/dist-packages (from torch>=1.8.0->ultralytics) (4.12.2)\n",
            "Requirement already satisfied: networkx in /usr/local/lib/python3.11/dist-packages (from torch>=1.8.0->ultralytics) (3.4.2)\n",
            "Requirement already satisfied: jinja2 in /usr/local/lib/python3.11/dist-packages (from torch>=1.8.0->ultralytics) (3.1.5)\n",
            "Requirement already satisfied: fsspec in /usr/local/lib/python3.11/dist-packages (from torch>=1.8.0->ultralytics) (2024.10.0)\n",
            "Collecting nvidia-cuda-nvrtc-cu12==12.4.127 (from torch>=1.8.0->ultralytics)\n",
            "  Downloading nvidia_cuda_nvrtc_cu12-12.4.127-py3-none-manylinux2014_x86_64.whl.metadata (1.5 kB)\n",
            "Collecting nvidia-cuda-runtime-cu12==12.4.127 (from torch>=1.8.0->ultralytics)\n",
            "  Downloading nvidia_cuda_runtime_cu12-12.4.127-py3-none-manylinux2014_x86_64.whl.metadata (1.5 kB)\n",
            "Collecting nvidia-cuda-cupti-cu12==12.4.127 (from torch>=1.8.0->ultralytics)\n",
            "  Downloading nvidia_cuda_cupti_cu12-12.4.127-py3-none-manylinux2014_x86_64.whl.metadata (1.6 kB)\n",
            "Collecting nvidia-cudnn-cu12==9.1.0.70 (from torch>=1.8.0->ultralytics)\n",
            "  Downloading nvidia_cudnn_cu12-9.1.0.70-py3-none-manylinux2014_x86_64.whl.metadata (1.6 kB)\n",
            "Collecting nvidia-cublas-cu12==12.4.5.8 (from torch>=1.8.0->ultralytics)\n",
            "  Downloading nvidia_cublas_cu12-12.4.5.8-py3-none-manylinux2014_x86_64.whl.metadata (1.5 kB)\n",
            "Collecting nvidia-cufft-cu12==11.2.1.3 (from torch>=1.8.0->ultralytics)\n",
            "  Downloading nvidia_cufft_cu12-11.2.1.3-py3-none-manylinux2014_x86_64.whl.metadata (1.5 kB)\n",
            "Collecting nvidia-curand-cu12==10.3.5.147 (from torch>=1.8.0->ultralytics)\n",
            "  Downloading nvidia_curand_cu12-10.3.5.147-py3-none-manylinux2014_x86_64.whl.metadata (1.5 kB)\n",
            "Collecting nvidia-cusolver-cu12==11.6.1.9 (from torch>=1.8.0->ultralytics)\n",
            "  Downloading nvidia_cusolver_cu12-11.6.1.9-py3-none-manylinux2014_x86_64.whl.metadata (1.6 kB)\n",
            "Collecting nvidia-cusparse-cu12==12.3.1.170 (from torch>=1.8.0->ultralytics)\n",
            "  Downloading nvidia_cusparse_cu12-12.3.1.170-py3-none-manylinux2014_x86_64.whl.metadata (1.6 kB)\n",
            "Requirement already satisfied: nvidia-nccl-cu12==2.21.5 in /usr/local/lib/python3.11/dist-packages (from torch>=1.8.0->ultralytics) (2.21.5)\n",
            "Requirement already satisfied: nvidia-nvtx-cu12==12.4.127 in /usr/local/lib/python3.11/dist-packages (from torch>=1.8.0->ultralytics) (12.4.127)\n",
            "Collecting nvidia-nvjitlink-cu12==12.4.127 (from torch>=1.8.0->ultralytics)\n",
            "  Downloading nvidia_nvjitlink_cu12-12.4.127-py3-none-manylinux2014_x86_64.whl.metadata (1.5 kB)\n",
            "Requirement already satisfied: triton==3.1.0 in /usr/local/lib/python3.11/dist-packages (from torch>=1.8.0->ultralytics) (3.1.0)\n",
            "Requirement already satisfied: sympy==1.13.1 in /usr/local/lib/python3.11/dist-packages (from torch>=1.8.0->ultralytics) (1.13.1)\n",
            "Requirement already satisfied: mpmath<1.4,>=1.1.0 in /usr/local/lib/python3.11/dist-packages (from sympy==1.13.1->torch>=1.8.0->ultralytics) (1.3.0)\n",
            "Requirement already satisfied: six>=1.5 in /usr/local/lib/python3.11/dist-packages (from python-dateutil>=2.7->matplotlib>=3.3.0->ultralytics) (1.17.0)\n",
            "Requirement already satisfied: MarkupSafe>=2.0 in /usr/local/lib/python3.11/dist-packages (from jinja2->torch>=1.8.0->ultralytics) (3.0.2)\n",
            "Downloading ultralytics-8.3.79-py3-none-any.whl (921 kB)\n",
            "\u001b[2K   \u001b[90m━━━━━━━━━━━━━━━━━━━━━━━━━━━━━━━━━━━━━━━━\u001b[0m \u001b[32m921.8/921.8 kB\u001b[0m \u001b[31m24.2 MB/s\u001b[0m eta \u001b[36m0:00:00\u001b[0m\n",
            "\u001b[?25hDownloading nvidia_cublas_cu12-12.4.5.8-py3-none-manylinux2014_x86_64.whl (363.4 MB)\n",
            "\u001b[2K   \u001b[90m━━━━━━━━━━━━━━━━━━━━━━━━━━━━━━━━━━━━━━━━\u001b[0m \u001b[32m363.4/363.4 MB\u001b[0m \u001b[31m2.9 MB/s\u001b[0m eta \u001b[36m0:00:00\u001b[0m\n",
            "\u001b[?25hDownloading nvidia_cuda_cupti_cu12-12.4.127-py3-none-manylinux2014_x86_64.whl (13.8 MB)\n",
            "\u001b[2K   \u001b[90m━━━━━━━━━━━━━━━━━━━━━━━━━━━━━━━━━━━━━━━━\u001b[0m \u001b[32m13.8/13.8 MB\u001b[0m \u001b[31m114.7 MB/s\u001b[0m eta \u001b[36m0:00:00\u001b[0m\n",
            "\u001b[?25hDownloading nvidia_cuda_nvrtc_cu12-12.4.127-py3-none-manylinux2014_x86_64.whl (24.6 MB)\n",
            "\u001b[2K   \u001b[90m━━━━━━━━━━━━━━━━━━━━━━━━━━━━━━━━━━━━━━━━\u001b[0m \u001b[32m24.6/24.6 MB\u001b[0m \u001b[31m90.3 MB/s\u001b[0m eta \u001b[36m0:00:00\u001b[0m\n",
            "\u001b[?25hDownloading nvidia_cuda_runtime_cu12-12.4.127-py3-none-manylinux2014_x86_64.whl (883 kB)\n",
            "\u001b[2K   \u001b[90m━━━━━━━━━━━━━━━━━━━━━━━━━━━━━━━━━━━━━━━━\u001b[0m \u001b[32m883.7/883.7 kB\u001b[0m \u001b[31m62.3 MB/s\u001b[0m eta \u001b[36m0:00:00\u001b[0m\n",
            "\u001b[?25hDownloading nvidia_cudnn_cu12-9.1.0.70-py3-none-manylinux2014_x86_64.whl (664.8 MB)\n",
            "\u001b[2K   \u001b[90m━━━━━━━━━━━━━━━━━━━━━━━━━━━━━━━━━━━━━━━━\u001b[0m \u001b[32m664.8/664.8 MB\u001b[0m \u001b[31m2.1 MB/s\u001b[0m eta \u001b[36m0:00:00\u001b[0m\n",
            "\u001b[?25hDownloading nvidia_cufft_cu12-11.2.1.3-py3-none-manylinux2014_x86_64.whl (211.5 MB)\n",
            "\u001b[2K   \u001b[90m━━━━━━━━━━━━━━━━━━━━━━━━━━━━━━━━━━━━━━━━\u001b[0m \u001b[32m211.5/211.5 MB\u001b[0m \u001b[31m4.8 MB/s\u001b[0m eta \u001b[36m0:00:00\u001b[0m\n",
            "\u001b[?25hDownloading nvidia_curand_cu12-10.3.5.147-py3-none-manylinux2014_x86_64.whl (56.3 MB)\n",
            "\u001b[2K   \u001b[90m━━━━━━━━━━━━━━━━━━━━━━━━━━━━━━━━━━━━━━━━\u001b[0m \u001b[32m56.3/56.3 MB\u001b[0m \u001b[31m40.5 MB/s\u001b[0m eta \u001b[36m0:00:00\u001b[0m\n",
            "\u001b[?25hDownloading nvidia_cusolver_cu12-11.6.1.9-py3-none-manylinux2014_x86_64.whl (127.9 MB)\n",
            "\u001b[2K   \u001b[90m━━━━━━━━━━━━━━━━━━━━━━━━━━━━━━━━━━━━━━━━\u001b[0m \u001b[32m127.9/127.9 MB\u001b[0m \u001b[31m18.6 MB/s\u001b[0m eta \u001b[36m0:00:00\u001b[0m\n",
            "\u001b[?25hDownloading nvidia_cusparse_cu12-12.3.1.170-py3-none-manylinux2014_x86_64.whl (207.5 MB)\n",
            "\u001b[2K   \u001b[90m━━━━━━━━━━━━━━━━━━━━━━━━━━━━━━━━━━━━━━━━\u001b[0m \u001b[32m207.5/207.5 MB\u001b[0m \u001b[31m4.8 MB/s\u001b[0m eta \u001b[36m0:00:00\u001b[0m\n",
            "\u001b[?25hDownloading nvidia_nvjitlink_cu12-12.4.127-py3-none-manylinux2014_x86_64.whl (21.1 MB)\n",
            "\u001b[2K   \u001b[90m━━━━━━━━━━━━━━━━━━━━━━━━━━━━━━━━━━━━━━━━\u001b[0m \u001b[32m21.1/21.1 MB\u001b[0m \u001b[31m89.6 MB/s\u001b[0m eta \u001b[36m0:00:00\u001b[0m\n",
            "\u001b[?25hDownloading ultralytics_thop-2.0.14-py3-none-any.whl (26 kB)\n",
            "Installing collected packages: nvidia-nvjitlink-cu12, nvidia-curand-cu12, nvidia-cufft-cu12, nvidia-cuda-runtime-cu12, nvidia-cuda-nvrtc-cu12, nvidia-cuda-cupti-cu12, nvidia-cublas-cu12, nvidia-cusparse-cu12, nvidia-cudnn-cu12, nvidia-cusolver-cu12, ultralytics-thop, ultralytics\n",
            "  Attempting uninstall: nvidia-nvjitlink-cu12\n",
            "    Found existing installation: nvidia-nvjitlink-cu12 12.5.82\n",
            "    Uninstalling nvidia-nvjitlink-cu12-12.5.82:\n",
            "      Successfully uninstalled nvidia-nvjitlink-cu12-12.5.82\n",
            "  Attempting uninstall: nvidia-curand-cu12\n",
            "    Found existing installation: nvidia-curand-cu12 10.3.6.82\n",
            "    Uninstalling nvidia-curand-cu12-10.3.6.82:\n",
            "      Successfully uninstalled nvidia-curand-cu12-10.3.6.82\n",
            "  Attempting uninstall: nvidia-cufft-cu12\n",
            "    Found existing installation: nvidia-cufft-cu12 11.2.3.61\n",
            "    Uninstalling nvidia-cufft-cu12-11.2.3.61:\n",
            "      Successfully uninstalled nvidia-cufft-cu12-11.2.3.61\n",
            "  Attempting uninstall: nvidia-cuda-runtime-cu12\n",
            "    Found existing installation: nvidia-cuda-runtime-cu12 12.5.82\n",
            "    Uninstalling nvidia-cuda-runtime-cu12-12.5.82:\n",
            "      Successfully uninstalled nvidia-cuda-runtime-cu12-12.5.82\n",
            "  Attempting uninstall: nvidia-cuda-nvrtc-cu12\n",
            "    Found existing installation: nvidia-cuda-nvrtc-cu12 12.5.82\n",
            "    Uninstalling nvidia-cuda-nvrtc-cu12-12.5.82:\n",
            "      Successfully uninstalled nvidia-cuda-nvrtc-cu12-12.5.82\n",
            "  Attempting uninstall: nvidia-cuda-cupti-cu12\n",
            "    Found existing installation: nvidia-cuda-cupti-cu12 12.5.82\n",
            "    Uninstalling nvidia-cuda-cupti-cu12-12.5.82:\n",
            "      Successfully uninstalled nvidia-cuda-cupti-cu12-12.5.82\n",
            "  Attempting uninstall: nvidia-cublas-cu12\n",
            "    Found existing installation: nvidia-cublas-cu12 12.5.3.2\n",
            "    Uninstalling nvidia-cublas-cu12-12.5.3.2:\n",
            "      Successfully uninstalled nvidia-cublas-cu12-12.5.3.2\n",
            "  Attempting uninstall: nvidia-cusparse-cu12\n",
            "    Found existing installation: nvidia-cusparse-cu12 12.5.1.3\n",
            "    Uninstalling nvidia-cusparse-cu12-12.5.1.3:\n",
            "      Successfully uninstalled nvidia-cusparse-cu12-12.5.1.3\n",
            "  Attempting uninstall: nvidia-cudnn-cu12\n",
            "    Found existing installation: nvidia-cudnn-cu12 9.3.0.75\n",
            "    Uninstalling nvidia-cudnn-cu12-9.3.0.75:\n",
            "      Successfully uninstalled nvidia-cudnn-cu12-9.3.0.75\n",
            "  Attempting uninstall: nvidia-cusolver-cu12\n",
            "    Found existing installation: nvidia-cusolver-cu12 11.6.3.83\n",
            "    Uninstalling nvidia-cusolver-cu12-11.6.3.83:\n",
            "      Successfully uninstalled nvidia-cusolver-cu12-11.6.3.83\n",
            "Successfully installed nvidia-cublas-cu12-12.4.5.8 nvidia-cuda-cupti-cu12-12.4.127 nvidia-cuda-nvrtc-cu12-12.4.127 nvidia-cuda-runtime-cu12-12.4.127 nvidia-cudnn-cu12-9.1.0.70 nvidia-cufft-cu12-11.2.1.3 nvidia-curand-cu12-10.3.5.147 nvidia-cusolver-cu12-11.6.1.9 nvidia-cusparse-cu12-12.3.1.170 nvidia-nvjitlink-cu12-12.4.127 ultralytics-8.3.79 ultralytics-thop-2.0.14\n",
            "Requirement already satisfied: tensorboard in /usr/local/lib/python3.11/dist-packages (2.18.0)\n",
            "Requirement already satisfied: absl-py>=0.4 in /usr/local/lib/python3.11/dist-packages (from tensorboard) (1.4.0)\n",
            "Requirement already satisfied: grpcio>=1.48.2 in /usr/local/lib/python3.11/dist-packages (from tensorboard) (1.70.0)\n",
            "Requirement already satisfied: markdown>=2.6.8 in /usr/local/lib/python3.11/dist-packages (from tensorboard) (3.7)\n",
            "Requirement already satisfied: numpy>=1.12.0 in /usr/local/lib/python3.11/dist-packages (from tensorboard) (1.26.4)\n",
            "Requirement already satisfied: packaging in /usr/local/lib/python3.11/dist-packages (from tensorboard) (24.2)\n",
            "Requirement already satisfied: protobuf!=4.24.0,>=3.19.6 in /usr/local/lib/python3.11/dist-packages (from tensorboard) (4.25.6)\n",
            "Requirement already satisfied: setuptools>=41.0.0 in /usr/local/lib/python3.11/dist-packages (from tensorboard) (75.1.0)\n",
            "Requirement already satisfied: six>1.9 in /usr/local/lib/python3.11/dist-packages (from tensorboard) (1.17.0)\n",
            "Requirement already satisfied: tensorboard-data-server<0.8.0,>=0.7.0 in /usr/local/lib/python3.11/dist-packages (from tensorboard) (0.7.2)\n",
            "Requirement already satisfied: werkzeug>=1.0.1 in /usr/local/lib/python3.11/dist-packages (from tensorboard) (3.1.3)\n",
            "Requirement already satisfied: MarkupSafe>=2.1.1 in /usr/local/lib/python3.11/dist-packages (from werkzeug>=1.0.1->tensorboard) (3.0.2)\n"
          ]
        }
      ]
    },
    {
      "cell_type": "code",
      "source": [
        "from ultralytics import YOLO\n",
        "\n",
        "model = YOLO(\"yolov8n.pt\")\n",
        "\n",
        "results = model.train(\n",
        "    data=\"/content/drive/MyDrive/night_object_detection/night_object_detection/data.yaml\",\n",
        "    epochs=50,\n",
        "    imgsz=640,\n",
        "    batch=16,\n",
        "    project=\"/content/drive/MyDrive/night_object_detection\",\n",
        "    name=\"yolov8_night_weather\",\n",
        "    save=True,\n",
        "    save_period=5,\n",
        "    val=True\n",
        ")"
      ],
      "metadata": {
        "colab": {
          "base_uri": "https://localhost:8080/"
        },
        "id": "4qklcKkXYJ9k",
        "outputId": "45c76323-c608-45b3-f2e8-c7156661c3d4"
      },
      "execution_count": 40,
      "outputs": [
        {
          "output_type": "stream",
          "name": "stdout",
          "text": [
            "Ultralytics 8.3.79 🚀 Python-3.11.11 torch-2.5.1+cu124 CUDA:0 (NVIDIA L4, 22693MiB)\n",
            "\u001b[34m\u001b[1mengine/trainer: \u001b[0mtask=detect, mode=train, model=yolov8n.pt, data=/content/drive/MyDrive/night_object_detection/night_object_detection/data.yaml, epochs=50, time=None, patience=100, batch=16, imgsz=640, save=True, save_period=5, cache=False, device=None, workers=8, project=/content/drive/MyDrive/night_object_detection, name=yolov8_night_weather, exist_ok=False, pretrained=True, optimizer=auto, verbose=True, seed=0, deterministic=True, single_cls=False, rect=False, cos_lr=False, close_mosaic=10, resume=False, amp=True, fraction=1.0, profile=False, freeze=None, multi_scale=False, overlap_mask=True, mask_ratio=4, dropout=0.0, val=True, split=val, save_json=False, save_hybrid=False, conf=None, iou=0.7, max_det=300, half=False, dnn=False, plots=True, source=None, vid_stride=1, stream_buffer=False, visualize=False, augment=False, agnostic_nms=False, classes=None, retina_masks=False, embed=None, show=False, save_frames=False, save_txt=False, save_conf=False, save_crop=False, show_labels=True, show_conf=True, show_boxes=True, line_width=None, format=torchscript, keras=False, optimize=False, int8=False, dynamic=False, simplify=True, opset=None, workspace=None, nms=False, lr0=0.01, lrf=0.01, momentum=0.937, weight_decay=0.0005, warmup_epochs=3.0, warmup_momentum=0.8, warmup_bias_lr=0.1, box=7.5, cls=0.5, dfl=1.5, pose=12.0, kobj=1.0, nbs=64, hsv_h=0.015, hsv_s=0.7, hsv_v=0.4, degrees=0.0, translate=0.1, scale=0.5, shear=0.0, perspective=0.0, flipud=0.0, fliplr=0.5, bgr=0.0, mosaic=1.0, mixup=0.0, copy_paste=0.0, copy_paste_mode=flip, auto_augment=randaugment, erasing=0.4, crop_fraction=1.0, cfg=None, tracker=botsort.yaml, save_dir=/content/drive/MyDrive/night_object_detection/yolov8_night_weather\n",
            "Overriding model.yaml nc=80 with nc=4\n",
            "\n",
            "                   from  n    params  module                                       arguments                     \n",
            "  0                  -1  1       464  ultralytics.nn.modules.conv.Conv             [3, 16, 3, 2]                 \n",
            "  1                  -1  1      4672  ultralytics.nn.modules.conv.Conv             [16, 32, 3, 2]                \n",
            "  2                  -1  1      7360  ultralytics.nn.modules.block.C2f             [32, 32, 1, True]             \n",
            "  3                  -1  1     18560  ultralytics.nn.modules.conv.Conv             [32, 64, 3, 2]                \n",
            "  4                  -1  2     49664  ultralytics.nn.modules.block.C2f             [64, 64, 2, True]             \n",
            "  5                  -1  1     73984  ultralytics.nn.modules.conv.Conv             [64, 128, 3, 2]               \n",
            "  6                  -1  2    197632  ultralytics.nn.modules.block.C2f             [128, 128, 2, True]           \n",
            "  7                  -1  1    295424  ultralytics.nn.modules.conv.Conv             [128, 256, 3, 2]              \n",
            "  8                  -1  1    460288  ultralytics.nn.modules.block.C2f             [256, 256, 1, True]           \n",
            "  9                  -1  1    164608  ultralytics.nn.modules.block.SPPF            [256, 256, 5]                 \n",
            " 10                  -1  1         0  torch.nn.modules.upsampling.Upsample         [None, 2, 'nearest']          \n",
            " 11             [-1, 6]  1         0  ultralytics.nn.modules.conv.Concat           [1]                           \n",
            " 12                  -1  1    148224  ultralytics.nn.modules.block.C2f             [384, 128, 1]                 \n",
            " 13                  -1  1         0  torch.nn.modules.upsampling.Upsample         [None, 2, 'nearest']          \n",
            " 14             [-1, 4]  1         0  ultralytics.nn.modules.conv.Concat           [1]                           \n",
            " 15                  -1  1     37248  ultralytics.nn.modules.block.C2f             [192, 64, 1]                  \n",
            " 16                  -1  1     36992  ultralytics.nn.modules.conv.Conv             [64, 64, 3, 2]                \n",
            " 17            [-1, 12]  1         0  ultralytics.nn.modules.conv.Concat           [1]                           \n",
            " 18                  -1  1    123648  ultralytics.nn.modules.block.C2f             [192, 128, 1]                 \n",
            " 19                  -1  1    147712  ultralytics.nn.modules.conv.Conv             [128, 128, 3, 2]              \n",
            " 20             [-1, 9]  1         0  ultralytics.nn.modules.conv.Concat           [1]                           \n",
            " 21                  -1  1    493056  ultralytics.nn.modules.block.C2f             [384, 256, 1]                 \n",
            " 22        [15, 18, 21]  1    752092  ultralytics.nn.modules.head.Detect           [4, [64, 128, 256]]           \n",
            "Model summary: 129 layers, 3,011,628 parameters, 3,011,612 gradients, 8.2 GFLOPs\n",
            "\n",
            "Transferred 319/355 items from pretrained weights\n",
            "\u001b[34m\u001b[1mTensorBoard: \u001b[0mStart with 'tensorboard --logdir /content/drive/MyDrive/night_object_detection/yolov8_night_weather', view at http://localhost:6006/\n",
            "Freezing layer 'model.22.dfl.conv.weight'\n",
            "\u001b[34m\u001b[1mAMP: \u001b[0mrunning Automatic Mixed Precision (AMP) checks...\n",
            "\u001b[34m\u001b[1mAMP: \u001b[0mchecks passed ✅\n"
          ]
        },
        {
          "output_type": "stream",
          "name": "stderr",
          "text": [
            "\u001b[34m\u001b[1mtrain: \u001b[0mScanning /content/drive/MyDrive/night_object_detection/night_object_detection/labels/train... 5172 images, 0 backgrounds, 0 corrupt: 100%|██████████| 5172/5172 [01:10<00:00, 73.19it/s] \n"
          ]
        },
        {
          "output_type": "stream",
          "name": "stdout",
          "text": [
            "\u001b[34m\u001b[1mtrain: \u001b[0mNew cache created: /content/drive/MyDrive/night_object_detection/night_object_detection/labels/train.cache\n",
            "\u001b[34m\u001b[1malbumentations: \u001b[0mBlur(p=0.01, blur_limit=(3, 7)), MedianBlur(p=0.01, blur_limit=(3, 7)), ToGray(p=0.01, num_output_channels=3, method='weighted_average'), CLAHE(p=0.01, clip_limit=(1.0, 4.0), tile_grid_size=(8, 8))\n"
          ]
        },
        {
          "output_type": "stream",
          "name": "stderr",
          "text": [
            "\u001b[34m\u001b[1mval: \u001b[0mScanning /content/drive/MyDrive/night_object_detection/night_object_detection/labels/val... 1294 images, 0 backgrounds, 0 corrupt: 100%|██████████| 1294/1294 [00:14<00:00, 88.65it/s] \n"
          ]
        },
        {
          "output_type": "stream",
          "name": "stdout",
          "text": [
            "\u001b[34m\u001b[1mval: \u001b[0mNew cache created: /content/drive/MyDrive/night_object_detection/night_object_detection/labels/val.cache\n",
            "Plotting labels to /content/drive/MyDrive/night_object_detection/yolov8_night_weather/labels.jpg... \n",
            "\u001b[34m\u001b[1moptimizer:\u001b[0m 'optimizer=auto' found, ignoring 'lr0=0.01' and 'momentum=0.937' and determining best 'optimizer', 'lr0' and 'momentum' automatically... \n",
            "\u001b[34m\u001b[1moptimizer:\u001b[0m AdamW(lr=0.00125, momentum=0.9) with parameter groups 57 weight(decay=0.0), 64 weight(decay=0.0005), 63 bias(decay=0.0)\n",
            "\u001b[34m\u001b[1mTensorBoard: \u001b[0mmodel graph visualization added ✅\n",
            "Image sizes 640 train, 640 val\n",
            "Using 8 dataloader workers\n",
            "Logging results to \u001b[1m/content/drive/MyDrive/night_object_detection/yolov8_night_weather\u001b[0m\n",
            "Starting training for 50 epochs...\n",
            "\n",
            "      Epoch    GPU_mem   box_loss   cls_loss   dfl_loss  Instances       Size\n"
          ]
        },
        {
          "output_type": "stream",
          "name": "stderr",
          "text": [
            "       1/50      2.86G      1.573       1.53     0.9628         82        640: 100%|██████████| 324/324 [00:39<00:00,  8.22it/s]\n",
            "                 Class     Images  Instances      Box(P          R      mAP50  mAP50-95): 100%|██████████| 41/41 [00:06<00:00,  6.28it/s]\n"
          ]
        },
        {
          "output_type": "stream",
          "name": "stdout",
          "text": [
            "                   all       1294      16212      0.595      0.521      0.551      0.322\n",
            "\n",
            "      Epoch    GPU_mem   box_loss   cls_loss   dfl_loss  Instances       Size\n"
          ]
        },
        {
          "output_type": "stream",
          "name": "stderr",
          "text": [
            "       2/50      3.23G      1.324     0.8277     0.9024         97        640: 100%|██████████| 324/324 [00:37<00:00,  8.56it/s]\n",
            "                 Class     Images  Instances      Box(P          R      mAP50  mAP50-95): 100%|██████████| 41/41 [00:05<00:00,  6.96it/s]"
          ]
        },
        {
          "output_type": "stream",
          "name": "stdout",
          "text": [
            "                   all       1294      16212      0.832      0.733      0.828      0.535\n"
          ]
        },
        {
          "output_type": "stream",
          "name": "stderr",
          "text": [
            "\n"
          ]
        },
        {
          "output_type": "stream",
          "name": "stdout",
          "text": [
            "\n",
            "      Epoch    GPU_mem   box_loss   cls_loss   dfl_loss  Instances       Size\n"
          ]
        },
        {
          "output_type": "stream",
          "name": "stderr",
          "text": [
            "       3/50      3.15G      1.251     0.7176     0.8889         73        640: 100%|██████████| 324/324 [00:36<00:00,  8.88it/s]\n",
            "                 Class     Images  Instances      Box(P          R      mAP50  mAP50-95): 100%|██████████| 41/41 [00:05<00:00,  6.95it/s]\n"
          ]
        },
        {
          "output_type": "stream",
          "name": "stdout",
          "text": [
            "                   all       1294      16212       0.91      0.849      0.923      0.599\n",
            "\n",
            "      Epoch    GPU_mem   box_loss   cls_loss   dfl_loss  Instances       Size\n"
          ]
        },
        {
          "output_type": "stream",
          "name": "stderr",
          "text": [
            "       4/50      2.92G      1.186      0.653     0.8769         52        640: 100%|██████████| 324/324 [00:36<00:00,  8.93it/s]\n",
            "                 Class     Images  Instances      Box(P          R      mAP50  mAP50-95): 100%|██████████| 41/41 [00:06<00:00,  6.77it/s]"
          ]
        },
        {
          "output_type": "stream",
          "name": "stdout",
          "text": [
            "                   all       1294      16212      0.944      0.936      0.972      0.687\n"
          ]
        },
        {
          "output_type": "stream",
          "name": "stderr",
          "text": [
            "\n"
          ]
        },
        {
          "output_type": "stream",
          "name": "stdout",
          "text": [
            "\n",
            "      Epoch    GPU_mem   box_loss   cls_loss   dfl_loss  Instances       Size\n"
          ]
        },
        {
          "output_type": "stream",
          "name": "stderr",
          "text": [
            "       5/50      3.61G      1.148     0.6173     0.8689        103        640: 100%|██████████| 324/324 [00:36<00:00,  8.94it/s]\n",
            "                 Class     Images  Instances      Box(P          R      mAP50  mAP50-95): 100%|██████████| 41/41 [00:05<00:00,  7.03it/s]"
          ]
        },
        {
          "output_type": "stream",
          "name": "stdout",
          "text": [
            "                   all       1294      16212      0.963      0.922      0.972       0.67\n"
          ]
        },
        {
          "output_type": "stream",
          "name": "stderr",
          "text": [
            "\n"
          ]
        },
        {
          "output_type": "stream",
          "name": "stdout",
          "text": [
            "\n",
            "      Epoch    GPU_mem   box_loss   cls_loss   dfl_loss  Instances       Size\n"
          ]
        },
        {
          "output_type": "stream",
          "name": "stderr",
          "text": [
            "       6/50      3.21G      1.097     0.5844     0.8625         67        640: 100%|██████████| 324/324 [00:36<00:00,  8.98it/s]\n",
            "                 Class     Images  Instances      Box(P          R      mAP50  mAP50-95): 100%|██████████| 41/41 [00:05<00:00,  7.10it/s]"
          ]
        },
        {
          "output_type": "stream",
          "name": "stdout",
          "text": [
            "                   all       1294      16212      0.973       0.93      0.984      0.716\n"
          ]
        },
        {
          "output_type": "stream",
          "name": "stderr",
          "text": [
            "\n"
          ]
        },
        {
          "output_type": "stream",
          "name": "stdout",
          "text": [
            "\n",
            "      Epoch    GPU_mem   box_loss   cls_loss   dfl_loss  Instances       Size\n"
          ]
        },
        {
          "output_type": "stream",
          "name": "stderr",
          "text": [
            "       7/50      3.18G       1.06     0.5598     0.8551         59        640: 100%|██████████| 324/324 [00:36<00:00,  8.98it/s]\n",
            "                 Class     Images  Instances      Box(P          R      mAP50  mAP50-95): 100%|██████████| 41/41 [00:06<00:00,  6.82it/s]"
          ]
        },
        {
          "output_type": "stream",
          "name": "stdout",
          "text": [
            "                   all       1294      16212       0.97      0.932       0.98      0.715\n"
          ]
        },
        {
          "output_type": "stream",
          "name": "stderr",
          "text": [
            "\n"
          ]
        },
        {
          "output_type": "stream",
          "name": "stdout",
          "text": [
            "\n",
            "      Epoch    GPU_mem   box_loss   cls_loss   dfl_loss  Instances       Size\n"
          ]
        },
        {
          "output_type": "stream",
          "name": "stderr",
          "text": [
            "       8/50      3.38G      1.039      0.546     0.8523         46        640: 100%|██████████| 324/324 [00:36<00:00,  8.97it/s]\n",
            "                 Class     Images  Instances      Box(P          R      mAP50  mAP50-95): 100%|██████████| 41/41 [00:05<00:00,  7.10it/s]"
          ]
        },
        {
          "output_type": "stream",
          "name": "stdout",
          "text": [
            "                   all       1294      16212      0.972      0.949      0.988      0.741\n"
          ]
        },
        {
          "output_type": "stream",
          "name": "stderr",
          "text": [
            "\n"
          ]
        },
        {
          "output_type": "stream",
          "name": "stdout",
          "text": [
            "\n",
            "      Epoch    GPU_mem   box_loss   cls_loss   dfl_loss  Instances       Size\n"
          ]
        },
        {
          "output_type": "stream",
          "name": "stderr",
          "text": [
            "       9/50       3.1G       1.02     0.5323     0.8497        101        640: 100%|██████████| 324/324 [00:36<00:00,  8.92it/s]\n",
            "                 Class     Images  Instances      Box(P          R      mAP50  mAP50-95): 100%|██████████| 41/41 [00:05<00:00,  7.05it/s]"
          ]
        },
        {
          "output_type": "stream",
          "name": "stdout",
          "text": [
            "                   all       1294      16212      0.961      0.957      0.986      0.745\n"
          ]
        },
        {
          "output_type": "stream",
          "name": "stderr",
          "text": [
            "\n"
          ]
        },
        {
          "output_type": "stream",
          "name": "stdout",
          "text": [
            "\n",
            "      Epoch    GPU_mem   box_loss   cls_loss   dfl_loss  Instances       Size\n"
          ]
        },
        {
          "output_type": "stream",
          "name": "stderr",
          "text": [
            "      10/50      2.96G     0.9942     0.5121      0.845         87        640: 100%|██████████| 324/324 [00:36<00:00,  8.93it/s]\n",
            "                 Class     Images  Instances      Box(P          R      mAP50  mAP50-95): 100%|██████████| 41/41 [00:05<00:00,  6.89it/s]"
          ]
        },
        {
          "output_type": "stream",
          "name": "stdout",
          "text": [
            "                   all       1294      16212      0.982       0.95      0.988      0.758\n"
          ]
        },
        {
          "output_type": "stream",
          "name": "stderr",
          "text": [
            "\n"
          ]
        },
        {
          "output_type": "stream",
          "name": "stdout",
          "text": [
            "\n",
            "      Epoch    GPU_mem   box_loss   cls_loss   dfl_loss  Instances       Size\n"
          ]
        },
        {
          "output_type": "stream",
          "name": "stderr",
          "text": [
            "      11/50       3.7G     0.9802       0.51     0.8441         86        640: 100%|██████████| 324/324 [00:35<00:00,  9.01it/s]\n",
            "                 Class     Images  Instances      Box(P          R      mAP50  mAP50-95): 100%|██████████| 41/41 [00:05<00:00,  6.93it/s]"
          ]
        },
        {
          "output_type": "stream",
          "name": "stdout",
          "text": [
            "                   all       1294      16212       0.96      0.914      0.974      0.743\n"
          ]
        },
        {
          "output_type": "stream",
          "name": "stderr",
          "text": [
            "\n"
          ]
        },
        {
          "output_type": "stream",
          "name": "stdout",
          "text": [
            "\n",
            "      Epoch    GPU_mem   box_loss   cls_loss   dfl_loss  Instances       Size\n"
          ]
        },
        {
          "output_type": "stream",
          "name": "stderr",
          "text": [
            "      12/50      3.28G     0.9654     0.4959     0.8404        115        640: 100%|██████████| 324/324 [00:35<00:00,  9.02it/s]\n",
            "                 Class     Images  Instances      Box(P          R      mAP50  mAP50-95): 100%|██████████| 41/41 [00:05<00:00,  6.99it/s]"
          ]
        },
        {
          "output_type": "stream",
          "name": "stdout",
          "text": [
            "                   all       1294      16212      0.968      0.968      0.989      0.756\n"
          ]
        },
        {
          "output_type": "stream",
          "name": "stderr",
          "text": [
            "\n"
          ]
        },
        {
          "output_type": "stream",
          "name": "stdout",
          "text": [
            "\n",
            "      Epoch    GPU_mem   box_loss   cls_loss   dfl_loss  Instances       Size\n"
          ]
        },
        {
          "output_type": "stream",
          "name": "stderr",
          "text": [
            "      13/50      3.22G     0.9536     0.4901     0.8387        104        640: 100%|██████████| 324/324 [00:36<00:00,  8.98it/s]\n",
            "                 Class     Images  Instances      Box(P          R      mAP50  mAP50-95): 100%|██████████| 41/41 [00:06<00:00,  6.76it/s]"
          ]
        },
        {
          "output_type": "stream",
          "name": "stdout",
          "text": [
            "                   all       1294      16212      0.975      0.955      0.987      0.771\n"
          ]
        },
        {
          "output_type": "stream",
          "name": "stderr",
          "text": [
            "\n"
          ]
        },
        {
          "output_type": "stream",
          "name": "stdout",
          "text": [
            "\n",
            "      Epoch    GPU_mem   box_loss   cls_loss   dfl_loss  Instances       Size\n"
          ]
        },
        {
          "output_type": "stream",
          "name": "stderr",
          "text": [
            "      14/50      2.91G      0.927     0.4772     0.8338        128        640: 100%|██████████| 324/324 [00:35<00:00,  9.03it/s]\n",
            "                 Class     Images  Instances      Box(P          R      mAP50  mAP50-95): 100%|██████████| 41/41 [00:05<00:00,  7.01it/s]"
          ]
        },
        {
          "output_type": "stream",
          "name": "stdout",
          "text": [
            "                   all       1294      16212      0.981      0.972      0.992      0.772\n"
          ]
        },
        {
          "output_type": "stream",
          "name": "stderr",
          "text": [
            "\n"
          ]
        },
        {
          "output_type": "stream",
          "name": "stdout",
          "text": [
            "\n",
            "      Epoch    GPU_mem   box_loss   cls_loss   dfl_loss  Instances       Size\n"
          ]
        },
        {
          "output_type": "stream",
          "name": "stderr",
          "text": [
            "      15/50      3.38G     0.9209     0.4726     0.8348        116        640: 100%|██████████| 324/324 [00:35<00:00,  9.01it/s]\n",
            "                 Class     Images  Instances      Box(P          R      mAP50  mAP50-95): 100%|██████████| 41/41 [00:05<00:00,  6.96it/s]"
          ]
        },
        {
          "output_type": "stream",
          "name": "stdout",
          "text": [
            "                   all       1294      16212      0.983       0.97      0.989      0.775\n"
          ]
        },
        {
          "output_type": "stream",
          "name": "stderr",
          "text": [
            "\n"
          ]
        },
        {
          "output_type": "stream",
          "name": "stdout",
          "text": [
            "\n",
            "      Epoch    GPU_mem   box_loss   cls_loss   dfl_loss  Instances       Size\n"
          ]
        },
        {
          "output_type": "stream",
          "name": "stderr",
          "text": [
            "      16/50      2.86G     0.9087     0.4686     0.8315         94        640: 100%|██████████| 324/324 [00:36<00:00,  8.98it/s]\n",
            "                 Class     Images  Instances      Box(P          R      mAP50  mAP50-95): 100%|██████████| 41/41 [00:05<00:00,  6.98it/s]"
          ]
        },
        {
          "output_type": "stream",
          "name": "stdout",
          "text": [
            "                   all       1294      16212      0.964      0.979      0.992      0.775\n"
          ]
        },
        {
          "output_type": "stream",
          "name": "stderr",
          "text": [
            "\n"
          ]
        },
        {
          "output_type": "stream",
          "name": "stdout",
          "text": [
            "\n",
            "      Epoch    GPU_mem   box_loss   cls_loss   dfl_loss  Instances       Size\n"
          ]
        },
        {
          "output_type": "stream",
          "name": "stderr",
          "text": [
            "      17/50      2.79G     0.8925     0.4588     0.8308        111        640: 100%|██████████| 324/324 [00:36<00:00,  8.99it/s]\n",
            "                 Class     Images  Instances      Box(P          R      mAP50  mAP50-95): 100%|██████████| 41/41 [00:06<00:00,  6.64it/s]"
          ]
        },
        {
          "output_type": "stream",
          "name": "stdout",
          "text": [
            "                   all       1294      16212      0.976      0.967      0.993      0.773\n"
          ]
        },
        {
          "output_type": "stream",
          "name": "stderr",
          "text": [
            "\n"
          ]
        },
        {
          "output_type": "stream",
          "name": "stdout",
          "text": [
            "\n",
            "      Epoch    GPU_mem   box_loss   cls_loss   dfl_loss  Instances       Size\n"
          ]
        },
        {
          "output_type": "stream",
          "name": "stderr",
          "text": [
            "      18/50      2.84G     0.8936     0.4576     0.8293        117        640: 100%|██████████| 324/324 [00:36<00:00,  8.98it/s]\n",
            "                 Class     Images  Instances      Box(P          R      mAP50  mAP50-95): 100%|██████████| 41/41 [00:05<00:00,  7.14it/s]"
          ]
        },
        {
          "output_type": "stream",
          "name": "stdout",
          "text": [
            "                   all       1294      16212      0.977      0.975      0.993      0.799\n"
          ]
        },
        {
          "output_type": "stream",
          "name": "stderr",
          "text": [
            "\n"
          ]
        },
        {
          "output_type": "stream",
          "name": "stdout",
          "text": [
            "\n",
            "      Epoch    GPU_mem   box_loss   cls_loss   dfl_loss  Instances       Size\n"
          ]
        },
        {
          "output_type": "stream",
          "name": "stderr",
          "text": [
            "      19/50      2.83G     0.8683     0.4466     0.8264         47        640: 100%|██████████| 324/324 [00:36<00:00,  8.96it/s]\n",
            "                 Class     Images  Instances      Box(P          R      mAP50  mAP50-95): 100%|██████████| 41/41 [00:05<00:00,  7.05it/s]"
          ]
        },
        {
          "output_type": "stream",
          "name": "stdout",
          "text": [
            "                   all       1294      16212      0.978      0.967      0.992      0.776\n"
          ]
        },
        {
          "output_type": "stream",
          "name": "stderr",
          "text": [
            "\n"
          ]
        },
        {
          "output_type": "stream",
          "name": "stdout",
          "text": [
            "\n",
            "      Epoch    GPU_mem   box_loss   cls_loss   dfl_loss  Instances       Size\n"
          ]
        },
        {
          "output_type": "stream",
          "name": "stderr",
          "text": [
            "      20/50      3.06G     0.8572     0.4376     0.8236         77        640: 100%|██████████| 324/324 [00:35<00:00,  9.03it/s]\n",
            "                 Class     Images  Instances      Box(P          R      mAP50  mAP50-95): 100%|██████████| 41/41 [00:06<00:00,  6.68it/s]"
          ]
        },
        {
          "output_type": "stream",
          "name": "stdout",
          "text": [
            "                   all       1294      16212      0.973      0.957      0.988      0.795\n"
          ]
        },
        {
          "output_type": "stream",
          "name": "stderr",
          "text": [
            "\n"
          ]
        },
        {
          "output_type": "stream",
          "name": "stdout",
          "text": [
            "\n",
            "      Epoch    GPU_mem   box_loss   cls_loss   dfl_loss  Instances       Size\n"
          ]
        },
        {
          "output_type": "stream",
          "name": "stderr",
          "text": [
            "      21/50      3.19G     0.8635     0.4428     0.8254        149        640: 100%|██████████| 324/324 [00:36<00:00,  8.95it/s]\n",
            "                 Class     Images  Instances      Box(P          R      mAP50  mAP50-95): 100%|██████████| 41/41 [00:05<00:00,  7.09it/s]"
          ]
        },
        {
          "output_type": "stream",
          "name": "stdout",
          "text": [
            "                   all       1294      16212       0.98      0.984      0.992      0.789\n"
          ]
        },
        {
          "output_type": "stream",
          "name": "stderr",
          "text": [
            "\n"
          ]
        },
        {
          "output_type": "stream",
          "name": "stdout",
          "text": [
            "\n",
            "      Epoch    GPU_mem   box_loss   cls_loss   dfl_loss  Instances       Size\n"
          ]
        },
        {
          "output_type": "stream",
          "name": "stderr",
          "text": [
            "      22/50      3.28G     0.8458     0.4327     0.8228         70        640: 100%|██████████| 324/324 [00:36<00:00,  8.95it/s]\n",
            "                 Class     Images  Instances      Box(P          R      mAP50  mAP50-95): 100%|██████████| 41/41 [00:05<00:00,  7.12it/s]"
          ]
        },
        {
          "output_type": "stream",
          "name": "stdout",
          "text": [
            "                   all       1294      16212       0.98       0.98      0.994      0.796\n"
          ]
        },
        {
          "output_type": "stream",
          "name": "stderr",
          "text": [
            "\n"
          ]
        },
        {
          "output_type": "stream",
          "name": "stdout",
          "text": [
            "\n",
            "      Epoch    GPU_mem   box_loss   cls_loss   dfl_loss  Instances       Size\n"
          ]
        },
        {
          "output_type": "stream",
          "name": "stderr",
          "text": [
            "      23/50      2.87G     0.8367     0.4277     0.8214         67        640: 100%|██████████| 324/324 [00:36<00:00,  8.96it/s]\n",
            "                 Class     Images  Instances      Box(P          R      mAP50  mAP50-95): 100%|██████████| 41/41 [00:05<00:00,  6.89it/s]"
          ]
        },
        {
          "output_type": "stream",
          "name": "stdout",
          "text": [
            "                   all       1294      16212      0.983      0.978      0.993       0.81\n"
          ]
        },
        {
          "output_type": "stream",
          "name": "stderr",
          "text": [
            "\n"
          ]
        },
        {
          "output_type": "stream",
          "name": "stdout",
          "text": [
            "\n",
            "      Epoch    GPU_mem   box_loss   cls_loss   dfl_loss  Instances       Size\n"
          ]
        },
        {
          "output_type": "stream",
          "name": "stderr",
          "text": [
            "      24/50      3.24G     0.8322      0.426     0.8213         87        640: 100%|██████████| 324/324 [00:35<00:00,  9.01it/s]\n",
            "                 Class     Images  Instances      Box(P          R      mAP50  mAP50-95): 100%|██████████| 41/41 [00:05<00:00,  6.86it/s]"
          ]
        },
        {
          "output_type": "stream",
          "name": "stdout",
          "text": [
            "                   all       1294      16212      0.989      0.968      0.993      0.801\n"
          ]
        },
        {
          "output_type": "stream",
          "name": "stderr",
          "text": [
            "\n"
          ]
        },
        {
          "output_type": "stream",
          "name": "stdout",
          "text": [
            "\n",
            "      Epoch    GPU_mem   box_loss   cls_loss   dfl_loss  Instances       Size\n"
          ]
        },
        {
          "output_type": "stream",
          "name": "stderr",
          "text": [
            "      25/50      2.53G     0.8158      0.418     0.8189         70        640: 100%|██████████| 324/324 [00:36<00:00,  8.95it/s]\n",
            "                 Class     Images  Instances      Box(P          R      mAP50  mAP50-95): 100%|██████████| 41/41 [00:05<00:00,  6.98it/s]"
          ]
        },
        {
          "output_type": "stream",
          "name": "stdout",
          "text": [
            "                   all       1294      16212      0.973       0.99      0.993      0.809\n"
          ]
        },
        {
          "output_type": "stream",
          "name": "stderr",
          "text": [
            "\n"
          ]
        },
        {
          "output_type": "stream",
          "name": "stdout",
          "text": [
            "\n",
            "      Epoch    GPU_mem   box_loss   cls_loss   dfl_loss  Instances       Size\n"
          ]
        },
        {
          "output_type": "stream",
          "name": "stderr",
          "text": [
            "      26/50      2.96G     0.8155     0.4192     0.8193         50        640: 100%|██████████| 324/324 [00:35<00:00,  9.01it/s]\n",
            "                 Class     Images  Instances      Box(P          R      mAP50  mAP50-95): 100%|██████████| 41/41 [00:06<00:00,  6.71it/s]"
          ]
        },
        {
          "output_type": "stream",
          "name": "stdout",
          "text": [
            "                   all       1294      16212      0.963      0.981       0.99      0.805\n"
          ]
        },
        {
          "output_type": "stream",
          "name": "stderr",
          "text": [
            "\n"
          ]
        },
        {
          "output_type": "stream",
          "name": "stdout",
          "text": [
            "\n",
            "      Epoch    GPU_mem   box_loss   cls_loss   dfl_loss  Instances       Size\n"
          ]
        },
        {
          "output_type": "stream",
          "name": "stderr",
          "text": [
            "      27/50      3.12G     0.8069     0.4122     0.8182        114        640: 100%|██████████| 324/324 [00:35<00:00,  9.03it/s]\n",
            "                 Class     Images  Instances      Box(P          R      mAP50  mAP50-95): 100%|██████████| 41/41 [00:06<00:00,  6.61it/s]"
          ]
        },
        {
          "output_type": "stream",
          "name": "stdout",
          "text": [
            "                   all       1294      16212      0.983      0.985      0.993      0.817\n"
          ]
        },
        {
          "output_type": "stream",
          "name": "stderr",
          "text": [
            "\n"
          ]
        },
        {
          "output_type": "stream",
          "name": "stdout",
          "text": [
            "\n",
            "      Epoch    GPU_mem   box_loss   cls_loss   dfl_loss  Instances       Size\n"
          ]
        },
        {
          "output_type": "stream",
          "name": "stderr",
          "text": [
            "      28/50      3.03G     0.7995     0.4106     0.8165         34        640: 100%|██████████| 324/324 [00:36<00:00,  8.93it/s]\n",
            "                 Class     Images  Instances      Box(P          R      mAP50  mAP50-95): 100%|██████████| 41/41 [00:05<00:00,  6.91it/s]"
          ]
        },
        {
          "output_type": "stream",
          "name": "stdout",
          "text": [
            "                   all       1294      16212      0.983       0.99      0.994      0.813\n"
          ]
        },
        {
          "output_type": "stream",
          "name": "stderr",
          "text": [
            "\n"
          ]
        },
        {
          "output_type": "stream",
          "name": "stdout",
          "text": [
            "\n",
            "      Epoch    GPU_mem   box_loss   cls_loss   dfl_loss  Instances       Size\n"
          ]
        },
        {
          "output_type": "stream",
          "name": "stderr",
          "text": [
            "      29/50      3.12G     0.7893      0.405     0.8159         73        640: 100%|██████████| 324/324 [00:36<00:00,  8.98it/s]\n",
            "                 Class     Images  Instances      Box(P          R      mAP50  mAP50-95): 100%|██████████| 41/41 [00:05<00:00,  7.06it/s]"
          ]
        },
        {
          "output_type": "stream",
          "name": "stdout",
          "text": [
            "                   all       1294      16212      0.979      0.987      0.994      0.822\n"
          ]
        },
        {
          "output_type": "stream",
          "name": "stderr",
          "text": [
            "\n"
          ]
        },
        {
          "output_type": "stream",
          "name": "stdout",
          "text": [
            "\n",
            "      Epoch    GPU_mem   box_loss   cls_loss   dfl_loss  Instances       Size\n"
          ]
        },
        {
          "output_type": "stream",
          "name": "stderr",
          "text": [
            "      30/50      3.23G     0.7892     0.4043     0.8153         84        640: 100%|██████████| 324/324 [00:35<00:00,  9.00it/s]\n",
            "                 Class     Images  Instances      Box(P          R      mAP50  mAP50-95): 100%|██████████| 41/41 [00:06<00:00,  6.81it/s]"
          ]
        },
        {
          "output_type": "stream",
          "name": "stdout",
          "text": [
            "                   all       1294      16212      0.977      0.984      0.992      0.828\n"
          ]
        },
        {
          "output_type": "stream",
          "name": "stderr",
          "text": [
            "\n"
          ]
        },
        {
          "output_type": "stream",
          "name": "stdout",
          "text": [
            "\n",
            "      Epoch    GPU_mem   box_loss   cls_loss   dfl_loss  Instances       Size\n"
          ]
        },
        {
          "output_type": "stream",
          "name": "stderr",
          "text": [
            "      31/50      2.98G     0.7733     0.3985      0.814        106        640: 100%|██████████| 324/324 [00:35<00:00,  9.00it/s]\n",
            "                 Class     Images  Instances      Box(P          R      mAP50  mAP50-95): 100%|██████████| 41/41 [00:05<00:00,  7.12it/s]"
          ]
        },
        {
          "output_type": "stream",
          "name": "stdout",
          "text": [
            "                   all       1294      16212      0.978      0.992      0.994      0.823\n"
          ]
        },
        {
          "output_type": "stream",
          "name": "stderr",
          "text": [
            "\n"
          ]
        },
        {
          "output_type": "stream",
          "name": "stdout",
          "text": [
            "\n",
            "      Epoch    GPU_mem   box_loss   cls_loss   dfl_loss  Instances       Size\n"
          ]
        },
        {
          "output_type": "stream",
          "name": "stderr",
          "text": [
            "      32/50      2.83G     0.7723     0.3993     0.8139         79        640: 100%|██████████| 324/324 [00:36<00:00,  9.00it/s]\n",
            "                 Class     Images  Instances      Box(P          R      mAP50  mAP50-95): 100%|██████████| 41/41 [00:05<00:00,  7.10it/s]"
          ]
        },
        {
          "output_type": "stream",
          "name": "stdout",
          "text": [
            "                   all       1294      16212      0.982      0.984      0.994      0.825\n"
          ]
        },
        {
          "output_type": "stream",
          "name": "stderr",
          "text": [
            "\n"
          ]
        },
        {
          "output_type": "stream",
          "name": "stdout",
          "text": [
            "\n",
            "      Epoch    GPU_mem   box_loss   cls_loss   dfl_loss  Instances       Size\n"
          ]
        },
        {
          "output_type": "stream",
          "name": "stderr",
          "text": [
            "      33/50      2.92G     0.7635     0.3939     0.8124         73        640: 100%|██████████| 324/324 [00:36<00:00,  8.99it/s]\n",
            "                 Class     Images  Instances      Box(P          R      mAP50  mAP50-95): 100%|██████████| 41/41 [00:05<00:00,  6.86it/s]"
          ]
        },
        {
          "output_type": "stream",
          "name": "stdout",
          "text": [
            "                   all       1294      16212      0.987       0.98      0.994      0.827\n"
          ]
        },
        {
          "output_type": "stream",
          "name": "stderr",
          "text": [
            "\n"
          ]
        },
        {
          "output_type": "stream",
          "name": "stdout",
          "text": [
            "\n",
            "      Epoch    GPU_mem   box_loss   cls_loss   dfl_loss  Instances       Size\n"
          ]
        },
        {
          "output_type": "stream",
          "name": "stderr",
          "text": [
            "      34/50      3.34G     0.7567     0.3893     0.8107         78        640: 100%|██████████| 324/324 [00:36<00:00,  8.99it/s]\n",
            "                 Class     Images  Instances      Box(P          R      mAP50  mAP50-95): 100%|██████████| 41/41 [00:05<00:00,  7.12it/s]"
          ]
        },
        {
          "output_type": "stream",
          "name": "stdout",
          "text": [
            "                   all       1294      16212      0.986      0.981      0.993      0.836\n"
          ]
        },
        {
          "output_type": "stream",
          "name": "stderr",
          "text": [
            "\n"
          ]
        },
        {
          "output_type": "stream",
          "name": "stdout",
          "text": [
            "\n",
            "      Epoch    GPU_mem   box_loss   cls_loss   dfl_loss  Instances       Size\n"
          ]
        },
        {
          "output_type": "stream",
          "name": "stderr",
          "text": [
            "      35/50       2.9G     0.7636     0.3944     0.8122        110        640: 100%|██████████| 324/324 [00:36<00:00,  8.92it/s]\n",
            "                 Class     Images  Instances      Box(P          R      mAP50  mAP50-95): 100%|██████████| 41/41 [00:05<00:00,  7.08it/s]"
          ]
        },
        {
          "output_type": "stream",
          "name": "stdout",
          "text": [
            "                   all       1294      16212      0.989      0.985      0.995      0.829\n"
          ]
        },
        {
          "output_type": "stream",
          "name": "stderr",
          "text": [
            "\n"
          ]
        },
        {
          "output_type": "stream",
          "name": "stdout",
          "text": [
            "\n",
            "      Epoch    GPU_mem   box_loss   cls_loss   dfl_loss  Instances       Size\n"
          ]
        },
        {
          "output_type": "stream",
          "name": "stderr",
          "text": [
            "      36/50      2.81G     0.7501     0.3876     0.8104        100        640: 100%|██████████| 324/324 [00:35<00:00,  9.02it/s]\n",
            "                 Class     Images  Instances      Box(P          R      mAP50  mAP50-95): 100%|██████████| 41/41 [00:05<00:00,  6.90it/s]\n"
          ]
        },
        {
          "output_type": "stream",
          "name": "stdout",
          "text": [
            "                   all       1294      16212      0.989       0.98      0.994       0.83\n",
            "\n",
            "      Epoch    GPU_mem   box_loss   cls_loss   dfl_loss  Instances       Size\n"
          ]
        },
        {
          "output_type": "stream",
          "name": "stderr",
          "text": [
            "      37/50      2.59G     0.7501      0.386     0.8104         96        640: 100%|██████████| 324/324 [00:36<00:00,  8.97it/s]\n",
            "                 Class     Images  Instances      Box(P          R      mAP50  mAP50-95): 100%|██████████| 41/41 [00:05<00:00,  7.10it/s]"
          ]
        },
        {
          "output_type": "stream",
          "name": "stdout",
          "text": [
            "                   all       1294      16212      0.989      0.981      0.994      0.827\n"
          ]
        },
        {
          "output_type": "stream",
          "name": "stderr",
          "text": [
            "\n"
          ]
        },
        {
          "output_type": "stream",
          "name": "stdout",
          "text": [
            "\n",
            "      Epoch    GPU_mem   box_loss   cls_loss   dfl_loss  Instances       Size\n"
          ]
        },
        {
          "output_type": "stream",
          "name": "stderr",
          "text": [
            "      38/50      3.12G     0.7382     0.3815     0.8089         34        640: 100%|██████████| 324/324 [00:36<00:00,  8.95it/s]\n",
            "                 Class     Images  Instances      Box(P          R      mAP50  mAP50-95): 100%|██████████| 41/41 [00:05<00:00,  7.03it/s]"
          ]
        },
        {
          "output_type": "stream",
          "name": "stdout",
          "text": [
            "                   all       1294      16212       0.99      0.984      0.994      0.832\n"
          ]
        },
        {
          "output_type": "stream",
          "name": "stderr",
          "text": [
            "\n"
          ]
        },
        {
          "output_type": "stream",
          "name": "stdout",
          "text": [
            "\n",
            "      Epoch    GPU_mem   box_loss   cls_loss   dfl_loss  Instances       Size\n"
          ]
        },
        {
          "output_type": "stream",
          "name": "stderr",
          "text": [
            "      39/50      2.98G     0.7313     0.3795     0.8081        114        640: 100%|██████████| 324/324 [00:36<00:00,  8.96it/s]\n",
            "                 Class     Images  Instances      Box(P          R      mAP50  mAP50-95): 100%|██████████| 41/41 [00:05<00:00,  6.93it/s]"
          ]
        },
        {
          "output_type": "stream",
          "name": "stdout",
          "text": [
            "                   all       1294      16212      0.975      0.993      0.994      0.836\n"
          ]
        },
        {
          "output_type": "stream",
          "name": "stderr",
          "text": [
            "\n"
          ]
        },
        {
          "output_type": "stream",
          "name": "stdout",
          "text": [
            "\n",
            "      Epoch    GPU_mem   box_loss   cls_loss   dfl_loss  Instances       Size\n"
          ]
        },
        {
          "output_type": "stream",
          "name": "stderr",
          "text": [
            "      40/50      3.27G     0.7281     0.3776     0.8068        122        640: 100%|██████████| 324/324 [00:36<00:00,  8.98it/s]\n",
            "                 Class     Images  Instances      Box(P          R      mAP50  mAP50-95): 100%|██████████| 41/41 [00:06<00:00,  6.82it/s]"
          ]
        },
        {
          "output_type": "stream",
          "name": "stdout",
          "text": [
            "                   all       1294      16212      0.984      0.983      0.994      0.839\n"
          ]
        },
        {
          "output_type": "stream",
          "name": "stderr",
          "text": [
            "\n"
          ]
        },
        {
          "output_type": "stream",
          "name": "stdout",
          "text": [
            "Closing dataloader mosaic\n",
            "\u001b[34m\u001b[1malbumentations: \u001b[0mBlur(p=0.01, blur_limit=(3, 7)), MedianBlur(p=0.01, blur_limit=(3, 7)), ToGray(p=0.01, num_output_channels=3, method='weighted_average'), CLAHE(p=0.01, clip_limit=(1.0, 4.0), tile_grid_size=(8, 8))\n",
            "\n",
            "      Epoch    GPU_mem   box_loss   cls_loss   dfl_loss  Instances       Size\n"
          ]
        },
        {
          "output_type": "stream",
          "name": "stderr",
          "text": [
            "      41/50      2.28G     0.6944     0.3565     0.8052         42        640: 100%|██████████| 324/324 [00:36<00:00,  8.91it/s]\n",
            "                 Class     Images  Instances      Box(P          R      mAP50  mAP50-95): 100%|██████████| 41/41 [00:05<00:00,  7.13it/s]"
          ]
        },
        {
          "output_type": "stream",
          "name": "stdout",
          "text": [
            "                   all       1294      16212      0.992       0.98      0.994      0.837\n"
          ]
        },
        {
          "output_type": "stream",
          "name": "stderr",
          "text": [
            "\n"
          ]
        },
        {
          "output_type": "stream",
          "name": "stdout",
          "text": [
            "\n",
            "      Epoch    GPU_mem   box_loss   cls_loss   dfl_loss  Instances       Size\n"
          ]
        },
        {
          "output_type": "stream",
          "name": "stderr",
          "text": [
            "      42/50       2.2G     0.6732     0.3468     0.8019         36        640: 100%|██████████| 324/324 [00:35<00:00,  9.26it/s]\n",
            "                 Class     Images  Instances      Box(P          R      mAP50  mAP50-95): 100%|██████████| 41/41 [00:05<00:00,  6.88it/s]"
          ]
        },
        {
          "output_type": "stream",
          "name": "stdout",
          "text": [
            "                   all       1294      16212      0.994      0.981      0.995      0.845\n"
          ]
        },
        {
          "output_type": "stream",
          "name": "stderr",
          "text": [
            "\n"
          ]
        },
        {
          "output_type": "stream",
          "name": "stdout",
          "text": [
            "\n",
            "      Epoch    GPU_mem   box_loss   cls_loss   dfl_loss  Instances       Size\n"
          ]
        },
        {
          "output_type": "stream",
          "name": "stderr",
          "text": [
            "      43/50      2.28G     0.6604     0.3411     0.8003         41        640: 100%|██████████| 324/324 [00:34<00:00,  9.28it/s]\n",
            "                 Class     Images  Instances      Box(P          R      mAP50  mAP50-95): 100%|██████████| 41/41 [00:06<00:00,  6.68it/s]"
          ]
        },
        {
          "output_type": "stream",
          "name": "stdout",
          "text": [
            "                   all       1294      16212      0.991      0.979      0.994      0.846\n"
          ]
        },
        {
          "output_type": "stream",
          "name": "stderr",
          "text": [
            "\n"
          ]
        },
        {
          "output_type": "stream",
          "name": "stdout",
          "text": [
            "\n",
            "      Epoch    GPU_mem   box_loss   cls_loss   dfl_loss  Instances       Size\n"
          ]
        },
        {
          "output_type": "stream",
          "name": "stderr",
          "text": [
            "      44/50      2.32G     0.6546     0.3398     0.7993         41        640: 100%|██████████| 324/324 [00:35<00:00,  9.24it/s]\n",
            "                 Class     Images  Instances      Box(P          R      mAP50  mAP50-95): 100%|██████████| 41/41 [00:05<00:00,  6.88it/s]"
          ]
        },
        {
          "output_type": "stream",
          "name": "stdout",
          "text": [
            "                   all       1294      16212       0.99      0.983      0.994      0.847\n"
          ]
        },
        {
          "output_type": "stream",
          "name": "stderr",
          "text": [
            "\n"
          ]
        },
        {
          "output_type": "stream",
          "name": "stdout",
          "text": [
            "\n",
            "      Epoch    GPU_mem   box_loss   cls_loss   dfl_loss  Instances       Size\n"
          ]
        },
        {
          "output_type": "stream",
          "name": "stderr",
          "text": [
            "      45/50      2.25G     0.6471     0.3363      0.798         86        640: 100%|██████████| 324/324 [00:35<00:00,  9.24it/s]\n",
            "                 Class     Images  Instances      Box(P          R      mAP50  mAP50-95): 100%|██████████| 41/41 [00:05<00:00,  7.03it/s]"
          ]
        },
        {
          "output_type": "stream",
          "name": "stdout",
          "text": [
            "                   all       1294      16212      0.993      0.982      0.994       0.85\n"
          ]
        },
        {
          "output_type": "stream",
          "name": "stderr",
          "text": [
            "\n"
          ]
        },
        {
          "output_type": "stream",
          "name": "stdout",
          "text": [
            "\n",
            "      Epoch    GPU_mem   box_loss   cls_loss   dfl_loss  Instances       Size\n"
          ]
        },
        {
          "output_type": "stream",
          "name": "stderr",
          "text": [
            "      46/50      2.25G     0.6338     0.3303     0.7973         34        640: 100%|██████████| 324/324 [00:35<00:00,  9.23it/s]\n",
            "                 Class     Images  Instances      Box(P          R      mAP50  mAP50-95): 100%|██████████| 41/41 [00:05<00:00,  6.97it/s]"
          ]
        },
        {
          "output_type": "stream",
          "name": "stdout",
          "text": [
            "                   all       1294      16212      0.993      0.982      0.994      0.851\n"
          ]
        },
        {
          "output_type": "stream",
          "name": "stderr",
          "text": [
            "\n"
          ]
        },
        {
          "output_type": "stream",
          "name": "stdout",
          "text": [
            "\n",
            "      Epoch    GPU_mem   box_loss   cls_loss   dfl_loss  Instances       Size\n"
          ]
        },
        {
          "output_type": "stream",
          "name": "stderr",
          "text": [
            "      47/50      2.27G     0.6285     0.3278     0.7966         37        640: 100%|██████████| 324/324 [00:34<00:00,  9.29it/s]\n",
            "                 Class     Images  Instances      Box(P          R      mAP50  mAP50-95): 100%|██████████| 41/41 [00:06<00:00,  6.76it/s]"
          ]
        },
        {
          "output_type": "stream",
          "name": "stdout",
          "text": [
            "                   all       1294      16212       0.99      0.981      0.995      0.853\n"
          ]
        },
        {
          "output_type": "stream",
          "name": "stderr",
          "text": [
            "\n"
          ]
        },
        {
          "output_type": "stream",
          "name": "stdout",
          "text": [
            "\n",
            "      Epoch    GPU_mem   box_loss   cls_loss   dfl_loss  Instances       Size\n"
          ]
        },
        {
          "output_type": "stream",
          "name": "stderr",
          "text": [
            "      48/50      2.28G     0.6227     0.3241     0.7959         49        640: 100%|██████████| 324/324 [00:34<00:00,  9.30it/s]\n",
            "                 Class     Images  Instances      Box(P          R      mAP50  mAP50-95): 100%|██████████| 41/41 [00:05<00:00,  6.84it/s]"
          ]
        },
        {
          "output_type": "stream",
          "name": "stdout",
          "text": [
            "                   all       1294      16212      0.993      0.981      0.995      0.854\n"
          ]
        },
        {
          "output_type": "stream",
          "name": "stderr",
          "text": [
            "\n"
          ]
        },
        {
          "output_type": "stream",
          "name": "stdout",
          "text": [
            "\n",
            "      Epoch    GPU_mem   box_loss   cls_loss   dfl_loss  Instances       Size\n"
          ]
        },
        {
          "output_type": "stream",
          "name": "stderr",
          "text": [
            "      49/50      2.26G     0.6144     0.3209     0.7955         39        640: 100%|██████████| 324/324 [00:34<00:00,  9.28it/s]\n",
            "                 Class     Images  Instances      Box(P          R      mAP50  mAP50-95): 100%|██████████| 41/41 [00:05<00:00,  7.05it/s]"
          ]
        },
        {
          "output_type": "stream",
          "name": "stdout",
          "text": [
            "                   all       1294      16212      0.993      0.982      0.994      0.856\n"
          ]
        },
        {
          "output_type": "stream",
          "name": "stderr",
          "text": [
            "\n"
          ]
        },
        {
          "output_type": "stream",
          "name": "stdout",
          "text": [
            "\n",
            "      Epoch    GPU_mem   box_loss   cls_loss   dfl_loss  Instances       Size\n"
          ]
        },
        {
          "output_type": "stream",
          "name": "stderr",
          "text": [
            "      50/50      2.25G     0.6095     0.3187     0.7948         31        640: 100%|██████████| 324/324 [00:34<00:00,  9.29it/s]\n",
            "                 Class     Images  Instances      Box(P          R      mAP50  mAP50-95): 100%|██████████| 41/41 [00:05<00:00,  6.90it/s]"
          ]
        },
        {
          "output_type": "stream",
          "name": "stdout",
          "text": [
            "                   all       1294      16212      0.992      0.984      0.995      0.855\n"
          ]
        },
        {
          "output_type": "stream",
          "name": "stderr",
          "text": [
            "\n"
          ]
        },
        {
          "output_type": "stream",
          "name": "stdout",
          "text": [
            "\n",
            "50 epochs completed in 0.595 hours.\n",
            "Optimizer stripped from /content/drive/MyDrive/night_object_detection/yolov8_night_weather/weights/last.pt, 6.2MB\n",
            "Optimizer stripped from /content/drive/MyDrive/night_object_detection/yolov8_night_weather/weights/best.pt, 6.2MB\n",
            "\n",
            "Validating /content/drive/MyDrive/night_object_detection/yolov8_night_weather/weights/best.pt...\n",
            "Ultralytics 8.3.79 🚀 Python-3.11.11 torch-2.5.1+cu124 CUDA:0 (NVIDIA L4, 22693MiB)\n",
            "Model summary (fused): 72 layers, 3,006,428 parameters, 0 gradients, 8.1 GFLOPs\n"
          ]
        },
        {
          "output_type": "stream",
          "name": "stderr",
          "text": [
            "                 Class     Images  Instances      Box(P          R      mAP50  mAP50-95): 100%|██████████| 41/41 [00:09<00:00,  4.47it/s]\n"
          ]
        },
        {
          "output_type": "stream",
          "name": "stdout",
          "text": [
            "                   all       1294      16212      0.993      0.982      0.994      0.856\n",
            "                   car       1294      15761      0.996      0.963      0.994      0.861\n",
            "                 truck         53         64      0.994      0.984      0.994      0.856\n",
            "                   bus        227        387      0.989      0.997      0.995       0.85\n",
            "Speed: 0.1ms preprocess, 0.5ms inference, 0.0ms loss, 0.9ms postprocess per image\n",
            "Results saved to \u001b[1m/content/drive/MyDrive/night_object_detection/yolov8_night_weather\u001b[0m\n"
          ]
        }
      ]
    },
    {
      "cell_type": "code",
      "source": [
        "#!pip install ultralytics\n",
        "import torch\n",
        "from pathlib import Path\n",
        "from ultralytics import YOLO\n",
        "import os\n",
        "import matplotlib.pyplot as plt\n",
        "\n",
        "model_path = \"/content/drive/MyDrive/night_object_detection/yolov8_night_weather/weights/best.pt\"\n",
        "model = YOLO(model_path)\n",
        "\n",
        "test_images_path = \"/content/drive/MyDrive/night_object_detection/night_object_detection/images/val\"\n",
        "test_annotations_path = \"/content/drive/MyDrive/night_object_detection/night_object_detection/labels/val\"\n",
        "\n",
        "results = model.predict(source=test_images_path, conf=0.54, iou=0.3, save=True, stream=True)\n",
        "\n",
        "all_results = list(results)"
      ],
      "metadata": {
        "colab": {
          "base_uri": "https://localhost:8080/"
        },
        "id": "-sKzxP-ye_fV",
        "outputId": "c2d8605e-d96f-4ea7-ec20-09846d186285"
      },
      "execution_count": 41,
      "outputs": [
        {
          "output_type": "stream",
          "name": "stdout",
          "text": [
            "\n",
            "image 1/1294 /content/drive/MyDrive/night_object_detection/night_object_detection/images/val/M0202_img000005.jpg: 352x640 12 cars, 9.1ms\n",
            "image 2/1294 /content/drive/MyDrive/night_object_detection/night_object_detection/images/val/M0202_img000008.jpg: 352x640 12 cars, 8.6ms\n",
            "image 3/1294 /content/drive/MyDrive/night_object_detection/night_object_detection/images/val/M0202_img000016.jpg: 352x640 13 cars, 8.1ms\n",
            "image 4/1294 /content/drive/MyDrive/night_object_detection/night_object_detection/images/val/M0202_img000017.jpg: 352x640 13 cars, 7.8ms\n",
            "image 5/1294 /content/drive/MyDrive/night_object_detection/night_object_detection/images/val/M0202_img000021.jpg: 352x640 13 cars, 8.0ms\n",
            "image 6/1294 /content/drive/MyDrive/night_object_detection/night_object_detection/images/val/M0202_img000023.jpg: 352x640 13 cars, 7.8ms\n",
            "image 7/1294 /content/drive/MyDrive/night_object_detection/night_object_detection/images/val/M0202_img000025.jpg: 352x640 12 cars, 8.3ms\n",
            "image 8/1294 /content/drive/MyDrive/night_object_detection/night_object_detection/images/val/M0202_img000027.jpg: 352x640 13 cars, 10.2ms\n",
            "image 9/1294 /content/drive/MyDrive/night_object_detection/night_object_detection/images/val/M0202_img000029.jpg: 352x640 13 cars, 10.3ms\n",
            "image 10/1294 /content/drive/MyDrive/night_object_detection/night_object_detection/images/val/M0202_img000033.jpg: 352x640 13 cars, 10.6ms\n",
            "image 11/1294 /content/drive/MyDrive/night_object_detection/night_object_detection/images/val/M0202_img000041.jpg: 352x640 13 cars, 8.3ms\n",
            "image 12/1294 /content/drive/MyDrive/night_object_detection/night_object_detection/images/val/M0202_img000044.jpg: 352x640 13 cars, 8.0ms\n",
            "image 13/1294 /content/drive/MyDrive/night_object_detection/night_object_detection/images/val/M0202_img000045.jpg: 352x640 13 cars, 8.6ms\n",
            "image 14/1294 /content/drive/MyDrive/night_object_detection/night_object_detection/images/val/M0202_img000048.jpg: 352x640 13 cars, 8.7ms\n",
            "image 15/1294 /content/drive/MyDrive/night_object_detection/night_object_detection/images/val/M0202_img000049.jpg: 352x640 13 cars, 8.1ms\n",
            "image 16/1294 /content/drive/MyDrive/night_object_detection/night_object_detection/images/val/M0202_img000051.jpg: 352x640 13 cars, 7.6ms\n",
            "image 17/1294 /content/drive/MyDrive/night_object_detection/night_object_detection/images/val/M0202_img000053.jpg: 352x640 13 cars, 7.7ms\n",
            "image 18/1294 /content/drive/MyDrive/night_object_detection/night_object_detection/images/val/M0202_img000056.jpg: 352x640 13 cars, 7.5ms\n",
            "image 19/1294 /content/drive/MyDrive/night_object_detection/night_object_detection/images/val/M0202_img000071.jpg: 352x640 12 cars, 7.5ms\n",
            "image 20/1294 /content/drive/MyDrive/night_object_detection/night_object_detection/images/val/M0202_img000074.jpg: 352x640 12 cars, 7.5ms\n",
            "image 21/1294 /content/drive/MyDrive/night_object_detection/night_object_detection/images/val/M0202_img000082.jpg: 352x640 12 cars, 7.5ms\n",
            "image 22/1294 /content/drive/MyDrive/night_object_detection/night_object_detection/images/val/M0202_img000083.jpg: 352x640 12 cars, 7.7ms\n",
            "image 23/1294 /content/drive/MyDrive/night_object_detection/night_object_detection/images/val/M0202_img000086.jpg: 352x640 12 cars, 8.7ms\n",
            "image 24/1294 /content/drive/MyDrive/night_object_detection/night_object_detection/images/val/M0202_img000088.jpg: 352x640 12 cars, 8.0ms\n",
            "image 25/1294 /content/drive/MyDrive/night_object_detection/night_object_detection/images/val/M0202_img000095.jpg: 352x640 12 cars, 7.7ms\n",
            "image 26/1294 /content/drive/MyDrive/night_object_detection/night_object_detection/images/val/M0202_img000098.jpg: 352x640 12 cars, 7.6ms\n",
            "image 27/1294 /content/drive/MyDrive/night_object_detection/night_object_detection/images/val/M0202_img000102.jpg: 352x640 11 cars, 7.8ms\n",
            "image 28/1294 /content/drive/MyDrive/night_object_detection/night_object_detection/images/val/M0202_img000103.jpg: 352x640 11 cars, 7.5ms\n",
            "image 29/1294 /content/drive/MyDrive/night_object_detection/night_object_detection/images/val/M0202_img000106.jpg: 352x640 12 cars, 7.7ms\n",
            "image 30/1294 /content/drive/MyDrive/night_object_detection/night_object_detection/images/val/M0202_img000114.jpg: 352x640 14 cars, 7.7ms\n",
            "image 31/1294 /content/drive/MyDrive/night_object_detection/night_object_detection/images/val/M0202_img000116.jpg: 352x640 14 cars, 8.0ms\n",
            "image 32/1294 /content/drive/MyDrive/night_object_detection/night_object_detection/images/val/M0202_img000119.jpg: 352x640 14 cars, 7.6ms\n",
            "image 33/1294 /content/drive/MyDrive/night_object_detection/night_object_detection/images/val/M0202_img000124.jpg: 352x640 16 cars, 7.8ms\n",
            "image 34/1294 /content/drive/MyDrive/night_object_detection/night_object_detection/images/val/M0202_img000126.jpg: 352x640 17 cars, 7.9ms\n",
            "image 35/1294 /content/drive/MyDrive/night_object_detection/night_object_detection/images/val/M0202_img000127.jpg: 352x640 17 cars, 8.3ms\n",
            "image 36/1294 /content/drive/MyDrive/night_object_detection/night_object_detection/images/val/M0202_img000129.jpg: 352x640 17 cars, 8.1ms\n",
            "image 37/1294 /content/drive/MyDrive/night_object_detection/night_object_detection/images/val/M0202_img000132.jpg: 352x640 17 cars, 9.1ms\n",
            "image 38/1294 /content/drive/MyDrive/night_object_detection/night_object_detection/images/val/M0202_img000141.jpg: 352x640 16 cars, 7.4ms\n",
            "image 39/1294 /content/drive/MyDrive/night_object_detection/night_object_detection/images/val/M0202_img000142.jpg: 352x640 16 cars, 7.8ms\n",
            "image 40/1294 /content/drive/MyDrive/night_object_detection/night_object_detection/images/val/M0202_img000146.jpg: 352x640 16 cars, 7.4ms\n",
            "image 41/1294 /content/drive/MyDrive/night_object_detection/night_object_detection/images/val/M0202_img000152.jpg: 352x640 16 cars, 7.3ms\n",
            "image 42/1294 /content/drive/MyDrive/night_object_detection/night_object_detection/images/val/M0202_img000155.jpg: 352x640 16 cars, 7.3ms\n",
            "image 43/1294 /content/drive/MyDrive/night_object_detection/night_object_detection/images/val/M0202_img000165.jpg: 352x640 16 cars, 9.6ms\n",
            "image 44/1294 /content/drive/MyDrive/night_object_detection/night_object_detection/images/val/M0202_img000166.jpg: 352x640 16 cars, 7.7ms\n",
            "image 45/1294 /content/drive/MyDrive/night_object_detection/night_object_detection/images/val/M0202_img000171.jpg: 352x640 16 cars, 7.7ms\n",
            "image 46/1294 /content/drive/MyDrive/night_object_detection/night_object_detection/images/val/M0202_img000176.jpg: 352x640 16 cars, 7.6ms\n",
            "image 47/1294 /content/drive/MyDrive/night_object_detection/night_object_detection/images/val/M0202_img000179.jpg: 352x640 15 cars, 7.6ms\n",
            "image 48/1294 /content/drive/MyDrive/night_object_detection/night_object_detection/images/val/M0202_img000184.jpg: 352x640 15 cars, 7.5ms\n",
            "image 49/1294 /content/drive/MyDrive/night_object_detection/night_object_detection/images/val/M0202_img000191.jpg: 352x640 15 cars, 7.8ms\n",
            "image 50/1294 /content/drive/MyDrive/night_object_detection/night_object_detection/images/val/M0202_img000192.jpg: 352x640 15 cars, 7.4ms\n",
            "image 51/1294 /content/drive/MyDrive/night_object_detection/night_object_detection/images/val/M0202_img000203.jpg: 352x640 15 cars, 7.3ms\n",
            "image 52/1294 /content/drive/MyDrive/night_object_detection/night_object_detection/images/val/M0202_img000208.jpg: 352x640 14 cars, 7.4ms\n",
            "image 53/1294 /content/drive/MyDrive/night_object_detection/night_object_detection/images/val/M0202_img000211.jpg: 352x640 14 cars, 7.5ms\n",
            "image 54/1294 /content/drive/MyDrive/night_object_detection/night_object_detection/images/val/M0202_img000213.jpg: 352x640 14 cars, 7.5ms\n",
            "image 55/1294 /content/drive/MyDrive/night_object_detection/night_object_detection/images/val/M0202_img000220.jpg: 352x640 14 cars, 7.7ms\n",
            "image 56/1294 /content/drive/MyDrive/night_object_detection/night_object_detection/images/val/M0202_img000224.jpg: 352x640 13 cars, 7.5ms\n",
            "image 57/1294 /content/drive/MyDrive/night_object_detection/night_object_detection/images/val/M0202_img000231.jpg: 352x640 13 cars, 7.6ms\n",
            "image 58/1294 /content/drive/MyDrive/night_object_detection/night_object_detection/images/val/M0202_img000232.jpg: 352x640 13 cars, 7.8ms\n",
            "image 59/1294 /content/drive/MyDrive/night_object_detection/night_object_detection/images/val/M0202_img000233.jpg: 352x640 13 cars, 7.6ms\n",
            "image 60/1294 /content/drive/MyDrive/night_object_detection/night_object_detection/images/val/M0202_img000234.jpg: 352x640 13 cars, 8.3ms\n",
            "image 61/1294 /content/drive/MyDrive/night_object_detection/night_object_detection/images/val/M0202_img000235.jpg: 352x640 13 cars, 8.2ms\n",
            "image 62/1294 /content/drive/MyDrive/night_object_detection/night_object_detection/images/val/M0202_img000243.jpg: 352x640 13 cars, 7.8ms\n",
            "image 63/1294 /content/drive/MyDrive/night_object_detection/night_object_detection/images/val/M0202_img000248.jpg: 352x640 13 cars, 7.6ms\n",
            "image 64/1294 /content/drive/MyDrive/night_object_detection/night_object_detection/images/val/M0202_img000253.jpg: 352x640 11 cars, 8.0ms\n",
            "image 65/1294 /content/drive/MyDrive/night_object_detection/night_object_detection/images/val/M0202_img000254.jpg: 352x640 11 cars, 7.8ms\n",
            "image 66/1294 /content/drive/MyDrive/night_object_detection/night_object_detection/images/val/M0202_img000266.jpg: 352x640 11 cars, 7.9ms\n",
            "image 67/1294 /content/drive/MyDrive/night_object_detection/night_object_detection/images/val/M0202_img000272.jpg: 352x640 12 cars, 7.9ms\n",
            "image 68/1294 /content/drive/MyDrive/night_object_detection/night_object_detection/images/val/M0202_img000277.jpg: 352x640 12 cars, 7.9ms\n",
            "image 69/1294 /content/drive/MyDrive/night_object_detection/night_object_detection/images/val/M0202_img000278.jpg: 352x640 12 cars, 7.9ms\n",
            "image 70/1294 /content/drive/MyDrive/night_object_detection/night_object_detection/images/val/M0202_img000283.jpg: 352x640 12 cars, 8.2ms\n",
            "image 71/1294 /content/drive/MyDrive/night_object_detection/night_object_detection/images/val/M0202_img000285.jpg: 352x640 12 cars, 8.0ms\n",
            "image 72/1294 /content/drive/MyDrive/night_object_detection/night_object_detection/images/val/M0204_img000001.jpg: 352x640 15 cars, 1 truck, 8.1ms\n",
            "image 73/1294 /content/drive/MyDrive/night_object_detection/night_object_detection/images/val/M0204_img000010.jpg: 352x640 16 cars, 1 truck, 7.9ms\n",
            "image 74/1294 /content/drive/MyDrive/night_object_detection/night_object_detection/images/val/M0204_img000011.jpg: 352x640 16 cars, 1 truck, 8.1ms\n",
            "image 75/1294 /content/drive/MyDrive/night_object_detection/night_object_detection/images/val/M0204_img000013.jpg: 352x640 16 cars, 1 truck, 8.0ms\n",
            "image 76/1294 /content/drive/MyDrive/night_object_detection/night_object_detection/images/val/M0204_img000027.jpg: 352x640 15 cars, 1 truck, 8.1ms\n",
            "image 77/1294 /content/drive/MyDrive/night_object_detection/night_object_detection/images/val/M0204_img000028.jpg: 352x640 15 cars, 1 truck, 8.1ms\n",
            "image 78/1294 /content/drive/MyDrive/night_object_detection/night_object_detection/images/val/M0204_img000031.jpg: 352x640 14 cars, 1 truck, 9.2ms\n",
            "image 79/1294 /content/drive/MyDrive/night_object_detection/night_object_detection/images/val/M0204_img000032.jpg: 352x640 14 cars, 1 truck, 7.7ms\n",
            "image 80/1294 /content/drive/MyDrive/night_object_detection/night_object_detection/images/val/M0204_img000041.jpg: 352x640 13 cars, 1 truck, 8.1ms\n",
            "image 81/1294 /content/drive/MyDrive/night_object_detection/night_object_detection/images/val/M0204_img000042.jpg: 352x640 13 cars, 1 truck, 7.8ms\n",
            "image 82/1294 /content/drive/MyDrive/night_object_detection/night_object_detection/images/val/M0204_img000049.jpg: 352x640 13 cars, 1 truck, 7.6ms\n",
            "image 83/1294 /content/drive/MyDrive/night_object_detection/night_object_detection/images/val/M0204_img000050.jpg: 352x640 12 cars, 1 truck, 8.1ms\n",
            "image 84/1294 /content/drive/MyDrive/night_object_detection/night_object_detection/images/val/M0204_img000054.jpg: 352x640 13 cars, 1 truck, 8.0ms\n",
            "image 85/1294 /content/drive/MyDrive/night_object_detection/night_object_detection/images/val/M0204_img000066.jpg: 352x640 13 cars, 1 truck, 7.8ms\n",
            "image 86/1294 /content/drive/MyDrive/night_object_detection/night_object_detection/images/val/M0204_img000068.jpg: 352x640 13 cars, 1 truck, 7.8ms\n",
            "image 87/1294 /content/drive/MyDrive/night_object_detection/night_object_detection/images/val/M0204_img000073.jpg: 352x640 8 cars, 1 truck, 8.2ms\n",
            "image 88/1294 /content/drive/MyDrive/night_object_detection/night_object_detection/images/val/M0204_img000075.jpg: 352x640 6 cars, 1 truck, 7.6ms\n",
            "image 89/1294 /content/drive/MyDrive/night_object_detection/night_object_detection/images/val/M0204_img000083.jpg: 352x640 4 cars, 1 truck, 7.3ms\n",
            "image 90/1294 /content/drive/MyDrive/night_object_detection/night_object_detection/images/val/M0204_img000092.jpg: 352x640 7 cars, 1 truck, 7.3ms\n",
            "image 91/1294 /content/drive/MyDrive/night_object_detection/night_object_detection/images/val/M0204_img000102.jpg: 352x640 8 cars, 1 truck, 7.4ms\n",
            "image 92/1294 /content/drive/MyDrive/night_object_detection/night_object_detection/images/val/M0204_img000104.jpg: 352x640 9 cars, 1 truck, 7.5ms\n",
            "image 93/1294 /content/drive/MyDrive/night_object_detection/night_object_detection/images/val/M0204_img000106.jpg: 352x640 8 cars, 7.4ms\n",
            "image 94/1294 /content/drive/MyDrive/night_object_detection/night_object_detection/images/val/M0204_img000109.jpg: 352x640 8 cars, 8.3ms\n",
            "image 95/1294 /content/drive/MyDrive/night_object_detection/night_object_detection/images/val/M0204_img000114.jpg: 352x640 9 cars, 9.3ms\n",
            "image 96/1294 /content/drive/MyDrive/night_object_detection/night_object_detection/images/val/M0204_img000118.jpg: 352x640 9 cars, 7.4ms\n",
            "image 97/1294 /content/drive/MyDrive/night_object_detection/night_object_detection/images/val/M0204_img000126.jpg: 352x640 9 cars, 7.4ms\n",
            "image 98/1294 /content/drive/MyDrive/night_object_detection/night_object_detection/images/val/M0204_img000129.jpg: 352x640 9 cars, 7.3ms\n",
            "image 99/1294 /content/drive/MyDrive/night_object_detection/night_object_detection/images/val/M0204_img000130.jpg: 352x640 9 cars, 7.3ms\n",
            "image 100/1294 /content/drive/MyDrive/night_object_detection/night_object_detection/images/val/M0204_img000132.jpg: 352x640 9 cars, 7.7ms\n",
            "image 101/1294 /content/drive/MyDrive/night_object_detection/night_object_detection/images/val/M0204_img000135.jpg: 352x640 8 cars, 7.7ms\n",
            "image 102/1294 /content/drive/MyDrive/night_object_detection/night_object_detection/images/val/M0204_img000140.jpg: 352x640 9 cars, 7.8ms\n",
            "image 103/1294 /content/drive/MyDrive/night_object_detection/night_object_detection/images/val/M0204_img000143.jpg: 352x640 10 cars, 7.5ms\n",
            "image 104/1294 /content/drive/MyDrive/night_object_detection/night_object_detection/images/val/M0204_img000147.jpg: 352x640 9 cars, 7.3ms\n",
            "image 105/1294 /content/drive/MyDrive/night_object_detection/night_object_detection/images/val/M0204_img000152.jpg: 352x640 8 cars, 7.6ms\n",
            "image 106/1294 /content/drive/MyDrive/night_object_detection/night_object_detection/images/val/M0204_img000157.jpg: 352x640 9 cars, 7.3ms\n",
            "image 107/1294 /content/drive/MyDrive/night_object_detection/night_object_detection/images/val/M0204_img000188.jpg: 352x640 10 cars, 7.9ms\n",
            "image 108/1294 /content/drive/MyDrive/night_object_detection/night_object_detection/images/val/M0204_img000190.jpg: 352x640 11 cars, 7.5ms\n",
            "image 109/1294 /content/drive/MyDrive/night_object_detection/night_object_detection/images/val/M0204_img000196.jpg: 352x640 11 cars, 7.5ms\n",
            "image 110/1294 /content/drive/MyDrive/night_object_detection/night_object_detection/images/val/M0204_img000198.jpg: 352x640 10 cars, 7.7ms\n",
            "image 111/1294 /content/drive/MyDrive/night_object_detection/night_object_detection/images/val/M0204_img000200.jpg: 352x640 11 cars, 8.5ms\n",
            "image 112/1294 /content/drive/MyDrive/night_object_detection/night_object_detection/images/val/M0204_img000213.jpg: 352x640 9 cars, 8.7ms\n",
            "image 113/1294 /content/drive/MyDrive/night_object_detection/night_object_detection/images/val/M0204_img000214.jpg: 352x640 9 cars, 8.4ms\n",
            "image 114/1294 /content/drive/MyDrive/night_object_detection/night_object_detection/images/val/M0204_img000219.jpg: 352x640 7 cars, 8.1ms\n",
            "image 115/1294 /content/drive/MyDrive/night_object_detection/night_object_detection/images/val/M0204_img000224.jpg: 352x640 7 cars, 8.1ms\n",
            "image 116/1294 /content/drive/MyDrive/night_object_detection/night_object_detection/images/val/M0204_img000226.jpg: 352x640 7 cars, 9.7ms\n",
            "image 117/1294 /content/drive/MyDrive/night_object_detection/night_object_detection/images/val/M0204_img000248.jpg: 352x640 8 cars, 8.5ms\n",
            "image 118/1294 /content/drive/MyDrive/night_object_detection/night_object_detection/images/val/M0204_img000258.jpg: 352x640 8 cars, 8.7ms\n",
            "image 119/1294 /content/drive/MyDrive/night_object_detection/night_object_detection/images/val/M0204_img000263.jpg: 352x640 8 cars, 8.3ms\n",
            "image 120/1294 /content/drive/MyDrive/night_object_detection/night_object_detection/images/val/M0204_img000265.jpg: 352x640 8 cars, 9.6ms\n",
            "image 121/1294 /content/drive/MyDrive/night_object_detection/night_object_detection/images/val/M0204_img000281.jpg: 352x640 7 cars, 8.1ms\n",
            "image 122/1294 /content/drive/MyDrive/night_object_detection/night_object_detection/images/val/M0204_img000283.jpg: 352x640 7 cars, 8.3ms\n",
            "image 123/1294 /content/drive/MyDrive/night_object_detection/night_object_detection/images/val/M0204_img000289.jpg: 352x640 6 cars, 1 truck, 7.9ms\n",
            "image 124/1294 /content/drive/MyDrive/night_object_detection/night_object_detection/images/val/M0204_img000291.jpg: 352x640 7 cars, 7.8ms\n",
            "image 125/1294 /content/drive/MyDrive/night_object_detection/night_object_detection/images/val/M0204_img000300.jpg: 352x640 7 cars, 7.5ms\n",
            "image 126/1294 /content/drive/MyDrive/night_object_detection/night_object_detection/images/val/M0204_img000303.jpg: 352x640 7 cars, 7.5ms\n",
            "image 127/1294 /content/drive/MyDrive/night_object_detection/night_object_detection/images/val/M0204_img000304.jpg: 352x640 7 cars, 8.0ms\n",
            "image 128/1294 /content/drive/MyDrive/night_object_detection/night_object_detection/images/val/M0204_img000308.jpg: 352x640 7 cars, 8.0ms\n",
            "image 129/1294 /content/drive/MyDrive/night_object_detection/night_object_detection/images/val/M0204_img000313.jpg: 352x640 7 cars, 7.6ms\n",
            "image 130/1294 /content/drive/MyDrive/night_object_detection/night_object_detection/images/val/M0204_img000317.jpg: 352x640 7 cars, 7.6ms\n",
            "image 131/1294 /content/drive/MyDrive/night_object_detection/night_object_detection/images/val/M0204_img000324.jpg: 352x640 7 cars, 7.6ms\n",
            "image 132/1294 /content/drive/MyDrive/night_object_detection/night_object_detection/images/val/M0204_img000332.jpg: 352x640 7 cars, 7.6ms\n",
            "image 133/1294 /content/drive/MyDrive/night_object_detection/night_object_detection/images/val/M0204_img000334.jpg: 352x640 7 cars, 1 truck, 7.5ms\n",
            "image 134/1294 /content/drive/MyDrive/night_object_detection/night_object_detection/images/val/M0204_img000338.jpg: 352x640 7 cars, 1 truck, 7.6ms\n",
            "image 135/1294 /content/drive/MyDrive/night_object_detection/night_object_detection/images/val/M0204_img000341.jpg: 352x640 7 cars, 1 truck, 7.5ms\n",
            "image 136/1294 /content/drive/MyDrive/night_object_detection/night_object_detection/images/val/M0204_img000349.jpg: 352x640 6 cars, 1 truck, 7.5ms\n",
            "image 137/1294 /content/drive/MyDrive/night_object_detection/night_object_detection/images/val/M0206_img000005.jpg: 352x640 4 cars, 7.7ms\n",
            "image 138/1294 /content/drive/MyDrive/night_object_detection/night_object_detection/images/val/M0206_img000008.jpg: 352x640 3 cars, 7.5ms\n",
            "image 139/1294 /content/drive/MyDrive/night_object_detection/night_object_detection/images/val/M0206_img000012.jpg: 352x640 3 cars, 7.6ms\n",
            "image 140/1294 /content/drive/MyDrive/night_object_detection/night_object_detection/images/val/M0206_img000013.jpg: 352x640 3 cars, 7.6ms\n",
            "image 141/1294 /content/drive/MyDrive/night_object_detection/night_object_detection/images/val/M0206_img000017.jpg: 352x640 3 cars, 7.6ms\n",
            "image 142/1294 /content/drive/MyDrive/night_object_detection/night_object_detection/images/val/M0206_img000018.jpg: 352x640 3 cars, 7.7ms\n",
            "image 143/1294 /content/drive/MyDrive/night_object_detection/night_object_detection/images/val/M0206_img000031.jpg: 352x640 5 cars, 7.6ms\n",
            "image 144/1294 /content/drive/MyDrive/night_object_detection/night_object_detection/images/val/M0206_img000044.jpg: 352x640 9 cars, 7.5ms\n",
            "image 145/1294 /content/drive/MyDrive/night_object_detection/night_object_detection/images/val/M0206_img000045.jpg: 352x640 9 cars, 7.7ms\n",
            "image 146/1294 /content/drive/MyDrive/night_object_detection/night_object_detection/images/val/M0206_img000064.jpg: 352x640 8 cars, 7.5ms\n",
            "image 147/1294 /content/drive/MyDrive/night_object_detection/night_object_detection/images/val/M0206_img000066.jpg: 352x640 8 cars, 7.6ms\n",
            "image 148/1294 /content/drive/MyDrive/night_object_detection/night_object_detection/images/val/M0206_img000078.jpg: 352x640 9 cars, 7.6ms\n",
            "image 149/1294 /content/drive/MyDrive/night_object_detection/night_object_detection/images/val/M0206_img000080.jpg: 352x640 9 cars, 7.5ms\n",
            "image 150/1294 /content/drive/MyDrive/night_object_detection/night_object_detection/images/val/M0206_img000081.jpg: 352x640 9 cars, 8.0ms\n",
            "image 151/1294 /content/drive/MyDrive/night_object_detection/night_object_detection/images/val/M0206_img000082.jpg: 352x640 9 cars, 8.2ms\n",
            "image 152/1294 /content/drive/MyDrive/night_object_detection/night_object_detection/images/val/M0206_img000084.jpg: 352x640 9 cars, 9.7ms\n",
            "image 153/1294 /content/drive/MyDrive/night_object_detection/night_object_detection/images/val/M0206_img000087.jpg: 352x640 9 cars, 7.7ms\n",
            "image 154/1294 /content/drive/MyDrive/night_object_detection/night_object_detection/images/val/M0206_img000092.jpg: 352x640 9 cars, 7.9ms\n",
            "image 155/1294 /content/drive/MyDrive/night_object_detection/night_object_detection/images/val/M0206_img000093.jpg: 352x640 9 cars, 8.0ms\n",
            "image 156/1294 /content/drive/MyDrive/night_object_detection/night_object_detection/images/val/M0206_img000111.jpg: 352x640 10 cars, 7.6ms\n",
            "image 157/1294 /content/drive/MyDrive/night_object_detection/night_object_detection/images/val/M0206_img000122.jpg: 352x640 9 cars, 7.5ms\n",
            "image 158/1294 /content/drive/MyDrive/night_object_detection/night_object_detection/images/val/M0206_img000132.jpg: 352x640 9 cars, 7.5ms\n",
            "image 159/1294 /content/drive/MyDrive/night_object_detection/night_object_detection/images/val/M0206_img000147.jpg: 352x640 9 cars, 7.9ms\n",
            "image 160/1294 /content/drive/MyDrive/night_object_detection/night_object_detection/images/val/M0206_img000160.jpg: 352x640 9 cars, 8.5ms\n",
            "image 161/1294 /content/drive/MyDrive/night_object_detection/night_object_detection/images/val/M0206_img000165.jpg: 352x640 9 cars, 8.4ms\n",
            "image 162/1294 /content/drive/MyDrive/night_object_detection/night_object_detection/images/val/M0206_img000173.jpg: 352x640 9 cars, 11.0ms\n",
            "image 163/1294 /content/drive/MyDrive/night_object_detection/night_object_detection/images/val/M0206_img000177.jpg: 352x640 9 cars, 10.4ms\n",
            "image 164/1294 /content/drive/MyDrive/night_object_detection/night_object_detection/images/val/M0206_img000183.jpg: 352x640 10 cars, 9.8ms\n",
            "image 165/1294 /content/drive/MyDrive/night_object_detection/night_object_detection/images/val/M0206_img000184.jpg: 352x640 10 cars, 9.6ms\n",
            "image 166/1294 /content/drive/MyDrive/night_object_detection/night_object_detection/images/val/M0206_img000186.jpg: 352x640 9 cars, 10.1ms\n",
            "image 167/1294 /content/drive/MyDrive/night_object_detection/night_object_detection/images/val/M0206_img000188.jpg: 352x640 9 cars, 9.5ms\n",
            "image 168/1294 /content/drive/MyDrive/night_object_detection/night_object_detection/images/val/M0206_img000191.jpg: 352x640 9 cars, 8.3ms\n",
            "image 169/1294 /content/drive/MyDrive/night_object_detection/night_object_detection/images/val/M0206_img000197.jpg: 352x640 9 cars, 8.1ms\n",
            "image 170/1294 /content/drive/MyDrive/night_object_detection/night_object_detection/images/val/M0206_img000204.jpg: 352x640 8 cars, 7.5ms\n",
            "image 171/1294 /content/drive/MyDrive/night_object_detection/night_object_detection/images/val/M0206_img000221.jpg: 352x640 8 cars, 7.4ms\n",
            "image 172/1294 /content/drive/MyDrive/night_object_detection/night_object_detection/images/val/M0206_img000222.jpg: 352x640 8 cars, 9.9ms\n",
            "image 173/1294 /content/drive/MyDrive/night_object_detection/night_object_detection/images/val/M0206_img000230.jpg: 352x640 9 cars, 7.7ms\n",
            "image 174/1294 /content/drive/MyDrive/night_object_detection/night_object_detection/images/val/M0206_img000232.jpg: 352x640 9 cars, 8.3ms\n",
            "image 175/1294 /content/drive/MyDrive/night_object_detection/night_object_detection/images/val/M0206_img000238.jpg: 352x640 9 cars, 7.5ms\n",
            "image 176/1294 /content/drive/MyDrive/night_object_detection/night_object_detection/images/val/M0206_img000248.jpg: 352x640 10 cars, 7.5ms\n",
            "image 177/1294 /content/drive/MyDrive/night_object_detection/night_object_detection/images/val/M0206_img000249.jpg: 352x640 10 cars, 7.7ms\n",
            "image 178/1294 /content/drive/MyDrive/night_object_detection/night_object_detection/images/val/M0206_img000257.jpg: 352x640 10 cars, 7.9ms\n",
            "image 179/1294 /content/drive/MyDrive/night_object_detection/night_object_detection/images/val/M0206_img000262.jpg: 352x640 11 cars, 7.8ms\n",
            "image 180/1294 /content/drive/MyDrive/night_object_detection/night_object_detection/images/val/M0206_img000267.jpg: 352x640 11 cars, 7.4ms\n",
            "image 181/1294 /content/drive/MyDrive/night_object_detection/night_object_detection/images/val/M0206_img000269.jpg: 352x640 11 cars, 7.3ms\n",
            "image 182/1294 /content/drive/MyDrive/night_object_detection/night_object_detection/images/val/M0206_img000276.jpg: 352x640 11 cars, 7.8ms\n",
            "image 183/1294 /content/drive/MyDrive/night_object_detection/night_object_detection/images/val/M0206_img000280.jpg: 352x640 11 cars, 7.8ms\n",
            "image 184/1294 /content/drive/MyDrive/night_object_detection/night_object_detection/images/val/M0206_img000281.jpg: 352x640 11 cars, 7.5ms\n",
            "image 185/1294 /content/drive/MyDrive/night_object_detection/night_object_detection/images/val/M0206_img000282.jpg: 352x640 11 cars, 8.0ms\n",
            "image 186/1294 /content/drive/MyDrive/night_object_detection/night_object_detection/images/val/M0206_img000289.jpg: 352x640 11 cars, 8.5ms\n",
            "image 187/1294 /content/drive/MyDrive/night_object_detection/night_object_detection/images/val/M0206_img000292.jpg: 352x640 11 cars, 8.0ms\n",
            "image 188/1294 /content/drive/MyDrive/night_object_detection/night_object_detection/images/val/M0206_img000294.jpg: 352x640 11 cars, 7.8ms\n",
            "image 189/1294 /content/drive/MyDrive/night_object_detection/night_object_detection/images/val/M0206_img000296.jpg: 352x640 11 cars, 8.2ms\n",
            "image 190/1294 /content/drive/MyDrive/night_object_detection/night_object_detection/images/val/M0206_img000297.jpg: 352x640 11 cars, 8.2ms\n",
            "image 191/1294 /content/drive/MyDrive/night_object_detection/night_object_detection/images/val/M0206_img000309.jpg: 352x640 10 cars, 8.2ms\n",
            "image 192/1294 /content/drive/MyDrive/night_object_detection/night_object_detection/images/val/M0206_img000311.jpg: 352x640 10 cars, 8.0ms\n",
            "image 193/1294 /content/drive/MyDrive/night_object_detection/night_object_detection/images/val/M0206_img000313.jpg: 352x640 10 cars, 8.0ms\n",
            "image 194/1294 /content/drive/MyDrive/night_object_detection/night_object_detection/images/val/M0206_img000316.jpg: 352x640 10 cars, 7.8ms\n",
            "image 195/1294 /content/drive/MyDrive/night_object_detection/night_object_detection/images/val/M0206_img000319.jpg: 352x640 10 cars, 8.0ms\n",
            "image 196/1294 /content/drive/MyDrive/night_object_detection/night_object_detection/images/val/M0206_img000323.jpg: 352x640 10 cars, 7.7ms\n",
            "image 197/1294 /content/drive/MyDrive/night_object_detection/night_object_detection/images/val/M0206_img000325.jpg: 352x640 10 cars, 7.6ms\n",
            "image 198/1294 /content/drive/MyDrive/night_object_detection/night_object_detection/images/val/M0206_img000327.jpg: 352x640 10 cars, 8.1ms\n",
            "image 199/1294 /content/drive/MyDrive/night_object_detection/night_object_detection/images/val/M0206_img000335.jpg: 352x640 11 cars, 8.0ms\n",
            "image 200/1294 /content/drive/MyDrive/night_object_detection/night_object_detection/images/val/M0206_img000343.jpg: 352x640 11 cars, 7.6ms\n",
            "image 201/1294 /content/drive/MyDrive/night_object_detection/night_object_detection/images/val/M0206_img000345.jpg: 352x640 11 cars, 7.7ms\n",
            "image 202/1294 /content/drive/MyDrive/night_object_detection/night_object_detection/images/val/M0206_img000347.jpg: 352x640 11 cars, 7.6ms\n",
            "image 203/1294 /content/drive/MyDrive/night_object_detection/night_object_detection/images/val/M0206_img000352.jpg: 352x640 11 cars, 9.5ms\n",
            "image 204/1294 /content/drive/MyDrive/night_object_detection/night_object_detection/images/val/M0206_img000353.jpg: 352x640 11 cars, 10.8ms\n",
            "image 205/1294 /content/drive/MyDrive/night_object_detection/night_object_detection/images/val/M0206_img000354.jpg: 352x640 11 cars, 10.5ms\n",
            "image 206/1294 /content/drive/MyDrive/night_object_detection/night_object_detection/images/val/M0206_img000358.jpg: 352x640 11 cars, 8.2ms\n",
            "image 207/1294 /content/drive/MyDrive/night_object_detection/night_object_detection/images/val/M0206_img000359.jpg: 352x640 11 cars, 7.6ms\n",
            "image 208/1294 /content/drive/MyDrive/night_object_detection/night_object_detection/images/val/M0206_img000361.jpg: 352x640 11 cars, 8.0ms\n",
            "image 209/1294 /content/drive/MyDrive/night_object_detection/night_object_detection/images/val/M0206_img000363.jpg: 352x640 11 cars, 7.7ms\n",
            "image 210/1294 /content/drive/MyDrive/night_object_detection/night_object_detection/images/val/M0206_img000386.jpg: 352x640 11 cars, 8.0ms\n",
            "image 211/1294 /content/drive/MyDrive/night_object_detection/night_object_detection/images/val/M0206_img000389.jpg: 352x640 11 cars, 7.7ms\n",
            "image 212/1294 /content/drive/MyDrive/night_object_detection/night_object_detection/images/val/M0206_img000420.jpg: 352x640 10 cars, 1 bus, 7.6ms\n",
            "image 213/1294 /content/drive/MyDrive/night_object_detection/night_object_detection/images/val/M0206_img000428.jpg: 352x640 10 cars, 1 bus, 7.7ms\n",
            "image 214/1294 /content/drive/MyDrive/night_object_detection/night_object_detection/images/val/M0206_img000429.jpg: 352x640 10 cars, 1 bus, 7.4ms\n",
            "image 215/1294 /content/drive/MyDrive/night_object_detection/night_object_detection/images/val/M0206_img000430.jpg: 352x640 10 cars, 1 bus, 7.3ms\n",
            "image 216/1294 /content/drive/MyDrive/night_object_detection/night_object_detection/images/val/M0206_img000448.jpg: 352x640 10 cars, 1 bus, 7.5ms\n",
            "image 217/1294 /content/drive/MyDrive/night_object_detection/night_object_detection/images/val/M0206_img000460.jpg: 352x640 10 cars, 1 bus, 7.5ms\n",
            "image 218/1294 /content/drive/MyDrive/night_object_detection/night_object_detection/images/val/M0206_img000461.jpg: 352x640 10 cars, 1 bus, 7.4ms\n",
            "image 219/1294 /content/drive/MyDrive/night_object_detection/night_object_detection/images/val/M0206_img000472.jpg: 352x640 10 cars, 1 bus, 7.4ms\n",
            "image 220/1294 /content/drive/MyDrive/night_object_detection/night_object_detection/images/val/M0206_img000481.jpg: 352x640 9 cars, 1 bus, 7.5ms\n",
            "image 221/1294 /content/drive/MyDrive/night_object_detection/night_object_detection/images/val/M0206_img000484.jpg: 352x640 8 cars, 1 bus, 7.3ms\n",
            "image 222/1294 /content/drive/MyDrive/night_object_detection/night_object_detection/images/val/M0206_img000485.jpg: 352x640 9 cars, 1 bus, 9.2ms\n",
            "image 223/1294 /content/drive/MyDrive/night_object_detection/night_object_detection/images/val/M0206_img000487.jpg: 352x640 9 cars, 1 bus, 7.7ms\n",
            "image 224/1294 /content/drive/MyDrive/night_object_detection/night_object_detection/images/val/M0206_img000488.jpg: 352x640 9 cars, 1 bus, 7.4ms\n",
            "image 225/1294 /content/drive/MyDrive/night_object_detection/night_object_detection/images/val/M0206_img000493.jpg: 352x640 9 cars, 1 bus, 7.6ms\n",
            "image 226/1294 /content/drive/MyDrive/night_object_detection/night_object_detection/images/val/M0206_img000495.jpg: 352x640 9 cars, 1 bus, 7.3ms\n",
            "image 227/1294 /content/drive/MyDrive/night_object_detection/night_object_detection/images/val/M0206_img000496.jpg: 352x640 9 cars, 1 bus, 7.4ms\n",
            "image 228/1294 /content/drive/MyDrive/night_object_detection/night_object_detection/images/val/M0206_img000501.jpg: 352x640 10 cars, 1 bus, 8.8ms\n",
            "image 229/1294 /content/drive/MyDrive/night_object_detection/night_object_detection/images/val/M0206_img000505.jpg: 352x640 9 cars, 1 bus, 7.4ms\n",
            "image 230/1294 /content/drive/MyDrive/night_object_detection/night_object_detection/images/val/M0206_img000509.jpg: 352x640 9 cars, 1 bus, 7.4ms\n",
            "image 231/1294 /content/drive/MyDrive/night_object_detection/night_object_detection/images/val/M0206_img000516.jpg: 352x640 9 cars, 1 bus, 7.3ms\n",
            "image 232/1294 /content/drive/MyDrive/night_object_detection/night_object_detection/images/val/M0206_img000519.jpg: 352x640 9 cars, 1 bus, 7.8ms\n",
            "image 233/1294 /content/drive/MyDrive/night_object_detection/night_object_detection/images/val/M0206_img000521.jpg: 352x640 9 cars, 1 bus, 7.9ms\n",
            "image 234/1294 /content/drive/MyDrive/night_object_detection/night_object_detection/images/val/M0206_img000527.jpg: 352x640 8 cars, 1 bus, 8.0ms\n",
            "image 235/1294 /content/drive/MyDrive/night_object_detection/night_object_detection/images/val/M0206_img000529.jpg: 352x640 8 cars, 1 bus, 7.9ms\n",
            "image 236/1294 /content/drive/MyDrive/night_object_detection/night_object_detection/images/val/M0206_img000533.jpg: 352x640 8 cars, 1 bus, 7.7ms\n",
            "image 237/1294 /content/drive/MyDrive/night_object_detection/night_object_detection/images/val/M0206_img000539.jpg: 352x640 8 cars, 1 bus, 8.0ms\n",
            "image 238/1294 /content/drive/MyDrive/night_object_detection/night_object_detection/images/val/M0206_img000540.jpg: 352x640 8 cars, 1 bus, 8.1ms\n",
            "image 239/1294 /content/drive/MyDrive/night_object_detection/night_object_detection/images/val/M0206_img000542.jpg: 352x640 8 cars, 1 bus, 8.6ms\n",
            "image 240/1294 /content/drive/MyDrive/night_object_detection/night_object_detection/images/val/M0206_img000546.jpg: 352x640 8 cars, 1 bus, 7.8ms\n",
            "image 241/1294 /content/drive/MyDrive/night_object_detection/night_object_detection/images/val/M0206_img000557.jpg: 352x640 8 cars, 1 bus, 8.1ms\n",
            "image 242/1294 /content/drive/MyDrive/night_object_detection/night_object_detection/images/val/M0206_img000558.jpg: 352x640 8 cars, 1 bus, 8.9ms\n",
            "image 243/1294 /content/drive/MyDrive/night_object_detection/night_object_detection/images/val/M0901_img000001.jpg: 384x640 2 cars, 63.7ms\n",
            "image 244/1294 /content/drive/MyDrive/night_object_detection/night_object_detection/images/val/M0901_img000007.jpg: 384x640 2 cars, 8.6ms\n",
            "image 245/1294 /content/drive/MyDrive/night_object_detection/night_object_detection/images/val/M0901_img000009.jpg: 384x640 2 cars, 9.1ms\n",
            "image 246/1294 /content/drive/MyDrive/night_object_detection/night_object_detection/images/val/M0901_img000014.jpg: 384x640 2 cars, 8.4ms\n",
            "image 247/1294 /content/drive/MyDrive/night_object_detection/night_object_detection/images/val/M0901_img000015.jpg: 384x640 2 cars, 7.8ms\n",
            "image 248/1294 /content/drive/MyDrive/night_object_detection/night_object_detection/images/val/M0901_img000019.jpg: 384x640 2 cars, 7.4ms\n",
            "image 249/1294 /content/drive/MyDrive/night_object_detection/night_object_detection/images/val/M0901_img000027.jpg: 384x640 2 cars, 7.9ms\n",
            "image 250/1294 /content/drive/MyDrive/night_object_detection/night_object_detection/images/val/M0901_img000038.jpg: 384x640 2 cars, 7.8ms\n",
            "image 251/1294 /content/drive/MyDrive/night_object_detection/night_object_detection/images/val/M0901_img000042.jpg: 384x640 2 cars, 8.2ms\n",
            "image 252/1294 /content/drive/MyDrive/night_object_detection/night_object_detection/images/val/M0901_img000043.jpg: 384x640 2 cars, 7.6ms\n",
            "image 253/1294 /content/drive/MyDrive/night_object_detection/night_object_detection/images/val/M0901_img000047.jpg: 384x640 2 cars, 7.9ms\n",
            "image 254/1294 /content/drive/MyDrive/night_object_detection/night_object_detection/images/val/M0901_img000064.jpg: 384x640 2 cars, 8.2ms\n",
            "image 255/1294 /content/drive/MyDrive/night_object_detection/night_object_detection/images/val/M0901_img000092.jpg: 384x640 4 cars, 8.4ms\n",
            "image 256/1294 /content/drive/MyDrive/night_object_detection/night_object_detection/images/val/M0901_img000103.jpg: 384x640 5 cars, 8.1ms\n",
            "image 257/1294 /content/drive/MyDrive/night_object_detection/night_object_detection/images/val/M0901_img000111.jpg: 384x640 4 cars, 8.0ms\n",
            "image 258/1294 /content/drive/MyDrive/night_object_detection/night_object_detection/images/val/M0901_img000121.jpg: 384x640 4 cars, 7.8ms\n",
            "image 259/1294 /content/drive/MyDrive/night_object_detection/night_object_detection/images/val/M0901_img000127.jpg: 384x640 4 cars, 8.2ms\n",
            "image 260/1294 /content/drive/MyDrive/night_object_detection/night_object_detection/images/val/M0901_img000131.jpg: 384x640 4 cars, 8.0ms\n",
            "image 261/1294 /content/drive/MyDrive/night_object_detection/night_object_detection/images/val/M0901_img000132.jpg: 384x640 4 cars, 8.1ms\n",
            "image 262/1294 /content/drive/MyDrive/night_object_detection/night_object_detection/images/val/M0901_img000148.jpg: 384x640 5 cars, 8.1ms\n",
            "image 263/1294 /content/drive/MyDrive/night_object_detection/night_object_detection/images/val/M0901_img000149.jpg: 384x640 6 cars, 7.9ms\n",
            "image 264/1294 /content/drive/MyDrive/night_object_detection/night_object_detection/images/val/M0901_img000153.jpg: 384x640 5 cars, 8.0ms\n",
            "image 265/1294 /content/drive/MyDrive/night_object_detection/night_object_detection/images/val/M0901_img000164.jpg: 384x640 6 cars, 8.1ms\n",
            "image 266/1294 /content/drive/MyDrive/night_object_detection/night_object_detection/images/val/M0901_img000166.jpg: 384x640 6 cars, 8.0ms\n",
            "image 267/1294 /content/drive/MyDrive/night_object_detection/night_object_detection/images/val/M0901_img000168.jpg: 384x640 6 cars, 8.0ms\n",
            "image 268/1294 /content/drive/MyDrive/night_object_detection/night_object_detection/images/val/M0901_img000169.jpg: 384x640 6 cars, 8.0ms\n",
            "image 269/1294 /content/drive/MyDrive/night_object_detection/night_object_detection/images/val/M0901_img000177.jpg: 384x640 6 cars, 7.9ms\n",
            "image 270/1294 /content/drive/MyDrive/night_object_detection/night_object_detection/images/val/M0901_img000183.jpg: 384x640 6 cars, 7.7ms\n",
            "image 271/1294 /content/drive/MyDrive/night_object_detection/night_object_detection/images/val/M0901_img000199.jpg: 384x640 7 cars, 7.4ms\n",
            "image 272/1294 /content/drive/MyDrive/night_object_detection/night_object_detection/images/val/M0901_img000206.jpg: 384x640 7 cars, 7.4ms\n",
            "image 273/1294 /content/drive/MyDrive/night_object_detection/night_object_detection/images/val/M0901_img000209.jpg: 384x640 7 cars, 7.3ms\n",
            "image 274/1294 /content/drive/MyDrive/night_object_detection/night_object_detection/images/val/M0901_img000210.jpg: 384x640 7 cars, 7.5ms\n",
            "image 275/1294 /content/drive/MyDrive/night_object_detection/night_object_detection/images/val/M0901_img000223.jpg: 384x640 7 cars, 7.8ms\n",
            "image 276/1294 /content/drive/MyDrive/night_object_detection/night_object_detection/images/val/M0901_img000228.jpg: 384x640 7 cars, 7.8ms\n",
            "image 277/1294 /content/drive/MyDrive/night_object_detection/night_object_detection/images/val/M0901_img000230.jpg: 384x640 7 cars, 7.8ms\n",
            "image 278/1294 /content/drive/MyDrive/night_object_detection/night_object_detection/images/val/M0901_img000231.jpg: 384x640 7 cars, 7.5ms\n",
            "image 279/1294 /content/drive/MyDrive/night_object_detection/night_object_detection/images/val/M0901_img000243.jpg: 384x640 7 cars, 7.5ms\n",
            "image 280/1294 /content/drive/MyDrive/night_object_detection/night_object_detection/images/val/M0901_img000244.jpg: 384x640 7 cars, 7.3ms\n",
            "image 281/1294 /content/drive/MyDrive/night_object_detection/night_object_detection/images/val/M0901_img000246.jpg: 384x640 7 cars, 7.4ms\n",
            "image 282/1294 /content/drive/MyDrive/night_object_detection/night_object_detection/images/val/M0901_img000251.jpg: 384x640 7 cars, 7.3ms\n",
            "image 283/1294 /content/drive/MyDrive/night_object_detection/night_object_detection/images/val/M0901_img000254.jpg: 384x640 7 cars, 7.4ms\n",
            "image 284/1294 /content/drive/MyDrive/night_object_detection/night_object_detection/images/val/M0901_img000256.jpg: 384x640 8 cars, 7.3ms\n",
            "image 285/1294 /content/drive/MyDrive/night_object_detection/night_object_detection/images/val/M0901_img000260.jpg: 384x640 7 cars, 7.4ms\n",
            "image 286/1294 /content/drive/MyDrive/night_object_detection/night_object_detection/images/val/M0901_img000264.jpg: 384x640 7 cars, 7.3ms\n",
            "image 287/1294 /content/drive/MyDrive/night_object_detection/night_object_detection/images/val/M0901_img000268.jpg: 384x640 7 cars, 7.3ms\n",
            "image 288/1294 /content/drive/MyDrive/night_object_detection/night_object_detection/images/val/M0901_img000271.jpg: 384x640 7 cars, 7.4ms\n",
            "image 289/1294 /content/drive/MyDrive/night_object_detection/night_object_detection/images/val/M0901_img000274.jpg: 384x640 8 cars, 7.9ms\n",
            "image 290/1294 /content/drive/MyDrive/night_object_detection/night_object_detection/images/val/M0901_img000280.jpg: 384x640 8 cars, 7.5ms\n",
            "image 291/1294 /content/drive/MyDrive/night_object_detection/night_object_detection/images/val/M0901_img000282.jpg: 384x640 8 cars, 7.7ms\n",
            "image 292/1294 /content/drive/MyDrive/night_object_detection/night_object_detection/images/val/M0901_img000283.jpg: 384x640 8 cars, 7.5ms\n",
            "image 293/1294 /content/drive/MyDrive/night_object_detection/night_object_detection/images/val/M0901_img000298.jpg: 384x640 8 cars, 7.6ms\n",
            "image 294/1294 /content/drive/MyDrive/night_object_detection/night_object_detection/images/val/M0901_img000301.jpg: 384x640 8 cars, 7.6ms\n",
            "image 295/1294 /content/drive/MyDrive/night_object_detection/night_object_detection/images/val/M0901_img000307.jpg: 384x640 8 cars, 7.5ms\n",
            "image 296/1294 /content/drive/MyDrive/night_object_detection/night_object_detection/images/val/M0901_img000319.jpg: 384x640 9 cars, 7.5ms\n",
            "image 297/1294 /content/drive/MyDrive/night_object_detection/night_object_detection/images/val/M0901_img000323.jpg: 384x640 9 cars, 7.9ms\n",
            "image 298/1294 /content/drive/MyDrive/night_object_detection/night_object_detection/images/val/M0901_img000326.jpg: 384x640 9 cars, 7.8ms\n",
            "image 299/1294 /content/drive/MyDrive/night_object_detection/night_object_detection/images/val/M0901_img000335.jpg: 384x640 9 cars, 7.9ms\n",
            "image 300/1294 /content/drive/MyDrive/night_object_detection/night_object_detection/images/val/M0901_img000343.jpg: 384x640 8 cars, 7.8ms\n",
            "image 301/1294 /content/drive/MyDrive/night_object_detection/night_object_detection/images/val/M0901_img000352.jpg: 384x640 8 cars, 8.4ms\n",
            "image 302/1294 /content/drive/MyDrive/night_object_detection/night_object_detection/images/val/M0901_img000360.jpg: 384x640 8 cars, 9.3ms\n",
            "image 303/1294 /content/drive/MyDrive/night_object_detection/night_object_detection/images/val/M0901_img000363.jpg: 384x640 8 cars, 7.5ms\n",
            "image 304/1294 /content/drive/MyDrive/night_object_detection/night_object_detection/images/val/M0901_img000365.jpg: 384x640 8 cars, 7.6ms\n",
            "image 305/1294 /content/drive/MyDrive/night_object_detection/night_object_detection/images/val/M0901_img000367.jpg: 384x640 8 cars, 7.7ms\n",
            "image 306/1294 /content/drive/MyDrive/night_object_detection/night_object_detection/images/val/M0901_img000373.jpg: 384x640 7 cars, 7.4ms\n",
            "image 307/1294 /content/drive/MyDrive/night_object_detection/night_object_detection/images/val/M0901_img000379.jpg: 384x640 7 cars, 7.5ms\n",
            "image 308/1294 /content/drive/MyDrive/night_object_detection/night_object_detection/images/val/M0901_img000384.jpg: 384x640 7 cars, 7.9ms\n",
            "image 309/1294 /content/drive/MyDrive/night_object_detection/night_object_detection/images/val/M0901_img000394.jpg: 384x640 7 cars, 7.4ms\n",
            "image 310/1294 /content/drive/MyDrive/night_object_detection/night_object_detection/images/val/M0901_img000397.jpg: 384x640 7 cars, 7.8ms\n",
            "image 311/1294 /content/drive/MyDrive/night_object_detection/night_object_detection/images/val/M0901_img000398.jpg: 384x640 7 cars, 7.6ms\n",
            "image 312/1294 /content/drive/MyDrive/night_object_detection/night_object_detection/images/val/M0901_img000400.jpg: 384x640 7 cars, 7.5ms\n",
            "image 313/1294 /content/drive/MyDrive/night_object_detection/night_object_detection/images/val/M0901_img000413.jpg: 384x640 7 cars, 7.4ms\n",
            "image 314/1294 /content/drive/MyDrive/night_object_detection/night_object_detection/images/val/M0901_img000419.jpg: 384x640 7 cars, 7.4ms\n",
            "image 315/1294 /content/drive/MyDrive/night_object_detection/night_object_detection/images/val/M0901_img000420.jpg: 384x640 7 cars, 7.4ms\n",
            "image 316/1294 /content/drive/MyDrive/night_object_detection/night_object_detection/images/val/M0901_img000422.jpg: 384x640 7 cars, 7.8ms\n",
            "image 317/1294 /content/drive/MyDrive/night_object_detection/night_object_detection/images/val/M0901_img000424.jpg: 384x640 7 cars, 7.8ms\n",
            "image 318/1294 /content/drive/MyDrive/night_object_detection/night_object_detection/images/val/M0901_img000426.jpg: 384x640 7 cars, 8.6ms\n",
            "image 319/1294 /content/drive/MyDrive/night_object_detection/night_object_detection/images/val/M0901_img000460.jpg: 384x640 9 cars, 7.6ms\n",
            "image 320/1294 /content/drive/MyDrive/night_object_detection/night_object_detection/images/val/M0901_img000472.jpg: 384x640 9 cars, 7.5ms\n",
            "image 321/1294 /content/drive/MyDrive/night_object_detection/night_object_detection/images/val/M0901_img000476.jpg: 384x640 9 cars, 7.3ms\n",
            "image 322/1294 /content/drive/MyDrive/night_object_detection/night_object_detection/images/val/M0901_img000483.jpg: 384x640 9 cars, 7.7ms\n",
            "image 323/1294 /content/drive/MyDrive/night_object_detection/night_object_detection/images/val/M0901_img000489.jpg: 384x640 9 cars, 7.8ms\n",
            "image 324/1294 /content/drive/MyDrive/night_object_detection/night_object_detection/images/val/M0901_img000493.jpg: 384x640 9 cars, 7.4ms\n",
            "image 325/1294 /content/drive/MyDrive/night_object_detection/night_object_detection/images/val/M0901_img000494.jpg: 384x640 9 cars, 8.2ms\n",
            "image 326/1294 /content/drive/MyDrive/night_object_detection/night_object_detection/images/val/M0901_img000499.jpg: 384x640 9 cars, 7.8ms\n",
            "image 327/1294 /content/drive/MyDrive/night_object_detection/night_object_detection/images/val/M0901_img000501.jpg: 384x640 9 cars, 7.9ms\n",
            "image 328/1294 /content/drive/MyDrive/night_object_detection/night_object_detection/images/val/M0901_img000502.jpg: 384x640 9 cars, 7.8ms\n",
            "image 329/1294 /content/drive/MyDrive/night_object_detection/night_object_detection/images/val/M0901_img000504.jpg: 384x640 10 cars, 7.9ms\n",
            "image 330/1294 /content/drive/MyDrive/night_object_detection/night_object_detection/images/val/M0901_img000507.jpg: 384x640 10 cars, 7.9ms\n",
            "image 331/1294 /content/drive/MyDrive/night_object_detection/night_object_detection/images/val/M0901_img000517.jpg: 384x640 10 cars, 7.6ms\n",
            "image 332/1294 /content/drive/MyDrive/night_object_detection/night_object_detection/images/val/M0901_img000521.jpg: 384x640 10 cars, 7.5ms\n",
            "image 333/1294 /content/drive/MyDrive/night_object_detection/night_object_detection/images/val/M0901_img000522.jpg: 384x640 10 cars, 7.6ms\n",
            "image 334/1294 /content/drive/MyDrive/night_object_detection/night_object_detection/images/val/M0901_img000524.jpg: 384x640 10 cars, 7.8ms\n",
            "image 335/1294 /content/drive/MyDrive/night_object_detection/night_object_detection/images/val/M0901_img000526.jpg: 384x640 10 cars, 7.5ms\n",
            "image 336/1294 /content/drive/MyDrive/night_object_detection/night_object_detection/images/val/M0901_img000534.jpg: 384x640 10 cars, 7.6ms\n",
            "image 337/1294 /content/drive/MyDrive/night_object_detection/night_object_detection/images/val/M0901_img000539.jpg: 384x640 10 cars, 7.8ms\n",
            "image 338/1294 /content/drive/MyDrive/night_object_detection/night_object_detection/images/val/M0901_img000540.jpg: 384x640 10 cars, 7.7ms\n",
            "image 339/1294 /content/drive/MyDrive/night_object_detection/night_object_detection/images/val/M0901_img000555.jpg: 384x640 10 cars, 7.5ms\n",
            "image 340/1294 /content/drive/MyDrive/night_object_detection/night_object_detection/images/val/M0901_img000564.jpg: 384x640 10 cars, 7.9ms\n",
            "image 341/1294 /content/drive/MyDrive/night_object_detection/night_object_detection/images/val/M0901_img000567.jpg: 384x640 10 cars, 7.8ms\n",
            "image 342/1294 /content/drive/MyDrive/night_object_detection/night_object_detection/images/val/M0901_img000570.jpg: 384x640 10 cars, 7.6ms\n",
            "image 343/1294 /content/drive/MyDrive/night_object_detection/night_object_detection/images/val/M0901_img000571.jpg: 384x640 10 cars, 7.5ms\n",
            "image 344/1294 /content/drive/MyDrive/night_object_detection/night_object_detection/images/val/M0901_img000580.jpg: 384x640 10 cars, 7.5ms\n",
            "image 345/1294 /content/drive/MyDrive/night_object_detection/night_object_detection/images/val/M0901_img000581.jpg: 384x640 10 cars, 7.4ms\n",
            "image 346/1294 /content/drive/MyDrive/night_object_detection/night_object_detection/images/val/M0901_img000584.jpg: 384x640 10 cars, 7.5ms\n",
            "image 347/1294 /content/drive/MyDrive/night_object_detection/night_object_detection/images/val/M0901_img000586.jpg: 384x640 10 cars, 7.3ms\n",
            "image 348/1294 /content/drive/MyDrive/night_object_detection/night_object_detection/images/val/M0901_img000589.jpg: 384x640 10 cars, 7.5ms\n",
            "image 349/1294 /content/drive/MyDrive/night_object_detection/night_object_detection/images/val/M0901_img000606.jpg: 384x640 10 cars, 7.4ms\n",
            "image 350/1294 /content/drive/MyDrive/night_object_detection/night_object_detection/images/val/M0901_img000608.jpg: 384x640 10 cars, 7.4ms\n",
            "image 351/1294 /content/drive/MyDrive/night_object_detection/night_object_detection/images/val/M0901_img000610.jpg: 384x640 10 cars, 7.8ms\n",
            "image 352/1294 /content/drive/MyDrive/night_object_detection/night_object_detection/images/val/M0901_img000611.jpg: 384x640 10 cars, 7.6ms\n",
            "image 353/1294 /content/drive/MyDrive/night_object_detection/night_object_detection/images/val/M0901_img000614.jpg: 384x640 10 cars, 8.0ms\n",
            "image 354/1294 /content/drive/MyDrive/night_object_detection/night_object_detection/images/val/M0901_img000618.jpg: 384x640 10 cars, 7.8ms\n",
            "image 355/1294 /content/drive/MyDrive/night_object_detection/night_object_detection/images/val/M0901_img000620.jpg: 384x640 10 cars, 7.6ms\n",
            "image 356/1294 /content/drive/MyDrive/night_object_detection/night_object_detection/images/val/M0901_img000623.jpg: 384x640 10 cars, 7.4ms\n",
            "image 357/1294 /content/drive/MyDrive/night_object_detection/night_object_detection/images/val/M0901_img000632.jpg: 384x640 10 cars, 7.4ms\n",
            "image 358/1294 /content/drive/MyDrive/night_object_detection/night_object_detection/images/val/M0901_img000640.jpg: 384x640 10 cars, 7.5ms\n",
            "image 359/1294 /content/drive/MyDrive/night_object_detection/night_object_detection/images/val/M0901_img000642.jpg: 384x640 10 cars, 8.0ms\n",
            "image 360/1294 /content/drive/MyDrive/night_object_detection/night_object_detection/images/val/M0901_img000643.jpg: 384x640 10 cars, 7.9ms\n",
            "image 361/1294 /content/drive/MyDrive/night_object_detection/night_object_detection/images/val/M0901_img000659.jpg: 384x640 9 cars, 7.5ms\n",
            "image 362/1294 /content/drive/MyDrive/night_object_detection/night_object_detection/images/val/M0901_img000664.jpg: 384x640 9 cars, 7.7ms\n",
            "image 363/1294 /content/drive/MyDrive/night_object_detection/night_object_detection/images/val/M0901_img000671.jpg: 384x640 9 cars, 7.7ms\n",
            "image 364/1294 /content/drive/MyDrive/night_object_detection/night_object_detection/images/val/M0901_img000679.jpg: 384x640 9 cars, 7.8ms\n",
            "image 365/1294 /content/drive/MyDrive/night_object_detection/night_object_detection/images/val/M0901_img000684.jpg: 384x640 9 cars, 8.4ms\n",
            "image 366/1294 /content/drive/MyDrive/night_object_detection/night_object_detection/images/val/M0901_img000686.jpg: 384x640 9 cars, 8.0ms\n",
            "image 367/1294 /content/drive/MyDrive/night_object_detection/night_object_detection/images/val/M0901_img000688.jpg: 384x640 9 cars, 8.0ms\n",
            "image 368/1294 /content/drive/MyDrive/night_object_detection/night_object_detection/images/val/M0901_img000690.jpg: 384x640 9 cars, 7.4ms\n",
            "image 369/1294 /content/drive/MyDrive/night_object_detection/night_object_detection/images/val/M0901_img000692.jpg: 384x640 9 cars, 7.8ms\n",
            "image 370/1294 /content/drive/MyDrive/night_object_detection/night_object_detection/images/val/M0901_img000697.jpg: 384x640 9 cars, 7.9ms\n",
            "image 371/1294 /content/drive/MyDrive/night_object_detection/night_object_detection/images/val/M0901_img000700.jpg: 384x640 9 cars, 7.4ms\n",
            "image 372/1294 /content/drive/MyDrive/night_object_detection/night_object_detection/images/val/M0901_img000702.jpg: 384x640 9 cars, 7.8ms\n",
            "image 373/1294 /content/drive/MyDrive/night_object_detection/night_object_detection/images/val/M0901_img000709.jpg: 384x640 9 cars, 7.7ms\n",
            "image 374/1294 /content/drive/MyDrive/night_object_detection/night_object_detection/images/val/M0901_img000717.jpg: 384x640 9 cars, 7.6ms\n",
            "image 375/1294 /content/drive/MyDrive/night_object_detection/night_object_detection/images/val/M0901_img000720.jpg: 384x640 9 cars, 7.9ms\n",
            "image 376/1294 /content/drive/MyDrive/night_object_detection/night_object_detection/images/val/M0901_img000724.jpg: 384x640 10 cars, 8.1ms\n",
            "image 377/1294 /content/drive/MyDrive/night_object_detection/night_object_detection/images/val/M0901_img000725.jpg: 384x640 10 cars, 7.9ms\n",
            "image 378/1294 /content/drive/MyDrive/night_object_detection/night_object_detection/images/val/M0901_img000728.jpg: 384x640 10 cars, 8.0ms\n",
            "image 379/1294 /content/drive/MyDrive/night_object_detection/night_object_detection/images/val/M0901_img000730.jpg: 384x640 10 cars, 8.0ms\n",
            "image 380/1294 /content/drive/MyDrive/night_object_detection/night_object_detection/images/val/M0901_img000732.jpg: 384x640 10 cars, 8.1ms\n",
            "image 381/1294 /content/drive/MyDrive/night_object_detection/night_object_detection/images/val/M0901_img000734.jpg: 384x640 10 cars, 7.7ms\n",
            "image 382/1294 /content/drive/MyDrive/night_object_detection/night_object_detection/images/val/M0901_img000745.jpg: 384x640 10 cars, 7.5ms\n",
            "image 383/1294 /content/drive/MyDrive/night_object_detection/night_object_detection/images/val/M0901_img000751.jpg: 384x640 10 cars, 7.5ms\n",
            "image 384/1294 /content/drive/MyDrive/night_object_detection/night_object_detection/images/val/M0901_img000754.jpg: 384x640 10 cars, 8.3ms\n",
            "image 385/1294 /content/drive/MyDrive/night_object_detection/night_object_detection/images/val/M0901_img000758.jpg: 384x640 10 cars, 7.9ms\n",
            "image 386/1294 /content/drive/MyDrive/night_object_detection/night_object_detection/images/val/M0901_img000759.jpg: 384x640 10 cars, 7.6ms\n",
            "image 387/1294 /content/drive/MyDrive/night_object_detection/night_object_detection/images/val/M0901_img000762.jpg: 384x640 10 cars, 9.1ms\n",
            "image 388/1294 /content/drive/MyDrive/night_object_detection/night_object_detection/images/val/M0901_img000765.jpg: 384x640 10 cars, 7.6ms\n",
            "image 389/1294 /content/drive/MyDrive/night_object_detection/night_object_detection/images/val/M0901_img000769.jpg: 384x640 10 cars, 7.8ms\n",
            "image 390/1294 /content/drive/MyDrive/night_object_detection/night_object_detection/images/val/M0901_img000778.jpg: 384x640 10 cars, 8.1ms\n",
            "image 391/1294 /content/drive/MyDrive/night_object_detection/night_object_detection/images/val/M0901_img000782.jpg: 384x640 10 cars, 7.9ms\n",
            "image 392/1294 /content/drive/MyDrive/night_object_detection/night_object_detection/images/val/M0901_img000784.jpg: 384x640 10 cars, 7.7ms\n",
            "image 393/1294 /content/drive/MyDrive/night_object_detection/night_object_detection/images/val/M0901_img000791.jpg: 384x640 10 cars, 9.5ms\n",
            "image 394/1294 /content/drive/MyDrive/night_object_detection/night_object_detection/images/val/M0901_img000794.jpg: 384x640 10 cars, 7.5ms\n",
            "image 395/1294 /content/drive/MyDrive/night_object_detection/night_object_detection/images/val/M0901_img000796.jpg: 384x640 10 cars, 7.7ms\n",
            "image 396/1294 /content/drive/MyDrive/night_object_detection/night_object_detection/images/val/M0901_img000800.jpg: 384x640 9 cars, 7.7ms\n",
            "image 397/1294 /content/drive/MyDrive/night_object_detection/night_object_detection/images/val/M0901_img000805.jpg: 384x640 9 cars, 7.6ms\n",
            "image 398/1294 /content/drive/MyDrive/night_object_detection/night_object_detection/images/val/M0901_img000806.jpg: 384x640 9 cars, 7.4ms\n",
            "image 399/1294 /content/drive/MyDrive/night_object_detection/night_object_detection/images/val/M0901_img000820.jpg: 384x640 9 cars, 7.6ms\n",
            "image 400/1294 /content/drive/MyDrive/night_object_detection/night_object_detection/images/val/M0901_img000821.jpg: 384x640 9 cars, 7.8ms\n",
            "image 401/1294 /content/drive/MyDrive/night_object_detection/night_object_detection/images/val/M0901_img000824.jpg: 384x640 9 cars, 7.4ms\n",
            "image 402/1294 /content/drive/MyDrive/night_object_detection/night_object_detection/images/val/M0901_img000827.jpg: 384x640 9 cars, 7.7ms\n",
            "image 403/1294 /content/drive/MyDrive/night_object_detection/night_object_detection/images/val/M0901_img000839.jpg: 384x640 9 cars, 7.5ms\n",
            "image 404/1294 /content/drive/MyDrive/night_object_detection/night_object_detection/images/val/M0901_img000847.jpg: 384x640 9 cars, 7.4ms\n",
            "image 405/1294 /content/drive/MyDrive/night_object_detection/night_object_detection/images/val/M0901_img000851.jpg: 384x640 9 cars, 7.3ms\n",
            "image 406/1294 /content/drive/MyDrive/night_object_detection/night_object_detection/images/val/M0901_img000862.jpg: 384x640 8 cars, 7.3ms\n",
            "image 407/1294 /content/drive/MyDrive/night_object_detection/night_object_detection/images/val/M0901_img000866.jpg: 384x640 8 cars, 7.3ms\n",
            "image 408/1294 /content/drive/MyDrive/night_object_detection/night_object_detection/images/val/M0901_img000867.jpg: 384x640 8 cars, 7.3ms\n",
            "image 409/1294 /content/drive/MyDrive/night_object_detection/night_object_detection/images/val/M0901_img000868.jpg: 384x640 8 cars, 7.7ms\n",
            "image 410/1294 /content/drive/MyDrive/night_object_detection/night_object_detection/images/val/M0901_img000869.jpg: 384x640 8 cars, 7.4ms\n",
            "image 411/1294 /content/drive/MyDrive/night_object_detection/night_object_detection/images/val/M0901_img000883.jpg: 384x640 8 cars, 7.2ms\n",
            "image 412/1294 /content/drive/MyDrive/night_object_detection/night_object_detection/images/val/M0901_img000897.jpg: 384x640 8 cars, 7.3ms\n",
            "image 413/1294 /content/drive/MyDrive/night_object_detection/night_object_detection/images/val/M0901_img000901.jpg: 384x640 8 cars, 7.7ms\n",
            "image 414/1294 /content/drive/MyDrive/night_object_detection/night_object_detection/images/val/M0901_img000904.jpg: 384x640 9 cars, 7.6ms\n",
            "image 415/1294 /content/drive/MyDrive/night_object_detection/night_object_detection/images/val/M0901_img000906.jpg: 384x640 9 cars, 7.5ms\n",
            "image 416/1294 /content/drive/MyDrive/night_object_detection/night_object_detection/images/val/M0901_img000911.jpg: 384x640 9 cars, 7.6ms\n",
            "image 417/1294 /content/drive/MyDrive/night_object_detection/night_object_detection/images/val/M0901_img000913.jpg: 384x640 9 cars, 7.7ms\n",
            "image 418/1294 /content/drive/MyDrive/night_object_detection/night_object_detection/images/val/M0901_img000916.jpg: 384x640 9 cars, 7.6ms\n",
            "image 419/1294 /content/drive/MyDrive/night_object_detection/night_object_detection/images/val/M0901_img000918.jpg: 384x640 9 cars, 7.7ms\n",
            "image 420/1294 /content/drive/MyDrive/night_object_detection/night_object_detection/images/val/M0901_img000938.jpg: 384x640 9 cars, 7.7ms\n",
            "image 421/1294 /content/drive/MyDrive/night_object_detection/night_object_detection/images/val/M0901_img000939.jpg: 384x640 9 cars, 7.4ms\n",
            "image 422/1294 /content/drive/MyDrive/night_object_detection/night_object_detection/images/val/M0901_img000947.jpg: 384x640 9 cars, 7.4ms\n",
            "image 423/1294 /content/drive/MyDrive/night_object_detection/night_object_detection/images/val/M0901_img000954.jpg: 384x640 9 cars, 7.4ms\n",
            "image 424/1294 /content/drive/MyDrive/night_object_detection/night_object_detection/images/val/M0901_img000957.jpg: 384x640 9 cars, 7.3ms\n",
            "image 425/1294 /content/drive/MyDrive/night_object_detection/night_object_detection/images/val/M0901_img000971.jpg: 384x640 9 cars, 7.4ms\n",
            "image 426/1294 /content/drive/MyDrive/night_object_detection/night_object_detection/images/val/M0901_img000972.jpg: 384x640 10 cars, 7.7ms\n",
            "image 427/1294 /content/drive/MyDrive/night_object_detection/night_object_detection/images/val/M0901_img000981.jpg: 384x640 9 cars, 7.9ms\n",
            "image 428/1294 /content/drive/MyDrive/night_object_detection/night_object_detection/images/val/M0901_img000982.jpg: 384x640 9 cars, 7.9ms\n",
            "image 429/1294 /content/drive/MyDrive/night_object_detection/night_object_detection/images/val/M0901_img000983.jpg: 384x640 9 cars, 7.8ms\n",
            "image 430/1294 /content/drive/MyDrive/night_object_detection/night_object_detection/images/val/M0901_img000986.jpg: 384x640 10 cars, 7.9ms\n",
            "image 431/1294 /content/drive/MyDrive/night_object_detection/night_object_detection/images/val/M0901_img000988.jpg: 384x640 10 cars, 8.0ms\n",
            "image 432/1294 /content/drive/MyDrive/night_object_detection/night_object_detection/images/val/M0901_img000990.jpg: 384x640 10 cars, 7.6ms\n",
            "image 433/1294 /content/drive/MyDrive/night_object_detection/night_object_detection/images/val/M0901_img000993.jpg: 384x640 10 cars, 9.2ms\n",
            "image 434/1294 /content/drive/MyDrive/night_object_detection/night_object_detection/images/val/M0901_img000997.jpg: 384x640 10 cars, 7.5ms\n",
            "image 435/1294 /content/drive/MyDrive/night_object_detection/night_object_detection/images/val/M0901_img000999.jpg: 384x640 10 cars, 9.8ms\n",
            "image 436/1294 /content/drive/MyDrive/night_object_detection/night_object_detection/images/val/M0901_img001001.jpg: 384x640 10 cars, 8.4ms\n",
            "image 437/1294 /content/drive/MyDrive/night_object_detection/night_object_detection/images/val/M0901_img001003.jpg: 384x640 10 cars, 7.9ms\n",
            "image 438/1294 /content/drive/MyDrive/night_object_detection/night_object_detection/images/val/M0901_img001006.jpg: 384x640 10 cars, 7.4ms\n",
            "image 439/1294 /content/drive/MyDrive/night_object_detection/night_object_detection/images/val/M0901_img001025.jpg: 384x640 10 cars, 8.1ms\n",
            "image 440/1294 /content/drive/MyDrive/night_object_detection/night_object_detection/images/val/M0901_img001028.jpg: 384x640 11 cars, 7.8ms\n",
            "image 441/1294 /content/drive/MyDrive/night_object_detection/night_object_detection/images/val/M0901_img001037.jpg: 384x640 10 cars, 7.5ms\n",
            "image 442/1294 /content/drive/MyDrive/night_object_detection/night_object_detection/images/val/M0901_img001040.jpg: 384x640 10 cars, 7.9ms\n",
            "image 443/1294 /content/drive/MyDrive/night_object_detection/night_object_detection/images/val/M0901_img001041.jpg: 384x640 10 cars, 7.8ms\n",
            "image 444/1294 /content/drive/MyDrive/night_object_detection/night_object_detection/images/val/M0901_img001047.jpg: 384x640 10 cars, 7.5ms\n",
            "image 445/1294 /content/drive/MyDrive/night_object_detection/night_object_detection/images/val/M0901_img001055.jpg: 384x640 8 cars, 7.7ms\n",
            "image 446/1294 /content/drive/MyDrive/night_object_detection/night_object_detection/images/val/M0901_img001062.jpg: 384x640 8 cars, 7.3ms\n",
            "image 447/1294 /content/drive/MyDrive/night_object_detection/night_object_detection/images/val/M0901_img001063.jpg: 384x640 8 cars, 8.7ms\n",
            "image 448/1294 /content/drive/MyDrive/night_object_detection/night_object_detection/images/val/M0901_img001066.jpg: 384x640 8 cars, 7.8ms\n",
            "image 449/1294 /content/drive/MyDrive/night_object_detection/night_object_detection/images/val/M0901_img001068.jpg: 384x640 8 cars, 8.2ms\n",
            "image 450/1294 /content/drive/MyDrive/night_object_detection/night_object_detection/images/val/M0901_img001071.jpg: 384x640 8 cars, 8.1ms\n",
            "image 451/1294 /content/drive/MyDrive/night_object_detection/night_object_detection/images/val/M0901_img001074.jpg: 384x640 8 cars, 7.9ms\n",
            "image 452/1294 /content/drive/MyDrive/night_object_detection/night_object_detection/images/val/M0901_img001082.jpg: 384x640 8 cars, 7.9ms\n",
            "image 453/1294 /content/drive/MyDrive/night_object_detection/night_object_detection/images/val/M0901_img001086.jpg: 384x640 8 cars, 7.9ms\n",
            "image 454/1294 /content/drive/MyDrive/night_object_detection/night_object_detection/images/val/M0901_img001094.jpg: 384x640 8 cars, 7.8ms\n",
            "image 455/1294 /content/drive/MyDrive/night_object_detection/night_object_detection/images/val/M0901_img001099.jpg: 384x640 9 cars, 7.6ms\n",
            "image 456/1294 /content/drive/MyDrive/night_object_detection/night_object_detection/images/val/M0901_img001103.jpg: 384x640 9 cars, 7.9ms\n",
            "image 457/1294 /content/drive/MyDrive/night_object_detection/night_object_detection/images/val/M0901_img001109.jpg: 384x640 10 cars, 7.4ms\n",
            "image 458/1294 /content/drive/MyDrive/night_object_detection/night_object_detection/images/val/M0901_img001116.jpg: 384x640 10 cars, 7.6ms\n",
            "image 459/1294 /content/drive/MyDrive/night_object_detection/night_object_detection/images/val/M0901_img001122.jpg: 384x640 11 cars, 7.5ms\n",
            "image 460/1294 /content/drive/MyDrive/night_object_detection/night_object_detection/images/val/M0901_img001125.jpg: 384x640 11 cars, 7.4ms\n",
            "image 461/1294 /content/drive/MyDrive/night_object_detection/night_object_detection/images/val/M0901_img001130.jpg: 384x640 11 cars, 7.4ms\n",
            "image 462/1294 /content/drive/MyDrive/night_object_detection/night_object_detection/images/val/M0901_img001131.jpg: 384x640 11 cars, 7.4ms\n",
            "image 463/1294 /content/drive/MyDrive/night_object_detection/night_object_detection/images/val/M0901_img001144.jpg: 384x640 11 cars, 7.3ms\n",
            "image 464/1294 /content/drive/MyDrive/night_object_detection/night_object_detection/images/val/M0901_img001147.jpg: 384x640 11 cars, 7.8ms\n",
            "image 465/1294 /content/drive/MyDrive/night_object_detection/night_object_detection/images/val/M0901_img001149.jpg: 384x640 11 cars, 13.2ms\n",
            "image 466/1294 /content/drive/MyDrive/night_object_detection/night_object_detection/images/val/M0901_img001158.jpg: 384x640 11 cars, 7.9ms\n",
            "image 467/1294 /content/drive/MyDrive/night_object_detection/night_object_detection/images/val/M0901_img001162.jpg: 384x640 11 cars, 7.7ms\n",
            "image 468/1294 /content/drive/MyDrive/night_object_detection/night_object_detection/images/val/M0901_img001164.jpg: 384x640 11 cars, 7.7ms\n",
            "image 469/1294 /content/drive/MyDrive/night_object_detection/night_object_detection/images/val/M0901_img001167.jpg: 384x640 11 cars, 7.8ms\n",
            "image 470/1294 /content/drive/MyDrive/night_object_detection/night_object_detection/images/val/M0901_img001170.jpg: 384x640 11 cars, 7.6ms\n",
            "image 471/1294 /content/drive/MyDrive/night_object_detection/night_object_detection/images/val/M0901_img001174.jpg: 384x640 11 cars, 7.3ms\n",
            "image 472/1294 /content/drive/MyDrive/night_object_detection/night_object_detection/images/val/M0901_img001175.jpg: 384x640 11 cars, 7.4ms\n",
            "image 473/1294 /content/drive/MyDrive/night_object_detection/night_object_detection/images/val/M0901_img001180.jpg: 384x640 11 cars, 7.3ms\n",
            "image 474/1294 /content/drive/MyDrive/night_object_detection/night_object_detection/images/val/M0901_img001182.jpg: 384x640 11 cars, 7.3ms\n",
            "image 475/1294 /content/drive/MyDrive/night_object_detection/night_object_detection/images/val/M0901_img001184.jpg: 384x640 11 cars, 7.4ms\n",
            "image 476/1294 /content/drive/MyDrive/night_object_detection/night_object_detection/images/val/M0901_img001206.jpg: 384x640 9 cars, 7.3ms\n",
            "image 477/1294 /content/drive/MyDrive/night_object_detection/night_object_detection/images/val/M0901_img001207.jpg: 384x640 9 cars, 10.9ms\n",
            "image 478/1294 /content/drive/MyDrive/night_object_detection/night_object_detection/images/val/M0901_img001210.jpg: 384x640 9 cars, 7.9ms\n",
            "image 479/1294 /content/drive/MyDrive/night_object_detection/night_object_detection/images/val/M0901_img001220.jpg: 384x640 8 cars, 7.8ms\n",
            "image 480/1294 /content/drive/MyDrive/night_object_detection/night_object_detection/images/val/M0901_img001224.jpg: 384x640 8 cars, 10.1ms\n",
            "image 481/1294 /content/drive/MyDrive/night_object_detection/night_object_detection/images/val/M0901_img001231.jpg: 384x640 8 cars, 7.8ms\n",
            "image 482/1294 /content/drive/MyDrive/night_object_detection/night_object_detection/images/val/M0901_img001239.jpg: 384x640 8 cars, 8.1ms\n",
            "image 483/1294 /content/drive/MyDrive/night_object_detection/night_object_detection/images/val/M0901_img001243.jpg: 384x640 8 cars, 7.4ms\n",
            "image 484/1294 /content/drive/MyDrive/night_object_detection/night_object_detection/images/val/M0901_img001244.jpg: 384x640 8 cars, 7.8ms\n",
            "image 485/1294 /content/drive/MyDrive/night_object_detection/night_object_detection/images/val/M0901_img001248.jpg: 384x640 8 cars, 7.7ms\n",
            "image 486/1294 /content/drive/MyDrive/night_object_detection/night_object_detection/images/val/M0901_img001249.jpg: 384x640 8 cars, 9.0ms\n",
            "image 487/1294 /content/drive/MyDrive/night_object_detection/night_object_detection/images/val/M0901_img001252.jpg: 384x640 8 cars, 7.6ms\n",
            "image 488/1294 /content/drive/MyDrive/night_object_detection/night_object_detection/images/val/M0901_img001258.jpg: 384x640 8 cars, 7.5ms\n",
            "image 489/1294 /content/drive/MyDrive/night_object_detection/night_object_detection/images/val/M0901_img001260.jpg: 384x640 8 cars, 8.0ms\n",
            "image 490/1294 /content/drive/MyDrive/night_object_detection/night_object_detection/images/val/M0901_img001267.jpg: 384x640 8 cars, 8.6ms\n",
            "image 491/1294 /content/drive/MyDrive/night_object_detection/night_object_detection/images/val/M0901_img001275.jpg: 384x640 8 cars, 7.7ms\n",
            "image 492/1294 /content/drive/MyDrive/night_object_detection/night_object_detection/images/val/M0901_img001279.jpg: 384x640 8 cars, 8.2ms\n",
            "image 493/1294 /content/drive/MyDrive/night_object_detection/night_object_detection/images/val/M0901_img001285.jpg: 384x640 8 cars, 7.8ms\n",
            "image 494/1294 /content/drive/MyDrive/night_object_detection/night_object_detection/images/val/M0901_img001287.jpg: 384x640 8 cars, 8.0ms\n",
            "image 495/1294 /content/drive/MyDrive/night_object_detection/night_object_detection/images/val/M0901_img001301.jpg: 384x640 8 cars, 7.8ms\n",
            "image 496/1294 /content/drive/MyDrive/night_object_detection/night_object_detection/images/val/M0901_img001304.jpg: 384x640 8 cars, 7.6ms\n",
            "image 497/1294 /content/drive/MyDrive/night_object_detection/night_object_detection/images/val/M0901_img001308.jpg: 384x640 8 cars, 7.9ms\n",
            "image 498/1294 /content/drive/MyDrive/night_object_detection/night_object_detection/images/val/M0901_img001312.jpg: 384x640 8 cars, 8.0ms\n",
            "image 499/1294 /content/drive/MyDrive/night_object_detection/night_object_detection/images/val/M0901_img001313.jpg: 384x640 8 cars, 8.1ms\n",
            "image 500/1294 /content/drive/MyDrive/night_object_detection/night_object_detection/images/val/M0901_img001318.jpg: 384x640 8 cars, 7.8ms\n",
            "image 501/1294 /content/drive/MyDrive/night_object_detection/night_object_detection/images/val/M0901_img001320.jpg: 384x640 8 cars, 7.6ms\n",
            "image 502/1294 /content/drive/MyDrive/night_object_detection/night_object_detection/images/val/M0901_img001324.jpg: 384x640 8 cars, 7.5ms\n",
            "image 503/1294 /content/drive/MyDrive/night_object_detection/night_object_detection/images/val/M0901_img001330.jpg: 384x640 8 cars, 7.4ms\n",
            "image 504/1294 /content/drive/MyDrive/night_object_detection/night_object_detection/images/val/M0901_img001338.jpg: 384x640 8 cars, 7.4ms\n",
            "image 505/1294 /content/drive/MyDrive/night_object_detection/night_object_detection/images/val/M0901_img001340.jpg: 384x640 8 cars, 7.4ms\n",
            "image 506/1294 /content/drive/MyDrive/night_object_detection/night_object_detection/images/val/M0901_img001349.jpg: 384x640 9 cars, 8.3ms\n",
            "image 507/1294 /content/drive/MyDrive/night_object_detection/night_object_detection/images/val/M0901_img001350.jpg: 384x640 9 cars, 10.4ms\n",
            "image 508/1294 /content/drive/MyDrive/night_object_detection/night_object_detection/images/val/M0901_img001351.jpg: 384x640 9 cars, 8.5ms\n",
            "image 509/1294 /content/drive/MyDrive/night_object_detection/night_object_detection/images/val/M0901_img001358.jpg: 384x640 9 cars, 7.6ms\n",
            "image 510/1294 /content/drive/MyDrive/night_object_detection/night_object_detection/images/val/M0901_img001361.jpg: 384x640 9 cars, 7.5ms\n",
            "image 511/1294 /content/drive/MyDrive/night_object_detection/night_object_detection/images/val/M0901_img001362.jpg: 384x640 9 cars, 7.4ms\n",
            "image 512/1294 /content/drive/MyDrive/night_object_detection/night_object_detection/images/val/M0901_img001364.jpg: 384x640 9 cars, 8.0ms\n",
            "image 513/1294 /content/drive/MyDrive/night_object_detection/night_object_detection/images/val/M0901_img001369.jpg: 384x640 9 cars, 7.4ms\n",
            "image 514/1294 /content/drive/MyDrive/night_object_detection/night_object_detection/images/val/M0901_img001370.jpg: 384x640 9 cars, 7.5ms\n",
            "image 515/1294 /content/drive/MyDrive/night_object_detection/night_object_detection/images/val/M0901_img001371.jpg: 384x640 8 cars, 7.5ms\n",
            "image 516/1294 /content/drive/MyDrive/night_object_detection/night_object_detection/images/val/M0901_img001376.jpg: 384x640 8 cars, 7.4ms\n",
            "image 517/1294 /content/drive/MyDrive/night_object_detection/night_object_detection/images/val/M0901_img001378.jpg: 384x640 8 cars, 7.8ms\n",
            "image 518/1294 /content/drive/MyDrive/night_object_detection/night_object_detection/images/val/M0901_img001382.jpg: 384x640 8 cars, 7.4ms\n",
            "image 519/1294 /content/drive/MyDrive/night_object_detection/night_object_detection/images/val/M0901_img001383.jpg: 384x640 8 cars, 7.5ms\n",
            "image 520/1294 /content/drive/MyDrive/night_object_detection/night_object_detection/images/val/M0901_img001384.jpg: 384x640 8 cars, 7.4ms\n",
            "image 521/1294 /content/drive/MyDrive/night_object_detection/night_object_detection/images/val/M0901_img001387.jpg: 384x640 8 cars, 7.4ms\n",
            "image 522/1294 /content/drive/MyDrive/night_object_detection/night_object_detection/images/val/M0901_img001402.jpg: 384x640 8 cars, 7.4ms\n",
            "image 523/1294 /content/drive/MyDrive/night_object_detection/night_object_detection/images/val/M0901_img001410.jpg: 384x640 9 cars, 7.5ms\n",
            "image 524/1294 /content/drive/MyDrive/night_object_detection/night_object_detection/images/val/M0901_img001415.jpg: 384x640 9 cars, 7.3ms\n",
            "image 525/1294 /content/drive/MyDrive/night_object_detection/night_object_detection/images/val/M0901_img001445.jpg: 384x640 9 cars, 7.3ms\n",
            "image 526/1294 /content/drive/MyDrive/night_object_detection/night_object_detection/images/val/M0901_img001446.jpg: 384x640 9 cars, 9.9ms\n",
            "image 527/1294 /content/drive/MyDrive/night_object_detection/night_object_detection/images/val/M0901_img001452.jpg: 384x640 8 cars, 7.8ms\n",
            "image 528/1294 /content/drive/MyDrive/night_object_detection/night_object_detection/images/val/M0901_img001456.jpg: 384x640 7 cars, 8.0ms\n",
            "image 529/1294 /content/drive/MyDrive/night_object_detection/night_object_detection/images/val/M0901_img001457.jpg: 384x640 7 cars, 8.6ms\n",
            "image 530/1294 /content/drive/MyDrive/night_object_detection/night_object_detection/images/val/M0901_img001458.jpg: 384x640 7 cars, 8.0ms\n",
            "image 531/1294 /content/drive/MyDrive/night_object_detection/night_object_detection/images/val/M0901_img001463.jpg: 384x640 7 cars, 7.7ms\n",
            "image 532/1294 /content/drive/MyDrive/night_object_detection/night_object_detection/images/val/M0901_img001489.jpg: 384x640 6 cars, 7.7ms\n",
            "image 533/1294 /content/drive/MyDrive/night_object_detection/night_object_detection/images/val/M0901_img001493.jpg: 384x640 6 cars, 7.7ms\n",
            "image 534/1294 /content/drive/MyDrive/night_object_detection/night_object_detection/images/val/M0901_img001494.jpg: 384x640 6 cars, 7.5ms\n",
            "image 535/1294 /content/drive/MyDrive/night_object_detection/night_object_detection/images/val/M0901_img001500.jpg: 384x640 6 cars, 7.7ms\n",
            "image 536/1294 /content/drive/MyDrive/night_object_detection/night_object_detection/images/val/M0901_img001507.jpg: 384x640 6 cars, 7.7ms\n",
            "image 537/1294 /content/drive/MyDrive/night_object_detection/night_object_detection/images/val/M0901_img001517.jpg: 384x640 6 cars, 7.4ms\n",
            "image 538/1294 /content/drive/MyDrive/night_object_detection/night_object_detection/images/val/M0901_img001519.jpg: 384x640 6 cars, 7.5ms\n",
            "image 539/1294 /content/drive/MyDrive/night_object_detection/night_object_detection/images/val/M0901_img001526.jpg: 384x640 6 cars, 7.4ms\n",
            "image 540/1294 /content/drive/MyDrive/night_object_detection/night_object_detection/images/val/M0901_img001528.jpg: 384x640 6 cars, 7.4ms\n",
            "image 541/1294 /content/drive/MyDrive/night_object_detection/night_object_detection/images/val/M0901_img001535.jpg: 384x640 6 cars, 7.5ms\n",
            "image 542/1294 /content/drive/MyDrive/night_object_detection/night_object_detection/images/val/M0901_img001538.jpg: 384x640 6 cars, 7.6ms\n",
            "image 543/1294 /content/drive/MyDrive/night_object_detection/night_object_detection/images/val/M0901_img001541.jpg: 384x640 6 cars, 7.7ms\n",
            "image 544/1294 /content/drive/MyDrive/night_object_detection/night_object_detection/images/val/M0901_img001548.jpg: 384x640 6 cars, 7.6ms\n",
            "image 545/1294 /content/drive/MyDrive/night_object_detection/night_object_detection/images/val/M0901_img001549.jpg: 384x640 6 cars, 7.8ms\n",
            "image 546/1294 /content/drive/MyDrive/night_object_detection/night_object_detection/images/val/M0901_img001552.jpg: 384x640 6 cars, 9.0ms\n",
            "image 547/1294 /content/drive/MyDrive/night_object_detection/night_object_detection/images/val/M0901_img001553.jpg: 384x640 6 cars, 8.1ms\n",
            "image 548/1294 /content/drive/MyDrive/night_object_detection/night_object_detection/images/val/M0901_img001557.jpg: 384x640 6 cars, 7.9ms\n",
            "image 549/1294 /content/drive/MyDrive/night_object_detection/night_object_detection/images/val/M0901_img001560.jpg: 384x640 6 cars, 8.1ms\n",
            "image 550/1294 /content/drive/MyDrive/night_object_detection/night_object_detection/images/val/M0901_img001561.jpg: 384x640 6 cars, 8.1ms\n",
            "image 551/1294 /content/drive/MyDrive/night_object_detection/night_object_detection/images/val/M0901_img001563.jpg: 384x640 6 cars, 7.6ms\n",
            "image 552/1294 /content/drive/MyDrive/night_object_detection/night_object_detection/images/val/M0901_img001567.jpg: 384x640 6 cars, 7.5ms\n",
            "image 553/1294 /content/drive/MyDrive/night_object_detection/night_object_detection/images/val/M0901_img001571.jpg: 384x640 6 cars, 7.8ms\n",
            "image 554/1294 /content/drive/MyDrive/night_object_detection/night_object_detection/images/val/M0901_img001572.jpg: 384x640 6 cars, 8.0ms\n",
            "image 555/1294 /content/drive/MyDrive/night_object_detection/night_object_detection/images/val/M0901_img001574.jpg: 384x640 6 cars, 7.6ms\n",
            "image 556/1294 /content/drive/MyDrive/night_object_detection/night_object_detection/images/val/M0901_img001581.jpg: 384x640 6 cars, 7.4ms\n",
            "image 557/1294 /content/drive/MyDrive/night_object_detection/night_object_detection/images/val/M0901_img001603.jpg: 384x640 7 cars, 7.8ms\n",
            "image 558/1294 /content/drive/MyDrive/night_object_detection/night_object_detection/images/val/M0901_img001606.jpg: 384x640 7 cars, 7.8ms\n",
            "image 559/1294 /content/drive/MyDrive/night_object_detection/night_object_detection/images/val/M0901_img001608.jpg: 384x640 7 cars, 7.4ms\n",
            "image 560/1294 /content/drive/MyDrive/night_object_detection/night_object_detection/images/val/M0901_img001609.jpg: 384x640 7 cars, 7.9ms\n",
            "image 561/1294 /content/drive/MyDrive/night_object_detection/night_object_detection/images/val/M0901_img001610.jpg: 384x640 7 cars, 8.1ms\n",
            "image 562/1294 /content/drive/MyDrive/night_object_detection/night_object_detection/images/val/M0901_img001628.jpg: 384x640 7 cars, 7.5ms\n",
            "image 563/1294 /content/drive/MyDrive/night_object_detection/night_object_detection/images/val/M0901_img001631.jpg: 384x640 7 cars, 7.5ms\n",
            "image 564/1294 /content/drive/MyDrive/night_object_detection/night_object_detection/images/val/M0901_img001632.jpg: 384x640 7 cars, 7.7ms\n",
            "image 565/1294 /content/drive/MyDrive/night_object_detection/night_object_detection/images/val/M0901_img001653.jpg: 384x640 7 cars, 7.8ms\n",
            "image 566/1294 /content/drive/MyDrive/night_object_detection/night_object_detection/images/val/M0901_img001654.jpg: 384x640 7 cars, 7.4ms\n",
            "image 567/1294 /content/drive/MyDrive/night_object_detection/night_object_detection/images/val/M0901_img001657.jpg: 384x640 7 cars, 7.5ms\n",
            "image 568/1294 /content/drive/MyDrive/night_object_detection/night_object_detection/images/val/M0901_img001659.jpg: 384x640 7 cars, 7.4ms\n",
            "image 569/1294 /content/drive/MyDrive/night_object_detection/night_object_detection/images/val/M0901_img001663.jpg: 384x640 7 cars, 7.4ms\n",
            "image 570/1294 /content/drive/MyDrive/night_object_detection/night_object_detection/images/val/M0901_img001670.jpg: 384x640 7 cars, 7.8ms\n",
            "image 571/1294 /content/drive/MyDrive/night_object_detection/night_object_detection/images/val/M0901_img001672.jpg: 384x640 7 cars, 7.5ms\n",
            "image 572/1294 /content/drive/MyDrive/night_object_detection/night_object_detection/images/val/M0901_img001678.jpg: 384x640 7 cars, 7.9ms\n",
            "image 573/1294 /content/drive/MyDrive/night_object_detection/night_object_detection/images/val/M0901_img001681.jpg: 384x640 7 cars, 7.8ms\n",
            "image 574/1294 /content/drive/MyDrive/night_object_detection/night_object_detection/images/val/M0901_img001684.jpg: 384x640 7 cars, 9.4ms\n",
            "image 575/1294 /content/drive/MyDrive/night_object_detection/night_object_detection/images/val/M0901_img001685.jpg: 384x640 7 cars, 7.7ms\n",
            "image 576/1294 /content/drive/MyDrive/night_object_detection/night_object_detection/images/val/M0901_img001688.jpg: 384x640 7 cars, 7.9ms\n",
            "image 577/1294 /content/drive/MyDrive/night_object_detection/night_object_detection/images/val/M0901_img001689.jpg: 384x640 7 cars, 9.0ms\n",
            "image 578/1294 /content/drive/MyDrive/night_object_detection/night_object_detection/images/val/M0901_img001692.jpg: 384x640 7 cars, 8.0ms\n",
            "image 579/1294 /content/drive/MyDrive/night_object_detection/night_object_detection/images/val/M0901_img001715.jpg: 384x640 7 cars, 7.8ms\n",
            "image 580/1294 /content/drive/MyDrive/night_object_detection/night_object_detection/images/val/M0901_img001718.jpg: 384x640 7 cars, 8.3ms\n",
            "image 581/1294 /content/drive/MyDrive/night_object_detection/night_object_detection/images/val/M0901_img001719.jpg: 384x640 7 cars, 8.3ms\n",
            "image 582/1294 /content/drive/MyDrive/night_object_detection/night_object_detection/images/val/M0901_img001720.jpg: 384x640 7 cars, 8.0ms\n",
            "image 583/1294 /content/drive/MyDrive/night_object_detection/night_object_detection/images/val/M0901_img001726.jpg: 384x640 7 cars, 8.0ms\n",
            "image 584/1294 /content/drive/MyDrive/night_object_detection/night_object_detection/images/val/M0901_img001746.jpg: 384x640 7 cars, 7.8ms\n",
            "image 585/1294 /content/drive/MyDrive/night_object_detection/night_object_detection/images/val/M0901_img001748.jpg: 384x640 7 cars, 7.9ms\n",
            "image 586/1294 /content/drive/MyDrive/night_object_detection/night_object_detection/images/val/M0901_img001749.jpg: 384x640 7 cars, 7.8ms\n",
            "image 587/1294 /content/drive/MyDrive/night_object_detection/night_object_detection/images/val/M0901_img001750.jpg: 384x640 7 cars, 7.7ms\n",
            "image 588/1294 /content/drive/MyDrive/night_object_detection/night_object_detection/images/val/M0901_img001756.jpg: 384x640 7 cars, 8.9ms\n",
            "image 589/1294 /content/drive/MyDrive/night_object_detection/night_object_detection/images/val/M0901_img001761.jpg: 384x640 7 cars, 7.7ms\n",
            "image 590/1294 /content/drive/MyDrive/night_object_detection/night_object_detection/images/val/M0901_img001776.jpg: 384x640 7 cars, 7.7ms\n",
            "image 591/1294 /content/drive/MyDrive/night_object_detection/night_object_detection/images/val/M0901_img001796.jpg: 384x640 8 cars, 7.6ms\n",
            "image 592/1294 /content/drive/MyDrive/night_object_detection/night_object_detection/images/val/M0901_img001805.jpg: 384x640 8 cars, 7.8ms\n",
            "image 593/1294 /content/drive/MyDrive/night_object_detection/night_object_detection/images/val/M0901_img001818.jpg: 384x640 8 cars, 8.4ms\n",
            "image 594/1294 /content/drive/MyDrive/night_object_detection/night_object_detection/images/val/M0901_img001824.jpg: 384x640 8 cars, 7.4ms\n",
            "image 595/1294 /content/drive/MyDrive/night_object_detection/night_object_detection/images/val/M0901_img001829.jpg: 384x640 8 cars, 7.7ms\n",
            "image 596/1294 /content/drive/MyDrive/night_object_detection/night_object_detection/images/val/M0901_img001830.jpg: 384x640 8 cars, 7.8ms\n",
            "image 597/1294 /content/drive/MyDrive/night_object_detection/night_object_detection/images/val/M0901_img001832.jpg: 384x640 8 cars, 7.9ms\n",
            "image 598/1294 /content/drive/MyDrive/night_object_detection/night_object_detection/images/val/M0901_img001842.jpg: 384x640 9 cars, 7.9ms\n",
            "image 599/1294 /content/drive/MyDrive/night_object_detection/night_object_detection/images/val/M0901_img001854.jpg: 384x640 9 cars, 7.7ms\n",
            "image 600/1294 /content/drive/MyDrive/night_object_detection/night_object_detection/images/val/M0901_img001857.jpg: 384x640 9 cars, 7.7ms\n",
            "image 601/1294 /content/drive/MyDrive/night_object_detection/night_object_detection/images/val/M0901_img001860.jpg: 384x640 9 cars, 7.9ms\n",
            "image 602/1294 /content/drive/MyDrive/night_object_detection/night_object_detection/images/val/M0901_img001865.jpg: 384x640 9 cars, 7.9ms\n",
            "image 603/1294 /content/drive/MyDrive/night_object_detection/night_object_detection/images/val/M0901_img001876.jpg: 384x640 8 cars, 7.5ms\n",
            "image 604/1294 /content/drive/MyDrive/night_object_detection/night_object_detection/images/val/M0901_img001880.jpg: 384x640 8 cars, 7.8ms\n",
            "image 605/1294 /content/drive/MyDrive/night_object_detection/night_object_detection/images/val/M0901_img001883.jpg: 384x640 8 cars, 7.6ms\n",
            "image 606/1294 /content/drive/MyDrive/night_object_detection/night_object_detection/images/val/M0901_img001885.jpg: 384x640 8 cars, 8.0ms\n",
            "image 607/1294 /content/drive/MyDrive/night_object_detection/night_object_detection/images/val/M0901_img001886.jpg: 384x640 8 cars, 7.5ms\n",
            "image 608/1294 /content/drive/MyDrive/night_object_detection/night_object_detection/images/val/M0901_img001888.jpg: 384x640 8 cars, 7.4ms\n",
            "image 609/1294 /content/drive/MyDrive/night_object_detection/night_object_detection/images/val/M0901_img001897.jpg: 384x640 8 cars, 8.1ms\n",
            "image 610/1294 /content/drive/MyDrive/night_object_detection/night_object_detection/images/val/M0901_img001898.jpg: 384x640 8 cars, 7.9ms\n",
            "image 611/1294 /content/drive/MyDrive/night_object_detection/night_object_detection/images/val/M0902_img000001.jpg: 352x640 8 cars, 8.1ms\n",
            "image 612/1294 /content/drive/MyDrive/night_object_detection/night_object_detection/images/val/M0902_img000005.jpg: 352x640 7 cars, 7.6ms\n",
            "image 613/1294 /content/drive/MyDrive/night_object_detection/night_object_detection/images/val/M0902_img000006.jpg: 352x640 7 cars, 8.0ms\n",
            "image 614/1294 /content/drive/MyDrive/night_object_detection/night_object_detection/images/val/M0902_img000007.jpg: 352x640 7 cars, 7.9ms\n",
            "image 615/1294 /content/drive/MyDrive/night_object_detection/night_object_detection/images/val/M0902_img000010.jpg: 352x640 8 cars, 8.0ms\n",
            "image 616/1294 /content/drive/MyDrive/night_object_detection/night_object_detection/images/val/M0902_img000011.jpg: 352x640 8 cars, 7.8ms\n",
            "image 617/1294 /content/drive/MyDrive/night_object_detection/night_object_detection/images/val/M0902_img000018.jpg: 352x640 8 cars, 7.8ms\n",
            "image 618/1294 /content/drive/MyDrive/night_object_detection/night_object_detection/images/val/M0902_img000020.jpg: 352x640 9 cars, 8.3ms\n",
            "image 619/1294 /content/drive/MyDrive/night_object_detection/night_object_detection/images/val/M0902_img000022.jpg: 352x640 9 cars, 7.9ms\n",
            "image 620/1294 /content/drive/MyDrive/night_object_detection/night_object_detection/images/val/M0902_img000026.jpg: 352x640 8 cars, 7.8ms\n",
            "image 621/1294 /content/drive/MyDrive/night_object_detection/night_object_detection/images/val/M0902_img000030.jpg: 352x640 9 cars, 7.6ms\n",
            "image 622/1294 /content/drive/MyDrive/night_object_detection/night_object_detection/images/val/M0902_img000035.jpg: 352x640 8 cars, 9.4ms\n",
            "image 623/1294 /content/drive/MyDrive/night_object_detection/night_object_detection/images/val/M0902_img000036.jpg: 352x640 8 cars, 7.9ms\n",
            "image 624/1294 /content/drive/MyDrive/night_object_detection/night_object_detection/images/val/M0902_img000037.jpg: 352x640 8 cars, 7.5ms\n",
            "image 625/1294 /content/drive/MyDrive/night_object_detection/night_object_detection/images/val/M0902_img000049.jpg: 352x640 8 cars, 8.3ms\n",
            "image 626/1294 /content/drive/MyDrive/night_object_detection/night_object_detection/images/val/M0902_img000053.jpg: 352x640 8 cars, 11.3ms\n",
            "image 627/1294 /content/drive/MyDrive/night_object_detection/night_object_detection/images/val/M0902_img000055.jpg: 352x640 8 cars, 10.6ms\n",
            "image 628/1294 /content/drive/MyDrive/night_object_detection/night_object_detection/images/val/M0902_img000056.jpg: 352x640 8 cars, 12.5ms\n",
            "image 629/1294 /content/drive/MyDrive/night_object_detection/night_object_detection/images/val/M0902_img000057.jpg: 352x640 7 cars, 9.6ms\n",
            "image 630/1294 /content/drive/MyDrive/night_object_detection/night_object_detection/images/val/M0902_img000058.jpg: 352x640 7 cars, 7.9ms\n",
            "image 631/1294 /content/drive/MyDrive/night_object_detection/night_object_detection/images/val/M0902_img000059.jpg: 352x640 7 cars, 7.8ms\n",
            "image 632/1294 /content/drive/MyDrive/night_object_detection/night_object_detection/images/val/M0902_img000061.jpg: 352x640 7 cars, 7.6ms\n",
            "image 633/1294 /content/drive/MyDrive/night_object_detection/night_object_detection/images/val/M0902_img000065.jpg: 352x640 7 cars, 7.7ms\n",
            "image 634/1294 /content/drive/MyDrive/night_object_detection/night_object_detection/images/val/M0902_img000079.jpg: 352x640 8 cars, 7.8ms\n",
            "image 635/1294 /content/drive/MyDrive/night_object_detection/night_object_detection/images/val/M0902_img000080.jpg: 352x640 8 cars, 7.8ms\n",
            "image 636/1294 /content/drive/MyDrive/night_object_detection/night_object_detection/images/val/M0902_img000083.jpg: 352x640 8 cars, 7.9ms\n",
            "image 637/1294 /content/drive/MyDrive/night_object_detection/night_object_detection/images/val/M0902_img000084.jpg: 352x640 8 cars, 8.1ms\n",
            "image 638/1294 /content/drive/MyDrive/night_object_detection/night_object_detection/images/val/M0902_img000088.jpg: 352x640 8 cars, 8.1ms\n",
            "image 639/1294 /content/drive/MyDrive/night_object_detection/night_object_detection/images/val/M0902_img000091.jpg: 352x640 8 cars, 7.9ms\n",
            "image 640/1294 /content/drive/MyDrive/night_object_detection/night_object_detection/images/val/M0902_img000093.jpg: 352x640 8 cars, 8.0ms\n",
            "image 641/1294 /content/drive/MyDrive/night_object_detection/night_object_detection/images/val/M0902_img000095.jpg: 352x640 8 cars, 7.8ms\n",
            "image 642/1294 /content/drive/MyDrive/night_object_detection/night_object_detection/images/val/M0902_img000117.jpg: 352x640 8 cars, 7.7ms\n",
            "image 643/1294 /content/drive/MyDrive/night_object_detection/night_object_detection/images/val/M0902_img000122.jpg: 352x640 8 cars, 7.9ms\n",
            "image 644/1294 /content/drive/MyDrive/night_object_detection/night_object_detection/images/val/M0902_img000126.jpg: 352x640 8 cars, 7.9ms\n",
            "image 645/1294 /content/drive/MyDrive/night_object_detection/night_object_detection/images/val/M0902_img000127.jpg: 352x640 8 cars, 8.0ms\n",
            "image 646/1294 /content/drive/MyDrive/night_object_detection/night_object_detection/images/val/M0902_img000128.jpg: 352x640 8 cars, 7.9ms\n",
            "image 647/1294 /content/drive/MyDrive/night_object_detection/night_object_detection/images/val/M0902_img000131.jpg: 352x640 8 cars, 7.7ms\n",
            "image 648/1294 /content/drive/MyDrive/night_object_detection/night_object_detection/images/val/M0902_img000136.jpg: 352x640 8 cars, 7.6ms\n",
            "image 649/1294 /content/drive/MyDrive/night_object_detection/night_object_detection/images/val/M0902_img000137.jpg: 352x640 8 cars, 7.6ms\n",
            "image 650/1294 /content/drive/MyDrive/night_object_detection/night_object_detection/images/val/M0902_img000139.jpg: 352x640 8 cars, 7.6ms\n",
            "image 651/1294 /content/drive/MyDrive/night_object_detection/night_object_detection/images/val/M0902_img000140.jpg: 352x640 8 cars, 7.8ms\n",
            "image 652/1294 /content/drive/MyDrive/night_object_detection/night_object_detection/images/val/M0902_img000148.jpg: 352x640 8 cars, 7.7ms\n",
            "image 653/1294 /content/drive/MyDrive/night_object_detection/night_object_detection/images/val/M0902_img000150.jpg: 352x640 8 cars, 7.5ms\n",
            "image 654/1294 /content/drive/MyDrive/night_object_detection/night_object_detection/images/val/M0902_img000151.jpg: 352x640 8 cars, 7.8ms\n",
            "image 655/1294 /content/drive/MyDrive/night_object_detection/night_object_detection/images/val/M0902_img000158.jpg: 352x640 8 cars, 7.8ms\n",
            "image 656/1294 /content/drive/MyDrive/night_object_detection/night_object_detection/images/val/M0902_img000159.jpg: 352x640 8 cars, 10.6ms\n",
            "image 657/1294 /content/drive/MyDrive/night_object_detection/night_object_detection/images/val/M0902_img000163.jpg: 352x640 8 cars, 8.1ms\n",
            "image 658/1294 /content/drive/MyDrive/night_object_detection/night_object_detection/images/val/M0902_img000165.jpg: 352x640 8 cars, 10.9ms\n",
            "image 659/1294 /content/drive/MyDrive/night_object_detection/night_object_detection/images/val/M0902_img000176.jpg: 352x640 8 cars, 9.0ms\n",
            "image 660/1294 /content/drive/MyDrive/night_object_detection/night_object_detection/images/val/M0902_img000182.jpg: 352x640 8 cars, 7.5ms\n",
            "image 661/1294 /content/drive/MyDrive/night_object_detection/night_object_detection/images/val/M0902_img000183.jpg: 352x640 8 cars, 7.8ms\n",
            "image 662/1294 /content/drive/MyDrive/night_object_detection/night_object_detection/images/val/M0902_img000192.jpg: 352x640 8 cars, 7.7ms\n",
            "image 663/1294 /content/drive/MyDrive/night_object_detection/night_object_detection/images/val/M0902_img000205.jpg: 352x640 8 cars, 8.6ms\n",
            "image 664/1294 /content/drive/MyDrive/night_object_detection/night_object_detection/images/val/M0902_img000206.jpg: 352x640 8 cars, 7.5ms\n",
            "image 665/1294 /content/drive/MyDrive/night_object_detection/night_object_detection/images/val/M0902_img000208.jpg: 352x640 8 cars, 7.5ms\n",
            "image 666/1294 /content/drive/MyDrive/night_object_detection/night_object_detection/images/val/M0902_img000210.jpg: 352x640 8 cars, 7.9ms\n",
            "image 667/1294 /content/drive/MyDrive/night_object_detection/night_object_detection/images/val/M0902_img000212.jpg: 352x640 7 cars, 7.5ms\n",
            "image 668/1294 /content/drive/MyDrive/night_object_detection/night_object_detection/images/val/M0902_img000224.jpg: 352x640 7 cars, 8.0ms\n",
            "image 669/1294 /content/drive/MyDrive/night_object_detection/night_object_detection/images/val/M0902_img000226.jpg: 352x640 6 cars, 9.0ms\n",
            "image 670/1294 /content/drive/MyDrive/night_object_detection/night_object_detection/images/val/M0902_img000233.jpg: 352x640 7 cars, 7.9ms\n",
            "image 671/1294 /content/drive/MyDrive/night_object_detection/night_object_detection/images/val/M0902_img000234.jpg: 352x640 7 cars, 7.7ms\n",
            "image 672/1294 /content/drive/MyDrive/night_object_detection/night_object_detection/images/val/M0902_img000237.jpg: 352x640 6 cars, 8.0ms\n",
            "image 673/1294 /content/drive/MyDrive/night_object_detection/night_object_detection/images/val/M0902_img000242.jpg: 352x640 7 cars, 7.5ms\n",
            "image 674/1294 /content/drive/MyDrive/night_object_detection/night_object_detection/images/val/M0902_img000243.jpg: 352x640 7 cars, 7.8ms\n",
            "image 675/1294 /content/drive/MyDrive/night_object_detection/night_object_detection/images/val/M0902_img000247.jpg: 352x640 7 cars, 8.5ms\n",
            "image 676/1294 /content/drive/MyDrive/night_object_detection/night_object_detection/images/val/M0902_img000256.jpg: 352x640 6 cars, 8.1ms\n",
            "image 677/1294 /content/drive/MyDrive/night_object_detection/night_object_detection/images/val/M0902_img000268.jpg: 352x640 5 cars, 7.8ms\n",
            "image 678/1294 /content/drive/MyDrive/night_object_detection/night_object_detection/images/val/M0902_img000270.jpg: 352x640 5 cars, 7.4ms\n",
            "image 679/1294 /content/drive/MyDrive/night_object_detection/night_object_detection/images/val/M0902_img000285.jpg: 352x640 7 cars, 7.8ms\n",
            "image 680/1294 /content/drive/MyDrive/night_object_detection/night_object_detection/images/val/M0902_img000287.jpg: 352x640 7 cars, 7.5ms\n",
            "image 681/1294 /content/drive/MyDrive/night_object_detection/night_object_detection/images/val/M0902_img000289.jpg: 352x640 7 cars, 7.7ms\n",
            "image 682/1294 /content/drive/MyDrive/night_object_detection/night_object_detection/images/val/M0902_img000292.jpg: 352x640 5 cars, 7.5ms\n",
            "image 683/1294 /content/drive/MyDrive/night_object_detection/night_object_detection/images/val/M0902_img000296.jpg: 352x640 4 cars, 7.6ms\n",
            "image 684/1294 /content/drive/MyDrive/night_object_detection/night_object_detection/images/val/M0902_img000298.jpg: 352x640 4 cars, 7.7ms\n",
            "image 685/1294 /content/drive/MyDrive/night_object_detection/night_object_detection/images/val/M0902_img000302.jpg: 352x640 4 cars, 7.6ms\n",
            "image 686/1294 /content/drive/MyDrive/night_object_detection/night_object_detection/images/val/M0902_img000306.jpg: 352x640 5 cars, 8.3ms\n",
            "image 687/1294 /content/drive/MyDrive/night_object_detection/night_object_detection/images/val/M0902_img000308.jpg: 352x640 5 cars, 8.3ms\n",
            "image 688/1294 /content/drive/MyDrive/night_object_detection/night_object_detection/images/val/M0902_img000316.jpg: 352x640 5 cars, 8.0ms\n",
            "image 689/1294 /content/drive/MyDrive/night_object_detection/night_object_detection/images/val/M0902_img000318.jpg: 352x640 5 cars, 7.9ms\n",
            "image 690/1294 /content/drive/MyDrive/night_object_detection/night_object_detection/images/val/M0902_img000325.jpg: 352x640 5 cars, 7.7ms\n",
            "image 691/1294 /content/drive/MyDrive/night_object_detection/night_object_detection/images/val/M0902_img000328.jpg: 352x640 3 cars, 7.9ms\n",
            "image 692/1294 /content/drive/MyDrive/night_object_detection/night_object_detection/images/val/M0902_img000329.jpg: 352x640 3 cars, 7.6ms\n",
            "image 693/1294 /content/drive/MyDrive/night_object_detection/night_object_detection/images/val/M0902_img000331.jpg: 352x640 3 cars, 7.8ms\n",
            "image 694/1294 /content/drive/MyDrive/night_object_detection/night_object_detection/images/val/M0902_img000332.jpg: 352x640 4 cars, 7.4ms\n",
            "image 695/1294 /content/drive/MyDrive/night_object_detection/night_object_detection/images/val/M0902_img000335.jpg: 352x640 6 cars, 7.4ms\n",
            "image 696/1294 /content/drive/MyDrive/night_object_detection/night_object_detection/images/val/M0902_img000340.jpg: 352x640 5 cars, 7.9ms\n",
            "image 697/1294 /content/drive/MyDrive/night_object_detection/night_object_detection/images/val/M0902_img000345.jpg: 352x640 5 cars, 7.8ms\n",
            "image 698/1294 /content/drive/MyDrive/night_object_detection/night_object_detection/images/val/M0902_img000347.jpg: 352x640 6 cars, 7.5ms\n",
            "image 699/1294 /content/drive/MyDrive/night_object_detection/night_object_detection/images/val/M0902_img000352.jpg: 352x640 4 cars, 7.9ms\n",
            "image 700/1294 /content/drive/MyDrive/night_object_detection/night_object_detection/images/val/M0902_img000353.jpg: 352x640 4 cars, 7.9ms\n",
            "image 701/1294 /content/drive/MyDrive/night_object_detection/night_object_detection/images/val/M0902_img000357.jpg: 352x640 3 cars, 7.8ms\n",
            "image 702/1294 /content/drive/MyDrive/night_object_detection/night_object_detection/images/val/M0902_img000366.jpg: 352x640 4 cars, 7.5ms\n",
            "image 703/1294 /content/drive/MyDrive/night_object_detection/night_object_detection/images/val/M0902_img000367.jpg: 352x640 4 cars, 7.6ms\n",
            "image 704/1294 /content/drive/MyDrive/night_object_detection/night_object_detection/images/val/M0902_img000371.jpg: 352x640 4 cars, 7.5ms\n",
            "image 705/1294 /content/drive/MyDrive/night_object_detection/night_object_detection/images/val/M0902_img000373.jpg: 352x640 4 cars, 7.9ms\n",
            "image 706/1294 /content/drive/MyDrive/night_object_detection/night_object_detection/images/val/M0902_img000379.jpg: 352x640 5 cars, 7.8ms\n",
            "image 707/1294 /content/drive/MyDrive/night_object_detection/night_object_detection/images/val/M1002_img000001.jpg: 352x640 19 cars, 2 buss, 8.9ms\n",
            "image 708/1294 /content/drive/MyDrive/night_object_detection/night_object_detection/images/val/M1002_img000015.jpg: 352x640 19 cars, 2 buss, 8.0ms\n",
            "image 709/1294 /content/drive/MyDrive/night_object_detection/night_object_detection/images/val/M1002_img000024.jpg: 352x640 19 cars, 2 buss, 7.4ms\n",
            "image 710/1294 /content/drive/MyDrive/night_object_detection/night_object_detection/images/val/M1002_img000030.jpg: 352x640 19 cars, 2 buss, 7.4ms\n",
            "image 711/1294 /content/drive/MyDrive/night_object_detection/night_object_detection/images/val/M1002_img000035.jpg: 352x640 19 cars, 2 buss, 7.5ms\n",
            "image 712/1294 /content/drive/MyDrive/night_object_detection/night_object_detection/images/val/M1002_img000042.jpg: 352x640 18 cars, 2 buss, 7.6ms\n",
            "image 713/1294 /content/drive/MyDrive/night_object_detection/night_object_detection/images/val/M1002_img000044.jpg: 352x640 18 cars, 2 buss, 7.5ms\n",
            "image 714/1294 /content/drive/MyDrive/night_object_detection/night_object_detection/images/val/M1002_img000056.jpg: 352x640 19 cars, 2 buss, 7.4ms\n",
            "image 715/1294 /content/drive/MyDrive/night_object_detection/night_object_detection/images/val/M1002_img000057.jpg: 352x640 19 cars, 2 buss, 8.9ms\n",
            "image 716/1294 /content/drive/MyDrive/night_object_detection/night_object_detection/images/val/M1002_img000065.jpg: 352x640 19 cars, 2 buss, 7.9ms\n",
            "image 717/1294 /content/drive/MyDrive/night_object_detection/night_object_detection/images/val/M1002_img000068.jpg: 352x640 19 cars, 2 buss, 7.8ms\n",
            "image 718/1294 /content/drive/MyDrive/night_object_detection/night_object_detection/images/val/M1002_img000072.jpg: 352x640 19 cars, 2 buss, 7.9ms\n",
            "image 719/1294 /content/drive/MyDrive/night_object_detection/night_object_detection/images/val/M1002_img000074.jpg: 352x640 19 cars, 2 buss, 7.7ms\n",
            "image 720/1294 /content/drive/MyDrive/night_object_detection/night_object_detection/images/val/M1002_img000079.jpg: 352x640 19 cars, 2 buss, 7.7ms\n",
            "image 721/1294 /content/drive/MyDrive/night_object_detection/night_object_detection/images/val/M1002_img000080.jpg: 352x640 19 cars, 2 buss, 7.7ms\n",
            "image 722/1294 /content/drive/MyDrive/night_object_detection/night_object_detection/images/val/M1002_img000091.jpg: 352x640 19 cars, 2 buss, 8.9ms\n",
            "image 723/1294 /content/drive/MyDrive/night_object_detection/night_object_detection/images/val/M1002_img000092.jpg: 352x640 19 cars, 2 buss, 7.8ms\n",
            "image 724/1294 /content/drive/MyDrive/night_object_detection/night_object_detection/images/val/M1002_img000094.jpg: 352x640 19 cars, 2 buss, 7.9ms\n",
            "image 725/1294 /content/drive/MyDrive/night_object_detection/night_object_detection/images/val/M1002_img000095.jpg: 352x640 19 cars, 2 buss, 7.8ms\n",
            "image 726/1294 /content/drive/MyDrive/night_object_detection/night_object_detection/images/val/M1002_img000099.jpg: 352x640 19 cars, 2 buss, 7.8ms\n",
            "image 727/1294 /content/drive/MyDrive/night_object_detection/night_object_detection/images/val/M1002_img000100.jpg: 352x640 19 cars, 2 buss, 7.7ms\n",
            "image 728/1294 /content/drive/MyDrive/night_object_detection/night_object_detection/images/val/M1002_img000101.jpg: 352x640 19 cars, 2 buss, 8.0ms\n",
            "image 729/1294 /content/drive/MyDrive/night_object_detection/night_object_detection/images/val/M1002_img000102.jpg: 352x640 19 cars, 2 buss, 7.8ms\n",
            "image 730/1294 /content/drive/MyDrive/night_object_detection/night_object_detection/images/val/M1002_img000103.jpg: 352x640 19 cars, 2 buss, 7.9ms\n",
            "image 731/1294 /content/drive/MyDrive/night_object_detection/night_object_detection/images/val/M1002_img000115.jpg: 352x640 19 cars, 2 buss, 7.6ms\n",
            "image 732/1294 /content/drive/MyDrive/night_object_detection/night_object_detection/images/val/M1002_img000127.jpg: 352x640 19 cars, 2 buss, 8.9ms\n",
            "image 733/1294 /content/drive/MyDrive/night_object_detection/night_object_detection/images/val/M1002_img000132.jpg: 352x640 18 cars, 2 buss, 8.3ms\n",
            "image 734/1294 /content/drive/MyDrive/night_object_detection/night_object_detection/images/val/M1002_img000135.jpg: 352x640 18 cars, 2 buss, 7.8ms\n",
            "image 735/1294 /content/drive/MyDrive/night_object_detection/night_object_detection/images/val/M1002_img000140.jpg: 352x640 18 cars, 2 buss, 8.0ms\n",
            "image 736/1294 /content/drive/MyDrive/night_object_detection/night_object_detection/images/val/M1002_img000144.jpg: 352x640 17 cars, 2 buss, 8.3ms\n",
            "image 737/1294 /content/drive/MyDrive/night_object_detection/night_object_detection/images/val/M1002_img000145.jpg: 352x640 16 cars, 2 buss, 7.9ms\n",
            "image 738/1294 /content/drive/MyDrive/night_object_detection/night_object_detection/images/val/M1002_img000146.jpg: 352x640 16 cars, 2 buss, 8.0ms\n",
            "image 739/1294 /content/drive/MyDrive/night_object_detection/night_object_detection/images/val/M1002_img000148.jpg: 352x640 15 cars, 2 buss, 8.0ms\n",
            "image 740/1294 /content/drive/MyDrive/night_object_detection/night_object_detection/images/val/M1002_img000152.jpg: 352x640 14 cars, 2 buss, 7.9ms\n",
            "image 741/1294 /content/drive/MyDrive/night_object_detection/night_object_detection/images/val/M1002_img000156.jpg: 352x640 14 cars, 2 buss, 7.8ms\n",
            "image 742/1294 /content/drive/MyDrive/night_object_detection/night_object_detection/images/val/M1002_img000159.jpg: 352x640 14 cars, 2 buss, 7.8ms\n",
            "image 743/1294 /content/drive/MyDrive/night_object_detection/night_object_detection/images/val/M1002_img000180.jpg: 352x640 15 cars, 2 buss, 7.7ms\n",
            "image 744/1294 /content/drive/MyDrive/night_object_detection/night_object_detection/images/val/M1002_img000184.jpg: 352x640 16 cars, 2 buss, 7.9ms\n",
            "image 745/1294 /content/drive/MyDrive/night_object_detection/night_object_detection/images/val/M1002_img000192.jpg: 352x640 18 cars, 2 buss, 8.2ms\n",
            "image 746/1294 /content/drive/MyDrive/night_object_detection/night_object_detection/images/val/M1002_img000196.jpg: 352x640 17 cars, 2 buss, 7.9ms\n",
            "image 747/1294 /content/drive/MyDrive/night_object_detection/night_object_detection/images/val/M1002_img000198.jpg: 352x640 15 cars, 2 buss, 8.2ms\n",
            "image 748/1294 /content/drive/MyDrive/night_object_detection/night_object_detection/images/val/M1002_img000203.jpg: 352x640 15 cars, 2 buss, 7.9ms\n",
            "image 749/1294 /content/drive/MyDrive/night_object_detection/night_object_detection/images/val/M1002_img000208.jpg: 352x640 14 cars, 2 buss, 8.0ms\n",
            "image 750/1294 /content/drive/MyDrive/night_object_detection/night_object_detection/images/val/M1002_img000210.jpg: 352x640 15 cars, 2 buss, 7.8ms\n",
            "image 751/1294 /content/drive/MyDrive/night_object_detection/night_object_detection/images/val/M1002_img000220.jpg: 352x640 15 cars, 2 buss, 7.6ms\n",
            "image 752/1294 /content/drive/MyDrive/night_object_detection/night_object_detection/images/val/M1002_img000223.jpg: 352x640 15 cars, 2 buss, 7.7ms\n",
            "image 753/1294 /content/drive/MyDrive/night_object_detection/night_object_detection/images/val/M1002_img000228.jpg: 352x640 14 cars, 2 buss, 7.4ms\n",
            "image 754/1294 /content/drive/MyDrive/night_object_detection/night_object_detection/images/val/M1002_img000236.jpg: 352x640 15 cars, 3 buss, 7.7ms\n",
            "image 755/1294 /content/drive/MyDrive/night_object_detection/night_object_detection/images/val/M1002_img000238.jpg: 352x640 15 cars, 3 buss, 8.3ms\n",
            "image 756/1294 /content/drive/MyDrive/night_object_detection/night_object_detection/images/val/M1002_img000242.jpg: 352x640 17 cars, 3 buss, 8.0ms\n",
            "image 757/1294 /content/drive/MyDrive/night_object_detection/night_object_detection/images/val/M1002_img000247.jpg: 352x640 15 cars, 3 buss, 7.9ms\n",
            "image 758/1294 /content/drive/MyDrive/night_object_detection/night_object_detection/images/val/M1002_img000249.jpg: 352x640 15 cars, 3 buss, 7.7ms\n",
            "image 759/1294 /content/drive/MyDrive/night_object_detection/night_object_detection/images/val/M1002_img000252.jpg: 352x640 15 cars, 3 buss, 7.7ms\n",
            "image 760/1294 /content/drive/MyDrive/night_object_detection/night_object_detection/images/val/M1002_img000254.jpg: 352x640 15 cars, 3 buss, 7.6ms\n",
            "image 761/1294 /content/drive/MyDrive/night_object_detection/night_object_detection/images/val/M1002_img000262.jpg: 352x640 17 cars, 3 buss, 7.9ms\n",
            "image 762/1294 /content/drive/MyDrive/night_object_detection/night_object_detection/images/val/M1002_img000269.jpg: 352x640 15 cars, 3 buss, 8.2ms\n",
            "image 763/1294 /content/drive/MyDrive/night_object_detection/night_object_detection/images/val/M1002_img000273.jpg: 352x640 14 cars, 3 buss, 8.1ms\n",
            "image 764/1294 /content/drive/MyDrive/night_object_detection/night_object_detection/images/val/M1002_img000276.jpg: 352x640 15 cars, 3 buss, 8.1ms\n",
            "image 765/1294 /content/drive/MyDrive/night_object_detection/night_object_detection/images/val/M1002_img000285.jpg: 352x640 16 cars, 3 buss, 8.1ms\n",
            "image 766/1294 /content/drive/MyDrive/night_object_detection/night_object_detection/images/val/M1002_img000286.jpg: 352x640 15 cars, 3 buss, 8.2ms\n",
            "image 767/1294 /content/drive/MyDrive/night_object_detection/night_object_detection/images/val/M1002_img000292.jpg: 352x640 15 cars, 3 buss, 8.1ms\n",
            "image 768/1294 /content/drive/MyDrive/night_object_detection/night_object_detection/images/val/M1002_img000294.jpg: 352x640 13 cars, 3 buss, 8.0ms\n",
            "image 769/1294 /content/drive/MyDrive/night_object_detection/night_object_detection/images/val/M1002_img000296.jpg: 352x640 14 cars, 3 buss, 8.0ms\n",
            "image 770/1294 /content/drive/MyDrive/night_object_detection/night_object_detection/images/val/M1002_img000300.jpg: 352x640 16 cars, 3 buss, 8.4ms\n",
            "image 771/1294 /content/drive/MyDrive/night_object_detection/night_object_detection/images/val/M1002_img000301.jpg: 352x640 16 cars, 3 buss, 8.0ms\n",
            "image 772/1294 /content/drive/MyDrive/night_object_detection/night_object_detection/images/val/M1002_img000304.jpg: 352x640 17 cars, 3 buss, 7.8ms\n",
            "image 773/1294 /content/drive/MyDrive/night_object_detection/night_object_detection/images/val/M1002_img000305.jpg: 352x640 15 cars, 3 buss, 7.7ms\n",
            "image 774/1294 /content/drive/MyDrive/night_object_detection/night_object_detection/images/val/M1002_img000308.jpg: 352x640 15 cars, 3 buss, 7.9ms\n",
            "image 775/1294 /content/drive/MyDrive/night_object_detection/night_object_detection/images/val/M1002_img000311.jpg: 352x640 14 cars, 3 buss, 7.7ms\n",
            "image 776/1294 /content/drive/MyDrive/night_object_detection/night_object_detection/images/val/M1002_img000313.jpg: 352x640 13 cars, 3 buss, 7.8ms\n",
            "image 777/1294 /content/drive/MyDrive/night_object_detection/night_object_detection/images/val/M1002_img000326.jpg: 352x640 15 cars, 2 buss, 7.7ms\n",
            "image 778/1294 /content/drive/MyDrive/night_object_detection/night_object_detection/images/val/M1002_img000327.jpg: 352x640 15 cars, 2 buss, 7.6ms\n",
            "image 779/1294 /content/drive/MyDrive/night_object_detection/night_object_detection/images/val/M1002_img000332.jpg: 352x640 15 cars, 2 buss, 7.3ms\n",
            "image 780/1294 /content/drive/MyDrive/night_object_detection/night_object_detection/images/val/M1002_img000336.jpg: 352x640 16 cars, 2 buss, 7.6ms\n",
            "image 781/1294 /content/drive/MyDrive/night_object_detection/night_object_detection/images/val/M1002_img000338.jpg: 352x640 15 cars, 2 buss, 7.5ms\n",
            "image 782/1294 /content/drive/MyDrive/night_object_detection/night_object_detection/images/val/M1002_img000340.jpg: 352x640 16 cars, 2 buss, 7.8ms\n",
            "image 783/1294 /content/drive/MyDrive/night_object_detection/night_object_detection/images/val/M1002_img000343.jpg: 352x640 16 cars, 2 buss, 7.7ms\n",
            "image 784/1294 /content/drive/MyDrive/night_object_detection/night_object_detection/images/val/M1002_img000345.jpg: 352x640 15 cars, 2 buss, 7.7ms\n",
            "image 785/1294 /content/drive/MyDrive/night_object_detection/night_object_detection/images/val/M1002_img000346.jpg: 352x640 15 cars, 2 buss, 7.7ms\n",
            "image 786/1294 /content/drive/MyDrive/night_object_detection/night_object_detection/images/val/M1002_img000350.jpg: 352x640 13 cars, 2 buss, 8.0ms\n",
            "image 787/1294 /content/drive/MyDrive/night_object_detection/night_object_detection/images/val/M1002_img000351.jpg: 352x640 13 cars, 2 buss, 7.7ms\n",
            "image 788/1294 /content/drive/MyDrive/night_object_detection/night_object_detection/images/val/M1002_img000364.jpg: 352x640 11 cars, 2 buss, 7.5ms\n",
            "image 789/1294 /content/drive/MyDrive/night_object_detection/night_object_detection/images/val/M1002_img000367.jpg: 352x640 12 cars, 2 buss, 7.5ms\n",
            "image 790/1294 /content/drive/MyDrive/night_object_detection/night_object_detection/images/val/M1002_img000369.jpg: 352x640 12 cars, 2 buss, 7.5ms\n",
            "image 791/1294 /content/drive/MyDrive/night_object_detection/night_object_detection/images/val/M1002_img000375.jpg: 352x640 12 cars, 2 buss, 7.6ms\n",
            "image 792/1294 /content/drive/MyDrive/night_object_detection/night_object_detection/images/val/M1002_img000378.jpg: 352x640 12 cars, 2 buss, 9.5ms\n",
            "image 793/1294 /content/drive/MyDrive/night_object_detection/night_object_detection/images/val/M1002_img000379.jpg: 352x640 12 cars, 2 buss, 9.3ms\n",
            "image 794/1294 /content/drive/MyDrive/night_object_detection/night_object_detection/images/val/M1002_img000381.jpg: 352x640 13 cars, 2 buss, 7.7ms\n",
            "image 795/1294 /content/drive/MyDrive/night_object_detection/night_object_detection/images/val/M1002_img000394.jpg: 352x640 12 cars, 2 buss, 7.7ms\n",
            "image 796/1294 /content/drive/MyDrive/night_object_detection/night_object_detection/images/val/M1002_img000395.jpg: 352x640 12 cars, 2 buss, 7.9ms\n",
            "image 797/1294 /content/drive/MyDrive/night_object_detection/night_object_detection/images/val/M1002_img000396.jpg: 352x640 12 cars, 2 buss, 8.0ms\n",
            "image 798/1294 /content/drive/MyDrive/night_object_detection/night_object_detection/images/val/M1002_img000406.jpg: 352x640 14 cars, 2 buss, 7.6ms\n",
            "image 799/1294 /content/drive/MyDrive/night_object_detection/night_object_detection/images/val/M1002_img000408.jpg: 352x640 14 cars, 2 buss, 7.6ms\n",
            "image 800/1294 /content/drive/MyDrive/night_object_detection/night_object_detection/images/val/M1002_img000413.jpg: 352x640 13 cars, 2 buss, 8.1ms\n",
            "image 801/1294 /content/drive/MyDrive/night_object_detection/night_object_detection/images/val/M1002_img000418.jpg: 352x640 15 cars, 2 buss, 8.0ms\n",
            "image 802/1294 /content/drive/MyDrive/night_object_detection/night_object_detection/images/val/M1002_img000431.jpg: 352x640 16 cars, 2 buss, 7.9ms\n",
            "image 803/1294 /content/drive/MyDrive/night_object_detection/night_object_detection/images/val/M1002_img000440.jpg: 352x640 15 cars, 2 buss, 8.2ms\n",
            "image 804/1294 /content/drive/MyDrive/night_object_detection/night_object_detection/images/val/M1002_img000454.jpg: 352x640 14 cars, 2 buss, 7.7ms\n",
            "image 805/1294 /content/drive/MyDrive/night_object_detection/night_object_detection/images/val/M1002_img000459.jpg: 352x640 14 cars, 2 buss, 8.3ms\n",
            "image 806/1294 /content/drive/MyDrive/night_object_detection/night_object_detection/images/val/M1002_img000466.jpg: 352x640 16 cars, 2 buss, 8.0ms\n",
            "image 807/1294 /content/drive/MyDrive/night_object_detection/night_object_detection/images/val/M1002_img000467.jpg: 352x640 16 cars, 2 buss, 7.6ms\n",
            "image 808/1294 /content/drive/MyDrive/night_object_detection/night_object_detection/images/val/M1002_img000469.jpg: 352x640 15 cars, 2 buss, 8.1ms\n",
            "image 809/1294 /content/drive/MyDrive/night_object_detection/night_object_detection/images/val/M1002_img000470.jpg: 352x640 15 cars, 2 buss, 8.1ms\n",
            "image 810/1294 /content/drive/MyDrive/night_object_detection/night_object_detection/images/val/M1002_img000474.jpg: 352x640 14 cars, 2 buss, 8.1ms\n",
            "image 811/1294 /content/drive/MyDrive/night_object_detection/night_object_detection/images/val/M1002_img000475.jpg: 352x640 15 cars, 2 buss, 7.7ms\n",
            "image 812/1294 /content/drive/MyDrive/night_object_detection/night_object_detection/images/val/M1002_img000491.jpg: 352x640 16 cars, 2 buss, 8.2ms\n",
            "image 813/1294 /content/drive/MyDrive/night_object_detection/night_object_detection/images/val/M1002_img000492.jpg: 352x640 16 cars, 2 buss, 7.8ms\n",
            "image 814/1294 /content/drive/MyDrive/night_object_detection/night_object_detection/images/val/M1002_img000495.jpg: 352x640 16 cars, 2 buss, 7.7ms\n",
            "image 815/1294 /content/drive/MyDrive/night_object_detection/night_object_detection/images/val/M1002_img000497.jpg: 352x640 15 cars, 2 buss, 7.7ms\n",
            "image 816/1294 /content/drive/MyDrive/night_object_detection/night_object_detection/images/val/M1002_img000498.jpg: 352x640 14 cars, 2 buss, 8.0ms\n",
            "image 817/1294 /content/drive/MyDrive/night_object_detection/night_object_detection/images/val/M1002_img000502.jpg: 352x640 12 cars, 2 buss, 7.9ms\n",
            "image 818/1294 /content/drive/MyDrive/night_object_detection/night_object_detection/images/val/M1002_img000504.jpg: 352x640 11 cars, 2 buss, 8.5ms\n",
            "image 819/1294 /content/drive/MyDrive/night_object_detection/night_object_detection/images/val/M1002_img000506.jpg: 352x640 11 cars, 2 buss, 8.1ms\n",
            "image 820/1294 /content/drive/MyDrive/night_object_detection/night_object_detection/images/val/M1002_img000512.jpg: 352x640 11 cars, 2 buss, 8.1ms\n",
            "image 821/1294 /content/drive/MyDrive/night_object_detection/night_object_detection/images/val/M1002_img000520.jpg: 352x640 10 cars, 2 buss, 8.4ms\n",
            "image 822/1294 /content/drive/MyDrive/night_object_detection/night_object_detection/images/val/M1002_img000521.jpg: 352x640 11 cars, 2 buss, 8.0ms\n",
            "image 823/1294 /content/drive/MyDrive/night_object_detection/night_object_detection/images/val/M1002_img000528.jpg: 352x640 11 cars, 2 buss, 8.3ms\n",
            "image 824/1294 /content/drive/MyDrive/night_object_detection/night_object_detection/images/val/M1002_img000529.jpg: 352x640 11 cars, 2 buss, 8.2ms\n",
            "image 825/1294 /content/drive/MyDrive/night_object_detection/night_object_detection/images/val/M1002_img000532.jpg: 352x640 11 cars, 2 buss, 7.8ms\n",
            "image 826/1294 /content/drive/MyDrive/night_object_detection/night_object_detection/images/val/M1002_img000540.jpg: 352x640 10 cars, 2 buss, 8.4ms\n",
            "image 827/1294 /content/drive/MyDrive/night_object_detection/night_object_detection/images/val/M1002_img000546.jpg: 352x640 11 cars, 2 buss, 7.9ms\n",
            "image 828/1294 /content/drive/MyDrive/night_object_detection/night_object_detection/images/val/M1002_img000553.jpg: 352x640 8 cars, 2 buss, 8.0ms\n",
            "image 829/1294 /content/drive/MyDrive/night_object_detection/night_object_detection/images/val/M1002_img000554.jpg: 352x640 8 cars, 2 buss, 8.0ms\n",
            "image 830/1294 /content/drive/MyDrive/night_object_detection/night_object_detection/images/val/M1002_img000555.jpg: 352x640 9 cars, 2 buss, 8.0ms\n",
            "image 831/1294 /content/drive/MyDrive/night_object_detection/night_object_detection/images/val/M1002_img000557.jpg: 352x640 10 cars, 2 buss, 8.7ms\n",
            "image 832/1294 /content/drive/MyDrive/night_object_detection/night_object_detection/images/val/M1002_img000563.jpg: 352x640 9 cars, 2 buss, 8.3ms\n",
            "image 833/1294 /content/drive/MyDrive/night_object_detection/night_object_detection/images/val/M1002_img000566.jpg: 352x640 8 cars, 2 buss, 8.5ms\n",
            "image 834/1294 /content/drive/MyDrive/night_object_detection/night_object_detection/images/val/M1002_img000568.jpg: 352x640 8 cars, 2 buss, 7.8ms\n",
            "image 835/1294 /content/drive/MyDrive/night_object_detection/night_object_detection/images/val/M1002_img000572.jpg: 352x640 9 cars, 2 buss, 7.8ms\n",
            "image 836/1294 /content/drive/MyDrive/night_object_detection/night_object_detection/images/val/M1002_img000575.jpg: 352x640 9 cars, 2 buss, 8.1ms\n",
            "image 837/1294 /content/drive/MyDrive/night_object_detection/night_object_detection/images/val/M1002_img000579.jpg: 352x640 9 cars, 2 buss, 7.6ms\n",
            "image 838/1294 /content/drive/MyDrive/night_object_detection/night_object_detection/images/val/M1002_img000589.jpg: 352x640 9 cars, 2 buss, 8.2ms\n",
            "image 839/1294 /content/drive/MyDrive/night_object_detection/night_object_detection/images/val/M1002_img000595.jpg: 352x640 9 cars, 2 buss, 8.3ms\n",
            "image 840/1294 /content/drive/MyDrive/night_object_detection/night_object_detection/images/val/M1002_img000596.jpg: 352x640 9 cars, 2 buss, 7.8ms\n",
            "image 841/1294 /content/drive/MyDrive/night_object_detection/night_object_detection/images/val/M1002_img000605.jpg: 352x640 8 cars, 2 buss, 7.6ms\n",
            "image 842/1294 /content/drive/MyDrive/night_object_detection/night_object_detection/images/val/M1002_img000606.jpg: 352x640 8 cars, 2 buss, 7.6ms\n",
            "image 843/1294 /content/drive/MyDrive/night_object_detection/night_object_detection/images/val/M1002_img000609.jpg: 352x640 7 cars, 2 buss, 8.3ms\n",
            "image 844/1294 /content/drive/MyDrive/night_object_detection/night_object_detection/images/val/M1002_img000610.jpg: 352x640 7 cars, 2 buss, 7.7ms\n",
            "image 845/1294 /content/drive/MyDrive/night_object_detection/night_object_detection/images/val/M1002_img000614.jpg: 352x640 8 cars, 2 buss, 7.4ms\n",
            "image 846/1294 /content/drive/MyDrive/night_object_detection/night_object_detection/images/val/M1002_img000623.jpg: 352x640 9 cars, 1 bus, 7.4ms\n",
            "image 847/1294 /content/drive/MyDrive/night_object_detection/night_object_detection/images/val/M1002_img000634.jpg: 352x640 7 cars, 1 bus, 7.6ms\n",
            "image 848/1294 /content/drive/MyDrive/night_object_detection/night_object_detection/images/val/M1002_img000640.jpg: 352x640 9 cars, 1 bus, 9.3ms\n",
            "image 849/1294 /content/drive/MyDrive/night_object_detection/night_object_detection/images/val/M1002_img000642.jpg: 352x640 9 cars, 1 bus, 7.3ms\n",
            "image 850/1294 /content/drive/MyDrive/night_object_detection/night_object_detection/images/val/M1002_img000643.jpg: 352x640 8 cars, 1 bus, 7.6ms\n",
            "image 851/1294 /content/drive/MyDrive/night_object_detection/night_object_detection/images/val/M1002_img000649.jpg: 352x640 8 cars, 1 bus, 7.8ms\n",
            "image 852/1294 /content/drive/MyDrive/night_object_detection/night_object_detection/images/val/M1002_img000653.jpg: 352x640 9 cars, 1 bus, 7.7ms\n",
            "image 853/1294 /content/drive/MyDrive/night_object_detection/night_object_detection/images/val/M1002_img000654.jpg: 352x640 9 cars, 1 bus, 7.7ms\n",
            "image 854/1294 /content/drive/MyDrive/night_object_detection/night_object_detection/images/val/M1002_img000656.jpg: 352x640 8 cars, 1 bus, 7.8ms\n",
            "image 855/1294 /content/drive/MyDrive/night_object_detection/night_object_detection/images/val/M1002_img000658.jpg: 352x640 9 cars, 1 bus, 7.8ms\n",
            "image 856/1294 /content/drive/MyDrive/night_object_detection/night_object_detection/images/val/M1003_img000003.jpg: 352x640 17 cars, 7.7ms\n",
            "image 857/1294 /content/drive/MyDrive/night_object_detection/night_object_detection/images/val/M1003_img000005.jpg: 352x640 17 cars, 9.0ms\n",
            "image 858/1294 /content/drive/MyDrive/night_object_detection/night_object_detection/images/val/M1003_img000013.jpg: 352x640 16 cars, 9.1ms\n",
            "image 859/1294 /content/drive/MyDrive/night_object_detection/night_object_detection/images/val/M1003_img000015.jpg: 352x640 16 cars, 7.8ms\n",
            "image 860/1294 /content/drive/MyDrive/night_object_detection/night_object_detection/images/val/M1003_img000025.jpg: 352x640 16 cars, 7.9ms\n",
            "image 861/1294 /content/drive/MyDrive/night_object_detection/night_object_detection/images/val/M1003_img000028.jpg: 352x640 16 cars, 7.9ms\n",
            "image 862/1294 /content/drive/MyDrive/night_object_detection/night_object_detection/images/val/M1003_img000037.jpg: 352x640 16 cars, 7.9ms\n",
            "image 863/1294 /content/drive/MyDrive/night_object_detection/night_object_detection/images/val/M1003_img000039.jpg: 352x640 15 cars, 7.8ms\n",
            "image 864/1294 /content/drive/MyDrive/night_object_detection/night_object_detection/images/val/M1003_img000048.jpg: 352x640 15 cars, 1 truck, 7.9ms\n",
            "image 865/1294 /content/drive/MyDrive/night_object_detection/night_object_detection/images/val/M1003_img000050.jpg: 352x640 15 cars, 1 truck, 7.4ms\n",
            "image 866/1294 /content/drive/MyDrive/night_object_detection/night_object_detection/images/val/M1003_img000056.jpg: 352x640 14 cars, 1 truck, 7.3ms\n",
            "image 867/1294 /content/drive/MyDrive/night_object_detection/night_object_detection/images/val/M1003_img000060.jpg: 352x640 14 cars, 1 truck, 7.5ms\n",
            "image 868/1294 /content/drive/MyDrive/night_object_detection/night_object_detection/images/val/M1003_img000063.jpg: 352x640 14 cars, 1 truck, 7.4ms\n",
            "image 869/1294 /content/drive/MyDrive/night_object_detection/night_object_detection/images/val/M1003_img000067.jpg: 352x640 14 cars, 1 truck, 7.4ms\n",
            "image 870/1294 /content/drive/MyDrive/night_object_detection/night_object_detection/images/val/M1003_img000082.jpg: 352x640 14 cars, 1 truck, 7.7ms\n",
            "image 871/1294 /content/drive/MyDrive/night_object_detection/night_object_detection/images/val/M1003_img000092.jpg: 352x640 12 cars, 1 truck, 7.7ms\n",
            "image 872/1294 /content/drive/MyDrive/night_object_detection/night_object_detection/images/val/M1003_img000101.jpg: 352x640 11 cars, 1 truck, 7.7ms\n",
            "image 873/1294 /content/drive/MyDrive/night_object_detection/night_object_detection/images/val/M1003_img000105.jpg: 352x640 12 cars, 2 trucks, 7.5ms\n",
            "image 874/1294 /content/drive/MyDrive/night_object_detection/night_object_detection/images/val/M1003_img000106.jpg: 352x640 12 cars, 2 trucks, 7.4ms\n",
            "image 875/1294 /content/drive/MyDrive/night_object_detection/night_object_detection/images/val/M1003_img000108.jpg: 352x640 12 cars, 2 trucks, 7.3ms\n",
            "image 876/1294 /content/drive/MyDrive/night_object_detection/night_object_detection/images/val/M1003_img000113.jpg: 352x640 11 cars, 2 trucks, 7.4ms\n",
            "image 877/1294 /content/drive/MyDrive/night_object_detection/night_object_detection/images/val/M1003_img000115.jpg: 352x640 11 cars, 2 trucks, 8.9ms\n",
            "image 878/1294 /content/drive/MyDrive/night_object_detection/night_object_detection/images/val/M1003_img000119.jpg: 352x640 11 cars, 2 trucks, 8.0ms\n",
            "image 879/1294 /content/drive/MyDrive/night_object_detection/night_object_detection/images/val/M1003_img000121.jpg: 352x640 11 cars, 2 trucks, 8.6ms\n",
            "image 880/1294 /content/drive/MyDrive/night_object_detection/night_object_detection/images/val/M1003_img000130.jpg: 352x640 12 cars, 2 trucks, 8.0ms\n",
            "image 881/1294 /content/drive/MyDrive/night_object_detection/night_object_detection/images/val/M1003_img000139.jpg: 352x640 12 cars, 2 trucks, 7.7ms\n",
            "image 882/1294 /content/drive/MyDrive/night_object_detection/night_object_detection/images/val/M1003_img000144.jpg: 352x640 11 cars, 2 trucks, 7.9ms\n",
            "image 883/1294 /content/drive/MyDrive/night_object_detection/night_object_detection/images/val/M1003_img000163.jpg: 352x640 11 cars, 1 truck, 7.5ms\n",
            "image 884/1294 /content/drive/MyDrive/night_object_detection/night_object_detection/images/val/M1003_img000164.jpg: 352x640 11 cars, 1 truck, 7.4ms\n",
            "image 885/1294 /content/drive/MyDrive/night_object_detection/night_object_detection/images/val/M1003_img000166.jpg: 352x640 11 cars, 1 truck, 7.7ms\n",
            "image 886/1294 /content/drive/MyDrive/night_object_detection/night_object_detection/images/val/M1003_img000170.jpg: 352x640 11 cars, 1 truck, 11.0ms\n",
            "image 887/1294 /content/drive/MyDrive/night_object_detection/night_object_detection/images/val/M1003_img000179.jpg: 352x640 11 cars, 1 truck, 8.0ms\n",
            "image 888/1294 /content/drive/MyDrive/night_object_detection/night_object_detection/images/val/M1003_img000187.jpg: 352x640 10 cars, 1 truck, 8.0ms\n",
            "image 889/1294 /content/drive/MyDrive/night_object_detection/night_object_detection/images/val/M1003_img000189.jpg: 352x640 10 cars, 1 truck, 7.7ms\n",
            "image 890/1294 /content/drive/MyDrive/night_object_detection/night_object_detection/images/val/M1003_img000194.jpg: 352x640 10 cars, 1 truck, 7.6ms\n",
            "image 891/1294 /content/drive/MyDrive/night_object_detection/night_object_detection/images/val/M1003_img000195.jpg: 352x640 9 cars, 1 truck, 7.5ms\n",
            "image 892/1294 /content/drive/MyDrive/night_object_detection/night_object_detection/images/val/M1003_img000202.jpg: 352x640 9 cars, 1 truck, 7.6ms\n",
            "image 893/1294 /content/drive/MyDrive/night_object_detection/night_object_detection/images/val/M1003_img000208.jpg: 352x640 9 cars, 1 truck, 7.9ms\n",
            "image 894/1294 /content/drive/MyDrive/night_object_detection/night_object_detection/images/val/M1003_img000216.jpg: 352x640 9 cars, 1 truck, 7.6ms\n",
            "image 895/1294 /content/drive/MyDrive/night_object_detection/night_object_detection/images/val/M1003_img000224.jpg: 352x640 8 cars, 7.3ms\n",
            "image 896/1294 /content/drive/MyDrive/night_object_detection/night_object_detection/images/val/M1003_img000228.jpg: 352x640 8 cars, 7.7ms\n",
            "image 897/1294 /content/drive/MyDrive/night_object_detection/night_object_detection/images/val/M1003_img000230.jpg: 352x640 8 cars, 7.7ms\n",
            "image 898/1294 /content/drive/MyDrive/night_object_detection/night_object_detection/images/val/M1003_img000231.jpg: 352x640 8 cars, 7.8ms\n",
            "image 899/1294 /content/drive/MyDrive/night_object_detection/night_object_detection/images/val/M1003_img000234.jpg: 352x640 8 cars, 8.1ms\n",
            "image 900/1294 /content/drive/MyDrive/night_object_detection/night_object_detection/images/val/M1003_img000235.jpg: 352x640 8 cars, 7.5ms\n",
            "image 901/1294 /content/drive/MyDrive/night_object_detection/night_object_detection/images/val/M1003_img000236.jpg: 352x640 8 cars, 7.5ms\n",
            "image 902/1294 /content/drive/MyDrive/night_object_detection/night_object_detection/images/val/M1003_img000255.jpg: 352x640 7 cars, 7.6ms\n",
            "image 903/1294 /content/drive/MyDrive/night_object_detection/night_object_detection/images/val/M1003_img000266.jpg: 352x640 7 cars, 7.8ms\n",
            "image 904/1294 /content/drive/MyDrive/night_object_detection/night_object_detection/images/val/M1003_img000267.jpg: 352x640 8 cars, 7.9ms\n",
            "image 905/1294 /content/drive/MyDrive/night_object_detection/night_object_detection/images/val/M1003_img000270.jpg: 352x640 8 cars, 7.5ms\n",
            "image 906/1294 /content/drive/MyDrive/night_object_detection/night_object_detection/images/val/M1003_img000273.jpg: 352x640 8 cars, 7.4ms\n",
            "image 907/1294 /content/drive/MyDrive/night_object_detection/night_object_detection/images/val/M1003_img000280.jpg: 352x640 8 cars, 7.4ms\n",
            "image 908/1294 /content/drive/MyDrive/night_object_detection/night_object_detection/images/val/M1003_img000285.jpg: 352x640 8 cars, 7.9ms\n",
            "image 909/1294 /content/drive/MyDrive/night_object_detection/night_object_detection/images/val/M1003_img000290.jpg: 352x640 8 cars, 7.6ms\n",
            "image 910/1294 /content/drive/MyDrive/night_object_detection/night_object_detection/images/val/M1003_img000300.jpg: 352x640 8 cars, 7.7ms\n",
            "image 911/1294 /content/drive/MyDrive/night_object_detection/night_object_detection/images/val/M1003_img000301.jpg: 352x640 9 cars, 7.5ms\n",
            "image 912/1294 /content/drive/MyDrive/night_object_detection/night_object_detection/images/val/M1003_img000307.jpg: 352x640 9 cars, 7.9ms\n",
            "image 913/1294 /content/drive/MyDrive/night_object_detection/night_object_detection/images/val/M1003_img000309.jpg: 352x640 9 cars, 7.5ms\n",
            "image 914/1294 /content/drive/MyDrive/night_object_detection/night_object_detection/images/val/M1003_img000310.jpg: 352x640 10 cars, 7.8ms\n",
            "image 915/1294 /content/drive/MyDrive/night_object_detection/night_object_detection/images/val/M1003_img000326.jpg: 352x640 10 cars, 7.6ms\n",
            "image 916/1294 /content/drive/MyDrive/night_object_detection/night_object_detection/images/val/M1003_img000332.jpg: 352x640 10 cars, 7.5ms\n",
            "image 917/1294 /content/drive/MyDrive/night_object_detection/night_object_detection/images/val/M1003_img000338.jpg: 352x640 10 cars, 7.5ms\n",
            "image 918/1294 /content/drive/MyDrive/night_object_detection/night_object_detection/images/val/M1003_img000341.jpg: 352x640 10 cars, 7.4ms\n",
            "image 919/1294 /content/drive/MyDrive/night_object_detection/night_object_detection/images/val/M1003_img000346.jpg: 352x640 10 cars, 7.4ms\n",
            "image 920/1294 /content/drive/MyDrive/night_object_detection/night_object_detection/images/val/M1003_img000353.jpg: 352x640 10 cars, 7.6ms\n",
            "image 921/1294 /content/drive/MyDrive/night_object_detection/night_object_detection/images/val/M1003_img000361.jpg: 352x640 10 cars, 7.5ms\n",
            "image 922/1294 /content/drive/MyDrive/night_object_detection/night_object_detection/images/val/M1003_img000362.jpg: 352x640 10 cars, 7.6ms\n",
            "image 923/1294 /content/drive/MyDrive/night_object_detection/night_object_detection/images/val/M1003_img000365.jpg: 352x640 10 cars, 7.5ms\n",
            "image 924/1294 /content/drive/MyDrive/night_object_detection/night_object_detection/images/val/M1003_img000381.jpg: 352x640 10 cars, 7.6ms\n",
            "image 925/1294 /content/drive/MyDrive/night_object_detection/night_object_detection/images/val/M1003_img000394.jpg: 352x640 10 cars, 7.6ms\n",
            "image 926/1294 /content/drive/MyDrive/night_object_detection/night_object_detection/images/val/M1003_img000395.jpg: 352x640 10 cars, 7.6ms\n",
            "image 927/1294 /content/drive/MyDrive/night_object_detection/night_object_detection/images/val/M1003_img000405.jpg: 352x640 10 cars, 7.5ms\n",
            "image 928/1294 /content/drive/MyDrive/night_object_detection/night_object_detection/images/val/M1003_img000411.jpg: 352x640 11 cars, 9.9ms\n",
            "image 929/1294 /content/drive/MyDrive/night_object_detection/night_object_detection/images/val/M1003_img000414.jpg: 352x640 11 cars, 9.6ms\n",
            "image 930/1294 /content/drive/MyDrive/night_object_detection/night_object_detection/images/val/M1003_img000426.jpg: 352x640 11 cars, 7.8ms\n",
            "image 931/1294 /content/drive/MyDrive/night_object_detection/night_object_detection/images/val/M1003_img000440.jpg: 352x640 11 cars, 7.5ms\n",
            "image 932/1294 /content/drive/MyDrive/night_object_detection/night_object_detection/images/val/M1003_img000443.jpg: 352x640 11 cars, 7.5ms\n",
            "image 933/1294 /content/drive/MyDrive/night_object_detection/night_object_detection/images/val/M1003_img000446.jpg: 352x640 11 cars, 7.4ms\n",
            "image 934/1294 /content/drive/MyDrive/night_object_detection/night_object_detection/images/val/M1003_img000452.jpg: 352x640 11 cars, 7.6ms\n",
            "image 935/1294 /content/drive/MyDrive/night_object_detection/night_object_detection/images/val/M1003_img000453.jpg: 352x640 11 cars, 8.0ms\n",
            "image 936/1294 /content/drive/MyDrive/night_object_detection/night_object_detection/images/val/M1003_img000454.jpg: 352x640 11 cars, 7.5ms\n",
            "image 937/1294 /content/drive/MyDrive/night_object_detection/night_object_detection/images/val/M1003_img000456.jpg: 352x640 11 cars, 7.5ms\n",
            "image 938/1294 /content/drive/MyDrive/night_object_detection/night_object_detection/images/val/M1003_img000466.jpg: 352x640 10 cars, 7.9ms\n",
            "image 939/1294 /content/drive/MyDrive/night_object_detection/night_object_detection/images/val/M1003_img000476.jpg: 352x640 12 cars, 7.5ms\n",
            "image 940/1294 /content/drive/MyDrive/night_object_detection/night_object_detection/images/val/M1003_img000484.jpg: 352x640 11 cars, 7.9ms\n",
            "image 941/1294 /content/drive/MyDrive/night_object_detection/night_object_detection/images/val/M1003_img000490.jpg: 352x640 11 cars, 7.8ms\n",
            "image 942/1294 /content/drive/MyDrive/night_object_detection/night_object_detection/images/val/M1003_img000494.jpg: 352x640 12 cars, 7.4ms\n",
            "image 943/1294 /content/drive/MyDrive/night_object_detection/night_object_detection/images/val/M1003_img000498.jpg: 352x640 12 cars, 7.3ms\n",
            "image 944/1294 /content/drive/MyDrive/night_object_detection/night_object_detection/images/val/M1003_img000505.jpg: 352x640 12 cars, 7.8ms\n",
            "image 945/1294 /content/drive/MyDrive/night_object_detection/night_object_detection/images/val/M1003_img000510.jpg: 352x640 12 cars, 7.8ms\n",
            "image 946/1294 /content/drive/MyDrive/night_object_detection/night_object_detection/images/val/M1003_img000511.jpg: 352x640 12 cars, 7.4ms\n",
            "image 947/1294 /content/drive/MyDrive/night_object_detection/night_object_detection/images/val/M1003_img000512.jpg: 352x640 13 cars, 7.5ms\n",
            "image 948/1294 /content/drive/MyDrive/night_object_detection/night_object_detection/images/val/M1003_img000522.jpg: 352x640 13 cars, 7.6ms\n",
            "image 949/1294 /content/drive/MyDrive/night_object_detection/night_object_detection/images/val/M1003_img000523.jpg: 352x640 13 cars, 7.7ms\n",
            "image 950/1294 /content/drive/MyDrive/night_object_detection/night_object_detection/images/val/M1003_img000529.jpg: 352x640 13 cars, 7.6ms\n",
            "image 951/1294 /content/drive/MyDrive/night_object_detection/night_object_detection/images/val/M1003_img000531.jpg: 352x640 13 cars, 7.5ms\n",
            "image 952/1294 /content/drive/MyDrive/night_object_detection/night_object_detection/images/val/M1003_img000536.jpg: 352x640 13 cars, 7.5ms\n",
            "image 953/1294 /content/drive/MyDrive/night_object_detection/night_object_detection/images/val/M1003_img000537.jpg: 352x640 13 cars, 7.8ms\n",
            "image 954/1294 /content/drive/MyDrive/night_object_detection/night_object_detection/images/val/M1003_img000544.jpg: 352x640 12 cars, 7.6ms\n",
            "image 955/1294 /content/drive/MyDrive/night_object_detection/night_object_detection/images/val/M1003_img000545.jpg: 352x640 12 cars, 7.5ms\n",
            "image 956/1294 /content/drive/MyDrive/night_object_detection/night_object_detection/images/val/M1003_img000551.jpg: 352x640 11 cars, 7.7ms\n",
            "image 957/1294 /content/drive/MyDrive/night_object_detection/night_object_detection/images/val/M1003_img000552.jpg: 352x640 11 cars, 7.8ms\n",
            "image 958/1294 /content/drive/MyDrive/night_object_detection/night_object_detection/images/val/M1003_img000554.jpg: 352x640 11 cars, 7.8ms\n",
            "image 959/1294 /content/drive/MyDrive/night_object_detection/night_object_detection/images/val/M1003_img000555.jpg: 352x640 11 cars, 7.8ms\n",
            "image 960/1294 /content/drive/MyDrive/night_object_detection/night_object_detection/images/val/M1003_img000560.jpg: 352x640 11 cars, 8.9ms\n",
            "image 961/1294 /content/drive/MyDrive/night_object_detection/night_object_detection/images/val/M1003_img000562.jpg: 352x640 11 cars, 7.8ms\n",
            "image 962/1294 /content/drive/MyDrive/night_object_detection/night_object_detection/images/val/M1003_img000567.jpg: 352x640 11 cars, 7.7ms\n",
            "image 963/1294 /content/drive/MyDrive/night_object_detection/night_object_detection/images/val/M1003_img000568.jpg: 352x640 11 cars, 7.7ms\n",
            "image 964/1294 /content/drive/MyDrive/night_object_detection/night_object_detection/images/val/M1003_img000578.jpg: 352x640 11 cars, 7.8ms\n",
            "image 965/1294 /content/drive/MyDrive/night_object_detection/night_object_detection/images/val/M1003_img000580.jpg: 352x640 11 cars, 7.4ms\n",
            "image 966/1294 /content/drive/MyDrive/night_object_detection/night_object_detection/images/val/M1003_img000581.jpg: 352x640 11 cars, 9.8ms\n",
            "image 967/1294 /content/drive/MyDrive/night_object_detection/night_object_detection/images/val/M1003_img000585.jpg: 352x640 9 cars, 7.6ms\n",
            "image 968/1294 /content/drive/MyDrive/night_object_detection/night_object_detection/images/val/M1003_img000586.jpg: 352x640 8 cars, 8.2ms\n",
            "image 969/1294 /content/drive/MyDrive/night_object_detection/night_object_detection/images/val/M1003_img000588.jpg: 352x640 8 cars, 7.8ms\n",
            "image 970/1294 /content/drive/MyDrive/night_object_detection/night_object_detection/images/val/M1003_img000589.jpg: 352x640 8 cars, 7.6ms\n",
            "image 971/1294 /content/drive/MyDrive/night_object_detection/night_object_detection/images/val/M1003_img000594.jpg: 352x640 8 cars, 7.5ms\n",
            "image 972/1294 /content/drive/MyDrive/night_object_detection/night_object_detection/images/val/M1003_img000600.jpg: 352x640 8 cars, 7.8ms\n",
            "image 973/1294 /content/drive/MyDrive/night_object_detection/night_object_detection/images/val/M1003_img000601.jpg: 352x640 8 cars, 7.9ms\n",
            "image 974/1294 /content/drive/MyDrive/night_object_detection/night_object_detection/images/val/M1003_img000613.jpg: 352x640 8 cars, 7.7ms\n",
            "image 975/1294 /content/drive/MyDrive/night_object_detection/night_object_detection/images/val/M1003_img000615.jpg: 352x640 8 cars, 9.3ms\n",
            "image 976/1294 /content/drive/MyDrive/night_object_detection/night_object_detection/images/val/M1003_img000618.jpg: 352x640 8 cars, 7.5ms\n",
            "image 977/1294 /content/drive/MyDrive/night_object_detection/night_object_detection/images/val/M1003_img000628.jpg: 352x640 8 cars, 7.4ms\n",
            "image 978/1294 /content/drive/MyDrive/night_object_detection/night_object_detection/images/val/M1003_img000630.jpg: 352x640 8 cars, 7.4ms\n",
            "image 979/1294 /content/drive/MyDrive/night_object_detection/night_object_detection/images/val/M1003_img000634.jpg: 352x640 8 cars, 7.6ms\n",
            "image 980/1294 /content/drive/MyDrive/night_object_detection/night_object_detection/images/val/M1003_img000639.jpg: 352x640 8 cars, 7.9ms\n",
            "image 981/1294 /content/drive/MyDrive/night_object_detection/night_object_detection/images/val/M1003_img000642.jpg: 352x640 8 cars, 7.8ms\n",
            "image 982/1294 /content/drive/MyDrive/night_object_detection/night_object_detection/images/val/M1003_img000646.jpg: 352x640 7 cars, 9.5ms\n",
            "image 983/1294 /content/drive/MyDrive/night_object_detection/night_object_detection/images/val/M1003_img000656.jpg: 352x640 7 cars, 8.0ms\n",
            "image 984/1294 /content/drive/MyDrive/night_object_detection/night_object_detection/images/val/M1003_img000659.jpg: 352x640 7 cars, 8.0ms\n",
            "image 985/1294 /content/drive/MyDrive/night_object_detection/night_object_detection/images/val/M1003_img000660.jpg: 352x640 7 cars, 7.7ms\n",
            "image 986/1294 /content/drive/MyDrive/night_object_detection/night_object_detection/images/val/M1003_img000662.jpg: 352x640 7 cars, 7.6ms\n",
            "image 987/1294 /content/drive/MyDrive/night_object_detection/night_object_detection/images/val/M1003_img000671.jpg: 352x640 7 cars, 7.8ms\n",
            "image 988/1294 /content/drive/MyDrive/night_object_detection/night_object_detection/images/val/M1003_img000673.jpg: 352x640 7 cars, 7.8ms\n",
            "image 989/1294 /content/drive/MyDrive/night_object_detection/night_object_detection/images/val/M1003_img000678.jpg: 352x640 7 cars, 7.7ms\n",
            "image 990/1294 /content/drive/MyDrive/night_object_detection/night_object_detection/images/val/M1003_img000688.jpg: 352x640 6 cars, 7.7ms\n",
            "image 991/1294 /content/drive/MyDrive/night_object_detection/night_object_detection/images/val/M1003_img000693.jpg: 352x640 6 cars, 7.4ms\n",
            "image 992/1294 /content/drive/MyDrive/night_object_detection/night_object_detection/images/val/M1003_img000696.jpg: 352x640 6 cars, 7.5ms\n",
            "image 993/1294 /content/drive/MyDrive/night_object_detection/night_object_detection/images/val/M1003_img000699.jpg: 352x640 6 cars, 7.5ms\n",
            "image 994/1294 /content/drive/MyDrive/night_object_detection/night_object_detection/images/val/M1003_img000701.jpg: 352x640 6 cars, 7.8ms\n",
            "image 995/1294 /content/drive/MyDrive/night_object_detection/night_object_detection/images/val/M1003_img000703.jpg: 352x640 6 cars, 7.4ms\n",
            "image 996/1294 /content/drive/MyDrive/night_object_detection/night_object_detection/images/val/M1003_img000708.jpg: 352x640 6 cars, 7.7ms\n",
            "image 997/1294 /content/drive/MyDrive/night_object_detection/night_object_detection/images/val/M1003_img000712.jpg: 352x640 6 cars, 7.3ms\n",
            "image 998/1294 /content/drive/MyDrive/night_object_detection/night_object_detection/images/val/M1003_img000714.jpg: 352x640 6 cars, 7.3ms\n",
            "image 999/1294 /content/drive/MyDrive/night_object_detection/night_object_detection/images/val/M1003_img000716.jpg: 352x640 6 cars, 7.4ms\n",
            "image 1000/1294 /content/drive/MyDrive/night_object_detection/night_object_detection/images/val/M1003_img000723.jpg: 352x640 6 cars, 7.5ms\n",
            "image 1001/1294 /content/drive/MyDrive/night_object_detection/night_object_detection/images/val/M1003_img000731.jpg: 352x640 6 cars, 7.6ms\n",
            "image 1002/1294 /content/drive/MyDrive/night_object_detection/night_object_detection/images/val/M1003_img000755.jpg: 352x640 6 cars, 7.6ms\n",
            "image 1003/1294 /content/drive/MyDrive/night_object_detection/night_object_detection/images/val/M1003_img000768.jpg: 352x640 6 cars, 7.7ms\n",
            "image 1004/1294 /content/drive/MyDrive/night_object_detection/night_object_detection/images/val/M1003_img000769.jpg: 352x640 6 cars, 7.4ms\n",
            "image 1005/1294 /content/drive/MyDrive/night_object_detection/night_object_detection/images/val/M1003_img000772.jpg: 352x640 6 cars, 7.5ms\n",
            "image 1006/1294 /content/drive/MyDrive/night_object_detection/night_object_detection/images/val/M1003_img000776.jpg: 352x640 6 cars, 7.5ms\n",
            "image 1007/1294 /content/drive/MyDrive/night_object_detection/night_object_detection/images/val/M1003_img000777.jpg: 352x640 6 cars, 7.5ms\n",
            "image 1008/1294 /content/drive/MyDrive/night_object_detection/night_object_detection/images/val/M1003_img000778.jpg: 352x640 6 cars, 7.5ms\n",
            "image 1009/1294 /content/drive/MyDrive/night_object_detection/night_object_detection/images/val/M1003_img000781.jpg: 352x640 6 cars, 7.5ms\n",
            "image 1010/1294 /content/drive/MyDrive/night_object_detection/night_object_detection/images/val/M1003_img000794.jpg: 352x640 6 cars, 7.7ms\n",
            "image 1011/1294 /content/drive/MyDrive/night_object_detection/night_object_detection/images/val/M1003_img000798.jpg: 352x640 6 cars, 7.6ms\n",
            "image 1012/1294 /content/drive/MyDrive/night_object_detection/night_object_detection/images/val/M1003_img000799.jpg: 352x640 6 cars, 7.5ms\n",
            "image 1013/1294 /content/drive/MyDrive/night_object_detection/night_object_detection/images/val/M1003_img000800.jpg: 352x640 6 cars, 7.5ms\n",
            "image 1014/1294 /content/drive/MyDrive/night_object_detection/night_object_detection/images/val/M1003_img000805.jpg: 352x640 6 cars, 7.7ms\n",
            "image 1015/1294 /content/drive/MyDrive/night_object_detection/night_object_detection/images/val/M1003_img000809.jpg: 352x640 6 cars, 7.8ms\n",
            "image 1016/1294 /content/drive/MyDrive/night_object_detection/night_object_detection/images/val/M1003_img000818.jpg: 352x640 6 cars, 7.8ms\n",
            "image 1017/1294 /content/drive/MyDrive/night_object_detection/night_object_detection/images/val/M1003_img000820.jpg: 352x640 6 cars, 7.6ms\n",
            "image 1018/1294 /content/drive/MyDrive/night_object_detection/night_object_detection/images/val/M1003_img000835.jpg: 352x640 6 cars, 7.9ms\n",
            "image 1019/1294 /content/drive/MyDrive/night_object_detection/night_object_detection/images/val/M1003_img000837.jpg: 352x640 6 cars, 7.6ms\n",
            "image 1020/1294 /content/drive/MyDrive/night_object_detection/night_object_detection/images/val/M1003_img000846.jpg: 352x640 8 cars, 9.6ms\n",
            "image 1021/1294 /content/drive/MyDrive/night_object_detection/night_object_detection/images/val/M1003_img000847.jpg: 352x640 8 cars, 8.0ms\n",
            "image 1022/1294 /content/drive/MyDrive/night_object_detection/night_object_detection/images/val/M1003_img000850.jpg: 352x640 8 cars, 7.8ms\n",
            "image 1023/1294 /content/drive/MyDrive/night_object_detection/night_object_detection/images/val/M1003_img000854.jpg: 352x640 8 cars, 7.8ms\n",
            "image 1024/1294 /content/drive/MyDrive/night_object_detection/night_object_detection/images/val/M1003_img000855.jpg: 352x640 8 cars, 7.8ms\n",
            "image 1025/1294 /content/drive/MyDrive/night_object_detection/night_object_detection/images/val/M1003_img000856.jpg: 352x640 8 cars, 7.3ms\n",
            "image 1026/1294 /content/drive/MyDrive/night_object_detection/night_object_detection/images/val/M1003_img000863.jpg: 352x640 9 cars, 7.7ms\n",
            "image 1027/1294 /content/drive/MyDrive/night_object_detection/night_object_detection/images/val/M1003_img000866.jpg: 352x640 9 cars, 7.6ms\n",
            "image 1028/1294 /content/drive/MyDrive/night_object_detection/night_object_detection/images/val/M1003_img000868.jpg: 352x640 9 cars, 8.1ms\n",
            "image 1029/1294 /content/drive/MyDrive/night_object_detection/night_object_detection/images/val/M1003_img000869.jpg: 352x640 8 cars, 7.9ms\n",
            "image 1030/1294 /content/drive/MyDrive/night_object_detection/night_object_detection/images/val/M1003_img000873.jpg: 352x640 11 cars, 7.6ms\n",
            "image 1031/1294 /content/drive/MyDrive/night_object_detection/night_object_detection/images/val/M1003_img000885.jpg: 352x640 8 cars, 8.0ms\n",
            "image 1032/1294 /content/drive/MyDrive/night_object_detection/night_object_detection/images/val/M1003_img000902.jpg: 352x640 10 cars, 7.8ms\n",
            "image 1033/1294 /content/drive/MyDrive/night_object_detection/night_object_detection/images/val/M1003_img000908.jpg: 352x640 9 cars, 7.5ms\n",
            "image 1034/1294 /content/drive/MyDrive/night_object_detection/night_object_detection/images/val/M1003_img000921.jpg: 352x640 10 cars, 7.7ms\n",
            "image 1035/1294 /content/drive/MyDrive/night_object_detection/night_object_detection/images/val/M1003_img000923.jpg: 352x640 10 cars, 9.4ms\n",
            "image 1036/1294 /content/drive/MyDrive/night_object_detection/night_object_detection/images/val/M1003_img000924.jpg: 352x640 9 cars, 9.5ms\n",
            "image 1037/1294 /content/drive/MyDrive/night_object_detection/night_object_detection/images/val/M1003_img000925.jpg: 352x640 9 cars, 9.4ms\n",
            "image 1038/1294 /content/drive/MyDrive/night_object_detection/night_object_detection/images/val/M1003_img000929.jpg: 352x640 9 cars, 7.3ms\n",
            "image 1039/1294 /content/drive/MyDrive/night_object_detection/night_object_detection/images/val/M1003_img000930.jpg: 352x640 10 cars, 7.3ms\n",
            "image 1040/1294 /content/drive/MyDrive/night_object_detection/night_object_detection/images/val/M1003_img000949.jpg: 352x640 9 cars, 7.4ms\n",
            "image 1041/1294 /content/drive/MyDrive/night_object_detection/night_object_detection/images/val/M1003_img000952.jpg: 352x640 9 cars, 7.4ms\n",
            "image 1042/1294 /content/drive/MyDrive/night_object_detection/night_object_detection/images/val/M1003_img000963.jpg: 352x640 9 cars, 7.3ms\n",
            "image 1043/1294 /content/drive/MyDrive/night_object_detection/night_object_detection/images/val/M1003_img000965.jpg: 352x640 9 cars, 7.5ms\n",
            "image 1044/1294 /content/drive/MyDrive/night_object_detection/night_object_detection/images/val/M1003_img000968.jpg: 352x640 9 cars, 7.4ms\n",
            "image 1045/1294 /content/drive/MyDrive/night_object_detection/night_object_detection/images/val/M1003_img000969.jpg: 352x640 9 cars, 7.3ms\n",
            "image 1046/1294 /content/drive/MyDrive/night_object_detection/night_object_detection/images/val/M1003_img000971.jpg: 352x640 10 cars, 7.7ms\n",
            "image 1047/1294 /content/drive/MyDrive/night_object_detection/night_object_detection/images/val/M1003_img000972.jpg: 352x640 10 cars, 7.7ms\n",
            "image 1048/1294 /content/drive/MyDrive/night_object_detection/night_object_detection/images/val/M1003_img000982.jpg: 352x640 10 cars, 7.6ms\n",
            "image 1049/1294 /content/drive/MyDrive/night_object_detection/night_object_detection/images/val/M1003_img000991.jpg: 352x640 10 cars, 7.6ms\n",
            "image 1050/1294 /content/drive/MyDrive/night_object_detection/night_object_detection/images/val/M1003_img001007.jpg: 352x640 10 cars, 7.7ms\n",
            "image 1051/1294 /content/drive/MyDrive/night_object_detection/night_object_detection/images/val/M1003_img001010.jpg: 352x640 9 cars, 7.4ms\n",
            "image 1052/1294 /content/drive/MyDrive/night_object_detection/night_object_detection/images/val/M1003_img001019.jpg: 352x640 10 cars, 7.5ms\n",
            "image 1053/1294 /content/drive/MyDrive/night_object_detection/night_object_detection/images/val/M1003_img001028.jpg: 352x640 10 cars, 7.5ms\n",
            "image 1054/1294 /content/drive/MyDrive/night_object_detection/night_object_detection/images/val/M1003_img001050.jpg: 352x640 10 cars, 7.5ms\n",
            "image 1055/1294 /content/drive/MyDrive/night_object_detection/night_object_detection/images/val/M1003_img001054.jpg: 352x640 10 cars, 7.9ms\n",
            "image 1056/1294 /content/drive/MyDrive/night_object_detection/night_object_detection/images/val/M1003_img001059.jpg: 352x640 10 cars, 7.8ms\n",
            "image 1057/1294 /content/drive/MyDrive/night_object_detection/night_object_detection/images/val/M1003_img001083.jpg: 352x640 10 cars, 7.9ms\n",
            "image 1058/1294 /content/drive/MyDrive/night_object_detection/night_object_detection/images/val/M1003_img001088.jpg: 352x640 10 cars, 7.3ms\n",
            "image 1059/1294 /content/drive/MyDrive/night_object_detection/night_object_detection/images/val/M1003_img001101.jpg: 352x640 10 cars, 7.3ms\n",
            "image 1060/1294 /content/drive/MyDrive/night_object_detection/night_object_detection/images/val/M1003_img001103.jpg: 352x640 10 cars, 8.0ms\n",
            "image 1061/1294 /content/drive/MyDrive/night_object_detection/night_object_detection/images/val/M1003_img001115.jpg: 352x640 10 cars, 7.6ms\n",
            "image 1062/1294 /content/drive/MyDrive/night_object_detection/night_object_detection/images/val/M1003_img001119.jpg: 352x640 10 cars, 7.5ms\n",
            "image 1063/1294 /content/drive/MyDrive/night_object_detection/night_object_detection/images/val/M1003_img001121.jpg: 352x640 10 cars, 7.9ms\n",
            "image 1064/1294 /content/drive/MyDrive/night_object_detection/night_object_detection/images/val/M1003_img001127.jpg: 352x640 10 cars, 7.5ms\n",
            "image 1065/1294 /content/drive/MyDrive/night_object_detection/night_object_detection/images/val/M1003_img001131.jpg: 352x640 9 cars, 7.4ms\n",
            "image 1066/1294 /content/drive/MyDrive/night_object_detection/night_object_detection/images/val/M1003_img001134.jpg: 352x640 10 cars, 7.5ms\n",
            "image 1067/1294 /content/drive/MyDrive/night_object_detection/night_object_detection/images/val/M1003_img001147.jpg: 352x640 11 cars, 7.4ms\n",
            "image 1068/1294 /content/drive/MyDrive/night_object_detection/night_object_detection/images/val/M1003_img001148.jpg: 352x640 11 cars, 7.4ms\n",
            "image 1069/1294 /content/drive/MyDrive/night_object_detection/night_object_detection/images/val/M1003_img001158.jpg: 352x640 10 cars, 7.6ms\n",
            "image 1070/1294 /content/drive/MyDrive/night_object_detection/night_object_detection/images/val/M1003_img001161.jpg: 352x640 10 cars, 7.5ms\n",
            "image 1071/1294 /content/drive/MyDrive/night_object_detection/night_object_detection/images/val/M1003_img001167.jpg: 352x640 9 cars, 7.4ms\n",
            "image 1072/1294 /content/drive/MyDrive/night_object_detection/night_object_detection/images/val/M1003_img001174.jpg: 352x640 9 cars, 7.3ms\n",
            "image 1073/1294 /content/drive/MyDrive/night_object_detection/night_object_detection/images/val/M1003_img001177.jpg: 352x640 9 cars, 7.7ms\n",
            "image 1074/1294 /content/drive/MyDrive/night_object_detection/night_object_detection/images/val/M1003_img001181.jpg: 352x640 9 cars, 7.4ms\n",
            "image 1075/1294 /content/drive/MyDrive/night_object_detection/night_object_detection/images/val/M1003_img001190.jpg: 352x640 9 cars, 7.4ms\n",
            "image 1076/1294 /content/drive/MyDrive/night_object_detection/night_object_detection/images/val/M1003_img001193.jpg: 352x640 8 cars, 7.4ms\n",
            "image 1077/1294 /content/drive/MyDrive/night_object_detection/night_object_detection/images/val/M1003_img001201.jpg: 352x640 8 cars, 9.4ms\n",
            "image 1078/1294 /content/drive/MyDrive/night_object_detection/night_object_detection/images/val/M1003_img001204.jpg: 352x640 7 cars, 7.5ms\n",
            "image 1079/1294 /content/drive/MyDrive/night_object_detection/night_object_detection/images/val/M1003_img001208.jpg: 352x640 8 cars, 1 bus, 7.5ms\n",
            "image 1080/1294 /content/drive/MyDrive/night_object_detection/night_object_detection/images/val/M1003_img001213.jpg: 352x640 8 cars, 1 bus, 7.4ms\n",
            "image 1081/1294 /content/drive/MyDrive/night_object_detection/night_object_detection/images/val/M1003_img001216.jpg: 352x640 7 cars, 1 bus, 7.4ms\n",
            "image 1082/1294 /content/drive/MyDrive/night_object_detection/night_object_detection/images/val/M1003_img001224.jpg: 352x640 5 cars, 1 bus, 7.4ms\n",
            "image 1083/1294 /content/drive/MyDrive/night_object_detection/night_object_detection/images/val/M1003_img001226.jpg: 352x640 5 cars, 1 bus, 7.5ms\n",
            "image 1084/1294 /content/drive/MyDrive/night_object_detection/night_object_detection/images/val/M1003_img001235.jpg: 352x640 6 cars, 1 bus, 7.6ms\n",
            "image 1085/1294 /content/drive/MyDrive/night_object_detection/night_object_detection/images/val/M1003_img001237.jpg: 352x640 6 cars, 1 bus, 7.6ms\n",
            "image 1086/1294 /content/drive/MyDrive/night_object_detection/night_object_detection/images/val/M1003_img001239.jpg: 352x640 7 cars, 1 bus, 7.4ms\n",
            "image 1087/1294 /content/drive/MyDrive/night_object_detection/night_object_detection/images/val/M1003_img001242.jpg: 352x640 7 cars, 1 bus, 7.8ms\n",
            "image 1088/1294 /content/drive/MyDrive/night_object_detection/night_object_detection/images/val/M1003_img001250.jpg: 352x640 7 cars, 1 bus, 7.5ms\n",
            "image 1089/1294 /content/drive/MyDrive/night_object_detection/night_object_detection/images/val/M1003_img001254.jpg: 352x640 6 cars, 1 bus, 7.7ms\n",
            "image 1090/1294 /content/drive/MyDrive/night_object_detection/night_object_detection/images/val/M1003_img001257.jpg: 352x640 8 cars, 1 bus, 7.6ms\n",
            "image 1091/1294 /content/drive/MyDrive/night_object_detection/night_object_detection/images/val/M1003_img001259.jpg: 352x640 8 cars, 1 bus, 7.6ms\n",
            "image 1092/1294 /content/drive/MyDrive/night_object_detection/night_object_detection/images/val/M1003_img001264.jpg: 352x640 7 cars, 1 bus, 7.7ms\n",
            "image 1093/1294 /content/drive/MyDrive/night_object_detection/night_object_detection/images/val/M1003_img001265.jpg: 352x640 7 cars, 1 bus, 8.0ms\n",
            "image 1094/1294 /content/drive/MyDrive/night_object_detection/night_object_detection/images/val/M1003_img001276.jpg: 352x640 8 cars, 1 bus, 8.1ms\n",
            "image 1095/1294 /content/drive/MyDrive/night_object_detection/night_object_detection/images/val/M1003_img001277.jpg: 352x640 7 cars, 1 bus, 7.7ms\n",
            "image 1096/1294 /content/drive/MyDrive/night_object_detection/night_object_detection/images/val/M1003_img001279.jpg: 352x640 6 cars, 1 bus, 7.6ms\n",
            "image 1097/1294 /content/drive/MyDrive/night_object_detection/night_object_detection/images/val/M1003_img001283.jpg: 352x640 7 cars, 1 bus, 7.7ms\n",
            "image 1098/1294 /content/drive/MyDrive/night_object_detection/night_object_detection/images/val/M1003_img001292.jpg: 352x640 8 cars, 1 bus, 7.8ms\n",
            "image 1099/1294 /content/drive/MyDrive/night_object_detection/night_object_detection/images/val/M1003_img001300.jpg: 352x640 9 cars, 1 bus, 7.8ms\n",
            "image 1100/1294 /content/drive/MyDrive/night_object_detection/night_object_detection/images/val/M1003_img001304.jpg: 352x640 8 cars, 1 bus, 7.7ms\n",
            "image 1101/1294 /content/drive/MyDrive/night_object_detection/night_object_detection/images/val/M1003_img001314.jpg: 352x640 7 cars, 1 bus, 7.6ms\n",
            "image 1102/1294 /content/drive/MyDrive/night_object_detection/night_object_detection/images/val/M1003_img001327.jpg: 352x640 7 cars, 1 bus, 7.6ms\n",
            "image 1103/1294 /content/drive/MyDrive/night_object_detection/night_object_detection/images/val/M1003_img001331.jpg: 352x640 7 cars, 1 bus, 7.9ms\n",
            "image 1104/1294 /content/drive/MyDrive/night_object_detection/night_object_detection/images/val/M1003_img001337.jpg: 352x640 7 cars, 1 bus, 7.6ms\n",
            "image 1105/1294 /content/drive/MyDrive/night_object_detection/night_object_detection/images/val/M1003_img001344.jpg: 352x640 8 cars, 1 bus, 7.9ms\n",
            "image 1106/1294 /content/drive/MyDrive/night_object_detection/night_object_detection/images/val/M1003_img001345.jpg: 352x640 9 cars, 1 bus, 9.1ms\n",
            "image 1107/1294 /content/drive/MyDrive/night_object_detection/night_object_detection/images/val/M1102_img000005.jpg: 352x640 15 cars, 9.0ms\n",
            "image 1108/1294 /content/drive/MyDrive/night_object_detection/night_object_detection/images/val/M1102_img000008.jpg: 352x640 15 cars, 7.6ms\n",
            "image 1109/1294 /content/drive/MyDrive/night_object_detection/night_object_detection/images/val/M1102_img000016.jpg: 352x640 15 cars, 7.9ms\n",
            "image 1110/1294 /content/drive/MyDrive/night_object_detection/night_object_detection/images/val/M1102_img000018.jpg: 352x640 15 cars, 7.6ms\n",
            "image 1111/1294 /content/drive/MyDrive/night_object_detection/night_object_detection/images/val/M1102_img000021.jpg: 352x640 15 cars, 8.3ms\n",
            "image 1112/1294 /content/drive/MyDrive/night_object_detection/night_object_detection/images/val/M1102_img000024.jpg: 352x640 15 cars, 7.8ms\n",
            "image 1113/1294 /content/drive/MyDrive/night_object_detection/night_object_detection/images/val/M1102_img000027.jpg: 352x640 15 cars, 8.0ms\n",
            "image 1114/1294 /content/drive/MyDrive/night_object_detection/night_object_detection/images/val/M1102_img000032.jpg: 352x640 15 cars, 7.7ms\n",
            "image 1115/1294 /content/drive/MyDrive/night_object_detection/night_object_detection/images/val/M1102_img000041.jpg: 352x640 15 cars, 7.7ms\n",
            "image 1116/1294 /content/drive/MyDrive/night_object_detection/night_object_detection/images/val/M1102_img000044.jpg: 352x640 15 cars, 7.4ms\n",
            "image 1117/1294 /content/drive/MyDrive/night_object_detection/night_object_detection/images/val/M1102_img000056.jpg: 352x640 15 cars, 7.8ms\n",
            "image 1118/1294 /content/drive/MyDrive/night_object_detection/night_object_detection/images/val/M1102_img000057.jpg: 352x640 15 cars, 7.6ms\n",
            "image 1119/1294 /content/drive/MyDrive/night_object_detection/night_object_detection/images/val/M1102_img000059.jpg: 352x640 15 cars, 9.0ms\n",
            "image 1120/1294 /content/drive/MyDrive/night_object_detection/night_object_detection/images/val/M1102_img000068.jpg: 352x640 15 cars, 7.6ms\n",
            "image 1121/1294 /content/drive/MyDrive/night_object_detection/night_object_detection/images/val/M1102_img000069.jpg: 352x640 15 cars, 7.8ms\n",
            "image 1122/1294 /content/drive/MyDrive/night_object_detection/night_object_detection/images/val/M1102_img000073.jpg: 352x640 15 cars, 8.1ms\n",
            "image 1123/1294 /content/drive/MyDrive/night_object_detection/night_object_detection/images/val/M1102_img000074.jpg: 352x640 15 cars, 7.8ms\n",
            "image 1124/1294 /content/drive/MyDrive/night_object_detection/night_object_detection/images/val/M1102_img000075.jpg: 352x640 15 cars, 7.8ms\n",
            "image 1125/1294 /content/drive/MyDrive/night_object_detection/night_object_detection/images/val/M1102_img000090.jpg: 352x640 16 cars, 7.9ms\n",
            "image 1126/1294 /content/drive/MyDrive/night_object_detection/night_object_detection/images/val/M1102_img000094.jpg: 352x640 16 cars, 7.7ms\n",
            "image 1127/1294 /content/drive/MyDrive/night_object_detection/night_object_detection/images/val/M1102_img000096.jpg: 352x640 15 cars, 7.8ms\n",
            "image 1128/1294 /content/drive/MyDrive/night_object_detection/night_object_detection/images/val/M1102_img000104.jpg: 352x640 15 cars, 8.0ms\n",
            "image 1129/1294 /content/drive/MyDrive/night_object_detection/night_object_detection/images/val/M1102_img000105.jpg: 352x640 15 cars, 8.7ms\n",
            "image 1130/1294 /content/drive/MyDrive/night_object_detection/night_object_detection/images/val/M1102_img000112.jpg: 352x640 15 cars, 7.7ms\n",
            "image 1131/1294 /content/drive/MyDrive/night_object_detection/night_object_detection/images/val/M1102_img000114.jpg: 352x640 15 cars, 7.7ms\n",
            "image 1132/1294 /content/drive/MyDrive/night_object_detection/night_object_detection/images/val/M1102_img000120.jpg: 352x640 15 cars, 7.8ms\n",
            "image 1133/1294 /content/drive/MyDrive/night_object_detection/night_object_detection/images/val/M1102_img000123.jpg: 352x640 16 cars, 7.9ms\n",
            "image 1134/1294 /content/drive/MyDrive/night_object_detection/night_object_detection/images/val/M1102_img000127.jpg: 352x640 16 cars, 8.0ms\n",
            "image 1135/1294 /content/drive/MyDrive/night_object_detection/night_object_detection/images/val/M1102_img000133.jpg: 352x640 16 cars, 7.9ms\n",
            "image 1136/1294 /content/drive/MyDrive/night_object_detection/night_object_detection/images/val/M1102_img000138.jpg: 352x640 16 cars, 7.8ms\n",
            "image 1137/1294 /content/drive/MyDrive/night_object_detection/night_object_detection/images/val/M1102_img000141.jpg: 352x640 16 cars, 7.7ms\n",
            "image 1138/1294 /content/drive/MyDrive/night_object_detection/night_object_detection/images/val/M1102_img000146.jpg: 352x640 16 cars, 7.8ms\n",
            "image 1139/1294 /content/drive/MyDrive/night_object_detection/night_object_detection/images/val/M1102_img000153.jpg: 352x640 16 cars, 7.7ms\n",
            "image 1140/1294 /content/drive/MyDrive/night_object_detection/night_object_detection/images/val/M1102_img000158.jpg: 352x640 16 cars, 7.4ms\n",
            "image 1141/1294 /content/drive/MyDrive/night_object_detection/night_object_detection/images/val/M1102_img000166.jpg: 352x640 16 cars, 7.7ms\n",
            "image 1142/1294 /content/drive/MyDrive/night_object_detection/night_object_detection/images/val/M1102_img000178.jpg: 352x640 15 cars, 7.5ms\n",
            "image 1143/1294 /content/drive/MyDrive/night_object_detection/night_object_detection/images/val/M1102_img000188.jpg: 352x640 15 cars, 7.7ms\n",
            "image 1144/1294 /content/drive/MyDrive/night_object_detection/night_object_detection/images/val/M1102_img000191.jpg: 352x640 15 cars, 7.9ms\n",
            "image 1145/1294 /content/drive/MyDrive/night_object_detection/night_object_detection/images/val/M1102_img000202.jpg: 352x640 16 cars, 8.0ms\n",
            "image 1146/1294 /content/drive/MyDrive/night_object_detection/night_object_detection/images/val/M1102_img000205.jpg: 352x640 16 cars, 7.5ms\n",
            "image 1147/1294 /content/drive/MyDrive/night_object_detection/night_object_detection/images/val/M1102_img000214.jpg: 352x640 16 cars, 7.8ms\n",
            "image 1148/1294 /content/drive/MyDrive/night_object_detection/night_object_detection/images/val/M1102_img000215.jpg: 352x640 16 cars, 9.6ms\n",
            "image 1149/1294 /content/drive/MyDrive/night_object_detection/night_object_detection/images/val/M1102_img000220.jpg: 352x640 16 cars, 7.8ms\n",
            "image 1150/1294 /content/drive/MyDrive/night_object_detection/night_object_detection/images/val/M1102_img000229.jpg: 352x640 16 cars, 7.5ms\n",
            "image 1151/1294 /content/drive/MyDrive/night_object_detection/night_object_detection/images/val/M1102_img000251.jpg: 352x640 17 cars, 7.4ms\n",
            "image 1152/1294 /content/drive/MyDrive/night_object_detection/night_object_detection/images/val/M1102_img000252.jpg: 352x640 17 cars, 8.0ms\n",
            "image 1153/1294 /content/drive/MyDrive/night_object_detection/night_object_detection/images/val/M1102_img000254.jpg: 352x640 17 cars, 7.6ms\n",
            "image 1154/1294 /content/drive/MyDrive/night_object_detection/night_object_detection/images/val/M1102_img000255.jpg: 352x640 17 cars, 7.6ms\n",
            "image 1155/1294 /content/drive/MyDrive/night_object_detection/night_object_detection/images/val/M1102_img000265.jpg: 352x640 18 cars, 7.6ms\n",
            "image 1156/1294 /content/drive/MyDrive/night_object_detection/night_object_detection/images/val/M1102_img000266.jpg: 352x640 18 cars, 7.6ms\n",
            "image 1157/1294 /content/drive/MyDrive/night_object_detection/night_object_detection/images/val/M1102_img000277.jpg: 352x640 20 cars, 7.8ms\n",
            "image 1158/1294 /content/drive/MyDrive/night_object_detection/night_object_detection/images/val/M1102_img000282.jpg: 352x640 20 cars, 9.1ms\n",
            "image 1159/1294 /content/drive/MyDrive/night_object_detection/night_object_detection/images/val/M1102_img000289.jpg: 352x640 20 cars, 7.9ms\n",
            "image 1160/1294 /content/drive/MyDrive/night_object_detection/night_object_detection/images/val/M1102_img000298.jpg: 352x640 19 cars, 7.9ms\n",
            "image 1161/1294 /content/drive/MyDrive/night_object_detection/night_object_detection/images/val/M1102_img000304.jpg: 352x640 20 cars, 7.9ms\n",
            "image 1162/1294 /content/drive/MyDrive/night_object_detection/night_object_detection/images/val/M1102_img000306.jpg: 352x640 21 cars, 7.9ms\n",
            "image 1163/1294 /content/drive/MyDrive/night_object_detection/night_object_detection/images/val/M1102_img000315.jpg: 352x640 21 cars, 7.7ms\n",
            "image 1164/1294 /content/drive/MyDrive/night_object_detection/night_object_detection/images/val/M1102_img000325.jpg: 352x640 21 cars, 7.6ms\n",
            "image 1165/1294 /content/drive/MyDrive/night_object_detection/night_object_detection/images/val/M1102_img000326.jpg: 352x640 21 cars, 7.6ms\n",
            "image 1166/1294 /content/drive/MyDrive/night_object_detection/night_object_detection/images/val/M1102_img000328.jpg: 352x640 21 cars, 8.0ms\n",
            "image 1167/1294 /content/drive/MyDrive/night_object_detection/night_object_detection/images/val/M1102_img000339.jpg: 352x640 21 cars, 7.7ms\n",
            "image 1168/1294 /content/drive/MyDrive/night_object_detection/night_object_detection/images/val/M1102_img000341.jpg: 352x640 21 cars, 8.2ms\n",
            "image 1169/1294 /content/drive/MyDrive/night_object_detection/night_object_detection/images/val/M1102_img000344.jpg: 352x640 21 cars, 7.7ms\n",
            "image 1170/1294 /content/drive/MyDrive/night_object_detection/night_object_detection/images/val/M1102_img000345.jpg: 352x640 21 cars, 8.0ms\n",
            "image 1171/1294 /content/drive/MyDrive/night_object_detection/night_object_detection/images/val/M1102_img000348.jpg: 352x640 21 cars, 7.7ms\n",
            "image 1172/1294 /content/drive/MyDrive/night_object_detection/night_object_detection/images/val/M1102_img000355.jpg: 352x640 21 cars, 7.9ms\n",
            "image 1173/1294 /content/drive/MyDrive/night_object_detection/night_object_detection/images/val/M1102_img000356.jpg: 352x640 20 cars, 7.5ms\n",
            "image 1174/1294 /content/drive/MyDrive/night_object_detection/night_object_detection/images/val/M1102_img000358.jpg: 352x640 20 cars, 8.0ms\n",
            "image 1175/1294 /content/drive/MyDrive/night_object_detection/night_object_detection/images/val/M1102_img000360.jpg: 352x640 20 cars, 7.9ms\n",
            "image 1176/1294 /content/drive/MyDrive/night_object_detection/night_object_detection/images/val/M1102_img000369.jpg: 352x640 20 cars, 8.1ms\n",
            "image 1177/1294 /content/drive/MyDrive/night_object_detection/night_object_detection/images/val/M1102_img000376.jpg: 352x640 20 cars, 8.0ms\n",
            "image 1178/1294 /content/drive/MyDrive/night_object_detection/night_object_detection/images/val/M1102_img000377.jpg: 352x640 20 cars, 7.6ms\n",
            "image 1179/1294 /content/drive/MyDrive/night_object_detection/night_object_detection/images/val/M1102_img000382.jpg: 352x640 20 cars, 7.6ms\n",
            "image 1180/1294 /content/drive/MyDrive/night_object_detection/night_object_detection/images/val/M1102_img000385.jpg: 352x640 20 cars, 8.0ms\n",
            "image 1181/1294 /content/drive/MyDrive/night_object_detection/night_object_detection/images/val/M1102_img000397.jpg: 352x640 21 cars, 7.7ms\n",
            "image 1182/1294 /content/drive/MyDrive/night_object_detection/night_object_detection/images/val/M1102_img000402.jpg: 352x640 20 cars, 7.6ms\n",
            "image 1183/1294 /content/drive/MyDrive/night_object_detection/night_object_detection/images/val/M1102_img000413.jpg: 352x640 21 cars, 7.6ms\n",
            "image 1184/1294 /content/drive/MyDrive/night_object_detection/night_object_detection/images/val/M1102_img000428.jpg: 352x640 21 cars, 7.5ms\n",
            "image 1185/1294 /content/drive/MyDrive/night_object_detection/night_object_detection/images/val/M1102_img000436.jpg: 352x640 21 cars, 7.9ms\n",
            "image 1186/1294 /content/drive/MyDrive/night_object_detection/night_object_detection/images/val/M1102_img000442.jpg: 352x640 21 cars, 8.1ms\n",
            "image 1187/1294 /content/drive/MyDrive/night_object_detection/night_object_detection/images/val/M1102_img000451.jpg: 352x640 22 cars, 8.1ms\n",
            "image 1188/1294 /content/drive/MyDrive/night_object_detection/night_object_detection/images/val/M1102_img000454.jpg: 352x640 22 cars, 8.1ms\n",
            "image 1189/1294 /content/drive/MyDrive/night_object_detection/night_object_detection/images/val/M1102_img000456.jpg: 352x640 22 cars, 7.7ms\n",
            "image 1190/1294 /content/drive/MyDrive/night_object_detection/night_object_detection/images/val/M1102_img000462.jpg: 352x640 21 cars, 9.0ms\n",
            "image 1191/1294 /content/drive/MyDrive/night_object_detection/night_object_detection/images/val/M1102_img000469.jpg: 352x640 21 cars, 7.8ms\n",
            "image 1192/1294 /content/drive/MyDrive/night_object_detection/night_object_detection/images/val/M1102_img000470.jpg: 352x640 21 cars, 7.8ms\n",
            "image 1193/1294 /content/drive/MyDrive/night_object_detection/night_object_detection/images/val/M1102_img000473.jpg: 352x640 22 cars, 7.6ms\n",
            "image 1194/1294 /content/drive/MyDrive/night_object_detection/night_object_detection/images/val/M1102_img000478.jpg: 352x640 22 cars, 7.7ms\n",
            "image 1195/1294 /content/drive/MyDrive/night_object_detection/night_object_detection/images/val/M1102_img000480.jpg: 352x640 23 cars, 7.6ms\n",
            "image 1196/1294 /content/drive/MyDrive/night_object_detection/night_object_detection/images/val/M1102_img000486.jpg: 352x640 24 cars, 9.4ms\n",
            "image 1197/1294 /content/drive/MyDrive/night_object_detection/night_object_detection/images/val/M1102_img000494.jpg: 352x640 23 cars, 8.0ms\n",
            "image 1198/1294 /content/drive/MyDrive/night_object_detection/night_object_detection/images/val/M1102_img000496.jpg: 352x640 23 cars, 7.8ms\n",
            "image 1199/1294 /content/drive/MyDrive/night_object_detection/night_object_detection/images/val/M1102_img000498.jpg: 352x640 23 cars, 7.5ms\n",
            "image 1200/1294 /content/drive/MyDrive/night_object_detection/night_object_detection/images/val/M1102_img000500.jpg: 352x640 23 cars, 7.4ms\n",
            "image 1201/1294 /content/drive/MyDrive/night_object_detection/night_object_detection/images/val/M1102_img000503.jpg: 352x640 23 cars, 7.5ms\n",
            "image 1202/1294 /content/drive/MyDrive/night_object_detection/night_object_detection/images/val/M1102_img000509.jpg: 352x640 23 cars, 7.7ms\n",
            "image 1203/1294 /content/drive/MyDrive/night_object_detection/night_object_detection/images/val/M1102_img000512.jpg: 352x640 23 cars, 7.5ms\n",
            "image 1204/1294 /content/drive/MyDrive/night_object_detection/night_object_detection/images/val/M1102_img000521.jpg: 352x640 23 cars, 7.4ms\n",
            "image 1205/1294 /content/drive/MyDrive/night_object_detection/night_object_detection/images/val/M1102_img000530.jpg: 352x640 23 cars, 9.3ms\n",
            "image 1206/1294 /content/drive/MyDrive/night_object_detection/night_object_detection/images/val/M1102_img000559.jpg: 352x640 24 cars, 9.2ms\n",
            "image 1207/1294 /content/drive/MyDrive/night_object_detection/night_object_detection/images/val/M1102_img000560.jpg: 352x640 24 cars, 7.7ms\n",
            "image 1208/1294 /content/drive/MyDrive/night_object_detection/night_object_detection/images/val/M1102_img000569.jpg: 352x640 25 cars, 7.5ms\n",
            "image 1209/1294 /content/drive/MyDrive/night_object_detection/night_object_detection/images/val/M1102_img000572.jpg: 352x640 25 cars, 7.4ms\n",
            "image 1210/1294 /content/drive/MyDrive/night_object_detection/night_object_detection/images/val/M1102_img000585.jpg: 352x640 25 cars, 7.5ms\n",
            "image 1211/1294 /content/drive/MyDrive/night_object_detection/night_object_detection/images/val/M1102_img000590.jpg: 352x640 26 cars, 7.4ms\n",
            "image 1212/1294 /content/drive/MyDrive/night_object_detection/night_object_detection/images/val/M1102_img000592.jpg: 352x640 26 cars, 7.3ms\n",
            "image 1213/1294 /content/drive/MyDrive/night_object_detection/night_object_detection/images/val/M1102_img000597.jpg: 352x640 26 cars, 7.8ms\n",
            "image 1214/1294 /content/drive/MyDrive/night_object_detection/night_object_detection/images/val/M1102_img000600.jpg: 352x640 27 cars, 7.3ms\n",
            "image 1215/1294 /content/drive/MyDrive/night_object_detection/night_object_detection/images/val/M1102_img000608.jpg: 352x640 27 cars, 7.2ms\n",
            "image 1216/1294 /content/drive/MyDrive/night_object_detection/night_object_detection/images/val/M1102_img000613.jpg: 352x640 27 cars, 7.4ms\n",
            "image 1217/1294 /content/drive/MyDrive/night_object_detection/night_object_detection/images/val/M1102_img000614.jpg: 352x640 27 cars, 7.7ms\n",
            "image 1218/1294 /content/drive/MyDrive/night_object_detection/night_object_detection/images/val/M1102_img000619.jpg: 352x640 27 cars, 7.6ms\n",
            "image 1219/1294 /content/drive/MyDrive/night_object_detection/night_object_detection/images/val/M1102_img000625.jpg: 352x640 27 cars, 7.9ms\n",
            "image 1220/1294 /content/drive/MyDrive/night_object_detection/night_object_detection/images/val/M1102_img000628.jpg: 352x640 27 cars, 7.5ms\n",
            "image 1221/1294 /content/drive/MyDrive/night_object_detection/night_object_detection/images/val/M1102_img000634.jpg: 352x640 28 cars, 7.4ms\n",
            "image 1222/1294 /content/drive/MyDrive/night_object_detection/night_object_detection/images/val/M1102_img000644.jpg: 352x640 29 cars, 7.7ms\n",
            "image 1223/1294 /content/drive/MyDrive/night_object_detection/night_object_detection/images/val/M1102_img000645.jpg: 352x640 29 cars, 7.9ms\n",
            "image 1224/1294 /content/drive/MyDrive/night_object_detection/night_object_detection/images/val/M1102_img000650.jpg: 352x640 29 cars, 7.6ms\n",
            "image 1225/1294 /content/drive/MyDrive/night_object_detection/night_object_detection/images/val/M1102_img000653.jpg: 352x640 29 cars, 7.4ms\n",
            "image 1226/1294 /content/drive/MyDrive/night_object_detection/night_object_detection/images/val/M1102_img000657.jpg: 352x640 29 cars, 7.8ms\n",
            "image 1227/1294 /content/drive/MyDrive/night_object_detection/night_object_detection/images/val/M1102_img000661.jpg: 352x640 29 cars, 7.4ms\n",
            "image 1228/1294 /content/drive/MyDrive/night_object_detection/night_object_detection/images/val/M1102_img000666.jpg: 352x640 29 cars, 7.4ms\n",
            "image 1229/1294 /content/drive/MyDrive/night_object_detection/night_object_detection/images/val/M1102_img000667.jpg: 352x640 29 cars, 7.7ms\n",
            "image 1230/1294 /content/drive/MyDrive/night_object_detection/night_object_detection/images/val/M1102_img000673.jpg: 352x640 29 cars, 7.4ms\n",
            "image 1231/1294 /content/drive/MyDrive/night_object_detection/night_object_detection/images/val/M1102_img000680.jpg: 352x640 29 cars, 7.9ms\n",
            "image 1232/1294 /content/drive/MyDrive/night_object_detection/night_object_detection/images/val/M1102_img000685.jpg: 352x640 30 cars, 8.3ms\n",
            "image 1233/1294 /content/drive/MyDrive/night_object_detection/night_object_detection/images/val/M1102_img000686.jpg: 352x640 30 cars, 7.9ms\n",
            "image 1234/1294 /content/drive/MyDrive/night_object_detection/night_object_detection/images/val/M1102_img000689.jpg: 352x640 30 cars, 8.7ms\n",
            "image 1235/1294 /content/drive/MyDrive/night_object_detection/night_object_detection/images/val/M1102_img000700.jpg: 352x640 30 cars, 7.8ms\n",
            "image 1236/1294 /content/drive/MyDrive/night_object_detection/night_object_detection/images/val/M1102_img000702.jpg: 352x640 31 cars, 7.7ms\n",
            "image 1237/1294 /content/drive/MyDrive/night_object_detection/night_object_detection/images/val/M1102_img000708.jpg: 352x640 31 cars, 7.7ms\n",
            "image 1238/1294 /content/drive/MyDrive/night_object_detection/night_object_detection/images/val/M1102_img000714.jpg: 352x640 30 cars, 7.6ms\n",
            "image 1239/1294 /content/drive/MyDrive/night_object_detection/night_object_detection/images/val/M1102_img000727.jpg: 352x640 30 cars, 7.6ms\n",
            "image 1240/1294 /content/drive/MyDrive/night_object_detection/night_object_detection/images/val/M1102_img000729.jpg: 352x640 30 cars, 7.6ms\n",
            "image 1241/1294 /content/drive/MyDrive/night_object_detection/night_object_detection/images/val/M1102_img000733.jpg: 352x640 30 cars, 7.6ms\n",
            "image 1242/1294 /content/drive/MyDrive/night_object_detection/night_object_detection/images/val/M1102_img000737.jpg: 352x640 31 cars, 7.5ms\n",
            "image 1243/1294 /content/drive/MyDrive/night_object_detection/night_object_detection/images/val/M1102_img000748.jpg: 352x640 34 cars, 8.0ms\n",
            "image 1244/1294 /content/drive/MyDrive/night_object_detection/night_object_detection/images/val/M1102_img000760.jpg: 352x640 35 cars, 7.9ms\n",
            "image 1245/1294 /content/drive/MyDrive/night_object_detection/night_object_detection/images/val/M1102_img000764.jpg: 352x640 37 cars, 7.9ms\n",
            "image 1246/1294 /content/drive/MyDrive/night_object_detection/night_object_detection/images/val/M1102_img000765.jpg: 352x640 37 cars, 7.4ms\n",
            "image 1247/1294 /content/drive/MyDrive/night_object_detection/night_object_detection/images/val/M1102_img000766.jpg: 352x640 37 cars, 7.5ms\n",
            "image 1248/1294 /content/drive/MyDrive/night_object_detection/night_object_detection/images/val/M1102_img000768.jpg: 352x640 37 cars, 8.1ms\n",
            "image 1249/1294 /content/drive/MyDrive/night_object_detection/night_object_detection/images/val/M1102_img000772.jpg: 352x640 38 cars, 8.1ms\n",
            "image 1250/1294 /content/drive/MyDrive/night_object_detection/night_object_detection/images/val/M1102_img000773.jpg: 352x640 38 cars, 7.6ms\n",
            "image 1251/1294 /content/drive/MyDrive/night_object_detection/night_object_detection/images/val/M1102_img000775.jpg: 352x640 38 cars, 8.2ms\n",
            "image 1252/1294 /content/drive/MyDrive/night_object_detection/night_object_detection/images/val/M1102_img000777.jpg: 352x640 39 cars, 7.4ms\n",
            "image 1253/1294 /content/drive/MyDrive/night_object_detection/night_object_detection/images/val/M1102_img000779.jpg: 352x640 39 cars, 7.8ms\n",
            "image 1254/1294 /content/drive/MyDrive/night_object_detection/night_object_detection/images/val/M1102_img000781.jpg: 352x640 39 cars, 7.4ms\n",
            "image 1255/1294 /content/drive/MyDrive/night_object_detection/night_object_detection/images/val/M1102_img000788.jpg: 352x640 41 cars, 7.6ms\n",
            "image 1256/1294 /content/drive/MyDrive/night_object_detection/night_object_detection/images/val/M1102_img000789.jpg: 352x640 41 cars, 7.7ms\n",
            "image 1257/1294 /content/drive/MyDrive/night_object_detection/night_object_detection/images/val/M1102_img000800.jpg: 352x640 42 cars, 7.7ms\n",
            "image 1258/1294 /content/drive/MyDrive/night_object_detection/night_object_detection/images/val/M1102_img000802.jpg: 352x640 43 cars, 8.0ms\n",
            "image 1259/1294 /content/drive/MyDrive/night_object_detection/night_object_detection/images/val/M1102_img000808.jpg: 352x640 43 cars, 7.9ms\n",
            "image 1260/1294 /content/drive/MyDrive/night_object_detection/night_object_detection/images/val/M1102_img000815.jpg: 352x640 43 cars, 7.8ms\n",
            "image 1261/1294 /content/drive/MyDrive/night_object_detection/night_object_detection/images/val/M1102_img000816.jpg: 352x640 44 cars, 8.0ms\n",
            "image 1262/1294 /content/drive/MyDrive/night_object_detection/night_object_detection/images/val/M1102_img000819.jpg: 352x640 44 cars, 7.9ms\n",
            "image 1263/1294 /content/drive/MyDrive/night_object_detection/night_object_detection/images/val/M1102_img000822.jpg: 352x640 44 cars, 7.6ms\n",
            "image 1264/1294 /content/drive/MyDrive/night_object_detection/night_object_detection/images/val/M1102_img000826.jpg: 352x640 43 cars, 7.5ms\n",
            "image 1265/1294 /content/drive/MyDrive/night_object_detection/night_object_detection/images/val/M1102_img000832.jpg: 352x640 44 cars, 7.6ms\n",
            "image 1266/1294 /content/drive/MyDrive/night_object_detection/night_object_detection/images/val/M1102_img000834.jpg: 352x640 44 cars, 7.8ms\n",
            "image 1267/1294 /content/drive/MyDrive/night_object_detection/night_object_detection/images/val/M1102_img000835.jpg: 352x640 44 cars, 7.8ms\n",
            "image 1268/1294 /content/drive/MyDrive/night_object_detection/night_object_detection/images/val/M1102_img000857.jpg: 352x640 41 cars, 7.7ms\n",
            "image 1269/1294 /content/drive/MyDrive/night_object_detection/night_object_detection/images/val/M1102_img000861.jpg: 352x640 42 cars, 8.9ms\n",
            "image 1270/1294 /content/drive/MyDrive/night_object_detection/night_object_detection/images/val/M1102_img000864.jpg: 352x640 42 cars, 7.6ms\n",
            "image 1271/1294 /content/drive/MyDrive/night_object_detection/night_object_detection/images/val/M1102_img000865.jpg: 352x640 42 cars, 8.1ms\n",
            "image 1272/1294 /content/drive/MyDrive/night_object_detection/night_object_detection/images/val/M1102_img000871.jpg: 352x640 42 cars, 8.4ms\n",
            "image 1273/1294 /content/drive/MyDrive/night_object_detection/night_object_detection/images/val/M1102_img000873.jpg: 352x640 43 cars, 8.2ms\n",
            "image 1274/1294 /content/drive/MyDrive/night_object_detection/night_object_detection/images/val/M1102_img000875.jpg: 352x640 42 cars, 8.1ms\n",
            "image 1275/1294 /content/drive/MyDrive/night_object_detection/night_object_detection/images/val/M1102_img000879.jpg: 352x640 41 cars, 1 bus, 8.1ms\n",
            "image 1276/1294 /content/drive/MyDrive/night_object_detection/night_object_detection/images/val/M1102_img000880.jpg: 352x640 41 cars, 1 bus, 8.0ms\n",
            "image 1277/1294 /content/drive/MyDrive/night_object_detection/night_object_detection/images/val/M1102_img000885.jpg: 352x640 43 cars, 1 bus, 8.1ms\n",
            "image 1278/1294 /content/drive/MyDrive/night_object_detection/night_object_detection/images/val/M1102_img000886.jpg: 352x640 43 cars, 1 bus, 8.1ms\n",
            "image 1279/1294 /content/drive/MyDrive/night_object_detection/night_object_detection/images/val/M1102_img000890.jpg: 352x640 43 cars, 1 bus, 7.6ms\n",
            "image 1280/1294 /content/drive/MyDrive/night_object_detection/night_object_detection/images/val/M1102_img000892.jpg: 352x640 43 cars, 1 bus, 7.6ms\n",
            "image 1281/1294 /content/drive/MyDrive/night_object_detection/night_object_detection/images/val/M1102_img000900.jpg: 352x640 43 cars, 1 bus, 7.5ms\n",
            "image 1282/1294 /content/drive/MyDrive/night_object_detection/night_object_detection/images/val/M1102_img000908.jpg: 352x640 42 cars, 1 bus, 7.4ms\n",
            "image 1283/1294 /content/drive/MyDrive/night_object_detection/night_object_detection/images/val/M1102_img000912.jpg: 352x640 42 cars, 1 bus, 7.5ms\n",
            "image 1284/1294 /content/drive/MyDrive/night_object_detection/night_object_detection/images/val/M1102_img000915.jpg: 352x640 42 cars, 1 bus, 8.0ms\n",
            "image 1285/1294 /content/drive/MyDrive/night_object_detection/night_object_detection/images/val/M1102_img000916.jpg: 352x640 42 cars, 1 bus, 7.4ms\n",
            "image 1286/1294 /content/drive/MyDrive/night_object_detection/night_object_detection/images/val/M1102_img000919.jpg: 352x640 43 cars, 1 bus, 8.6ms\n",
            "image 1287/1294 /content/drive/MyDrive/night_object_detection/night_object_detection/images/val/M1102_img000921.jpg: 352x640 43 cars, 1 bus, 8.1ms\n",
            "image 1288/1294 /content/drive/MyDrive/night_object_detection/night_object_detection/images/val/M1102_img000928.jpg: 352x640 42 cars, 1 bus, 7.6ms\n",
            "image 1289/1294 /content/drive/MyDrive/night_object_detection/night_object_detection/images/val/M1102_img000936.jpg: 352x640 44 cars, 1 bus, 8.2ms\n",
            "image 1290/1294 /content/drive/MyDrive/night_object_detection/night_object_detection/images/val/M1102_img000943.jpg: 352x640 45 cars, 1 bus, 7.7ms\n",
            "image 1291/1294 /content/drive/MyDrive/night_object_detection/night_object_detection/images/val/M1102_img000945.jpg: 352x640 45 cars, 1 bus, 7.5ms\n",
            "image 1292/1294 /content/drive/MyDrive/night_object_detection/night_object_detection/images/val/M1102_img000953.jpg: 352x640 45 cars, 1 bus, 7.5ms\n",
            "image 1293/1294 /content/drive/MyDrive/night_object_detection/night_object_detection/images/val/M1102_img000960.jpg: 352x640 45 cars, 1 bus, 7.8ms\n",
            "image 1294/1294 /content/drive/MyDrive/night_object_detection/night_object_detection/images/val/M1102_img000964.jpg: 352x640 45 cars, 1 bus, 7.5ms\n",
            "Speed: 1.9ms preprocess, 7.9ms inference, 1.3ms postprocess per image at shape (1, 3, 352, 640)\n",
            "Results saved to \u001b[1mruns/detect/predict\u001b[0m\n"
          ]
        }
      ]
    },
    {
      "cell_type": "code",
      "source": [
        "import shutil\n",
        "\n",
        "# Tahmin sonuçlarının kaydedildiği dizin\n",
        "default_save_dir = \"/content/runs/detect\"\n",
        "\n",
        "# Hedef dizin\n",
        "target_save_dir = \"/content/drive/MyDrive/night_object_detection\"\n",
        "\n",
        "# Dizin taşınması\n",
        "shutil.move(default_save_dir, target_save_dir)"
      ],
      "metadata": {
        "id": "WJJZKh6rgfVx",
        "colab": {
          "base_uri": "https://localhost:8080/",
          "height": 36
        },
        "outputId": "f8b71cc2-ef49-454a-c0eb-8a34d1d5e67a"
      },
      "execution_count": 42,
      "outputs": [
        {
          "output_type": "execute_result",
          "data": {
            "text/plain": [
              "'/content/drive/MyDrive/night_object_detection/detect'"
            ],
            "application/vnd.google.colaboratory.intrinsic+json": {
              "type": "string"
            }
          },
          "metadata": {},
          "execution_count": 42
        }
      ]
    },
    {
      "cell_type": "code",
      "source": [],
      "metadata": {
        "id": "kwf6bQfsm8YC"
      },
      "execution_count": null,
      "outputs": []
    }
  ]
}
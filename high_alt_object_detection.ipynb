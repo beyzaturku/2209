{
  "nbformat": 4,
  "nbformat_minor": 0,
  "metadata": {
    "colab": {
      "provenance": [],
      "machine_shape": "hm",
      "gpuType": "L4",
      "authorship_tag": "ABX9TyNTcmlfM2BeZT3orccmY5rs",
      "include_colab_link": true
    },
    "kernelspec": {
      "name": "python3",
      "display_name": "Python 3"
    },
    "language_info": {
      "name": "python"
    },
    "accelerator": "GPU"
  },
  "cells": [
    {
      "cell_type": "markdown",
      "metadata": {
        "id": "view-in-github",
        "colab_type": "text"
      },
      "source": [
        "<a href=\"https://colab.research.google.com/github/beyzaturku/2209/blob/main/high_alt_object_detection.ipynb\" target=\"_parent\"><img src=\"https://colab.research.google.com/assets/colab-badge.svg\" alt=\"Open In Colab\"/></a>"
      ]
    },
    {
      "cell_type": "code",
      "execution_count": 1,
      "metadata": {
        "colab": {
          "base_uri": "https://localhost:8080/"
        },
        "id": "nikssQLK-KIi",
        "outputId": "25f30f50-c8c9-4fe7-810c-bb913fd8b3b5"
      },
      "outputs": [
        {
          "output_type": "stream",
          "name": "stdout",
          "text": [
            "Mounted at /content/drive\n"
          ]
        }
      ],
      "source": [
        "from google.colab import drive\n",
        "drive.mount('/content/drive')"
      ]
    },
    {
      "cell_type": "code",
      "source": [
        "import os\n",
        "import json\n",
        "from glob import glob\n",
        "\n",
        "json_folder = \"/content/drive/MyDrive/high_alt/high_alt_annotations\"\n",
        "\n",
        "output_folder = \"/content/drive/MyDrive/high_alt/yolo_labels\"\n",
        "os.makedirs(output_folder, exist_ok=True)\n",
        "\n",
        "class_list = [\"car\", \"vehicle\", \"truck\", \"bus\"]\n",
        "\n",
        "json_files = glob(os.path.join(json_folder, \"*.json\"))\n",
        "\n",
        "for json_file in json_files:\n",
        "    with open(json_file, \"r\") as f:\n",
        "        data = json.load(f)\n",
        "\n",
        "    img_width = data[\"size\"][\"width\"]\n",
        "    img_height = data[\"size\"][\"height\"]\n",
        "\n",
        "    base_name = os.path.splitext(os.path.basename(json_file))[0]\n",
        "\n",
        "    txt_file_path = os.path.join(output_folder, base_name + \".txt\")\n",
        "\n",
        "    with open(txt_file_path, \"w\") as out_file:\n",
        "        for obj in data.get(\"objects\", []):\n",
        "            class_title = obj.get(\"classTitle\", \"\").lower()\n",
        "            if class_title not in class_list:\n",
        "                print(f\"Sınıf '{class_title}' JSON: {json_file} dosyasında bulunamadı. Atlanıyor.\")\n",
        "                continue\n",
        "\n",
        "            class_id = class_list.index(class_title)\n",
        "\n",
        "            exterior_points = obj.get(\"points\", {}).get(\"exterior\", [])\n",
        "            if len(exterior_points) != 2:\n",
        "                print(f\"Uyarı: Beklenmeyen nokta sayısı {len(exterior_points)} JSON: {json_file}\")\n",
        "                continue\n",
        "\n",
        "            x1, y1 = exterior_points[0]\n",
        "            x2, y2 = exterior_points[1]\n",
        "\n",
        "            x_center = (x1 + x2) / 2.0\n",
        "            y_center = (y1 + y2) / 2.0\n",
        "            bbox_width = x2 - x1\n",
        "            bbox_height = y2 - y1\n",
        "\n",
        "            x_center_norm = x_center / img_width\n",
        "            y_center_norm = y_center / img_height\n",
        "            w_norm = bbox_width / img_width\n",
        "            h_norm = bbox_height / img_height\n",
        "\n",
        "            line = f\"{class_id} {x_center_norm:.6f} {y_center_norm:.6f} {w_norm:.6f} {h_norm:.6f}\\n\"\n",
        "            out_file.write(line)\n",
        "\n",
        "print(\"Tüm JSON dosyaları YOLO formatına dönüştürüldü!\")"
      ],
      "metadata": {
        "colab": {
          "base_uri": "https://localhost:8080/"
        },
        "id": "44jIHSsn_E2A",
        "outputId": "37011645-8e12-4c1b-92f6-2f7d3a94d5d9"
      },
      "execution_count": 2,
      "outputs": [
        {
          "output_type": "stream",
          "name": "stdout",
          "text": [
            "Tüm JSON dosyaları YOLO formatına dönüştürüldü!\n"
          ]
        }
      ]
    },
    {
      "cell_type": "code",
      "source": [
        "import os\n",
        "import shutil\n",
        "import random\n",
        "\n",
        "image_dir = \"/content/drive/MyDrive/high_alt/high_alt_images\"\n",
        "label_dir = \"/content/drive/MyDrive/high_alt/yolo_labels\"\n",
        "\n",
        "train_img_dir = \"/content/drive/MyDrive/high_alt_object_detection/images/train\"\n",
        "val_img_dir = \"/content/drive/MyDrive/high_alt_object_detection/images/val\"\n",
        "train_label_dir = \"/content/drive/MyDrive/high_alt_object_detection/labels/train\"\n",
        "val_label_dir = \"/content/drive/MyDrive/high_alt_object_detection/labels/val\"\n",
        "\n",
        "os.makedirs(train_img_dir, exist_ok=True)\n",
        "os.makedirs(val_img_dir, exist_ok=True)\n",
        "os.makedirs(train_label_dir, exist_ok=True)\n",
        "os.makedirs(val_label_dir, exist_ok=True)\n",
        "\n",
        "image_files = [f for f in os.listdir(image_dir) if f.endswith(\".jpg\") or f.endswith(\".png\")]\n",
        "\n",
        "random.shuffle(image_files)\n",
        "split_index = int(len(image_files) * 0.8)\n",
        "train_files = image_files[:split_index]\n",
        "val_files = image_files[split_index:]\n",
        "\n",
        "for file in train_files:\n",
        "    shutil.move(os.path.join(image_dir, file), os.path.join(train_img_dir, file))\n",
        "    label_file = file.replace(\".jpg\", \".txt\").replace(\".png\", \".txt\")\n",
        "    if os.path.exists(os.path.join(label_dir, label_file)):\n",
        "        shutil.move(os.path.join(label_dir, label_file), os.path.join(train_label_dir, label_file))\n",
        "\n",
        "for file in val_files:\n",
        "    shutil.move(os.path.join(image_dir, file), os.path.join(val_img_dir, file))\n",
        "    label_file = file.replace(\".jpg\", \".txt\").replace(\".png\", \".txt\")\n",
        "    if os.path.exists(os.path.join(label_dir, label_file)):\n",
        "        shutil.move(os.path.join(label_dir, label_file), os.path.join(val_label_dir, label_file))\n",
        "\n",
        "print(\"✅ Veri seti başarıyla train ve val olarak ayrıldı!\")"
      ],
      "metadata": {
        "colab": {
          "base_uri": "https://localhost:8080/"
        },
        "id": "8Qq7eo1m_7_l",
        "outputId": "c33c0475-c85b-40a0-9ecc-da4deaed63ec"
      },
      "execution_count": 3,
      "outputs": [
        {
          "output_type": "stream",
          "name": "stdout",
          "text": [
            "✅ Veri seti başarıyla train ve val olarak ayrıldı!\n"
          ]
        }
      ]
    },
    {
      "cell_type": "code",
      "source": [
        "import os\n",
        "import shutil\n",
        "\n",
        "image_train_dir = \"/content/drive/MyDrive/high_alt_object_detection/images/train\"\n",
        "image_val_dir = \"/content/drive/MyDrive/high_alt_object_detection/images/val\"\n",
        "\n",
        "label_source_dir = \"/content/drive/MyDrive/high_alt/yolo_labels\"\n",
        "label_train_dir = \"/content/drive/MyDrive/high_alt_object_detection/labels/train\"\n",
        "label_val_dir = \"/content/drive/MyDrive/high_alt_object_detection/labels/val\"\n",
        "\n",
        "os.makedirs(label_train_dir, exist_ok=True)\n",
        "\n",
        "train_images = os.listdir(image_train_dir)\n",
        "\n",
        "copied_files = []\n",
        "\n",
        "for img_file in train_images:\n",
        "    img_name, _ = os.path.splitext(img_file)\n",
        "    label_file = img_name + \".jpg.txt\"\n",
        "\n",
        "    src_path = os.path.join(label_source_dir, label_file)\n",
        "    dest_path = os.path.join(label_train_dir, img_name + \".txt\")\n",
        "\n",
        "    if os.path.exists(src_path):\n",
        "        shutil.copy(src_path, dest_path)\n",
        "        copied_files.append(img_name + \".txt\")\n",
        "\n",
        "if copied_files:\n",
        "    print(\"✅ Başarıyla kopyalanan dosyalar:\")\n",
        "else:\n",
        "    print(\"⚠️ Hiçbir dosya kopyalanmadı. Dosya adlarını kontrol et!\")"
      ],
      "metadata": {
        "colab": {
          "base_uri": "https://localhost:8080/"
        },
        "id": "PwTEfjtcAnvR",
        "outputId": "11bc731d-c87c-4dd3-a5b8-b31ec216935e"
      },
      "execution_count": 4,
      "outputs": [
        {
          "output_type": "stream",
          "name": "stdout",
          "text": [
            "✅ Başarıyla kopyalanan dosyalar:\n"
          ]
        }
      ]
    },
    {
      "cell_type": "code",
      "source": [
        "import os\n",
        "import shutil\n",
        "\n",
        "image_train_dir = \"/content/drive/MyDrive/high_alt_object_detection/images/train\"\n",
        "image_val_dir = \"/content/drive/MyDrive/high_alt_object_detection/images/val\"\n",
        "\n",
        "label_source_dir = \"/content/drive/MyDrive/high_alt/yolo_labels\"\n",
        "label_train_dir = \"/content/drive/MyDrive/high_alt_object_detection/labels/train\"\n",
        "label_val_dir = \"/content/drive/MyDrive/high_alt_object_detection/labels/val\"\n",
        "\n",
        "os.makedirs(label_val_dir, exist_ok=True)\n",
        "\n",
        "train_images = os.listdir(image_val_dir)\n",
        "\n",
        "copied_files = []\n",
        "\n",
        "for img_file in train_images:\n",
        "    img_name, _ = os.path.splitext(img_file)\n",
        "    label_file = img_name + \".jpg.txt\"\n",
        "\n",
        "    src_path = os.path.join(label_source_dir, label_file)\n",
        "    dest_path = os.path.join(label_val_dir, img_name + \".txt\")\n",
        "\n",
        "    if os.path.exists(src_path):\n",
        "        shutil.copy(src_path, dest_path)\n",
        "        copied_files.append(img_name + \".txt\")\n",
        "\n",
        "if copied_files:\n",
        "    print(\"✅ Başarıyla kopyalanan dosyalar:\")\n",
        "else:\n",
        "    print(\"⚠️ Hiçbir dosya kopyalanmadı. Dosya adlarını kontrol et!\")"
      ],
      "metadata": {
        "colab": {
          "base_uri": "https://localhost:8080/"
        },
        "id": "ClCSfOxcBa_c",
        "outputId": "7baebbb7-a215-46d2-d6f6-854a7102dcc5"
      },
      "execution_count": 5,
      "outputs": [
        {
          "output_type": "stream",
          "name": "stdout",
          "text": [
            "✅ Başarıyla kopyalanan dosyalar:\n"
          ]
        }
      ]
    },
    {
      "cell_type": "markdown",
      "source": [
        "### YOLO'ya uygun olması için data.yaml dosyası oluşturulur"
      ],
      "metadata": {
        "id": "3Tor9Ro3CrhD"
      }
    },
    {
      "cell_type": "code",
      "source": [
        "yaml_content = \"\"\"train: /content/drive/MyDrive/high_alt_object_detection/images/train\n",
        "val: /content/drive/MyDrive/high_alt_object_detection/images/val\n",
        "\n",
        "nc: 4\n",
        "names: [\"car\", \"vehicle\", \"truck\", \"bus\"]\n",
        "\"\"\"\n",
        "\n",
        "yaml_path = \"/content/drive/MyDrive/high_alt_object_detection/data.yaml\"\n",
        "\n",
        "with open(yaml_path, \"w\") as file:\n",
        "    file.write(yaml_content)\n",
        "\n",
        "print(f\"✅ data.yaml başarıyla kaydedildi: {yaml_path}\")"
      ],
      "metadata": {
        "colab": {
          "base_uri": "https://localhost:8080/"
        },
        "id": "GMt3k-AsCckX",
        "outputId": "7ec6e58a-c9af-4fba-baf8-d53ea81ebdb0"
      },
      "execution_count": 8,
      "outputs": [
        {
          "output_type": "stream",
          "name": "stdout",
          "text": [
            "✅ data.yaml başarıyla kaydedildi: /content/drive/MyDrive/high_alt_object_detection/data.yaml\n"
          ]
        }
      ]
    },
    {
      "cell_type": "code",
      "source": [
        "!cat /content/drive/MyDrive/high_alt_object_detection/data.yaml"
      ],
      "metadata": {
        "colab": {
          "base_uri": "https://localhost:8080/"
        },
        "id": "HqO8KeRgC5z7",
        "outputId": "0c1b2760-739d-437e-adc1-9333aa4b4a43"
      },
      "execution_count": 11,
      "outputs": [
        {
          "output_type": "stream",
          "name": "stdout",
          "text": [
            "train: /content/drive/MyDrive/high_alt_object_detection/images/train\n",
            "val: /content/drive/MyDrive/high_alt_object_detection/images/val\n",
            "\n",
            "nc: 4\n",
            "names: [\"car\", \"vehicle\", \"truck\", \"bus\"]\n"
          ]
        }
      ]
    },
    {
      "cell_type": "markdown",
      "source": [
        "### Model Eğitimi"
      ],
      "metadata": {
        "id": "gIx-1crcDAG6"
      }
    },
    {
      "cell_type": "code",
      "source": [
        "!pip install ultralytics\n",
        "!pip install tensorboard"
      ],
      "metadata": {
        "colab": {
          "base_uri": "https://localhost:8080/"
        },
        "id": "1PxFVsiCC7cZ",
        "outputId": "addb3a97-667d-418d-ab93-8fea5b803055"
      },
      "execution_count": 12,
      "outputs": [
        {
          "output_type": "stream",
          "name": "stdout",
          "text": [
            "Collecting ultralytics\n",
            "  Downloading ultralytics-8.3.78-py3-none-any.whl.metadata (35 kB)\n",
            "Requirement already satisfied: numpy<=2.1.1,>=1.23.0 in /usr/local/lib/python3.11/dist-packages (from ultralytics) (1.26.4)\n",
            "Requirement already satisfied: matplotlib>=3.3.0 in /usr/local/lib/python3.11/dist-packages (from ultralytics) (3.10.0)\n",
            "Requirement already satisfied: opencv-python>=4.6.0 in /usr/local/lib/python3.11/dist-packages (from ultralytics) (4.11.0.86)\n",
            "Requirement already satisfied: pillow>=7.1.2 in /usr/local/lib/python3.11/dist-packages (from ultralytics) (11.1.0)\n",
            "Requirement already satisfied: pyyaml>=5.3.1 in /usr/local/lib/python3.11/dist-packages (from ultralytics) (6.0.2)\n",
            "Requirement already satisfied: requests>=2.23.0 in /usr/local/lib/python3.11/dist-packages (from ultralytics) (2.32.3)\n",
            "Requirement already satisfied: scipy>=1.4.1 in /usr/local/lib/python3.11/dist-packages (from ultralytics) (1.13.1)\n",
            "Requirement already satisfied: torch>=1.8.0 in /usr/local/lib/python3.11/dist-packages (from ultralytics) (2.5.1+cu124)\n",
            "Requirement already satisfied: torchvision>=0.9.0 in /usr/local/lib/python3.11/dist-packages (from ultralytics) (0.20.1+cu124)\n",
            "Requirement already satisfied: tqdm>=4.64.0 in /usr/local/lib/python3.11/dist-packages (from ultralytics) (4.67.1)\n",
            "Requirement already satisfied: psutil in /usr/local/lib/python3.11/dist-packages (from ultralytics) (5.9.5)\n",
            "Requirement already satisfied: py-cpuinfo in /usr/local/lib/python3.11/dist-packages (from ultralytics) (9.0.0)\n",
            "Requirement already satisfied: pandas>=1.1.4 in /usr/local/lib/python3.11/dist-packages (from ultralytics) (2.2.2)\n",
            "Requirement already satisfied: seaborn>=0.11.0 in /usr/local/lib/python3.11/dist-packages (from ultralytics) (0.13.2)\n",
            "Collecting ultralytics-thop>=2.0.0 (from ultralytics)\n",
            "  Downloading ultralytics_thop-2.0.14-py3-none-any.whl.metadata (9.4 kB)\n",
            "Requirement already satisfied: contourpy>=1.0.1 in /usr/local/lib/python3.11/dist-packages (from matplotlib>=3.3.0->ultralytics) (1.3.1)\n",
            "Requirement already satisfied: cycler>=0.10 in /usr/local/lib/python3.11/dist-packages (from matplotlib>=3.3.0->ultralytics) (0.12.1)\n",
            "Requirement already satisfied: fonttools>=4.22.0 in /usr/local/lib/python3.11/dist-packages (from matplotlib>=3.3.0->ultralytics) (4.56.0)\n",
            "Requirement already satisfied: kiwisolver>=1.3.1 in /usr/local/lib/python3.11/dist-packages (from matplotlib>=3.3.0->ultralytics) (1.4.8)\n",
            "Requirement already satisfied: packaging>=20.0 in /usr/local/lib/python3.11/dist-packages (from matplotlib>=3.3.0->ultralytics) (24.2)\n",
            "Requirement already satisfied: pyparsing>=2.3.1 in /usr/local/lib/python3.11/dist-packages (from matplotlib>=3.3.0->ultralytics) (3.2.1)\n",
            "Requirement already satisfied: python-dateutil>=2.7 in /usr/local/lib/python3.11/dist-packages (from matplotlib>=3.3.0->ultralytics) (2.8.2)\n",
            "Requirement already satisfied: pytz>=2020.1 in /usr/local/lib/python3.11/dist-packages (from pandas>=1.1.4->ultralytics) (2025.1)\n",
            "Requirement already satisfied: tzdata>=2022.7 in /usr/local/lib/python3.11/dist-packages (from pandas>=1.1.4->ultralytics) (2025.1)\n",
            "Requirement already satisfied: charset-normalizer<4,>=2 in /usr/local/lib/python3.11/dist-packages (from requests>=2.23.0->ultralytics) (3.4.1)\n",
            "Requirement already satisfied: idna<4,>=2.5 in /usr/local/lib/python3.11/dist-packages (from requests>=2.23.0->ultralytics) (3.10)\n",
            "Requirement already satisfied: urllib3<3,>=1.21.1 in /usr/local/lib/python3.11/dist-packages (from requests>=2.23.0->ultralytics) (2.3.0)\n",
            "Requirement already satisfied: certifi>=2017.4.17 in /usr/local/lib/python3.11/dist-packages (from requests>=2.23.0->ultralytics) (2025.1.31)\n",
            "Requirement already satisfied: filelock in /usr/local/lib/python3.11/dist-packages (from torch>=1.8.0->ultralytics) (3.17.0)\n",
            "Requirement already satisfied: typing-extensions>=4.8.0 in /usr/local/lib/python3.11/dist-packages (from torch>=1.8.0->ultralytics) (4.12.2)\n",
            "Requirement already satisfied: networkx in /usr/local/lib/python3.11/dist-packages (from torch>=1.8.0->ultralytics) (3.4.2)\n",
            "Requirement already satisfied: jinja2 in /usr/local/lib/python3.11/dist-packages (from torch>=1.8.0->ultralytics) (3.1.5)\n",
            "Requirement already satisfied: fsspec in /usr/local/lib/python3.11/dist-packages (from torch>=1.8.0->ultralytics) (2024.10.0)\n",
            "Collecting nvidia-cuda-nvrtc-cu12==12.4.127 (from torch>=1.8.0->ultralytics)\n",
            "  Downloading nvidia_cuda_nvrtc_cu12-12.4.127-py3-none-manylinux2014_x86_64.whl.metadata (1.5 kB)\n",
            "Collecting nvidia-cuda-runtime-cu12==12.4.127 (from torch>=1.8.0->ultralytics)\n",
            "  Downloading nvidia_cuda_runtime_cu12-12.4.127-py3-none-manylinux2014_x86_64.whl.metadata (1.5 kB)\n",
            "Collecting nvidia-cuda-cupti-cu12==12.4.127 (from torch>=1.8.0->ultralytics)\n",
            "  Downloading nvidia_cuda_cupti_cu12-12.4.127-py3-none-manylinux2014_x86_64.whl.metadata (1.6 kB)\n",
            "Collecting nvidia-cudnn-cu12==9.1.0.70 (from torch>=1.8.0->ultralytics)\n",
            "  Downloading nvidia_cudnn_cu12-9.1.0.70-py3-none-manylinux2014_x86_64.whl.metadata (1.6 kB)\n",
            "Collecting nvidia-cublas-cu12==12.4.5.8 (from torch>=1.8.0->ultralytics)\n",
            "  Downloading nvidia_cublas_cu12-12.4.5.8-py3-none-manylinux2014_x86_64.whl.metadata (1.5 kB)\n",
            "Collecting nvidia-cufft-cu12==11.2.1.3 (from torch>=1.8.0->ultralytics)\n",
            "  Downloading nvidia_cufft_cu12-11.2.1.3-py3-none-manylinux2014_x86_64.whl.metadata (1.5 kB)\n",
            "Collecting nvidia-curand-cu12==10.3.5.147 (from torch>=1.8.0->ultralytics)\n",
            "  Downloading nvidia_curand_cu12-10.3.5.147-py3-none-manylinux2014_x86_64.whl.metadata (1.5 kB)\n",
            "Collecting nvidia-cusolver-cu12==11.6.1.9 (from torch>=1.8.0->ultralytics)\n",
            "  Downloading nvidia_cusolver_cu12-11.6.1.9-py3-none-manylinux2014_x86_64.whl.metadata (1.6 kB)\n",
            "Collecting nvidia-cusparse-cu12==12.3.1.170 (from torch>=1.8.0->ultralytics)\n",
            "  Downloading nvidia_cusparse_cu12-12.3.1.170-py3-none-manylinux2014_x86_64.whl.metadata (1.6 kB)\n",
            "Requirement already satisfied: nvidia-nccl-cu12==2.21.5 in /usr/local/lib/python3.11/dist-packages (from torch>=1.8.0->ultralytics) (2.21.5)\n",
            "Requirement already satisfied: nvidia-nvtx-cu12==12.4.127 in /usr/local/lib/python3.11/dist-packages (from torch>=1.8.0->ultralytics) (12.4.127)\n",
            "Collecting nvidia-nvjitlink-cu12==12.4.127 (from torch>=1.8.0->ultralytics)\n",
            "  Downloading nvidia_nvjitlink_cu12-12.4.127-py3-none-manylinux2014_x86_64.whl.metadata (1.5 kB)\n",
            "Requirement already satisfied: triton==3.1.0 in /usr/local/lib/python3.11/dist-packages (from torch>=1.8.0->ultralytics) (3.1.0)\n",
            "Requirement already satisfied: sympy==1.13.1 in /usr/local/lib/python3.11/dist-packages (from torch>=1.8.0->ultralytics) (1.13.1)\n",
            "Requirement already satisfied: mpmath<1.4,>=1.1.0 in /usr/local/lib/python3.11/dist-packages (from sympy==1.13.1->torch>=1.8.0->ultralytics) (1.3.0)\n",
            "Requirement already satisfied: six>=1.5 in /usr/local/lib/python3.11/dist-packages (from python-dateutil>=2.7->matplotlib>=3.3.0->ultralytics) (1.17.0)\n",
            "Requirement already satisfied: MarkupSafe>=2.0 in /usr/local/lib/python3.11/dist-packages (from jinja2->torch>=1.8.0->ultralytics) (3.0.2)\n",
            "Downloading ultralytics-8.3.78-py3-none-any.whl (921 kB)\n",
            "\u001b[2K   \u001b[90m━━━━━━━━━━━━━━━━━━━━━━━━━━━━━━━━━━━━━━━━\u001b[0m \u001b[32m921.5/921.5 kB\u001b[0m \u001b[31m39.8 MB/s\u001b[0m eta \u001b[36m0:00:00\u001b[0m\n",
            "\u001b[?25hDownloading nvidia_cublas_cu12-12.4.5.8-py3-none-manylinux2014_x86_64.whl (363.4 MB)\n",
            "\u001b[2K   \u001b[90m━━━━━━━━━━━━━━━━━━━━━━━━━━━━━━━━━━━━━━━━\u001b[0m \u001b[32m363.4/363.4 MB\u001b[0m \u001b[31m2.9 MB/s\u001b[0m eta \u001b[36m0:00:00\u001b[0m\n",
            "\u001b[?25hDownloading nvidia_cuda_cupti_cu12-12.4.127-py3-none-manylinux2014_x86_64.whl (13.8 MB)\n",
            "\u001b[2K   \u001b[90m━━━━━━━━━━━━━━━━━━━━━━━━━━━━━━━━━━━━━━━━\u001b[0m \u001b[32m13.8/13.8 MB\u001b[0m \u001b[31m116.6 MB/s\u001b[0m eta \u001b[36m0:00:00\u001b[0m\n",
            "\u001b[?25hDownloading nvidia_cuda_nvrtc_cu12-12.4.127-py3-none-manylinux2014_x86_64.whl (24.6 MB)\n",
            "\u001b[2K   \u001b[90m━━━━━━━━━━━━━━━━━━━━━━━━━━━━━━━━━━━━━━━━\u001b[0m \u001b[32m24.6/24.6 MB\u001b[0m \u001b[31m86.9 MB/s\u001b[0m eta \u001b[36m0:00:00\u001b[0m\n",
            "\u001b[?25hDownloading nvidia_cuda_runtime_cu12-12.4.127-py3-none-manylinux2014_x86_64.whl (883 kB)\n",
            "\u001b[2K   \u001b[90m━━━━━━━━━━━━━━━━━━━━━━━━━━━━━━━━━━━━━━━━\u001b[0m \u001b[32m883.7/883.7 kB\u001b[0m \u001b[31m59.9 MB/s\u001b[0m eta \u001b[36m0:00:00\u001b[0m\n",
            "\u001b[?25hDownloading nvidia_cudnn_cu12-9.1.0.70-py3-none-manylinux2014_x86_64.whl (664.8 MB)\n",
            "\u001b[2K   \u001b[90m━━━━━━━━━━━━━━━━━━━━━━━━━━━━━━━━━━━━━━━━\u001b[0m \u001b[32m664.8/664.8 MB\u001b[0m \u001b[31m2.1 MB/s\u001b[0m eta \u001b[36m0:00:00\u001b[0m\n",
            "\u001b[?25hDownloading nvidia_cufft_cu12-11.2.1.3-py3-none-manylinux2014_x86_64.whl (211.5 MB)\n",
            "\u001b[2K   \u001b[90m━━━━━━━━━━━━━━━━━━━━━━━━━━━━━━━━━━━━━━━━\u001b[0m \u001b[32m211.5/211.5 MB\u001b[0m \u001b[31m4.8 MB/s\u001b[0m eta \u001b[36m0:00:00\u001b[0m\n",
            "\u001b[?25hDownloading nvidia_curand_cu12-10.3.5.147-py3-none-manylinux2014_x86_64.whl (56.3 MB)\n",
            "\u001b[2K   \u001b[90m━━━━━━━━━━━━━━━━━━━━━━━━━━━━━━━━━━━━━━━━\u001b[0m \u001b[32m56.3/56.3 MB\u001b[0m \u001b[31m39.7 MB/s\u001b[0m eta \u001b[36m0:00:00\u001b[0m\n",
            "\u001b[?25hDownloading nvidia_cusolver_cu12-11.6.1.9-py3-none-manylinux2014_x86_64.whl (127.9 MB)\n",
            "\u001b[2K   \u001b[90m━━━━━━━━━━━━━━━━━━━━━━━━━━━━━━━━━━━━━━━━\u001b[0m \u001b[32m127.9/127.9 MB\u001b[0m \u001b[31m18.6 MB/s\u001b[0m eta \u001b[36m0:00:00\u001b[0m\n",
            "\u001b[?25hDownloading nvidia_cusparse_cu12-12.3.1.170-py3-none-manylinux2014_x86_64.whl (207.5 MB)\n",
            "\u001b[2K   \u001b[90m━━━━━━━━━━━━━━━━━━━━━━━━━━━━━━━━━━━━━━━━\u001b[0m \u001b[32m207.5/207.5 MB\u001b[0m \u001b[31m4.9 MB/s\u001b[0m eta \u001b[36m0:00:00\u001b[0m\n",
            "\u001b[?25hDownloading nvidia_nvjitlink_cu12-12.4.127-py3-none-manylinux2014_x86_64.whl (21.1 MB)\n",
            "\u001b[2K   \u001b[90m━━━━━━━━━━━━━━━━━━━━━━━━━━━━━━━━━━━━━━━━\u001b[0m \u001b[32m21.1/21.1 MB\u001b[0m \u001b[31m97.3 MB/s\u001b[0m eta \u001b[36m0:00:00\u001b[0m\n",
            "\u001b[?25hDownloading ultralytics_thop-2.0.14-py3-none-any.whl (26 kB)\n",
            "Installing collected packages: nvidia-nvjitlink-cu12, nvidia-curand-cu12, nvidia-cufft-cu12, nvidia-cuda-runtime-cu12, nvidia-cuda-nvrtc-cu12, nvidia-cuda-cupti-cu12, nvidia-cublas-cu12, nvidia-cusparse-cu12, nvidia-cudnn-cu12, nvidia-cusolver-cu12, ultralytics-thop, ultralytics\n",
            "  Attempting uninstall: nvidia-nvjitlink-cu12\n",
            "    Found existing installation: nvidia-nvjitlink-cu12 12.5.82\n",
            "    Uninstalling nvidia-nvjitlink-cu12-12.5.82:\n",
            "      Successfully uninstalled nvidia-nvjitlink-cu12-12.5.82\n",
            "  Attempting uninstall: nvidia-curand-cu12\n",
            "    Found existing installation: nvidia-curand-cu12 10.3.6.82\n",
            "    Uninstalling nvidia-curand-cu12-10.3.6.82:\n",
            "      Successfully uninstalled nvidia-curand-cu12-10.3.6.82\n",
            "  Attempting uninstall: nvidia-cufft-cu12\n",
            "    Found existing installation: nvidia-cufft-cu12 11.2.3.61\n",
            "    Uninstalling nvidia-cufft-cu12-11.2.3.61:\n",
            "      Successfully uninstalled nvidia-cufft-cu12-11.2.3.61\n",
            "  Attempting uninstall: nvidia-cuda-runtime-cu12\n",
            "    Found existing installation: nvidia-cuda-runtime-cu12 12.5.82\n",
            "    Uninstalling nvidia-cuda-runtime-cu12-12.5.82:\n",
            "      Successfully uninstalled nvidia-cuda-runtime-cu12-12.5.82\n",
            "  Attempting uninstall: nvidia-cuda-nvrtc-cu12\n",
            "    Found existing installation: nvidia-cuda-nvrtc-cu12 12.5.82\n",
            "    Uninstalling nvidia-cuda-nvrtc-cu12-12.5.82:\n",
            "      Successfully uninstalled nvidia-cuda-nvrtc-cu12-12.5.82\n",
            "  Attempting uninstall: nvidia-cuda-cupti-cu12\n",
            "    Found existing installation: nvidia-cuda-cupti-cu12 12.5.82\n",
            "    Uninstalling nvidia-cuda-cupti-cu12-12.5.82:\n",
            "      Successfully uninstalled nvidia-cuda-cupti-cu12-12.5.82\n",
            "  Attempting uninstall: nvidia-cublas-cu12\n",
            "    Found existing installation: nvidia-cublas-cu12 12.5.3.2\n",
            "    Uninstalling nvidia-cublas-cu12-12.5.3.2:\n",
            "      Successfully uninstalled nvidia-cublas-cu12-12.5.3.2\n",
            "  Attempting uninstall: nvidia-cusparse-cu12\n",
            "    Found existing installation: nvidia-cusparse-cu12 12.5.1.3\n",
            "    Uninstalling nvidia-cusparse-cu12-12.5.1.3:\n",
            "      Successfully uninstalled nvidia-cusparse-cu12-12.5.1.3\n",
            "  Attempting uninstall: nvidia-cudnn-cu12\n",
            "    Found existing installation: nvidia-cudnn-cu12 9.3.0.75\n",
            "    Uninstalling nvidia-cudnn-cu12-9.3.0.75:\n",
            "      Successfully uninstalled nvidia-cudnn-cu12-9.3.0.75\n",
            "  Attempting uninstall: nvidia-cusolver-cu12\n",
            "    Found existing installation: nvidia-cusolver-cu12 11.6.3.83\n",
            "    Uninstalling nvidia-cusolver-cu12-11.6.3.83:\n",
            "      Successfully uninstalled nvidia-cusolver-cu12-11.6.3.83\n",
            "Successfully installed nvidia-cublas-cu12-12.4.5.8 nvidia-cuda-cupti-cu12-12.4.127 nvidia-cuda-nvrtc-cu12-12.4.127 nvidia-cuda-runtime-cu12-12.4.127 nvidia-cudnn-cu12-9.1.0.70 nvidia-cufft-cu12-11.2.1.3 nvidia-curand-cu12-10.3.5.147 nvidia-cusolver-cu12-11.6.1.9 nvidia-cusparse-cu12-12.3.1.170 nvidia-nvjitlink-cu12-12.4.127 ultralytics-8.3.78 ultralytics-thop-2.0.14\n",
            "Requirement already satisfied: tensorboard in /usr/local/lib/python3.11/dist-packages (2.18.0)\n",
            "Requirement already satisfied: absl-py>=0.4 in /usr/local/lib/python3.11/dist-packages (from tensorboard) (1.4.0)\n",
            "Requirement already satisfied: grpcio>=1.48.2 in /usr/local/lib/python3.11/dist-packages (from tensorboard) (1.70.0)\n",
            "Requirement already satisfied: markdown>=2.6.8 in /usr/local/lib/python3.11/dist-packages (from tensorboard) (3.7)\n",
            "Requirement already satisfied: numpy>=1.12.0 in /usr/local/lib/python3.11/dist-packages (from tensorboard) (1.26.4)\n",
            "Requirement already satisfied: packaging in /usr/local/lib/python3.11/dist-packages (from tensorboard) (24.2)\n",
            "Requirement already satisfied: protobuf!=4.24.0,>=3.19.6 in /usr/local/lib/python3.11/dist-packages (from tensorboard) (4.25.6)\n",
            "Requirement already satisfied: setuptools>=41.0.0 in /usr/local/lib/python3.11/dist-packages (from tensorboard) (75.1.0)\n",
            "Requirement already satisfied: six>1.9 in /usr/local/lib/python3.11/dist-packages (from tensorboard) (1.17.0)\n",
            "Requirement already satisfied: tensorboard-data-server<0.8.0,>=0.7.0 in /usr/local/lib/python3.11/dist-packages (from tensorboard) (0.7.2)\n",
            "Requirement already satisfied: werkzeug>=1.0.1 in /usr/local/lib/python3.11/dist-packages (from tensorboard) (3.1.3)\n",
            "Requirement already satisfied: MarkupSafe>=2.1.1 in /usr/local/lib/python3.11/dist-packages (from werkzeug>=1.0.1->tensorboard) (3.0.2)\n"
          ]
        }
      ]
    },
    {
      "cell_type": "code",
      "source": [
        "from ultralytics import YOLO\n",
        "\n",
        "model = YOLO(\"yolov8n.pt\")\n",
        "\n",
        "results = model.train(\n",
        "    data=\"/content/drive/MyDrive/high_alt_object_detection/data.yaml\",\n",
        "    epochs=50,\n",
        "    imgsz=640,\n",
        "    batch=16,\n",
        "    project=\"/content/drive/MyDrive/high_alt_object_detection/training_logs\",\n",
        "    name=\"yolov8_high_alt\",\n",
        "    save=True,\n",
        "    save_period=5,\n",
        "    val=True\n",
        ")"
      ],
      "metadata": {
        "colab": {
          "base_uri": "https://localhost:8080/"
        },
        "id": "MSW8MZNcDBjz",
        "outputId": "81e6d51c-0dd6-420e-95b8-b891d17f717c"
      },
      "execution_count": 13,
      "outputs": [
        {
          "output_type": "stream",
          "name": "stdout",
          "text": [
            "Creating new Ultralytics Settings v0.0.6 file ✅ \n",
            "View Ultralytics Settings with 'yolo settings' or at '/root/.config/Ultralytics/settings.json'\n",
            "Update Settings with 'yolo settings key=value', i.e. 'yolo settings runs_dir=path/to/dir'. For help see https://docs.ultralytics.com/quickstart/#ultralytics-settings.\n",
            "Downloading https://github.com/ultralytics/assets/releases/download/v8.3.0/yolov8n.pt to 'yolov8n.pt'...\n"
          ]
        },
        {
          "output_type": "stream",
          "name": "stderr",
          "text": [
            "100%|██████████| 6.25M/6.25M [00:00<00:00, 348MB/s]"
          ]
        },
        {
          "output_type": "stream",
          "name": "stdout",
          "text": [
            "Ultralytics 8.3.78 🚀 Python-3.11.11 torch-2.5.1+cu124 CUDA:0 (NVIDIA L4, 22693MiB)\n"
          ]
        },
        {
          "output_type": "stream",
          "name": "stderr",
          "text": [
            "\n"
          ]
        },
        {
          "output_type": "stream",
          "name": "stdout",
          "text": [
            "\u001b[34m\u001b[1mengine/trainer: \u001b[0mtask=detect, mode=train, model=yolov8n.pt, data=/content/drive/MyDrive/high_alt_object_detection/data.yaml, epochs=50, time=None, patience=100, batch=16, imgsz=640, save=True, save_period=5, cache=False, device=None, workers=8, project=/content/drive/MyDrive/high_alt_object_detection/training_logs, name=yolov8_high_alt, exist_ok=False, pretrained=True, optimizer=auto, verbose=True, seed=0, deterministic=True, single_cls=False, rect=False, cos_lr=False, close_mosaic=10, resume=False, amp=True, fraction=1.0, profile=False, freeze=None, multi_scale=False, overlap_mask=True, mask_ratio=4, dropout=0.0, val=True, split=val, save_json=False, save_hybrid=False, conf=None, iou=0.7, max_det=300, half=False, dnn=False, plots=True, source=None, vid_stride=1, stream_buffer=False, visualize=False, augment=False, agnostic_nms=False, classes=None, retina_masks=False, embed=None, show=False, save_frames=False, save_txt=False, save_conf=False, save_crop=False, show_labels=True, show_conf=True, show_boxes=True, line_width=None, format=torchscript, keras=False, optimize=False, int8=False, dynamic=False, simplify=True, opset=None, workspace=None, nms=False, lr0=0.01, lrf=0.01, momentum=0.937, weight_decay=0.0005, warmup_epochs=3.0, warmup_momentum=0.8, warmup_bias_lr=0.1, box=7.5, cls=0.5, dfl=1.5, pose=12.0, kobj=1.0, nbs=64, hsv_h=0.015, hsv_s=0.7, hsv_v=0.4, degrees=0.0, translate=0.1, scale=0.5, shear=0.0, perspective=0.0, flipud=0.0, fliplr=0.5, bgr=0.0, mosaic=1.0, mixup=0.0, copy_paste=0.0, copy_paste_mode=flip, auto_augment=randaugment, erasing=0.4, crop_fraction=1.0, cfg=None, tracker=botsort.yaml, save_dir=/content/drive/MyDrive/high_alt_object_detection/training_logs/yolov8_high_alt\n",
            "Downloading https://ultralytics.com/assets/Arial.ttf to '/root/.config/Ultralytics/Arial.ttf'...\n"
          ]
        },
        {
          "output_type": "stream",
          "name": "stderr",
          "text": [
            "100%|██████████| 755k/755k [00:00<00:00, 112MB/s]\n"
          ]
        },
        {
          "output_type": "stream",
          "name": "stdout",
          "text": [
            "Overriding model.yaml nc=80 with nc=4\n",
            "\n",
            "                   from  n    params  module                                       arguments                     \n",
            "  0                  -1  1       464  ultralytics.nn.modules.conv.Conv             [3, 16, 3, 2]                 \n",
            "  1                  -1  1      4672  ultralytics.nn.modules.conv.Conv             [16, 32, 3, 2]                \n",
            "  2                  -1  1      7360  ultralytics.nn.modules.block.C2f             [32, 32, 1, True]             \n",
            "  3                  -1  1     18560  ultralytics.nn.modules.conv.Conv             [32, 64, 3, 2]                \n",
            "  4                  -1  2     49664  ultralytics.nn.modules.block.C2f             [64, 64, 2, True]             \n",
            "  5                  -1  1     73984  ultralytics.nn.modules.conv.Conv             [64, 128, 3, 2]               \n",
            "  6                  -1  2    197632  ultralytics.nn.modules.block.C2f             [128, 128, 2, True]           \n",
            "  7                  -1  1    295424  ultralytics.nn.modules.conv.Conv             [128, 256, 3, 2]              \n",
            "  8                  -1  1    460288  ultralytics.nn.modules.block.C2f             [256, 256, 1, True]           \n",
            "  9                  -1  1    164608  ultralytics.nn.modules.block.SPPF            [256, 256, 5]                 \n",
            " 10                  -1  1         0  torch.nn.modules.upsampling.Upsample         [None, 2, 'nearest']          \n",
            " 11             [-1, 6]  1         0  ultralytics.nn.modules.conv.Concat           [1]                           \n",
            " 12                  -1  1    148224  ultralytics.nn.modules.block.C2f             [384, 128, 1]                 \n",
            " 13                  -1  1         0  torch.nn.modules.upsampling.Upsample         [None, 2, 'nearest']          \n",
            " 14             [-1, 4]  1         0  ultralytics.nn.modules.conv.Concat           [1]                           \n",
            " 15                  -1  1     37248  ultralytics.nn.modules.block.C2f             [192, 64, 1]                  \n",
            " 16                  -1  1     36992  ultralytics.nn.modules.conv.Conv             [64, 64, 3, 2]                \n",
            " 17            [-1, 12]  1         0  ultralytics.nn.modules.conv.Concat           [1]                           \n",
            " 18                  -1  1    123648  ultralytics.nn.modules.block.C2f             [192, 128, 1]                 \n",
            " 19                  -1  1    147712  ultralytics.nn.modules.conv.Conv             [128, 128, 3, 2]              \n",
            " 20             [-1, 9]  1         0  ultralytics.nn.modules.conv.Concat           [1]                           \n",
            " 21                  -1  1    493056  ultralytics.nn.modules.block.C2f             [384, 256, 1]                 \n",
            " 22        [15, 18, 21]  1    752092  ultralytics.nn.modules.head.Detect           [4, [64, 128, 256]]           \n",
            "Model summary: 129 layers, 3,011,628 parameters, 3,011,612 gradients, 8.2 GFLOPs\n",
            "\n",
            "Transferred 319/355 items from pretrained weights\n",
            "\u001b[34m\u001b[1mTensorBoard: \u001b[0mStart with 'tensorboard --logdir /content/drive/MyDrive/high_alt_object_detection/training_logs/yolov8_high_alt', view at http://localhost:6006/\n",
            "Freezing layer 'model.22.dfl.conv.weight'\n",
            "\u001b[34m\u001b[1mAMP: \u001b[0mrunning Automatic Mixed Precision (AMP) checks...\n",
            "Downloading https://github.com/ultralytics/assets/releases/download/v8.3.0/yolo11n.pt to 'yolo11n.pt'...\n"
          ]
        },
        {
          "output_type": "stream",
          "name": "stderr",
          "text": [
            "100%|██████████| 5.35M/5.35M [00:00<00:00, 309MB/s]\n"
          ]
        },
        {
          "output_type": "stream",
          "name": "stdout",
          "text": [
            "\u001b[34m\u001b[1mAMP: \u001b[0mchecks passed ✅\n"
          ]
        },
        {
          "output_type": "stream",
          "name": "stderr",
          "text": [
            "\u001b[34m\u001b[1mtrain: \u001b[0mScanning /content/drive/MyDrive/high_alt_object_detection/labels/train... 281 images, 0 backgrounds, 0 corrupt: 100%|██████████| 281/281 [00:12<00:00, 22.47it/s] \n"
          ]
        },
        {
          "output_type": "stream",
          "name": "stdout",
          "text": [
            "\u001b[34m\u001b[1mtrain: \u001b[0mNew cache created: /content/drive/MyDrive/high_alt_object_detection/labels/train.cache\n",
            "\u001b[34m\u001b[1malbumentations: \u001b[0mBlur(p=0.01, blur_limit=(3, 7)), MedianBlur(p=0.01, blur_limit=(3, 7)), ToGray(p=0.01, num_output_channels=3, method='weighted_average'), CLAHE(p=0.01, clip_limit=(1.0, 4.0), tile_grid_size=(8, 8))\n"
          ]
        },
        {
          "output_type": "stream",
          "name": "stderr",
          "text": [
            "\u001b[34m\u001b[1mval: \u001b[0mScanning /content/drive/MyDrive/high_alt_object_detection/labels/val... 71 images, 0 backgrounds, 0 corrupt: 100%|██████████| 71/71 [00:08<00:00,  8.67it/s]"
          ]
        },
        {
          "output_type": "stream",
          "name": "stdout",
          "text": [
            "\u001b[34m\u001b[1mval: \u001b[0mNew cache created: /content/drive/MyDrive/high_alt_object_detection/labels/val.cache\n"
          ]
        },
        {
          "output_type": "stream",
          "name": "stderr",
          "text": [
            "\n"
          ]
        },
        {
          "output_type": "stream",
          "name": "stdout",
          "text": [
            "Plotting labels to /content/drive/MyDrive/high_alt_object_detection/training_logs/yolov8_high_alt/labels.jpg... \n",
            "\u001b[34m\u001b[1moptimizer:\u001b[0m 'optimizer=auto' found, ignoring 'lr0=0.01' and 'momentum=0.937' and determining best 'optimizer', 'lr0' and 'momentum' automatically... \n",
            "\u001b[34m\u001b[1moptimizer:\u001b[0m AdamW(lr=0.00125, momentum=0.9) with parameter groups 57 weight(decay=0.0), 64 weight(decay=0.0005), 63 bias(decay=0.0)\n",
            "\u001b[34m\u001b[1mTensorBoard: \u001b[0mmodel graph visualization added ✅\n",
            "Image sizes 640 train, 640 val\n",
            "Using 8 dataloader workers\n",
            "Logging results to \u001b[1m/content/drive/MyDrive/high_alt_object_detection/training_logs/yolov8_high_alt\u001b[0m\n",
            "Starting training for 50 epochs...\n",
            "\n",
            "      Epoch    GPU_mem   box_loss   cls_loss   dfl_loss  Instances       Size\n"
          ]
        },
        {
          "output_type": "stream",
          "name": "stderr",
          "text": [
            "       1/50      2.47G      2.537      4.156      1.018        215        640: 100%|██████████| 18/18 [00:03<00:00,  5.23it/s]\n",
            "                 Class     Images  Instances      Box(P          R      mAP50  mAP50-95): 100%|██████████| 3/3 [00:01<00:00,  2.34it/s]"
          ]
        },
        {
          "output_type": "stream",
          "name": "stdout",
          "text": [
            "                   all         71        925      0.004     0.0247     0.0046    0.00137\n"
          ]
        },
        {
          "output_type": "stream",
          "name": "stderr",
          "text": [
            "\n"
          ]
        },
        {
          "output_type": "stream",
          "name": "stdout",
          "text": [
            "\n",
            "      Epoch    GPU_mem   box_loss   cls_loss   dfl_loss  Instances       Size\n"
          ]
        },
        {
          "output_type": "stream",
          "name": "stderr",
          "text": [
            "       2/50      2.34G      2.314      1.882     0.9194        218        640: 100%|██████████| 18/18 [00:01<00:00,  9.18it/s]\n",
            "                 Class     Images  Instances      Box(P          R      mAP50  mAP50-95): 100%|██████████| 3/3 [00:00<00:00,  8.79it/s]\n"
          ]
        },
        {
          "output_type": "stream",
          "name": "stdout",
          "text": [
            "                   all         71        925     0.0353      0.306      0.268     0.0901\n",
            "\n",
            "      Epoch    GPU_mem   box_loss   cls_loss   dfl_loss  Instances       Size\n"
          ]
        },
        {
          "output_type": "stream",
          "name": "stderr",
          "text": [
            "       3/50      2.18G      2.139      1.556     0.8988        220        640: 100%|██████████| 18/18 [00:01<00:00,  9.29it/s]\n",
            "                 Class     Images  Instances      Box(P          R      mAP50  mAP50-95): 100%|██████████| 3/3 [00:00<00:00,  8.36it/s]\n"
          ]
        },
        {
          "output_type": "stream",
          "name": "stdout",
          "text": [
            "                   all         71        925     0.0554      0.873       0.41      0.179\n",
            "\n",
            "      Epoch    GPU_mem   box_loss   cls_loss   dfl_loss  Instances       Size\n"
          ]
        },
        {
          "output_type": "stream",
          "name": "stderr",
          "text": [
            "       4/50      2.42G      1.979      1.382     0.8844        161        640: 100%|██████████| 18/18 [00:01<00:00,  9.06it/s]\n",
            "                 Class     Images  Instances      Box(P          R      mAP50  mAP50-95): 100%|██████████| 3/3 [00:00<00:00,  7.94it/s]\n"
          ]
        },
        {
          "output_type": "stream",
          "name": "stdout",
          "text": [
            "                   all         71        925     0.0571      0.912      0.392       0.17\n",
            "\n",
            "      Epoch    GPU_mem   box_loss   cls_loss   dfl_loss  Instances       Size\n"
          ]
        },
        {
          "output_type": "stream",
          "name": "stderr",
          "text": [
            "       5/50      2.21G      1.943        1.3     0.8737        198        640: 100%|██████████| 18/18 [00:01<00:00,  9.67it/s]\n",
            "                 Class     Images  Instances      Box(P          R      mAP50  mAP50-95): 100%|██████████| 3/3 [00:00<00:00,  8.77it/s]"
          ]
        },
        {
          "output_type": "stream",
          "name": "stdout",
          "text": [
            "                   all         71        925      0.836      0.447      0.735      0.385\n"
          ]
        },
        {
          "output_type": "stream",
          "name": "stderr",
          "text": [
            "\n"
          ]
        },
        {
          "output_type": "stream",
          "name": "stdout",
          "text": [
            "\n",
            "      Epoch    GPU_mem   box_loss   cls_loss   dfl_loss  Instances       Size\n"
          ]
        },
        {
          "output_type": "stream",
          "name": "stderr",
          "text": [
            "       6/50      2.21G      1.937      1.244     0.8763        162        640: 100%|██████████| 18/18 [00:01<00:00,  9.54it/s]\n",
            "                 Class     Images  Instances      Box(P          R      mAP50  mAP50-95): 100%|██████████| 3/3 [00:00<00:00,  8.43it/s]"
          ]
        },
        {
          "output_type": "stream",
          "name": "stdout",
          "text": [
            "                   all         71        925      0.829      0.833      0.819      0.441\n"
          ]
        },
        {
          "output_type": "stream",
          "name": "stderr",
          "text": [
            "\n"
          ]
        },
        {
          "output_type": "stream",
          "name": "stdout",
          "text": [
            "\n",
            "      Epoch    GPU_mem   box_loss   cls_loss   dfl_loss  Instances       Size\n"
          ]
        },
        {
          "output_type": "stream",
          "name": "stderr",
          "text": [
            "       7/50      2.23G      1.866      1.219     0.8631        215        640: 100%|██████████| 18/18 [00:01<00:00, 10.02it/s]\n",
            "                 Class     Images  Instances      Box(P          R      mAP50  mAP50-95): 100%|██████████| 3/3 [00:00<00:00,  8.76it/s]"
          ]
        },
        {
          "output_type": "stream",
          "name": "stdout",
          "text": [
            "                   all         71        925      0.705      0.864      0.789      0.455\n"
          ]
        },
        {
          "output_type": "stream",
          "name": "stderr",
          "text": [
            "\n"
          ]
        },
        {
          "output_type": "stream",
          "name": "stdout",
          "text": [
            "\n",
            "      Epoch    GPU_mem   box_loss   cls_loss   dfl_loss  Instances       Size\n"
          ]
        },
        {
          "output_type": "stream",
          "name": "stderr",
          "text": [
            "       8/50      2.27G      1.757      1.137     0.8562        154        640: 100%|██████████| 18/18 [00:01<00:00,  9.51it/s]\n",
            "                 Class     Images  Instances      Box(P          R      mAP50  mAP50-95): 100%|██████████| 3/3 [00:00<00:00,  7.84it/s]"
          ]
        },
        {
          "output_type": "stream",
          "name": "stdout",
          "text": [
            "                   all         71        925      0.832      0.855      0.848      0.543\n"
          ]
        },
        {
          "output_type": "stream",
          "name": "stderr",
          "text": [
            "\n"
          ]
        },
        {
          "output_type": "stream",
          "name": "stdout",
          "text": [
            "\n",
            "      Epoch    GPU_mem   box_loss   cls_loss   dfl_loss  Instances       Size\n"
          ]
        },
        {
          "output_type": "stream",
          "name": "stderr",
          "text": [
            "       9/50      2.45G      1.757      1.092     0.8571        264        640: 100%|██████████| 18/18 [00:01<00:00,  9.41it/s]\n",
            "                 Class     Images  Instances      Box(P          R      mAP50  mAP50-95): 100%|██████████| 3/3 [00:00<00:00,  8.40it/s]"
          ]
        },
        {
          "output_type": "stream",
          "name": "stdout",
          "text": [
            "                   all         71        925      0.851      0.853      0.904      0.637\n"
          ]
        },
        {
          "output_type": "stream",
          "name": "stderr",
          "text": [
            "\n"
          ]
        },
        {
          "output_type": "stream",
          "name": "stdout",
          "text": [
            "\n",
            "      Epoch    GPU_mem   box_loss   cls_loss   dfl_loss  Instances       Size\n"
          ]
        },
        {
          "output_type": "stream",
          "name": "stderr",
          "text": [
            "      10/50      2.17G      1.676      1.034     0.8497        171        640: 100%|██████████| 18/18 [00:01<00:00,  9.82it/s]\n",
            "                 Class     Images  Instances      Box(P          R      mAP50  mAP50-95): 100%|██████████| 3/3 [00:00<00:00,  8.65it/s]\n"
          ]
        },
        {
          "output_type": "stream",
          "name": "stdout",
          "text": [
            "                   all         71        925      0.856       0.89      0.942      0.649\n",
            "\n",
            "      Epoch    GPU_mem   box_loss   cls_loss   dfl_loss  Instances       Size\n"
          ]
        },
        {
          "output_type": "stream",
          "name": "stderr",
          "text": [
            "      11/50      2.17G      1.657      1.016     0.8444        198        640: 100%|██████████| 18/18 [00:01<00:00, 10.05it/s]\n",
            "                 Class     Images  Instances      Box(P          R      mAP50  mAP50-95): 100%|██████████| 3/3 [00:00<00:00,  8.42it/s]"
          ]
        },
        {
          "output_type": "stream",
          "name": "stdout",
          "text": [
            "                   all         71        925      0.921      0.885       0.95      0.669\n"
          ]
        },
        {
          "output_type": "stream",
          "name": "stderr",
          "text": [
            "\n"
          ]
        },
        {
          "output_type": "stream",
          "name": "stdout",
          "text": [
            "\n",
            "      Epoch    GPU_mem   box_loss   cls_loss   dfl_loss  Instances       Size\n"
          ]
        },
        {
          "output_type": "stream",
          "name": "stderr",
          "text": [
            "      12/50      2.22G      1.638     0.9672      0.842        138        640: 100%|██████████| 18/18 [00:01<00:00,  9.72it/s]\n",
            "                 Class     Images  Instances      Box(P          R      mAP50  mAP50-95): 100%|██████████| 3/3 [00:00<00:00,  8.60it/s]"
          ]
        },
        {
          "output_type": "stream",
          "name": "stdout",
          "text": [
            "                   all         71        925      0.915      0.918      0.961      0.624\n"
          ]
        },
        {
          "output_type": "stream",
          "name": "stderr",
          "text": [
            "\n"
          ]
        },
        {
          "output_type": "stream",
          "name": "stdout",
          "text": [
            "\n",
            "      Epoch    GPU_mem   box_loss   cls_loss   dfl_loss  Instances       Size\n"
          ]
        },
        {
          "output_type": "stream",
          "name": "stderr",
          "text": [
            "      13/50      2.21G      1.583     0.9388     0.8382        159        640: 100%|██████████| 18/18 [00:01<00:00,  9.31it/s]\n",
            "                 Class     Images  Instances      Box(P          R      mAP50  mAP50-95): 100%|██████████| 3/3 [00:00<00:00,  7.22it/s]"
          ]
        },
        {
          "output_type": "stream",
          "name": "stdout",
          "text": [
            "                   all         71        925      0.949      0.922      0.962      0.684\n"
          ]
        },
        {
          "output_type": "stream",
          "name": "stderr",
          "text": [
            "\n"
          ]
        },
        {
          "output_type": "stream",
          "name": "stdout",
          "text": [
            "\n",
            "      Epoch    GPU_mem   box_loss   cls_loss   dfl_loss  Instances       Size\n"
          ]
        },
        {
          "output_type": "stream",
          "name": "stderr",
          "text": [
            "      14/50      2.24G      1.532     0.9037     0.8356        183        640: 100%|██████████| 18/18 [00:01<00:00,  9.59it/s]\n",
            "                 Class     Images  Instances      Box(P          R      mAP50  mAP50-95): 100%|██████████| 3/3 [00:00<00:00,  9.16it/s]"
          ]
        },
        {
          "output_type": "stream",
          "name": "stdout",
          "text": [
            "                   all         71        925      0.951      0.925      0.965      0.685\n"
          ]
        },
        {
          "output_type": "stream",
          "name": "stderr",
          "text": [
            "\n"
          ]
        },
        {
          "output_type": "stream",
          "name": "stdout",
          "text": [
            "\n",
            "      Epoch    GPU_mem   box_loss   cls_loss   dfl_loss  Instances       Size\n"
          ]
        },
        {
          "output_type": "stream",
          "name": "stderr",
          "text": [
            "      15/50      2.22G      1.508     0.8816     0.8329        295        640: 100%|██████████| 18/18 [00:01<00:00,  9.72it/s]\n",
            "                 Class     Images  Instances      Box(P          R      mAP50  mAP50-95): 100%|██████████| 3/3 [00:00<00:00,  7.71it/s]"
          ]
        },
        {
          "output_type": "stream",
          "name": "stdout",
          "text": [
            "                   all         71        925      0.939       0.94      0.965      0.719\n"
          ]
        },
        {
          "output_type": "stream",
          "name": "stderr",
          "text": [
            "\n"
          ]
        },
        {
          "output_type": "stream",
          "name": "stdout",
          "text": [
            "\n",
            "      Epoch    GPU_mem   box_loss   cls_loss   dfl_loss  Instances       Size\n"
          ]
        },
        {
          "output_type": "stream",
          "name": "stderr",
          "text": [
            "      16/50      2.38G      1.489      0.867     0.8283        239        640: 100%|██████████| 18/18 [00:01<00:00,  9.73it/s]\n",
            "                 Class     Images  Instances      Box(P          R      mAP50  mAP50-95): 100%|██████████| 3/3 [00:00<00:00,  8.62it/s]"
          ]
        },
        {
          "output_type": "stream",
          "name": "stdout",
          "text": [
            "                   all         71        925      0.945      0.926      0.963      0.699\n"
          ]
        },
        {
          "output_type": "stream",
          "name": "stderr",
          "text": [
            "\n"
          ]
        },
        {
          "output_type": "stream",
          "name": "stdout",
          "text": [
            "\n",
            "      Epoch    GPU_mem   box_loss   cls_loss   dfl_loss  Instances       Size\n"
          ]
        },
        {
          "output_type": "stream",
          "name": "stderr",
          "text": [
            "      17/50      2.22G      1.498     0.8613     0.8319        179        640: 100%|██████████| 18/18 [00:01<00:00,  9.48it/s]\n",
            "                 Class     Images  Instances      Box(P          R      mAP50  mAP50-95): 100%|██████████| 3/3 [00:00<00:00,  8.16it/s]"
          ]
        },
        {
          "output_type": "stream",
          "name": "stdout",
          "text": [
            "                   all         71        925       0.95      0.941      0.964      0.711\n"
          ]
        },
        {
          "output_type": "stream",
          "name": "stderr",
          "text": [
            "\n"
          ]
        },
        {
          "output_type": "stream",
          "name": "stdout",
          "text": [
            "\n",
            "      Epoch    GPU_mem   box_loss   cls_loss   dfl_loss  Instances       Size\n"
          ]
        },
        {
          "output_type": "stream",
          "name": "stderr",
          "text": [
            "      18/50      2.12G      1.508     0.8576     0.8302        203        640: 100%|██████████| 18/18 [00:01<00:00,  9.43it/s]\n",
            "                 Class     Images  Instances      Box(P          R      mAP50  mAP50-95): 100%|██████████| 3/3 [00:00<00:00,  7.17it/s]"
          ]
        },
        {
          "output_type": "stream",
          "name": "stdout",
          "text": [
            "                   all         71        925      0.951      0.933      0.963      0.638\n"
          ]
        },
        {
          "output_type": "stream",
          "name": "stderr",
          "text": [
            "\n"
          ]
        },
        {
          "output_type": "stream",
          "name": "stdout",
          "text": [
            "\n",
            "      Epoch    GPU_mem   box_loss   cls_loss   dfl_loss  Instances       Size\n"
          ]
        },
        {
          "output_type": "stream",
          "name": "stderr",
          "text": [
            "      19/50      2.16G      1.458     0.8215     0.8318        244        640: 100%|██████████| 18/18 [00:01<00:00,  9.94it/s]\n",
            "                 Class     Images  Instances      Box(P          R      mAP50  mAP50-95): 100%|██████████| 3/3 [00:00<00:00,  9.12it/s]\n"
          ]
        },
        {
          "output_type": "stream",
          "name": "stdout",
          "text": [
            "                   all         71        925      0.949       0.93      0.966       0.73\n",
            "\n",
            "      Epoch    GPU_mem   box_loss   cls_loss   dfl_loss  Instances       Size\n"
          ]
        },
        {
          "output_type": "stream",
          "name": "stderr",
          "text": [
            "      20/50      2.22G      1.396     0.7957     0.8231        208        640: 100%|██████████| 18/18 [00:01<00:00,  9.74it/s]\n",
            "                 Class     Images  Instances      Box(P          R      mAP50  mAP50-95): 100%|██████████| 3/3 [00:00<00:00,  9.20it/s]\n"
          ]
        },
        {
          "output_type": "stream",
          "name": "stdout",
          "text": [
            "                   all         71        925      0.956      0.931      0.968      0.741\n",
            "\n",
            "      Epoch    GPU_mem   box_loss   cls_loss   dfl_loss  Instances       Size\n"
          ]
        },
        {
          "output_type": "stream",
          "name": "stderr",
          "text": [
            "      21/50      2.27G      1.366     0.7812     0.8228        196        640: 100%|██████████| 18/18 [00:01<00:00,  9.75it/s]\n",
            "                 Class     Images  Instances      Box(P          R      mAP50  mAP50-95): 100%|██████████| 3/3 [00:00<00:00,  9.07it/s]"
          ]
        },
        {
          "output_type": "stream",
          "name": "stdout",
          "text": [
            "                   all         71        925      0.976      0.927      0.967      0.718\n"
          ]
        },
        {
          "output_type": "stream",
          "name": "stderr",
          "text": [
            "\n"
          ]
        },
        {
          "output_type": "stream",
          "name": "stdout",
          "text": [
            "\n",
            "      Epoch    GPU_mem   box_loss   cls_loss   dfl_loss  Instances       Size\n"
          ]
        },
        {
          "output_type": "stream",
          "name": "stderr",
          "text": [
            "      22/50      2.24G      1.368       0.78      0.826        200        640: 100%|██████████| 18/18 [00:01<00:00,  9.32it/s]\n",
            "                 Class     Images  Instances      Box(P          R      mAP50  mAP50-95): 100%|██████████| 3/3 [00:00<00:00,  8.86it/s]"
          ]
        },
        {
          "output_type": "stream",
          "name": "stdout",
          "text": [
            "                   all         71        925      0.966      0.931       0.97      0.727\n"
          ]
        },
        {
          "output_type": "stream",
          "name": "stderr",
          "text": [
            "\n"
          ]
        },
        {
          "output_type": "stream",
          "name": "stdout",
          "text": [
            "\n",
            "      Epoch    GPU_mem   box_loss   cls_loss   dfl_loss  Instances       Size\n"
          ]
        },
        {
          "output_type": "stream",
          "name": "stderr",
          "text": [
            "      23/50      2.33G      1.336     0.7644     0.8146        226        640: 100%|██████████| 18/18 [00:01<00:00,  9.87it/s]\n",
            "                 Class     Images  Instances      Box(P          R      mAP50  mAP50-95): 100%|██████████| 3/3 [00:00<00:00,  8.81it/s]\n"
          ]
        },
        {
          "output_type": "stream",
          "name": "stdout",
          "text": [
            "                   all         71        925       0.95      0.933      0.966      0.741\n",
            "\n",
            "      Epoch    GPU_mem   box_loss   cls_loss   dfl_loss  Instances       Size\n"
          ]
        },
        {
          "output_type": "stream",
          "name": "stderr",
          "text": [
            "      24/50      2.21G      1.333     0.7571     0.8179        169        640: 100%|██████████| 18/18 [00:01<00:00,  9.75it/s]\n",
            "                 Class     Images  Instances      Box(P          R      mAP50  mAP50-95): 100%|██████████| 3/3 [00:00<00:00,  9.38it/s]"
          ]
        },
        {
          "output_type": "stream",
          "name": "stdout",
          "text": [
            "                   all         71        925      0.951      0.944       0.97      0.741\n"
          ]
        },
        {
          "output_type": "stream",
          "name": "stderr",
          "text": [
            "\n"
          ]
        },
        {
          "output_type": "stream",
          "name": "stdout",
          "text": [
            "\n",
            "      Epoch    GPU_mem   box_loss   cls_loss   dfl_loss  Instances       Size\n"
          ]
        },
        {
          "output_type": "stream",
          "name": "stderr",
          "text": [
            "      25/50      2.21G      1.314     0.7429     0.8166        190        640: 100%|██████████| 18/18 [00:01<00:00,  9.64it/s]\n",
            "                 Class     Images  Instances      Box(P          R      mAP50  mAP50-95): 100%|██████████| 3/3 [00:00<00:00,  8.97it/s]"
          ]
        },
        {
          "output_type": "stream",
          "name": "stdout",
          "text": [
            "                   all         71        925      0.971      0.944       0.97      0.731\n"
          ]
        },
        {
          "output_type": "stream",
          "name": "stderr",
          "text": [
            "\n"
          ]
        },
        {
          "output_type": "stream",
          "name": "stdout",
          "text": [
            "\n",
            "      Epoch    GPU_mem   box_loss   cls_loss   dfl_loss  Instances       Size\n"
          ]
        },
        {
          "output_type": "stream",
          "name": "stderr",
          "text": [
            "      26/50      2.22G        1.3     0.7242     0.8197        196        640: 100%|██████████| 18/18 [00:01<00:00,  9.45it/s]\n",
            "                 Class     Images  Instances      Box(P          R      mAP50  mAP50-95): 100%|██████████| 3/3 [00:00<00:00,  7.87it/s]"
          ]
        },
        {
          "output_type": "stream",
          "name": "stdout",
          "text": [
            "                   all         71        925      0.957      0.944      0.972      0.761\n"
          ]
        },
        {
          "output_type": "stream",
          "name": "stderr",
          "text": [
            "\n"
          ]
        },
        {
          "output_type": "stream",
          "name": "stdout",
          "text": [
            "\n",
            "      Epoch    GPU_mem   box_loss   cls_loss   dfl_loss  Instances       Size\n"
          ]
        },
        {
          "output_type": "stream",
          "name": "stderr",
          "text": [
            "      27/50       2.2G      1.245     0.7099     0.8169        176        640: 100%|██████████| 18/18 [00:01<00:00,  9.80it/s]\n",
            "                 Class     Images  Instances      Box(P          R      mAP50  mAP50-95): 100%|██████████| 3/3 [00:00<00:00,  9.12it/s]\n"
          ]
        },
        {
          "output_type": "stream",
          "name": "stdout",
          "text": [
            "                   all         71        925      0.971      0.941      0.973      0.732\n",
            "\n",
            "      Epoch    GPU_mem   box_loss   cls_loss   dfl_loss  Instances       Size\n"
          ]
        },
        {
          "output_type": "stream",
          "name": "stderr",
          "text": [
            "      28/50      2.24G      1.247     0.7058     0.8139        185        640: 100%|██████████| 18/18 [00:01<00:00,  9.55it/s]\n",
            "                 Class     Images  Instances      Box(P          R      mAP50  mAP50-95): 100%|██████████| 3/3 [00:00<00:00,  9.16it/s]"
          ]
        },
        {
          "output_type": "stream",
          "name": "stdout",
          "text": [
            "                   all         71        925      0.962      0.935      0.971      0.748\n"
          ]
        },
        {
          "output_type": "stream",
          "name": "stderr",
          "text": [
            "\n"
          ]
        },
        {
          "output_type": "stream",
          "name": "stdout",
          "text": [
            "\n",
            "      Epoch    GPU_mem   box_loss   cls_loss   dfl_loss  Instances       Size\n"
          ]
        },
        {
          "output_type": "stream",
          "name": "stderr",
          "text": [
            "      29/50      2.12G      1.263     0.7127     0.8105        206        640: 100%|██████████| 18/18 [00:01<00:00,  9.67it/s]\n",
            "                 Class     Images  Instances      Box(P          R      mAP50  mAP50-95): 100%|██████████| 3/3 [00:00<00:00,  8.98it/s]\n"
          ]
        },
        {
          "output_type": "stream",
          "name": "stdout",
          "text": [
            "                   all         71        925      0.956      0.947      0.973      0.766\n",
            "\n",
            "      Epoch    GPU_mem   box_loss   cls_loss   dfl_loss  Instances       Size\n"
          ]
        },
        {
          "output_type": "stream",
          "name": "stderr",
          "text": [
            "      30/50      2.44G      1.235     0.6909     0.8101        220        640: 100%|██████████| 18/18 [00:01<00:00,  9.39it/s]\n",
            "                 Class     Images  Instances      Box(P          R      mAP50  mAP50-95): 100%|██████████| 3/3 [00:00<00:00,  8.22it/s]"
          ]
        },
        {
          "output_type": "stream",
          "name": "stdout",
          "text": [
            "                   all         71        925      0.979       0.95      0.975      0.767\n"
          ]
        },
        {
          "output_type": "stream",
          "name": "stderr",
          "text": [
            "\n"
          ]
        },
        {
          "output_type": "stream",
          "name": "stdout",
          "text": [
            "\n",
            "      Epoch    GPU_mem   box_loss   cls_loss   dfl_loss  Instances       Size\n"
          ]
        },
        {
          "output_type": "stream",
          "name": "stderr",
          "text": [
            "      31/50      2.21G      1.201     0.6662     0.8119        197        640: 100%|██████████| 18/18 [00:01<00:00,  9.50it/s]\n",
            "                 Class     Images  Instances      Box(P          R      mAP50  mAP50-95): 100%|██████████| 3/3 [00:00<00:00,  8.71it/s]"
          ]
        },
        {
          "output_type": "stream",
          "name": "stdout",
          "text": [
            "                   all         71        925      0.967      0.947      0.977      0.764\n"
          ]
        },
        {
          "output_type": "stream",
          "name": "stderr",
          "text": [
            "\n"
          ]
        },
        {
          "output_type": "stream",
          "name": "stdout",
          "text": [
            "\n",
            "      Epoch    GPU_mem   box_loss   cls_loss   dfl_loss  Instances       Size\n"
          ]
        },
        {
          "output_type": "stream",
          "name": "stderr",
          "text": [
            "      32/50      2.22G      1.197     0.6734     0.8094        251        640: 100%|██████████| 18/18 [00:01<00:00,  9.46it/s]\n",
            "                 Class     Images  Instances      Box(P          R      mAP50  mAP50-95): 100%|██████████| 3/3 [00:00<00:00,  9.02it/s]"
          ]
        },
        {
          "output_type": "stream",
          "name": "stdout",
          "text": [
            "                   all         71        925      0.953      0.948      0.974      0.766\n"
          ]
        },
        {
          "output_type": "stream",
          "name": "stderr",
          "text": [
            "\n"
          ]
        },
        {
          "output_type": "stream",
          "name": "stdout",
          "text": [
            "\n",
            "      Epoch    GPU_mem   box_loss   cls_loss   dfl_loss  Instances       Size\n"
          ]
        },
        {
          "output_type": "stream",
          "name": "stderr",
          "text": [
            "      33/50      2.45G      1.202     0.6674     0.8116        194        640: 100%|██████████| 18/18 [00:01<00:00,  9.55it/s]\n",
            "                 Class     Images  Instances      Box(P          R      mAP50  mAP50-95): 100%|██████████| 3/3 [00:00<00:00,  9.71it/s]"
          ]
        },
        {
          "output_type": "stream",
          "name": "stdout",
          "text": [
            "                   all         71        925      0.969      0.952      0.975       0.76\n"
          ]
        },
        {
          "output_type": "stream",
          "name": "stderr",
          "text": [
            "\n"
          ]
        },
        {
          "output_type": "stream",
          "name": "stdout",
          "text": [
            "\n",
            "      Epoch    GPU_mem   box_loss   cls_loss   dfl_loss  Instances       Size\n"
          ]
        },
        {
          "output_type": "stream",
          "name": "stderr",
          "text": [
            "      34/50      2.35G      1.171     0.6536      0.809        233        640: 100%|██████████| 18/18 [00:01<00:00,  9.78it/s]\n",
            "                 Class     Images  Instances      Box(P          R      mAP50  mAP50-95): 100%|██████████| 3/3 [00:00<00:00,  7.72it/s]"
          ]
        },
        {
          "output_type": "stream",
          "name": "stdout",
          "text": [
            "                   all         71        925      0.968      0.946      0.975      0.756\n"
          ]
        },
        {
          "output_type": "stream",
          "name": "stderr",
          "text": [
            "\n"
          ]
        },
        {
          "output_type": "stream",
          "name": "stdout",
          "text": [
            "\n",
            "      Epoch    GPU_mem   box_loss   cls_loss   dfl_loss  Instances       Size\n"
          ]
        },
        {
          "output_type": "stream",
          "name": "stderr",
          "text": [
            "      35/50       2.2G      1.208     0.6656     0.8076        189        640: 100%|██████████| 18/18 [00:01<00:00,  9.25it/s]\n",
            "                 Class     Images  Instances      Box(P          R      mAP50  mAP50-95): 100%|██████████| 3/3 [00:00<00:00,  8.23it/s]"
          ]
        },
        {
          "output_type": "stream",
          "name": "stdout",
          "text": [
            "                   all         71        925      0.953      0.948      0.976      0.745\n"
          ]
        },
        {
          "output_type": "stream",
          "name": "stderr",
          "text": [
            "\n"
          ]
        },
        {
          "output_type": "stream",
          "name": "stdout",
          "text": [
            "\n",
            "      Epoch    GPU_mem   box_loss   cls_loss   dfl_loss  Instances       Size\n"
          ]
        },
        {
          "output_type": "stream",
          "name": "stderr",
          "text": [
            "      36/50      2.38G      1.201     0.6508     0.8098        214        640: 100%|██████████| 18/18 [00:01<00:00,  9.75it/s]\n",
            "                 Class     Images  Instances      Box(P          R      mAP50  mAP50-95): 100%|██████████| 3/3 [00:00<00:00,  8.67it/s]"
          ]
        },
        {
          "output_type": "stream",
          "name": "stdout",
          "text": [
            "                   all         71        925      0.958      0.946      0.975      0.748\n"
          ]
        },
        {
          "output_type": "stream",
          "name": "stderr",
          "text": [
            "\n"
          ]
        },
        {
          "output_type": "stream",
          "name": "stdout",
          "text": [
            "\n",
            "      Epoch    GPU_mem   box_loss   cls_loss   dfl_loss  Instances       Size\n"
          ]
        },
        {
          "output_type": "stream",
          "name": "stderr",
          "text": [
            "      37/50      2.26G      1.174     0.6482     0.8062        215        640: 100%|██████████| 18/18 [00:01<00:00, 10.16it/s]\n",
            "                 Class     Images  Instances      Box(P          R      mAP50  mAP50-95): 100%|██████████| 3/3 [00:00<00:00,  8.34it/s]"
          ]
        },
        {
          "output_type": "stream",
          "name": "stdout",
          "text": [
            "                   all         71        925      0.953      0.957      0.976      0.758\n"
          ]
        },
        {
          "output_type": "stream",
          "name": "stderr",
          "text": [
            "\n"
          ]
        },
        {
          "output_type": "stream",
          "name": "stdout",
          "text": [
            "\n",
            "      Epoch    GPU_mem   box_loss   cls_loss   dfl_loss  Instances       Size\n"
          ]
        },
        {
          "output_type": "stream",
          "name": "stderr",
          "text": [
            "      38/50      2.27G      1.131     0.6269     0.8041        209        640: 100%|██████████| 18/18 [00:01<00:00,  9.61it/s]\n",
            "                 Class     Images  Instances      Box(P          R      mAP50  mAP50-95): 100%|██████████| 3/3 [00:00<00:00,  9.02it/s]"
          ]
        },
        {
          "output_type": "stream",
          "name": "stdout",
          "text": [
            "                   all         71        925       0.95       0.95      0.976      0.785\n"
          ]
        },
        {
          "output_type": "stream",
          "name": "stderr",
          "text": [
            "\n"
          ]
        },
        {
          "output_type": "stream",
          "name": "stdout",
          "text": [
            "\n",
            "      Epoch    GPU_mem   box_loss   cls_loss   dfl_loss  Instances       Size\n"
          ]
        },
        {
          "output_type": "stream",
          "name": "stderr",
          "text": [
            "      39/50      2.37G      1.131     0.6305     0.8049        213        640: 100%|██████████| 18/18 [00:01<00:00,  9.56it/s]\n",
            "                 Class     Images  Instances      Box(P          R      mAP50  mAP50-95): 100%|██████████| 3/3 [00:00<00:00,  8.64it/s]"
          ]
        },
        {
          "output_type": "stream",
          "name": "stdout",
          "text": [
            "                   all         71        925       0.95      0.953      0.977      0.795\n"
          ]
        },
        {
          "output_type": "stream",
          "name": "stderr",
          "text": [
            "\n"
          ]
        },
        {
          "output_type": "stream",
          "name": "stdout",
          "text": [
            "\n",
            "      Epoch    GPU_mem   box_loss   cls_loss   dfl_loss  Instances       Size\n"
          ]
        },
        {
          "output_type": "stream",
          "name": "stderr",
          "text": [
            "      40/50      2.19G      1.124     0.6293     0.8008        186        640: 100%|██████████| 18/18 [00:01<00:00,  9.58it/s]\n",
            "                 Class     Images  Instances      Box(P          R      mAP50  mAP50-95): 100%|██████████| 3/3 [00:00<00:00,  8.64it/s]"
          ]
        },
        {
          "output_type": "stream",
          "name": "stdout",
          "text": [
            "                   all         71        925       0.96      0.958      0.978      0.811\n"
          ]
        },
        {
          "output_type": "stream",
          "name": "stderr",
          "text": [
            "\n"
          ]
        },
        {
          "output_type": "stream",
          "name": "stdout",
          "text": [
            "Closing dataloader mosaic\n",
            "\u001b[34m\u001b[1malbumentations: \u001b[0mBlur(p=0.01, blur_limit=(3, 7)), MedianBlur(p=0.01, blur_limit=(3, 7)), ToGray(p=0.01, num_output_channels=3, method='weighted_average'), CLAHE(p=0.01, clip_limit=(1.0, 4.0), tile_grid_size=(8, 8))\n",
            "\n",
            "      Epoch    GPU_mem   box_loss   cls_loss   dfl_loss  Instances       Size\n"
          ]
        },
        {
          "output_type": "stream",
          "name": "stderr",
          "text": [
            "      41/50      2.19G       1.08     0.6339     0.8035        119        640: 100%|██████████| 18/18 [00:02<00:00,  6.45it/s]\n",
            "                 Class     Images  Instances      Box(P          R      mAP50  mAP50-95): 100%|██████████| 3/3 [00:00<00:00,  7.96it/s]"
          ]
        },
        {
          "output_type": "stream",
          "name": "stdout",
          "text": [
            "                   all         71        925      0.966      0.961      0.977       0.78\n"
          ]
        },
        {
          "output_type": "stream",
          "name": "stderr",
          "text": [
            "\n"
          ]
        },
        {
          "output_type": "stream",
          "name": "stdout",
          "text": [
            "\n",
            "      Epoch    GPU_mem   box_loss   cls_loss   dfl_loss  Instances       Size\n"
          ]
        },
        {
          "output_type": "stream",
          "name": "stderr",
          "text": [
            "      42/50      1.98G      1.035     0.6212     0.8038        121        640: 100%|██████████| 18/18 [00:01<00:00, 10.19it/s]\n",
            "                 Class     Images  Instances      Box(P          R      mAP50  mAP50-95): 100%|██████████| 3/3 [00:00<00:00,  7.84it/s]"
          ]
        },
        {
          "output_type": "stream",
          "name": "stdout",
          "text": [
            "                   all         71        925      0.972      0.951      0.977      0.787\n"
          ]
        },
        {
          "output_type": "stream",
          "name": "stderr",
          "text": [
            "\n"
          ]
        },
        {
          "output_type": "stream",
          "name": "stdout",
          "text": [
            "\n",
            "      Epoch    GPU_mem   box_loss   cls_loss   dfl_loss  Instances       Size\n"
          ]
        },
        {
          "output_type": "stream",
          "name": "stderr",
          "text": [
            "      43/50      1.98G          1      0.599     0.8021        117        640: 100%|██████████| 18/18 [00:01<00:00, 10.05it/s]\n",
            "                 Class     Images  Instances      Box(P          R      mAP50  mAP50-95): 100%|██████████| 3/3 [00:00<00:00,  8.08it/s]"
          ]
        },
        {
          "output_type": "stream",
          "name": "stdout",
          "text": [
            "                   all         71        925      0.962      0.952      0.978      0.795\n"
          ]
        },
        {
          "output_type": "stream",
          "name": "stderr",
          "text": [
            "\n"
          ]
        },
        {
          "output_type": "stream",
          "name": "stdout",
          "text": [
            "\n",
            "      Epoch    GPU_mem   box_loss   cls_loss   dfl_loss  Instances       Size\n"
          ]
        },
        {
          "output_type": "stream",
          "name": "stderr",
          "text": [
            "      44/50      1.98G     0.9986     0.5989     0.8019        110        640: 100%|██████████| 18/18 [00:01<00:00, 10.18it/s]\n",
            "                 Class     Images  Instances      Box(P          R      mAP50  mAP50-95): 100%|██████████| 3/3 [00:00<00:00,  9.14it/s]"
          ]
        },
        {
          "output_type": "stream",
          "name": "stdout",
          "text": [
            "                   all         71        925      0.966       0.95      0.977      0.803\n"
          ]
        },
        {
          "output_type": "stream",
          "name": "stderr",
          "text": [
            "\n"
          ]
        },
        {
          "output_type": "stream",
          "name": "stdout",
          "text": [
            "\n",
            "      Epoch    GPU_mem   box_loss   cls_loss   dfl_loss  Instances       Size\n"
          ]
        },
        {
          "output_type": "stream",
          "name": "stderr",
          "text": [
            "      45/50      1.98G     0.9918     0.5906     0.7986        109        640: 100%|██████████| 18/18 [00:01<00:00, 10.61it/s]\n",
            "                 Class     Images  Instances      Box(P          R      mAP50  mAP50-95): 100%|██████████| 3/3 [00:00<00:00,  8.87it/s]"
          ]
        },
        {
          "output_type": "stream",
          "name": "stdout",
          "text": [
            "                   all         71        925       0.98      0.947      0.979      0.804\n"
          ]
        },
        {
          "output_type": "stream",
          "name": "stderr",
          "text": [
            "\n"
          ]
        },
        {
          "output_type": "stream",
          "name": "stdout",
          "text": [
            "\n",
            "      Epoch    GPU_mem   box_loss   cls_loss   dfl_loss  Instances       Size\n"
          ]
        },
        {
          "output_type": "stream",
          "name": "stderr",
          "text": [
            "      46/50      1.98G     0.9674     0.5777     0.7995        114        640: 100%|██████████| 18/18 [00:01<00:00, 10.06it/s]\n",
            "                 Class     Images  Instances      Box(P          R      mAP50  mAP50-95): 100%|██████████| 3/3 [00:00<00:00,  9.92it/s]"
          ]
        },
        {
          "output_type": "stream",
          "name": "stdout",
          "text": [
            "                   all         71        925      0.967      0.958       0.98      0.802\n"
          ]
        },
        {
          "output_type": "stream",
          "name": "stderr",
          "text": [
            "\n"
          ]
        },
        {
          "output_type": "stream",
          "name": "stdout",
          "text": [
            "\n",
            "      Epoch    GPU_mem   box_loss   cls_loss   dfl_loss  Instances       Size\n"
          ]
        },
        {
          "output_type": "stream",
          "name": "stderr",
          "text": [
            "      47/50      1.98G     0.9705     0.5772     0.8065        121        640: 100%|██████████| 18/18 [00:01<00:00, 10.38it/s]\n",
            "                 Class     Images  Instances      Box(P          R      mAP50  mAP50-95): 100%|██████████| 3/3 [00:00<00:00,  8.75it/s]"
          ]
        },
        {
          "output_type": "stream",
          "name": "stdout",
          "text": [
            "                   all         71        925      0.963      0.955      0.979      0.787\n"
          ]
        },
        {
          "output_type": "stream",
          "name": "stderr",
          "text": [
            "\n"
          ]
        },
        {
          "output_type": "stream",
          "name": "stdout",
          "text": [
            "\n",
            "      Epoch    GPU_mem   box_loss   cls_loss   dfl_loss  Instances       Size\n"
          ]
        },
        {
          "output_type": "stream",
          "name": "stderr",
          "text": [
            "      48/50      1.98G     0.9646     0.5743     0.8001        120        640: 100%|██████████| 18/18 [00:01<00:00,  9.81it/s]\n",
            "                 Class     Images  Instances      Box(P          R      mAP50  mAP50-95): 100%|██████████| 3/3 [00:00<00:00,  8.59it/s]"
          ]
        },
        {
          "output_type": "stream",
          "name": "stdout",
          "text": [
            "                   all         71        925      0.976      0.949      0.979      0.797\n"
          ]
        },
        {
          "output_type": "stream",
          "name": "stderr",
          "text": [
            "\n"
          ]
        },
        {
          "output_type": "stream",
          "name": "stdout",
          "text": [
            "\n",
            "      Epoch    GPU_mem   box_loss   cls_loss   dfl_loss  Instances       Size\n"
          ]
        },
        {
          "output_type": "stream",
          "name": "stderr",
          "text": [
            "      49/50      1.98G     0.9377     0.5616     0.7965        113        640: 100%|██████████| 18/18 [00:01<00:00, 10.12it/s]\n",
            "                 Class     Images  Instances      Box(P          R      mAP50  mAP50-95): 100%|██████████| 3/3 [00:00<00:00,  8.41it/s]"
          ]
        },
        {
          "output_type": "stream",
          "name": "stdout",
          "text": [
            "                   all         71        925      0.978      0.946       0.98      0.801\n"
          ]
        },
        {
          "output_type": "stream",
          "name": "stderr",
          "text": [
            "\n"
          ]
        },
        {
          "output_type": "stream",
          "name": "stdout",
          "text": [
            "\n",
            "      Epoch    GPU_mem   box_loss   cls_loss   dfl_loss  Instances       Size\n"
          ]
        },
        {
          "output_type": "stream",
          "name": "stderr",
          "text": [
            "      50/50      1.98G     0.9326     0.5609     0.8018        115        640: 100%|██████████| 18/18 [00:01<00:00,  9.68it/s]\n",
            "                 Class     Images  Instances      Box(P          R      mAP50  mAP50-95): 100%|██████████| 3/3 [00:00<00:00,  9.22it/s]"
          ]
        },
        {
          "output_type": "stream",
          "name": "stdout",
          "text": [
            "                   all         71        925      0.978      0.951      0.979      0.809\n"
          ]
        },
        {
          "output_type": "stream",
          "name": "stderr",
          "text": [
            "\n"
          ]
        },
        {
          "output_type": "stream",
          "name": "stdout",
          "text": [
            "\n",
            "50 epochs completed in 0.042 hours.\n",
            "Optimizer stripped from /content/drive/MyDrive/high_alt_object_detection/training_logs/yolov8_high_alt/weights/last.pt, 6.2MB\n",
            "Optimizer stripped from /content/drive/MyDrive/high_alt_object_detection/training_logs/yolov8_high_alt/weights/best.pt, 6.2MB\n",
            "\n",
            "Validating /content/drive/MyDrive/high_alt_object_detection/training_logs/yolov8_high_alt/weights/best.pt...\n",
            "Ultralytics 8.3.78 🚀 Python-3.11.11 torch-2.5.1+cu124 CUDA:0 (NVIDIA L4, 22693MiB)\n",
            "Model summary (fused): 72 layers, 3,006,428 parameters, 0 gradients, 8.1 GFLOPs\n"
          ]
        },
        {
          "output_type": "stream",
          "name": "stderr",
          "text": [
            "                 Class     Images  Instances      Box(P          R      mAP50  mAP50-95): 100%|██████████| 3/3 [00:00<00:00,  3.69it/s]\n"
          ]
        },
        {
          "output_type": "stream",
          "name": "stdout",
          "text": [
            "                   all         71        925       0.96      0.958      0.978      0.811\n",
            "                   car         71        912      0.955      0.915      0.961      0.665\n",
            "                   bus         13         13      0.965          1      0.995      0.958\n",
            "Speed: 0.1ms preprocess, 0.6ms inference, 0.0ms loss, 1.2ms postprocess per image\n",
            "Results saved to \u001b[1m/content/drive/MyDrive/high_alt_object_detection/training_logs/yolov8_high_alt\u001b[0m\n"
          ]
        }
      ]
    },
    {
      "cell_type": "markdown",
      "source": [
        "### Modeli doğrulama veri seti ile test etme"
      ],
      "metadata": {
        "id": "Vj3N4Ez_EDog"
      }
    },
    {
      "cell_type": "code",
      "source": [
        "# Eğitilmiş modeli yükle\n",
        "best_model = YOLO(\"/content/drive/MyDrive/high_alt_object_detection/training_logs/yolov8_high_alt/weights/best.pt\")\n",
        "\n",
        "# Modelin performansını doğrulama setinde test et\n",
        "metrics = best_model.val()\n",
        "print(metrics)"
      ],
      "metadata": {
        "colab": {
          "base_uri": "https://localhost:8080/"
        },
        "id": "2AfZbmDpDTv6",
        "outputId": "d9ea93bc-7f10-4acd-fa33-c4d8380ed3e7"
      },
      "execution_count": 14,
      "outputs": [
        {
          "output_type": "stream",
          "name": "stdout",
          "text": [
            "Ultralytics 8.3.78 🚀 Python-3.11.11 torch-2.5.1+cu124 CUDA:0 (NVIDIA L4, 22693MiB)\n",
            "Model summary (fused): 72 layers, 3,006,428 parameters, 0 gradients, 8.1 GFLOPs\n"
          ]
        },
        {
          "output_type": "stream",
          "name": "stderr",
          "text": [
            "\u001b[34m\u001b[1mval: \u001b[0mScanning /content/drive/MyDrive/high_alt_object_detection/labels/val.cache... 71 images, 0 backgrounds, 0 corrupt: 100%|██████████| 71/71 [00:00<?, ?it/s]\n",
            "                 Class     Images  Instances      Box(P          R      mAP50  mAP50-95): 100%|██████████| 5/5 [00:02<00:00,  2.40it/s]\n"
          ]
        },
        {
          "output_type": "stream",
          "name": "stdout",
          "text": [
            "                   all         71        925      0.961      0.958      0.978      0.805\n",
            "                   car         71        912      0.956      0.915      0.961      0.668\n",
            "                   bus         13         13      0.965          1      0.995      0.941\n",
            "Speed: 1.7ms preprocess, 5.9ms inference, 0.0ms loss, 8.0ms postprocess per image\n",
            "Results saved to \u001b[1mruns/detect/val\u001b[0m\n",
            "ultralytics.utils.metrics.DetMetrics object with attributes:\n",
            "\n",
            "ap_class_index: array([0, 3])\n",
            "box: ultralytics.utils.metrics.Metric object\n",
            "confusion_matrix: <ultralytics.utils.metrics.ConfusionMatrix object at 0x7e1a6c346090>\n",
            "curves: ['Precision-Recall(B)', 'F1-Confidence(B)', 'Precision-Confidence(B)', 'Recall-Confidence(B)']\n",
            "curves_results: [[array([          0,    0.001001,    0.002002,    0.003003,    0.004004,    0.005005,    0.006006,    0.007007,    0.008008,    0.009009,     0.01001,    0.011011,    0.012012,    0.013013,    0.014014,    0.015015,    0.016016,    0.017017,    0.018018,    0.019019,     0.02002,    0.021021,    0.022022,    0.023023,\n",
            "          0.024024,    0.025025,    0.026026,    0.027027,    0.028028,    0.029029,     0.03003,    0.031031,    0.032032,    0.033033,    0.034034,    0.035035,    0.036036,    0.037037,    0.038038,    0.039039,     0.04004,    0.041041,    0.042042,    0.043043,    0.044044,    0.045045,    0.046046,    0.047047,\n",
            "          0.048048,    0.049049,     0.05005,    0.051051,    0.052052,    0.053053,    0.054054,    0.055055,    0.056056,    0.057057,    0.058058,    0.059059,     0.06006,    0.061061,    0.062062,    0.063063,    0.064064,    0.065065,    0.066066,    0.067067,    0.068068,    0.069069,     0.07007,    0.071071,\n",
            "          0.072072,    0.073073,    0.074074,    0.075075,    0.076076,    0.077077,    0.078078,    0.079079,     0.08008,    0.081081,    0.082082,    0.083083,    0.084084,    0.085085,    0.086086,    0.087087,    0.088088,    0.089089,     0.09009,    0.091091,    0.092092,    0.093093,    0.094094,    0.095095,\n",
            "          0.096096,    0.097097,    0.098098,    0.099099,      0.1001,      0.1011,      0.1021,      0.1031,      0.1041,     0.10511,     0.10611,     0.10711,     0.10811,     0.10911,     0.11011,     0.11111,     0.11211,     0.11311,     0.11411,     0.11512,     0.11612,     0.11712,     0.11812,     0.11912,\n",
            "           0.12012,     0.12112,     0.12212,     0.12312,     0.12412,     0.12513,     0.12613,     0.12713,     0.12813,     0.12913,     0.13013,     0.13113,     0.13213,     0.13313,     0.13413,     0.13514,     0.13614,     0.13714,     0.13814,     0.13914,     0.14014,     0.14114,     0.14214,     0.14314,\n",
            "           0.14414,     0.14515,     0.14615,     0.14715,     0.14815,     0.14915,     0.15015,     0.15115,     0.15215,     0.15315,     0.15415,     0.15516,     0.15616,     0.15716,     0.15816,     0.15916,     0.16016,     0.16116,     0.16216,     0.16316,     0.16416,     0.16517,     0.16617,     0.16717,\n",
            "           0.16817,     0.16917,     0.17017,     0.17117,     0.17217,     0.17317,     0.17417,     0.17518,     0.17618,     0.17718,     0.17818,     0.17918,     0.18018,     0.18118,     0.18218,     0.18318,     0.18418,     0.18519,     0.18619,     0.18719,     0.18819,     0.18919,     0.19019,     0.19119,\n",
            "           0.19219,     0.19319,     0.19419,      0.1952,      0.1962,      0.1972,      0.1982,      0.1992,      0.2002,      0.2012,      0.2022,      0.2032,      0.2042,     0.20521,     0.20621,     0.20721,     0.20821,     0.20921,     0.21021,     0.21121,     0.21221,     0.21321,     0.21421,     0.21522,\n",
            "           0.21622,     0.21722,     0.21822,     0.21922,     0.22022,     0.22122,     0.22222,     0.22322,     0.22422,     0.22523,     0.22623,     0.22723,     0.22823,     0.22923,     0.23023,     0.23123,     0.23223,     0.23323,     0.23423,     0.23524,     0.23624,     0.23724,     0.23824,     0.23924,\n",
            "           0.24024,     0.24124,     0.24224,     0.24324,     0.24424,     0.24525,     0.24625,     0.24725,     0.24825,     0.24925,     0.25025,     0.25125,     0.25225,     0.25325,     0.25425,     0.25526,     0.25626,     0.25726,     0.25826,     0.25926,     0.26026,     0.26126,     0.26226,     0.26326,\n",
            "           0.26426,     0.26527,     0.26627,     0.26727,     0.26827,     0.26927,     0.27027,     0.27127,     0.27227,     0.27327,     0.27427,     0.27528,     0.27628,     0.27728,     0.27828,     0.27928,     0.28028,     0.28128,     0.28228,     0.28328,     0.28428,     0.28529,     0.28629,     0.28729,\n",
            "           0.28829,     0.28929,     0.29029,     0.29129,     0.29229,     0.29329,     0.29429,      0.2953,      0.2963,      0.2973,      0.2983,      0.2993,      0.3003,      0.3013,      0.3023,      0.3033,      0.3043,     0.30531,     0.30631,     0.30731,     0.30831,     0.30931,     0.31031,     0.31131,\n",
            "           0.31231,     0.31331,     0.31431,     0.31532,     0.31632,     0.31732,     0.31832,     0.31932,     0.32032,     0.32132,     0.32232,     0.32332,     0.32432,     0.32533,     0.32633,     0.32733,     0.32833,     0.32933,     0.33033,     0.33133,     0.33233,     0.33333,     0.33433,     0.33534,\n",
            "           0.33634,     0.33734,     0.33834,     0.33934,     0.34034,     0.34134,     0.34234,     0.34334,     0.34434,     0.34535,     0.34635,     0.34735,     0.34835,     0.34935,     0.35035,     0.35135,     0.35235,     0.35335,     0.35435,     0.35536,     0.35636,     0.35736,     0.35836,     0.35936,\n",
            "           0.36036,     0.36136,     0.36236,     0.36336,     0.36436,     0.36537,     0.36637,     0.36737,     0.36837,     0.36937,     0.37037,     0.37137,     0.37237,     0.37337,     0.37437,     0.37538,     0.37638,     0.37738,     0.37838,     0.37938,     0.38038,     0.38138,     0.38238,     0.38338,\n",
            "           0.38438,     0.38539,     0.38639,     0.38739,     0.38839,     0.38939,     0.39039,     0.39139,     0.39239,     0.39339,     0.39439,      0.3954,      0.3964,      0.3974,      0.3984,      0.3994,      0.4004,      0.4014,      0.4024,      0.4034,      0.4044,     0.40541,     0.40641,     0.40741,\n",
            "           0.40841,     0.40941,     0.41041,     0.41141,     0.41241,     0.41341,     0.41441,     0.41542,     0.41642,     0.41742,     0.41842,     0.41942,     0.42042,     0.42142,     0.42242,     0.42342,     0.42442,     0.42543,     0.42643,     0.42743,     0.42843,     0.42943,     0.43043,     0.43143,\n",
            "           0.43243,     0.43343,     0.43443,     0.43544,     0.43644,     0.43744,     0.43844,     0.43944,     0.44044,     0.44144,     0.44244,     0.44344,     0.44444,     0.44545,     0.44645,     0.44745,     0.44845,     0.44945,     0.45045,     0.45145,     0.45245,     0.45345,     0.45445,     0.45546,\n",
            "           0.45646,     0.45746,     0.45846,     0.45946,     0.46046,     0.46146,     0.46246,     0.46346,     0.46446,     0.46547,     0.46647,     0.46747,     0.46847,     0.46947,     0.47047,     0.47147,     0.47247,     0.47347,     0.47447,     0.47548,     0.47648,     0.47748,     0.47848,     0.47948,\n",
            "           0.48048,     0.48148,     0.48248,     0.48348,     0.48448,     0.48549,     0.48649,     0.48749,     0.48849,     0.48949,     0.49049,     0.49149,     0.49249,     0.49349,     0.49449,      0.4955,      0.4965,      0.4975,      0.4985,      0.4995,      0.5005,      0.5015,      0.5025,      0.5035,\n",
            "            0.5045,     0.50551,     0.50651,     0.50751,     0.50851,     0.50951,     0.51051,     0.51151,     0.51251,     0.51351,     0.51451,     0.51552,     0.51652,     0.51752,     0.51852,     0.51952,     0.52052,     0.52152,     0.52252,     0.52352,     0.52452,     0.52553,     0.52653,     0.52753,\n",
            "           0.52853,     0.52953,     0.53053,     0.53153,     0.53253,     0.53353,     0.53453,     0.53554,     0.53654,     0.53754,     0.53854,     0.53954,     0.54054,     0.54154,     0.54254,     0.54354,     0.54454,     0.54555,     0.54655,     0.54755,     0.54855,     0.54955,     0.55055,     0.55155,\n",
            "           0.55255,     0.55355,     0.55455,     0.55556,     0.55656,     0.55756,     0.55856,     0.55956,     0.56056,     0.56156,     0.56256,     0.56356,     0.56456,     0.56557,     0.56657,     0.56757,     0.56857,     0.56957,     0.57057,     0.57157,     0.57257,     0.57357,     0.57457,     0.57558,\n",
            "           0.57658,     0.57758,     0.57858,     0.57958,     0.58058,     0.58158,     0.58258,     0.58358,     0.58458,     0.58559,     0.58659,     0.58759,     0.58859,     0.58959,     0.59059,     0.59159,     0.59259,     0.59359,     0.59459,      0.5956,      0.5966,      0.5976,      0.5986,      0.5996,\n",
            "            0.6006,      0.6016,      0.6026,      0.6036,      0.6046,     0.60561,     0.60661,     0.60761,     0.60861,     0.60961,     0.61061,     0.61161,     0.61261,     0.61361,     0.61461,     0.61562,     0.61662,     0.61762,     0.61862,     0.61962,     0.62062,     0.62162,     0.62262,     0.62362,\n",
            "           0.62462,     0.62563,     0.62663,     0.62763,     0.62863,     0.62963,     0.63063,     0.63163,     0.63263,     0.63363,     0.63463,     0.63564,     0.63664,     0.63764,     0.63864,     0.63964,     0.64064,     0.64164,     0.64264,     0.64364,     0.64464,     0.64565,     0.64665,     0.64765,\n",
            "           0.64865,     0.64965,     0.65065,     0.65165,     0.65265,     0.65365,     0.65465,     0.65566,     0.65666,     0.65766,     0.65866,     0.65966,     0.66066,     0.66166,     0.66266,     0.66366,     0.66466,     0.66567,     0.66667,     0.66767,     0.66867,     0.66967,     0.67067,     0.67167,\n",
            "           0.67267,     0.67367,     0.67467,     0.67568,     0.67668,     0.67768,     0.67868,     0.67968,     0.68068,     0.68168,     0.68268,     0.68368,     0.68468,     0.68569,     0.68669,     0.68769,     0.68869,     0.68969,     0.69069,     0.69169,     0.69269,     0.69369,     0.69469,      0.6957,\n",
            "            0.6967,      0.6977,      0.6987,      0.6997,      0.7007,      0.7017,      0.7027,      0.7037,      0.7047,     0.70571,     0.70671,     0.70771,     0.70871,     0.70971,     0.71071,     0.71171,     0.71271,     0.71371,     0.71471,     0.71572,     0.71672,     0.71772,     0.71872,     0.71972,\n",
            "           0.72072,     0.72172,     0.72272,     0.72372,     0.72472,     0.72573,     0.72673,     0.72773,     0.72873,     0.72973,     0.73073,     0.73173,     0.73273,     0.73373,     0.73473,     0.73574,     0.73674,     0.73774,     0.73874,     0.73974,     0.74074,     0.74174,     0.74274,     0.74374,\n",
            "           0.74474,     0.74575,     0.74675,     0.74775,     0.74875,     0.74975,     0.75075,     0.75175,     0.75275,     0.75375,     0.75475,     0.75576,     0.75676,     0.75776,     0.75876,     0.75976,     0.76076,     0.76176,     0.76276,     0.76376,     0.76476,     0.76577,     0.76677,     0.76777,\n",
            "           0.76877,     0.76977,     0.77077,     0.77177,     0.77277,     0.77377,     0.77477,     0.77578,     0.77678,     0.77778,     0.77878,     0.77978,     0.78078,     0.78178,     0.78278,     0.78378,     0.78478,     0.78579,     0.78679,     0.78779,     0.78879,     0.78979,     0.79079,     0.79179,\n",
            "           0.79279,     0.79379,     0.79479,      0.7958,      0.7968,      0.7978,      0.7988,      0.7998,      0.8008,      0.8018,      0.8028,      0.8038,      0.8048,     0.80581,     0.80681,     0.80781,     0.80881,     0.80981,     0.81081,     0.81181,     0.81281,     0.81381,     0.81481,     0.81582,\n",
            "           0.81682,     0.81782,     0.81882,     0.81982,     0.82082,     0.82182,     0.82282,     0.82382,     0.82482,     0.82583,     0.82683,     0.82783,     0.82883,     0.82983,     0.83083,     0.83183,     0.83283,     0.83383,     0.83483,     0.83584,     0.83684,     0.83784,     0.83884,     0.83984,\n",
            "           0.84084,     0.84184,     0.84284,     0.84384,     0.84484,     0.84585,     0.84685,     0.84785,     0.84885,     0.84985,     0.85085,     0.85185,     0.85285,     0.85385,     0.85485,     0.85586,     0.85686,     0.85786,     0.85886,     0.85986,     0.86086,     0.86186,     0.86286,     0.86386,\n",
            "           0.86486,     0.86587,     0.86687,     0.86787,     0.86887,     0.86987,     0.87087,     0.87187,     0.87287,     0.87387,     0.87487,     0.87588,     0.87688,     0.87788,     0.87888,     0.87988,     0.88088,     0.88188,     0.88288,     0.88388,     0.88488,     0.88589,     0.88689,     0.88789,\n",
            "           0.88889,     0.88989,     0.89089,     0.89189,     0.89289,     0.89389,     0.89489,      0.8959,      0.8969,      0.8979,      0.8989,      0.8999,      0.9009,      0.9019,      0.9029,      0.9039,      0.9049,     0.90591,     0.90691,     0.90791,     0.90891,     0.90991,     0.91091,     0.91191,\n",
            "           0.91291,     0.91391,     0.91491,     0.91592,     0.91692,     0.91792,     0.91892,     0.91992,     0.92092,     0.92192,     0.92292,     0.92392,     0.92492,     0.92593,     0.92693,     0.92793,     0.92893,     0.92993,     0.93093,     0.93193,     0.93293,     0.93393,     0.93493,     0.93594,\n",
            "           0.93694,     0.93794,     0.93894,     0.93994,     0.94094,     0.94194,     0.94294,     0.94394,     0.94494,     0.94595,     0.94695,     0.94795,     0.94895,     0.94995,     0.95095,     0.95195,     0.95295,     0.95395,     0.95495,     0.95596,     0.95696,     0.95796,     0.95896,     0.95996,\n",
            "           0.96096,     0.96196,     0.96296,     0.96396,     0.96496,     0.96597,     0.96697,     0.96797,     0.96897,     0.96997,     0.97097,     0.97197,     0.97297,     0.97397,     0.97497,     0.97598,     0.97698,     0.97798,     0.97898,     0.97998,     0.98098,     0.98198,     0.98298,     0.98398,\n",
            "           0.98498,     0.98599,     0.98699,     0.98799,     0.98899,     0.98999,     0.99099,     0.99199,     0.99299,     0.99399,     0.99499,       0.996,       0.997,       0.998,       0.999,           1]), array([[          1,           1,           1, ...,    0.019123,   0.0095615,           0],\n",
            "       [          1,           1,           1, ...,           1,           1,           0]]), 'Recall', 'Precision'], [array([          0,    0.001001,    0.002002,    0.003003,    0.004004,    0.005005,    0.006006,    0.007007,    0.008008,    0.009009,     0.01001,    0.011011,    0.012012,    0.013013,    0.014014,    0.015015,    0.016016,    0.017017,    0.018018,    0.019019,     0.02002,    0.021021,    0.022022,    0.023023,\n",
            "          0.024024,    0.025025,    0.026026,    0.027027,    0.028028,    0.029029,     0.03003,    0.031031,    0.032032,    0.033033,    0.034034,    0.035035,    0.036036,    0.037037,    0.038038,    0.039039,     0.04004,    0.041041,    0.042042,    0.043043,    0.044044,    0.045045,    0.046046,    0.047047,\n",
            "          0.048048,    0.049049,     0.05005,    0.051051,    0.052052,    0.053053,    0.054054,    0.055055,    0.056056,    0.057057,    0.058058,    0.059059,     0.06006,    0.061061,    0.062062,    0.063063,    0.064064,    0.065065,    0.066066,    0.067067,    0.068068,    0.069069,     0.07007,    0.071071,\n",
            "          0.072072,    0.073073,    0.074074,    0.075075,    0.076076,    0.077077,    0.078078,    0.079079,     0.08008,    0.081081,    0.082082,    0.083083,    0.084084,    0.085085,    0.086086,    0.087087,    0.088088,    0.089089,     0.09009,    0.091091,    0.092092,    0.093093,    0.094094,    0.095095,\n",
            "          0.096096,    0.097097,    0.098098,    0.099099,      0.1001,      0.1011,      0.1021,      0.1031,      0.1041,     0.10511,     0.10611,     0.10711,     0.10811,     0.10911,     0.11011,     0.11111,     0.11211,     0.11311,     0.11411,     0.11512,     0.11612,     0.11712,     0.11812,     0.11912,\n",
            "           0.12012,     0.12112,     0.12212,     0.12312,     0.12412,     0.12513,     0.12613,     0.12713,     0.12813,     0.12913,     0.13013,     0.13113,     0.13213,     0.13313,     0.13413,     0.13514,     0.13614,     0.13714,     0.13814,     0.13914,     0.14014,     0.14114,     0.14214,     0.14314,\n",
            "           0.14414,     0.14515,     0.14615,     0.14715,     0.14815,     0.14915,     0.15015,     0.15115,     0.15215,     0.15315,     0.15415,     0.15516,     0.15616,     0.15716,     0.15816,     0.15916,     0.16016,     0.16116,     0.16216,     0.16316,     0.16416,     0.16517,     0.16617,     0.16717,\n",
            "           0.16817,     0.16917,     0.17017,     0.17117,     0.17217,     0.17317,     0.17417,     0.17518,     0.17618,     0.17718,     0.17818,     0.17918,     0.18018,     0.18118,     0.18218,     0.18318,     0.18418,     0.18519,     0.18619,     0.18719,     0.18819,     0.18919,     0.19019,     0.19119,\n",
            "           0.19219,     0.19319,     0.19419,      0.1952,      0.1962,      0.1972,      0.1982,      0.1992,      0.2002,      0.2012,      0.2022,      0.2032,      0.2042,     0.20521,     0.20621,     0.20721,     0.20821,     0.20921,     0.21021,     0.21121,     0.21221,     0.21321,     0.21421,     0.21522,\n",
            "           0.21622,     0.21722,     0.21822,     0.21922,     0.22022,     0.22122,     0.22222,     0.22322,     0.22422,     0.22523,     0.22623,     0.22723,     0.22823,     0.22923,     0.23023,     0.23123,     0.23223,     0.23323,     0.23423,     0.23524,     0.23624,     0.23724,     0.23824,     0.23924,\n",
            "           0.24024,     0.24124,     0.24224,     0.24324,     0.24424,     0.24525,     0.24625,     0.24725,     0.24825,     0.24925,     0.25025,     0.25125,     0.25225,     0.25325,     0.25425,     0.25526,     0.25626,     0.25726,     0.25826,     0.25926,     0.26026,     0.26126,     0.26226,     0.26326,\n",
            "           0.26426,     0.26527,     0.26627,     0.26727,     0.26827,     0.26927,     0.27027,     0.27127,     0.27227,     0.27327,     0.27427,     0.27528,     0.27628,     0.27728,     0.27828,     0.27928,     0.28028,     0.28128,     0.28228,     0.28328,     0.28428,     0.28529,     0.28629,     0.28729,\n",
            "           0.28829,     0.28929,     0.29029,     0.29129,     0.29229,     0.29329,     0.29429,      0.2953,      0.2963,      0.2973,      0.2983,      0.2993,      0.3003,      0.3013,      0.3023,      0.3033,      0.3043,     0.30531,     0.30631,     0.30731,     0.30831,     0.30931,     0.31031,     0.31131,\n",
            "           0.31231,     0.31331,     0.31431,     0.31532,     0.31632,     0.31732,     0.31832,     0.31932,     0.32032,     0.32132,     0.32232,     0.32332,     0.32432,     0.32533,     0.32633,     0.32733,     0.32833,     0.32933,     0.33033,     0.33133,     0.33233,     0.33333,     0.33433,     0.33534,\n",
            "           0.33634,     0.33734,     0.33834,     0.33934,     0.34034,     0.34134,     0.34234,     0.34334,     0.34434,     0.34535,     0.34635,     0.34735,     0.34835,     0.34935,     0.35035,     0.35135,     0.35235,     0.35335,     0.35435,     0.35536,     0.35636,     0.35736,     0.35836,     0.35936,\n",
            "           0.36036,     0.36136,     0.36236,     0.36336,     0.36436,     0.36537,     0.36637,     0.36737,     0.36837,     0.36937,     0.37037,     0.37137,     0.37237,     0.37337,     0.37437,     0.37538,     0.37638,     0.37738,     0.37838,     0.37938,     0.38038,     0.38138,     0.38238,     0.38338,\n",
            "           0.38438,     0.38539,     0.38639,     0.38739,     0.38839,     0.38939,     0.39039,     0.39139,     0.39239,     0.39339,     0.39439,      0.3954,      0.3964,      0.3974,      0.3984,      0.3994,      0.4004,      0.4014,      0.4024,      0.4034,      0.4044,     0.40541,     0.40641,     0.40741,\n",
            "           0.40841,     0.40941,     0.41041,     0.41141,     0.41241,     0.41341,     0.41441,     0.41542,     0.41642,     0.41742,     0.41842,     0.41942,     0.42042,     0.42142,     0.42242,     0.42342,     0.42442,     0.42543,     0.42643,     0.42743,     0.42843,     0.42943,     0.43043,     0.43143,\n",
            "           0.43243,     0.43343,     0.43443,     0.43544,     0.43644,     0.43744,     0.43844,     0.43944,     0.44044,     0.44144,     0.44244,     0.44344,     0.44444,     0.44545,     0.44645,     0.44745,     0.44845,     0.44945,     0.45045,     0.45145,     0.45245,     0.45345,     0.45445,     0.45546,\n",
            "           0.45646,     0.45746,     0.45846,     0.45946,     0.46046,     0.46146,     0.46246,     0.46346,     0.46446,     0.46547,     0.46647,     0.46747,     0.46847,     0.46947,     0.47047,     0.47147,     0.47247,     0.47347,     0.47447,     0.47548,     0.47648,     0.47748,     0.47848,     0.47948,\n",
            "           0.48048,     0.48148,     0.48248,     0.48348,     0.48448,     0.48549,     0.48649,     0.48749,     0.48849,     0.48949,     0.49049,     0.49149,     0.49249,     0.49349,     0.49449,      0.4955,      0.4965,      0.4975,      0.4985,      0.4995,      0.5005,      0.5015,      0.5025,      0.5035,\n",
            "            0.5045,     0.50551,     0.50651,     0.50751,     0.50851,     0.50951,     0.51051,     0.51151,     0.51251,     0.51351,     0.51451,     0.51552,     0.51652,     0.51752,     0.51852,     0.51952,     0.52052,     0.52152,     0.52252,     0.52352,     0.52452,     0.52553,     0.52653,     0.52753,\n",
            "           0.52853,     0.52953,     0.53053,     0.53153,     0.53253,     0.53353,     0.53453,     0.53554,     0.53654,     0.53754,     0.53854,     0.53954,     0.54054,     0.54154,     0.54254,     0.54354,     0.54454,     0.54555,     0.54655,     0.54755,     0.54855,     0.54955,     0.55055,     0.55155,\n",
            "           0.55255,     0.55355,     0.55455,     0.55556,     0.55656,     0.55756,     0.55856,     0.55956,     0.56056,     0.56156,     0.56256,     0.56356,     0.56456,     0.56557,     0.56657,     0.56757,     0.56857,     0.56957,     0.57057,     0.57157,     0.57257,     0.57357,     0.57457,     0.57558,\n",
            "           0.57658,     0.57758,     0.57858,     0.57958,     0.58058,     0.58158,     0.58258,     0.58358,     0.58458,     0.58559,     0.58659,     0.58759,     0.58859,     0.58959,     0.59059,     0.59159,     0.59259,     0.59359,     0.59459,      0.5956,      0.5966,      0.5976,      0.5986,      0.5996,\n",
            "            0.6006,      0.6016,      0.6026,      0.6036,      0.6046,     0.60561,     0.60661,     0.60761,     0.60861,     0.60961,     0.61061,     0.61161,     0.61261,     0.61361,     0.61461,     0.61562,     0.61662,     0.61762,     0.61862,     0.61962,     0.62062,     0.62162,     0.62262,     0.62362,\n",
            "           0.62462,     0.62563,     0.62663,     0.62763,     0.62863,     0.62963,     0.63063,     0.63163,     0.63263,     0.63363,     0.63463,     0.63564,     0.63664,     0.63764,     0.63864,     0.63964,     0.64064,     0.64164,     0.64264,     0.64364,     0.64464,     0.64565,     0.64665,     0.64765,\n",
            "           0.64865,     0.64965,     0.65065,     0.65165,     0.65265,     0.65365,     0.65465,     0.65566,     0.65666,     0.65766,     0.65866,     0.65966,     0.66066,     0.66166,     0.66266,     0.66366,     0.66466,     0.66567,     0.66667,     0.66767,     0.66867,     0.66967,     0.67067,     0.67167,\n",
            "           0.67267,     0.67367,     0.67467,     0.67568,     0.67668,     0.67768,     0.67868,     0.67968,     0.68068,     0.68168,     0.68268,     0.68368,     0.68468,     0.68569,     0.68669,     0.68769,     0.68869,     0.68969,     0.69069,     0.69169,     0.69269,     0.69369,     0.69469,      0.6957,\n",
            "            0.6967,      0.6977,      0.6987,      0.6997,      0.7007,      0.7017,      0.7027,      0.7037,      0.7047,     0.70571,     0.70671,     0.70771,     0.70871,     0.70971,     0.71071,     0.71171,     0.71271,     0.71371,     0.71471,     0.71572,     0.71672,     0.71772,     0.71872,     0.71972,\n",
            "           0.72072,     0.72172,     0.72272,     0.72372,     0.72472,     0.72573,     0.72673,     0.72773,     0.72873,     0.72973,     0.73073,     0.73173,     0.73273,     0.73373,     0.73473,     0.73574,     0.73674,     0.73774,     0.73874,     0.73974,     0.74074,     0.74174,     0.74274,     0.74374,\n",
            "           0.74474,     0.74575,     0.74675,     0.74775,     0.74875,     0.74975,     0.75075,     0.75175,     0.75275,     0.75375,     0.75475,     0.75576,     0.75676,     0.75776,     0.75876,     0.75976,     0.76076,     0.76176,     0.76276,     0.76376,     0.76476,     0.76577,     0.76677,     0.76777,\n",
            "           0.76877,     0.76977,     0.77077,     0.77177,     0.77277,     0.77377,     0.77477,     0.77578,     0.77678,     0.77778,     0.77878,     0.77978,     0.78078,     0.78178,     0.78278,     0.78378,     0.78478,     0.78579,     0.78679,     0.78779,     0.78879,     0.78979,     0.79079,     0.79179,\n",
            "           0.79279,     0.79379,     0.79479,      0.7958,      0.7968,      0.7978,      0.7988,      0.7998,      0.8008,      0.8018,      0.8028,      0.8038,      0.8048,     0.80581,     0.80681,     0.80781,     0.80881,     0.80981,     0.81081,     0.81181,     0.81281,     0.81381,     0.81481,     0.81582,\n",
            "           0.81682,     0.81782,     0.81882,     0.81982,     0.82082,     0.82182,     0.82282,     0.82382,     0.82482,     0.82583,     0.82683,     0.82783,     0.82883,     0.82983,     0.83083,     0.83183,     0.83283,     0.83383,     0.83483,     0.83584,     0.83684,     0.83784,     0.83884,     0.83984,\n",
            "           0.84084,     0.84184,     0.84284,     0.84384,     0.84484,     0.84585,     0.84685,     0.84785,     0.84885,     0.84985,     0.85085,     0.85185,     0.85285,     0.85385,     0.85485,     0.85586,     0.85686,     0.85786,     0.85886,     0.85986,     0.86086,     0.86186,     0.86286,     0.86386,\n",
            "           0.86486,     0.86587,     0.86687,     0.86787,     0.86887,     0.86987,     0.87087,     0.87187,     0.87287,     0.87387,     0.87487,     0.87588,     0.87688,     0.87788,     0.87888,     0.87988,     0.88088,     0.88188,     0.88288,     0.88388,     0.88488,     0.88589,     0.88689,     0.88789,\n",
            "           0.88889,     0.88989,     0.89089,     0.89189,     0.89289,     0.89389,     0.89489,      0.8959,      0.8969,      0.8979,      0.8989,      0.8999,      0.9009,      0.9019,      0.9029,      0.9039,      0.9049,     0.90591,     0.90691,     0.90791,     0.90891,     0.90991,     0.91091,     0.91191,\n",
            "           0.91291,     0.91391,     0.91491,     0.91592,     0.91692,     0.91792,     0.91892,     0.91992,     0.92092,     0.92192,     0.92292,     0.92392,     0.92492,     0.92593,     0.92693,     0.92793,     0.92893,     0.92993,     0.93093,     0.93193,     0.93293,     0.93393,     0.93493,     0.93594,\n",
            "           0.93694,     0.93794,     0.93894,     0.93994,     0.94094,     0.94194,     0.94294,     0.94394,     0.94494,     0.94595,     0.94695,     0.94795,     0.94895,     0.94995,     0.95095,     0.95195,     0.95295,     0.95395,     0.95495,     0.95596,     0.95696,     0.95796,     0.95896,     0.95996,\n",
            "           0.96096,     0.96196,     0.96296,     0.96396,     0.96496,     0.96597,     0.96697,     0.96797,     0.96897,     0.96997,     0.97097,     0.97197,     0.97297,     0.97397,     0.97497,     0.97598,     0.97698,     0.97798,     0.97898,     0.97998,     0.98098,     0.98198,     0.98298,     0.98398,\n",
            "           0.98498,     0.98599,     0.98699,     0.98799,     0.98899,     0.98999,     0.99099,     0.99199,     0.99299,     0.99399,     0.99499,       0.996,       0.997,       0.998,       0.999,           1]), array([[    0.35906,     0.35928,     0.48093, ...,           0,           0,           0],\n",
            "       [    0.33766,     0.33766,     0.57702, ...,           0,           0,           0]]), 'Confidence', 'F1'], [array([          0,    0.001001,    0.002002,    0.003003,    0.004004,    0.005005,    0.006006,    0.007007,    0.008008,    0.009009,     0.01001,    0.011011,    0.012012,    0.013013,    0.014014,    0.015015,    0.016016,    0.017017,    0.018018,    0.019019,     0.02002,    0.021021,    0.022022,    0.023023,\n",
            "          0.024024,    0.025025,    0.026026,    0.027027,    0.028028,    0.029029,     0.03003,    0.031031,    0.032032,    0.033033,    0.034034,    0.035035,    0.036036,    0.037037,    0.038038,    0.039039,     0.04004,    0.041041,    0.042042,    0.043043,    0.044044,    0.045045,    0.046046,    0.047047,\n",
            "          0.048048,    0.049049,     0.05005,    0.051051,    0.052052,    0.053053,    0.054054,    0.055055,    0.056056,    0.057057,    0.058058,    0.059059,     0.06006,    0.061061,    0.062062,    0.063063,    0.064064,    0.065065,    0.066066,    0.067067,    0.068068,    0.069069,     0.07007,    0.071071,\n",
            "          0.072072,    0.073073,    0.074074,    0.075075,    0.076076,    0.077077,    0.078078,    0.079079,     0.08008,    0.081081,    0.082082,    0.083083,    0.084084,    0.085085,    0.086086,    0.087087,    0.088088,    0.089089,     0.09009,    0.091091,    0.092092,    0.093093,    0.094094,    0.095095,\n",
            "          0.096096,    0.097097,    0.098098,    0.099099,      0.1001,      0.1011,      0.1021,      0.1031,      0.1041,     0.10511,     0.10611,     0.10711,     0.10811,     0.10911,     0.11011,     0.11111,     0.11211,     0.11311,     0.11411,     0.11512,     0.11612,     0.11712,     0.11812,     0.11912,\n",
            "           0.12012,     0.12112,     0.12212,     0.12312,     0.12412,     0.12513,     0.12613,     0.12713,     0.12813,     0.12913,     0.13013,     0.13113,     0.13213,     0.13313,     0.13413,     0.13514,     0.13614,     0.13714,     0.13814,     0.13914,     0.14014,     0.14114,     0.14214,     0.14314,\n",
            "           0.14414,     0.14515,     0.14615,     0.14715,     0.14815,     0.14915,     0.15015,     0.15115,     0.15215,     0.15315,     0.15415,     0.15516,     0.15616,     0.15716,     0.15816,     0.15916,     0.16016,     0.16116,     0.16216,     0.16316,     0.16416,     0.16517,     0.16617,     0.16717,\n",
            "           0.16817,     0.16917,     0.17017,     0.17117,     0.17217,     0.17317,     0.17417,     0.17518,     0.17618,     0.17718,     0.17818,     0.17918,     0.18018,     0.18118,     0.18218,     0.18318,     0.18418,     0.18519,     0.18619,     0.18719,     0.18819,     0.18919,     0.19019,     0.19119,\n",
            "           0.19219,     0.19319,     0.19419,      0.1952,      0.1962,      0.1972,      0.1982,      0.1992,      0.2002,      0.2012,      0.2022,      0.2032,      0.2042,     0.20521,     0.20621,     0.20721,     0.20821,     0.20921,     0.21021,     0.21121,     0.21221,     0.21321,     0.21421,     0.21522,\n",
            "           0.21622,     0.21722,     0.21822,     0.21922,     0.22022,     0.22122,     0.22222,     0.22322,     0.22422,     0.22523,     0.22623,     0.22723,     0.22823,     0.22923,     0.23023,     0.23123,     0.23223,     0.23323,     0.23423,     0.23524,     0.23624,     0.23724,     0.23824,     0.23924,\n",
            "           0.24024,     0.24124,     0.24224,     0.24324,     0.24424,     0.24525,     0.24625,     0.24725,     0.24825,     0.24925,     0.25025,     0.25125,     0.25225,     0.25325,     0.25425,     0.25526,     0.25626,     0.25726,     0.25826,     0.25926,     0.26026,     0.26126,     0.26226,     0.26326,\n",
            "           0.26426,     0.26527,     0.26627,     0.26727,     0.26827,     0.26927,     0.27027,     0.27127,     0.27227,     0.27327,     0.27427,     0.27528,     0.27628,     0.27728,     0.27828,     0.27928,     0.28028,     0.28128,     0.28228,     0.28328,     0.28428,     0.28529,     0.28629,     0.28729,\n",
            "           0.28829,     0.28929,     0.29029,     0.29129,     0.29229,     0.29329,     0.29429,      0.2953,      0.2963,      0.2973,      0.2983,      0.2993,      0.3003,      0.3013,      0.3023,      0.3033,      0.3043,     0.30531,     0.30631,     0.30731,     0.30831,     0.30931,     0.31031,     0.31131,\n",
            "           0.31231,     0.31331,     0.31431,     0.31532,     0.31632,     0.31732,     0.31832,     0.31932,     0.32032,     0.32132,     0.32232,     0.32332,     0.32432,     0.32533,     0.32633,     0.32733,     0.32833,     0.32933,     0.33033,     0.33133,     0.33233,     0.33333,     0.33433,     0.33534,\n",
            "           0.33634,     0.33734,     0.33834,     0.33934,     0.34034,     0.34134,     0.34234,     0.34334,     0.34434,     0.34535,     0.34635,     0.34735,     0.34835,     0.34935,     0.35035,     0.35135,     0.35235,     0.35335,     0.35435,     0.35536,     0.35636,     0.35736,     0.35836,     0.35936,\n",
            "           0.36036,     0.36136,     0.36236,     0.36336,     0.36436,     0.36537,     0.36637,     0.36737,     0.36837,     0.36937,     0.37037,     0.37137,     0.37237,     0.37337,     0.37437,     0.37538,     0.37638,     0.37738,     0.37838,     0.37938,     0.38038,     0.38138,     0.38238,     0.38338,\n",
            "           0.38438,     0.38539,     0.38639,     0.38739,     0.38839,     0.38939,     0.39039,     0.39139,     0.39239,     0.39339,     0.39439,      0.3954,      0.3964,      0.3974,      0.3984,      0.3994,      0.4004,      0.4014,      0.4024,      0.4034,      0.4044,     0.40541,     0.40641,     0.40741,\n",
            "           0.40841,     0.40941,     0.41041,     0.41141,     0.41241,     0.41341,     0.41441,     0.41542,     0.41642,     0.41742,     0.41842,     0.41942,     0.42042,     0.42142,     0.42242,     0.42342,     0.42442,     0.42543,     0.42643,     0.42743,     0.42843,     0.42943,     0.43043,     0.43143,\n",
            "           0.43243,     0.43343,     0.43443,     0.43544,     0.43644,     0.43744,     0.43844,     0.43944,     0.44044,     0.44144,     0.44244,     0.44344,     0.44444,     0.44545,     0.44645,     0.44745,     0.44845,     0.44945,     0.45045,     0.45145,     0.45245,     0.45345,     0.45445,     0.45546,\n",
            "           0.45646,     0.45746,     0.45846,     0.45946,     0.46046,     0.46146,     0.46246,     0.46346,     0.46446,     0.46547,     0.46647,     0.46747,     0.46847,     0.46947,     0.47047,     0.47147,     0.47247,     0.47347,     0.47447,     0.47548,     0.47648,     0.47748,     0.47848,     0.47948,\n",
            "           0.48048,     0.48148,     0.48248,     0.48348,     0.48448,     0.48549,     0.48649,     0.48749,     0.48849,     0.48949,     0.49049,     0.49149,     0.49249,     0.49349,     0.49449,      0.4955,      0.4965,      0.4975,      0.4985,      0.4995,      0.5005,      0.5015,      0.5025,      0.5035,\n",
            "            0.5045,     0.50551,     0.50651,     0.50751,     0.50851,     0.50951,     0.51051,     0.51151,     0.51251,     0.51351,     0.51451,     0.51552,     0.51652,     0.51752,     0.51852,     0.51952,     0.52052,     0.52152,     0.52252,     0.52352,     0.52452,     0.52553,     0.52653,     0.52753,\n",
            "           0.52853,     0.52953,     0.53053,     0.53153,     0.53253,     0.53353,     0.53453,     0.53554,     0.53654,     0.53754,     0.53854,     0.53954,     0.54054,     0.54154,     0.54254,     0.54354,     0.54454,     0.54555,     0.54655,     0.54755,     0.54855,     0.54955,     0.55055,     0.55155,\n",
            "           0.55255,     0.55355,     0.55455,     0.55556,     0.55656,     0.55756,     0.55856,     0.55956,     0.56056,     0.56156,     0.56256,     0.56356,     0.56456,     0.56557,     0.56657,     0.56757,     0.56857,     0.56957,     0.57057,     0.57157,     0.57257,     0.57357,     0.57457,     0.57558,\n",
            "           0.57658,     0.57758,     0.57858,     0.57958,     0.58058,     0.58158,     0.58258,     0.58358,     0.58458,     0.58559,     0.58659,     0.58759,     0.58859,     0.58959,     0.59059,     0.59159,     0.59259,     0.59359,     0.59459,      0.5956,      0.5966,      0.5976,      0.5986,      0.5996,\n",
            "            0.6006,      0.6016,      0.6026,      0.6036,      0.6046,     0.60561,     0.60661,     0.60761,     0.60861,     0.60961,     0.61061,     0.61161,     0.61261,     0.61361,     0.61461,     0.61562,     0.61662,     0.61762,     0.61862,     0.61962,     0.62062,     0.62162,     0.62262,     0.62362,\n",
            "           0.62462,     0.62563,     0.62663,     0.62763,     0.62863,     0.62963,     0.63063,     0.63163,     0.63263,     0.63363,     0.63463,     0.63564,     0.63664,     0.63764,     0.63864,     0.63964,     0.64064,     0.64164,     0.64264,     0.64364,     0.64464,     0.64565,     0.64665,     0.64765,\n",
            "           0.64865,     0.64965,     0.65065,     0.65165,     0.65265,     0.65365,     0.65465,     0.65566,     0.65666,     0.65766,     0.65866,     0.65966,     0.66066,     0.66166,     0.66266,     0.66366,     0.66466,     0.66567,     0.66667,     0.66767,     0.66867,     0.66967,     0.67067,     0.67167,\n",
            "           0.67267,     0.67367,     0.67467,     0.67568,     0.67668,     0.67768,     0.67868,     0.67968,     0.68068,     0.68168,     0.68268,     0.68368,     0.68468,     0.68569,     0.68669,     0.68769,     0.68869,     0.68969,     0.69069,     0.69169,     0.69269,     0.69369,     0.69469,      0.6957,\n",
            "            0.6967,      0.6977,      0.6987,      0.6997,      0.7007,      0.7017,      0.7027,      0.7037,      0.7047,     0.70571,     0.70671,     0.70771,     0.70871,     0.70971,     0.71071,     0.71171,     0.71271,     0.71371,     0.71471,     0.71572,     0.71672,     0.71772,     0.71872,     0.71972,\n",
            "           0.72072,     0.72172,     0.72272,     0.72372,     0.72472,     0.72573,     0.72673,     0.72773,     0.72873,     0.72973,     0.73073,     0.73173,     0.73273,     0.73373,     0.73473,     0.73574,     0.73674,     0.73774,     0.73874,     0.73974,     0.74074,     0.74174,     0.74274,     0.74374,\n",
            "           0.74474,     0.74575,     0.74675,     0.74775,     0.74875,     0.74975,     0.75075,     0.75175,     0.75275,     0.75375,     0.75475,     0.75576,     0.75676,     0.75776,     0.75876,     0.75976,     0.76076,     0.76176,     0.76276,     0.76376,     0.76476,     0.76577,     0.76677,     0.76777,\n",
            "           0.76877,     0.76977,     0.77077,     0.77177,     0.77277,     0.77377,     0.77477,     0.77578,     0.77678,     0.77778,     0.77878,     0.77978,     0.78078,     0.78178,     0.78278,     0.78378,     0.78478,     0.78579,     0.78679,     0.78779,     0.78879,     0.78979,     0.79079,     0.79179,\n",
            "           0.79279,     0.79379,     0.79479,      0.7958,      0.7968,      0.7978,      0.7988,      0.7998,      0.8008,      0.8018,      0.8028,      0.8038,      0.8048,     0.80581,     0.80681,     0.80781,     0.80881,     0.80981,     0.81081,     0.81181,     0.81281,     0.81381,     0.81481,     0.81582,\n",
            "           0.81682,     0.81782,     0.81882,     0.81982,     0.82082,     0.82182,     0.82282,     0.82382,     0.82482,     0.82583,     0.82683,     0.82783,     0.82883,     0.82983,     0.83083,     0.83183,     0.83283,     0.83383,     0.83483,     0.83584,     0.83684,     0.83784,     0.83884,     0.83984,\n",
            "           0.84084,     0.84184,     0.84284,     0.84384,     0.84484,     0.84585,     0.84685,     0.84785,     0.84885,     0.84985,     0.85085,     0.85185,     0.85285,     0.85385,     0.85485,     0.85586,     0.85686,     0.85786,     0.85886,     0.85986,     0.86086,     0.86186,     0.86286,     0.86386,\n",
            "           0.86486,     0.86587,     0.86687,     0.86787,     0.86887,     0.86987,     0.87087,     0.87187,     0.87287,     0.87387,     0.87487,     0.87588,     0.87688,     0.87788,     0.87888,     0.87988,     0.88088,     0.88188,     0.88288,     0.88388,     0.88488,     0.88589,     0.88689,     0.88789,\n",
            "           0.88889,     0.88989,     0.89089,     0.89189,     0.89289,     0.89389,     0.89489,      0.8959,      0.8969,      0.8979,      0.8989,      0.8999,      0.9009,      0.9019,      0.9029,      0.9039,      0.9049,     0.90591,     0.90691,     0.90791,     0.90891,     0.90991,     0.91091,     0.91191,\n",
            "           0.91291,     0.91391,     0.91491,     0.91592,     0.91692,     0.91792,     0.91892,     0.91992,     0.92092,     0.92192,     0.92292,     0.92392,     0.92492,     0.92593,     0.92693,     0.92793,     0.92893,     0.92993,     0.93093,     0.93193,     0.93293,     0.93393,     0.93493,     0.93594,\n",
            "           0.93694,     0.93794,     0.93894,     0.93994,     0.94094,     0.94194,     0.94294,     0.94394,     0.94494,     0.94595,     0.94695,     0.94795,     0.94895,     0.94995,     0.95095,     0.95195,     0.95295,     0.95395,     0.95495,     0.95596,     0.95696,     0.95796,     0.95896,     0.95996,\n",
            "           0.96096,     0.96196,     0.96296,     0.96396,     0.96496,     0.96597,     0.96697,     0.96797,     0.96897,     0.96997,     0.97097,     0.97197,     0.97297,     0.97397,     0.97497,     0.97598,     0.97698,     0.97798,     0.97898,     0.97998,     0.98098,     0.98198,     0.98298,     0.98398,\n",
            "           0.98498,     0.98599,     0.98699,     0.98799,     0.98899,     0.98999,     0.99099,     0.99199,     0.99299,     0.99399,     0.99499,       0.996,       0.997,       0.998,       0.999,           1]), array([[    0.21995,     0.22011,      0.3191, ...,           1,           1,           1],\n",
            "       [    0.20312,     0.20312,      0.4055, ...,           1,           1,           1]]), 'Confidence', 'Precision'], [array([          0,    0.001001,    0.002002,    0.003003,    0.004004,    0.005005,    0.006006,    0.007007,    0.008008,    0.009009,     0.01001,    0.011011,    0.012012,    0.013013,    0.014014,    0.015015,    0.016016,    0.017017,    0.018018,    0.019019,     0.02002,    0.021021,    0.022022,    0.023023,\n",
            "          0.024024,    0.025025,    0.026026,    0.027027,    0.028028,    0.029029,     0.03003,    0.031031,    0.032032,    0.033033,    0.034034,    0.035035,    0.036036,    0.037037,    0.038038,    0.039039,     0.04004,    0.041041,    0.042042,    0.043043,    0.044044,    0.045045,    0.046046,    0.047047,\n",
            "          0.048048,    0.049049,     0.05005,    0.051051,    0.052052,    0.053053,    0.054054,    0.055055,    0.056056,    0.057057,    0.058058,    0.059059,     0.06006,    0.061061,    0.062062,    0.063063,    0.064064,    0.065065,    0.066066,    0.067067,    0.068068,    0.069069,     0.07007,    0.071071,\n",
            "          0.072072,    0.073073,    0.074074,    0.075075,    0.076076,    0.077077,    0.078078,    0.079079,     0.08008,    0.081081,    0.082082,    0.083083,    0.084084,    0.085085,    0.086086,    0.087087,    0.088088,    0.089089,     0.09009,    0.091091,    0.092092,    0.093093,    0.094094,    0.095095,\n",
            "          0.096096,    0.097097,    0.098098,    0.099099,      0.1001,      0.1011,      0.1021,      0.1031,      0.1041,     0.10511,     0.10611,     0.10711,     0.10811,     0.10911,     0.11011,     0.11111,     0.11211,     0.11311,     0.11411,     0.11512,     0.11612,     0.11712,     0.11812,     0.11912,\n",
            "           0.12012,     0.12112,     0.12212,     0.12312,     0.12412,     0.12513,     0.12613,     0.12713,     0.12813,     0.12913,     0.13013,     0.13113,     0.13213,     0.13313,     0.13413,     0.13514,     0.13614,     0.13714,     0.13814,     0.13914,     0.14014,     0.14114,     0.14214,     0.14314,\n",
            "           0.14414,     0.14515,     0.14615,     0.14715,     0.14815,     0.14915,     0.15015,     0.15115,     0.15215,     0.15315,     0.15415,     0.15516,     0.15616,     0.15716,     0.15816,     0.15916,     0.16016,     0.16116,     0.16216,     0.16316,     0.16416,     0.16517,     0.16617,     0.16717,\n",
            "           0.16817,     0.16917,     0.17017,     0.17117,     0.17217,     0.17317,     0.17417,     0.17518,     0.17618,     0.17718,     0.17818,     0.17918,     0.18018,     0.18118,     0.18218,     0.18318,     0.18418,     0.18519,     0.18619,     0.18719,     0.18819,     0.18919,     0.19019,     0.19119,\n",
            "           0.19219,     0.19319,     0.19419,      0.1952,      0.1962,      0.1972,      0.1982,      0.1992,      0.2002,      0.2012,      0.2022,      0.2032,      0.2042,     0.20521,     0.20621,     0.20721,     0.20821,     0.20921,     0.21021,     0.21121,     0.21221,     0.21321,     0.21421,     0.21522,\n",
            "           0.21622,     0.21722,     0.21822,     0.21922,     0.22022,     0.22122,     0.22222,     0.22322,     0.22422,     0.22523,     0.22623,     0.22723,     0.22823,     0.22923,     0.23023,     0.23123,     0.23223,     0.23323,     0.23423,     0.23524,     0.23624,     0.23724,     0.23824,     0.23924,\n",
            "           0.24024,     0.24124,     0.24224,     0.24324,     0.24424,     0.24525,     0.24625,     0.24725,     0.24825,     0.24925,     0.25025,     0.25125,     0.25225,     0.25325,     0.25425,     0.25526,     0.25626,     0.25726,     0.25826,     0.25926,     0.26026,     0.26126,     0.26226,     0.26326,\n",
            "           0.26426,     0.26527,     0.26627,     0.26727,     0.26827,     0.26927,     0.27027,     0.27127,     0.27227,     0.27327,     0.27427,     0.27528,     0.27628,     0.27728,     0.27828,     0.27928,     0.28028,     0.28128,     0.28228,     0.28328,     0.28428,     0.28529,     0.28629,     0.28729,\n",
            "           0.28829,     0.28929,     0.29029,     0.29129,     0.29229,     0.29329,     0.29429,      0.2953,      0.2963,      0.2973,      0.2983,      0.2993,      0.3003,      0.3013,      0.3023,      0.3033,      0.3043,     0.30531,     0.30631,     0.30731,     0.30831,     0.30931,     0.31031,     0.31131,\n",
            "           0.31231,     0.31331,     0.31431,     0.31532,     0.31632,     0.31732,     0.31832,     0.31932,     0.32032,     0.32132,     0.32232,     0.32332,     0.32432,     0.32533,     0.32633,     0.32733,     0.32833,     0.32933,     0.33033,     0.33133,     0.33233,     0.33333,     0.33433,     0.33534,\n",
            "           0.33634,     0.33734,     0.33834,     0.33934,     0.34034,     0.34134,     0.34234,     0.34334,     0.34434,     0.34535,     0.34635,     0.34735,     0.34835,     0.34935,     0.35035,     0.35135,     0.35235,     0.35335,     0.35435,     0.35536,     0.35636,     0.35736,     0.35836,     0.35936,\n",
            "           0.36036,     0.36136,     0.36236,     0.36336,     0.36436,     0.36537,     0.36637,     0.36737,     0.36837,     0.36937,     0.37037,     0.37137,     0.37237,     0.37337,     0.37437,     0.37538,     0.37638,     0.37738,     0.37838,     0.37938,     0.38038,     0.38138,     0.38238,     0.38338,\n",
            "           0.38438,     0.38539,     0.38639,     0.38739,     0.38839,     0.38939,     0.39039,     0.39139,     0.39239,     0.39339,     0.39439,      0.3954,      0.3964,      0.3974,      0.3984,      0.3994,      0.4004,      0.4014,      0.4024,      0.4034,      0.4044,     0.40541,     0.40641,     0.40741,\n",
            "           0.40841,     0.40941,     0.41041,     0.41141,     0.41241,     0.41341,     0.41441,     0.41542,     0.41642,     0.41742,     0.41842,     0.41942,     0.42042,     0.42142,     0.42242,     0.42342,     0.42442,     0.42543,     0.42643,     0.42743,     0.42843,     0.42943,     0.43043,     0.43143,\n",
            "           0.43243,     0.43343,     0.43443,     0.43544,     0.43644,     0.43744,     0.43844,     0.43944,     0.44044,     0.44144,     0.44244,     0.44344,     0.44444,     0.44545,     0.44645,     0.44745,     0.44845,     0.44945,     0.45045,     0.45145,     0.45245,     0.45345,     0.45445,     0.45546,\n",
            "           0.45646,     0.45746,     0.45846,     0.45946,     0.46046,     0.46146,     0.46246,     0.46346,     0.46446,     0.46547,     0.46647,     0.46747,     0.46847,     0.46947,     0.47047,     0.47147,     0.47247,     0.47347,     0.47447,     0.47548,     0.47648,     0.47748,     0.47848,     0.47948,\n",
            "           0.48048,     0.48148,     0.48248,     0.48348,     0.48448,     0.48549,     0.48649,     0.48749,     0.48849,     0.48949,     0.49049,     0.49149,     0.49249,     0.49349,     0.49449,      0.4955,      0.4965,      0.4975,      0.4985,      0.4995,      0.5005,      0.5015,      0.5025,      0.5035,\n",
            "            0.5045,     0.50551,     0.50651,     0.50751,     0.50851,     0.50951,     0.51051,     0.51151,     0.51251,     0.51351,     0.51451,     0.51552,     0.51652,     0.51752,     0.51852,     0.51952,     0.52052,     0.52152,     0.52252,     0.52352,     0.52452,     0.52553,     0.52653,     0.52753,\n",
            "           0.52853,     0.52953,     0.53053,     0.53153,     0.53253,     0.53353,     0.53453,     0.53554,     0.53654,     0.53754,     0.53854,     0.53954,     0.54054,     0.54154,     0.54254,     0.54354,     0.54454,     0.54555,     0.54655,     0.54755,     0.54855,     0.54955,     0.55055,     0.55155,\n",
            "           0.55255,     0.55355,     0.55455,     0.55556,     0.55656,     0.55756,     0.55856,     0.55956,     0.56056,     0.56156,     0.56256,     0.56356,     0.56456,     0.56557,     0.56657,     0.56757,     0.56857,     0.56957,     0.57057,     0.57157,     0.57257,     0.57357,     0.57457,     0.57558,\n",
            "           0.57658,     0.57758,     0.57858,     0.57958,     0.58058,     0.58158,     0.58258,     0.58358,     0.58458,     0.58559,     0.58659,     0.58759,     0.58859,     0.58959,     0.59059,     0.59159,     0.59259,     0.59359,     0.59459,      0.5956,      0.5966,      0.5976,      0.5986,      0.5996,\n",
            "            0.6006,      0.6016,      0.6026,      0.6036,      0.6046,     0.60561,     0.60661,     0.60761,     0.60861,     0.60961,     0.61061,     0.61161,     0.61261,     0.61361,     0.61461,     0.61562,     0.61662,     0.61762,     0.61862,     0.61962,     0.62062,     0.62162,     0.62262,     0.62362,\n",
            "           0.62462,     0.62563,     0.62663,     0.62763,     0.62863,     0.62963,     0.63063,     0.63163,     0.63263,     0.63363,     0.63463,     0.63564,     0.63664,     0.63764,     0.63864,     0.63964,     0.64064,     0.64164,     0.64264,     0.64364,     0.64464,     0.64565,     0.64665,     0.64765,\n",
            "           0.64865,     0.64965,     0.65065,     0.65165,     0.65265,     0.65365,     0.65465,     0.65566,     0.65666,     0.65766,     0.65866,     0.65966,     0.66066,     0.66166,     0.66266,     0.66366,     0.66466,     0.66567,     0.66667,     0.66767,     0.66867,     0.66967,     0.67067,     0.67167,\n",
            "           0.67267,     0.67367,     0.67467,     0.67568,     0.67668,     0.67768,     0.67868,     0.67968,     0.68068,     0.68168,     0.68268,     0.68368,     0.68468,     0.68569,     0.68669,     0.68769,     0.68869,     0.68969,     0.69069,     0.69169,     0.69269,     0.69369,     0.69469,      0.6957,\n",
            "            0.6967,      0.6977,      0.6987,      0.6997,      0.7007,      0.7017,      0.7027,      0.7037,      0.7047,     0.70571,     0.70671,     0.70771,     0.70871,     0.70971,     0.71071,     0.71171,     0.71271,     0.71371,     0.71471,     0.71572,     0.71672,     0.71772,     0.71872,     0.71972,\n",
            "           0.72072,     0.72172,     0.72272,     0.72372,     0.72472,     0.72573,     0.72673,     0.72773,     0.72873,     0.72973,     0.73073,     0.73173,     0.73273,     0.73373,     0.73473,     0.73574,     0.73674,     0.73774,     0.73874,     0.73974,     0.74074,     0.74174,     0.74274,     0.74374,\n",
            "           0.74474,     0.74575,     0.74675,     0.74775,     0.74875,     0.74975,     0.75075,     0.75175,     0.75275,     0.75375,     0.75475,     0.75576,     0.75676,     0.75776,     0.75876,     0.75976,     0.76076,     0.76176,     0.76276,     0.76376,     0.76476,     0.76577,     0.76677,     0.76777,\n",
            "           0.76877,     0.76977,     0.77077,     0.77177,     0.77277,     0.77377,     0.77477,     0.77578,     0.77678,     0.77778,     0.77878,     0.77978,     0.78078,     0.78178,     0.78278,     0.78378,     0.78478,     0.78579,     0.78679,     0.78779,     0.78879,     0.78979,     0.79079,     0.79179,\n",
            "           0.79279,     0.79379,     0.79479,      0.7958,      0.7968,      0.7978,      0.7988,      0.7998,      0.8008,      0.8018,      0.8028,      0.8038,      0.8048,     0.80581,     0.80681,     0.80781,     0.80881,     0.80981,     0.81081,     0.81181,     0.81281,     0.81381,     0.81481,     0.81582,\n",
            "           0.81682,     0.81782,     0.81882,     0.81982,     0.82082,     0.82182,     0.82282,     0.82382,     0.82482,     0.82583,     0.82683,     0.82783,     0.82883,     0.82983,     0.83083,     0.83183,     0.83283,     0.83383,     0.83483,     0.83584,     0.83684,     0.83784,     0.83884,     0.83984,\n",
            "           0.84084,     0.84184,     0.84284,     0.84384,     0.84484,     0.84585,     0.84685,     0.84785,     0.84885,     0.84985,     0.85085,     0.85185,     0.85285,     0.85385,     0.85485,     0.85586,     0.85686,     0.85786,     0.85886,     0.85986,     0.86086,     0.86186,     0.86286,     0.86386,\n",
            "           0.86486,     0.86587,     0.86687,     0.86787,     0.86887,     0.86987,     0.87087,     0.87187,     0.87287,     0.87387,     0.87487,     0.87588,     0.87688,     0.87788,     0.87888,     0.87988,     0.88088,     0.88188,     0.88288,     0.88388,     0.88488,     0.88589,     0.88689,     0.88789,\n",
            "           0.88889,     0.88989,     0.89089,     0.89189,     0.89289,     0.89389,     0.89489,      0.8959,      0.8969,      0.8979,      0.8989,      0.8999,      0.9009,      0.9019,      0.9029,      0.9039,      0.9049,     0.90591,     0.90691,     0.90791,     0.90891,     0.90991,     0.91091,     0.91191,\n",
            "           0.91291,     0.91391,     0.91491,     0.91592,     0.91692,     0.91792,     0.91892,     0.91992,     0.92092,     0.92192,     0.92292,     0.92392,     0.92492,     0.92593,     0.92693,     0.92793,     0.92893,     0.92993,     0.93093,     0.93193,     0.93293,     0.93393,     0.93493,     0.93594,\n",
            "           0.93694,     0.93794,     0.93894,     0.93994,     0.94094,     0.94194,     0.94294,     0.94394,     0.94494,     0.94595,     0.94695,     0.94795,     0.94895,     0.94995,     0.95095,     0.95195,     0.95295,     0.95395,     0.95495,     0.95596,     0.95696,     0.95796,     0.95896,     0.95996,\n",
            "           0.96096,     0.96196,     0.96296,     0.96396,     0.96496,     0.96597,     0.96697,     0.96797,     0.96897,     0.96997,     0.97097,     0.97197,     0.97297,     0.97397,     0.97497,     0.97598,     0.97698,     0.97798,     0.97898,     0.97998,     0.98098,     0.98198,     0.98298,     0.98398,\n",
            "           0.98498,     0.98599,     0.98699,     0.98799,     0.98899,     0.98999,     0.99099,     0.99199,     0.99299,     0.99399,     0.99499,       0.996,       0.997,       0.998,       0.999,           1]), array([[    0.97697,     0.97697,     0.97588, ...,           0,           0,           0],\n",
            "       [          1,           1,           1, ...,           0,           0,           0]]), 'Confidence', 'Recall']]\n",
            "fitness: 0.8221547256342249\n",
            "keys: ['metrics/precision(B)', 'metrics/recall(B)', 'metrics/mAP50(B)', 'metrics/mAP50-95(B)']\n",
            "maps: array([    0.66831,     0.80486,     0.80486,     0.94141])\n",
            "names: {0: 'car', 1: 'vehicle', 2: 'truck', 3: 'bus'}\n",
            "plot: True\n",
            "results_dict: {'metrics/precision(B)': 0.9606133407409143, 'metrics/recall(B)': 0.957558048807287, 'metrics/mAP50(B)': 0.9777990272679835, 'metrics/mAP50-95(B)': 0.804860914341585, 'fitness': 0.8221547256342249}\n",
            "save_dir: PosixPath('runs/detect/val')\n",
            "speed: {'preprocess': 1.7267620845058458, 'inference': 5.933089422537512, 'loss': 0.0006968591541933588, 'postprocess': 7.98878469014762}\n",
            "task: 'detect'\n"
          ]
        }
      ]
    },
    {
      "cell_type": "markdown",
      "source": [
        "### Modeli Test Etme"
      ],
      "metadata": {
        "id": "mjBD8oTWEdoZ"
      }
    },
    {
      "cell_type": "code",
      "source": [
        "#!pip install ultralytics\n",
        "import torch\n",
        "from pathlib import Path\n",
        "from ultralytics import YOLO\n",
        "import os\n",
        "import matplotlib.pyplot as plt\n",
        "\n",
        "# 1. Modeli Yükleme\n",
        "model_path = \"/content/drive/MyDrive/high_alt_object_detection/training_logs/yolov8_high_alt/weights/best.pt\"\n",
        "model = YOLO(model_path)\n",
        "\n",
        "# 2. Test Verisini Hazırlama\n",
        "test_images_path = \"/content/drive/MyDrive/high_alt_object_detection/high_alt_test/high_alt_images\"\n",
        "test_annotations_path = \"/content/drive/MyDrive/high_alt_object_detection/high_alt_test/yolo_labels\"\n",
        "\n",
        "# 3. Modeli Test Etme\n",
        "results = model.predict(source=test_images_path, conf=0.5, save=True, stream=True)\n",
        "\n",
        "all_results = list(results)"
      ],
      "metadata": {
        "colab": {
          "base_uri": "https://localhost:8080/",
          "height": 1000
        },
        "id": "H6tX9iFeELdO",
        "outputId": "cc2bf4de-3569-4915-86fc-d9701da0e4ab"
      },
      "execution_count": 25,
      "outputs": [
        {
          "output_type": "stream",
          "name": "stdout",
          "text": [
            "\n",
            "image 1/1680 /content/drive/MyDrive/high_alt_object_detection/high_alt_test/high_alt_images/M0601_img000001.jpg: 352x640 (no detections), 9.8ms\n",
            "image 2/1680 /content/drive/MyDrive/high_alt_object_detection/high_alt_test/high_alt_images/M0601_img000002.jpg: 352x640 (no detections), 8.4ms\n",
            "image 3/1680 /content/drive/MyDrive/high_alt_object_detection/high_alt_test/high_alt_images/M0601_img000003.jpg: 352x640 (no detections), 7.7ms\n",
            "image 4/1680 /content/drive/MyDrive/high_alt_object_detection/high_alt_test/high_alt_images/M0601_img000004.jpg: 352x640 (no detections), 7.8ms\n",
            "image 5/1680 /content/drive/MyDrive/high_alt_object_detection/high_alt_test/high_alt_images/M0601_img000005.jpg: 352x640 (no detections), 8.1ms\n",
            "image 6/1680 /content/drive/MyDrive/high_alt_object_detection/high_alt_test/high_alt_images/M0601_img000006.jpg: 352x640 (no detections), 10.2ms\n",
            "image 7/1680 /content/drive/MyDrive/high_alt_object_detection/high_alt_test/high_alt_images/M0601_img000007.jpg: 352x640 (no detections), 11.1ms\n",
            "image 8/1680 /content/drive/MyDrive/high_alt_object_detection/high_alt_test/high_alt_images/M0601_img000008.jpg: 352x640 (no detections), 8.2ms\n",
            "image 9/1680 /content/drive/MyDrive/high_alt_object_detection/high_alt_test/high_alt_images/M0601_img000009.jpg: 352x640 (no detections), 7.9ms\n",
            "image 10/1680 /content/drive/MyDrive/high_alt_object_detection/high_alt_test/high_alt_images/M0601_img000010.jpg: 352x640 (no detections), 7.8ms\n",
            "image 11/1680 /content/drive/MyDrive/high_alt_object_detection/high_alt_test/high_alt_images/M0601_img000011.jpg: 352x640 (no detections), 7.9ms\n",
            "image 12/1680 /content/drive/MyDrive/high_alt_object_detection/high_alt_test/high_alt_images/M0601_img000012.jpg: 352x640 (no detections), 7.8ms\n",
            "image 13/1680 /content/drive/MyDrive/high_alt_object_detection/high_alt_test/high_alt_images/M0601_img000013.jpg: 352x640 (no detections), 8.0ms\n",
            "image 14/1680 /content/drive/MyDrive/high_alt_object_detection/high_alt_test/high_alt_images/M0601_img000014.jpg: 352x640 (no detections), 8.2ms\n",
            "image 15/1680 /content/drive/MyDrive/high_alt_object_detection/high_alt_test/high_alt_images/M0601_img000015.jpg: 352x640 (no detections), 8.9ms\n",
            "image 16/1680 /content/drive/MyDrive/high_alt_object_detection/high_alt_test/high_alt_images/M0601_img000016.jpg: 352x640 (no detections), 8.1ms\n",
            "image 17/1680 /content/drive/MyDrive/high_alt_object_detection/high_alt_test/high_alt_images/M0601_img000017.jpg: 352x640 (no detections), 11.0ms\n",
            "image 18/1680 /content/drive/MyDrive/high_alt_object_detection/high_alt_test/high_alt_images/M0601_img000018.jpg: 352x640 (no detections), 8.9ms\n",
            "image 19/1680 /content/drive/MyDrive/high_alt_object_detection/high_alt_test/high_alt_images/M0601_img000019.jpg: 352x640 (no detections), 8.3ms\n",
            "image 20/1680 /content/drive/MyDrive/high_alt_object_detection/high_alt_test/high_alt_images/M0601_img000020.jpg: 352x640 (no detections), 7.9ms\n",
            "image 21/1680 /content/drive/MyDrive/high_alt_object_detection/high_alt_test/high_alt_images/M0601_img000021.jpg: 352x640 (no detections), 8.0ms\n",
            "image 22/1680 /content/drive/MyDrive/high_alt_object_detection/high_alt_test/high_alt_images/M0601_img000022.jpg: 352x640 (no detections), 7.9ms\n",
            "image 23/1680 /content/drive/MyDrive/high_alt_object_detection/high_alt_test/high_alt_images/M0601_img000023.jpg: 352x640 (no detections), 8.2ms\n",
            "image 24/1680 /content/drive/MyDrive/high_alt_object_detection/high_alt_test/high_alt_images/M0601_img000024.jpg: 352x640 (no detections), 7.8ms\n",
            "image 25/1680 /content/drive/MyDrive/high_alt_object_detection/high_alt_test/high_alt_images/M0601_img000025.jpg: 352x640 (no detections), 8.0ms\n",
            "image 26/1680 /content/drive/MyDrive/high_alt_object_detection/high_alt_test/high_alt_images/M0601_img000026.jpg: 352x640 (no detections), 7.9ms\n",
            "image 27/1680 /content/drive/MyDrive/high_alt_object_detection/high_alt_test/high_alt_images/M0601_img000027.jpg: 352x640 (no detections), 8.3ms\n",
            "image 28/1680 /content/drive/MyDrive/high_alt_object_detection/high_alt_test/high_alt_images/M0601_img000028.jpg: 352x640 (no detections), 8.1ms\n",
            "image 29/1680 /content/drive/MyDrive/high_alt_object_detection/high_alt_test/high_alt_images/M0601_img000029.jpg: 352x640 (no detections), 9.9ms\n",
            "image 30/1680 /content/drive/MyDrive/high_alt_object_detection/high_alt_test/high_alt_images/M0601_img000030.jpg: 352x640 (no detections), 7.9ms\n",
            "image 31/1680 /content/drive/MyDrive/high_alt_object_detection/high_alt_test/high_alt_images/M0601_img000031.jpg: 352x640 (no detections), 8.0ms\n",
            "image 32/1680 /content/drive/MyDrive/high_alt_object_detection/high_alt_test/high_alt_images/M0601_img000032.jpg: 352x640 (no detections), 8.1ms\n",
            "image 33/1680 /content/drive/MyDrive/high_alt_object_detection/high_alt_test/high_alt_images/M0601_img000033.jpg: 352x640 (no detections), 8.0ms\n",
            "image 34/1680 /content/drive/MyDrive/high_alt_object_detection/high_alt_test/high_alt_images/M0601_img000034.jpg: 352x640 (no detections), 7.8ms\n",
            "image 35/1680 /content/drive/MyDrive/high_alt_object_detection/high_alt_test/high_alt_images/M0601_img000035.jpg: 352x640 (no detections), 7.8ms\n",
            "image 36/1680 /content/drive/MyDrive/high_alt_object_detection/high_alt_test/high_alt_images/M0601_img000036.jpg: 352x640 (no detections), 7.9ms\n",
            "image 37/1680 /content/drive/MyDrive/high_alt_object_detection/high_alt_test/high_alt_images/M0601_img000037.jpg: 352x640 (no detections), 8.0ms\n",
            "image 38/1680 /content/drive/MyDrive/high_alt_object_detection/high_alt_test/high_alt_images/M0601_img000038.jpg: 352x640 (no detections), 7.9ms\n",
            "image 39/1680 /content/drive/MyDrive/high_alt_object_detection/high_alt_test/high_alt_images/M0601_img000039.jpg: 352x640 (no detections), 7.9ms\n",
            "image 40/1680 /content/drive/MyDrive/high_alt_object_detection/high_alt_test/high_alt_images/M0601_img000040.jpg: 352x640 (no detections), 7.8ms\n",
            "image 41/1680 /content/drive/MyDrive/high_alt_object_detection/high_alt_test/high_alt_images/M0601_img000041.jpg: 352x640 (no detections), 8.1ms\n",
            "image 42/1680 /content/drive/MyDrive/high_alt_object_detection/high_alt_test/high_alt_images/M0601_img000042.jpg: 352x640 (no detections), 8.2ms\n",
            "image 43/1680 /content/drive/MyDrive/high_alt_object_detection/high_alt_test/high_alt_images/M0601_img000043.jpg: 352x640 (no detections), 10.2ms\n",
            "image 44/1680 /content/drive/MyDrive/high_alt_object_detection/high_alt_test/high_alt_images/M0601_img000044.jpg: 352x640 (no detections), 8.4ms\n",
            "image 45/1680 /content/drive/MyDrive/high_alt_object_detection/high_alt_test/high_alt_images/M0601_img000045.jpg: 352x640 (no detections), 9.0ms\n",
            "image 46/1680 /content/drive/MyDrive/high_alt_object_detection/high_alt_test/high_alt_images/M0601_img000046.jpg: 352x640 (no detections), 8.3ms\n",
            "image 47/1680 /content/drive/MyDrive/high_alt_object_detection/high_alt_test/high_alt_images/M0601_img000047.jpg: 352x640 (no detections), 8.3ms\n",
            "image 48/1680 /content/drive/MyDrive/high_alt_object_detection/high_alt_test/high_alt_images/M0601_img000048.jpg: 352x640 (no detections), 7.7ms\n",
            "image 49/1680 /content/drive/MyDrive/high_alt_object_detection/high_alt_test/high_alt_images/M0601_img000049.jpg: 352x640 (no detections), 7.8ms\n",
            "image 50/1680 /content/drive/MyDrive/high_alt_object_detection/high_alt_test/high_alt_images/M0601_img000050.jpg: 352x640 (no detections), 7.9ms\n",
            "image 51/1680 /content/drive/MyDrive/high_alt_object_detection/high_alt_test/high_alt_images/M0601_img000051.jpg: 352x640 (no detections), 8.3ms\n",
            "image 52/1680 /content/drive/MyDrive/high_alt_object_detection/high_alt_test/high_alt_images/M0601_img000052.jpg: 352x640 (no detections), 8.1ms\n",
            "image 53/1680 /content/drive/MyDrive/high_alt_object_detection/high_alt_test/high_alt_images/M0601_img000053.jpg: 352x640 (no detections), 8.1ms\n",
            "image 54/1680 /content/drive/MyDrive/high_alt_object_detection/high_alt_test/high_alt_images/M0601_img000054.jpg: 352x640 (no detections), 8.1ms\n",
            "image 55/1680 /content/drive/MyDrive/high_alt_object_detection/high_alt_test/high_alt_images/M0601_img000055.jpg: 352x640 (no detections), 7.8ms\n",
            "image 56/1680 /content/drive/MyDrive/high_alt_object_detection/high_alt_test/high_alt_images/M0601_img000056.jpg: 352x640 (no detections), 7.8ms\n",
            "image 57/1680 /content/drive/MyDrive/high_alt_object_detection/high_alt_test/high_alt_images/M0601_img000057.jpg: 352x640 (no detections), 7.9ms\n",
            "image 58/1680 /content/drive/MyDrive/high_alt_object_detection/high_alt_test/high_alt_images/M0601_img000058.jpg: 352x640 (no detections), 7.9ms\n",
            "image 59/1680 /content/drive/MyDrive/high_alt_object_detection/high_alt_test/high_alt_images/M0601_img000059.jpg: 352x640 (no detections), 7.9ms\n",
            "image 60/1680 /content/drive/MyDrive/high_alt_object_detection/high_alt_test/high_alt_images/M0601_img000060.jpg: 352x640 (no detections), 8.0ms\n",
            "image 61/1680 /content/drive/MyDrive/high_alt_object_detection/high_alt_test/high_alt_images/M0601_img000061.jpg: 352x640 (no detections), 7.9ms\n",
            "image 62/1680 /content/drive/MyDrive/high_alt_object_detection/high_alt_test/high_alt_images/M0601_img000062.jpg: 352x640 (no detections), 7.8ms\n",
            "image 63/1680 /content/drive/MyDrive/high_alt_object_detection/high_alt_test/high_alt_images/M0601_img000063.jpg: 352x640 (no detections), 8.2ms\n",
            "image 64/1680 /content/drive/MyDrive/high_alt_object_detection/high_alt_test/high_alt_images/M0601_img000064.jpg: 352x640 (no detections), 8.0ms\n",
            "image 65/1680 /content/drive/MyDrive/high_alt_object_detection/high_alt_test/high_alt_images/M0601_img000065.jpg: 352x640 (no detections), 7.9ms\n",
            "image 66/1680 /content/drive/MyDrive/high_alt_object_detection/high_alt_test/high_alt_images/M0601_img000066.jpg: 352x640 (no detections), 10.6ms\n",
            "image 67/1680 /content/drive/MyDrive/high_alt_object_detection/high_alt_test/high_alt_images/M0601_img000067.jpg: 352x640 (no detections), 10.5ms\n",
            "image 68/1680 /content/drive/MyDrive/high_alt_object_detection/high_alt_test/high_alt_images/M0601_img000068.jpg: 352x640 (no detections), 9.6ms\n",
            "image 69/1680 /content/drive/MyDrive/high_alt_object_detection/high_alt_test/high_alt_images/M0601_img000069.jpg: 352x640 (no detections), 9.2ms\n",
            "image 70/1680 /content/drive/MyDrive/high_alt_object_detection/high_alt_test/high_alt_images/M0601_img000070.jpg: 352x640 (no detections), 7.7ms\n",
            "image 71/1680 /content/drive/MyDrive/high_alt_object_detection/high_alt_test/high_alt_images/M0601_img000071.jpg: 352x640 (no detections), 7.8ms\n",
            "image 72/1680 /content/drive/MyDrive/high_alt_object_detection/high_alt_test/high_alt_images/M0601_img000072.jpg: 352x640 (no detections), 7.8ms\n",
            "image 73/1680 /content/drive/MyDrive/high_alt_object_detection/high_alt_test/high_alt_images/M0601_img000073.jpg: 352x640 (no detections), 7.8ms\n",
            "image 74/1680 /content/drive/MyDrive/high_alt_object_detection/high_alt_test/high_alt_images/M0601_img000074.jpg: 352x640 (no detections), 8.1ms\n",
            "image 75/1680 /content/drive/MyDrive/high_alt_object_detection/high_alt_test/high_alt_images/M0601_img000075.jpg: 352x640 (no detections), 8.0ms\n",
            "image 76/1680 /content/drive/MyDrive/high_alt_object_detection/high_alt_test/high_alt_images/M0601_img000076.jpg: 352x640 (no detections), 7.9ms\n",
            "image 77/1680 /content/drive/MyDrive/high_alt_object_detection/high_alt_test/high_alt_images/M0601_img000077.jpg: 352x640 (no detections), 7.8ms\n",
            "image 78/1680 /content/drive/MyDrive/high_alt_object_detection/high_alt_test/high_alt_images/M0601_img000078.jpg: 352x640 1 car, 7.7ms\n",
            "image 79/1680 /content/drive/MyDrive/high_alt_object_detection/high_alt_test/high_alt_images/M0601_img000079.jpg: 352x640 (no detections), 7.9ms\n",
            "image 80/1680 /content/drive/MyDrive/high_alt_object_detection/high_alt_test/high_alt_images/M0601_img000080.jpg: 352x640 1 car, 8.0ms\n",
            "image 81/1680 /content/drive/MyDrive/high_alt_object_detection/high_alt_test/high_alt_images/M0601_img000081.jpg: 352x640 (no detections), 8.1ms\n",
            "image 82/1680 /content/drive/MyDrive/high_alt_object_detection/high_alt_test/high_alt_images/M0601_img000082.jpg: 352x640 1 car, 7.8ms\n",
            "image 83/1680 /content/drive/MyDrive/high_alt_object_detection/high_alt_test/high_alt_images/M0601_img000083.jpg: 352x640 (no detections), 7.8ms\n",
            "image 84/1680 /content/drive/MyDrive/high_alt_object_detection/high_alt_test/high_alt_images/M0601_img000084.jpg: 352x640 (no detections), 8.0ms\n",
            "image 85/1680 /content/drive/MyDrive/high_alt_object_detection/high_alt_test/high_alt_images/M0601_img000085.jpg: 352x640 (no detections), 7.8ms\n",
            "image 86/1680 /content/drive/MyDrive/high_alt_object_detection/high_alt_test/high_alt_images/M0601_img000086.jpg: 352x640 (no detections), 7.9ms\n",
            "image 87/1680 /content/drive/MyDrive/high_alt_object_detection/high_alt_test/high_alt_images/M0601_img000087.jpg: 352x640 (no detections), 7.8ms\n",
            "image 88/1680 /content/drive/MyDrive/high_alt_object_detection/high_alt_test/high_alt_images/M0601_img000088.jpg: 352x640 (no detections), 7.8ms\n",
            "image 89/1680 /content/drive/MyDrive/high_alt_object_detection/high_alt_test/high_alt_images/M0601_img000089.jpg: 352x640 (no detections), 7.9ms\n",
            "image 90/1680 /content/drive/MyDrive/high_alt_object_detection/high_alt_test/high_alt_images/M0601_img000090.jpg: 352x640 (no detections), 9.5ms\n",
            "image 91/1680 /content/drive/MyDrive/high_alt_object_detection/high_alt_test/high_alt_images/M0601_img000091.jpg: 352x640 (no detections), 7.9ms\n",
            "image 92/1680 /content/drive/MyDrive/high_alt_object_detection/high_alt_test/high_alt_images/M0601_img000092.jpg: 352x640 1 car, 8.2ms\n",
            "image 93/1680 /content/drive/MyDrive/high_alt_object_detection/high_alt_test/high_alt_images/M0601_img000093.jpg: 352x640 1 car, 8.0ms\n",
            "image 94/1680 /content/drive/MyDrive/high_alt_object_detection/high_alt_test/high_alt_images/M0601_img000094.jpg: 352x640 1 car, 7.8ms\n",
            "image 95/1680 /content/drive/MyDrive/high_alt_object_detection/high_alt_test/high_alt_images/M0601_img000095.jpg: 352x640 (no detections), 7.8ms\n",
            "image 96/1680 /content/drive/MyDrive/high_alt_object_detection/high_alt_test/high_alt_images/M0601_img000096.jpg: 352x640 (no detections), 7.9ms\n",
            "image 97/1680 /content/drive/MyDrive/high_alt_object_detection/high_alt_test/high_alt_images/M0601_img000097.jpg: 352x640 1 car, 7.9ms\n",
            "image 98/1680 /content/drive/MyDrive/high_alt_object_detection/high_alt_test/high_alt_images/M0601_img000098.jpg: 352x640 (no detections), 8.0ms\n",
            "image 99/1680 /content/drive/MyDrive/high_alt_object_detection/high_alt_test/high_alt_images/M0601_img000099.jpg: 352x640 (no detections), 8.1ms\n",
            "image 100/1680 /content/drive/MyDrive/high_alt_object_detection/high_alt_test/high_alt_images/M0601_img000100.jpg: 352x640 (no detections), 8.1ms\n",
            "image 101/1680 /content/drive/MyDrive/high_alt_object_detection/high_alt_test/high_alt_images/M0601_img000101.jpg: 352x640 (no detections), 8.1ms\n",
            "image 102/1680 /content/drive/MyDrive/high_alt_object_detection/high_alt_test/high_alt_images/M0601_img000102.jpg: 352x640 (no detections), 8.4ms\n",
            "image 103/1680 /content/drive/MyDrive/high_alt_object_detection/high_alt_test/high_alt_images/M0601_img000103.jpg: 352x640 (no detections), 8.7ms\n",
            "image 104/1680 /content/drive/MyDrive/high_alt_object_detection/high_alt_test/high_alt_images/M0601_img000104.jpg: 352x640 (no detections), 9.8ms\n",
            "image 105/1680 /content/drive/MyDrive/high_alt_object_detection/high_alt_test/high_alt_images/M0601_img000105.jpg: 352x640 (no detections), 8.0ms\n",
            "image 106/1680 /content/drive/MyDrive/high_alt_object_detection/high_alt_test/high_alt_images/M0601_img000106.jpg: 352x640 (no detections), 8.1ms\n",
            "image 107/1680 /content/drive/MyDrive/high_alt_object_detection/high_alt_test/high_alt_images/M0601_img000107.jpg: 352x640 (no detections), 7.9ms\n",
            "image 108/1680 /content/drive/MyDrive/high_alt_object_detection/high_alt_test/high_alt_images/M0601_img000108.jpg: 352x640 (no detections), 7.9ms\n",
            "image 109/1680 /content/drive/MyDrive/high_alt_object_detection/high_alt_test/high_alt_images/M0601_img000109.jpg: 352x640 (no detections), 7.8ms\n",
            "image 110/1680 /content/drive/MyDrive/high_alt_object_detection/high_alt_test/high_alt_images/M0601_img000110.jpg: 352x640 (no detections), 7.8ms\n",
            "image 111/1680 /content/drive/MyDrive/high_alt_object_detection/high_alt_test/high_alt_images/M0601_img000111.jpg: 352x640 (no detections), 7.7ms\n",
            "image 112/1680 /content/drive/MyDrive/high_alt_object_detection/high_alt_test/high_alt_images/M0601_img000112.jpg: 352x640 (no detections), 8.2ms\n",
            "image 113/1680 /content/drive/MyDrive/high_alt_object_detection/high_alt_test/high_alt_images/M0601_img000113.jpg: 352x640 (no detections), 8.1ms\n",
            "image 114/1680 /content/drive/MyDrive/high_alt_object_detection/high_alt_test/high_alt_images/M0601_img000114.jpg: 352x640 (no detections), 8.2ms\n",
            "image 115/1680 /content/drive/MyDrive/high_alt_object_detection/high_alt_test/high_alt_images/M0601_img000115.jpg: 352x640 (no detections), 8.2ms\n",
            "image 116/1680 /content/drive/MyDrive/high_alt_object_detection/high_alt_test/high_alt_images/M0601_img000116.jpg: 352x640 (no detections), 8.3ms\n",
            "image 117/1680 /content/drive/MyDrive/high_alt_object_detection/high_alt_test/high_alt_images/M0601_img000117.jpg: 352x640 (no detections), 8.1ms\n",
            "image 118/1680 /content/drive/MyDrive/high_alt_object_detection/high_alt_test/high_alt_images/M0601_img000118.jpg: 352x640 (no detections), 8.7ms\n",
            "image 119/1680 /content/drive/MyDrive/high_alt_object_detection/high_alt_test/high_alt_images/M0601_img000119.jpg: 352x640 (no detections), 9.3ms\n",
            "image 120/1680 /content/drive/MyDrive/high_alt_object_detection/high_alt_test/high_alt_images/M0601_img000120.jpg: 352x640 (no detections), 8.0ms\n",
            "image 121/1680 /content/drive/MyDrive/high_alt_object_detection/high_alt_test/high_alt_images/M0601_img000121.jpg: 352x640 (no detections), 8.0ms\n",
            "image 122/1680 /content/drive/MyDrive/high_alt_object_detection/high_alt_test/high_alt_images/M0601_img000122.jpg: 352x640 (no detections), 7.9ms\n",
            "image 123/1680 /content/drive/MyDrive/high_alt_object_detection/high_alt_test/high_alt_images/M0601_img000123.jpg: 352x640 (no detections), 7.7ms\n",
            "image 124/1680 /content/drive/MyDrive/high_alt_object_detection/high_alt_test/high_alt_images/M0601_img000124.jpg: 352x640 (no detections), 7.7ms\n",
            "image 125/1680 /content/drive/MyDrive/high_alt_object_detection/high_alt_test/high_alt_images/M0601_img000125.jpg: 352x640 (no detections), 7.9ms\n",
            "image 126/1680 /content/drive/MyDrive/high_alt_object_detection/high_alt_test/high_alt_images/M0601_img000126.jpg: 352x640 (no detections), 7.9ms\n",
            "image 127/1680 /content/drive/MyDrive/high_alt_object_detection/high_alt_test/high_alt_images/M0601_img000127.jpg: 352x640 (no detections), 8.2ms\n",
            "image 128/1680 /content/drive/MyDrive/high_alt_object_detection/high_alt_test/high_alt_images/M0601_img000128.jpg: 352x640 (no detections), 8.0ms\n",
            "image 129/1680 /content/drive/MyDrive/high_alt_object_detection/high_alt_test/high_alt_images/M0601_img000129.jpg: 352x640 (no detections), 7.9ms\n",
            "image 130/1680 /content/drive/MyDrive/high_alt_object_detection/high_alt_test/high_alt_images/M0601_img000130.jpg: 352x640 (no detections), 7.9ms\n",
            "image 131/1680 /content/drive/MyDrive/high_alt_object_detection/high_alt_test/high_alt_images/M0601_img000131.jpg: 352x640 (no detections), 7.9ms\n",
            "image 132/1680 /content/drive/MyDrive/high_alt_object_detection/high_alt_test/high_alt_images/M0601_img000132.jpg: 352x640 (no detections), 8.0ms\n",
            "image 133/1680 /content/drive/MyDrive/high_alt_object_detection/high_alt_test/high_alt_images/M0601_img000133.jpg: 352x640 (no detections), 8.0ms\n",
            "image 134/1680 /content/drive/MyDrive/high_alt_object_detection/high_alt_test/high_alt_images/M0601_img000134.jpg: 352x640 (no detections), 8.0ms\n",
            "image 135/1680 /content/drive/MyDrive/high_alt_object_detection/high_alt_test/high_alt_images/M0601_img000135.jpg: 352x640 (no detections), 8.1ms\n",
            "image 136/1680 /content/drive/MyDrive/high_alt_object_detection/high_alt_test/high_alt_images/M0601_img000136.jpg: 352x640 (no detections), 8.0ms\n",
            "image 137/1680 /content/drive/MyDrive/high_alt_object_detection/high_alt_test/high_alt_images/M0601_img000137.jpg: 352x640 (no detections), 8.0ms\n",
            "image 138/1680 /content/drive/MyDrive/high_alt_object_detection/high_alt_test/high_alt_images/M0601_img000138.jpg: 352x640 (no detections), 8.0ms\n",
            "image 139/1680 /content/drive/MyDrive/high_alt_object_detection/high_alt_test/high_alt_images/M0601_img000139.jpg: 352x640 (no detections), 7.9ms\n",
            "image 140/1680 /content/drive/MyDrive/high_alt_object_detection/high_alt_test/high_alt_images/M0601_img000140.jpg: 352x640 (no detections), 7.9ms\n",
            "image 141/1680 /content/drive/MyDrive/high_alt_object_detection/high_alt_test/high_alt_images/M0601_img000141.jpg: 352x640 (no detections), 7.9ms\n",
            "image 142/1680 /content/drive/MyDrive/high_alt_object_detection/high_alt_test/high_alt_images/M0601_img000142.jpg: 352x640 (no detections), 8.0ms\n",
            "image 143/1680 /content/drive/MyDrive/high_alt_object_detection/high_alt_test/high_alt_images/M0601_img000143.jpg: 352x640 (no detections), 7.9ms\n",
            "image 144/1680 /content/drive/MyDrive/high_alt_object_detection/high_alt_test/high_alt_images/M0601_img000144.jpg: 352x640 (no detections), 8.1ms\n",
            "image 145/1680 /content/drive/MyDrive/high_alt_object_detection/high_alt_test/high_alt_images/M0601_img000145.jpg: 352x640 (no detections), 7.7ms\n",
            "image 146/1680 /content/drive/MyDrive/high_alt_object_detection/high_alt_test/high_alt_images/M0601_img000146.jpg: 352x640 (no detections), 7.7ms\n",
            "image 147/1680 /content/drive/MyDrive/high_alt_object_detection/high_alt_test/high_alt_images/M0601_img000147.jpg: 352x640 (no detections), 8.2ms\n",
            "image 148/1680 /content/drive/MyDrive/high_alt_object_detection/high_alt_test/high_alt_images/M0601_img000148.jpg: 352x640 (no detections), 8.0ms\n",
            "image 149/1680 /content/drive/MyDrive/high_alt_object_detection/high_alt_test/high_alt_images/M0601_img000149.jpg: 352x640 (no detections), 8.0ms\n",
            "image 150/1680 /content/drive/MyDrive/high_alt_object_detection/high_alt_test/high_alt_images/M0601_img000150.jpg: 352x640 (no detections), 8.0ms\n",
            "image 151/1680 /content/drive/MyDrive/high_alt_object_detection/high_alt_test/high_alt_images/M0601_img000151.jpg: 352x640 (no detections), 7.8ms\n",
            "image 152/1680 /content/drive/MyDrive/high_alt_object_detection/high_alt_test/high_alt_images/M0601_img000152.jpg: 352x640 (no detections), 8.0ms\n",
            "image 153/1680 /content/drive/MyDrive/high_alt_object_detection/high_alt_test/high_alt_images/M0601_img000153.jpg: 352x640 (no detections), 8.0ms\n",
            "image 154/1680 /content/drive/MyDrive/high_alt_object_detection/high_alt_test/high_alt_images/M0601_img000154.jpg: 352x640 (no detections), 7.9ms\n",
            "image 155/1680 /content/drive/MyDrive/high_alt_object_detection/high_alt_test/high_alt_images/M0601_img000155.jpg: 352x640 (no detections), 8.2ms\n",
            "image 156/1680 /content/drive/MyDrive/high_alt_object_detection/high_alt_test/high_alt_images/M0601_img000156.jpg: 352x640 (no detections), 8.8ms\n",
            "image 157/1680 /content/drive/MyDrive/high_alt_object_detection/high_alt_test/high_alt_images/M0601_img000157.jpg: 352x640 (no detections), 8.7ms\n",
            "image 158/1680 /content/drive/MyDrive/high_alt_object_detection/high_alt_test/high_alt_images/M0601_img000158.jpg: 352x640 (no detections), 8.1ms\n",
            "image 159/1680 /content/drive/MyDrive/high_alt_object_detection/high_alt_test/high_alt_images/M0601_img000159.jpg: 352x640 (no detections), 7.9ms\n",
            "image 160/1680 /content/drive/MyDrive/high_alt_object_detection/high_alt_test/high_alt_images/M0601_img000160.jpg: 352x640 (no detections), 7.8ms\n",
            "image 161/1680 /content/drive/MyDrive/high_alt_object_detection/high_alt_test/high_alt_images/M0601_img000161.jpg: 352x640 (no detections), 8.0ms\n",
            "image 162/1680 /content/drive/MyDrive/high_alt_object_detection/high_alt_test/high_alt_images/M0601_img000162.jpg: 352x640 (no detections), 9.1ms\n",
            "image 163/1680 /content/drive/MyDrive/high_alt_object_detection/high_alt_test/high_alt_images/M0601_img000163.jpg: 352x640 (no detections), 9.3ms\n",
            "image 164/1680 /content/drive/MyDrive/high_alt_object_detection/high_alt_test/high_alt_images/M0601_img000164.jpg: 352x640 (no detections), 8.4ms\n",
            "image 165/1680 /content/drive/MyDrive/high_alt_object_detection/high_alt_test/high_alt_images/M0601_img000165.jpg: 352x640 (no detections), 8.1ms\n",
            "image 166/1680 /content/drive/MyDrive/high_alt_object_detection/high_alt_test/high_alt_images/M0601_img000166.jpg: 352x640 (no detections), 8.2ms\n",
            "image 167/1680 /content/drive/MyDrive/high_alt_object_detection/high_alt_test/high_alt_images/M0601_img000167.jpg: 352x640 (no detections), 8.4ms\n",
            "image 168/1680 /content/drive/MyDrive/high_alt_object_detection/high_alt_test/high_alt_images/M0601_img000168.jpg: 352x640 (no detections), 7.9ms\n",
            "image 169/1680 /content/drive/MyDrive/high_alt_object_detection/high_alt_test/high_alt_images/M0601_img000169.jpg: 352x640 (no detections), 7.9ms\n",
            "image 170/1680 /content/drive/MyDrive/high_alt_object_detection/high_alt_test/high_alt_images/M0601_img000170.jpg: 352x640 (no detections), 7.9ms\n",
            "image 171/1680 /content/drive/MyDrive/high_alt_object_detection/high_alt_test/high_alt_images/M0601_img000171.jpg: 352x640 (no detections), 7.9ms\n",
            "image 172/1680 /content/drive/MyDrive/high_alt_object_detection/high_alt_test/high_alt_images/M0601_img000172.jpg: 352x640 (no detections), 8.4ms\n",
            "image 173/1680 /content/drive/MyDrive/high_alt_object_detection/high_alt_test/high_alt_images/M0601_img000173.jpg: 352x640 (no detections), 8.3ms\n",
            "image 174/1680 /content/drive/MyDrive/high_alt_object_detection/high_alt_test/high_alt_images/M0601_img000174.jpg: 352x640 (no detections), 8.3ms\n",
            "image 175/1680 /content/drive/MyDrive/high_alt_object_detection/high_alt_test/high_alt_images/M0601_img000175.jpg: 352x640 (no detections), 8.2ms\n",
            "image 176/1680 /content/drive/MyDrive/high_alt_object_detection/high_alt_test/high_alt_images/M0601_img000176.jpg: 352x640 (no detections), 8.0ms\n",
            "image 177/1680 /content/drive/MyDrive/high_alt_object_detection/high_alt_test/high_alt_images/M0601_img000177.jpg: 352x640 (no detections), 8.0ms\n",
            "image 178/1680 /content/drive/MyDrive/high_alt_object_detection/high_alt_test/high_alt_images/M0601_img000178.jpg: 352x640 (no detections), 8.3ms\n",
            "image 179/1680 /content/drive/MyDrive/high_alt_object_detection/high_alt_test/high_alt_images/M0601_img000179.jpg: 352x640 (no detections), 8.2ms\n",
            "image 180/1680 /content/drive/MyDrive/high_alt_object_detection/high_alt_test/high_alt_images/M0601_img000180.jpg: 352x640 (no detections), 8.1ms\n",
            "image 181/1680 /content/drive/MyDrive/high_alt_object_detection/high_alt_test/high_alt_images/M0601_img000181.jpg: 352x640 (no detections), 8.3ms\n",
            "image 182/1680 /content/drive/MyDrive/high_alt_object_detection/high_alt_test/high_alt_images/M0601_img000182.jpg: 352x640 (no detections), 8.0ms\n",
            "image 183/1680 /content/drive/MyDrive/high_alt_object_detection/high_alt_test/high_alt_images/M0601_img000183.jpg: 352x640 (no detections), 11.0ms\n",
            "image 184/1680 /content/drive/MyDrive/high_alt_object_detection/high_alt_test/high_alt_images/M0601_img000184.jpg: 352x640 (no detections), 8.3ms\n",
            "image 185/1680 /content/drive/MyDrive/high_alt_object_detection/high_alt_test/high_alt_images/M0601_img000185.jpg: 352x640 (no detections), 8.3ms\n",
            "image 186/1680 /content/drive/MyDrive/high_alt_object_detection/high_alt_test/high_alt_images/M0601_img000186.jpg: 352x640 (no detections), 8.4ms\n",
            "image 187/1680 /content/drive/MyDrive/high_alt_object_detection/high_alt_test/high_alt_images/M0601_img000187.jpg: 352x640 (no detections), 8.2ms\n",
            "image 188/1680 /content/drive/MyDrive/high_alt_object_detection/high_alt_test/high_alt_images/M0601_img000188.jpg: 352x640 (no detections), 8.5ms\n",
            "image 189/1680 /content/drive/MyDrive/high_alt_object_detection/high_alt_test/high_alt_images/M0601_img000189.jpg: 352x640 (no detections), 8.5ms\n",
            "image 190/1680 /content/drive/MyDrive/high_alt_object_detection/high_alt_test/high_alt_images/M0601_img000190.jpg: 352x640 (no detections), 8.4ms\n",
            "image 191/1680 /content/drive/MyDrive/high_alt_object_detection/high_alt_test/high_alt_images/M0601_img000191.jpg: 352x640 (no detections), 8.2ms\n",
            "image 192/1680 /content/drive/MyDrive/high_alt_object_detection/high_alt_test/high_alt_images/M0601_img000192.jpg: 352x640 (no detections), 9.3ms\n",
            "image 193/1680 /content/drive/MyDrive/high_alt_object_detection/high_alt_test/high_alt_images/M0601_img000193.jpg: 352x640 (no detections), 7.9ms\n",
            "image 194/1680 /content/drive/MyDrive/high_alt_object_detection/high_alt_test/high_alt_images/M0601_img000194.jpg: 352x640 (no detections), 8.1ms\n",
            "image 195/1680 /content/drive/MyDrive/high_alt_object_detection/high_alt_test/high_alt_images/M0601_img000195.jpg: 352x640 (no detections), 7.7ms\n",
            "image 196/1680 /content/drive/MyDrive/high_alt_object_detection/high_alt_test/high_alt_images/M0601_img000196.jpg: 352x640 (no detections), 7.9ms\n",
            "image 197/1680 /content/drive/MyDrive/high_alt_object_detection/high_alt_test/high_alt_images/M0601_img000197.jpg: 352x640 (no detections), 7.9ms\n",
            "image 198/1680 /content/drive/MyDrive/high_alt_object_detection/high_alt_test/high_alt_images/M0601_img000198.jpg: 352x640 (no detections), 7.8ms\n",
            "image 199/1680 /content/drive/MyDrive/high_alt_object_detection/high_alt_test/high_alt_images/M0601_img000199.jpg: 352x640 (no detections), 8.0ms\n",
            "image 200/1680 /content/drive/MyDrive/high_alt_object_detection/high_alt_test/high_alt_images/M0601_img000200.jpg: 352x640 (no detections), 7.8ms\n",
            "image 201/1680 /content/drive/MyDrive/high_alt_object_detection/high_alt_test/high_alt_images/M0601_img000201.jpg: 352x640 (no detections), 8.0ms\n",
            "image 202/1680 /content/drive/MyDrive/high_alt_object_detection/high_alt_test/high_alt_images/M0601_img000202.jpg: 352x640 (no detections), 7.7ms\n",
            "image 203/1680 /content/drive/MyDrive/high_alt_object_detection/high_alt_test/high_alt_images/M0601_img000203.jpg: 352x640 (no detections), 7.9ms\n",
            "image 204/1680 /content/drive/MyDrive/high_alt_object_detection/high_alt_test/high_alt_images/M0601_img000204.jpg: 352x640 (no detections), 8.5ms\n",
            "image 205/1680 /content/drive/MyDrive/high_alt_object_detection/high_alt_test/high_alt_images/M0601_img000205.jpg: 352x640 (no detections), 8.3ms\n",
            "image 206/1680 /content/drive/MyDrive/high_alt_object_detection/high_alt_test/high_alt_images/M0601_img000206.jpg: 352x640 (no detections), 8.9ms\n",
            "image 207/1680 /content/drive/MyDrive/high_alt_object_detection/high_alt_test/high_alt_images/M0601_img000207.jpg: 352x640 (no detections), 9.1ms\n",
            "image 208/1680 /content/drive/MyDrive/high_alt_object_detection/high_alt_test/high_alt_images/M0601_img000208.jpg: 352x640 (no detections), 8.0ms\n",
            "image 209/1680 /content/drive/MyDrive/high_alt_object_detection/high_alt_test/high_alt_images/M0601_img000209.jpg: 352x640 (no detections), 8.0ms\n",
            "image 210/1680 /content/drive/MyDrive/high_alt_object_detection/high_alt_test/high_alt_images/M0601_img000210.jpg: 352x640 (no detections), 8.3ms\n",
            "image 211/1680 /content/drive/MyDrive/high_alt_object_detection/high_alt_test/high_alt_images/M0601_img000211.jpg: 352x640 (no detections), 7.9ms\n",
            "image 212/1680 /content/drive/MyDrive/high_alt_object_detection/high_alt_test/high_alt_images/M0601_img000212.jpg: 352x640 (no detections), 7.7ms\n",
            "image 213/1680 /content/drive/MyDrive/high_alt_object_detection/high_alt_test/high_alt_images/M0601_img000213.jpg: 352x640 (no detections), 7.7ms\n",
            "image 214/1680 /content/drive/MyDrive/high_alt_object_detection/high_alt_test/high_alt_images/M0601_img000214.jpg: 352x640 (no detections), 7.7ms\n",
            "image 215/1680 /content/drive/MyDrive/high_alt_object_detection/high_alt_test/high_alt_images/M0601_img000215.jpg: 352x640 (no detections), 7.7ms\n",
            "image 216/1680 /content/drive/MyDrive/high_alt_object_detection/high_alt_test/high_alt_images/M0601_img000216.jpg: 352x640 (no detections), 7.8ms\n",
            "image 217/1680 /content/drive/MyDrive/high_alt_object_detection/high_alt_test/high_alt_images/M0601_img000217.jpg: 352x640 (no detections), 7.9ms\n",
            "image 218/1680 /content/drive/MyDrive/high_alt_object_detection/high_alt_test/high_alt_images/M0601_img000218.jpg: 352x640 (no detections), 7.7ms\n",
            "image 219/1680 /content/drive/MyDrive/high_alt_object_detection/high_alt_test/high_alt_images/M0601_img000219.jpg: 352x640 (no detections), 7.7ms\n",
            "image 220/1680 /content/drive/MyDrive/high_alt_object_detection/high_alt_test/high_alt_images/M0601_img000220.jpg: 352x640 (no detections), 7.6ms\n",
            "image 221/1680 /content/drive/MyDrive/high_alt_object_detection/high_alt_test/high_alt_images/M0601_img000221.jpg: 352x640 (no detections), 7.7ms\n",
            "image 222/1680 /content/drive/MyDrive/high_alt_object_detection/high_alt_test/high_alt_images/M0601_img000222.jpg: 352x640 (no detections), 8.2ms\n",
            "image 223/1680 /content/drive/MyDrive/high_alt_object_detection/high_alt_test/high_alt_images/M0601_img000223.jpg: 352x640 (no detections), 8.1ms\n",
            "image 224/1680 /content/drive/MyDrive/high_alt_object_detection/high_alt_test/high_alt_images/M0601_img000224.jpg: 352x640 (no detections), 9.4ms\n",
            "image 225/1680 /content/drive/MyDrive/high_alt_object_detection/high_alt_test/high_alt_images/M0601_img000225.jpg: 352x640 (no detections), 8.0ms\n",
            "image 226/1680 /content/drive/MyDrive/high_alt_object_detection/high_alt_test/high_alt_images/M0601_img000226.jpg: 352x640 (no detections), 7.9ms\n",
            "image 227/1680 /content/drive/MyDrive/high_alt_object_detection/high_alt_test/high_alt_images/M0601_img000227.jpg: 352x640 (no detections), 7.9ms\n",
            "image 228/1680 /content/drive/MyDrive/high_alt_object_detection/high_alt_test/high_alt_images/M0601_img000228.jpg: 352x640 (no detections), 7.6ms\n",
            "image 229/1680 /content/drive/MyDrive/high_alt_object_detection/high_alt_test/high_alt_images/M0601_img000229.jpg: 352x640 (no detections), 7.8ms\n",
            "image 230/1680 /content/drive/MyDrive/high_alt_object_detection/high_alt_test/high_alt_images/M0601_img000230.jpg: 352x640 (no detections), 8.0ms\n",
            "image 231/1680 /content/drive/MyDrive/high_alt_object_detection/high_alt_test/high_alt_images/M0601_img000231.jpg: 352x640 (no detections), 7.9ms\n",
            "image 232/1680 /content/drive/MyDrive/high_alt_object_detection/high_alt_test/high_alt_images/M0601_img000232.jpg: 352x640 (no detections), 8.1ms\n",
            "image 233/1680 /content/drive/MyDrive/high_alt_object_detection/high_alt_test/high_alt_images/M0601_img000233.jpg: 352x640 (no detections), 9.9ms\n",
            "image 234/1680 /content/drive/MyDrive/high_alt_object_detection/high_alt_test/high_alt_images/M0601_img000234.jpg: 352x640 (no detections), 9.7ms\n",
            "image 235/1680 /content/drive/MyDrive/high_alt_object_detection/high_alt_test/high_alt_images/M0601_img000235.jpg: 352x640 (no detections), 8.0ms\n",
            "image 236/1680 /content/drive/MyDrive/high_alt_object_detection/high_alt_test/high_alt_images/M0601_img000236.jpg: 352x640 (no detections), 7.8ms\n",
            "image 237/1680 /content/drive/MyDrive/high_alt_object_detection/high_alt_test/high_alt_images/M0601_img000237.jpg: 352x640 (no detections), 9.6ms\n",
            "image 238/1680 /content/drive/MyDrive/high_alt_object_detection/high_alt_test/high_alt_images/M0601_img000238.jpg: 352x640 (no detections), 8.0ms\n",
            "image 239/1680 /content/drive/MyDrive/high_alt_object_detection/high_alt_test/high_alt_images/M0601_img000239.jpg: 352x640 (no detections), 8.2ms\n",
            "image 240/1680 /content/drive/MyDrive/high_alt_object_detection/high_alt_test/high_alt_images/M0601_img000240.jpg: 352x640 (no detections), 7.7ms\n",
            "image 241/1680 /content/drive/MyDrive/high_alt_object_detection/high_alt_test/high_alt_images/M0601_img000241.jpg: 352x640 (no detections), 8.5ms\n",
            "image 242/1680 /content/drive/MyDrive/high_alt_object_detection/high_alt_test/high_alt_images/M0601_img000242.jpg: 352x640 (no detections), 8.5ms\n",
            "image 243/1680 /content/drive/MyDrive/high_alt_object_detection/high_alt_test/high_alt_images/M0601_img000243.jpg: 352x640 (no detections), 8.0ms\n",
            "image 244/1680 /content/drive/MyDrive/high_alt_object_detection/high_alt_test/high_alt_images/M0601_img000244.jpg: 352x640 (no detections), 8.0ms\n",
            "image 245/1680 /content/drive/MyDrive/high_alt_object_detection/high_alt_test/high_alt_images/M0601_img000245.jpg: 352x640 (no detections), 8.0ms\n",
            "image 246/1680 /content/drive/MyDrive/high_alt_object_detection/high_alt_test/high_alt_images/M0601_img000246.jpg: 352x640 (no detections), 7.8ms\n",
            "image 247/1680 /content/drive/MyDrive/high_alt_object_detection/high_alt_test/high_alt_images/M0601_img000247.jpg: 352x640 (no detections), 8.0ms\n",
            "image 248/1680 /content/drive/MyDrive/high_alt_object_detection/high_alt_test/high_alt_images/M0601_img000248.jpg: 352x640 (no detections), 8.1ms\n",
            "image 249/1680 /content/drive/MyDrive/high_alt_object_detection/high_alt_test/high_alt_images/M0601_img000249.jpg: 352x640 (no detections), 8.2ms\n",
            "image 250/1680 /content/drive/MyDrive/high_alt_object_detection/high_alt_test/high_alt_images/M0601_img000250.jpg: 352x640 (no detections), 8.0ms\n",
            "image 251/1680 /content/drive/MyDrive/high_alt_object_detection/high_alt_test/high_alt_images/M0601_img000251.jpg: 352x640 (no detections), 8.3ms\n",
            "image 252/1680 /content/drive/MyDrive/high_alt_object_detection/high_alt_test/high_alt_images/M0601_img000252.jpg: 352x640 (no detections), 8.0ms\n",
            "image 253/1680 /content/drive/MyDrive/high_alt_object_detection/high_alt_test/high_alt_images/M0601_img000253.jpg: 352x640 (no detections), 8.4ms\n",
            "image 254/1680 /content/drive/MyDrive/high_alt_object_detection/high_alt_test/high_alt_images/M0601_img000254.jpg: 352x640 (no detections), 7.9ms\n",
            "image 255/1680 /content/drive/MyDrive/high_alt_object_detection/high_alt_test/high_alt_images/M0601_img000255.jpg: 352x640 (no detections), 7.9ms\n",
            "image 256/1680 /content/drive/MyDrive/high_alt_object_detection/high_alt_test/high_alt_images/M0601_img000256.jpg: 352x640 (no detections), 7.9ms\n",
            "image 257/1680 /content/drive/MyDrive/high_alt_object_detection/high_alt_test/high_alt_images/M0601_img000257.jpg: 352x640 (no detections), 7.9ms\n",
            "image 258/1680 /content/drive/MyDrive/high_alt_object_detection/high_alt_test/high_alt_images/M0601_img000258.jpg: 352x640 (no detections), 7.9ms\n",
            "image 259/1680 /content/drive/MyDrive/high_alt_object_detection/high_alt_test/high_alt_images/M0601_img000259.jpg: 352x640 (no detections), 8.1ms\n",
            "image 260/1680 /content/drive/MyDrive/high_alt_object_detection/high_alt_test/high_alt_images/M0601_img000260.jpg: 352x640 (no detections), 8.1ms\n",
            "image 261/1680 /content/drive/MyDrive/high_alt_object_detection/high_alt_test/high_alt_images/M0601_img000261.jpg: 352x640 (no detections), 7.9ms\n",
            "image 262/1680 /content/drive/MyDrive/high_alt_object_detection/high_alt_test/high_alt_images/M0601_img000262.jpg: 352x640 (no detections), 8.0ms\n",
            "image 263/1680 /content/drive/MyDrive/high_alt_object_detection/high_alt_test/high_alt_images/M0601_img000263.jpg: 352x640 (no detections), 9.6ms\n",
            "image 264/1680 /content/drive/MyDrive/high_alt_object_detection/high_alt_test/high_alt_images/M0601_img000264.jpg: 352x640 (no detections), 8.0ms\n",
            "image 265/1680 /content/drive/MyDrive/high_alt_object_detection/high_alt_test/high_alt_images/M0601_img000265.jpg: 352x640 (no detections), 8.0ms\n",
            "image 266/1680 /content/drive/MyDrive/high_alt_object_detection/high_alt_test/high_alt_images/M0601_img000266.jpg: 352x640 (no detections), 8.0ms\n",
            "image 267/1680 /content/drive/MyDrive/high_alt_object_detection/high_alt_test/high_alt_images/M0601_img000267.jpg: 352x640 (no detections), 8.0ms\n",
            "image 268/1680 /content/drive/MyDrive/high_alt_object_detection/high_alt_test/high_alt_images/M0601_img000268.jpg: 352x640 (no detections), 8.1ms\n",
            "image 269/1680 /content/drive/MyDrive/high_alt_object_detection/high_alt_test/high_alt_images/M0601_img000269.jpg: 352x640 (no detections), 7.9ms\n",
            "image 270/1680 /content/drive/MyDrive/high_alt_object_detection/high_alt_test/high_alt_images/M0601_img000270.jpg: 352x640 (no detections), 7.9ms\n",
            "image 271/1680 /content/drive/MyDrive/high_alt_object_detection/high_alt_test/high_alt_images/M0601_img000271.jpg: 352x640 (no detections), 8.1ms\n",
            "image 272/1680 /content/drive/MyDrive/high_alt_object_detection/high_alt_test/high_alt_images/M0601_img000272.jpg: 352x640 (no detections), 8.1ms\n",
            "image 273/1680 /content/drive/MyDrive/high_alt_object_detection/high_alt_test/high_alt_images/M0601_img000273.jpg: 352x640 (no detections), 8.0ms\n",
            "image 274/1680 /content/drive/MyDrive/high_alt_object_detection/high_alt_test/high_alt_images/M0601_img000274.jpg: 352x640 (no detections), 8.2ms\n",
            "image 275/1680 /content/drive/MyDrive/high_alt_object_detection/high_alt_test/high_alt_images/M0601_img000275.jpg: 352x640 (no detections), 8.0ms\n",
            "image 276/1680 /content/drive/MyDrive/high_alt_object_detection/high_alt_test/high_alt_images/M0601_img000276.jpg: 352x640 (no detections), 8.2ms\n",
            "image 277/1680 /content/drive/MyDrive/high_alt_object_detection/high_alt_test/high_alt_images/M0601_img000277.jpg: 352x640 (no detections), 8.4ms\n",
            "image 278/1680 /content/drive/MyDrive/high_alt_object_detection/high_alt_test/high_alt_images/M0601_img000278.jpg: 352x640 (no detections), 8.4ms\n",
            "image 279/1680 /content/drive/MyDrive/high_alt_object_detection/high_alt_test/high_alt_images/M0601_img000279.jpg: 352x640 (no detections), 8.1ms\n",
            "image 280/1680 /content/drive/MyDrive/high_alt_object_detection/high_alt_test/high_alt_images/M0601_img000280.jpg: 352x640 (no detections), 8.2ms\n",
            "image 281/1680 /content/drive/MyDrive/high_alt_object_detection/high_alt_test/high_alt_images/M0601_img000281.jpg: 352x640 (no detections), 8.2ms\n",
            "image 282/1680 /content/drive/MyDrive/high_alt_object_detection/high_alt_test/high_alt_images/M0601_img000282.jpg: 352x640 (no detections), 8.2ms\n",
            "image 283/1680 /content/drive/MyDrive/high_alt_object_detection/high_alt_test/high_alt_images/M0601_img000283.jpg: 352x640 (no detections), 7.9ms\n",
            "image 284/1680 /content/drive/MyDrive/high_alt_object_detection/high_alt_test/high_alt_images/M0601_img000284.jpg: 352x640 (no detections), 8.4ms\n",
            "image 285/1680 /content/drive/MyDrive/high_alt_object_detection/high_alt_test/high_alt_images/M0601_img000285.jpg: 352x640 (no detections), 8.2ms\n",
            "image 286/1680 /content/drive/MyDrive/high_alt_object_detection/high_alt_test/high_alt_images/M0601_img000286.jpg: 352x640 (no detections), 9.5ms\n",
            "image 287/1680 /content/drive/MyDrive/high_alt_object_detection/high_alt_test/high_alt_images/M0601_img000287.jpg: 352x640 (no detections), 8.4ms\n",
            "image 288/1680 /content/drive/MyDrive/high_alt_object_detection/high_alt_test/high_alt_images/M0601_img000288.jpg: 352x640 (no detections), 8.2ms\n",
            "image 289/1680 /content/drive/MyDrive/high_alt_object_detection/high_alt_test/high_alt_images/M0601_img000289.jpg: 352x640 (no detections), 8.3ms\n",
            "image 290/1680 /content/drive/MyDrive/high_alt_object_detection/high_alt_test/high_alt_images/M0601_img000290.jpg: 352x640 (no detections), 8.3ms\n",
            "image 291/1680 /content/drive/MyDrive/high_alt_object_detection/high_alt_test/high_alt_images/M0601_img000291.jpg: 352x640 (no detections), 8.1ms\n",
            "image 292/1680 /content/drive/MyDrive/high_alt_object_detection/high_alt_test/high_alt_images/M0601_img000292.jpg: 352x640 (no detections), 8.1ms\n",
            "image 293/1680 /content/drive/MyDrive/high_alt_object_detection/high_alt_test/high_alt_images/M0601_img000293.jpg: 352x640 (no detections), 8.1ms\n",
            "image 294/1680 /content/drive/MyDrive/high_alt_object_detection/high_alt_test/high_alt_images/M0601_img000294.jpg: 352x640 (no detections), 8.5ms\n",
            "image 295/1680 /content/drive/MyDrive/high_alt_object_detection/high_alt_test/high_alt_images/M0601_img000295.jpg: 352x640 (no detections), 8.5ms\n",
            "image 296/1680 /content/drive/MyDrive/high_alt_object_detection/high_alt_test/high_alt_images/M0601_img000296.jpg: 352x640 (no detections), 8.5ms\n",
            "image 297/1680 /content/drive/MyDrive/high_alt_object_detection/high_alt_test/high_alt_images/M0601_img000297.jpg: 352x640 (no detections), 8.0ms\n",
            "image 298/1680 /content/drive/MyDrive/high_alt_object_detection/high_alt_test/high_alt_images/M0601_img000298.jpg: 352x640 (no detections), 8.4ms\n",
            "image 299/1680 /content/drive/MyDrive/high_alt_object_detection/high_alt_test/high_alt_images/M0601_img000299.jpg: 352x640 (no detections), 9.9ms\n",
            "image 300/1680 /content/drive/MyDrive/high_alt_object_detection/high_alt_test/high_alt_images/M0601_img000300.jpg: 352x640 (no detections), 8.3ms\n",
            "image 301/1680 /content/drive/MyDrive/high_alt_object_detection/high_alt_test/high_alt_images/M0601_img000301.jpg: 352x640 (no detections), 8.1ms\n",
            "image 302/1680 /content/drive/MyDrive/high_alt_object_detection/high_alt_test/high_alt_images/M0601_img000302.jpg: 352x640 (no detections), 10.1ms\n",
            "image 303/1680 /content/drive/MyDrive/high_alt_object_detection/high_alt_test/high_alt_images/M0601_img000303.jpg: 352x640 (no detections), 8.0ms\n",
            "image 304/1680 /content/drive/MyDrive/high_alt_object_detection/high_alt_test/high_alt_images/M0601_img000304.jpg: 352x640 (no detections), 8.7ms\n",
            "image 305/1680 /content/drive/MyDrive/high_alt_object_detection/high_alt_test/high_alt_images/M0601_img000305.jpg: 352x640 (no detections), 8.2ms\n",
            "image 306/1680 /content/drive/MyDrive/high_alt_object_detection/high_alt_test/high_alt_images/M0601_img000306.jpg: 352x640 (no detections), 8.2ms\n",
            "image 307/1680 /content/drive/MyDrive/high_alt_object_detection/high_alt_test/high_alt_images/M0601_img000307.jpg: 352x640 (no detections), 8.5ms\n",
            "image 308/1680 /content/drive/MyDrive/high_alt_object_detection/high_alt_test/high_alt_images/M0601_img000308.jpg: 352x640 (no detections), 8.3ms\n",
            "image 309/1680 /content/drive/MyDrive/high_alt_object_detection/high_alt_test/high_alt_images/M0601_img000309.jpg: 352x640 (no detections), 10.0ms\n",
            "image 310/1680 /content/drive/MyDrive/high_alt_object_detection/high_alt_test/high_alt_images/M0601_img000310.jpg: 352x640 (no detections), 8.3ms\n",
            "image 311/1680 /content/drive/MyDrive/high_alt_object_detection/high_alt_test/high_alt_images/M0601_img000311.jpg: 352x640 (no detections), 8.1ms\n",
            "image 312/1680 /content/drive/MyDrive/high_alt_object_detection/high_alt_test/high_alt_images/M0601_img000312.jpg: 352x640 (no detections), 8.3ms\n",
            "image 313/1680 /content/drive/MyDrive/high_alt_object_detection/high_alt_test/high_alt_images/M0601_img000313.jpg: 352x640 (no detections), 8.0ms\n",
            "image 314/1680 /content/drive/MyDrive/high_alt_object_detection/high_alt_test/high_alt_images/M0601_img000314.jpg: 352x640 (no detections), 8.5ms\n",
            "image 315/1680 /content/drive/MyDrive/high_alt_object_detection/high_alt_test/high_alt_images/M0601_img000315.jpg: 352x640 2 cars, 8.1ms\n",
            "image 316/1680 /content/drive/MyDrive/high_alt_object_detection/high_alt_test/high_alt_images/M0601_img000316.jpg: 352x640 (no detections), 8.2ms\n",
            "image 317/1680 /content/drive/MyDrive/high_alt_object_detection/high_alt_test/high_alt_images/M0601_img000317.jpg: 352x640 (no detections), 8.1ms\n",
            "image 318/1680 /content/drive/MyDrive/high_alt_object_detection/high_alt_test/high_alt_images/M0601_img000318.jpg: 352x640 (no detections), 8.4ms\n",
            "image 319/1680 /content/drive/MyDrive/high_alt_object_detection/high_alt_test/high_alt_images/M0601_img000319.jpg: 352x640 (no detections), 8.0ms\n",
            "image 320/1680 /content/drive/MyDrive/high_alt_object_detection/high_alt_test/high_alt_images/M0601_img000320.jpg: 352x640 (no detections), 8.0ms\n",
            "image 321/1680 /content/drive/MyDrive/high_alt_object_detection/high_alt_test/high_alt_images/M0601_img000321.jpg: 352x640 (no detections), 8.4ms\n",
            "image 322/1680 /content/drive/MyDrive/high_alt_object_detection/high_alt_test/high_alt_images/M0601_img000322.jpg: 352x640 (no detections), 8.2ms\n",
            "image 323/1680 /content/drive/MyDrive/high_alt_object_detection/high_alt_test/high_alt_images/M0601_img000323.jpg: 352x640 (no detections), 8.2ms\n",
            "image 324/1680 /content/drive/MyDrive/high_alt_object_detection/high_alt_test/high_alt_images/M0601_img000324.jpg: 352x640 1 car, 8.6ms\n",
            "image 325/1680 /content/drive/MyDrive/high_alt_object_detection/high_alt_test/high_alt_images/M0601_img000325.jpg: 352x640 1 car, 8.5ms\n",
            "image 326/1680 /content/drive/MyDrive/high_alt_object_detection/high_alt_test/high_alt_images/M0601_img000326.jpg: 352x640 (no detections), 8.5ms\n",
            "image 327/1680 /content/drive/MyDrive/high_alt_object_detection/high_alt_test/high_alt_images/M0601_img000327.jpg: 352x640 1 car, 8.4ms\n",
            "image 328/1680 /content/drive/MyDrive/high_alt_object_detection/high_alt_test/high_alt_images/M0601_img000328.jpg: 352x640 1 car, 8.1ms\n",
            "image 329/1680 /content/drive/MyDrive/high_alt_object_detection/high_alt_test/high_alt_images/M0601_img000329.jpg: 352x640 1 car, 8.0ms\n",
            "image 330/1680 /content/drive/MyDrive/high_alt_object_detection/high_alt_test/high_alt_images/M0601_img000330.jpg: 352x640 1 car, 8.4ms\n",
            "image 331/1680 /content/drive/MyDrive/high_alt_object_detection/high_alt_test/high_alt_images/M0601_img000331.jpg: 352x640 1 car, 8.3ms\n",
            "image 332/1680 /content/drive/MyDrive/high_alt_object_detection/high_alt_test/high_alt_images/M0601_img000332.jpg: 352x640 1 car, 7.9ms\n",
            "image 333/1680 /content/drive/MyDrive/high_alt_object_detection/high_alt_test/high_alt_images/M0601_img000333.jpg: 352x640 1 car, 8.1ms\n",
            "image 334/1680 /content/drive/MyDrive/high_alt_object_detection/high_alt_test/high_alt_images/M0601_img000334.jpg: 352x640 1 car, 7.8ms\n",
            "image 335/1680 /content/drive/MyDrive/high_alt_object_detection/high_alt_test/high_alt_images/M0601_img000335.jpg: 352x640 (no detections), 8.0ms\n",
            "image 336/1680 /content/drive/MyDrive/high_alt_object_detection/high_alt_test/high_alt_images/M0601_img000336.jpg: 352x640 (no detections), 7.9ms\n",
            "image 337/1680 /content/drive/MyDrive/high_alt_object_detection/high_alt_test/high_alt_images/M0601_img000337.jpg: 352x640 (no detections), 8.4ms\n",
            "image 338/1680 /content/drive/MyDrive/high_alt_object_detection/high_alt_test/high_alt_images/M0601_img000338.jpg: 352x640 (no detections), 8.1ms\n",
            "image 339/1680 /content/drive/MyDrive/high_alt_object_detection/high_alt_test/high_alt_images/M0601_img000339.jpg: 352x640 (no detections), 8.0ms\n",
            "image 340/1680 /content/drive/MyDrive/high_alt_object_detection/high_alt_test/high_alt_images/M0601_img000340.jpg: 352x640 (no detections), 7.8ms\n",
            "image 341/1680 /content/drive/MyDrive/high_alt_object_detection/high_alt_test/high_alt_images/M0601_img000341.jpg: 352x640 (no detections), 7.9ms\n",
            "image 342/1680 /content/drive/MyDrive/high_alt_object_detection/high_alt_test/high_alt_images/M0601_img000342.jpg: 352x640 (no detections), 8.0ms\n",
            "image 343/1680 /content/drive/MyDrive/high_alt_object_detection/high_alt_test/high_alt_images/M0601_img000343.jpg: 352x640 (no detections), 7.7ms\n",
            "image 344/1680 /content/drive/MyDrive/high_alt_object_detection/high_alt_test/high_alt_images/M0601_img000344.jpg: 352x640 (no detections), 7.8ms\n",
            "image 345/1680 /content/drive/MyDrive/high_alt_object_detection/high_alt_test/high_alt_images/M0601_img000345.jpg: 352x640 (no detections), 7.7ms\n",
            "image 346/1680 /content/drive/MyDrive/high_alt_object_detection/high_alt_test/high_alt_images/M0601_img000346.jpg: 352x640 (no detections), 7.6ms\n",
            "image 347/1680 /content/drive/MyDrive/high_alt_object_detection/high_alt_test/high_alt_images/M0601_img000347.jpg: 352x640 (no detections), 7.5ms\n",
            "image 348/1680 /content/drive/MyDrive/high_alt_object_detection/high_alt_test/high_alt_images/M0601_img000348.jpg: 352x640 (no detections), 7.7ms\n",
            "image 349/1680 /content/drive/MyDrive/high_alt_object_detection/high_alt_test/high_alt_images/M0601_img000349.jpg: 352x640 (no detections), 7.7ms\n",
            "image 350/1680 /content/drive/MyDrive/high_alt_object_detection/high_alt_test/high_alt_images/M0601_img000350.jpg: 352x640 (no detections), 7.6ms\n",
            "image 351/1680 /content/drive/MyDrive/high_alt_object_detection/high_alt_test/high_alt_images/M0601_img000351.jpg: 352x640 (no detections), 7.8ms\n",
            "image 352/1680 /content/drive/MyDrive/high_alt_object_detection/high_alt_test/high_alt_images/M0601_img000352.jpg: 352x640 (no detections), 7.7ms\n",
            "image 353/1680 /content/drive/MyDrive/high_alt_object_detection/high_alt_test/high_alt_images/M0601_img000353.jpg: 352x640 (no detections), 7.7ms\n",
            "image 354/1680 /content/drive/MyDrive/high_alt_object_detection/high_alt_test/high_alt_images/M0601_img000354.jpg: 352x640 (no detections), 8.2ms\n",
            "image 355/1680 /content/drive/MyDrive/high_alt_object_detection/high_alt_test/high_alt_images/M0601_img000355.jpg: 352x640 (no detections), 8.4ms\n",
            "image 356/1680 /content/drive/MyDrive/high_alt_object_detection/high_alt_test/high_alt_images/M0601_img000356.jpg: 352x640 (no detections), 8.2ms\n",
            "image 357/1680 /content/drive/MyDrive/high_alt_object_detection/high_alt_test/high_alt_images/M0601_img000357.jpg: 352x640 1 car, 8.2ms\n",
            "image 358/1680 /content/drive/MyDrive/high_alt_object_detection/high_alt_test/high_alt_images/M0601_img000358.jpg: 352x640 1 car, 7.9ms\n",
            "image 359/1680 /content/drive/MyDrive/high_alt_object_detection/high_alt_test/high_alt_images/M0601_img000359.jpg: 352x640 1 car, 8.3ms\n",
            "image 360/1680 /content/drive/MyDrive/high_alt_object_detection/high_alt_test/high_alt_images/M0601_img000360.jpg: 352x640 (no detections), 8.2ms\n",
            "image 361/1680 /content/drive/MyDrive/high_alt_object_detection/high_alt_test/high_alt_images/M0601_img000361.jpg: 352x640 (no detections), 8.3ms\n",
            "image 362/1680 /content/drive/MyDrive/high_alt_object_detection/high_alt_test/high_alt_images/M0601_img000362.jpg: 352x640 (no detections), 7.9ms\n",
            "image 363/1680 /content/drive/MyDrive/high_alt_object_detection/high_alt_test/high_alt_images/M0601_img000363.jpg: 352x640 (no detections), 7.8ms\n",
            "image 364/1680 /content/drive/MyDrive/high_alt_object_detection/high_alt_test/high_alt_images/M0601_img000364.jpg: 352x640 (no detections), 8.1ms\n",
            "image 365/1680 /content/drive/MyDrive/high_alt_object_detection/high_alt_test/high_alt_images/M0601_img000365.jpg: 352x640 (no detections), 7.9ms\n",
            "image 366/1680 /content/drive/MyDrive/high_alt_object_detection/high_alt_test/high_alt_images/M0601_img000366.jpg: 352x640 (no detections), 9.0ms\n",
            "image 367/1680 /content/drive/MyDrive/high_alt_object_detection/high_alt_test/high_alt_images/M0601_img000367.jpg: 352x640 (no detections), 8.3ms\n",
            "image 368/1680 /content/drive/MyDrive/high_alt_object_detection/high_alt_test/high_alt_images/M0601_img000368.jpg: 352x640 (no detections), 7.9ms\n",
            "image 369/1680 /content/drive/MyDrive/high_alt_object_detection/high_alt_test/high_alt_images/M0601_img000369.jpg: 352x640 (no detections), 9.7ms\n",
            "image 370/1680 /content/drive/MyDrive/high_alt_object_detection/high_alt_test/high_alt_images/M0601_img000370.jpg: 352x640 (no detections), 7.8ms\n",
            "image 371/1680 /content/drive/MyDrive/high_alt_object_detection/high_alt_test/high_alt_images/M0601_img000371.jpg: 352x640 (no detections), 7.7ms\n",
            "image 372/1680 /content/drive/MyDrive/high_alt_object_detection/high_alt_test/high_alt_images/M0601_img000372.jpg: 352x640 (no detections), 9.9ms\n",
            "image 373/1680 /content/drive/MyDrive/high_alt_object_detection/high_alt_test/high_alt_images/M0701_img000001.jpg: 352x640 5 cars, 9.5ms\n",
            "image 374/1680 /content/drive/MyDrive/high_alt_object_detection/high_alt_test/high_alt_images/M0701_img000002.jpg: 352x640 5 cars, 9.6ms\n",
            "image 375/1680 /content/drive/MyDrive/high_alt_object_detection/high_alt_test/high_alt_images/M0701_img000003.jpg: 352x640 5 cars, 8.6ms\n",
            "image 376/1680 /content/drive/MyDrive/high_alt_object_detection/high_alt_test/high_alt_images/M0701_img000004.jpg: 352x640 3 cars, 7.9ms\n",
            "image 377/1680 /content/drive/MyDrive/high_alt_object_detection/high_alt_test/high_alt_images/M0701_img000005.jpg: 352x640 3 cars, 8.0ms\n",
            "image 378/1680 /content/drive/MyDrive/high_alt_object_detection/high_alt_test/high_alt_images/M0701_img000006.jpg: 352x640 4 cars, 8.2ms\n",
            "image 379/1680 /content/drive/MyDrive/high_alt_object_detection/high_alt_test/high_alt_images/M0701_img000007.jpg: 352x640 4 cars, 7.9ms\n",
            "image 380/1680 /content/drive/MyDrive/high_alt_object_detection/high_alt_test/high_alt_images/M0701_img000008.jpg: 352x640 3 cars, 9.8ms\n",
            "image 381/1680 /content/drive/MyDrive/high_alt_object_detection/high_alt_test/high_alt_images/M0701_img000009.jpg: 352x640 2 cars, 8.9ms\n",
            "image 382/1680 /content/drive/MyDrive/high_alt_object_detection/high_alt_test/high_alt_images/M0701_img000010.jpg: 352x640 3 cars, 8.3ms\n",
            "image 383/1680 /content/drive/MyDrive/high_alt_object_detection/high_alt_test/high_alt_images/M0701_img000011.jpg: 352x640 5 cars, 8.3ms\n",
            "image 384/1680 /content/drive/MyDrive/high_alt_object_detection/high_alt_test/high_alt_images/M0701_img000012.jpg: 352x640 3 cars, 9.9ms\n",
            "image 385/1680 /content/drive/MyDrive/high_alt_object_detection/high_alt_test/high_alt_images/M0701_img000013.jpg: 352x640 6 cars, 8.0ms\n",
            "image 386/1680 /content/drive/MyDrive/high_alt_object_detection/high_alt_test/high_alt_images/M0701_img000014.jpg: 352x640 4 cars, 7.8ms\n",
            "image 387/1680 /content/drive/MyDrive/high_alt_object_detection/high_alt_test/high_alt_images/M0701_img000015.jpg: 352x640 4 cars, 8.2ms\n",
            "image 388/1680 /content/drive/MyDrive/high_alt_object_detection/high_alt_test/high_alt_images/M0701_img000016.jpg: 352x640 4 cars, 8.1ms\n",
            "image 389/1680 /content/drive/MyDrive/high_alt_object_detection/high_alt_test/high_alt_images/M0701_img000017.jpg: 352x640 4 cars, 8.1ms\n",
            "image 390/1680 /content/drive/MyDrive/high_alt_object_detection/high_alt_test/high_alt_images/M0701_img000018.jpg: 352x640 2 cars, 8.0ms\n",
            "image 391/1680 /content/drive/MyDrive/high_alt_object_detection/high_alt_test/high_alt_images/M0701_img000019.jpg: 352x640 4 cars, 9.2ms\n",
            "image 392/1680 /content/drive/MyDrive/high_alt_object_detection/high_alt_test/high_alt_images/M0701_img000020.jpg: 352x640 5 cars, 9.0ms\n",
            "image 393/1680 /content/drive/MyDrive/high_alt_object_detection/high_alt_test/high_alt_images/M0701_img000021.jpg: 352x640 6 cars, 8.3ms\n",
            "image 394/1680 /content/drive/MyDrive/high_alt_object_detection/high_alt_test/high_alt_images/M0701_img000022.jpg: 352x640 4 cars, 8.4ms\n",
            "image 395/1680 /content/drive/MyDrive/high_alt_object_detection/high_alt_test/high_alt_images/M0701_img000023.jpg: 352x640 4 cars, 8.2ms\n",
            "image 396/1680 /content/drive/MyDrive/high_alt_object_detection/high_alt_test/high_alt_images/M0701_img000024.jpg: 352x640 6 cars, 8.3ms\n",
            "image 397/1680 /content/drive/MyDrive/high_alt_object_detection/high_alt_test/high_alt_images/M0701_img000025.jpg: 352x640 5 cars, 7.9ms\n",
            "image 398/1680 /content/drive/MyDrive/high_alt_object_detection/high_alt_test/high_alt_images/M0701_img000026.jpg: 352x640 6 cars, 8.3ms\n",
            "image 399/1680 /content/drive/MyDrive/high_alt_object_detection/high_alt_test/high_alt_images/M0701_img000027.jpg: 352x640 6 cars, 8.0ms\n",
            "image 400/1680 /content/drive/MyDrive/high_alt_object_detection/high_alt_test/high_alt_images/M0701_img000028.jpg: 352x640 7 cars, 8.2ms\n",
            "image 401/1680 /content/drive/MyDrive/high_alt_object_detection/high_alt_test/high_alt_images/M0701_img000029.jpg: 352x640 7 cars, 8.6ms\n",
            "image 402/1680 /content/drive/MyDrive/high_alt_object_detection/high_alt_test/high_alt_images/M0701_img000030.jpg: 352x640 6 cars, 8.4ms\n",
            "image 403/1680 /content/drive/MyDrive/high_alt_object_detection/high_alt_test/high_alt_images/M0701_img000031.jpg: 352x640 6 cars, 8.0ms\n",
            "image 404/1680 /content/drive/MyDrive/high_alt_object_detection/high_alt_test/high_alt_images/M0701_img000032.jpg: 352x640 6 cars, 8.1ms\n",
            "image 405/1680 /content/drive/MyDrive/high_alt_object_detection/high_alt_test/high_alt_images/M0701_img000033.jpg: 352x640 6 cars, 8.5ms\n",
            "image 406/1680 /content/drive/MyDrive/high_alt_object_detection/high_alt_test/high_alt_images/M0701_img000034.jpg: 352x640 6 cars, 9.7ms\n",
            "image 407/1680 /content/drive/MyDrive/high_alt_object_detection/high_alt_test/high_alt_images/M0701_img000035.jpg: 352x640 6 cars, 8.0ms\n",
            "image 408/1680 /content/drive/MyDrive/high_alt_object_detection/high_alt_test/high_alt_images/M0701_img000036.jpg: 352x640 6 cars, 8.3ms\n",
            "image 409/1680 /content/drive/MyDrive/high_alt_object_detection/high_alt_test/high_alt_images/M0701_img000037.jpg: 352x640 6 cars, 8.4ms\n",
            "image 410/1680 /content/drive/MyDrive/high_alt_object_detection/high_alt_test/high_alt_images/M0701_img000038.jpg: 352x640 7 cars, 10.3ms\n",
            "image 411/1680 /content/drive/MyDrive/high_alt_object_detection/high_alt_test/high_alt_images/M0701_img000039.jpg: 352x640 8 cars, 8.3ms\n",
            "image 412/1680 /content/drive/MyDrive/high_alt_object_detection/high_alt_test/high_alt_images/M0701_img000040.jpg: 352x640 7 cars, 8.2ms\n",
            "image 413/1680 /content/drive/MyDrive/high_alt_object_detection/high_alt_test/high_alt_images/M0701_img000041.jpg: 352x640 6 cars, 7.9ms\n",
            "image 414/1680 /content/drive/MyDrive/high_alt_object_detection/high_alt_test/high_alt_images/M0701_img000042.jpg: 352x640 7 cars, 8.2ms\n",
            "image 415/1680 /content/drive/MyDrive/high_alt_object_detection/high_alt_test/high_alt_images/M0701_img000043.jpg: 352x640 7 cars, 8.6ms\n",
            "image 416/1680 /content/drive/MyDrive/high_alt_object_detection/high_alt_test/high_alt_images/M0701_img000044.jpg: 352x640 8 cars, 8.0ms\n",
            "image 417/1680 /content/drive/MyDrive/high_alt_object_detection/high_alt_test/high_alt_images/M0701_img000045.jpg: 352x640 7 cars, 7.9ms\n",
            "image 418/1680 /content/drive/MyDrive/high_alt_object_detection/high_alt_test/high_alt_images/M0701_img000046.jpg: 352x640 6 cars, 8.7ms\n",
            "image 419/1680 /content/drive/MyDrive/high_alt_object_detection/high_alt_test/high_alt_images/M0701_img000047.jpg: 352x640 6 cars, 8.3ms\n",
            "image 420/1680 /content/drive/MyDrive/high_alt_object_detection/high_alt_test/high_alt_images/M0701_img000048.jpg: 352x640 6 cars, 8.2ms\n",
            "image 421/1680 /content/drive/MyDrive/high_alt_object_detection/high_alt_test/high_alt_images/M0701_img000049.jpg: 352x640 5 cars, 8.8ms\n",
            "image 422/1680 /content/drive/MyDrive/high_alt_object_detection/high_alt_test/high_alt_images/M0701_img000050.jpg: 352x640 5 cars, 8.1ms\n",
            "image 423/1680 /content/drive/MyDrive/high_alt_object_detection/high_alt_test/high_alt_images/M0701_img000051.jpg: 352x640 4 cars, 8.0ms\n",
            "image 424/1680 /content/drive/MyDrive/high_alt_object_detection/high_alt_test/high_alt_images/M0701_img000052.jpg: 352x640 6 cars, 8.1ms\n",
            "image 425/1680 /content/drive/MyDrive/high_alt_object_detection/high_alt_test/high_alt_images/M0701_img000053.jpg: 352x640 5 cars, 8.3ms\n",
            "image 426/1680 /content/drive/MyDrive/high_alt_object_detection/high_alt_test/high_alt_images/M0701_img000054.jpg: 352x640 6 cars, 8.1ms\n",
            "image 427/1680 /content/drive/MyDrive/high_alt_object_detection/high_alt_test/high_alt_images/M0701_img000055.jpg: 352x640 6 cars, 8.1ms\n",
            "image 428/1680 /content/drive/MyDrive/high_alt_object_detection/high_alt_test/high_alt_images/M0701_img000056.jpg: 352x640 7 cars, 8.4ms\n",
            "image 429/1680 /content/drive/MyDrive/high_alt_object_detection/high_alt_test/high_alt_images/M0701_img000057.jpg: 352x640 6 cars, 10.2ms\n",
            "image 430/1680 /content/drive/MyDrive/high_alt_object_detection/high_alt_test/high_alt_images/M0701_img000058.jpg: 352x640 6 cars, 8.3ms\n",
            "image 431/1680 /content/drive/MyDrive/high_alt_object_detection/high_alt_test/high_alt_images/M0701_img000059.jpg: 352x640 5 cars, 8.3ms\n",
            "image 432/1680 /content/drive/MyDrive/high_alt_object_detection/high_alt_test/high_alt_images/M0701_img000060.jpg: 352x640 6 cars, 8.0ms\n",
            "image 433/1680 /content/drive/MyDrive/high_alt_object_detection/high_alt_test/high_alt_images/M0701_img000061.jpg: 352x640 5 cars, 7.9ms\n",
            "image 434/1680 /content/drive/MyDrive/high_alt_object_detection/high_alt_test/high_alt_images/M0701_img000062.jpg: 352x640 5 cars, 8.0ms\n",
            "image 435/1680 /content/drive/MyDrive/high_alt_object_detection/high_alt_test/high_alt_images/M0701_img000063.jpg: 352x640 4 cars, 8.0ms\n",
            "image 436/1680 /content/drive/MyDrive/high_alt_object_detection/high_alt_test/high_alt_images/M0701_img000064.jpg: 352x640 6 cars, 7.8ms\n",
            "image 437/1680 /content/drive/MyDrive/high_alt_object_detection/high_alt_test/high_alt_images/M0701_img000065.jpg: 352x640 5 cars, 7.9ms\n",
            "image 438/1680 /content/drive/MyDrive/high_alt_object_detection/high_alt_test/high_alt_images/M0701_img000066.jpg: 352x640 4 cars, 8.2ms\n",
            "image 439/1680 /content/drive/MyDrive/high_alt_object_detection/high_alt_test/high_alt_images/M0701_img000067.jpg: 352x640 5 cars, 8.4ms\n",
            "image 440/1680 /content/drive/MyDrive/high_alt_object_detection/high_alt_test/high_alt_images/M0701_img000068.jpg: 352x640 4 cars, 8.3ms\n",
            "image 441/1680 /content/drive/MyDrive/high_alt_object_detection/high_alt_test/high_alt_images/M0701_img000069.jpg: 352x640 4 cars, 8.1ms\n",
            "image 442/1680 /content/drive/MyDrive/high_alt_object_detection/high_alt_test/high_alt_images/M0701_img000070.jpg: 352x640 5 cars, 8.1ms\n",
            "image 443/1680 /content/drive/MyDrive/high_alt_object_detection/high_alt_test/high_alt_images/M0701_img000071.jpg: 352x640 5 cars, 8.4ms\n",
            "image 444/1680 /content/drive/MyDrive/high_alt_object_detection/high_alt_test/high_alt_images/M0701_img000072.jpg: 352x640 6 cars, 8.1ms\n",
            "image 445/1680 /content/drive/MyDrive/high_alt_object_detection/high_alt_test/high_alt_images/M0701_img000073.jpg: 352x640 5 cars, 8.1ms\n",
            "image 446/1680 /content/drive/MyDrive/high_alt_object_detection/high_alt_test/high_alt_images/M0701_img000074.jpg: 352x640 3 cars, 8.1ms\n",
            "image 447/1680 /content/drive/MyDrive/high_alt_object_detection/high_alt_test/high_alt_images/M0701_img000075.jpg: 352x640 3 cars, 8.8ms\n",
            "image 448/1680 /content/drive/MyDrive/high_alt_object_detection/high_alt_test/high_alt_images/M0701_img000076.jpg: 352x640 4 cars, 9.8ms\n",
            "image 449/1680 /content/drive/MyDrive/high_alt_object_detection/high_alt_test/high_alt_images/M0701_img000077.jpg: 352x640 3 cars, 8.0ms\n",
            "image 450/1680 /content/drive/MyDrive/high_alt_object_detection/high_alt_test/high_alt_images/M0701_img000078.jpg: 352x640 3 cars, 7.9ms\n",
            "image 451/1680 /content/drive/MyDrive/high_alt_object_detection/high_alt_test/high_alt_images/M0701_img000079.jpg: 352x640 3 cars, 8.9ms\n",
            "image 452/1680 /content/drive/MyDrive/high_alt_object_detection/high_alt_test/high_alt_images/M0701_img000080.jpg: 352x640 4 cars, 8.0ms\n",
            "image 453/1680 /content/drive/MyDrive/high_alt_object_detection/high_alt_test/high_alt_images/M0701_img000081.jpg: 352x640 3 cars, 7.9ms\n",
            "image 454/1680 /content/drive/MyDrive/high_alt_object_detection/high_alt_test/high_alt_images/M0701_img000082.jpg: 352x640 3 cars, 8.0ms\n",
            "image 455/1680 /content/drive/MyDrive/high_alt_object_detection/high_alt_test/high_alt_images/M0701_img000083.jpg: 352x640 3 cars, 8.1ms\n",
            "image 456/1680 /content/drive/MyDrive/high_alt_object_detection/high_alt_test/high_alt_images/M0701_img000084.jpg: 352x640 3 cars, 9.5ms\n",
            "image 457/1680 /content/drive/MyDrive/high_alt_object_detection/high_alt_test/high_alt_images/M0701_img000085.jpg: 352x640 4 cars, 8.1ms\n",
            "image 458/1680 /content/drive/MyDrive/high_alt_object_detection/high_alt_test/high_alt_images/M0701_img000086.jpg: 352x640 4 cars, 7.7ms\n",
            "image 459/1680 /content/drive/MyDrive/high_alt_object_detection/high_alt_test/high_alt_images/M0701_img000087.jpg: 352x640 3 cars, 7.7ms\n",
            "image 460/1680 /content/drive/MyDrive/high_alt_object_detection/high_alt_test/high_alt_images/M0701_img000088.jpg: 352x640 4 cars, 8.1ms\n",
            "image 461/1680 /content/drive/MyDrive/high_alt_object_detection/high_alt_test/high_alt_images/M0701_img000089.jpg: 352x640 3 cars, 8.2ms\n",
            "image 462/1680 /content/drive/MyDrive/high_alt_object_detection/high_alt_test/high_alt_images/M0701_img000090.jpg: 352x640 3 cars, 8.8ms\n",
            "image 463/1680 /content/drive/MyDrive/high_alt_object_detection/high_alt_test/high_alt_images/M0701_img000091.jpg: 352x640 4 cars, 8.1ms\n",
            "image 464/1680 /content/drive/MyDrive/high_alt_object_detection/high_alt_test/high_alt_images/M0701_img000092.jpg: 352x640 4 cars, 7.9ms\n",
            "image 465/1680 /content/drive/MyDrive/high_alt_object_detection/high_alt_test/high_alt_images/M0701_img000093.jpg: 352x640 4 cars, 8.1ms\n",
            "image 466/1680 /content/drive/MyDrive/high_alt_object_detection/high_alt_test/high_alt_images/M0701_img000094.jpg: 352x640 4 cars, 8.2ms\n",
            "image 467/1680 /content/drive/MyDrive/high_alt_object_detection/high_alt_test/high_alt_images/M0701_img000095.jpg: 352x640 4 cars, 8.0ms\n",
            "image 468/1680 /content/drive/MyDrive/high_alt_object_detection/high_alt_test/high_alt_images/M0701_img000096.jpg: 352x640 4 cars, 8.4ms\n",
            "image 469/1680 /content/drive/MyDrive/high_alt_object_detection/high_alt_test/high_alt_images/M0701_img000097.jpg: 352x640 3 cars, 8.5ms\n",
            "image 470/1680 /content/drive/MyDrive/high_alt_object_detection/high_alt_test/high_alt_images/M0701_img000098.jpg: 352x640 3 cars, 8.5ms\n",
            "image 471/1680 /content/drive/MyDrive/high_alt_object_detection/high_alt_test/high_alt_images/M0701_img000099.jpg: 352x640 4 cars, 8.4ms\n",
            "image 472/1680 /content/drive/MyDrive/high_alt_object_detection/high_alt_test/high_alt_images/M0701_img000100.jpg: 352x640 5 cars, 8.6ms\n",
            "image 473/1680 /content/drive/MyDrive/high_alt_object_detection/high_alt_test/high_alt_images/M0701_img000101.jpg: 352x640 4 cars, 8.4ms\n",
            "image 474/1680 /content/drive/MyDrive/high_alt_object_detection/high_alt_test/high_alt_images/M0701_img000102.jpg: 352x640 5 cars, 8.4ms\n",
            "image 475/1680 /content/drive/MyDrive/high_alt_object_detection/high_alt_test/high_alt_images/M0701_img000103.jpg: 352x640 3 cars, 8.5ms\n",
            "image 476/1680 /content/drive/MyDrive/high_alt_object_detection/high_alt_test/high_alt_images/M0701_img000104.jpg: 352x640 3 cars, 8.1ms\n",
            "image 477/1680 /content/drive/MyDrive/high_alt_object_detection/high_alt_test/high_alt_images/M0701_img000105.jpg: 352x640 4 cars, 8.2ms\n",
            "image 478/1680 /content/drive/MyDrive/high_alt_object_detection/high_alt_test/high_alt_images/M0701_img000106.jpg: 352x640 5 cars, 7.7ms\n",
            "image 479/1680 /content/drive/MyDrive/high_alt_object_detection/high_alt_test/high_alt_images/M0701_img000107.jpg: 352x640 4 cars, 7.8ms\n",
            "image 480/1680 /content/drive/MyDrive/high_alt_object_detection/high_alt_test/high_alt_images/M0701_img000108.jpg: 352x640 5 cars, 7.5ms\n",
            "image 481/1680 /content/drive/MyDrive/high_alt_object_detection/high_alt_test/high_alt_images/M0701_img000109.jpg: 352x640 6 cars, 7.9ms\n",
            "image 482/1680 /content/drive/MyDrive/high_alt_object_detection/high_alt_test/high_alt_images/M0701_img000110.jpg: 352x640 5 cars, 7.9ms\n",
            "image 483/1680 /content/drive/MyDrive/high_alt_object_detection/high_alt_test/high_alt_images/M0701_img000111.jpg: 352x640 5 cars, 7.6ms\n",
            "image 484/1680 /content/drive/MyDrive/high_alt_object_detection/high_alt_test/high_alt_images/M0701_img000112.jpg: 352x640 6 cars, 8.3ms\n",
            "image 485/1680 /content/drive/MyDrive/high_alt_object_detection/high_alt_test/high_alt_images/M0701_img000113.jpg: 352x640 5 cars, 7.9ms\n",
            "image 486/1680 /content/drive/MyDrive/high_alt_object_detection/high_alt_test/high_alt_images/M0701_img000114.jpg: 352x640 5 cars, 8.1ms\n",
            "image 487/1680 /content/drive/MyDrive/high_alt_object_detection/high_alt_test/high_alt_images/M0701_img000115.jpg: 352x640 6 cars, 8.6ms\n",
            "image 488/1680 /content/drive/MyDrive/high_alt_object_detection/high_alt_test/high_alt_images/M0701_img000116.jpg: 352x640 6 cars, 8.1ms\n",
            "image 489/1680 /content/drive/MyDrive/high_alt_object_detection/high_alt_test/high_alt_images/M0701_img000117.jpg: 352x640 6 cars, 8.2ms\n",
            "image 490/1680 /content/drive/MyDrive/high_alt_object_detection/high_alt_test/high_alt_images/M0701_img000118.jpg: 352x640 8 cars, 8.1ms\n",
            "image 491/1680 /content/drive/MyDrive/high_alt_object_detection/high_alt_test/high_alt_images/M0701_img000119.jpg: 352x640 7 cars, 7.8ms\n",
            "image 492/1680 /content/drive/MyDrive/high_alt_object_detection/high_alt_test/high_alt_images/M0701_img000120.jpg: 352x640 7 cars, 7.7ms\n",
            "image 493/1680 /content/drive/MyDrive/high_alt_object_detection/high_alt_test/high_alt_images/M0701_img000121.jpg: 352x640 9 cars, 7.8ms\n",
            "image 494/1680 /content/drive/MyDrive/high_alt_object_detection/high_alt_test/high_alt_images/M0701_img000122.jpg: 352x640 7 cars, 7.7ms\n",
            "image 495/1680 /content/drive/MyDrive/high_alt_object_detection/high_alt_test/high_alt_images/M0701_img000123.jpg: 352x640 7 cars, 7.7ms\n",
            "image 496/1680 /content/drive/MyDrive/high_alt_object_detection/high_alt_test/high_alt_images/M0701_img000124.jpg: 352x640 9 cars, 7.6ms\n",
            "image 497/1680 /content/drive/MyDrive/high_alt_object_detection/high_alt_test/high_alt_images/M0701_img000125.jpg: 352x640 8 cars, 7.8ms\n",
            "image 498/1680 /content/drive/MyDrive/high_alt_object_detection/high_alt_test/high_alt_images/M0701_img000126.jpg: 352x640 5 cars, 7.7ms\n",
            "image 499/1680 /content/drive/MyDrive/high_alt_object_detection/high_alt_test/high_alt_images/M0701_img000127.jpg: 352x640 7 cars, 7.9ms\n",
            "image 500/1680 /content/drive/MyDrive/high_alt_object_detection/high_alt_test/high_alt_images/M0701_img000128.jpg: 352x640 7 cars, 7.7ms\n",
            "image 501/1680 /content/drive/MyDrive/high_alt_object_detection/high_alt_test/high_alt_images/M0701_img000129.jpg: 352x640 9 cars, 8.0ms\n",
            "image 502/1680 /content/drive/MyDrive/high_alt_object_detection/high_alt_test/high_alt_images/M0701_img000130.jpg: 352x640 8 cars, 7.9ms\n",
            "image 503/1680 /content/drive/MyDrive/high_alt_object_detection/high_alt_test/high_alt_images/M0701_img000131.jpg: 352x640 7 cars, 8.1ms\n",
            "image 504/1680 /content/drive/MyDrive/high_alt_object_detection/high_alt_test/high_alt_images/M0701_img000132.jpg: 352x640 5 cars, 7.9ms\n",
            "image 505/1680 /content/drive/MyDrive/high_alt_object_detection/high_alt_test/high_alt_images/M0701_img000133.jpg: 352x640 4 cars, 8.8ms\n",
            "image 506/1680 /content/drive/MyDrive/high_alt_object_detection/high_alt_test/high_alt_images/M0701_img000134.jpg: 352x640 4 cars, 8.0ms\n",
            "image 507/1680 /content/drive/MyDrive/high_alt_object_detection/high_alt_test/high_alt_images/M0701_img000135.jpg: 352x640 5 cars, 7.8ms\n",
            "image 508/1680 /content/drive/MyDrive/high_alt_object_detection/high_alt_test/high_alt_images/M0701_img000136.jpg: 352x640 8 cars, 8.5ms\n",
            "image 509/1680 /content/drive/MyDrive/high_alt_object_detection/high_alt_test/high_alt_images/M0701_img000137.jpg: 352x640 6 cars, 8.1ms\n",
            "image 510/1680 /content/drive/MyDrive/high_alt_object_detection/high_alt_test/high_alt_images/M0701_img000138.jpg: 352x640 3 cars, 8.1ms\n",
            "image 511/1680 /content/drive/MyDrive/high_alt_object_detection/high_alt_test/high_alt_images/M0701_img000139.jpg: 352x640 6 cars, 8.0ms\n",
            "image 512/1680 /content/drive/MyDrive/high_alt_object_detection/high_alt_test/high_alt_images/M0701_img000140.jpg: 352x640 6 cars, 7.9ms\n",
            "image 513/1680 /content/drive/MyDrive/high_alt_object_detection/high_alt_test/high_alt_images/M0701_img000141.jpg: 352x640 6 cars, 7.9ms\n",
            "image 514/1680 /content/drive/MyDrive/high_alt_object_detection/high_alt_test/high_alt_images/M0701_img000142.jpg: 352x640 8 cars, 8.1ms\n",
            "image 515/1680 /content/drive/MyDrive/high_alt_object_detection/high_alt_test/high_alt_images/M0701_img000143.jpg: 352x640 8 cars, 10.5ms\n",
            "image 516/1680 /content/drive/MyDrive/high_alt_object_detection/high_alt_test/high_alt_images/M0701_img000144.jpg: 352x640 8 cars, 7.9ms\n",
            "image 517/1680 /content/drive/MyDrive/high_alt_object_detection/high_alt_test/high_alt_images/M0701_img000145.jpg: 352x640 6 cars, 8.3ms\n",
            "image 518/1680 /content/drive/MyDrive/high_alt_object_detection/high_alt_test/high_alt_images/M0701_img000146.jpg: 352x640 7 cars, 8.1ms\n",
            "image 519/1680 /content/drive/MyDrive/high_alt_object_detection/high_alt_test/high_alt_images/M0701_img000147.jpg: 352x640 7 cars, 8.1ms\n",
            "image 520/1680 /content/drive/MyDrive/high_alt_object_detection/high_alt_test/high_alt_images/M0701_img000148.jpg: 352x640 6 cars, 8.3ms\n",
            "image 521/1680 /content/drive/MyDrive/high_alt_object_detection/high_alt_test/high_alt_images/M0701_img000149.jpg: 352x640 8 cars, 7.9ms\n",
            "image 522/1680 /content/drive/MyDrive/high_alt_object_detection/high_alt_test/high_alt_images/M0701_img000150.jpg: 352x640 8 cars, 7.8ms\n",
            "image 523/1680 /content/drive/MyDrive/high_alt_object_detection/high_alt_test/high_alt_images/M0701_img000151.jpg: 352x640 8 cars, 7.7ms\n",
            "image 524/1680 /content/drive/MyDrive/high_alt_object_detection/high_alt_test/high_alt_images/M0701_img000152.jpg: 352x640 8 cars, 8.4ms\n",
            "image 525/1680 /content/drive/MyDrive/high_alt_object_detection/high_alt_test/high_alt_images/M0701_img000153.jpg: 352x640 7 cars, 8.3ms\n",
            "image 526/1680 /content/drive/MyDrive/high_alt_object_detection/high_alt_test/high_alt_images/M0701_img000154.jpg: 352x640 7 cars, 8.2ms\n",
            "image 527/1680 /content/drive/MyDrive/high_alt_object_detection/high_alt_test/high_alt_images/M0701_img000155.jpg: 352x640 8 cars, 10.3ms\n",
            "image 528/1680 /content/drive/MyDrive/high_alt_object_detection/high_alt_test/high_alt_images/M0701_img000156.jpg: 352x640 7 cars, 8.4ms\n",
            "image 529/1680 /content/drive/MyDrive/high_alt_object_detection/high_alt_test/high_alt_images/M0701_img000157.jpg: 352x640 6 cars, 8.2ms\n",
            "image 530/1680 /content/drive/MyDrive/high_alt_object_detection/high_alt_test/high_alt_images/M0701_img000158.jpg: 352x640 8 cars, 8.7ms\n",
            "image 531/1680 /content/drive/MyDrive/high_alt_object_detection/high_alt_test/high_alt_images/M0701_img000159.jpg: 352x640 7 cars, 7.9ms\n",
            "image 532/1680 /content/drive/MyDrive/high_alt_object_detection/high_alt_test/high_alt_images/M0701_img000160.jpg: 352x640 6 cars, 8.0ms\n",
            "image 533/1680 /content/drive/MyDrive/high_alt_object_detection/high_alt_test/high_alt_images/M0701_img000161.jpg: 352x640 6 cars, 8.3ms\n",
            "image 534/1680 /content/drive/MyDrive/high_alt_object_detection/high_alt_test/high_alt_images/M0701_img000162.jpg: 352x640 6 cars, 8.6ms\n",
            "image 535/1680 /content/drive/MyDrive/high_alt_object_detection/high_alt_test/high_alt_images/M0701_img000163.jpg: 352x640 6 cars, 8.2ms\n",
            "image 536/1680 /content/drive/MyDrive/high_alt_object_detection/high_alt_test/high_alt_images/M0701_img000164.jpg: 352x640 6 cars, 7.9ms\n",
            "image 537/1680 /content/drive/MyDrive/high_alt_object_detection/high_alt_test/high_alt_images/M0701_img000165.jpg: 352x640 5 cars, 7.9ms\n",
            "image 538/1680 /content/drive/MyDrive/high_alt_object_detection/high_alt_test/high_alt_images/M0701_img000166.jpg: 352x640 7 cars, 7.9ms\n",
            "image 539/1680 /content/drive/MyDrive/high_alt_object_detection/high_alt_test/high_alt_images/M0701_img000167.jpg: 352x640 10 cars, 8.2ms\n",
            "image 540/1680 /content/drive/MyDrive/high_alt_object_detection/high_alt_test/high_alt_images/M0701_img000168.jpg: 352x640 8 cars, 8.2ms\n",
            "image 541/1680 /content/drive/MyDrive/high_alt_object_detection/high_alt_test/high_alt_images/M0701_img000169.jpg: 352x640 7 cars, 7.8ms\n",
            "image 542/1680 /content/drive/MyDrive/high_alt_object_detection/high_alt_test/high_alt_images/M0701_img000170.jpg: 352x640 7 cars, 9.9ms\n",
            "image 543/1680 /content/drive/MyDrive/high_alt_object_detection/high_alt_test/high_alt_images/M0701_img000171.jpg: 352x640 8 cars, 10.4ms\n",
            "image 544/1680 /content/drive/MyDrive/high_alt_object_detection/high_alt_test/high_alt_images/M0701_img000172.jpg: 352x640 7 cars, 10.5ms\n",
            "image 545/1680 /content/drive/MyDrive/high_alt_object_detection/high_alt_test/high_alt_images/M0701_img000173.jpg: 352x640 7 cars, 8.3ms\n",
            "image 546/1680 /content/drive/MyDrive/high_alt_object_detection/high_alt_test/high_alt_images/M0701_img000174.jpg: 352x640 7 cars, 8.2ms\n",
            "image 547/1680 /content/drive/MyDrive/high_alt_object_detection/high_alt_test/high_alt_images/M0701_img000175.jpg: 352x640 7 cars, 7.9ms\n",
            "image 548/1680 /content/drive/MyDrive/high_alt_object_detection/high_alt_test/high_alt_images/M0701_img000176.jpg: 352x640 6 cars, 7.9ms\n",
            "image 549/1680 /content/drive/MyDrive/high_alt_object_detection/high_alt_test/high_alt_images/M0701_img000177.jpg: 352x640 6 cars, 8.2ms\n",
            "image 550/1680 /content/drive/MyDrive/high_alt_object_detection/high_alt_test/high_alt_images/M0701_img000178.jpg: 352x640 7 cars, 8.3ms\n",
            "image 551/1680 /content/drive/MyDrive/high_alt_object_detection/high_alt_test/high_alt_images/M0701_img000179.jpg: 352x640 7 cars, 9.1ms\n",
            "image 552/1680 /content/drive/MyDrive/high_alt_object_detection/high_alt_test/high_alt_images/M0701_img000180.jpg: 352x640 6 cars, 9.0ms\n",
            "image 553/1680 /content/drive/MyDrive/high_alt_object_detection/high_alt_test/high_alt_images/M0701_img000181.jpg: 352x640 8 cars, 8.6ms\n",
            "image 554/1680 /content/drive/MyDrive/high_alt_object_detection/high_alt_test/high_alt_images/M0701_img000182.jpg: 352x640 6 cars, 8.7ms\n",
            "image 555/1680 /content/drive/MyDrive/high_alt_object_detection/high_alt_test/high_alt_images/M0701_img000183.jpg: 352x640 6 cars, 8.7ms\n",
            "image 556/1680 /content/drive/MyDrive/high_alt_object_detection/high_alt_test/high_alt_images/M0701_img000184.jpg: 352x640 6 cars, 8.6ms\n",
            "image 557/1680 /content/drive/MyDrive/high_alt_object_detection/high_alt_test/high_alt_images/M0701_img000185.jpg: 352x640 7 cars, 8.2ms\n",
            "image 558/1680 /content/drive/MyDrive/high_alt_object_detection/high_alt_test/high_alt_images/M0701_img000186.jpg: 352x640 5 cars, 10.6ms\n",
            "image 559/1680 /content/drive/MyDrive/high_alt_object_detection/high_alt_test/high_alt_images/M0701_img000187.jpg: 352x640 5 cars, 8.7ms\n",
            "image 560/1680 /content/drive/MyDrive/high_alt_object_detection/high_alt_test/high_alt_images/M0701_img000188.jpg: 352x640 4 cars, 7.9ms\n",
            "image 561/1680 /content/drive/MyDrive/high_alt_object_detection/high_alt_test/high_alt_images/M0701_img000189.jpg: 352x640 3 cars, 7.9ms\n",
            "image 562/1680 /content/drive/MyDrive/high_alt_object_detection/high_alt_test/high_alt_images/M0701_img000190.jpg: 352x640 4 cars, 7.9ms\n",
            "image 563/1680 /content/drive/MyDrive/high_alt_object_detection/high_alt_test/high_alt_images/M0701_img000191.jpg: 352x640 2 cars, 8.4ms\n",
            "image 564/1680 /content/drive/MyDrive/high_alt_object_detection/high_alt_test/high_alt_images/M0701_img000192.jpg: 352x640 5 cars, 8.0ms\n",
            "image 565/1680 /content/drive/MyDrive/high_alt_object_detection/high_alt_test/high_alt_images/M0701_img000193.jpg: 352x640 5 cars, 8.1ms\n",
            "image 566/1680 /content/drive/MyDrive/high_alt_object_detection/high_alt_test/high_alt_images/M0701_img000194.jpg: 352x640 4 cars, 8.0ms\n",
            "image 567/1680 /content/drive/MyDrive/high_alt_object_detection/high_alt_test/high_alt_images/M0701_img000195.jpg: 352x640 6 cars, 8.0ms\n",
            "image 568/1680 /content/drive/MyDrive/high_alt_object_detection/high_alt_test/high_alt_images/M0701_img000196.jpg: 352x640 6 cars, 8.0ms\n",
            "image 569/1680 /content/drive/MyDrive/high_alt_object_detection/high_alt_test/high_alt_images/M0701_img000197.jpg: 352x640 7 cars, 7.9ms\n",
            "image 570/1680 /content/drive/MyDrive/high_alt_object_detection/high_alt_test/high_alt_images/M0701_img000198.jpg: 352x640 6 cars, 8.1ms\n",
            "image 571/1680 /content/drive/MyDrive/high_alt_object_detection/high_alt_test/high_alt_images/M0701_img000199.jpg: 352x640 5 cars, 8.1ms\n",
            "image 572/1680 /content/drive/MyDrive/high_alt_object_detection/high_alt_test/high_alt_images/M0701_img000200.jpg: 352x640 4 cars, 8.1ms\n",
            "image 573/1680 /content/drive/MyDrive/high_alt_object_detection/high_alt_test/high_alt_images/M0701_img000201.jpg: 352x640 6 cars, 8.0ms\n",
            "image 574/1680 /content/drive/MyDrive/high_alt_object_detection/high_alt_test/high_alt_images/M0701_img000202.jpg: 352x640 5 cars, 8.0ms\n",
            "image 575/1680 /content/drive/MyDrive/high_alt_object_detection/high_alt_test/high_alt_images/M0701_img000203.jpg: 352x640 6 cars, 7.9ms\n",
            "image 576/1680 /content/drive/MyDrive/high_alt_object_detection/high_alt_test/high_alt_images/M0701_img000204.jpg: 352x640 6 cars, 8.1ms\n",
            "image 577/1680 /content/drive/MyDrive/high_alt_object_detection/high_alt_test/high_alt_images/M0701_img000205.jpg: 352x640 7 cars, 7.7ms\n",
            "image 578/1680 /content/drive/MyDrive/high_alt_object_detection/high_alt_test/high_alt_images/M0701_img000206.jpg: 352x640 6 cars, 7.7ms\n",
            "image 579/1680 /content/drive/MyDrive/high_alt_object_detection/high_alt_test/high_alt_images/M0701_img000207.jpg: 352x640 4 cars, 8.1ms\n",
            "image 580/1680 /content/drive/MyDrive/high_alt_object_detection/high_alt_test/high_alt_images/M0701_img000208.jpg: 352x640 6 cars, 7.9ms\n",
            "image 581/1680 /content/drive/MyDrive/high_alt_object_detection/high_alt_test/high_alt_images/M0701_img000209.jpg: 352x640 6 cars, 8.1ms\n",
            "image 582/1680 /content/drive/MyDrive/high_alt_object_detection/high_alt_test/high_alt_images/M0701_img000210.jpg: 352x640 7 cars, 8.0ms\n",
            "image 583/1680 /content/drive/MyDrive/high_alt_object_detection/high_alt_test/high_alt_images/M0701_img000211.jpg: 352x640 5 cars, 8.2ms\n",
            "image 584/1680 /content/drive/MyDrive/high_alt_object_detection/high_alt_test/high_alt_images/M0701_img000212.jpg: 352x640 6 cars, 8.5ms\n",
            "image 585/1680 /content/drive/MyDrive/high_alt_object_detection/high_alt_test/high_alt_images/M0701_img000213.jpg: 352x640 6 cars, 8.0ms\n",
            "image 586/1680 /content/drive/MyDrive/high_alt_object_detection/high_alt_test/high_alt_images/M0701_img000214.jpg: 352x640 6 cars, 7.9ms\n",
            "image 587/1680 /content/drive/MyDrive/high_alt_object_detection/high_alt_test/high_alt_images/M0701_img000215.jpg: 352x640 6 cars, 9.7ms\n",
            "image 588/1680 /content/drive/MyDrive/high_alt_object_detection/high_alt_test/high_alt_images/M0701_img000216.jpg: 352x640 5 cars, 8.0ms\n",
            "image 589/1680 /content/drive/MyDrive/high_alt_object_detection/high_alt_test/high_alt_images/M0701_img000217.jpg: 352x640 6 cars, 7.7ms\n",
            "image 590/1680 /content/drive/MyDrive/high_alt_object_detection/high_alt_test/high_alt_images/M0701_img000218.jpg: 352x640 6 cars, 7.7ms\n",
            "image 591/1680 /content/drive/MyDrive/high_alt_object_detection/high_alt_test/high_alt_images/M0701_img000219.jpg: 352x640 5 cars, 7.9ms\n",
            "image 592/1680 /content/drive/MyDrive/high_alt_object_detection/high_alt_test/high_alt_images/M0701_img000220.jpg: 352x640 6 cars, 7.9ms\n",
            "image 593/1680 /content/drive/MyDrive/high_alt_object_detection/high_alt_test/high_alt_images/M0701_img000221.jpg: 352x640 3 cars, 8.0ms\n",
            "image 594/1680 /content/drive/MyDrive/high_alt_object_detection/high_alt_test/high_alt_images/M0701_img000222.jpg: 352x640 3 cars, 7.9ms\n",
            "image 595/1680 /content/drive/MyDrive/high_alt_object_detection/high_alt_test/high_alt_images/M0701_img000223.jpg: 352x640 3 cars, 8.4ms\n",
            "image 596/1680 /content/drive/MyDrive/high_alt_object_detection/high_alt_test/high_alt_images/M0701_img000224.jpg: 352x640 3 cars, 8.3ms\n",
            "image 597/1680 /content/drive/MyDrive/high_alt_object_detection/high_alt_test/high_alt_images/M0701_img000225.jpg: 352x640 3 cars, 8.0ms\n",
            "image 598/1680 /content/drive/MyDrive/high_alt_object_detection/high_alt_test/high_alt_images/M0701_img000226.jpg: 352x640 3 cars, 8.0ms\n",
            "image 599/1680 /content/drive/MyDrive/high_alt_object_detection/high_alt_test/high_alt_images/M0701_img000227.jpg: 352x640 4 cars, 8.0ms\n",
            "image 600/1680 /content/drive/MyDrive/high_alt_object_detection/high_alt_test/high_alt_images/M0701_img000228.jpg: 352x640 6 cars, 8.0ms\n",
            "image 601/1680 /content/drive/MyDrive/high_alt_object_detection/high_alt_test/high_alt_images/M0701_img000229.jpg: 352x640 5 cars, 8.1ms\n",
            "image 602/1680 /content/drive/MyDrive/high_alt_object_detection/high_alt_test/high_alt_images/M0701_img000230.jpg: 352x640 5 cars, 7.9ms\n",
            "image 603/1680 /content/drive/MyDrive/high_alt_object_detection/high_alt_test/high_alt_images/M0701_img000231.jpg: 352x640 6 cars, 7.9ms\n",
            "image 604/1680 /content/drive/MyDrive/high_alt_object_detection/high_alt_test/high_alt_images/M0701_img000232.jpg: 352x640 4 cars, 7.8ms\n",
            "image 605/1680 /content/drive/MyDrive/high_alt_object_detection/high_alt_test/high_alt_images/M0701_img000233.jpg: 352x640 5 cars, 8.0ms\n",
            "image 606/1680 /content/drive/MyDrive/high_alt_object_detection/high_alt_test/high_alt_images/M0701_img000234.jpg: 352x640 5 cars, 8.0ms\n",
            "image 607/1680 /content/drive/MyDrive/high_alt_object_detection/high_alt_test/high_alt_images/M0701_img000235.jpg: 352x640 4 cars, 8.1ms\n",
            "image 608/1680 /content/drive/MyDrive/high_alt_object_detection/high_alt_test/high_alt_images/M0701_img000236.jpg: 352x640 6 cars, 8.0ms\n",
            "image 609/1680 /content/drive/MyDrive/high_alt_object_detection/high_alt_test/high_alt_images/M0701_img000237.jpg: 352x640 5 cars, 8.5ms\n",
            "image 610/1680 /content/drive/MyDrive/high_alt_object_detection/high_alt_test/high_alt_images/M0701_img000238.jpg: 352x640 4 cars, 7.9ms\n",
            "image 611/1680 /content/drive/MyDrive/high_alt_object_detection/high_alt_test/high_alt_images/M0701_img000239.jpg: 352x640 4 cars, 8.1ms\n",
            "image 612/1680 /content/drive/MyDrive/high_alt_object_detection/high_alt_test/high_alt_images/M0701_img000240.jpg: 352x640 4 cars, 7.9ms\n",
            "image 613/1680 /content/drive/MyDrive/high_alt_object_detection/high_alt_test/high_alt_images/M0701_img000241.jpg: 352x640 3 cars, 7.9ms\n",
            "image 614/1680 /content/drive/MyDrive/high_alt_object_detection/high_alt_test/high_alt_images/M0701_img000242.jpg: 352x640 4 cars, 7.8ms\n",
            "image 615/1680 /content/drive/MyDrive/high_alt_object_detection/high_alt_test/high_alt_images/M0701_img000243.jpg: 352x640 4 cars, 7.8ms\n",
            "image 616/1680 /content/drive/MyDrive/high_alt_object_detection/high_alt_test/high_alt_images/M0701_img000244.jpg: 352x640 5 cars, 8.2ms\n",
            "image 617/1680 /content/drive/MyDrive/high_alt_object_detection/high_alt_test/high_alt_images/M0701_img000245.jpg: 352x640 5 cars, 8.1ms\n",
            "image 618/1680 /content/drive/MyDrive/high_alt_object_detection/high_alt_test/high_alt_images/M0701_img000246.jpg: 352x640 7 cars, 8.3ms\n",
            "image 619/1680 /content/drive/MyDrive/high_alt_object_detection/high_alt_test/high_alt_images/M0701_img000247.jpg: 352x640 5 cars, 7.9ms\n",
            "image 620/1680 /content/drive/MyDrive/high_alt_object_detection/high_alt_test/high_alt_images/M0701_img000248.jpg: 352x640 5 cars, 8.1ms\n",
            "image 621/1680 /content/drive/MyDrive/high_alt_object_detection/high_alt_test/high_alt_images/M0701_img000249.jpg: 352x640 6 cars, 8.3ms\n",
            "image 622/1680 /content/drive/MyDrive/high_alt_object_detection/high_alt_test/high_alt_images/M0701_img000250.jpg: 352x640 6 cars, 8.6ms\n",
            "image 623/1680 /content/drive/MyDrive/high_alt_object_detection/high_alt_test/high_alt_images/M0701_img000251.jpg: 352x640 6 cars, 8.3ms\n",
            "image 624/1680 /content/drive/MyDrive/high_alt_object_detection/high_alt_test/high_alt_images/M0701_img000252.jpg: 352x640 5 cars, 8.2ms\n",
            "image 625/1680 /content/drive/MyDrive/high_alt_object_detection/high_alt_test/high_alt_images/M0701_img000253.jpg: 352x640 5 cars, 8.4ms\n",
            "image 626/1680 /content/drive/MyDrive/high_alt_object_detection/high_alt_test/high_alt_images/M0701_img000254.jpg: 352x640 4 cars, 8.4ms\n",
            "image 627/1680 /content/drive/MyDrive/high_alt_object_detection/high_alt_test/high_alt_images/M0701_img000255.jpg: 352x640 5 cars, 10.5ms\n",
            "image 628/1680 /content/drive/MyDrive/high_alt_object_detection/high_alt_test/high_alt_images/M0701_img000256.jpg: 352x640 4 cars, 8.2ms\n",
            "image 629/1680 /content/drive/MyDrive/high_alt_object_detection/high_alt_test/high_alt_images/M0701_img000257.jpg: 352x640 4 cars, 8.2ms\n",
            "image 630/1680 /content/drive/MyDrive/high_alt_object_detection/high_alt_test/high_alt_images/M0701_img000258.jpg: 352x640 4 cars, 8.0ms\n",
            "image 631/1680 /content/drive/MyDrive/high_alt_object_detection/high_alt_test/high_alt_images/M0701_img000259.jpg: 352x640 5 cars, 7.9ms\n",
            "image 632/1680 /content/drive/MyDrive/high_alt_object_detection/high_alt_test/high_alt_images/M0701_img000260.jpg: 352x640 4 cars, 7.9ms\n",
            "image 633/1680 /content/drive/MyDrive/high_alt_object_detection/high_alt_test/high_alt_images/M0701_img000261.jpg: 352x640 3 cars, 7.9ms\n",
            "image 634/1680 /content/drive/MyDrive/high_alt_object_detection/high_alt_test/high_alt_images/M0701_img000262.jpg: 352x640 4 cars, 7.8ms\n",
            "image 635/1680 /content/drive/MyDrive/high_alt_object_detection/high_alt_test/high_alt_images/M0701_img000263.jpg: 352x640 5 cars, 8.3ms\n",
            "image 636/1680 /content/drive/MyDrive/high_alt_object_detection/high_alt_test/high_alt_images/M0701_img000264.jpg: 352x640 3 cars, 8.2ms\n",
            "image 637/1680 /content/drive/MyDrive/high_alt_object_detection/high_alt_test/high_alt_images/M0701_img000265.jpg: 352x640 6 cars, 7.9ms\n",
            "image 638/1680 /content/drive/MyDrive/high_alt_object_detection/high_alt_test/high_alt_images/M0701_img000266.jpg: 352x640 6 cars, 7.8ms\n",
            "image 639/1680 /content/drive/MyDrive/high_alt_object_detection/high_alt_test/high_alt_images/M0701_img000267.jpg: 352x640 6 cars, 9.4ms\n",
            "image 640/1680 /content/drive/MyDrive/high_alt_object_detection/high_alt_test/high_alt_images/M0701_img000268.jpg: 352x640 4 cars, 8.1ms\n",
            "image 641/1680 /content/drive/MyDrive/high_alt_object_detection/high_alt_test/high_alt_images/M0701_img000269.jpg: 352x640 4 cars, 8.3ms\n",
            "image 642/1680 /content/drive/MyDrive/high_alt_object_detection/high_alt_test/high_alt_images/M0701_img000270.jpg: 352x640 6 cars, 8.0ms\n",
            "image 643/1680 /content/drive/MyDrive/high_alt_object_detection/high_alt_test/high_alt_images/M0701_img000271.jpg: 352x640 5 cars, 8.1ms\n",
            "image 644/1680 /content/drive/MyDrive/high_alt_object_detection/high_alt_test/high_alt_images/M0701_img000272.jpg: 352x640 5 cars, 8.3ms\n",
            "image 645/1680 /content/drive/MyDrive/high_alt_object_detection/high_alt_test/high_alt_images/M0701_img000273.jpg: 352x640 5 cars, 8.1ms\n",
            "image 646/1680 /content/drive/MyDrive/high_alt_object_detection/high_alt_test/high_alt_images/M0701_img000274.jpg: 352x640 4 cars, 8.1ms\n",
            "image 647/1680 /content/drive/MyDrive/high_alt_object_detection/high_alt_test/high_alt_images/M0701_img000275.jpg: 352x640 4 cars, 7.8ms\n",
            "image 648/1680 /content/drive/MyDrive/high_alt_object_detection/high_alt_test/high_alt_images/M0701_img000276.jpg: 352x640 3 cars, 7.9ms\n",
            "image 649/1680 /content/drive/MyDrive/high_alt_object_detection/high_alt_test/high_alt_images/M0701_img000277.jpg: 352x640 4 cars, 7.7ms\n",
            "image 650/1680 /content/drive/MyDrive/high_alt_object_detection/high_alt_test/high_alt_images/M0701_img000278.jpg: 352x640 4 cars, 8.6ms\n",
            "image 651/1680 /content/drive/MyDrive/high_alt_object_detection/high_alt_test/high_alt_images/M0701_img000279.jpg: 352x640 5 cars, 8.0ms\n",
            "image 652/1680 /content/drive/MyDrive/high_alt_object_detection/high_alt_test/high_alt_images/M0701_img000280.jpg: 352x640 4 cars, 8.2ms\n",
            "image 653/1680 /content/drive/MyDrive/high_alt_object_detection/high_alt_test/high_alt_images/M0701_img000281.jpg: 352x640 4 cars, 7.6ms\n",
            "image 654/1680 /content/drive/MyDrive/high_alt_object_detection/high_alt_test/high_alt_images/M0701_img000282.jpg: 352x640 6 cars, 8.1ms\n",
            "image 655/1680 /content/drive/MyDrive/high_alt_object_detection/high_alt_test/high_alt_images/M0701_img000283.jpg: 352x640 4 cars, 8.6ms\n",
            "image 656/1680 /content/drive/MyDrive/high_alt_object_detection/high_alt_test/high_alt_images/M0701_img000284.jpg: 352x640 6 cars, 8.0ms\n",
            "image 657/1680 /content/drive/MyDrive/high_alt_object_detection/high_alt_test/high_alt_images/M0701_img000285.jpg: 352x640 4 cars, 8.5ms\n",
            "image 658/1680 /content/drive/MyDrive/high_alt_object_detection/high_alt_test/high_alt_images/M0701_img000286.jpg: 352x640 5 cars, 7.8ms\n",
            "image 659/1680 /content/drive/MyDrive/high_alt_object_detection/high_alt_test/high_alt_images/M0701_img000287.jpg: 352x640 5 cars, 8.4ms\n",
            "image 660/1680 /content/drive/MyDrive/high_alt_object_detection/high_alt_test/high_alt_images/M0701_img000288.jpg: 352x640 6 cars, 8.1ms\n",
            "image 661/1680 /content/drive/MyDrive/high_alt_object_detection/high_alt_test/high_alt_images/M0701_img000289.jpg: 352x640 4 cars, 8.0ms\n",
            "image 662/1680 /content/drive/MyDrive/high_alt_object_detection/high_alt_test/high_alt_images/M0701_img000290.jpg: 352x640 3 cars, 7.9ms\n",
            "image 663/1680 /content/drive/MyDrive/high_alt_object_detection/high_alt_test/high_alt_images/M0701_img000291.jpg: 352x640 4 cars, 7.8ms\n",
            "image 664/1680 /content/drive/MyDrive/high_alt_object_detection/high_alt_test/high_alt_images/M0701_img000292.jpg: 352x640 3 cars, 7.8ms\n",
            "image 665/1680 /content/drive/MyDrive/high_alt_object_detection/high_alt_test/high_alt_images/M0701_img000293.jpg: 352x640 4 cars, 8.0ms\n",
            "image 666/1680 /content/drive/MyDrive/high_alt_object_detection/high_alt_test/high_alt_images/M0701_img000294.jpg: 352x640 4 cars, 7.9ms\n",
            "image 667/1680 /content/drive/MyDrive/high_alt_object_detection/high_alt_test/high_alt_images/M0701_img000295.jpg: 352x640 6 cars, 8.0ms\n",
            "image 668/1680 /content/drive/MyDrive/high_alt_object_detection/high_alt_test/high_alt_images/M0701_img000296.jpg: 352x640 6 cars, 8.3ms\n",
            "image 669/1680 /content/drive/MyDrive/high_alt_object_detection/high_alt_test/high_alt_images/M0701_img000297.jpg: 352x640 4 cars, 8.2ms\n",
            "image 670/1680 /content/drive/MyDrive/high_alt_object_detection/high_alt_test/high_alt_images/M0701_img000298.jpg: 352x640 4 cars, 9.3ms\n",
            "image 671/1680 /content/drive/MyDrive/high_alt_object_detection/high_alt_test/high_alt_images/M0701_img000299.jpg: 352x640 4 cars, 8.4ms\n",
            "image 672/1680 /content/drive/MyDrive/high_alt_object_detection/high_alt_test/high_alt_images/M0701_img000300.jpg: 352x640 4 cars, 7.9ms\n",
            "image 673/1680 /content/drive/MyDrive/high_alt_object_detection/high_alt_test/high_alt_images/M0701_img000301.jpg: 352x640 5 cars, 7.9ms\n",
            "image 674/1680 /content/drive/MyDrive/high_alt_object_detection/high_alt_test/high_alt_images/M0701_img000302.jpg: 352x640 5 cars, 7.9ms\n",
            "image 675/1680 /content/drive/MyDrive/high_alt_object_detection/high_alt_test/high_alt_images/M0701_img000303.jpg: 352x640 3 cars, 8.1ms\n",
            "image 676/1680 /content/drive/MyDrive/high_alt_object_detection/high_alt_test/high_alt_images/M0701_img000304.jpg: 352x640 3 cars, 8.2ms\n",
            "image 677/1680 /content/drive/MyDrive/high_alt_object_detection/high_alt_test/high_alt_images/M0701_img000305.jpg: 352x640 4 cars, 8.9ms\n",
            "image 678/1680 /content/drive/MyDrive/high_alt_object_detection/high_alt_test/high_alt_images/M0701_img000306.jpg: 352x640 4 cars, 8.3ms\n",
            "image 679/1680 /content/drive/MyDrive/high_alt_object_detection/high_alt_test/high_alt_images/M0701_img000307.jpg: 352x640 5 cars, 8.1ms\n",
            "image 680/1680 /content/drive/MyDrive/high_alt_object_detection/high_alt_test/high_alt_images/M0701_img000308.jpg: 352x640 5 cars, 7.9ms\n",
            "image 681/1680 /content/drive/MyDrive/high_alt_object_detection/high_alt_test/high_alt_images/M0701_img000309.jpg: 352x640 4 cars, 8.2ms\n",
            "image 682/1680 /content/drive/MyDrive/high_alt_object_detection/high_alt_test/high_alt_images/M0701_img000310.jpg: 352x640 3 cars, 8.4ms\n",
            "image 683/1680 /content/drive/MyDrive/high_alt_object_detection/high_alt_test/high_alt_images/M0701_img000311.jpg: 352x640 4 cars, 8.4ms\n",
            "image 684/1680 /content/drive/MyDrive/high_alt_object_detection/high_alt_test/high_alt_images/M0701_img000312.jpg: 352x640 3 cars, 8.0ms\n",
            "image 685/1680 /content/drive/MyDrive/high_alt_object_detection/high_alt_test/high_alt_images/M0701_img000313.jpg: 352x640 3 cars, 8.1ms\n",
            "image 686/1680 /content/drive/MyDrive/high_alt_object_detection/high_alt_test/high_alt_images/M0701_img000314.jpg: 352x640 2 cars, 8.2ms\n",
            "image 687/1680 /content/drive/MyDrive/high_alt_object_detection/high_alt_test/high_alt_images/M0701_img000315.jpg: 352x640 2 cars, 7.8ms\n",
            "image 688/1680 /content/drive/MyDrive/high_alt_object_detection/high_alt_test/high_alt_images/M0701_img000316.jpg: 352x640 2 cars, 8.1ms\n",
            "image 689/1680 /content/drive/MyDrive/high_alt_object_detection/high_alt_test/high_alt_images/M0701_img000317.jpg: 352x640 3 cars, 8.3ms\n",
            "image 690/1680 /content/drive/MyDrive/high_alt_object_detection/high_alt_test/high_alt_images/M0701_img000318.jpg: 352x640 4 cars, 8.0ms\n",
            "image 691/1680 /content/drive/MyDrive/high_alt_object_detection/high_alt_test/high_alt_images/M0701_img000319.jpg: 352x640 4 cars, 8.3ms\n",
            "image 692/1680 /content/drive/MyDrive/high_alt_object_detection/high_alt_test/high_alt_images/M0701_img000320.jpg: 352x640 4 cars, 8.5ms\n",
            "image 693/1680 /content/drive/MyDrive/high_alt_object_detection/high_alt_test/high_alt_images/M0701_img000321.jpg: 352x640 4 cars, 7.9ms\n",
            "image 694/1680 /content/drive/MyDrive/high_alt_object_detection/high_alt_test/high_alt_images/M0701_img000322.jpg: 352x640 4 cars, 8.0ms\n",
            "image 695/1680 /content/drive/MyDrive/high_alt_object_detection/high_alt_test/high_alt_images/M0701_img000323.jpg: 352x640 4 cars, 7.9ms\n",
            "image 696/1680 /content/drive/MyDrive/high_alt_object_detection/high_alt_test/high_alt_images/M0701_img000324.jpg: 352x640 5 cars, 7.9ms\n",
            "image 697/1680 /content/drive/MyDrive/high_alt_object_detection/high_alt_test/high_alt_images/M0701_img000325.jpg: 352x640 4 cars, 8.8ms\n",
            "image 698/1680 /content/drive/MyDrive/high_alt_object_detection/high_alt_test/high_alt_images/M0701_img000326.jpg: 352x640 4 cars, 7.7ms\n",
            "image 699/1680 /content/drive/MyDrive/high_alt_object_detection/high_alt_test/high_alt_images/M0701_img000327.jpg: 352x640 4 cars, 7.9ms\n",
            "image 700/1680 /content/drive/MyDrive/high_alt_object_detection/high_alt_test/high_alt_images/M0701_img000328.jpg: 352x640 4 cars, 8.0ms\n",
            "image 701/1680 /content/drive/MyDrive/high_alt_object_detection/high_alt_test/high_alt_images/M0701_img000329.jpg: 352x640 3 cars, 7.8ms\n",
            "image 702/1680 /content/drive/MyDrive/high_alt_object_detection/high_alt_test/high_alt_images/M0701_img000330.jpg: 352x640 2 cars, 8.4ms\n",
            "image 703/1680 /content/drive/MyDrive/high_alt_object_detection/high_alt_test/high_alt_images/M0701_img000331.jpg: 352x640 2 cars, 10.4ms\n",
            "image 704/1680 /content/drive/MyDrive/high_alt_object_detection/high_alt_test/high_alt_images/M0701_img000332.jpg: 352x640 2 cars, 7.8ms\n",
            "image 705/1680 /content/drive/MyDrive/high_alt_object_detection/high_alt_test/high_alt_images/M0701_img000333.jpg: 352x640 3 cars, 8.3ms\n",
            "image 706/1680 /content/drive/MyDrive/high_alt_object_detection/high_alt_test/high_alt_images/M0701_img000334.jpg: 352x640 2 cars, 8.0ms\n",
            "image 707/1680 /content/drive/MyDrive/high_alt_object_detection/high_alt_test/high_alt_images/M0701_img000335.jpg: 352x640 1 car, 8.1ms\n",
            "image 708/1680 /content/drive/MyDrive/high_alt_object_detection/high_alt_test/high_alt_images/M0701_img000336.jpg: 352x640 (no detections), 8.2ms\n",
            "image 709/1680 /content/drive/MyDrive/high_alt_object_detection/high_alt_test/high_alt_images/M0701_img000337.jpg: 352x640 (no detections), 8.1ms\n",
            "image 710/1680 /content/drive/MyDrive/high_alt_object_detection/high_alt_test/high_alt_images/M0701_img000338.jpg: 352x640 (no detections), 8.5ms\n",
            "image 711/1680 /content/drive/MyDrive/high_alt_object_detection/high_alt_test/high_alt_images/M0701_img000339.jpg: 352x640 1 car, 9.0ms\n",
            "image 712/1680 /content/drive/MyDrive/high_alt_object_detection/high_alt_test/high_alt_images/M0701_img000340.jpg: 352x640 1 car, 8.0ms\n",
            "image 713/1680 /content/drive/MyDrive/high_alt_object_detection/high_alt_test/high_alt_images/M0701_img000341.jpg: 352x640 (no detections), 7.8ms\n",
            "image 714/1680 /content/drive/MyDrive/high_alt_object_detection/high_alt_test/high_alt_images/M0701_img000342.jpg: 352x640 (no detections), 7.7ms\n",
            "image 715/1680 /content/drive/MyDrive/high_alt_object_detection/high_alt_test/high_alt_images/M0701_img000343.jpg: 352x640 1 car, 8.0ms\n",
            "image 716/1680 /content/drive/MyDrive/high_alt_object_detection/high_alt_test/high_alt_images/M0701_img000344.jpg: 352x640 1 car, 8.3ms\n",
            "image 717/1680 /content/drive/MyDrive/high_alt_object_detection/high_alt_test/high_alt_images/M0701_img000345.jpg: 352x640 1 car, 8.4ms\n",
            "image 718/1680 /content/drive/MyDrive/high_alt_object_detection/high_alt_test/high_alt_images/M0701_img000346.jpg: 352x640 1 car, 7.9ms\n",
            "image 719/1680 /content/drive/MyDrive/high_alt_object_detection/high_alt_test/high_alt_images/M0701_img000347.jpg: 352x640 1 car, 8.2ms\n",
            "image 720/1680 /content/drive/MyDrive/high_alt_object_detection/high_alt_test/high_alt_images/M0701_img000348.jpg: 352x640 1 car, 8.0ms\n",
            "image 721/1680 /content/drive/MyDrive/high_alt_object_detection/high_alt_test/high_alt_images/M0701_img000349.jpg: 352x640 1 car, 7.9ms\n",
            "image 722/1680 /content/drive/MyDrive/high_alt_object_detection/high_alt_test/high_alt_images/M0701_img000350.jpg: 352x640 2 cars, 9.2ms\n",
            "image 723/1680 /content/drive/MyDrive/high_alt_object_detection/high_alt_test/high_alt_images/M0701_img000351.jpg: 352x640 2 cars, 8.1ms\n",
            "image 724/1680 /content/drive/MyDrive/high_alt_object_detection/high_alt_test/high_alt_images/M0701_img000352.jpg: 352x640 2 cars, 8.0ms\n",
            "image 725/1680 /content/drive/MyDrive/high_alt_object_detection/high_alt_test/high_alt_images/M0701_img000353.jpg: 352x640 1 car, 7.8ms\n",
            "image 726/1680 /content/drive/MyDrive/high_alt_object_detection/high_alt_test/high_alt_images/M0701_img000354.jpg: 352x640 1 car, 8.0ms\n",
            "image 727/1680 /content/drive/MyDrive/high_alt_object_detection/high_alt_test/high_alt_images/M0701_img000355.jpg: 352x640 1 car, 8.0ms\n",
            "image 728/1680 /content/drive/MyDrive/high_alt_object_detection/high_alt_test/high_alt_images/M0701_img000356.jpg: 352x640 1 car, 7.9ms\n",
            "image 729/1680 /content/drive/MyDrive/high_alt_object_detection/high_alt_test/high_alt_images/M0701_img000357.jpg: 352x640 1 car, 9.6ms\n",
            "image 730/1680 /content/drive/MyDrive/high_alt_object_detection/high_alt_test/high_alt_images/M0701_img000358.jpg: 352x640 1 car, 8.0ms\n",
            "image 731/1680 /content/drive/MyDrive/high_alt_object_detection/high_alt_test/high_alt_images/M0701_img000359.jpg: 352x640 1 car, 8.3ms\n",
            "image 732/1680 /content/drive/MyDrive/high_alt_object_detection/high_alt_test/high_alt_images/M0701_img000360.jpg: 352x640 1 car, 8.0ms\n",
            "image 733/1680 /content/drive/MyDrive/high_alt_object_detection/high_alt_test/high_alt_images/M0701_img000361.jpg: 352x640 1 car, 8.2ms\n",
            "image 734/1680 /content/drive/MyDrive/high_alt_object_detection/high_alt_test/high_alt_images/M0701_img000362.jpg: 352x640 1 car, 8.2ms\n",
            "image 735/1680 /content/drive/MyDrive/high_alt_object_detection/high_alt_test/high_alt_images/M0701_img000363.jpg: 352x640 1 car, 8.0ms\n",
            "image 736/1680 /content/drive/MyDrive/high_alt_object_detection/high_alt_test/high_alt_images/M0701_img000364.jpg: 352x640 1 car, 7.8ms\n",
            "image 737/1680 /content/drive/MyDrive/high_alt_object_detection/high_alt_test/high_alt_images/M0701_img000365.jpg: 352x640 1 car, 7.9ms\n",
            "image 738/1680 /content/drive/MyDrive/high_alt_object_detection/high_alt_test/high_alt_images/M0701_img000366.jpg: 352x640 1 car, 8.0ms\n",
            "image 739/1680 /content/drive/MyDrive/high_alt_object_detection/high_alt_test/high_alt_images/M0701_img000367.jpg: 352x640 1 car, 8.2ms\n",
            "image 740/1680 /content/drive/MyDrive/high_alt_object_detection/high_alt_test/high_alt_images/M0701_img000368.jpg: 352x640 1 car, 8.9ms\n",
            "image 741/1680 /content/drive/MyDrive/high_alt_object_detection/high_alt_test/high_alt_images/M0701_img000369.jpg: 352x640 1 car, 8.0ms\n",
            "image 742/1680 /content/drive/MyDrive/high_alt_object_detection/high_alt_test/high_alt_images/M0701_img000370.jpg: 352x640 1 car, 9.7ms\n",
            "image 743/1680 /content/drive/MyDrive/high_alt_object_detection/high_alt_test/high_alt_images/M0701_img000371.jpg: 352x640 1 car, 7.9ms\n",
            "image 744/1680 /content/drive/MyDrive/high_alt_object_detection/high_alt_test/high_alt_images/M0701_img000372.jpg: 352x640 1 car, 7.8ms\n",
            "image 745/1680 /content/drive/MyDrive/high_alt_object_detection/high_alt_test/high_alt_images/M0701_img000373.jpg: 352x640 1 car, 7.9ms\n",
            "image 746/1680 /content/drive/MyDrive/high_alt_object_detection/high_alt_test/high_alt_images/M0701_img000374.jpg: 352x640 1 car, 8.4ms\n",
            "image 747/1680 /content/drive/MyDrive/high_alt_object_detection/high_alt_test/high_alt_images/M0701_img000375.jpg: 352x640 1 car, 8.4ms\n",
            "image 748/1680 /content/drive/MyDrive/high_alt_object_detection/high_alt_test/high_alt_images/M0701_img000376.jpg: 352x640 1 car, 8.3ms\n",
            "image 749/1680 /content/drive/MyDrive/high_alt_object_detection/high_alt_test/high_alt_images/M0701_img000377.jpg: 352x640 1 car, 8.3ms\n",
            "image 750/1680 /content/drive/MyDrive/high_alt_object_detection/high_alt_test/high_alt_images/M0701_img000378.jpg: 352x640 1 car, 7.9ms\n",
            "image 751/1680 /content/drive/MyDrive/high_alt_object_detection/high_alt_test/high_alt_images/M0701_img000379.jpg: 352x640 1 car, 7.9ms\n",
            "image 752/1680 /content/drive/MyDrive/high_alt_object_detection/high_alt_test/high_alt_images/M0701_img000380.jpg: 352x640 1 car, 7.9ms\n",
            "image 753/1680 /content/drive/MyDrive/high_alt_object_detection/high_alt_test/high_alt_images/M0701_img000381.jpg: 352x640 1 car, 8.1ms\n",
            "image 754/1680 /content/drive/MyDrive/high_alt_object_detection/high_alt_test/high_alt_images/M0701_img000382.jpg: 352x640 1 car, 8.5ms\n",
            "image 755/1680 /content/drive/MyDrive/high_alt_object_detection/high_alt_test/high_alt_images/M0701_img000383.jpg: 352x640 2 cars, 8.0ms\n",
            "image 756/1680 /content/drive/MyDrive/high_alt_object_detection/high_alt_test/high_alt_images/M0701_img000384.jpg: 352x640 1 car, 9.5ms\n",
            "image 757/1680 /content/drive/MyDrive/high_alt_object_detection/high_alt_test/high_alt_images/M0701_img000385.jpg: 352x640 1 car, 8.3ms\n",
            "image 758/1680 /content/drive/MyDrive/high_alt_object_detection/high_alt_test/high_alt_images/M0701_img000386.jpg: 352x640 1 car, 8.3ms\n",
            "image 759/1680 /content/drive/MyDrive/high_alt_object_detection/high_alt_test/high_alt_images/M0701_img000387.jpg: 352x640 1 car, 8.1ms\n",
            "image 760/1680 /content/drive/MyDrive/high_alt_object_detection/high_alt_test/high_alt_images/M0701_img000388.jpg: 352x640 1 car, 8.1ms\n",
            "image 761/1680 /content/drive/MyDrive/high_alt_object_detection/high_alt_test/high_alt_images/M0701_img000389.jpg: 352x640 1 car, 8.1ms\n",
            "image 762/1680 /content/drive/MyDrive/high_alt_object_detection/high_alt_test/high_alt_images/M0701_img000390.jpg: 352x640 1 car, 8.2ms\n",
            "image 763/1680 /content/drive/MyDrive/high_alt_object_detection/high_alt_test/high_alt_images/M0701_img000391.jpg: 352x640 1 car, 7.8ms\n",
            "image 764/1680 /content/drive/MyDrive/high_alt_object_detection/high_alt_test/high_alt_images/M0701_img000392.jpg: 352x640 1 car, 8.2ms\n",
            "image 765/1680 /content/drive/MyDrive/high_alt_object_detection/high_alt_test/high_alt_images/M0701_img000393.jpg: 352x640 1 car, 8.3ms\n",
            "image 766/1680 /content/drive/MyDrive/high_alt_object_detection/high_alt_test/high_alt_images/M0701_img000394.jpg: 352x640 1 car, 7.7ms\n",
            "image 767/1680 /content/drive/MyDrive/high_alt_object_detection/high_alt_test/high_alt_images/M0701_img000395.jpg: 352x640 2 cars, 8.3ms\n",
            "image 768/1680 /content/drive/MyDrive/high_alt_object_detection/high_alt_test/high_alt_images/M0701_img000396.jpg: 352x640 4 cars, 9.9ms\n",
            "image 769/1680 /content/drive/MyDrive/high_alt_object_detection/high_alt_test/high_alt_images/M0701_img000397.jpg: 352x640 4 cars, 7.8ms\n",
            "image 770/1680 /content/drive/MyDrive/high_alt_object_detection/high_alt_test/high_alt_images/M0701_img000398.jpg: 352x640 4 cars, 7.9ms\n",
            "image 771/1680 /content/drive/MyDrive/high_alt_object_detection/high_alt_test/high_alt_images/M0701_img000399.jpg: 352x640 3 cars, 8.0ms\n",
            "image 772/1680 /content/drive/MyDrive/high_alt_object_detection/high_alt_test/high_alt_images/M0701_img000400.jpg: 352x640 3 cars, 8.1ms\n",
            "image 773/1680 /content/drive/MyDrive/high_alt_object_detection/high_alt_test/high_alt_images/M0701_img000401.jpg: 352x640 2 cars, 8.1ms\n",
            "image 774/1680 /content/drive/MyDrive/high_alt_object_detection/high_alt_test/high_alt_images/M0701_img000402.jpg: 352x640 2 cars, 8.2ms\n",
            "image 775/1680 /content/drive/MyDrive/high_alt_object_detection/high_alt_test/high_alt_images/M0701_img000403.jpg: 352x640 1 car, 8.3ms\n",
            "image 776/1680 /content/drive/MyDrive/high_alt_object_detection/high_alt_test/high_alt_images/M0701_img000404.jpg: 352x640 1 car, 8.0ms\n",
            "image 777/1680 /content/drive/MyDrive/high_alt_object_detection/high_alt_test/high_alt_images/M0701_img000405.jpg: 352x640 2 cars, 7.7ms\n",
            "image 778/1680 /content/drive/MyDrive/high_alt_object_detection/high_alt_test/high_alt_images/M0701_img000406.jpg: 352x640 2 cars, 7.8ms\n",
            "image 779/1680 /content/drive/MyDrive/high_alt_object_detection/high_alt_test/high_alt_images/M0701_img000407.jpg: 352x640 2 cars, 7.9ms\n",
            "image 780/1680 /content/drive/MyDrive/high_alt_object_detection/high_alt_test/high_alt_images/M0701_img000408.jpg: 352x640 2 cars, 8.3ms\n",
            "image 781/1680 /content/drive/MyDrive/high_alt_object_detection/high_alt_test/high_alt_images/M0701_img000409.jpg: 352x640 2 cars, 7.9ms\n",
            "image 782/1680 /content/drive/MyDrive/high_alt_object_detection/high_alt_test/high_alt_images/M0701_img000410.jpg: 352x640 2 cars, 8.0ms\n",
            "image 783/1680 /content/drive/MyDrive/high_alt_object_detection/high_alt_test/high_alt_images/M0701_img000411.jpg: 352x640 1 car, 8.0ms\n",
            "image 784/1680 /content/drive/MyDrive/high_alt_object_detection/high_alt_test/high_alt_images/M0701_img000412.jpg: 352x640 1 car, 9.1ms\n",
            "image 785/1680 /content/drive/MyDrive/high_alt_object_detection/high_alt_test/high_alt_images/M0701_img000413.jpg: 352x640 2 cars, 7.7ms\n",
            "image 786/1680 /content/drive/MyDrive/high_alt_object_detection/high_alt_test/high_alt_images/M0701_img000414.jpg: 352x640 1 car, 7.8ms\n",
            "image 787/1680 /content/drive/MyDrive/high_alt_object_detection/high_alt_test/high_alt_images/M0701_img000415.jpg: 352x640 2 cars, 8.1ms\n",
            "image 788/1680 /content/drive/MyDrive/high_alt_object_detection/high_alt_test/high_alt_images/M0701_img000416.jpg: 352x640 1 car, 8.2ms\n",
            "image 789/1680 /content/drive/MyDrive/high_alt_object_detection/high_alt_test/high_alt_images/M0701_img000417.jpg: 352x640 1 car, 7.8ms\n",
            "image 790/1680 /content/drive/MyDrive/high_alt_object_detection/high_alt_test/high_alt_images/M0701_img000418.jpg: 352x640 2 cars, 7.8ms\n",
            "image 791/1680 /content/drive/MyDrive/high_alt_object_detection/high_alt_test/high_alt_images/M0701_img000419.jpg: 352x640 3 cars, 8.1ms\n",
            "image 792/1680 /content/drive/MyDrive/high_alt_object_detection/high_alt_test/high_alt_images/M0701_img000420.jpg: 352x640 3 cars, 8.2ms\n",
            "image 793/1680 /content/drive/MyDrive/high_alt_object_detection/high_alt_test/high_alt_images/M0701_img000421.jpg: 352x640 5 cars, 7.7ms\n",
            "image 794/1680 /content/drive/MyDrive/high_alt_object_detection/high_alt_test/high_alt_images/M0701_img000422.jpg: 352x640 4 cars, 7.8ms\n",
            "image 795/1680 /content/drive/MyDrive/high_alt_object_detection/high_alt_test/high_alt_images/M0701_img000423.jpg: 352x640 5 cars, 8.2ms\n",
            "image 796/1680 /content/drive/MyDrive/high_alt_object_detection/high_alt_test/high_alt_images/M0701_img000424.jpg: 352x640 6 cars, 7.7ms\n",
            "image 797/1680 /content/drive/MyDrive/high_alt_object_detection/high_alt_test/high_alt_images/M0701_img000425.jpg: 352x640 3 cars, 8.0ms\n",
            "image 798/1680 /content/drive/MyDrive/high_alt_object_detection/high_alt_test/high_alt_images/M0701_img000426.jpg: 352x640 3 cars, 8.5ms\n",
            "image 799/1680 /content/drive/MyDrive/high_alt_object_detection/high_alt_test/high_alt_images/M0701_img000427.jpg: 352x640 4 cars, 7.8ms\n",
            "image 800/1680 /content/drive/MyDrive/high_alt_object_detection/high_alt_test/high_alt_images/M0701_img000428.jpg: 352x640 3 cars, 9.2ms\n",
            "image 801/1680 /content/drive/MyDrive/high_alt_object_detection/high_alt_test/high_alt_images/M0701_img000429.jpg: 352x640 5 cars, 7.7ms\n",
            "image 802/1680 /content/drive/MyDrive/high_alt_object_detection/high_alt_test/high_alt_images/M0701_img000430.jpg: 352x640 6 cars, 8.0ms\n",
            "image 803/1680 /content/drive/MyDrive/high_alt_object_detection/high_alt_test/high_alt_images/M0701_img000431.jpg: 352x640 4 cars, 8.3ms\n",
            "image 804/1680 /content/drive/MyDrive/high_alt_object_detection/high_alt_test/high_alt_images/M0701_img000432.jpg: 352x640 5 cars, 10.1ms\n",
            "image 805/1680 /content/drive/MyDrive/high_alt_object_detection/high_alt_test/high_alt_images/M0701_img000433.jpg: 352x640 4 cars, 9.8ms\n",
            "image 806/1680 /content/drive/MyDrive/high_alt_object_detection/high_alt_test/high_alt_images/M0701_img000434.jpg: 352x640 3 cars, 8.2ms\n",
            "image 807/1680 /content/drive/MyDrive/high_alt_object_detection/high_alt_test/high_alt_images/M0701_img000435.jpg: 352x640 2 cars, 8.4ms\n",
            "image 808/1680 /content/drive/MyDrive/high_alt_object_detection/high_alt_test/high_alt_images/M0701_img000436.jpg: 352x640 2 cars, 8.0ms\n",
            "image 809/1680 /content/drive/MyDrive/high_alt_object_detection/high_alt_test/high_alt_images/M0701_img000437.jpg: 352x640 5 cars, 8.0ms\n",
            "image 810/1680 /content/drive/MyDrive/high_alt_object_detection/high_alt_test/high_alt_images/M0701_img000438.jpg: 352x640 3 cars, 10.3ms\n",
            "image 811/1680 /content/drive/MyDrive/high_alt_object_detection/high_alt_test/high_alt_images/M0701_img000439.jpg: 352x640 3 cars, 8.4ms\n",
            "image 812/1680 /content/drive/MyDrive/high_alt_object_detection/high_alt_test/high_alt_images/M0701_img000440.jpg: 352x640 4 cars, 8.5ms\n",
            "image 813/1680 /content/drive/MyDrive/high_alt_object_detection/high_alt_test/high_alt_images/M0701_img000441.jpg: 352x640 4 cars, 8.1ms\n",
            "image 814/1680 /content/drive/MyDrive/high_alt_object_detection/high_alt_test/high_alt_images/M0701_img000442.jpg: 352x640 4 cars, 8.1ms\n",
            "image 815/1680 /content/drive/MyDrive/high_alt_object_detection/high_alt_test/high_alt_images/M0701_img000443.jpg: 352x640 4 cars, 8.1ms\n",
            "image 816/1680 /content/drive/MyDrive/high_alt_object_detection/high_alt_test/high_alt_images/M0701_img000444.jpg: 352x640 5 cars, 10.0ms\n",
            "image 817/1680 /content/drive/MyDrive/high_alt_object_detection/high_alt_test/high_alt_images/M0701_img000445.jpg: 352x640 5 cars, 8.4ms\n",
            "image 818/1680 /content/drive/MyDrive/high_alt_object_detection/high_alt_test/high_alt_images/M0701_img000446.jpg: 352x640 4 cars, 7.9ms\n",
            "image 819/1680 /content/drive/MyDrive/high_alt_object_detection/high_alt_test/high_alt_images/M0701_img000447.jpg: 352x640 3 cars, 7.9ms\n",
            "image 820/1680 /content/drive/MyDrive/high_alt_object_detection/high_alt_test/high_alt_images/M0701_img000448.jpg: 352x640 5 cars, 8.2ms\n",
            "image 821/1680 /content/drive/MyDrive/high_alt_object_detection/high_alt_test/high_alt_images/M0701_img000449.jpg: 352x640 6 cars, 8.1ms\n",
            "image 822/1680 /content/drive/MyDrive/high_alt_object_detection/high_alt_test/high_alt_images/M0701_img000450.jpg: 352x640 7 cars, 8.3ms\n",
            "image 823/1680 /content/drive/MyDrive/high_alt_object_detection/high_alt_test/high_alt_images/M0701_img000451.jpg: 352x640 4 cars, 8.2ms\n",
            "image 824/1680 /content/drive/MyDrive/high_alt_object_detection/high_alt_test/high_alt_images/M0701_img000452.jpg: 352x640 5 cars, 8.2ms\n",
            "image 825/1680 /content/drive/MyDrive/high_alt_object_detection/high_alt_test/high_alt_images/M0701_img000453.jpg: 352x640 4 cars, 8.2ms\n",
            "image 826/1680 /content/drive/MyDrive/high_alt_object_detection/high_alt_test/high_alt_images/M0701_img000454.jpg: 352x640 3 cars, 8.3ms\n",
            "image 827/1680 /content/drive/MyDrive/high_alt_object_detection/high_alt_test/high_alt_images/M0701_img000455.jpg: 352x640 3 cars, 9.4ms\n",
            "image 828/1680 /content/drive/MyDrive/high_alt_object_detection/high_alt_test/high_alt_images/M0701_img000456.jpg: 352x640 3 cars, 7.9ms\n",
            "image 829/1680 /content/drive/MyDrive/high_alt_object_detection/high_alt_test/high_alt_images/M0701_img000457.jpg: 352x640 3 cars, 8.4ms\n",
            "image 830/1680 /content/drive/MyDrive/high_alt_object_detection/high_alt_test/high_alt_images/M0701_img000458.jpg: 352x640 3 cars, 8.1ms\n",
            "image 831/1680 /content/drive/MyDrive/high_alt_object_detection/high_alt_test/high_alt_images/M0701_img000459.jpg: 352x640 2 cars, 8.3ms\n",
            "image 832/1680 /content/drive/MyDrive/high_alt_object_detection/high_alt_test/high_alt_images/M0701_img000460.jpg: 352x640 2 cars, 8.1ms\n",
            "image 833/1680 /content/drive/MyDrive/high_alt_object_detection/high_alt_test/high_alt_images/M0701_img000461.jpg: 352x640 3 cars, 8.5ms\n",
            "image 834/1680 /content/drive/MyDrive/high_alt_object_detection/high_alt_test/high_alt_images/M0701_img000462.jpg: 352x640 4 cars, 8.4ms\n",
            "image 835/1680 /content/drive/MyDrive/high_alt_object_detection/high_alt_test/high_alt_images/M0701_img000463.jpg: 352x640 3 cars, 8.1ms\n",
            "image 836/1680 /content/drive/MyDrive/high_alt_object_detection/high_alt_test/high_alt_images/M0701_img000464.jpg: 352x640 3 cars, 8.0ms\n",
            "image 837/1680 /content/drive/MyDrive/high_alt_object_detection/high_alt_test/high_alt_images/M0701_img000465.jpg: 352x640 5 cars, 8.2ms\n",
            "image 838/1680 /content/drive/MyDrive/high_alt_object_detection/high_alt_test/high_alt_images/M0701_img000466.jpg: 352x640 4 cars, 8.0ms\n",
            "image 839/1680 /content/drive/MyDrive/high_alt_object_detection/high_alt_test/high_alt_images/M0701_img000467.jpg: 352x640 3 cars, 7.9ms\n",
            "image 840/1680 /content/drive/MyDrive/high_alt_object_detection/high_alt_test/high_alt_images/M0701_img000468.jpg: 352x640 5 cars, 8.5ms\n",
            "image 841/1680 /content/drive/MyDrive/high_alt_object_detection/high_alt_test/high_alt_images/M0701_img000469.jpg: 352x640 5 cars, 10.2ms\n",
            "image 842/1680 /content/drive/MyDrive/high_alt_object_detection/high_alt_test/high_alt_images/M0701_img000470.jpg: 352x640 5 cars, 10.4ms\n",
            "image 843/1680 /content/drive/MyDrive/high_alt_object_detection/high_alt_test/high_alt_images/M0701_img000471.jpg: 352x640 5 cars, 8.1ms\n",
            "image 844/1680 /content/drive/MyDrive/high_alt_object_detection/high_alt_test/high_alt_images/M0701_img000472.jpg: 352x640 4 cars, 7.8ms\n",
            "image 845/1680 /content/drive/MyDrive/high_alt_object_detection/high_alt_test/high_alt_images/M0701_img000473.jpg: 352x640 3 cars, 7.7ms\n",
            "image 846/1680 /content/drive/MyDrive/high_alt_object_detection/high_alt_test/high_alt_images/M0701_img000474.jpg: 352x640 3 cars, 8.1ms\n",
            "image 847/1680 /content/drive/MyDrive/high_alt_object_detection/high_alt_test/high_alt_images/M0701_img000475.jpg: 352x640 3 cars, 7.9ms\n",
            "image 848/1680 /content/drive/MyDrive/high_alt_object_detection/high_alt_test/high_alt_images/M0701_img000476.jpg: 352x640 3 cars, 8.2ms\n",
            "image 849/1680 /content/drive/MyDrive/high_alt_object_detection/high_alt_test/high_alt_images/M0701_img000477.jpg: 352x640 4 cars, 7.9ms\n",
            "image 850/1680 /content/drive/MyDrive/high_alt_object_detection/high_alt_test/high_alt_images/M0701_img000478.jpg: 352x640 4 cars, 8.0ms\n",
            "image 851/1680 /content/drive/MyDrive/high_alt_object_detection/high_alt_test/high_alt_images/M0701_img000479.jpg: 352x640 4 cars, 8.1ms\n",
            "image 852/1680 /content/drive/MyDrive/high_alt_object_detection/high_alt_test/high_alt_images/M0701_img000480.jpg: 352x640 3 cars, 8.1ms\n",
            "image 853/1680 /content/drive/MyDrive/high_alt_object_detection/high_alt_test/high_alt_images/M0701_img000481.jpg: 352x640 3 cars, 7.9ms\n",
            "image 854/1680 /content/drive/MyDrive/high_alt_object_detection/high_alt_test/high_alt_images/M0701_img000482.jpg: 352x640 3 cars, 7.8ms\n",
            "image 855/1680 /content/drive/MyDrive/high_alt_object_detection/high_alt_test/high_alt_images/M0701_img000483.jpg: 352x640 3 cars, 7.8ms\n",
            "image 856/1680 /content/drive/MyDrive/high_alt_object_detection/high_alt_test/high_alt_images/M0701_img000484.jpg: 352x640 3 cars, 8.4ms\n",
            "image 857/1680 /content/drive/MyDrive/high_alt_object_detection/high_alt_test/high_alt_images/M0701_img000485.jpg: 352x640 3 cars, 8.7ms\n",
            "image 858/1680 /content/drive/MyDrive/high_alt_object_detection/high_alt_test/high_alt_images/M0701_img000486.jpg: 352x640 3 cars, 8.2ms\n",
            "image 859/1680 /content/drive/MyDrive/high_alt_object_detection/high_alt_test/high_alt_images/M0701_img000487.jpg: 352x640 4 cars, 9.9ms\n",
            "image 860/1680 /content/drive/MyDrive/high_alt_object_detection/high_alt_test/high_alt_images/M0701_img000488.jpg: 352x640 4 cars, 8.1ms\n",
            "image 861/1680 /content/drive/MyDrive/high_alt_object_detection/high_alt_test/high_alt_images/M0701_img000489.jpg: 352x640 3 cars, 8.8ms\n",
            "image 862/1680 /content/drive/MyDrive/high_alt_object_detection/high_alt_test/high_alt_images/M0701_img000490.jpg: 352x640 3 cars, 8.5ms\n",
            "image 863/1680 /content/drive/MyDrive/high_alt_object_detection/high_alt_test/high_alt_images/M0701_img000491.jpg: 352x640 5 cars, 8.8ms\n",
            "image 864/1680 /content/drive/MyDrive/high_alt_object_detection/high_alt_test/high_alt_images/M0701_img000492.jpg: 352x640 5 cars, 8.6ms\n",
            "image 865/1680 /content/drive/MyDrive/high_alt_object_detection/high_alt_test/high_alt_images/M0701_img000493.jpg: 352x640 5 cars, 8.5ms\n",
            "image 866/1680 /content/drive/MyDrive/high_alt_object_detection/high_alt_test/high_alt_images/M0701_img000494.jpg: 352x640 4 cars, 8.2ms\n",
            "image 867/1680 /content/drive/MyDrive/high_alt_object_detection/high_alt_test/high_alt_images/M0701_img000495.jpg: 352x640 4 cars, 7.8ms\n",
            "image 868/1680 /content/drive/MyDrive/high_alt_object_detection/high_alt_test/high_alt_images/M0701_img000496.jpg: 352x640 5 cars, 7.8ms\n",
            "image 869/1680 /content/drive/MyDrive/high_alt_object_detection/high_alt_test/high_alt_images/M0701_img000497.jpg: 352x640 4 cars, 8.1ms\n",
            "image 870/1680 /content/drive/MyDrive/high_alt_object_detection/high_alt_test/high_alt_images/M0701_img000498.jpg: 352x640 4 cars, 10.2ms\n",
            "image 871/1680 /content/drive/MyDrive/high_alt_object_detection/high_alt_test/high_alt_images/M0701_img000499.jpg: 352x640 4 cars, 7.8ms\n",
            "image 872/1680 /content/drive/MyDrive/high_alt_object_detection/high_alt_test/high_alt_images/M0701_img000500.jpg: 352x640 4 cars, 8.5ms\n",
            "image 873/1680 /content/drive/MyDrive/high_alt_object_detection/high_alt_test/high_alt_images/M0701_img000501.jpg: 352x640 3 cars, 7.8ms\n",
            "image 874/1680 /content/drive/MyDrive/high_alt_object_detection/high_alt_test/high_alt_images/M0701_img000502.jpg: 352x640 5 cars, 7.6ms\n",
            "image 875/1680 /content/drive/MyDrive/high_alt_object_detection/high_alt_test/high_alt_images/M0701_img000503.jpg: 352x640 5 cars, 8.2ms\n",
            "image 876/1680 /content/drive/MyDrive/high_alt_object_detection/high_alt_test/high_alt_images/M0701_img000504.jpg: 352x640 6 cars, 8.3ms\n",
            "image 877/1680 /content/drive/MyDrive/high_alt_object_detection/high_alt_test/high_alt_images/M0701_img000505.jpg: 352x640 3 cars, 8.3ms\n",
            "image 878/1680 /content/drive/MyDrive/high_alt_object_detection/high_alt_test/high_alt_images/M0701_img000506.jpg: 352x640 4 cars, 8.4ms\n",
            "image 879/1680 /content/drive/MyDrive/high_alt_object_detection/high_alt_test/high_alt_images/M0701_img000507.jpg: 352x640 3 cars, 8.8ms\n",
            "image 880/1680 /content/drive/MyDrive/high_alt_object_detection/high_alt_test/high_alt_images/M0701_img000508.jpg: 352x640 5 cars, 8.1ms\n",
            "image 881/1680 /content/drive/MyDrive/high_alt_object_detection/high_alt_test/high_alt_images/M0701_img000509.jpg: 352x640 4 cars, 8.3ms\n",
            "image 882/1680 /content/drive/MyDrive/high_alt_object_detection/high_alt_test/high_alt_images/M0701_img000510.jpg: 352x640 3 cars, 8.2ms\n",
            "image 883/1680 /content/drive/MyDrive/high_alt_object_detection/high_alt_test/high_alt_images/M0701_img000511.jpg: 352x640 4 cars, 8.0ms\n",
            "image 884/1680 /content/drive/MyDrive/high_alt_object_detection/high_alt_test/high_alt_images/M0701_img000512.jpg: 352x640 3 cars, 9.2ms\n",
            "image 885/1680 /content/drive/MyDrive/high_alt_object_detection/high_alt_test/high_alt_images/M0701_img000513.jpg: 352x640 4 cars, 11.8ms\n",
            "image 886/1680 /content/drive/MyDrive/high_alt_object_detection/high_alt_test/high_alt_images/M0701_img000514.jpg: 352x640 3 cars, 9.3ms\n",
            "image 887/1680 /content/drive/MyDrive/high_alt_object_detection/high_alt_test/high_alt_images/M0701_img000515.jpg: 352x640 4 cars, 8.4ms\n",
            "image 888/1680 /content/drive/MyDrive/high_alt_object_detection/high_alt_test/high_alt_images/M0701_img000516.jpg: 352x640 3 cars, 8.3ms\n",
            "image 889/1680 /content/drive/MyDrive/high_alt_object_detection/high_alt_test/high_alt_images/M0701_img000517.jpg: 352x640 3 cars, 8.1ms\n",
            "image 890/1680 /content/drive/MyDrive/high_alt_object_detection/high_alt_test/high_alt_images/M0701_img000518.jpg: 352x640 4 cars, 8.6ms\n",
            "image 891/1680 /content/drive/MyDrive/high_alt_object_detection/high_alt_test/high_alt_images/M0701_img000519.jpg: 352x640 2 cars, 8.3ms\n",
            "image 892/1680 /content/drive/MyDrive/high_alt_object_detection/high_alt_test/high_alt_images/M0701_img000520.jpg: 352x640 4 cars, 7.9ms\n",
            "image 893/1680 /content/drive/MyDrive/high_alt_object_detection/high_alt_test/high_alt_images/M0701_img000521.jpg: 352x640 3 cars, 7.8ms\n",
            "image 894/1680 /content/drive/MyDrive/high_alt_object_detection/high_alt_test/high_alt_images/M0701_img000522.jpg: 352x640 2 cars, 7.6ms\n",
            "image 895/1680 /content/drive/MyDrive/high_alt_object_detection/high_alt_test/high_alt_images/M0701_img000523.jpg: 352x640 3 cars, 7.7ms\n",
            "image 896/1680 /content/drive/MyDrive/high_alt_object_detection/high_alt_test/high_alt_images/M0701_img000524.jpg: 352x640 3 cars, 8.2ms\n",
            "image 897/1680 /content/drive/MyDrive/high_alt_object_detection/high_alt_test/high_alt_images/M0701_img000525.jpg: 352x640 2 cars, 8.1ms\n",
            "image 898/1680 /content/drive/MyDrive/high_alt_object_detection/high_alt_test/high_alt_images/M0701_img000526.jpg: 352x640 5 cars, 8.0ms\n",
            "image 899/1680 /content/drive/MyDrive/high_alt_object_detection/high_alt_test/high_alt_images/M0701_img000527.jpg: 352x640 5 cars, 7.7ms\n",
            "image 900/1680 /content/drive/MyDrive/high_alt_object_detection/high_alt_test/high_alt_images/M0701_img000528.jpg: 352x640 4 cars, 8.2ms\n",
            "image 901/1680 /content/drive/MyDrive/high_alt_object_detection/high_alt_test/high_alt_images/M0701_img000529.jpg: 352x640 3 cars, 8.6ms\n",
            "image 902/1680 /content/drive/MyDrive/high_alt_object_detection/high_alt_test/high_alt_images/M0701_img000530.jpg: 352x640 4 cars, 8.2ms\n",
            "image 903/1680 /content/drive/MyDrive/high_alt_object_detection/high_alt_test/high_alt_images/M0701_img000531.jpg: 352x640 4 cars, 7.7ms\n",
            "image 904/1680 /content/drive/MyDrive/high_alt_object_detection/high_alt_test/high_alt_images/M0701_img000532.jpg: 352x640 6 cars, 7.6ms\n",
            "image 905/1680 /content/drive/MyDrive/high_alt_object_detection/high_alt_test/high_alt_images/M0701_img000533.jpg: 352x640 4 cars, 7.5ms\n",
            "image 906/1680 /content/drive/MyDrive/high_alt_object_detection/high_alt_test/high_alt_images/M0701_img000534.jpg: 352x640 4 cars, 9.9ms\n",
            "image 907/1680 /content/drive/MyDrive/high_alt_object_detection/high_alt_test/high_alt_images/M0701_img000535.jpg: 352x640 5 cars, 7.6ms\n",
            "image 908/1680 /content/drive/MyDrive/high_alt_object_detection/high_alt_test/high_alt_images/M0701_img000536.jpg: 352x640 6 cars, 8.4ms\n",
            "image 909/1680 /content/drive/MyDrive/high_alt_object_detection/high_alt_test/high_alt_images/M0701_img000537.jpg: 352x640 5 cars, 8.1ms\n",
            "image 910/1680 /content/drive/MyDrive/high_alt_object_detection/high_alt_test/high_alt_images/M0701_img000538.jpg: 352x640 3 cars, 8.1ms\n",
            "image 911/1680 /content/drive/MyDrive/high_alt_object_detection/high_alt_test/high_alt_images/M0701_img000539.jpg: 352x640 4 cars, 8.1ms\n",
            "image 912/1680 /content/drive/MyDrive/high_alt_object_detection/high_alt_test/high_alt_images/M0701_img000540.jpg: 352x640 3 cars, 7.9ms\n",
            "image 913/1680 /content/drive/MyDrive/high_alt_object_detection/high_alt_test/high_alt_images/M0701_img000541.jpg: 352x640 5 cars, 7.9ms\n",
            "image 914/1680 /content/drive/MyDrive/high_alt_object_detection/high_alt_test/high_alt_images/M0701_img000542.jpg: 352x640 4 cars, 8.9ms\n",
            "image 915/1680 /content/drive/MyDrive/high_alt_object_detection/high_alt_test/high_alt_images/M0701_img000543.jpg: 352x640 4 cars, 7.6ms\n",
            "image 916/1680 /content/drive/MyDrive/high_alt_object_detection/high_alt_test/high_alt_images/M0701_img000544.jpg: 352x640 5 cars, 7.7ms\n",
            "image 917/1680 /content/drive/MyDrive/high_alt_object_detection/high_alt_test/high_alt_images/M0701_img000545.jpg: 352x640 1 car, 8.0ms\n",
            "image 918/1680 /content/drive/MyDrive/high_alt_object_detection/high_alt_test/high_alt_images/M0701_img000546.jpg: 352x640 3 cars, 8.5ms\n",
            "image 919/1680 /content/drive/MyDrive/high_alt_object_detection/high_alt_test/high_alt_images/M0701_img000547.jpg: 352x640 2 cars, 7.7ms\n",
            "image 920/1680 /content/drive/MyDrive/high_alt_object_detection/high_alt_test/high_alt_images/M0701_img000548.jpg: 352x640 3 cars, 10.1ms\n",
            "image 921/1680 /content/drive/MyDrive/high_alt_object_detection/high_alt_test/high_alt_images/M0701_img000549.jpg: 352x640 4 cars, 7.9ms\n",
            "image 922/1680 /content/drive/MyDrive/high_alt_object_detection/high_alt_test/high_alt_images/M0701_img000550.jpg: 352x640 3 cars, 7.6ms\n",
            "image 923/1680 /content/drive/MyDrive/high_alt_object_detection/high_alt_test/high_alt_images/M0701_img000551.jpg: 352x640 3 cars, 7.7ms\n",
            "image 924/1680 /content/drive/MyDrive/high_alt_object_detection/high_alt_test/high_alt_images/M0701_img000552.jpg: 352x640 2 cars, 7.5ms\n",
            "image 925/1680 /content/drive/MyDrive/high_alt_object_detection/high_alt_test/high_alt_images/M0701_img000553.jpg: 352x640 3 cars, 8.0ms\n",
            "image 926/1680 /content/drive/MyDrive/high_alt_object_detection/high_alt_test/high_alt_images/M0701_img000554.jpg: 352x640 5 cars, 8.2ms\n",
            "image 927/1680 /content/drive/MyDrive/high_alt_object_detection/high_alt_test/high_alt_images/M0701_img000555.jpg: 352x640 2 cars, 9.1ms\n",
            "image 928/1680 /content/drive/MyDrive/high_alt_object_detection/high_alt_test/high_alt_images/M0701_img000556.jpg: 352x640 6 cars, 9.1ms\n",
            "image 929/1680 /content/drive/MyDrive/high_alt_object_detection/high_alt_test/high_alt_images/M0701_img000557.jpg: 352x640 4 cars, 8.3ms\n",
            "image 930/1680 /content/drive/MyDrive/high_alt_object_detection/high_alt_test/high_alt_images/M0701_img000558.jpg: 352x640 3 cars, 9.2ms\n",
            "image 931/1680 /content/drive/MyDrive/high_alt_object_detection/high_alt_test/high_alt_images/M0701_img000559.jpg: 352x640 3 cars, 9.4ms\n",
            "image 932/1680 /content/drive/MyDrive/high_alt_object_detection/high_alt_test/high_alt_images/M0701_img000560.jpg: 352x640 4 cars, 8.1ms\n",
            "image 933/1680 /content/drive/MyDrive/high_alt_object_detection/high_alt_test/high_alt_images/M0701_img000561.jpg: 352x640 1 car, 8.0ms\n",
            "image 934/1680 /content/drive/MyDrive/high_alt_object_detection/high_alt_test/high_alt_images/M0701_img000562.jpg: 352x640 2 cars, 8.1ms\n",
            "image 935/1680 /content/drive/MyDrive/high_alt_object_detection/high_alt_test/high_alt_images/M0701_img000563.jpg: 352x640 3 cars, 8.1ms\n",
            "image 936/1680 /content/drive/MyDrive/high_alt_object_detection/high_alt_test/high_alt_images/M0701_img000564.jpg: 352x640 3 cars, 8.0ms\n",
            "image 937/1680 /content/drive/MyDrive/high_alt_object_detection/high_alt_test/high_alt_images/M0701_img000565.jpg: 352x640 4 cars, 9.2ms\n",
            "image 938/1680 /content/drive/MyDrive/high_alt_object_detection/high_alt_test/high_alt_images/M0701_img000566.jpg: 352x640 4 cars, 8.2ms\n",
            "image 939/1680 /content/drive/MyDrive/high_alt_object_detection/high_alt_test/high_alt_images/M0701_img000567.jpg: 352x640 4 cars, 8.2ms\n",
            "image 940/1680 /content/drive/MyDrive/high_alt_object_detection/high_alt_test/high_alt_images/M0701_img000568.jpg: 352x640 4 cars, 8.3ms\n",
            "image 941/1680 /content/drive/MyDrive/high_alt_object_detection/high_alt_test/high_alt_images/M0701_img000569.jpg: 352x640 3 cars, 8.4ms\n",
            "image 942/1680 /content/drive/MyDrive/high_alt_object_detection/high_alt_test/high_alt_images/M0701_img000570.jpg: 352x640 2 cars, 8.0ms\n",
            "image 943/1680 /content/drive/MyDrive/high_alt_object_detection/high_alt_test/high_alt_images/M0701_img000571.jpg: 352x640 3 cars, 8.0ms\n",
            "image 944/1680 /content/drive/MyDrive/high_alt_object_detection/high_alt_test/high_alt_images/M0701_img000572.jpg: 352x640 2 cars, 8.4ms\n",
            "image 945/1680 /content/drive/MyDrive/high_alt_object_detection/high_alt_test/high_alt_images/M0701_img000573.jpg: 352x640 2 cars, 8.4ms\n",
            "image 946/1680 /content/drive/MyDrive/high_alt_object_detection/high_alt_test/high_alt_images/M0701_img000574.jpg: 352x640 1 car, 8.5ms\n",
            "image 947/1680 /content/drive/MyDrive/high_alt_object_detection/high_alt_test/high_alt_images/M0701_img000575.jpg: 352x640 1 car, 8.2ms\n",
            "image 948/1680 /content/drive/MyDrive/high_alt_object_detection/high_alt_test/high_alt_images/M0701_img000576.jpg: 352x640 3 cars, 8.2ms\n",
            "image 949/1680 /content/drive/MyDrive/high_alt_object_detection/high_alt_test/high_alt_images/M0701_img000577.jpg: 352x640 2 cars, 8.0ms\n",
            "image 950/1680 /content/drive/MyDrive/high_alt_object_detection/high_alt_test/high_alt_images/M0701_img000578.jpg: 352x640 3 cars, 9.2ms\n",
            "image 951/1680 /content/drive/MyDrive/high_alt_object_detection/high_alt_test/high_alt_images/M0701_img000579.jpg: 352x640 3 cars, 8.7ms\n",
            "image 952/1680 /content/drive/MyDrive/high_alt_object_detection/high_alt_test/high_alt_images/M0701_img000580.jpg: 352x640 4 cars, 8.4ms\n",
            "image 953/1680 /content/drive/MyDrive/high_alt_object_detection/high_alt_test/high_alt_images/M0701_img000581.jpg: 352x640 2 cars, 7.9ms\n",
            "image 954/1680 /content/drive/MyDrive/high_alt_object_detection/high_alt_test/high_alt_images/M0701_img000582.jpg: 352x640 4 cars, 8.0ms\n",
            "image 955/1680 /content/drive/MyDrive/high_alt_object_detection/high_alt_test/high_alt_images/M0701_img000583.jpg: 352x640 6 cars, 8.2ms\n",
            "image 956/1680 /content/drive/MyDrive/high_alt_object_detection/high_alt_test/high_alt_images/M0701_img000584.jpg: 352x640 6 cars, 8.2ms\n",
            "image 957/1680 /content/drive/MyDrive/high_alt_object_detection/high_alt_test/high_alt_images/M0701_img000585.jpg: 352x640 4 cars, 8.1ms\n",
            "image 958/1680 /content/drive/MyDrive/high_alt_object_detection/high_alt_test/high_alt_images/M0701_img000586.jpg: 352x640 4 cars, 8.9ms\n",
            "image 959/1680 /content/drive/MyDrive/high_alt_object_detection/high_alt_test/high_alt_images/M0701_img000587.jpg: 352x640 5 cars, 8.5ms\n",
            "image 960/1680 /content/drive/MyDrive/high_alt_object_detection/high_alt_test/high_alt_images/M0701_img000588.jpg: 352x640 5 cars, 8.2ms\n",
            "image 961/1680 /content/drive/MyDrive/high_alt_object_detection/high_alt_test/high_alt_images/M0701_img000589.jpg: 352x640 5 cars, 8.2ms\n",
            "image 962/1680 /content/drive/MyDrive/high_alt_object_detection/high_alt_test/high_alt_images/M0701_img000590.jpg: 352x640 4 cars, 8.6ms\n",
            "image 963/1680 /content/drive/MyDrive/high_alt_object_detection/high_alt_test/high_alt_images/M0701_img000591.jpg: 352x640 4 cars, 8.3ms\n",
            "image 964/1680 /content/drive/MyDrive/high_alt_object_detection/high_alt_test/high_alt_images/M0701_img000592.jpg: 352x640 4 cars, 10.6ms\n",
            "image 965/1680 /content/drive/MyDrive/high_alt_object_detection/high_alt_test/high_alt_images/M0701_img000593.jpg: 352x640 6 cars, 8.4ms\n",
            "image 966/1680 /content/drive/MyDrive/high_alt_object_detection/high_alt_test/high_alt_images/M0701_img000594.jpg: 352x640 5 cars, 8.4ms\n",
            "image 967/1680 /content/drive/MyDrive/high_alt_object_detection/high_alt_test/high_alt_images/M0701_img000595.jpg: 352x640 7 cars, 10.7ms\n",
            "image 968/1680 /content/drive/MyDrive/high_alt_object_detection/high_alt_test/high_alt_images/M0701_img000596.jpg: 352x640 5 cars, 9.7ms\n",
            "image 969/1680 /content/drive/MyDrive/high_alt_object_detection/high_alt_test/high_alt_images/M0701_img000597.jpg: 352x640 5 cars, 9.0ms\n",
            "image 970/1680 /content/drive/MyDrive/high_alt_object_detection/high_alt_test/high_alt_images/M0701_img000598.jpg: 352x640 6 cars, 7.9ms\n",
            "image 971/1680 /content/drive/MyDrive/high_alt_object_detection/high_alt_test/high_alt_images/M0701_img000599.jpg: 352x640 6 cars, 11.1ms\n",
            "image 972/1680 /content/drive/MyDrive/high_alt_object_detection/high_alt_test/high_alt_images/M0701_img000600.jpg: 352x640 4 cars, 9.6ms\n",
            "image 973/1680 /content/drive/MyDrive/high_alt_object_detection/high_alt_test/high_alt_images/M0701_img000601.jpg: 352x640 5 cars, 8.3ms\n",
            "image 974/1680 /content/drive/MyDrive/high_alt_object_detection/high_alt_test/high_alt_images/M0701_img000602.jpg: 352x640 6 cars, 8.7ms\n",
            "image 975/1680 /content/drive/MyDrive/high_alt_object_detection/high_alt_test/high_alt_images/M0701_img000603.jpg: 352x640 5 cars, 8.1ms\n",
            "image 976/1680 /content/drive/MyDrive/high_alt_object_detection/high_alt_test/high_alt_images/M0701_img000604.jpg: 352x640 5 cars, 8.1ms\n",
            "image 977/1680 /content/drive/MyDrive/high_alt_object_detection/high_alt_test/high_alt_images/M0701_img000605.jpg: 352x640 7 cars, 8.5ms\n",
            "image 978/1680 /content/drive/MyDrive/high_alt_object_detection/high_alt_test/high_alt_images/M0701_img000606.jpg: 352x640 7 cars, 8.4ms\n",
            "image 979/1680 /content/drive/MyDrive/high_alt_object_detection/high_alt_test/high_alt_images/M0701_img000607.jpg: 352x640 7 cars, 8.2ms\n",
            "image 980/1680 /content/drive/MyDrive/high_alt_object_detection/high_alt_test/high_alt_images/M0701_img000608.jpg: 352x640 7 cars, 7.9ms\n",
            "image 981/1680 /content/drive/MyDrive/high_alt_object_detection/high_alt_test/high_alt_images/M0701_img000609.jpg: 352x640 7 cars, 8.2ms\n",
            "image 982/1680 /content/drive/MyDrive/high_alt_object_detection/high_alt_test/high_alt_images/M0701_img000610.jpg: 352x640 7 cars, 7.7ms\n",
            "image 983/1680 /content/drive/MyDrive/high_alt_object_detection/high_alt_test/high_alt_images/M0701_img000611.jpg: 352x640 6 cars, 7.8ms\n",
            "image 984/1680 /content/drive/MyDrive/high_alt_object_detection/high_alt_test/high_alt_images/M0701_img000612.jpg: 352x640 8 cars, 8.1ms\n",
            "image 985/1680 /content/drive/MyDrive/high_alt_object_detection/high_alt_test/high_alt_images/M0701_img000613.jpg: 352x640 7 cars, 8.0ms\n",
            "image 986/1680 /content/drive/MyDrive/high_alt_object_detection/high_alt_test/high_alt_images/M0701_img000614.jpg: 352x640 9 cars, 8.0ms\n",
            "image 987/1680 /content/drive/MyDrive/high_alt_object_detection/high_alt_test/high_alt_images/M0701_img000615.jpg: 352x640 8 cars, 8.1ms\n",
            "image 988/1680 /content/drive/MyDrive/high_alt_object_detection/high_alt_test/high_alt_images/M0701_img000616.jpg: 352x640 7 cars, 8.1ms\n",
            "image 989/1680 /content/drive/MyDrive/high_alt_object_detection/high_alt_test/high_alt_images/M0701_img000617.jpg: 352x640 6 cars, 8.2ms\n",
            "image 990/1680 /content/drive/MyDrive/high_alt_object_detection/high_alt_test/high_alt_images/M0701_img000618.jpg: 352x640 6 cars, 8.0ms\n",
            "image 991/1680 /content/drive/MyDrive/high_alt_object_detection/high_alt_test/high_alt_images/M0701_img000619.jpg: 352x640 6 cars, 7.9ms\n",
            "image 992/1680 /content/drive/MyDrive/high_alt_object_detection/high_alt_test/high_alt_images/M0701_img000620.jpg: 352x640 7 cars, 8.3ms\n",
            "image 993/1680 /content/drive/MyDrive/high_alt_object_detection/high_alt_test/high_alt_images/M0701_img000621.jpg: 352x640 7 cars, 8.1ms\n",
            "image 994/1680 /content/drive/MyDrive/high_alt_object_detection/high_alt_test/high_alt_images/M0701_img000622.jpg: 352x640 6 cars, 8.1ms\n",
            "image 995/1680 /content/drive/MyDrive/high_alt_object_detection/high_alt_test/high_alt_images/M0701_img000623.jpg: 352x640 7 cars, 8.1ms\n",
            "image 996/1680 /content/drive/MyDrive/high_alt_object_detection/high_alt_test/high_alt_images/M0701_img000624.jpg: 352x640 9 cars, 7.8ms\n",
            "image 997/1680 /content/drive/MyDrive/high_alt_object_detection/high_alt_test/high_alt_images/M0701_img000625.jpg: 352x640 5 cars, 7.9ms\n",
            "image 998/1680 /content/drive/MyDrive/high_alt_object_detection/high_alt_test/high_alt_images/M0701_img000626.jpg: 352x640 6 cars, 8.0ms\n",
            "image 999/1680 /content/drive/MyDrive/high_alt_object_detection/high_alt_test/high_alt_images/M0701_img000627.jpg: 352x640 8 cars, 8.0ms\n",
            "image 1000/1680 /content/drive/MyDrive/high_alt_object_detection/high_alt_test/high_alt_images/M0701_img000628.jpg: 352x640 7 cars, 7.7ms\n",
            "image 1001/1680 /content/drive/MyDrive/high_alt_object_detection/high_alt_test/high_alt_images/M0701_img000629.jpg: 352x640 7 cars, 8.0ms\n",
            "image 1002/1680 /content/drive/MyDrive/high_alt_object_detection/high_alt_test/high_alt_images/M0701_img000630.jpg: 352x640 5 cars, 7.8ms\n",
            "image 1003/1680 /content/drive/MyDrive/high_alt_object_detection/high_alt_test/high_alt_images/M0701_img000631.jpg: 352x640 7 cars, 7.8ms\n",
            "image 1004/1680 /content/drive/MyDrive/high_alt_object_detection/high_alt_test/high_alt_images/M0701_img000632.jpg: 352x640 5 cars, 7.8ms\n",
            "image 1005/1680 /content/drive/MyDrive/high_alt_object_detection/high_alt_test/high_alt_images/M0701_img000633.jpg: 352x640 5 cars, 8.1ms\n",
            "image 1006/1680 /content/drive/MyDrive/high_alt_object_detection/high_alt_test/high_alt_images/M0701_img000634.jpg: 352x640 6 cars, 7.7ms\n",
            "image 1007/1680 /content/drive/MyDrive/high_alt_object_detection/high_alt_test/high_alt_images/M0701_img000635.jpg: 352x640 3 cars, 8.0ms\n",
            "image 1008/1680 /content/drive/MyDrive/high_alt_object_detection/high_alt_test/high_alt_images/M0701_img000636.jpg: 352x640 4 cars, 7.8ms\n",
            "image 1009/1680 /content/drive/MyDrive/high_alt_object_detection/high_alt_test/high_alt_images/M0701_img000637.jpg: 352x640 7 cars, 7.8ms\n",
            "image 1010/1680 /content/drive/MyDrive/high_alt_object_detection/high_alt_test/high_alt_images/M0701_img000638.jpg: 352x640 7 cars, 8.0ms\n",
            "image 1011/1680 /content/drive/MyDrive/high_alt_object_detection/high_alt_test/high_alt_images/M0701_img000639.jpg: 352x640 5 cars, 7.8ms\n",
            "image 1012/1680 /content/drive/MyDrive/high_alt_object_detection/high_alt_test/high_alt_images/M0701_img000640.jpg: 352x640 6 cars, 8.1ms\n",
            "image 1013/1680 /content/drive/MyDrive/high_alt_object_detection/high_alt_test/high_alt_images/M0701_img000641.jpg: 352x640 4 cars, 8.1ms\n",
            "image 1014/1680 /content/drive/MyDrive/high_alt_object_detection/high_alt_test/high_alt_images/M0701_img000642.jpg: 352x640 7 cars, 7.7ms\n",
            "image 1015/1680 /content/drive/MyDrive/high_alt_object_detection/high_alt_test/high_alt_images/M0701_img000643.jpg: 352x640 8 cars, 8.0ms\n",
            "image 1016/1680 /content/drive/MyDrive/high_alt_object_detection/high_alt_test/high_alt_images/M0701_img000644.jpg: 352x640 7 cars, 7.8ms\n",
            "image 1017/1680 /content/drive/MyDrive/high_alt_object_detection/high_alt_test/high_alt_images/M0701_img000645.jpg: 352x640 5 cars, 7.8ms\n",
            "image 1018/1680 /content/drive/MyDrive/high_alt_object_detection/high_alt_test/high_alt_images/M0701_img000646.jpg: 352x640 9 cars, 8.4ms\n",
            "image 1019/1680 /content/drive/MyDrive/high_alt_object_detection/high_alt_test/high_alt_images/M0701_img000647.jpg: 352x640 4 cars, 7.7ms\n",
            "image 1020/1680 /content/drive/MyDrive/high_alt_object_detection/high_alt_test/high_alt_images/M0701_img000648.jpg: 352x640 7 cars, 8.2ms\n",
            "image 1021/1680 /content/drive/MyDrive/high_alt_object_detection/high_alt_test/high_alt_images/M0701_img000649.jpg: 352x640 8 cars, 7.9ms\n",
            "image 1022/1680 /content/drive/MyDrive/high_alt_object_detection/high_alt_test/high_alt_images/M0701_img000650.jpg: 352x640 3 cars, 7.9ms\n",
            "image 1023/1680 /content/drive/MyDrive/high_alt_object_detection/high_alt_test/high_alt_images/M0701_img000651.jpg: 352x640 7 cars, 7.7ms\n",
            "image 1024/1680 /content/drive/MyDrive/high_alt_object_detection/high_alt_test/high_alt_images/M0701_img000652.jpg: 352x640 5 cars, 7.7ms\n",
            "image 1025/1680 /content/drive/MyDrive/high_alt_object_detection/high_alt_test/high_alt_images/M0701_img000653.jpg: 352x640 6 cars, 7.9ms\n",
            "image 1026/1680 /content/drive/MyDrive/high_alt_object_detection/high_alt_test/high_alt_images/M0701_img000654.jpg: 352x640 8 cars, 8.2ms\n",
            "image 1027/1680 /content/drive/MyDrive/high_alt_object_detection/high_alt_test/high_alt_images/M0701_img000655.jpg: 352x640 4 cars, 7.8ms\n",
            "image 1028/1680 /content/drive/MyDrive/high_alt_object_detection/high_alt_test/high_alt_images/M0701_img000656.jpg: 352x640 6 cars, 8.3ms\n",
            "image 1029/1680 /content/drive/MyDrive/high_alt_object_detection/high_alt_test/high_alt_images/M0701_img000657.jpg: 352x640 5 cars, 7.8ms\n",
            "image 1030/1680 /content/drive/MyDrive/high_alt_object_detection/high_alt_test/high_alt_images/M0701_img000658.jpg: 352x640 6 cars, 8.4ms\n",
            "image 1031/1680 /content/drive/MyDrive/high_alt_object_detection/high_alt_test/high_alt_images/M0701_img000659.jpg: 352x640 7 cars, 7.7ms\n",
            "image 1032/1680 /content/drive/MyDrive/high_alt_object_detection/high_alt_test/high_alt_images/M0701_img000660.jpg: 352x640 5 cars, 9.4ms\n",
            "image 1033/1680 /content/drive/MyDrive/high_alt_object_detection/high_alt_test/high_alt_images/M0701_img000661.jpg: 352x640 6 cars, 7.6ms\n",
            "image 1034/1680 /content/drive/MyDrive/high_alt_object_detection/high_alt_test/high_alt_images/M0701_img000662.jpg: 352x640 4 cars, 8.0ms\n",
            "image 1035/1680 /content/drive/MyDrive/high_alt_object_detection/high_alt_test/high_alt_images/M0701_img000663.jpg: 352x640 3 cars, 7.9ms\n",
            "image 1036/1680 /content/drive/MyDrive/high_alt_object_detection/high_alt_test/high_alt_images/M0701_img000664.jpg: 352x640 9 cars, 7.7ms\n",
            "image 1037/1680 /content/drive/MyDrive/high_alt_object_detection/high_alt_test/high_alt_images/M0701_img000665.jpg: 352x640 7 cars, 7.8ms\n",
            "image 1038/1680 /content/drive/MyDrive/high_alt_object_detection/high_alt_test/high_alt_images/M0701_img000666.jpg: 352x640 6 cars, 7.7ms\n",
            "image 1039/1680 /content/drive/MyDrive/high_alt_object_detection/high_alt_test/high_alt_images/M0701_img000667.jpg: 352x640 3 cars, 7.9ms\n",
            "image 1040/1680 /content/drive/MyDrive/high_alt_object_detection/high_alt_test/high_alt_images/M0701_img000668.jpg: 352x640 7 cars, 7.7ms\n",
            "image 1041/1680 /content/drive/MyDrive/high_alt_object_detection/high_alt_test/high_alt_images/M0701_img000669.jpg: 352x640 6 cars, 7.6ms\n",
            "image 1042/1680 /content/drive/MyDrive/high_alt_object_detection/high_alt_test/high_alt_images/M0701_img000670.jpg: 352x640 8 cars, 7.7ms\n",
            "image 1043/1680 /content/drive/MyDrive/high_alt_object_detection/high_alt_test/high_alt_images/M0701_img000671.jpg: 352x640 7 cars, 7.7ms\n",
            "image 1044/1680 /content/drive/MyDrive/high_alt_object_detection/high_alt_test/high_alt_images/M0701_img000672.jpg: 352x640 9 cars, 7.6ms\n",
            "image 1045/1680 /content/drive/MyDrive/high_alt_object_detection/high_alt_test/high_alt_images/M0701_img000673.jpg: 352x640 5 cars, 8.5ms\n",
            "image 1046/1680 /content/drive/MyDrive/high_alt_object_detection/high_alt_test/high_alt_images/M0701_img000674.jpg: 352x640 10 cars, 7.9ms\n",
            "image 1047/1680 /content/drive/MyDrive/high_alt_object_detection/high_alt_test/high_alt_images/M0701_img000675.jpg: 352x640 9 cars, 7.6ms\n",
            "image 1048/1680 /content/drive/MyDrive/high_alt_object_detection/high_alt_test/high_alt_images/M0701_img000676.jpg: 352x640 7 cars, 7.5ms\n",
            "image 1049/1680 /content/drive/MyDrive/high_alt_object_detection/high_alt_test/high_alt_images/M0701_img000677.jpg: 352x640 6 cars, 7.6ms\n",
            "image 1050/1680 /content/drive/MyDrive/high_alt_object_detection/high_alt_test/high_alt_images/M0701_img000678.jpg: 352x640 3 cars, 7.6ms\n",
            "image 1051/1680 /content/drive/MyDrive/high_alt_object_detection/high_alt_test/high_alt_images/M0701_img000679.jpg: 352x640 5 cars, 8.1ms\n",
            "image 1052/1680 /content/drive/MyDrive/high_alt_object_detection/high_alt_test/high_alt_images/M0701_img000680.jpg: 352x640 5 cars, 7.5ms\n",
            "image 1053/1680 /content/drive/MyDrive/high_alt_object_detection/high_alt_test/high_alt_images/M0701_img000681.jpg: 352x640 1 car, 7.8ms\n",
            "image 1054/1680 /content/drive/MyDrive/high_alt_object_detection/high_alt_test/high_alt_images/M0701_img000682.jpg: 352x640 4 cars, 7.7ms\n",
            "image 1055/1680 /content/drive/MyDrive/high_alt_object_detection/high_alt_test/high_alt_images/M0701_img000683.jpg: 352x640 3 cars, 7.6ms\n",
            "image 1056/1680 /content/drive/MyDrive/high_alt_object_detection/high_alt_test/high_alt_images/M0701_img000684.jpg: 352x640 6 cars, 7.8ms\n",
            "image 1057/1680 /content/drive/MyDrive/high_alt_object_detection/high_alt_test/high_alt_images/M0701_img000685.jpg: 352x640 1 car, 8.0ms\n",
            "image 1058/1680 /content/drive/MyDrive/high_alt_object_detection/high_alt_test/high_alt_images/M0701_img000686.jpg: 352x640 7 cars, 7.6ms\n",
            "image 1059/1680 /content/drive/MyDrive/high_alt_object_detection/high_alt_test/high_alt_images/M0701_img000687.jpg: 352x640 4 cars, 7.7ms\n",
            "image 1060/1680 /content/drive/MyDrive/high_alt_object_detection/high_alt_test/high_alt_images/M0701_img000688.jpg: 352x640 4 cars, 8.3ms\n",
            "image 1061/1680 /content/drive/MyDrive/high_alt_object_detection/high_alt_test/high_alt_images/M0701_img000689.jpg: 352x640 4 cars, 8.1ms\n",
            "image 1062/1680 /content/drive/MyDrive/high_alt_object_detection/high_alt_test/high_alt_images/M0701_img000690.jpg: 352x640 5 cars, 7.7ms\n",
            "image 1063/1680 /content/drive/MyDrive/high_alt_object_detection/high_alt_test/high_alt_images/M0701_img000691.jpg: 352x640 5 cars, 7.9ms\n",
            "image 1064/1680 /content/drive/MyDrive/high_alt_object_detection/high_alt_test/high_alt_images/M0701_img000692.jpg: 352x640 4 cars, 8.6ms\n",
            "image 1065/1680 /content/drive/MyDrive/high_alt_object_detection/high_alt_test/high_alt_images/M0701_img000693.jpg: 352x640 3 cars, 8.2ms\n",
            "image 1066/1680 /content/drive/MyDrive/high_alt_object_detection/high_alt_test/high_alt_images/M0701_img000694.jpg: 352x640 1 car, 8.3ms\n",
            "image 1067/1680 /content/drive/MyDrive/high_alt_object_detection/high_alt_test/high_alt_images/M0701_img000695.jpg: 352x640 1 car, 7.7ms\n",
            "image 1068/1680 /content/drive/MyDrive/high_alt_object_detection/high_alt_test/high_alt_images/M0701_img000696.jpg: 352x640 3 cars, 8.1ms\n",
            "image 1069/1680 /content/drive/MyDrive/high_alt_object_detection/high_alt_test/high_alt_images/M0701_img000697.jpg: 352x640 2 cars, 7.9ms\n",
            "image 1070/1680 /content/drive/MyDrive/high_alt_object_detection/high_alt_test/high_alt_images/M0701_img000698.jpg: 352x640 2 cars, 7.7ms\n",
            "image 1071/1680 /content/drive/MyDrive/high_alt_object_detection/high_alt_test/high_alt_images/M0701_img000699.jpg: 352x640 2 cars, 7.6ms\n",
            "image 1072/1680 /content/drive/MyDrive/high_alt_object_detection/high_alt_test/high_alt_images/M0701_img000700.jpg: 352x640 3 cars, 8.0ms\n",
            "image 1073/1680 /content/drive/MyDrive/high_alt_object_detection/high_alt_test/high_alt_images/M0701_img000701.jpg: 352x640 2 cars, 7.7ms\n",
            "image 1074/1680 /content/drive/MyDrive/high_alt_object_detection/high_alt_test/high_alt_images/M0701_img000702.jpg: 352x640 2 cars, 8.0ms\n",
            "image 1075/1680 /content/drive/MyDrive/high_alt_object_detection/high_alt_test/high_alt_images/M0701_img000703.jpg: 352x640 1 car, 9.1ms\n",
            "image 1076/1680 /content/drive/MyDrive/high_alt_object_detection/high_alt_test/high_alt_images/M0701_img000704.jpg: 352x640 3 cars, 7.9ms\n",
            "image 1077/1680 /content/drive/MyDrive/high_alt_object_detection/high_alt_test/high_alt_images/M0701_img000705.jpg: 352x640 1 car, 8.7ms\n",
            "image 1078/1680 /content/drive/MyDrive/high_alt_object_detection/high_alt_test/high_alt_images/M0701_img000706.jpg: 352x640 1 car, 8.3ms\n",
            "image 1079/1680 /content/drive/MyDrive/high_alt_object_detection/high_alt_test/high_alt_images/M0701_img000707.jpg: 352x640 1 car, 8.4ms\n",
            "image 1080/1680 /content/drive/MyDrive/high_alt_object_detection/high_alt_test/high_alt_images/M0701_img000708.jpg: 352x640 1 car, 8.1ms\n",
            "image 1081/1680 /content/drive/MyDrive/high_alt_object_detection/high_alt_test/high_alt_images/M0701_img000709.jpg: 352x640 (no detections), 8.8ms\n",
            "image 1082/1680 /content/drive/MyDrive/high_alt_object_detection/high_alt_test/high_alt_images/M0701_img000710.jpg: 352x640 4 cars, 8.1ms\n",
            "image 1083/1680 /content/drive/MyDrive/high_alt_object_detection/high_alt_test/high_alt_images/M0701_img000711.jpg: 352x640 4 cars, 8.1ms\n",
            "image 1084/1680 /content/drive/MyDrive/high_alt_object_detection/high_alt_test/high_alt_images/M0701_img000712.jpg: 352x640 (no detections), 8.0ms\n",
            "image 1085/1680 /content/drive/MyDrive/high_alt_object_detection/high_alt_test/high_alt_images/M0701_img000713.jpg: 352x640 3 cars, 7.8ms\n",
            "image 1086/1680 /content/drive/MyDrive/high_alt_object_detection/high_alt_test/high_alt_images/M0701_img000714.jpg: 352x640 2 cars, 7.7ms\n",
            "image 1087/1680 /content/drive/MyDrive/high_alt_object_detection/high_alt_test/high_alt_images/M0701_img000715.jpg: 352x640 4 cars, 8.2ms\n",
            "image 1088/1680 /content/drive/MyDrive/high_alt_object_detection/high_alt_test/high_alt_images/M0701_img000716.jpg: 352x640 1 car, 8.2ms\n",
            "image 1089/1680 /content/drive/MyDrive/high_alt_object_detection/high_alt_test/high_alt_images/M0701_img000717.jpg: 352x640 1 car, 7.9ms\n",
            "image 1090/1680 /content/drive/MyDrive/high_alt_object_detection/high_alt_test/high_alt_images/M0701_img000718.jpg: 352x640 2 cars, 8.1ms\n",
            "image 1091/1680 /content/drive/MyDrive/high_alt_object_detection/high_alt_test/high_alt_images/M0701_img000719.jpg: 352x640 1 car, 8.1ms\n",
            "image 1092/1680 /content/drive/MyDrive/high_alt_object_detection/high_alt_test/high_alt_images/M0701_img000720.jpg: 352x640 1 car, 7.9ms\n",
            "image 1093/1680 /content/drive/MyDrive/high_alt_object_detection/high_alt_test/high_alt_images/M0701_img000721.jpg: 352x640 1 car, 8.2ms\n",
            "image 1094/1680 /content/drive/MyDrive/high_alt_object_detection/high_alt_test/high_alt_images/M0701_img000722.jpg: 352x640 1 car, 7.9ms\n",
            "image 1095/1680 /content/drive/MyDrive/high_alt_object_detection/high_alt_test/high_alt_images/M0701_img000723.jpg: 352x640 2 cars, 7.8ms\n",
            "image 1096/1680 /content/drive/MyDrive/high_alt_object_detection/high_alt_test/high_alt_images/M0701_img000724.jpg: 352x640 3 cars, 7.9ms\n",
            "image 1097/1680 /content/drive/MyDrive/high_alt_object_detection/high_alt_test/high_alt_images/M0701_img000725.jpg: 352x640 2 cars, 8.1ms\n",
            "image 1098/1680 /content/drive/MyDrive/high_alt_object_detection/high_alt_test/high_alt_images/M0701_img000726.jpg: 352x640 2 cars, 7.9ms\n",
            "image 1099/1680 /content/drive/MyDrive/high_alt_object_detection/high_alt_test/high_alt_images/M0701_img000727.jpg: 352x640 2 cars, 8.4ms\n",
            "image 1100/1680 /content/drive/MyDrive/high_alt_object_detection/high_alt_test/high_alt_images/M0701_img000728.jpg: 352x640 2 cars, 8.1ms\n",
            "image 1101/1680 /content/drive/MyDrive/high_alt_object_detection/high_alt_test/high_alt_images/M0701_img000729.jpg: 352x640 2 cars, 8.0ms\n",
            "image 1102/1680 /content/drive/MyDrive/high_alt_object_detection/high_alt_test/high_alt_images/M0701_img000730.jpg: 352x640 1 car, 8.2ms\n",
            "image 1103/1680 /content/drive/MyDrive/high_alt_object_detection/high_alt_test/high_alt_images/M0701_img000731.jpg: 352x640 3 cars, 9.9ms\n",
            "image 1104/1680 /content/drive/MyDrive/high_alt_object_detection/high_alt_test/high_alt_images/M0701_img000732.jpg: 352x640 2 cars, 7.8ms\n",
            "image 1105/1680 /content/drive/MyDrive/high_alt_object_detection/high_alt_test/high_alt_images/M0701_img000733.jpg: 352x640 2 cars, 8.0ms\n",
            "image 1106/1680 /content/drive/MyDrive/high_alt_object_detection/high_alt_test/high_alt_images/M0701_img000734.jpg: 352x640 2 cars, 7.6ms\n",
            "image 1107/1680 /content/drive/MyDrive/high_alt_object_detection/high_alt_test/high_alt_images/M0701_img000735.jpg: 352x640 3 cars, 8.2ms\n",
            "image 1108/1680 /content/drive/MyDrive/high_alt_object_detection/high_alt_test/high_alt_images/M0701_img000736.jpg: 352x640 2 cars, 8.0ms\n",
            "image 1109/1680 /content/drive/MyDrive/high_alt_object_detection/high_alt_test/high_alt_images/M0701_img000737.jpg: 352x640 2 cars, 7.9ms\n",
            "image 1110/1680 /content/drive/MyDrive/high_alt_object_detection/high_alt_test/high_alt_images/M0701_img000738.jpg: 352x640 3 cars, 10.1ms\n",
            "image 1111/1680 /content/drive/MyDrive/high_alt_object_detection/high_alt_test/high_alt_images/M0701_img000739.jpg: 352x640 2 cars, 8.2ms\n",
            "image 1112/1680 /content/drive/MyDrive/high_alt_object_detection/high_alt_test/high_alt_images/M0701_img000740.jpg: 352x640 2 cars, 8.0ms\n",
            "image 1113/1680 /content/drive/MyDrive/high_alt_object_detection/high_alt_test/high_alt_images/M0701_img000741.jpg: 352x640 3 cars, 8.3ms\n",
            "image 1114/1680 /content/drive/MyDrive/high_alt_object_detection/high_alt_test/high_alt_images/M0701_img000742.jpg: 352x640 2 cars, 8.0ms\n",
            "image 1115/1680 /content/drive/MyDrive/high_alt_object_detection/high_alt_test/high_alt_images/M0701_img000743.jpg: 352x640 2 cars, 8.5ms\n",
            "image 1116/1680 /content/drive/MyDrive/high_alt_object_detection/high_alt_test/high_alt_images/M0701_img000744.jpg: 352x640 2 cars, 8.1ms\n",
            "image 1117/1680 /content/drive/MyDrive/high_alt_object_detection/high_alt_test/high_alt_images/M0701_img000745.jpg: 352x640 5 cars, 8.0ms\n",
            "image 1118/1680 /content/drive/MyDrive/high_alt_object_detection/high_alt_test/high_alt_images/M0701_img000746.jpg: 352x640 4 cars, 8.3ms\n",
            "image 1119/1680 /content/drive/MyDrive/high_alt_object_detection/high_alt_test/high_alt_images/M0701_img000747.jpg: 352x640 4 cars, 8.4ms\n",
            "image 1120/1680 /content/drive/MyDrive/high_alt_object_detection/high_alt_test/high_alt_images/M0701_img000748.jpg: 352x640 1 car, 8.0ms\n",
            "image 1121/1680 /content/drive/MyDrive/high_alt_object_detection/high_alt_test/high_alt_images/M0701_img000749.jpg: 352x640 3 cars, 8.2ms\n",
            "image 1122/1680 /content/drive/MyDrive/high_alt_object_detection/high_alt_test/high_alt_images/M0701_img000750.jpg: 352x640 1 car, 8.4ms\n",
            "image 1123/1680 /content/drive/MyDrive/high_alt_object_detection/high_alt_test/high_alt_images/M0701_img000751.jpg: 352x640 2 cars, 7.8ms\n",
            "image 1124/1680 /content/drive/MyDrive/high_alt_object_detection/high_alt_test/high_alt_images/M0701_img000752.jpg: 352x640 1 car, 8.1ms\n",
            "image 1125/1680 /content/drive/MyDrive/high_alt_object_detection/high_alt_test/high_alt_images/M0701_img000753.jpg: 352x640 3 cars, 7.7ms\n",
            "image 1126/1680 /content/drive/MyDrive/high_alt_object_detection/high_alt_test/high_alt_images/M0701_img000754.jpg: 352x640 1 car, 8.2ms\n",
            "image 1127/1680 /content/drive/MyDrive/high_alt_object_detection/high_alt_test/high_alt_images/M0701_img000755.jpg: 352x640 4 cars, 8.1ms\n",
            "image 1128/1680 /content/drive/MyDrive/high_alt_object_detection/high_alt_test/high_alt_images/M0701_img000756.jpg: 352x640 2 cars, 8.3ms\n",
            "image 1129/1680 /content/drive/MyDrive/high_alt_object_detection/high_alt_test/high_alt_images/M0701_img000757.jpg: 352x640 2 cars, 7.7ms\n",
            "image 1130/1680 /content/drive/MyDrive/high_alt_object_detection/high_alt_test/high_alt_images/M0701_img000758.jpg: 352x640 2 cars, 8.3ms\n",
            "image 1131/1680 /content/drive/MyDrive/high_alt_object_detection/high_alt_test/high_alt_images/M0701_img000759.jpg: 352x640 1 car, 7.9ms\n",
            "image 1132/1680 /content/drive/MyDrive/high_alt_object_detection/high_alt_test/high_alt_images/M0701_img000760.jpg: 352x640 2 cars, 7.9ms\n",
            "image 1133/1680 /content/drive/MyDrive/high_alt_object_detection/high_alt_test/high_alt_images/M0701_img000761.jpg: 352x640 4 cars, 8.5ms\n",
            "image 1134/1680 /content/drive/MyDrive/high_alt_object_detection/high_alt_test/high_alt_images/M0701_img000762.jpg: 352x640 2 cars, 8.2ms\n",
            "image 1135/1680 /content/drive/MyDrive/high_alt_object_detection/high_alt_test/high_alt_images/M0701_img000763.jpg: 352x640 3 cars, 7.8ms\n",
            "image 1136/1680 /content/drive/MyDrive/high_alt_object_detection/high_alt_test/high_alt_images/M0701_img000764.jpg: 352x640 3 cars, 7.8ms\n",
            "image 1137/1680 /content/drive/MyDrive/high_alt_object_detection/high_alt_test/high_alt_images/M0701_img000765.jpg: 352x640 3 cars, 7.9ms\n",
            "image 1138/1680 /content/drive/MyDrive/high_alt_object_detection/high_alt_test/high_alt_images/M0701_img000766.jpg: 352x640 3 cars, 8.0ms\n",
            "image 1139/1680 /content/drive/MyDrive/high_alt_object_detection/high_alt_test/high_alt_images/M0701_img000767.jpg: 352x640 3 cars, 8.6ms\n",
            "image 1140/1680 /content/drive/MyDrive/high_alt_object_detection/high_alt_test/high_alt_images/M0701_img000768.jpg: 352x640 3 cars, 8.2ms\n",
            "image 1141/1680 /content/drive/MyDrive/high_alt_object_detection/high_alt_test/high_alt_images/M0701_img000769.jpg: 352x640 3 cars, 8.1ms\n",
            "image 1142/1680 /content/drive/MyDrive/high_alt_object_detection/high_alt_test/high_alt_images/M0701_img000770.jpg: 352x640 3 cars, 7.7ms\n",
            "image 1143/1680 /content/drive/MyDrive/high_alt_object_detection/high_alt_test/high_alt_images/M0701_img000771.jpg: 352x640 2 cars, 8.1ms\n",
            "image 1144/1680 /content/drive/MyDrive/high_alt_object_detection/high_alt_test/high_alt_images/M0701_img000772.jpg: 352x640 2 cars, 8.3ms\n",
            "image 1145/1680 /content/drive/MyDrive/high_alt_object_detection/high_alt_test/high_alt_images/M0701_img000773.jpg: 352x640 4 cars, 8.6ms\n",
            "image 1146/1680 /content/drive/MyDrive/high_alt_object_detection/high_alt_test/high_alt_images/M0701_img000774.jpg: 352x640 2 cars, 7.8ms\n",
            "image 1147/1680 /content/drive/MyDrive/high_alt_object_detection/high_alt_test/high_alt_images/M0701_img000775.jpg: 352x640 3 cars, 8.3ms\n",
            "image 1148/1680 /content/drive/MyDrive/high_alt_object_detection/high_alt_test/high_alt_images/M0701_img000776.jpg: 352x640 1 car, 7.8ms\n",
            "image 1149/1680 /content/drive/MyDrive/high_alt_object_detection/high_alt_test/high_alt_images/M0701_img000777.jpg: 352x640 2 cars, 8.0ms\n",
            "image 1150/1680 /content/drive/MyDrive/high_alt_object_detection/high_alt_test/high_alt_images/M0701_img000778.jpg: 352x640 4 cars, 8.2ms\n",
            "image 1151/1680 /content/drive/MyDrive/high_alt_object_detection/high_alt_test/high_alt_images/M0701_img000779.jpg: 352x640 4 cars, 8.4ms\n",
            "image 1152/1680 /content/drive/MyDrive/high_alt_object_detection/high_alt_test/high_alt_images/M0701_img000780.jpg: 352x640 2 cars, 7.8ms\n",
            "image 1153/1680 /content/drive/MyDrive/high_alt_object_detection/high_alt_test/high_alt_images/M0701_img000781.jpg: 352x640 2 cars, 8.2ms\n",
            "image 1154/1680 /content/drive/MyDrive/high_alt_object_detection/high_alt_test/high_alt_images/M0701_img000782.jpg: 352x640 3 cars, 8.3ms\n",
            "image 1155/1680 /content/drive/MyDrive/high_alt_object_detection/high_alt_test/high_alt_images/M0701_img000783.jpg: 352x640 4 cars, 8.3ms\n",
            "image 1156/1680 /content/drive/MyDrive/high_alt_object_detection/high_alt_test/high_alt_images/M0701_img000784.jpg: 352x640 5 cars, 8.2ms\n",
            "image 1157/1680 /content/drive/MyDrive/high_alt_object_detection/high_alt_test/high_alt_images/M0701_img000785.jpg: 352x640 2 cars, 8.2ms\n",
            "image 1158/1680 /content/drive/MyDrive/high_alt_object_detection/high_alt_test/high_alt_images/M0701_img000786.jpg: 352x640 2 cars, 8.6ms\n",
            "image 1159/1680 /content/drive/MyDrive/high_alt_object_detection/high_alt_test/high_alt_images/M0701_img000787.jpg: 352x640 4 cars, 8.3ms\n",
            "image 1160/1680 /content/drive/MyDrive/high_alt_object_detection/high_alt_test/high_alt_images/M0701_img000788.jpg: 352x640 4 cars, 8.0ms\n",
            "image 1161/1680 /content/drive/MyDrive/high_alt_object_detection/high_alt_test/high_alt_images/M0701_img000789.jpg: 352x640 2 cars, 8.0ms\n",
            "image 1162/1680 /content/drive/MyDrive/high_alt_object_detection/high_alt_test/high_alt_images/M0701_img000790.jpg: 352x640 2 cars, 8.0ms\n",
            "image 1163/1680 /content/drive/MyDrive/high_alt_object_detection/high_alt_test/high_alt_images/M0701_img000791.jpg: 352x640 3 cars, 8.2ms\n",
            "image 1164/1680 /content/drive/MyDrive/high_alt_object_detection/high_alt_test/high_alt_images/M0701_img000792.jpg: 352x640 2 cars, 8.2ms\n",
            "image 1165/1680 /content/drive/MyDrive/high_alt_object_detection/high_alt_test/high_alt_images/M0701_img000793.jpg: 352x640 3 cars, 8.3ms\n",
            "image 1166/1680 /content/drive/MyDrive/high_alt_object_detection/high_alt_test/high_alt_images/M0701_img000794.jpg: 352x640 4 cars, 7.8ms\n",
            "image 1167/1680 /content/drive/MyDrive/high_alt_object_detection/high_alt_test/high_alt_images/M0701_img000795.jpg: 352x640 3 cars, 7.9ms\n",
            "image 1168/1680 /content/drive/MyDrive/high_alt_object_detection/high_alt_test/high_alt_images/M0701_img000796.jpg: 352x640 2 cars, 7.9ms\n",
            "image 1169/1680 /content/drive/MyDrive/high_alt_object_detection/high_alt_test/high_alt_images/M0701_img000797.jpg: 352x640 2 cars, 7.6ms\n",
            "image 1170/1680 /content/drive/MyDrive/high_alt_object_detection/high_alt_test/high_alt_images/M0701_img000798.jpg: 352x640 2 cars, 7.9ms\n",
            "image 1171/1680 /content/drive/MyDrive/high_alt_object_detection/high_alt_test/high_alt_images/M0701_img000799.jpg: 352x640 3 cars, 7.8ms\n",
            "image 1172/1680 /content/drive/MyDrive/high_alt_object_detection/high_alt_test/high_alt_images/M0701_img000800.jpg: 352x640 3 cars, 7.8ms\n",
            "image 1173/1680 /content/drive/MyDrive/high_alt_object_detection/high_alt_test/high_alt_images/M0701_img000801.jpg: 352x640 5 cars, 8.3ms\n",
            "image 1174/1680 /content/drive/MyDrive/high_alt_object_detection/high_alt_test/high_alt_images/M0701_img000802.jpg: 352x640 2 cars, 7.9ms\n",
            "image 1175/1680 /content/drive/MyDrive/high_alt_object_detection/high_alt_test/high_alt_images/M0701_img000803.jpg: 352x640 4 cars, 7.9ms\n",
            "image 1176/1680 /content/drive/MyDrive/high_alt_object_detection/high_alt_test/high_alt_images/M0701_img000804.jpg: 352x640 3 cars, 7.9ms\n",
            "image 1177/1680 /content/drive/MyDrive/high_alt_object_detection/high_alt_test/high_alt_images/M0701_img000805.jpg: 352x640 4 cars, 8.1ms\n",
            "image 1178/1680 /content/drive/MyDrive/high_alt_object_detection/high_alt_test/high_alt_images/M0701_img000806.jpg: 352x640 3 cars, 7.8ms\n",
            "image 1179/1680 /content/drive/MyDrive/high_alt_object_detection/high_alt_test/high_alt_images/M0701_img000807.jpg: 352x640 4 cars, 7.9ms\n",
            "image 1180/1680 /content/drive/MyDrive/high_alt_object_detection/high_alt_test/high_alt_images/M0701_img000808.jpg: 352x640 4 cars, 7.7ms\n",
            "image 1181/1680 /content/drive/MyDrive/high_alt_object_detection/high_alt_test/high_alt_images/M0701_img000809.jpg: 352x640 4 cars, 7.8ms\n",
            "image 1182/1680 /content/drive/MyDrive/high_alt_object_detection/high_alt_test/high_alt_images/M0701_img000810.jpg: 352x640 4 cars, 8.3ms\n",
            "image 1183/1680 /content/drive/MyDrive/high_alt_object_detection/high_alt_test/high_alt_images/M0701_img000811.jpg: 352x640 4 cars, 7.8ms\n",
            "image 1184/1680 /content/drive/MyDrive/high_alt_object_detection/high_alt_test/high_alt_images/M0701_img000812.jpg: 352x640 4 cars, 7.8ms\n",
            "image 1185/1680 /content/drive/MyDrive/high_alt_object_detection/high_alt_test/high_alt_images/M0701_img000813.jpg: 352x640 4 cars, 7.9ms\n",
            "image 1186/1680 /content/drive/MyDrive/high_alt_object_detection/high_alt_test/high_alt_images/M0701_img000814.jpg: 352x640 4 cars, 7.9ms\n",
            "image 1187/1680 /content/drive/MyDrive/high_alt_object_detection/high_alt_test/high_alt_images/M0701_img000815.jpg: 352x640 5 cars, 8.2ms\n",
            "image 1188/1680 /content/drive/MyDrive/high_alt_object_detection/high_alt_test/high_alt_images/M0701_img000816.jpg: 352x640 2 cars, 8.1ms\n",
            "image 1189/1680 /content/drive/MyDrive/high_alt_object_detection/high_alt_test/high_alt_images/M0701_img000817.jpg: 352x640 2 cars, 7.7ms\n",
            "image 1190/1680 /content/drive/MyDrive/high_alt_object_detection/high_alt_test/high_alt_images/M0701_img000818.jpg: 352x640 5 cars, 8.4ms\n",
            "image 1191/1680 /content/drive/MyDrive/high_alt_object_detection/high_alt_test/high_alt_images/M0701_img000819.jpg: 352x640 5 cars, 7.9ms\n",
            "image 1192/1680 /content/drive/MyDrive/high_alt_object_detection/high_alt_test/high_alt_images/M0701_img000820.jpg: 352x640 5 cars, 8.3ms\n",
            "image 1193/1680 /content/drive/MyDrive/high_alt_object_detection/high_alt_test/high_alt_images/M0701_img000821.jpg: 352x640 2 cars, 8.1ms\n",
            "image 1194/1680 /content/drive/MyDrive/high_alt_object_detection/high_alt_test/high_alt_images/M0701_img000822.jpg: 352x640 2 cars, 7.9ms\n",
            "image 1195/1680 /content/drive/MyDrive/high_alt_object_detection/high_alt_test/high_alt_images/M0701_img000823.jpg: 352x640 4 cars, 7.9ms\n",
            "image 1196/1680 /content/drive/MyDrive/high_alt_object_detection/high_alt_test/high_alt_images/M0701_img000824.jpg: 352x640 4 cars, 8.1ms\n",
            "image 1197/1680 /content/drive/MyDrive/high_alt_object_detection/high_alt_test/high_alt_images/M0701_img000825.jpg: 352x640 3 cars, 7.8ms\n",
            "image 1198/1680 /content/drive/MyDrive/high_alt_object_detection/high_alt_test/high_alt_images/M0701_img000826.jpg: 352x640 5 cars, 8.1ms\n",
            "image 1199/1680 /content/drive/MyDrive/high_alt_object_detection/high_alt_test/high_alt_images/M0701_img000827.jpg: 352x640 4 cars, 8.1ms\n",
            "image 1200/1680 /content/drive/MyDrive/high_alt_object_detection/high_alt_test/high_alt_images/M0701_img000828.jpg: 352x640 3 cars, 7.7ms\n",
            "image 1201/1680 /content/drive/MyDrive/high_alt_object_detection/high_alt_test/high_alt_images/M0701_img000829.jpg: 352x640 2 cars, 7.6ms\n",
            "image 1202/1680 /content/drive/MyDrive/high_alt_object_detection/high_alt_test/high_alt_images/M0701_img000830.jpg: 352x640 4 cars, 8.2ms\n",
            "image 1203/1680 /content/drive/MyDrive/high_alt_object_detection/high_alt_test/high_alt_images/M0701_img000831.jpg: 352x640 4 cars, 7.9ms\n",
            "image 1204/1680 /content/drive/MyDrive/high_alt_object_detection/high_alt_test/high_alt_images/M0701_img000832.jpg: 352x640 3 cars, 8.1ms\n",
            "image 1205/1680 /content/drive/MyDrive/high_alt_object_detection/high_alt_test/high_alt_images/M0701_img000833.jpg: 352x640 2 cars, 8.1ms\n",
            "image 1206/1680 /content/drive/MyDrive/high_alt_object_detection/high_alt_test/high_alt_images/M0701_img000834.jpg: 352x640 5 cars, 7.7ms\n",
            "image 1207/1680 /content/drive/MyDrive/high_alt_object_detection/high_alt_test/high_alt_images/M0701_img000835.jpg: 352x640 3 cars, 8.3ms\n",
            "image 1208/1680 /content/drive/MyDrive/high_alt_object_detection/high_alt_test/high_alt_images/M0701_img000836.jpg: 352x640 2 cars, 8.0ms\n",
            "image 1209/1680 /content/drive/MyDrive/high_alt_object_detection/high_alt_test/high_alt_images/M0701_img000837.jpg: 352x640 3 cars, 7.7ms\n",
            "image 1210/1680 /content/drive/MyDrive/high_alt_object_detection/high_alt_test/high_alt_images/M0701_img000838.jpg: 352x640 4 cars, 7.6ms\n",
            "image 1211/1680 /content/drive/MyDrive/high_alt_object_detection/high_alt_test/high_alt_images/M0701_img000839.jpg: 352x640 4 cars, 7.9ms\n",
            "image 1212/1680 /content/drive/MyDrive/high_alt_object_detection/high_alt_test/high_alt_images/M0701_img000840.jpg: 352x640 3 cars, 7.9ms\n",
            "image 1213/1680 /content/drive/MyDrive/high_alt_object_detection/high_alt_test/high_alt_images/M0701_img000841.jpg: 352x640 6 cars, 8.0ms\n",
            "image 1214/1680 /content/drive/MyDrive/high_alt_object_detection/high_alt_test/high_alt_images/M0701_img000842.jpg: 352x640 3 cars, 7.8ms\n",
            "image 1215/1680 /content/drive/MyDrive/high_alt_object_detection/high_alt_test/high_alt_images/M0701_img000843.jpg: 352x640 3 cars, 9.4ms\n",
            "image 1216/1680 /content/drive/MyDrive/high_alt_object_detection/high_alt_test/high_alt_images/M0701_img000844.jpg: 352x640 5 cars, 7.9ms\n",
            "image 1217/1680 /content/drive/MyDrive/high_alt_object_detection/high_alt_test/high_alt_images/M0701_img000845.jpg: 352x640 4 cars, 8.7ms\n",
            "image 1218/1680 /content/drive/MyDrive/high_alt_object_detection/high_alt_test/high_alt_images/M0701_img000846.jpg: 352x640 5 cars, 8.2ms\n",
            "image 1219/1680 /content/drive/MyDrive/high_alt_object_detection/high_alt_test/high_alt_images/M0701_img000847.jpg: 352x640 3 cars, 8.0ms\n",
            "image 1220/1680 /content/drive/MyDrive/high_alt_object_detection/high_alt_test/high_alt_images/M0701_img000848.jpg: 352x640 4 cars, 7.8ms\n",
            "image 1221/1680 /content/drive/MyDrive/high_alt_object_detection/high_alt_test/high_alt_images/M0701_img000849.jpg: 352x640 2 cars, 7.9ms\n",
            "image 1222/1680 /content/drive/MyDrive/high_alt_object_detection/high_alt_test/high_alt_images/M0701_img000850.jpg: 352x640 3 cars, 8.0ms\n",
            "image 1223/1680 /content/drive/MyDrive/high_alt_object_detection/high_alt_test/high_alt_images/M0701_img000851.jpg: 352x640 5 cars, 8.3ms\n",
            "image 1224/1680 /content/drive/MyDrive/high_alt_object_detection/high_alt_test/high_alt_images/M0701_img000852.jpg: 352x640 4 cars, 7.9ms\n",
            "image 1225/1680 /content/drive/MyDrive/high_alt_object_detection/high_alt_test/high_alt_images/M0701_img000853.jpg: 352x640 4 cars, 7.9ms\n",
            "image 1226/1680 /content/drive/MyDrive/high_alt_object_detection/high_alt_test/high_alt_images/M0701_img000854.jpg: 352x640 3 cars, 8.3ms\n",
            "image 1227/1680 /content/drive/MyDrive/high_alt_object_detection/high_alt_test/high_alt_images/M0701_img000855.jpg: 352x640 4 cars, 7.8ms\n",
            "image 1228/1680 /content/drive/MyDrive/high_alt_object_detection/high_alt_test/high_alt_images/M0701_img000856.jpg: 352x640 4 cars, 8.0ms\n",
            "image 1229/1680 /content/drive/MyDrive/high_alt_object_detection/high_alt_test/high_alt_images/M0701_img000857.jpg: 352x640 4 cars, 8.6ms\n",
            "image 1230/1680 /content/drive/MyDrive/high_alt_object_detection/high_alt_test/high_alt_images/M0701_img000858.jpg: 352x640 2 cars, 8.1ms\n",
            "image 1231/1680 /content/drive/MyDrive/high_alt_object_detection/high_alt_test/high_alt_images/M0701_img000859.jpg: 352x640 5 cars, 8.3ms\n",
            "image 1232/1680 /content/drive/MyDrive/high_alt_object_detection/high_alt_test/high_alt_images/M0701_img000860.jpg: 352x640 3 cars, 7.9ms\n",
            "image 1233/1680 /content/drive/MyDrive/high_alt_object_detection/high_alt_test/high_alt_images/M0701_img000861.jpg: 352x640 3 cars, 8.2ms\n",
            "image 1234/1680 /content/drive/MyDrive/high_alt_object_detection/high_alt_test/high_alt_images/M0701_img000862.jpg: 352x640 4 cars, 8.0ms\n",
            "image 1235/1680 /content/drive/MyDrive/high_alt_object_detection/high_alt_test/high_alt_images/M0701_img000863.jpg: 352x640 4 cars, 9.2ms\n",
            "image 1236/1680 /content/drive/MyDrive/high_alt_object_detection/high_alt_test/high_alt_images/M0701_img000864.jpg: 352x640 3 cars, 7.7ms\n",
            "image 1237/1680 /content/drive/MyDrive/high_alt_object_detection/high_alt_test/high_alt_images/M0701_img000865.jpg: 352x640 3 cars, 7.9ms\n",
            "image 1238/1680 /content/drive/MyDrive/high_alt_object_detection/high_alt_test/high_alt_images/M0701_img000866.jpg: 352x640 5 cars, 7.8ms\n",
            "image 1239/1680 /content/drive/MyDrive/high_alt_object_detection/high_alt_test/high_alt_images/M0701_img000867.jpg: 352x640 4 cars, 7.9ms\n",
            "image 1240/1680 /content/drive/MyDrive/high_alt_object_detection/high_alt_test/high_alt_images/M0701_img000868.jpg: 352x640 4 cars, 7.9ms\n",
            "image 1241/1680 /content/drive/MyDrive/high_alt_object_detection/high_alt_test/high_alt_images/M0701_img000869.jpg: 352x640 6 cars, 7.8ms\n",
            "image 1242/1680 /content/drive/MyDrive/high_alt_object_detection/high_alt_test/high_alt_images/M0701_img000870.jpg: 352x640 2 cars, 7.7ms\n",
            "image 1243/1680 /content/drive/MyDrive/high_alt_object_detection/high_alt_test/high_alt_images/M0701_img000871.jpg: 352x640 3 cars, 8.0ms\n",
            "image 1244/1680 /content/drive/MyDrive/high_alt_object_detection/high_alt_test/high_alt_images/M0701_img000872.jpg: 352x640 4 cars, 8.2ms\n",
            "image 1245/1680 /content/drive/MyDrive/high_alt_object_detection/high_alt_test/high_alt_images/M0701_img000873.jpg: 352x640 5 cars, 8.3ms\n",
            "image 1246/1680 /content/drive/MyDrive/high_alt_object_detection/high_alt_test/high_alt_images/M0701_img000874.jpg: 352x640 5 cars, 8.3ms\n",
            "image 1247/1680 /content/drive/MyDrive/high_alt_object_detection/high_alt_test/high_alt_images/M0701_img000875.jpg: 352x640 5 cars, 8.5ms\n",
            "image 1248/1680 /content/drive/MyDrive/high_alt_object_detection/high_alt_test/high_alt_images/M0701_img000876.jpg: 352x640 5 cars, 8.2ms\n",
            "image 1249/1680 /content/drive/MyDrive/high_alt_object_detection/high_alt_test/high_alt_images/M0701_img000877.jpg: 352x640 5 cars, 8.2ms\n",
            "image 1250/1680 /content/drive/MyDrive/high_alt_object_detection/high_alt_test/high_alt_images/M0701_img000878.jpg: 352x640 3 cars, 9.6ms\n",
            "image 1251/1680 /content/drive/MyDrive/high_alt_object_detection/high_alt_test/high_alt_images/M0701_img000879.jpg: 352x640 3 cars, 7.9ms\n",
            "image 1252/1680 /content/drive/MyDrive/high_alt_object_detection/high_alt_test/high_alt_images/M0701_img000880.jpg: 352x640 4 cars, 8.2ms\n",
            "image 1253/1680 /content/drive/MyDrive/high_alt_object_detection/high_alt_test/high_alt_images/M0701_img000881.jpg: 352x640 4 cars, 8.3ms\n",
            "image 1254/1680 /content/drive/MyDrive/high_alt_object_detection/high_alt_test/high_alt_images/M0701_img000882.jpg: 352x640 6 cars, 8.1ms\n",
            "image 1255/1680 /content/drive/MyDrive/high_alt_object_detection/high_alt_test/high_alt_images/M0701_img000883.jpg: 352x640 6 cars, 8.0ms\n",
            "image 1256/1680 /content/drive/MyDrive/high_alt_object_detection/high_alt_test/high_alt_images/M0701_img000884.jpg: 352x640 4 cars, 8.3ms\n",
            "image 1257/1680 /content/drive/MyDrive/high_alt_object_detection/high_alt_test/high_alt_images/M0701_img000885.jpg: 352x640 5 cars, 7.9ms\n",
            "image 1258/1680 /content/drive/MyDrive/high_alt_object_detection/high_alt_test/high_alt_images/M0701_img000886.jpg: 352x640 3 cars, 8.4ms\n",
            "image 1259/1680 /content/drive/MyDrive/high_alt_object_detection/high_alt_test/high_alt_images/M0701_img000887.jpg: 352x640 5 cars, 7.9ms\n",
            "image 1260/1680 /content/drive/MyDrive/high_alt_object_detection/high_alt_test/high_alt_images/M0701_img000888.jpg: 352x640 5 cars, 8.1ms\n",
            "image 1261/1680 /content/drive/MyDrive/high_alt_object_detection/high_alt_test/high_alt_images/M0701_img000889.jpg: 352x640 5 cars, 8.0ms\n",
            "image 1262/1680 /content/drive/MyDrive/high_alt_object_detection/high_alt_test/high_alt_images/M0701_img000890.jpg: 352x640 4 cars, 8.2ms\n",
            "image 1263/1680 /content/drive/MyDrive/high_alt_object_detection/high_alt_test/high_alt_images/M0701_img000891.jpg: 352x640 6 cars, 7.9ms\n",
            "image 1264/1680 /content/drive/MyDrive/high_alt_object_detection/high_alt_test/high_alt_images/M0701_img000892.jpg: 352x640 4 cars, 7.7ms\n",
            "image 1265/1680 /content/drive/MyDrive/high_alt_object_detection/high_alt_test/high_alt_images/M0701_img000893.jpg: 352x640 6 cars, 9.6ms\n",
            "image 1266/1680 /content/drive/MyDrive/high_alt_object_detection/high_alt_test/high_alt_images/M0701_img000894.jpg: 352x640 5 cars, 7.9ms\n",
            "image 1267/1680 /content/drive/MyDrive/high_alt_object_detection/high_alt_test/high_alt_images/M0701_img000895.jpg: 352x640 4 cars, 7.9ms\n",
            "image 1268/1680 /content/drive/MyDrive/high_alt_object_detection/high_alt_test/high_alt_images/M0701_img000896.jpg: 352x640 4 cars, 8.0ms\n",
            "image 1269/1680 /content/drive/MyDrive/high_alt_object_detection/high_alt_test/high_alt_images/M0701_img000897.jpg: 352x640 3 cars, 7.8ms\n",
            "image 1270/1680 /content/drive/MyDrive/high_alt_object_detection/high_alt_test/high_alt_images/M0701_img000898.jpg: 352x640 2 cars, 9.6ms\n",
            "image 1271/1680 /content/drive/MyDrive/high_alt_object_detection/high_alt_test/high_alt_images/M0701_img000899.jpg: 352x640 3 cars, 7.7ms\n",
            "image 1272/1680 /content/drive/MyDrive/high_alt_object_detection/high_alt_test/high_alt_images/M0701_img000900.jpg: 352x640 3 cars, 7.9ms\n",
            "image 1273/1680 /content/drive/MyDrive/high_alt_object_detection/high_alt_test/high_alt_images/M0701_img000901.jpg: 352x640 4 cars, 7.9ms\n",
            "image 1274/1680 /content/drive/MyDrive/high_alt_object_detection/high_alt_test/high_alt_images/M0701_img000902.jpg: 352x640 4 cars, 7.7ms\n",
            "image 1275/1680 /content/drive/MyDrive/high_alt_object_detection/high_alt_test/high_alt_images/M0701_img000903.jpg: 352x640 1 car, 8.1ms\n",
            "image 1276/1680 /content/drive/MyDrive/high_alt_object_detection/high_alt_test/high_alt_images/M0701_img000904.jpg: 352x640 (no detections), 8.6ms\n",
            "image 1277/1680 /content/drive/MyDrive/high_alt_object_detection/high_alt_test/high_alt_images/M0701_img000905.jpg: 352x640 4 cars, 8.0ms\n",
            "image 1278/1680 /content/drive/MyDrive/high_alt_object_detection/high_alt_test/high_alt_images/M0701_img000906.jpg: 352x640 1 car, 8.2ms\n",
            "image 1279/1680 /content/drive/MyDrive/high_alt_object_detection/high_alt_test/high_alt_images/M0701_img000907.jpg: 352x640 2 cars, 8.3ms\n",
            "image 1280/1680 /content/drive/MyDrive/high_alt_object_detection/high_alt_test/high_alt_images/M0701_img000908.jpg: 352x640 2 cars, 8.0ms\n",
            "image 1281/1680 /content/drive/MyDrive/high_alt_object_detection/high_alt_test/high_alt_images/M0701_img000909.jpg: 352x640 3 cars, 7.9ms\n",
            "image 1282/1680 /content/drive/MyDrive/high_alt_object_detection/high_alt_test/high_alt_images/M0701_img000910.jpg: 352x640 3 cars, 8.0ms\n",
            "image 1283/1680 /content/drive/MyDrive/high_alt_object_detection/high_alt_test/high_alt_images/M0701_img000911.jpg: 352x640 5 cars, 8.2ms\n",
            "image 1284/1680 /content/drive/MyDrive/high_alt_object_detection/high_alt_test/high_alt_images/M0701_img000912.jpg: 352x640 (no detections), 8.0ms\n",
            "image 1285/1680 /content/drive/MyDrive/high_alt_object_detection/high_alt_test/high_alt_images/M0701_img000913.jpg: 352x640 2 cars, 8.2ms\n",
            "image 1286/1680 /content/drive/MyDrive/high_alt_object_detection/high_alt_test/high_alt_images/M0701_img000914.jpg: 352x640 3 cars, 8.6ms\n",
            "image 1287/1680 /content/drive/MyDrive/high_alt_object_detection/high_alt_test/high_alt_images/M0701_img000915.jpg: 352x640 2 cars, 8.1ms\n",
            "image 1288/1680 /content/drive/MyDrive/high_alt_object_detection/high_alt_test/high_alt_images/M0701_img000916.jpg: 352x640 2 cars, 8.0ms\n",
            "image 1289/1680 /content/drive/MyDrive/high_alt_object_detection/high_alt_test/high_alt_images/M0701_img000917.jpg: 352x640 2 cars, 8.3ms\n",
            "image 1290/1680 /content/drive/MyDrive/high_alt_object_detection/high_alt_test/high_alt_images/M0701_img000918.jpg: 352x640 3 cars, 7.8ms\n",
            "image 1291/1680 /content/drive/MyDrive/high_alt_object_detection/high_alt_test/high_alt_images/M0701_img000919.jpg: 352x640 1 car, 8.0ms\n",
            "image 1292/1680 /content/drive/MyDrive/high_alt_object_detection/high_alt_test/high_alt_images/M0701_img000920.jpg: 352x640 4 cars, 8.3ms\n",
            "image 1293/1680 /content/drive/MyDrive/high_alt_object_detection/high_alt_test/high_alt_images/M0701_img000921.jpg: 352x640 3 cars, 8.4ms\n",
            "image 1294/1680 /content/drive/MyDrive/high_alt_object_detection/high_alt_test/high_alt_images/M0701_img000922.jpg: 352x640 1 car, 8.2ms\n",
            "image 1295/1680 /content/drive/MyDrive/high_alt_object_detection/high_alt_test/high_alt_images/M0701_img000923.jpg: 352x640 2 cars, 8.3ms\n",
            "image 1296/1680 /content/drive/MyDrive/high_alt_object_detection/high_alt_test/high_alt_images/M0701_img000924.jpg: 352x640 3 cars, 9.9ms\n",
            "image 1297/1680 /content/drive/MyDrive/high_alt_object_detection/high_alt_test/high_alt_images/M0701_img000925.jpg: 352x640 3 cars, 8.5ms\n",
            "image 1298/1680 /content/drive/MyDrive/high_alt_object_detection/high_alt_test/high_alt_images/M0701_img000926.jpg: 352x640 2 cars, 8.3ms\n",
            "image 1299/1680 /content/drive/MyDrive/high_alt_object_detection/high_alt_test/high_alt_images/M0701_img000927.jpg: 352x640 3 cars, 7.9ms\n",
            "image 1300/1680 /content/drive/MyDrive/high_alt_object_detection/high_alt_test/high_alt_images/M0701_img000928.jpg: 352x640 5 cars, 7.9ms\n",
            "image 1301/1680 /content/drive/MyDrive/high_alt_object_detection/high_alt_test/high_alt_images/M0701_img000929.jpg: 352x640 6 cars, 8.0ms\n",
            "image 1302/1680 /content/drive/MyDrive/high_alt_object_detection/high_alt_test/high_alt_images/M0701_img000930.jpg: 352x640 3 cars, 7.9ms\n",
            "image 1303/1680 /content/drive/MyDrive/high_alt_object_detection/high_alt_test/high_alt_images/M0701_img000931.jpg: 352x640 4 cars, 8.0ms\n",
            "image 1304/1680 /content/drive/MyDrive/high_alt_object_detection/high_alt_test/high_alt_images/M0701_img000932.jpg: 352x640 6 cars, 8.0ms\n",
            "image 1305/1680 /content/drive/MyDrive/high_alt_object_detection/high_alt_test/high_alt_images/M0701_img000933.jpg: 352x640 4 cars, 8.1ms\n",
            "image 1306/1680 /content/drive/MyDrive/high_alt_object_detection/high_alt_test/high_alt_images/M0701_img000934.jpg: 352x640 1 car, 8.0ms\n",
            "image 1307/1680 /content/drive/MyDrive/high_alt_object_detection/high_alt_test/high_alt_images/M0701_img000935.jpg: 352x640 4 cars, 8.7ms\n",
            "image 1308/1680 /content/drive/MyDrive/high_alt_object_detection/high_alt_test/high_alt_images/M0701_img000936.jpg: 352x640 (no detections), 8.0ms\n",
            "image 1309/1680 /content/drive/MyDrive/high_alt_object_detection/high_alt_test/high_alt_images/M0701_img000937.jpg: 352x640 1 car, 8.0ms\n",
            "image 1310/1680 /content/drive/MyDrive/high_alt_object_detection/high_alt_test/high_alt_images/M0701_img000938.jpg: 352x640 3 cars, 9.1ms\n",
            "image 1311/1680 /content/drive/MyDrive/high_alt_object_detection/high_alt_test/high_alt_images/M0701_img000939.jpg: 352x640 2 cars, 9.6ms\n",
            "image 1312/1680 /content/drive/MyDrive/high_alt_object_detection/high_alt_test/high_alt_images/M0701_img000940.jpg: 352x640 6 cars, 8.0ms\n",
            "image 1313/1680 /content/drive/MyDrive/high_alt_object_detection/high_alt_test/high_alt_images/M0701_img000941.jpg: 352x640 6 cars, 7.9ms\n",
            "image 1314/1680 /content/drive/MyDrive/high_alt_object_detection/high_alt_test/high_alt_images/M0701_img000942.jpg: 352x640 4 cars, 7.9ms\n",
            "image 1315/1680 /content/drive/MyDrive/high_alt_object_detection/high_alt_test/high_alt_images/M0701_img000943.jpg: 352x640 1 car, 8.0ms\n",
            "image 1316/1680 /content/drive/MyDrive/high_alt_object_detection/high_alt_test/high_alt_images/M0701_img000944.jpg: 352x640 2 cars, 7.9ms\n",
            "image 1317/1680 /content/drive/MyDrive/high_alt_object_detection/high_alt_test/high_alt_images/M0701_img000945.jpg: 352x640 4 cars, 7.7ms\n",
            "image 1318/1680 /content/drive/MyDrive/high_alt_object_detection/high_alt_test/high_alt_images/M0701_img000946.jpg: 352x640 1 car, 7.7ms\n",
            "image 1319/1680 /content/drive/MyDrive/high_alt_object_detection/high_alt_test/high_alt_images/M0701_img000947.jpg: 352x640 1 car, 8.0ms\n",
            "image 1320/1680 /content/drive/MyDrive/high_alt_object_detection/high_alt_test/high_alt_images/M0701_img000948.jpg: 352x640 1 car, 7.8ms\n",
            "image 1321/1680 /content/drive/MyDrive/high_alt_object_detection/high_alt_test/high_alt_images/M0701_img000949.jpg: 352x640 1 car, 7.7ms\n",
            "image 1322/1680 /content/drive/MyDrive/high_alt_object_detection/high_alt_test/high_alt_images/M0701_img000950.jpg: 352x640 1 car, 7.9ms\n",
            "image 1323/1680 /content/drive/MyDrive/high_alt_object_detection/high_alt_test/high_alt_images/M0701_img000951.jpg: 352x640 3 cars, 8.2ms\n",
            "image 1324/1680 /content/drive/MyDrive/high_alt_object_detection/high_alt_test/high_alt_images/M0701_img000952.jpg: 352x640 (no detections), 8.1ms\n",
            "image 1325/1680 /content/drive/MyDrive/high_alt_object_detection/high_alt_test/high_alt_images/M0701_img000953.jpg: 352x640 (no detections), 8.5ms\n",
            "image 1326/1680 /content/drive/MyDrive/high_alt_object_detection/high_alt_test/high_alt_images/M0701_img000954.jpg: 352x640 (no detections), 8.1ms\n",
            "image 1327/1680 /content/drive/MyDrive/high_alt_object_detection/high_alt_test/high_alt_images/M0701_img000955.jpg: 352x640 (no detections), 7.7ms\n",
            "image 1328/1680 /content/drive/MyDrive/high_alt_object_detection/high_alt_test/high_alt_images/M0701_img000956.jpg: 352x640 1 car, 8.3ms\n",
            "image 1329/1680 /content/drive/MyDrive/high_alt_object_detection/high_alt_test/high_alt_images/M0701_img000957.jpg: 352x640 1 car, 8.2ms\n",
            "image 1330/1680 /content/drive/MyDrive/high_alt_object_detection/high_alt_test/high_alt_images/M0701_img000958.jpg: 352x640 (no detections), 8.1ms\n",
            "image 1331/1680 /content/drive/MyDrive/high_alt_object_detection/high_alt_test/high_alt_images/M0701_img000959.jpg: 352x640 1 car, 8.0ms\n",
            "image 1332/1680 /content/drive/MyDrive/high_alt_object_detection/high_alt_test/high_alt_images/M0701_img000960.jpg: 352x640 3 cars, 8.1ms\n",
            "image 1333/1680 /content/drive/MyDrive/high_alt_object_detection/high_alt_test/high_alt_images/M0701_img000961.jpg: 352x640 1 car, 8.1ms\n",
            "image 1334/1680 /content/drive/MyDrive/high_alt_object_detection/high_alt_test/high_alt_images/M0701_img000962.jpg: 352x640 4 cars, 7.9ms\n",
            "image 1335/1680 /content/drive/MyDrive/high_alt_object_detection/high_alt_test/high_alt_images/M0701_img000963.jpg: 352x640 1 car, 7.7ms\n",
            "image 1336/1680 /content/drive/MyDrive/high_alt_object_detection/high_alt_test/high_alt_images/M0701_img000964.jpg: 352x640 1 car, 10.2ms\n",
            "image 1337/1680 /content/drive/MyDrive/high_alt_object_detection/high_alt_test/high_alt_images/M0701_img000965.jpg: 352x640 3 cars, 7.9ms\n",
            "image 1338/1680 /content/drive/MyDrive/high_alt_object_detection/high_alt_test/high_alt_images/M0701_img000966.jpg: 352x640 4 cars, 7.6ms\n",
            "image 1339/1680 /content/drive/MyDrive/high_alt_object_detection/high_alt_test/high_alt_images/M0701_img000967.jpg: 352x640 5 cars, 7.8ms\n",
            "image 1340/1680 /content/drive/MyDrive/high_alt_object_detection/high_alt_test/high_alt_images/M0701_img000968.jpg: 352x640 4 cars, 7.9ms\n",
            "image 1341/1680 /content/drive/MyDrive/high_alt_object_detection/high_alt_test/high_alt_images/M0701_img000969.jpg: 352x640 3 cars, 8.0ms\n",
            "image 1342/1680 /content/drive/MyDrive/high_alt_object_detection/high_alt_test/high_alt_images/M0701_img000970.jpg: 352x640 2 cars, 8.3ms\n",
            "image 1343/1680 /content/drive/MyDrive/high_alt_object_detection/high_alt_test/high_alt_images/M0701_img000971.jpg: 352x640 2 cars, 8.4ms\n",
            "image 1344/1680 /content/drive/MyDrive/high_alt_object_detection/high_alt_test/high_alt_images/M0701_img000972.jpg: 352x640 4 cars, 8.3ms\n",
            "image 1345/1680 /content/drive/MyDrive/high_alt_object_detection/high_alt_test/high_alt_images/M0701_img000973.jpg: 352x640 4 cars, 9.2ms\n",
            "image 1346/1680 /content/drive/MyDrive/high_alt_object_detection/high_alt_test/high_alt_images/M0701_img000974.jpg: 352x640 2 cars, 8.0ms\n",
            "image 1347/1680 /content/drive/MyDrive/high_alt_object_detection/high_alt_test/high_alt_images/M0701_img000975.jpg: 352x640 4 cars, 7.8ms\n",
            "image 1348/1680 /content/drive/MyDrive/high_alt_object_detection/high_alt_test/high_alt_images/M0701_img000976.jpg: 352x640 5 cars, 7.6ms\n",
            "image 1349/1680 /content/drive/MyDrive/high_alt_object_detection/high_alt_test/high_alt_images/M0701_img000977.jpg: 352x640 3 cars, 8.0ms\n",
            "image 1350/1680 /content/drive/MyDrive/high_alt_object_detection/high_alt_test/high_alt_images/M0701_img000978.jpg: 352x640 6 cars, 8.2ms\n",
            "image 1351/1680 /content/drive/MyDrive/high_alt_object_detection/high_alt_test/high_alt_images/M0701_img000979.jpg: 352x640 8 cars, 7.8ms\n",
            "image 1352/1680 /content/drive/MyDrive/high_alt_object_detection/high_alt_test/high_alt_images/M0701_img000980.jpg: 352x640 5 cars, 7.9ms\n",
            "image 1353/1680 /content/drive/MyDrive/high_alt_object_detection/high_alt_test/high_alt_images/M0701_img000981.jpg: 352x640 2 cars, 7.7ms\n",
            "image 1354/1680 /content/drive/MyDrive/high_alt_object_detection/high_alt_test/high_alt_images/M0701_img000982.jpg: 352x640 2 cars, 9.1ms\n",
            "image 1355/1680 /content/drive/MyDrive/high_alt_object_detection/high_alt_test/high_alt_images/M0701_img000983.jpg: 352x640 3 cars, 7.6ms\n",
            "image 1356/1680 /content/drive/MyDrive/high_alt_object_detection/high_alt_test/high_alt_images/M0701_img000984.jpg: 352x640 2 cars, 7.9ms\n",
            "image 1357/1680 /content/drive/MyDrive/high_alt_object_detection/high_alt_test/high_alt_images/M0701_img000985.jpg: 352x640 2 cars, 7.5ms\n",
            "image 1358/1680 /content/drive/MyDrive/high_alt_object_detection/high_alt_test/high_alt_images/M0701_img000986.jpg: 352x640 6 cars, 7.8ms\n",
            "image 1359/1680 /content/drive/MyDrive/high_alt_object_detection/high_alt_test/high_alt_images/M0701_img000987.jpg: 352x640 4 cars, 8.0ms\n",
            "image 1360/1680 /content/drive/MyDrive/high_alt_object_detection/high_alt_test/high_alt_images/M0701_img000988.jpg: 352x640 5 cars, 8.0ms\n",
            "image 1361/1680 /content/drive/MyDrive/high_alt_object_detection/high_alt_test/high_alt_images/M0701_img000989.jpg: 352x640 8 cars, 7.8ms\n",
            "image 1362/1680 /content/drive/MyDrive/high_alt_object_detection/high_alt_test/high_alt_images/M0701_img000990.jpg: 352x640 4 cars, 7.8ms\n",
            "image 1363/1680 /content/drive/MyDrive/high_alt_object_detection/high_alt_test/high_alt_images/M0701_img000991.jpg: 352x640 4 cars, 7.7ms\n",
            "image 1364/1680 /content/drive/MyDrive/high_alt_object_detection/high_alt_test/high_alt_images/M0701_img000992.jpg: 352x640 3 cars, 7.8ms\n",
            "image 1365/1680 /content/drive/MyDrive/high_alt_object_detection/high_alt_test/high_alt_images/M0701_img000993.jpg: 352x640 5 cars, 8.0ms\n",
            "image 1366/1680 /content/drive/MyDrive/high_alt_object_detection/high_alt_test/high_alt_images/M0701_img000994.jpg: 352x640 4 cars, 8.6ms\n",
            "image 1367/1680 /content/drive/MyDrive/high_alt_object_detection/high_alt_test/high_alt_images/M0701_img000995.jpg: 352x640 6 cars, 8.6ms\n",
            "image 1368/1680 /content/drive/MyDrive/high_alt_object_detection/high_alt_test/high_alt_images/M0701_img000996.jpg: 352x640 6 cars, 8.0ms\n",
            "image 1369/1680 /content/drive/MyDrive/high_alt_object_detection/high_alt_test/high_alt_images/M0701_img000997.jpg: 352x640 8 cars, 7.9ms\n",
            "image 1370/1680 /content/drive/MyDrive/high_alt_object_detection/high_alt_test/high_alt_images/M0701_img000998.jpg: 352x640 8 cars, 8.3ms\n",
            "image 1371/1680 /content/drive/MyDrive/high_alt_object_detection/high_alt_test/high_alt_images/M0701_img000999.jpg: 352x640 6 cars, 8.5ms\n",
            "image 1372/1680 /content/drive/MyDrive/high_alt_object_detection/high_alt_test/high_alt_images/M0701_img001000.jpg: 352x640 5 cars, 8.7ms\n",
            "image 1373/1680 /content/drive/MyDrive/high_alt_object_detection/high_alt_test/high_alt_images/M0701_img001001.jpg: 352x640 5 cars, 8.6ms\n",
            "image 1374/1680 /content/drive/MyDrive/high_alt_object_detection/high_alt_test/high_alt_images/M0701_img001002.jpg: 352x640 3 cars, 8.3ms\n",
            "image 1375/1680 /content/drive/MyDrive/high_alt_object_detection/high_alt_test/high_alt_images/M0701_img001003.jpg: 352x640 3 cars, 7.9ms\n",
            "image 1376/1680 /content/drive/MyDrive/high_alt_object_detection/high_alt_test/high_alt_images/M0701_img001004.jpg: 352x640 4 cars, 8.7ms\n",
            "image 1377/1680 /content/drive/MyDrive/high_alt_object_detection/high_alt_test/high_alt_images/M0701_img001005.jpg: 352x640 3 cars, 7.9ms\n",
            "image 1378/1680 /content/drive/MyDrive/high_alt_object_detection/high_alt_test/high_alt_images/M0701_img001006.jpg: 352x640 3 cars, 7.8ms\n",
            "image 1379/1680 /content/drive/MyDrive/high_alt_object_detection/high_alt_test/high_alt_images/M0701_img001007.jpg: 352x640 4 cars, 8.0ms\n",
            "image 1380/1680 /content/drive/MyDrive/high_alt_object_detection/high_alt_test/high_alt_images/M0701_img001008.jpg: 352x640 4 cars, 8.6ms\n",
            "image 1381/1680 /content/drive/MyDrive/high_alt_object_detection/high_alt_test/high_alt_images/M0701_img001009.jpg: 352x640 4 cars, 9.1ms\n",
            "image 1382/1680 /content/drive/MyDrive/high_alt_object_detection/high_alt_test/high_alt_images/M0701_img001010.jpg: 352x640 5 cars, 8.4ms\n",
            "image 1383/1680 /content/drive/MyDrive/high_alt_object_detection/high_alt_test/high_alt_images/M0701_img001011.jpg: 352x640 3 cars, 7.9ms\n",
            "image 1384/1680 /content/drive/MyDrive/high_alt_object_detection/high_alt_test/high_alt_images/M0701_img001012.jpg: 352x640 5 cars, 8.1ms\n",
            "image 1385/1680 /content/drive/MyDrive/high_alt_object_detection/high_alt_test/high_alt_images/M0701_img001013.jpg: 352x640 4 cars, 8.7ms\n",
            "image 1386/1680 /content/drive/MyDrive/high_alt_object_detection/high_alt_test/high_alt_images/M0701_img001014.jpg: 352x640 4 cars, 10.0ms\n",
            "image 1387/1680 /content/drive/MyDrive/high_alt_object_detection/high_alt_test/high_alt_images/M0701_img001015.jpg: 352x640 1 car, 13.2ms\n",
            "image 1388/1680 /content/drive/MyDrive/high_alt_object_detection/high_alt_test/high_alt_images/M0701_img001016.jpg: 352x640 2 cars, 8.6ms\n",
            "image 1389/1680 /content/drive/MyDrive/high_alt_object_detection/high_alt_test/high_alt_images/M0701_img001017.jpg: 352x640 2 cars, 8.4ms\n",
            "image 1390/1680 /content/drive/MyDrive/high_alt_object_detection/high_alt_test/high_alt_images/M0701_img001018.jpg: 352x640 2 cars, 8.5ms\n",
            "image 1391/1680 /content/drive/MyDrive/high_alt_object_detection/high_alt_test/high_alt_images/M0701_img001019.jpg: 352x640 2 cars, 8.5ms\n",
            "image 1392/1680 /content/drive/MyDrive/high_alt_object_detection/high_alt_test/high_alt_images/M0701_img001020.jpg: 352x640 3 cars, 8.4ms\n",
            "image 1393/1680 /content/drive/MyDrive/high_alt_object_detection/high_alt_test/high_alt_images/M0701_img001021.jpg: 352x640 1 car, 8.7ms\n",
            "image 1394/1680 /content/drive/MyDrive/high_alt_object_detection/high_alt_test/high_alt_images/M0701_img001022.jpg: 352x640 3 cars, 8.0ms\n",
            "image 1395/1680 /content/drive/MyDrive/high_alt_object_detection/high_alt_test/high_alt_images/M0701_img001023.jpg: 352x640 5 cars, 8.2ms\n",
            "image 1396/1680 /content/drive/MyDrive/high_alt_object_detection/high_alt_test/high_alt_images/M0701_img001024.jpg: 352x640 3 cars, 8.3ms\n",
            "image 1397/1680 /content/drive/MyDrive/high_alt_object_detection/high_alt_test/high_alt_images/M0701_img001025.jpg: 352x640 4 cars, 8.2ms\n",
            "image 1398/1680 /content/drive/MyDrive/high_alt_object_detection/high_alt_test/high_alt_images/M0701_img001026.jpg: 352x640 5 cars, 8.1ms\n",
            "image 1399/1680 /content/drive/MyDrive/high_alt_object_detection/high_alt_test/high_alt_images/M0701_img001027.jpg: 352x640 5 cars, 7.8ms\n",
            "image 1400/1680 /content/drive/MyDrive/high_alt_object_detection/high_alt_test/high_alt_images/M0701_img001028.jpg: 352x640 3 cars, 7.9ms\n",
            "image 1401/1680 /content/drive/MyDrive/high_alt_object_detection/high_alt_test/high_alt_images/M0701_img001029.jpg: 352x640 6 cars, 7.9ms\n",
            "image 1402/1680 /content/drive/MyDrive/high_alt_object_detection/high_alt_test/high_alt_images/M0701_img001030.jpg: 352x640 3 cars, 7.8ms\n",
            "image 1403/1680 /content/drive/MyDrive/high_alt_object_detection/high_alt_test/high_alt_images/M0701_img001031.jpg: 352x640 6 cars, 7.8ms\n",
            "image 1404/1680 /content/drive/MyDrive/high_alt_object_detection/high_alt_test/high_alt_images/M0701_img001032.jpg: 352x640 3 cars, 8.4ms\n",
            "image 1405/1680 /content/drive/MyDrive/high_alt_object_detection/high_alt_test/high_alt_images/M0701_img001033.jpg: 352x640 2 cars, 8.0ms\n",
            "image 1406/1680 /content/drive/MyDrive/high_alt_object_detection/high_alt_test/high_alt_images/M0701_img001034.jpg: 352x640 2 cars, 8.0ms\n",
            "image 1407/1680 /content/drive/MyDrive/high_alt_object_detection/high_alt_test/high_alt_images/M0701_img001035.jpg: 352x640 4 cars, 8.1ms\n",
            "image 1408/1680 /content/drive/MyDrive/high_alt_object_detection/high_alt_test/high_alt_images/M0701_img001036.jpg: 352x640 2 cars, 7.8ms\n",
            "image 1409/1680 /content/drive/MyDrive/high_alt_object_detection/high_alt_test/high_alt_images/M0701_img001037.jpg: 352x640 5 cars, 7.9ms\n",
            "image 1410/1680 /content/drive/MyDrive/high_alt_object_detection/high_alt_test/high_alt_images/M0701_img001038.jpg: 352x640 3 cars, 8.1ms\n",
            "image 1411/1680 /content/drive/MyDrive/high_alt_object_detection/high_alt_test/high_alt_images/M0701_img001039.jpg: 352x640 2 cars, 9.8ms\n",
            "image 1412/1680 /content/drive/MyDrive/high_alt_object_detection/high_alt_test/high_alt_images/M0701_img001040.jpg: 352x640 3 cars, 8.1ms\n",
            "image 1413/1680 /content/drive/MyDrive/high_alt_object_detection/high_alt_test/high_alt_images/M0701_img001041.jpg: 352x640 4 cars, 8.0ms\n",
            "image 1414/1680 /content/drive/MyDrive/high_alt_object_detection/high_alt_test/high_alt_images/M0701_img001042.jpg: 352x640 3 cars, 7.8ms\n",
            "image 1415/1680 /content/drive/MyDrive/high_alt_object_detection/high_alt_test/high_alt_images/M0701_img001043.jpg: 352x640 3 cars, 7.9ms\n",
            "image 1416/1680 /content/drive/MyDrive/high_alt_object_detection/high_alt_test/high_alt_images/M0701_img001044.jpg: 352x640 3 cars, 8.2ms\n",
            "image 1417/1680 /content/drive/MyDrive/high_alt_object_detection/high_alt_test/high_alt_images/M0701_img001045.jpg: 352x640 3 cars, 9.0ms\n",
            "image 1418/1680 /content/drive/MyDrive/high_alt_object_detection/high_alt_test/high_alt_images/M0701_img001046.jpg: 352x640 3 cars, 7.8ms\n",
            "image 1419/1680 /content/drive/MyDrive/high_alt_object_detection/high_alt_test/high_alt_images/M0701_img001047.jpg: 352x640 4 cars, 9.7ms\n",
            "image 1420/1680 /content/drive/MyDrive/high_alt_object_detection/high_alt_test/high_alt_images/M0701_img001048.jpg: 352x640 3 cars, 9.9ms\n",
            "image 1421/1680 /content/drive/MyDrive/high_alt_object_detection/high_alt_test/high_alt_images/M0701_img001049.jpg: 352x640 3 cars, 7.9ms\n",
            "image 1422/1680 /content/drive/MyDrive/high_alt_object_detection/high_alt_test/high_alt_images/M0701_img001050.jpg: 352x640 3 cars, 7.9ms\n",
            "image 1423/1680 /content/drive/MyDrive/high_alt_object_detection/high_alt_test/high_alt_images/M0701_img001051.jpg: 352x640 2 cars, 7.7ms\n",
            "image 1424/1680 /content/drive/MyDrive/high_alt_object_detection/high_alt_test/high_alt_images/M0701_img001052.jpg: 352x640 3 cars, 7.9ms\n",
            "image 1425/1680 /content/drive/MyDrive/high_alt_object_detection/high_alt_test/high_alt_images/M0701_img001053.jpg: 352x640 5 cars, 8.3ms\n",
            "image 1426/1680 /content/drive/MyDrive/high_alt_object_detection/high_alt_test/high_alt_images/M0701_img001054.jpg: 352x640 2 cars, 7.8ms\n",
            "image 1427/1680 /content/drive/MyDrive/high_alt_object_detection/high_alt_test/high_alt_images/M0701_img001055.jpg: 352x640 3 cars, 7.8ms\n",
            "image 1428/1680 /content/drive/MyDrive/high_alt_object_detection/high_alt_test/high_alt_images/M0701_img001056.jpg: 352x640 3 cars, 7.8ms\n",
            "image 1429/1680 /content/drive/MyDrive/high_alt_object_detection/high_alt_test/high_alt_images/M0701_img001057.jpg: 352x640 3 cars, 7.7ms\n",
            "image 1430/1680 /content/drive/MyDrive/high_alt_object_detection/high_alt_test/high_alt_images/M0701_img001058.jpg: 352x640 3 cars, 8.0ms\n",
            "image 1431/1680 /content/drive/MyDrive/high_alt_object_detection/high_alt_test/high_alt_images/M0701_img001059.jpg: 352x640 3 cars, 10.7ms\n",
            "image 1432/1680 /content/drive/MyDrive/high_alt_object_detection/high_alt_test/high_alt_images/M0701_img001060.jpg: 352x640 5 cars, 8.3ms\n",
            "image 1433/1680 /content/drive/MyDrive/high_alt_object_detection/high_alt_test/high_alt_images/M0701_img001061.jpg: 352x640 3 cars, 8.0ms\n",
            "image 1434/1680 /content/drive/MyDrive/high_alt_object_detection/high_alt_test/high_alt_images/M0701_img001062.jpg: 352x640 3 cars, 8.0ms\n",
            "image 1435/1680 /content/drive/MyDrive/high_alt_object_detection/high_alt_test/high_alt_images/M0701_img001063.jpg: 352x640 5 cars, 8.0ms\n",
            "image 1436/1680 /content/drive/MyDrive/high_alt_object_detection/high_alt_test/high_alt_images/M0701_img001064.jpg: 352x640 3 cars, 7.9ms\n",
            "image 1437/1680 /content/drive/MyDrive/high_alt_object_detection/high_alt_test/high_alt_images/M0701_img001065.jpg: 352x640 2 cars, 8.2ms\n",
            "image 1438/1680 /content/drive/MyDrive/high_alt_object_detection/high_alt_test/high_alt_images/M0701_img001066.jpg: 352x640 3 cars, 8.2ms\n",
            "image 1439/1680 /content/drive/MyDrive/high_alt_object_detection/high_alt_test/high_alt_images/M0701_img001067.jpg: 352x640 3 cars, 8.0ms\n",
            "image 1440/1680 /content/drive/MyDrive/high_alt_object_detection/high_alt_test/high_alt_images/M0701_img001068.jpg: 352x640 4 cars, 8.0ms\n",
            "image 1441/1680 /content/drive/MyDrive/high_alt_object_detection/high_alt_test/high_alt_images/M0701_img001069.jpg: 352x640 2 cars, 8.1ms\n",
            "image 1442/1680 /content/drive/MyDrive/high_alt_object_detection/high_alt_test/high_alt_images/M0701_img001070.jpg: 352x640 2 cars, 8.1ms\n",
            "image 1443/1680 /content/drive/MyDrive/high_alt_object_detection/high_alt_test/high_alt_images/M0701_img001071.jpg: 352x640 2 cars, 8.2ms\n",
            "image 1444/1680 /content/drive/MyDrive/high_alt_object_detection/high_alt_test/high_alt_images/M0701_img001072.jpg: 352x640 4 cars, 8.2ms\n",
            "image 1445/1680 /content/drive/MyDrive/high_alt_object_detection/high_alt_test/high_alt_images/M0701_img001073.jpg: 352x640 3 cars, 8.4ms\n",
            "image 1446/1680 /content/drive/MyDrive/high_alt_object_detection/high_alt_test/high_alt_images/M0701_img001074.jpg: 352x640 3 cars, 8.2ms\n",
            "image 1447/1680 /content/drive/MyDrive/high_alt_object_detection/high_alt_test/high_alt_images/M0701_img001075.jpg: 352x640 5 cars, 8.3ms\n",
            "image 1448/1680 /content/drive/MyDrive/high_alt_object_detection/high_alt_test/high_alt_images/M0701_img001076.jpg: 352x640 4 cars, 8.6ms\n",
            "image 1449/1680 /content/drive/MyDrive/high_alt_object_detection/high_alt_test/high_alt_images/M0701_img001077.jpg: 352x640 1 car, 8.2ms\n",
            "image 1450/1680 /content/drive/MyDrive/high_alt_object_detection/high_alt_test/high_alt_images/M0701_img001078.jpg: 352x640 2 cars, 8.2ms\n",
            "image 1451/1680 /content/drive/MyDrive/high_alt_object_detection/high_alt_test/high_alt_images/M0701_img001079.jpg: 352x640 4 cars, 7.9ms\n",
            "image 1452/1680 /content/drive/MyDrive/high_alt_object_detection/high_alt_test/high_alt_images/M0701_img001080.jpg: 352x640 4 cars, 9.6ms\n",
            "image 1453/1680 /content/drive/MyDrive/high_alt_object_detection/high_alt_test/high_alt_images/M0701_img001081.jpg: 352x640 3 cars, 8.1ms\n",
            "image 1454/1680 /content/drive/MyDrive/high_alt_object_detection/high_alt_test/high_alt_images/M0701_img001082.jpg: 352x640 1 car, 7.8ms\n",
            "image 1455/1680 /content/drive/MyDrive/high_alt_object_detection/high_alt_test/high_alt_images/M0701_img001083.jpg: 352x640 2 cars, 8.0ms\n",
            "image 1456/1680 /content/drive/MyDrive/high_alt_object_detection/high_alt_test/high_alt_images/M0701_img001084.jpg: 352x640 2 cars, 9.6ms\n",
            "image 1457/1680 /content/drive/MyDrive/high_alt_object_detection/high_alt_test/high_alt_images/M0701_img001085.jpg: 352x640 1 car, 7.9ms\n",
            "image 1458/1680 /content/drive/MyDrive/high_alt_object_detection/high_alt_test/high_alt_images/M0701_img001086.jpg: 352x640 2 cars, 7.7ms\n",
            "image 1459/1680 /content/drive/MyDrive/high_alt_object_detection/high_alt_test/high_alt_images/M0701_img001087.jpg: 352x640 1 car, 7.7ms\n",
            "image 1460/1680 /content/drive/MyDrive/high_alt_object_detection/high_alt_test/high_alt_images/M0701_img001088.jpg: 352x640 1 car, 8.2ms\n",
            "image 1461/1680 /content/drive/MyDrive/high_alt_object_detection/high_alt_test/high_alt_images/M0701_img001089.jpg: 352x640 1 car, 8.7ms\n",
            "image 1462/1680 /content/drive/MyDrive/high_alt_object_detection/high_alt_test/high_alt_images/M0701_img001090.jpg: 352x640 1 car, 8.1ms\n",
            "image 1463/1680 /content/drive/MyDrive/high_alt_object_detection/high_alt_test/high_alt_images/M0701_img001091.jpg: 352x640 1 car, 8.0ms\n",
            "image 1464/1680 /content/drive/MyDrive/high_alt_object_detection/high_alt_test/high_alt_images/M0701_img001092.jpg: 352x640 1 car, 8.2ms\n",
            "image 1465/1680 /content/drive/MyDrive/high_alt_object_detection/high_alt_test/high_alt_images/M0701_img001093.jpg: 352x640 (no detections), 9.2ms\n",
            "image 1466/1680 /content/drive/MyDrive/high_alt_object_detection/high_alt_test/high_alt_images/M0701_img001094.jpg: 352x640 1 car, 8.2ms\n",
            "image 1467/1680 /content/drive/MyDrive/high_alt_object_detection/high_alt_test/high_alt_images/M0701_img001095.jpg: 352x640 1 car, 8.3ms\n",
            "image 1468/1680 /content/drive/MyDrive/high_alt_object_detection/high_alt_test/high_alt_images/M0701_img001096.jpg: 352x640 3 cars, 8.2ms\n",
            "image 1469/1680 /content/drive/MyDrive/high_alt_object_detection/high_alt_test/high_alt_images/M0701_img001097.jpg: 352x640 1 car, 7.8ms\n",
            "image 1470/1680 /content/drive/MyDrive/high_alt_object_detection/high_alt_test/high_alt_images/M0701_img001098.jpg: 352x640 2 cars, 8.3ms\n",
            "image 1471/1680 /content/drive/MyDrive/high_alt_object_detection/high_alt_test/high_alt_images/M0701_img001099.jpg: 352x640 1 car, 7.8ms\n",
            "image 1472/1680 /content/drive/MyDrive/high_alt_object_detection/high_alt_test/high_alt_images/M0701_img001100.jpg: 352x640 1 car, 7.8ms\n",
            "image 1473/1680 /content/drive/MyDrive/high_alt_object_detection/high_alt_test/high_alt_images/M0701_img001101.jpg: 352x640 (no detections), 8.2ms\n",
            "image 1474/1680 /content/drive/MyDrive/high_alt_object_detection/high_alt_test/high_alt_images/M0701_img001102.jpg: 352x640 (no detections), 7.6ms\n",
            "image 1475/1680 /content/drive/MyDrive/high_alt_object_detection/high_alt_test/high_alt_images/M0701_img001103.jpg: 352x640 2 cars, 7.7ms\n",
            "image 1476/1680 /content/drive/MyDrive/high_alt_object_detection/high_alt_test/high_alt_images/M0701_img001104.jpg: 352x640 (no detections), 7.9ms\n",
            "image 1477/1680 /content/drive/MyDrive/high_alt_object_detection/high_alt_test/high_alt_images/M0701_img001105.jpg: 352x640 1 car, 11.0ms\n",
            "image 1478/1680 /content/drive/MyDrive/high_alt_object_detection/high_alt_test/high_alt_images/M0701_img001106.jpg: 352x640 3 cars, 10.6ms\n",
            "image 1479/1680 /content/drive/MyDrive/high_alt_object_detection/high_alt_test/high_alt_images/M0701_img001107.jpg: 352x640 3 cars, 8.0ms\n",
            "image 1480/1680 /content/drive/MyDrive/high_alt_object_detection/high_alt_test/high_alt_images/M0701_img001108.jpg: 352x640 1 car, 7.6ms\n",
            "image 1481/1680 /content/drive/MyDrive/high_alt_object_detection/high_alt_test/high_alt_images/M0701_img001109.jpg: 352x640 (no detections), 7.7ms\n",
            "image 1482/1680 /content/drive/MyDrive/high_alt_object_detection/high_alt_test/high_alt_images/M0701_img001110.jpg: 352x640 (no detections), 7.8ms\n",
            "image 1483/1680 /content/drive/MyDrive/high_alt_object_detection/high_alt_test/high_alt_images/M0701_img001111.jpg: 352x640 1 car, 7.9ms\n",
            "image 1484/1680 /content/drive/MyDrive/high_alt_object_detection/high_alt_test/high_alt_images/M0701_img001112.jpg: 352x640 2 cars, 7.8ms\n",
            "image 1485/1680 /content/drive/MyDrive/high_alt_object_detection/high_alt_test/high_alt_images/M0701_img001113.jpg: 352x640 2 cars, 8.0ms\n",
            "image 1486/1680 /content/drive/MyDrive/high_alt_object_detection/high_alt_test/high_alt_images/M0701_img001114.jpg: 352x640 2 cars, 8.1ms\n",
            "image 1487/1680 /content/drive/MyDrive/high_alt_object_detection/high_alt_test/high_alt_images/M0701_img001115.jpg: 352x640 2 cars, 9.6ms\n",
            "image 1488/1680 /content/drive/MyDrive/high_alt_object_detection/high_alt_test/high_alt_images/M0701_img001116.jpg: 352x640 2 cars, 7.9ms\n",
            "image 1489/1680 /content/drive/MyDrive/high_alt_object_detection/high_alt_test/high_alt_images/M0701_img001117.jpg: 352x640 2 cars, 7.8ms\n",
            "image 1490/1680 /content/drive/MyDrive/high_alt_object_detection/high_alt_test/high_alt_images/M0701_img001118.jpg: 352x640 2 cars, 8.1ms\n",
            "image 1491/1680 /content/drive/MyDrive/high_alt_object_detection/high_alt_test/high_alt_images/M0701_img001119.jpg: 352x640 1 car, 8.1ms\n",
            "image 1492/1680 /content/drive/MyDrive/high_alt_object_detection/high_alt_test/high_alt_images/M0701_img001120.jpg: 352x640 1 car, 8.0ms\n",
            "image 1493/1680 /content/drive/MyDrive/high_alt_object_detection/high_alt_test/high_alt_images/M0701_img001121.jpg: 352x640 1 car, 7.5ms\n",
            "image 1494/1680 /content/drive/MyDrive/high_alt_object_detection/high_alt_test/high_alt_images/M0701_img001122.jpg: 352x640 1 car, 7.4ms\n",
            "image 1495/1680 /content/drive/MyDrive/high_alt_object_detection/high_alt_test/high_alt_images/M0701_img001123.jpg: 352x640 3 cars, 7.5ms\n",
            "image 1496/1680 /content/drive/MyDrive/high_alt_object_detection/high_alt_test/high_alt_images/M0701_img001124.jpg: 352x640 3 cars, 7.6ms\n",
            "image 1497/1680 /content/drive/MyDrive/high_alt_object_detection/high_alt_test/high_alt_images/M0701_img001125.jpg: 352x640 2 cars, 7.6ms\n",
            "image 1498/1680 /content/drive/MyDrive/high_alt_object_detection/high_alt_test/high_alt_images/M0701_img001126.jpg: 352x640 1 car, 7.5ms\n",
            "image 1499/1680 /content/drive/MyDrive/high_alt_object_detection/high_alt_test/high_alt_images/M0701_img001127.jpg: 352x640 1 car, 7.6ms\n",
            "image 1500/1680 /content/drive/MyDrive/high_alt_object_detection/high_alt_test/high_alt_images/M0701_img001128.jpg: 352x640 1 car, 7.5ms\n",
            "image 1501/1680 /content/drive/MyDrive/high_alt_object_detection/high_alt_test/high_alt_images/M0701_img001129.jpg: 352x640 1 car, 8.2ms\n",
            "image 1502/1680 /content/drive/MyDrive/high_alt_object_detection/high_alt_test/high_alt_images/M0701_img001130.jpg: 352x640 2 cars, 8.4ms\n",
            "image 1503/1680 /content/drive/MyDrive/high_alt_object_detection/high_alt_test/high_alt_images/M0701_img001131.jpg: 352x640 1 car, 7.9ms\n",
            "image 1504/1680 /content/drive/MyDrive/high_alt_object_detection/high_alt_test/high_alt_images/M0701_img001132.jpg: 352x640 1 car, 9.6ms\n",
            "image 1505/1680 /content/drive/MyDrive/high_alt_object_detection/high_alt_test/high_alt_images/M0701_img001133.jpg: 352x640 2 cars, 8.5ms\n",
            "image 1506/1680 /content/drive/MyDrive/high_alt_object_detection/high_alt_test/high_alt_images/M0701_img001134.jpg: 352x640 1 car, 8.8ms\n",
            "image 1507/1680 /content/drive/MyDrive/high_alt_object_detection/high_alt_test/high_alt_images/M0701_img001135.jpg: 352x640 1 car, 8.3ms\n",
            "image 1508/1680 /content/drive/MyDrive/high_alt_object_detection/high_alt_test/high_alt_images/M0701_img001136.jpg: 352x640 2 cars, 8.4ms\n",
            "image 1509/1680 /content/drive/MyDrive/high_alt_object_detection/high_alt_test/high_alt_images/M0701_img001137.jpg: 352x640 2 cars, 9.0ms\n",
            "image 1510/1680 /content/drive/MyDrive/high_alt_object_detection/high_alt_test/high_alt_images/M0701_img001138.jpg: 352x640 2 cars, 8.1ms\n",
            "image 1511/1680 /content/drive/MyDrive/high_alt_object_detection/high_alt_test/high_alt_images/M0701_img001139.jpg: 352x640 2 cars, 8.0ms\n",
            "image 1512/1680 /content/drive/MyDrive/high_alt_object_detection/high_alt_test/high_alt_images/M0701_img001140.jpg: 352x640 2 cars, 8.4ms\n",
            "image 1513/1680 /content/drive/MyDrive/high_alt_object_detection/high_alt_test/high_alt_images/M0701_img001141.jpg: 352x640 3 cars, 8.3ms\n",
            "image 1514/1680 /content/drive/MyDrive/high_alt_object_detection/high_alt_test/high_alt_images/M0701_img001142.jpg: 352x640 3 cars, 8.2ms\n",
            "image 1515/1680 /content/drive/MyDrive/high_alt_object_detection/high_alt_test/high_alt_images/M0701_img001143.jpg: 352x640 2 cars, 8.7ms\n",
            "image 1516/1680 /content/drive/MyDrive/high_alt_object_detection/high_alt_test/high_alt_images/M0701_img001144.jpg: 352x640 2 cars, 8.4ms\n",
            "image 1517/1680 /content/drive/MyDrive/high_alt_object_detection/high_alt_test/high_alt_images/M0701_img001145.jpg: 352x640 1 car, 8.2ms\n",
            "image 1518/1680 /content/drive/MyDrive/high_alt_object_detection/high_alt_test/high_alt_images/M0701_img001146.jpg: 352x640 2 cars, 10.2ms\n",
            "image 1519/1680 /content/drive/MyDrive/high_alt_object_detection/high_alt_test/high_alt_images/M0701_img001147.jpg: 352x640 3 cars, 8.2ms\n",
            "image 1520/1680 /content/drive/MyDrive/high_alt_object_detection/high_alt_test/high_alt_images/M0701_img001148.jpg: 352x640 1 car, 8.5ms\n",
            "image 1521/1680 /content/drive/MyDrive/high_alt_object_detection/high_alt_test/high_alt_images/M0701_img001149.jpg: 352x640 2 cars, 10.2ms\n",
            "image 1522/1680 /content/drive/MyDrive/high_alt_object_detection/high_alt_test/high_alt_images/M0701_img001150.jpg: 352x640 2 cars, 9.2ms\n",
            "image 1523/1680 /content/drive/MyDrive/high_alt_object_detection/high_alt_test/high_alt_images/M0701_img001151.jpg: 352x640 2 cars, 8.4ms\n",
            "image 1524/1680 /content/drive/MyDrive/high_alt_object_detection/high_alt_test/high_alt_images/M0701_img001152.jpg: 352x640 2 cars, 7.9ms\n",
            "image 1525/1680 /content/drive/MyDrive/high_alt_object_detection/high_alt_test/high_alt_images/M0701_img001153.jpg: 352x640 3 cars, 8.3ms\n",
            "image 1526/1680 /content/drive/MyDrive/high_alt_object_detection/high_alt_test/high_alt_images/M0701_img001154.jpg: 352x640 3 cars, 8.1ms\n",
            "image 1527/1680 /content/drive/MyDrive/high_alt_object_detection/high_alt_test/high_alt_images/M0701_img001155.jpg: 352x640 1 car, 8.4ms\n",
            "image 1528/1680 /content/drive/MyDrive/high_alt_object_detection/high_alt_test/high_alt_images/M0701_img001156.jpg: 352x640 1 car, 8.1ms\n",
            "image 1529/1680 /content/drive/MyDrive/high_alt_object_detection/high_alt_test/high_alt_images/M0701_img001157.jpg: 352x640 2 cars, 8.3ms\n",
            "image 1530/1680 /content/drive/MyDrive/high_alt_object_detection/high_alt_test/high_alt_images/M0701_img001158.jpg: 352x640 2 cars, 7.8ms\n",
            "image 1531/1680 /content/drive/MyDrive/high_alt_object_detection/high_alt_test/high_alt_images/M0701_img001159.jpg: 352x640 2 cars, 8.7ms\n",
            "image 1532/1680 /content/drive/MyDrive/high_alt_object_detection/high_alt_test/high_alt_images/M0701_img001160.jpg: 352x640 2 cars, 8.1ms\n",
            "image 1533/1680 /content/drive/MyDrive/high_alt_object_detection/high_alt_test/high_alt_images/M0701_img001161.jpg: 352x640 2 cars, 9.9ms\n",
            "image 1534/1680 /content/drive/MyDrive/high_alt_object_detection/high_alt_test/high_alt_images/M0701_img001162.jpg: 352x640 2 cars, 8.3ms\n",
            "image 1535/1680 /content/drive/MyDrive/high_alt_object_detection/high_alt_test/high_alt_images/M0701_img001163.jpg: 352x640 2 cars, 8.8ms\n",
            "image 1536/1680 /content/drive/MyDrive/high_alt_object_detection/high_alt_test/high_alt_images/M0701_img001164.jpg: 352x640 3 cars, 8.6ms\n",
            "image 1537/1680 /content/drive/MyDrive/high_alt_object_detection/high_alt_test/high_alt_images/M0701_img001165.jpg: 352x640 2 cars, 8.3ms\n",
            "image 1538/1680 /content/drive/MyDrive/high_alt_object_detection/high_alt_test/high_alt_images/M0701_img001166.jpg: 352x640 1 car, 8.0ms\n",
            "image 1539/1680 /content/drive/MyDrive/high_alt_object_detection/high_alt_test/high_alt_images/M0701_img001167.jpg: 352x640 1 car, 8.6ms\n",
            "image 1540/1680 /content/drive/MyDrive/high_alt_object_detection/high_alt_test/high_alt_images/M0701_img001168.jpg: 352x640 2 cars, 8.4ms\n",
            "image 1541/1680 /content/drive/MyDrive/high_alt_object_detection/high_alt_test/high_alt_images/M0701_img001169.jpg: 352x640 1 car, 8.3ms\n",
            "image 1542/1680 /content/drive/MyDrive/high_alt_object_detection/high_alt_test/high_alt_images/M0701_img001170.jpg: 352x640 (no detections), 8.4ms\n",
            "image 1543/1680 /content/drive/MyDrive/high_alt_object_detection/high_alt_test/high_alt_images/M0701_img001171.jpg: 352x640 1 car, 8.2ms\n",
            "image 1544/1680 /content/drive/MyDrive/high_alt_object_detection/high_alt_test/high_alt_images/M0701_img001172.jpg: 352x640 (no detections), 8.1ms\n",
            "image 1545/1680 /content/drive/MyDrive/high_alt_object_detection/high_alt_test/high_alt_images/M0701_img001173.jpg: 352x640 1 car, 7.9ms\n",
            "image 1546/1680 /content/drive/MyDrive/high_alt_object_detection/high_alt_test/high_alt_images/M0701_img001174.jpg: 352x640 1 car, 7.8ms\n",
            "image 1547/1680 /content/drive/MyDrive/high_alt_object_detection/high_alt_test/high_alt_images/M0701_img001175.jpg: 352x640 1 car, 7.9ms\n",
            "image 1548/1680 /content/drive/MyDrive/high_alt_object_detection/high_alt_test/high_alt_images/M0701_img001176.jpg: 352x640 1 car, 8.1ms\n",
            "image 1549/1680 /content/drive/MyDrive/high_alt_object_detection/high_alt_test/high_alt_images/M0701_img001177.jpg: 352x640 1 car, 8.3ms\n",
            "image 1550/1680 /content/drive/MyDrive/high_alt_object_detection/high_alt_test/high_alt_images/M0701_img001178.jpg: 352x640 1 car, 8.0ms\n",
            "image 1551/1680 /content/drive/MyDrive/high_alt_object_detection/high_alt_test/high_alt_images/M0701_img001179.jpg: 352x640 1 car, 7.9ms\n",
            "image 1552/1680 /content/drive/MyDrive/high_alt_object_detection/high_alt_test/high_alt_images/M0701_img001180.jpg: 352x640 1 car, 8.2ms\n",
            "image 1553/1680 /content/drive/MyDrive/high_alt_object_detection/high_alt_test/high_alt_images/M0701_img001181.jpg: 352x640 1 car, 7.8ms\n",
            "image 1554/1680 /content/drive/MyDrive/high_alt_object_detection/high_alt_test/high_alt_images/M0701_img001182.jpg: 352x640 2 cars, 8.2ms\n",
            "image 1555/1680 /content/drive/MyDrive/high_alt_object_detection/high_alt_test/high_alt_images/M0701_img001183.jpg: 352x640 1 car, 7.9ms\n",
            "image 1556/1680 /content/drive/MyDrive/high_alt_object_detection/high_alt_test/high_alt_images/M0701_img001184.jpg: 352x640 1 car, 7.8ms\n",
            "image 1557/1680 /content/drive/MyDrive/high_alt_object_detection/high_alt_test/high_alt_images/M0701_img001185.jpg: 352x640 2 cars, 7.9ms\n",
            "image 1558/1680 /content/drive/MyDrive/high_alt_object_detection/high_alt_test/high_alt_images/M0701_img001186.jpg: 352x640 (no detections), 7.7ms\n",
            "image 1559/1680 /content/drive/MyDrive/high_alt_object_detection/high_alt_test/high_alt_images/M0701_img001187.jpg: 352x640 (no detections), 8.0ms\n",
            "image 1560/1680 /content/drive/MyDrive/high_alt_object_detection/high_alt_test/high_alt_images/M0701_img001188.jpg: 352x640 1 car, 7.7ms\n",
            "image 1561/1680 /content/drive/MyDrive/high_alt_object_detection/high_alt_test/high_alt_images/M0701_img001189.jpg: 352x640 1 car, 9.7ms\n",
            "image 1562/1680 /content/drive/MyDrive/high_alt_object_detection/high_alt_test/high_alt_images/M0701_img001190.jpg: 352x640 2 cars, 7.8ms\n",
            "image 1563/1680 /content/drive/MyDrive/high_alt_object_detection/high_alt_test/high_alt_images/M0701_img001191.jpg: 352x640 1 car, 7.8ms\n",
            "image 1564/1680 /content/drive/MyDrive/high_alt_object_detection/high_alt_test/high_alt_images/M0701_img001192.jpg: 352x640 1 car, 8.2ms\n",
            "image 1565/1680 /content/drive/MyDrive/high_alt_object_detection/high_alt_test/high_alt_images/M0701_img001193.jpg: 352x640 1 car, 8.2ms\n",
            "image 1566/1680 /content/drive/MyDrive/high_alt_object_detection/high_alt_test/high_alt_images/M0701_img001194.jpg: 352x640 2 cars, 9.3ms\n",
            "image 1567/1680 /content/drive/MyDrive/high_alt_object_detection/high_alt_test/high_alt_images/M0701_img001195.jpg: 352x640 2 cars, 8.3ms\n",
            "image 1568/1680 /content/drive/MyDrive/high_alt_object_detection/high_alt_test/high_alt_images/M0701_img001196.jpg: 352x640 2 cars, 7.9ms\n",
            "image 1569/1680 /content/drive/MyDrive/high_alt_object_detection/high_alt_test/high_alt_images/M0701_img001197.jpg: 352x640 2 cars, 7.9ms\n",
            "image 1570/1680 /content/drive/MyDrive/high_alt_object_detection/high_alt_test/high_alt_images/M0701_img001198.jpg: 352x640 1 car, 8.2ms\n",
            "image 1571/1680 /content/drive/MyDrive/high_alt_object_detection/high_alt_test/high_alt_images/M0701_img001199.jpg: 352x640 2 cars, 7.7ms\n",
            "image 1572/1680 /content/drive/MyDrive/high_alt_object_detection/high_alt_test/high_alt_images/M0701_img001200.jpg: 352x640 3 cars, 7.9ms\n",
            "image 1573/1680 /content/drive/MyDrive/high_alt_object_detection/high_alt_test/high_alt_images/M0701_img001201.jpg: 352x640 4 cars, 8.1ms\n",
            "image 1574/1680 /content/drive/MyDrive/high_alt_object_detection/high_alt_test/high_alt_images/M0701_img001202.jpg: 352x640 3 cars, 8.1ms\n",
            "image 1575/1680 /content/drive/MyDrive/high_alt_object_detection/high_alt_test/high_alt_images/M0701_img001203.jpg: 352x640 2 cars, 7.9ms\n",
            "image 1576/1680 /content/drive/MyDrive/high_alt_object_detection/high_alt_test/high_alt_images/M0701_img001204.jpg: 352x640 3 cars, 8.2ms\n",
            "image 1577/1680 /content/drive/MyDrive/high_alt_object_detection/high_alt_test/high_alt_images/M0701_img001205.jpg: 352x640 3 cars, 8.3ms\n",
            "image 1578/1680 /content/drive/MyDrive/high_alt_object_detection/high_alt_test/high_alt_images/M0701_img001206.jpg: 352x640 4 cars, 8.1ms\n",
            "image 1579/1680 /content/drive/MyDrive/high_alt_object_detection/high_alt_test/high_alt_images/M0701_img001207.jpg: 352x640 4 cars, 7.8ms\n",
            "image 1580/1680 /content/drive/MyDrive/high_alt_object_detection/high_alt_test/high_alt_images/M0701_img001208.jpg: 352x640 5 cars, 8.2ms\n",
            "image 1581/1680 /content/drive/MyDrive/high_alt_object_detection/high_alt_test/high_alt_images/M0701_img001209.jpg: 352x640 6 cars, 8.1ms\n",
            "image 1582/1680 /content/drive/MyDrive/high_alt_object_detection/high_alt_test/high_alt_images/M0701_img001210.jpg: 352x640 6 cars, 7.8ms\n",
            "image 1583/1680 /content/drive/MyDrive/high_alt_object_detection/high_alt_test/high_alt_images/M0701_img001211.jpg: 352x640 4 cars, 7.9ms\n",
            "image 1584/1680 /content/drive/MyDrive/high_alt_object_detection/high_alt_test/high_alt_images/M0701_img001212.jpg: 352x640 5 cars, 8.2ms\n",
            "image 1585/1680 /content/drive/MyDrive/high_alt_object_detection/high_alt_test/high_alt_images/M0701_img001213.jpg: 352x640 5 cars, 8.2ms\n",
            "image 1586/1680 /content/drive/MyDrive/high_alt_object_detection/high_alt_test/high_alt_images/M0701_img001214.jpg: 352x640 6 cars, 7.8ms\n",
            "image 1587/1680 /content/drive/MyDrive/high_alt_object_detection/high_alt_test/high_alt_images/M0701_img001215.jpg: 352x640 6 cars, 8.0ms\n",
            "image 1588/1680 /content/drive/MyDrive/high_alt_object_detection/high_alt_test/high_alt_images/M0701_img001216.jpg: 352x640 5 cars, 8.3ms\n",
            "image 1589/1680 /content/drive/MyDrive/high_alt_object_detection/high_alt_test/high_alt_images/M0701_img001217.jpg: 352x640 5 cars, 8.0ms\n",
            "image 1590/1680 /content/drive/MyDrive/high_alt_object_detection/high_alt_test/high_alt_images/M0701_img001218.jpg: 352x640 5 cars, 8.2ms\n",
            "image 1591/1680 /content/drive/MyDrive/high_alt_object_detection/high_alt_test/high_alt_images/M0701_img001219.jpg: 352x640 6 cars, 8.3ms\n",
            "image 1592/1680 /content/drive/MyDrive/high_alt_object_detection/high_alt_test/high_alt_images/M0701_img001220.jpg: 352x640 4 cars, 8.3ms\n",
            "image 1593/1680 /content/drive/MyDrive/high_alt_object_detection/high_alt_test/high_alt_images/M0701_img001221.jpg: 352x640 5 cars, 8.3ms\n",
            "image 1594/1680 /content/drive/MyDrive/high_alt_object_detection/high_alt_test/high_alt_images/M0701_img001222.jpg: 352x640 5 cars, 8.0ms\n",
            "image 1595/1680 /content/drive/MyDrive/high_alt_object_detection/high_alt_test/high_alt_images/M0701_img001223.jpg: 352x640 2 cars, 8.1ms\n",
            "image 1596/1680 /content/drive/MyDrive/high_alt_object_detection/high_alt_test/high_alt_images/M0701_img001224.jpg: 352x640 4 cars, 7.8ms\n",
            "image 1597/1680 /content/drive/MyDrive/high_alt_object_detection/high_alt_test/high_alt_images/M0701_img001225.jpg: 352x640 4 cars, 7.9ms\n",
            "image 1598/1680 /content/drive/MyDrive/high_alt_object_detection/high_alt_test/high_alt_images/M0701_img001226.jpg: 352x640 4 cars, 8.4ms\n",
            "image 1599/1680 /content/drive/MyDrive/high_alt_object_detection/high_alt_test/high_alt_images/M0701_img001227.jpg: 352x640 5 cars, 7.9ms\n",
            "image 1600/1680 /content/drive/MyDrive/high_alt_object_detection/high_alt_test/high_alt_images/M0701_img001228.jpg: 352x640 6 cars, 7.8ms\n",
            "image 1601/1680 /content/drive/MyDrive/high_alt_object_detection/high_alt_test/high_alt_images/M0701_img001229.jpg: 352x640 6 cars, 8.0ms\n",
            "image 1602/1680 /content/drive/MyDrive/high_alt_object_detection/high_alt_test/high_alt_images/M0701_img001230.jpg: 352x640 6 cars, 7.8ms\n",
            "image 1603/1680 /content/drive/MyDrive/high_alt_object_detection/high_alt_test/high_alt_images/M0701_img001231.jpg: 352x640 5 cars, 8.0ms\n",
            "image 1604/1680 /content/drive/MyDrive/high_alt_object_detection/high_alt_test/high_alt_images/M0701_img001232.jpg: 352x640 5 cars, 8.1ms\n",
            "image 1605/1680 /content/drive/MyDrive/high_alt_object_detection/high_alt_test/high_alt_images/M0701_img001233.jpg: 352x640 5 cars, 8.4ms\n",
            "image 1606/1680 /content/drive/MyDrive/high_alt_object_detection/high_alt_test/high_alt_images/M0701_img001234.jpg: 352x640 5 cars, 8.2ms\n",
            "image 1607/1680 /content/drive/MyDrive/high_alt_object_detection/high_alt_test/high_alt_images/M0701_img001235.jpg: 352x640 4 cars, 8.3ms\n",
            "image 1608/1680 /content/drive/MyDrive/high_alt_object_detection/high_alt_test/high_alt_images/M0701_img001236.jpg: 352x640 6 cars, 8.5ms\n",
            "image 1609/1680 /content/drive/MyDrive/high_alt_object_detection/high_alt_test/high_alt_images/M0701_img001237.jpg: 352x640 6 cars, 8.3ms\n",
            "image 1610/1680 /content/drive/MyDrive/high_alt_object_detection/high_alt_test/high_alt_images/M0701_img001238.jpg: 352x640 6 cars, 8.4ms\n",
            "image 1611/1680 /content/drive/MyDrive/high_alt_object_detection/high_alt_test/high_alt_images/M0701_img001239.jpg: 352x640 6 cars, 8.0ms\n",
            "image 1612/1680 /content/drive/MyDrive/high_alt_object_detection/high_alt_test/high_alt_images/M0701_img001240.jpg: 352x640 5 cars, 8.2ms\n",
            "image 1613/1680 /content/drive/MyDrive/high_alt_object_detection/high_alt_test/high_alt_images/M0701_img001241.jpg: 352x640 5 cars, 8.5ms\n",
            "image 1614/1680 /content/drive/MyDrive/high_alt_object_detection/high_alt_test/high_alt_images/M0701_img001242.jpg: 352x640 4 cars, 8.4ms\n",
            "image 1615/1680 /content/drive/MyDrive/high_alt_object_detection/high_alt_test/high_alt_images/M0701_img001243.jpg: 352x640 4 cars, 7.9ms\n",
            "image 1616/1680 /content/drive/MyDrive/high_alt_object_detection/high_alt_test/high_alt_images/M0701_img001244.jpg: 352x640 5 cars, 8.1ms\n",
            "image 1617/1680 /content/drive/MyDrive/high_alt_object_detection/high_alt_test/high_alt_images/M0701_img001245.jpg: 352x640 5 cars, 7.8ms\n",
            "image 1618/1680 /content/drive/MyDrive/high_alt_object_detection/high_alt_test/high_alt_images/M0701_img001246.jpg: 352x640 3 cars, 7.8ms\n",
            "image 1619/1680 /content/drive/MyDrive/high_alt_object_detection/high_alt_test/high_alt_images/M0701_img001247.jpg: 352x640 5 cars, 8.0ms\n",
            "image 1620/1680 /content/drive/MyDrive/high_alt_object_detection/high_alt_test/high_alt_images/M0701_img001248.jpg: 352x640 7 cars, 8.1ms\n",
            "image 1621/1680 /content/drive/MyDrive/high_alt_object_detection/high_alt_test/high_alt_images/M0701_img001249.jpg: 352x640 2 cars, 7.8ms\n",
            "image 1622/1680 /content/drive/MyDrive/high_alt_object_detection/high_alt_test/high_alt_images/M0701_img001250.jpg: 352x640 3 cars, 7.8ms\n",
            "image 1623/1680 /content/drive/MyDrive/high_alt_object_detection/high_alt_test/high_alt_images/M0701_img001251.jpg: 352x640 7 cars, 7.9ms\n",
            "image 1624/1680 /content/drive/MyDrive/high_alt_object_detection/high_alt_test/high_alt_images/M0701_img001252.jpg: 352x640 5 cars, 7.9ms\n",
            "image 1625/1680 /content/drive/MyDrive/high_alt_object_detection/high_alt_test/high_alt_images/M0701_img001253.jpg: 352x640 8 cars, 7.7ms\n",
            "image 1626/1680 /content/drive/MyDrive/high_alt_object_detection/high_alt_test/high_alt_images/M0701_img001254.jpg: 352x640 6 cars, 7.7ms\n",
            "image 1627/1680 /content/drive/MyDrive/high_alt_object_detection/high_alt_test/high_alt_images/M0701_img001255.jpg: 352x640 6 cars, 7.9ms\n",
            "image 1628/1680 /content/drive/MyDrive/high_alt_object_detection/high_alt_test/high_alt_images/M0701_img001256.jpg: 352x640 4 cars, 7.6ms\n",
            "image 1629/1680 /content/drive/MyDrive/high_alt_object_detection/high_alt_test/high_alt_images/M0701_img001257.jpg: 352x640 8 cars, 7.6ms\n",
            "image 1630/1680 /content/drive/MyDrive/high_alt_object_detection/high_alt_test/high_alt_images/M0701_img001258.jpg: 352x640 4 cars, 8.1ms\n",
            "image 1631/1680 /content/drive/MyDrive/high_alt_object_detection/high_alt_test/high_alt_images/M0701_img001259.jpg: 352x640 6 cars, 7.7ms\n",
            "image 1632/1680 /content/drive/MyDrive/high_alt_object_detection/high_alt_test/high_alt_images/M0701_img001260.jpg: 352x640 3 cars, 8.1ms\n",
            "image 1633/1680 /content/drive/MyDrive/high_alt_object_detection/high_alt_test/high_alt_images/M0701_img001261.jpg: 352x640 5 cars, 7.6ms\n",
            "image 1634/1680 /content/drive/MyDrive/high_alt_object_detection/high_alt_test/high_alt_images/M0701_img001262.jpg: 352x640 6 cars, 9.0ms\n",
            "image 1635/1680 /content/drive/MyDrive/high_alt_object_detection/high_alt_test/high_alt_images/M0701_img001263.jpg: 352x640 6 cars, 7.7ms\n",
            "image 1636/1680 /content/drive/MyDrive/high_alt_object_detection/high_alt_test/high_alt_images/M0701_img001264.jpg: 352x640 5 cars, 7.7ms\n",
            "image 1637/1680 /content/drive/MyDrive/high_alt_object_detection/high_alt_test/high_alt_images/M0701_img001265.jpg: 352x640 2 cars, 7.6ms\n",
            "image 1638/1680 /content/drive/MyDrive/high_alt_object_detection/high_alt_test/high_alt_images/M0701_img001266.jpg: 352x640 5 cars, 9.3ms\n",
            "image 1639/1680 /content/drive/MyDrive/high_alt_object_detection/high_alt_test/high_alt_images/M0701_img001267.jpg: 352x640 4 cars, 7.7ms\n",
            "image 1640/1680 /content/drive/MyDrive/high_alt_object_detection/high_alt_test/high_alt_images/M0701_img001268.jpg: 352x640 5 cars, 7.9ms\n",
            "image 1641/1680 /content/drive/MyDrive/high_alt_object_detection/high_alt_test/high_alt_images/M0701_img001269.jpg: 352x640 4 cars, 7.8ms\n",
            "image 1642/1680 /content/drive/MyDrive/high_alt_object_detection/high_alt_test/high_alt_images/M0701_img001270.jpg: 352x640 5 cars, 8.1ms\n",
            "image 1643/1680 /content/drive/MyDrive/high_alt_object_detection/high_alt_test/high_alt_images/M0701_img001271.jpg: 352x640 5 cars, 8.1ms\n",
            "image 1644/1680 /content/drive/MyDrive/high_alt_object_detection/high_alt_test/high_alt_images/M0701_img001272.jpg: 352x640 4 cars, 7.7ms\n",
            "image 1645/1680 /content/drive/MyDrive/high_alt_object_detection/high_alt_test/high_alt_images/M0701_img001273.jpg: 352x640 5 cars, 8.0ms\n",
            "image 1646/1680 /content/drive/MyDrive/high_alt_object_detection/high_alt_test/high_alt_images/M0701_img001274.jpg: 352x640 4 cars, 8.4ms\n",
            "image 1647/1680 /content/drive/MyDrive/high_alt_object_detection/high_alt_test/high_alt_images/M0701_img001275.jpg: 352x640 5 cars, 8.1ms\n",
            "image 1648/1680 /content/drive/MyDrive/high_alt_object_detection/high_alt_test/high_alt_images/M0701_img001276.jpg: 352x640 5 cars, 8.2ms\n",
            "image 1649/1680 /content/drive/MyDrive/high_alt_object_detection/high_alt_test/high_alt_images/M0701_img001277.jpg: 352x640 4 cars, 7.7ms\n",
            "image 1650/1680 /content/drive/MyDrive/high_alt_object_detection/high_alt_test/high_alt_images/M0701_img001278.jpg: 352x640 4 cars, 8.1ms\n",
            "image 1651/1680 /content/drive/MyDrive/high_alt_object_detection/high_alt_test/high_alt_images/M0701_img001279.jpg: 352x640 5 cars, 7.8ms\n",
            "image 1652/1680 /content/drive/MyDrive/high_alt_object_detection/high_alt_test/high_alt_images/M0701_img001280.jpg: 352x640 5 cars, 7.7ms\n",
            "image 1653/1680 /content/drive/MyDrive/high_alt_object_detection/high_alt_test/high_alt_images/M0701_img001281.jpg: 352x640 3 cars, 8.2ms\n",
            "image 1654/1680 /content/drive/MyDrive/high_alt_object_detection/high_alt_test/high_alt_images/M0701_img001282.jpg: 352x640 3 cars, 7.9ms\n",
            "image 1655/1680 /content/drive/MyDrive/high_alt_object_detection/high_alt_test/high_alt_images/M0701_img001283.jpg: 352x640 3 cars, 8.0ms\n",
            "image 1656/1680 /content/drive/MyDrive/high_alt_object_detection/high_alt_test/high_alt_images/M0701_img001284.jpg: 352x640 4 cars, 7.7ms\n",
            "image 1657/1680 /content/drive/MyDrive/high_alt_object_detection/high_alt_test/high_alt_images/M0701_img001285.jpg: 352x640 4 cars, 8.1ms\n",
            "image 1658/1680 /content/drive/MyDrive/high_alt_object_detection/high_alt_test/high_alt_images/M0701_img001286.jpg: 352x640 4 cars, 7.9ms\n",
            "image 1659/1680 /content/drive/MyDrive/high_alt_object_detection/high_alt_test/high_alt_images/M0701_img001287.jpg: 352x640 3 cars, 8.1ms\n",
            "image 1660/1680 /content/drive/MyDrive/high_alt_object_detection/high_alt_test/high_alt_images/M0701_img001288.jpg: 352x640 4 cars, 8.5ms\n",
            "image 1661/1680 /content/drive/MyDrive/high_alt_object_detection/high_alt_test/high_alt_images/M0701_img001289.jpg: 352x640 5 cars, 8.4ms\n",
            "image 1662/1680 /content/drive/MyDrive/high_alt_object_detection/high_alt_test/high_alt_images/M0701_img001290.jpg: 352x640 6 cars, 8.2ms\n",
            "image 1663/1680 /content/drive/MyDrive/high_alt_object_detection/high_alt_test/high_alt_images/M0701_img001291.jpg: 352x640 5 cars, 8.3ms\n",
            "image 1664/1680 /content/drive/MyDrive/high_alt_object_detection/high_alt_test/high_alt_images/M0701_img001292.jpg: 352x640 5 cars, 8.4ms\n",
            "image 1665/1680 /content/drive/MyDrive/high_alt_object_detection/high_alt_test/high_alt_images/M0701_img001293.jpg: 352x640 5 cars, 8.3ms\n",
            "image 1666/1680 /content/drive/MyDrive/high_alt_object_detection/high_alt_test/high_alt_images/M0701_img001294.jpg: 352x640 8 cars, 8.0ms\n",
            "image 1667/1680 /content/drive/MyDrive/high_alt_object_detection/high_alt_test/high_alt_images/M0701_img001295.jpg: 352x640 7 cars, 8.0ms\n",
            "image 1668/1680 /content/drive/MyDrive/high_alt_object_detection/high_alt_test/high_alt_images/M0701_img001296.jpg: 352x640 5 cars, 7.8ms\n",
            "image 1669/1680 /content/drive/MyDrive/high_alt_object_detection/high_alt_test/high_alt_images/M0701_img001297.jpg: 352x640 7 cars, 8.4ms\n",
            "image 1670/1680 /content/drive/MyDrive/high_alt_object_detection/high_alt_test/high_alt_images/M0701_img001298.jpg: 352x640 7 cars, 8.4ms\n",
            "image 1671/1680 /content/drive/MyDrive/high_alt_object_detection/high_alt_test/high_alt_images/M0701_img001299.jpg: 352x640 8 cars, 8.3ms\n",
            "image 1672/1680 /content/drive/MyDrive/high_alt_object_detection/high_alt_test/high_alt_images/M0701_img001300.jpg: 352x640 6 cars, 8.0ms\n",
            "image 1673/1680 /content/drive/MyDrive/high_alt_object_detection/high_alt_test/high_alt_images/M0701_img001301.jpg: 352x640 8 cars, 7.9ms\n",
            "image 1674/1680 /content/drive/MyDrive/high_alt_object_detection/high_alt_test/high_alt_images/M0701_img001302.jpg: 352x640 7 cars, 8.2ms\n",
            "image 1675/1680 /content/drive/MyDrive/high_alt_object_detection/high_alt_test/high_alt_images/M0701_img001303.jpg: 352x640 7 cars, 8.3ms\n",
            "image 1676/1680 /content/drive/MyDrive/high_alt_object_detection/high_alt_test/high_alt_images/M0701_img001304.jpg: 352x640 6 cars, 8.1ms\n",
            "image 1677/1680 /content/drive/MyDrive/high_alt_object_detection/high_alt_test/high_alt_images/M0701_img001305.jpg: 352x640 8 cars, 7.8ms\n",
            "image 1678/1680 /content/drive/MyDrive/high_alt_object_detection/high_alt_test/high_alt_images/M0701_img001306.jpg: 352x640 8 cars, 8.0ms\n",
            "image 1679/1680 /content/drive/MyDrive/high_alt_object_detection/high_alt_test/high_alt_images/M0701_img001307.jpg: 352x640 8 cars, 8.0ms\n",
            "image 1680/1680 /content/drive/MyDrive/high_alt_object_detection/high_alt_test/high_alt_images/M0701_img001308.jpg: 352x640 8 cars, 8.2ms\n",
            "Speed: 2.1ms preprocess, 8.2ms inference, 1.2ms postprocess per image at shape (1, 3, 352, 640)\n",
            "Results saved to \u001b[1mruns/detect/predict2\u001b[0m\n",
            "Precision, Recall ve mAP metrikleri:\n"
          ]
        },
        {
          "output_type": "error",
          "ename": "AttributeError",
          "evalue": "'Results' object has no attribute 'pandas'. See valid attributes below.\n\n    A class for storing and manipulating inference results.\n\n    This class encapsulates the functionality for handling detection, segmentation, pose estimation,\n    and classification results from YOLO models.\n\n    Attributes:\n        orig_img (numpy.ndarray): Original image as a numpy array.\n        orig_shape (Tuple[int, int]): Original image shape in (height, width) format.\n        boxes (Boxes | None): Object containing detection bounding boxes.\n        masks (Masks | None): Object containing detection masks.\n        probs (Probs | None): Object containing class probabilities for classification tasks.\n        keypoints (Keypoints | None): Object containing detected keypoints for each object.\n        obb (OBB | None): Object containing oriented bounding boxes.\n        speed (Dict[str, float | None]): Dictionary of preprocess, inference, and postprocess speeds.\n        names (Dict[int, str]): Dictionary mapping class IDs to class names.\n        path (str): Path to the image file.\n        _keys (Tuple[str, ...]): Tuple of attribute names for internal use.\n\n    Methods:\n        update: Updates object attributes with new detection results.\n        cpu: Returns a copy of the Results object with all tensors on CPU memory.\n        numpy: Returns a copy of the Results object with all tensors as numpy arrays.\n        cuda: Returns a copy of the Results object with all tensors on GPU memory.\n        to: Returns a copy of the Results object with tensors on a specified device and dtype.\n        new: Returns a new Results object with the same image, path, and names.\n        plot: Plots detection results on an input image, returning an annotated image.\n        show: Shows annotated results on screen.\n        save: Saves annotated results to file.\n        verbose: Returns a log string for each task, detailing detections and classifications.\n        save_txt: Saves detection results to a text file.\n        save_crop: Saves cropped detection images.\n        tojson: Converts detection results to JSON format.\n\n    Examples:\n        >>> results = model(\"path/to/image.jpg\")\n        >>> for result in results:\n        ...     print(result.boxes)  # Print detection boxes\n        ...     result.show()  # Display the annotated image\n        ...     result.save(filename=\"result.jpg\")  # Save annotated image\n    ",
          "traceback": [
            "\u001b[0;31m---------------------------------------------------------------------------\u001b[0m",
            "\u001b[0;31mAttributeError\u001b[0m                            Traceback (most recent call last)",
            "\u001b[0;32m<ipython-input-25-02aa5bb69ab6>\u001b[0m in \u001b[0;36m<cell line: 0>\u001b[0;34m()\u001b[0m\n\u001b[1;32m     22\u001b[0m \u001b[0;32mif\u001b[0m \u001b[0mall_results\u001b[0m\u001b[0;34m:\u001b[0m\u001b[0;34m\u001b[0m\u001b[0;34m\u001b[0m\u001b[0m\n\u001b[1;32m     23\u001b[0m     \u001b[0mfirst_result\u001b[0m \u001b[0;34m=\u001b[0m \u001b[0mall_results\u001b[0m\u001b[0;34m[\u001b[0m\u001b[0;36m0\u001b[0m\u001b[0;34m]\u001b[0m\u001b[0;34m\u001b[0m\u001b[0;34m\u001b[0m\u001b[0m\n\u001b[0;32m---> 24\u001b[0;31m     \u001b[0mprint\u001b[0m\u001b[0;34m(\u001b[0m\u001b[0;34m\"Precision: \"\u001b[0m\u001b[0;34m,\u001b[0m \u001b[0mfirst_result\u001b[0m\u001b[0;34m.\u001b[0m\u001b[0mpandas\u001b[0m\u001b[0;34m(\u001b[0m\u001b[0;34m)\u001b[0m\u001b[0;34m.\u001b[0m\u001b[0mxyxy\u001b[0m\u001b[0;34m[\u001b[0m\u001b[0;34m'confidence'\u001b[0m\u001b[0;34m]\u001b[0m\u001b[0;34m)\u001b[0m \u001b[0;31m# .xywh yerine .xyxy kullan\u001b[0m\u001b[0;34m\u001b[0m\u001b[0;34m\u001b[0m\u001b[0m\n\u001b[0m\u001b[1;32m     25\u001b[0m     \u001b[0mprint\u001b[0m\u001b[0;34m(\u001b[0m\u001b[0;34m\"Recall: \"\u001b[0m\u001b[0;34m,\u001b[0m \u001b[0mfirst_result\u001b[0m\u001b[0;34m.\u001b[0m\u001b[0mpandas\u001b[0m\u001b[0;34m(\u001b[0m\u001b[0;34m)\u001b[0m\u001b[0;34m.\u001b[0m\u001b[0mxyxy\u001b[0m\u001b[0;34m[\u001b[0m\u001b[0;34m'confidence'\u001b[0m\u001b[0;34m]\u001b[0m\u001b[0;34m)\u001b[0m    \u001b[0;31m# .xywh yerine .xyxy kullan\u001b[0m\u001b[0;34m\u001b[0m\u001b[0;34m\u001b[0m\u001b[0m\n\u001b[1;32m     26\u001b[0m     \u001b[0mprint\u001b[0m\u001b[0;34m(\u001b[0m\u001b[0;34m\"mAP50: \"\u001b[0m\u001b[0;34m,\u001b[0m \u001b[0mfirst_result\u001b[0m\u001b[0;34m.\u001b[0m\u001b[0mmetrics\u001b[0m\u001b[0;34m[\u001b[0m\u001b[0;34m'mAP50'\u001b[0m\u001b[0;34m]\u001b[0m\u001b[0;34m)\u001b[0m\u001b[0;34m\u001b[0m\u001b[0;34m\u001b[0m\u001b[0m\n",
            "\u001b[0;32m/usr/local/lib/python3.11/dist-packages/ultralytics/utils/__init__.py\u001b[0m in \u001b[0;36m__getattr__\u001b[0;34m(self, attr)\u001b[0m\n\u001b[1;32m    237\u001b[0m         \u001b[0;34m\"\"\"Custom attribute access error message with helpful information.\"\"\"\u001b[0m\u001b[0;34m\u001b[0m\u001b[0;34m\u001b[0m\u001b[0m\n\u001b[1;32m    238\u001b[0m         \u001b[0mname\u001b[0m \u001b[0;34m=\u001b[0m \u001b[0mself\u001b[0m\u001b[0;34m.\u001b[0m\u001b[0m__class__\u001b[0m\u001b[0;34m.\u001b[0m\u001b[0m__name__\u001b[0m\u001b[0;34m\u001b[0m\u001b[0;34m\u001b[0m\u001b[0m\n\u001b[0;32m--> 239\u001b[0;31m         \u001b[0;32mraise\u001b[0m \u001b[0mAttributeError\u001b[0m\u001b[0;34m(\u001b[0m\u001b[0;34mf\"'{name}' object has no attribute '{attr}'. See valid attributes below.\\n{self.__doc__}\"\u001b[0m\u001b[0;34m)\u001b[0m\u001b[0;34m\u001b[0m\u001b[0;34m\u001b[0m\u001b[0m\n\u001b[0m\u001b[1;32m    240\u001b[0m \u001b[0;34m\u001b[0m\u001b[0m\n\u001b[1;32m    241\u001b[0m \u001b[0;34m\u001b[0m\u001b[0m\n",
            "\u001b[0;31mAttributeError\u001b[0m: 'Results' object has no attribute 'pandas'. See valid attributes below.\n\n    A class for storing and manipulating inference results.\n\n    This class encapsulates the functionality for handling detection, segmentation, pose estimation,\n    and classification results from YOLO models.\n\n    Attributes:\n        orig_img (numpy.ndarray): Original image as a numpy array.\n        orig_shape (Tuple[int, int]): Original image shape in (height, width) format.\n        boxes (Boxes | None): Object containing detection bounding boxes.\n        masks (Masks | None): Object containing detection masks.\n        probs (Probs | None): Object containing class probabilities for classification tasks.\n        keypoints (Keypoints | None): Object containing detected keypoints for each object.\n        obb (OBB | None): Object containing oriented bounding boxes.\n        speed (Dict[str, float | None]): Dictionary of preprocess, inference, and postprocess speeds.\n        names (Dict[int, str]): Dictionary mapping class IDs to class names.\n        path (str): Path to the image file.\n        _keys (Tuple[str, ...]): Tuple of attribute names for internal use.\n\n    Methods:\n        update: Updates object attributes with new detection results.\n        cpu: Returns a copy of the Results object with all tensors on CPU memory.\n        numpy: Returns a copy of the Results object with all tensors as numpy arrays.\n        cuda: Returns a copy of the Results object with all tensors on GPU memory.\n        to: Returns a copy of the Results object with tensors on a specified device and dtype.\n        new: Returns a new Results object with the same image, path, and names.\n        plot: Plots detection results on an input image, returning an annotated image.\n        show: Shows annotated results on screen.\n        save: Saves annotated results to file.\n        verbose: Returns a log string for each task, detailing detections and classifications.\n        save_txt: Saves detection results to a text file.\n        save_crop: Saves cropped detection images.\n        tojson: Converts detection results to JSON format.\n\n    Examples:\n        >>> results = model(\"path/to/image.jpg\")\n        >>> for result in results:\n        ...     print(result.boxes)  # Print detection boxes\n        ...     result.show()  # Display the annotated image\n        ...     result.save(filename=\"result.jpg\")  # Save annotated image\n    "
          ]
        }
      ]
    },
    {
      "cell_type": "code",
      "source": [
        "import matplotlib.pyplot as plt\n",
        "# Test edilen bir görüntüyü görselleştir\n",
        "image_path = '/content/runs/detect/predict/M0701_img000588.jpg'\n",
        "img = plt.imread(image_path)\n",
        "plt.imshow(img)\n",
        "plt.show()"
      ],
      "metadata": {
        "colab": {
          "base_uri": "https://localhost:8080/",
          "height": 327
        },
        "id": "zsrJd4gYR0r7",
        "outputId": "9507e1f0-5d08-4035-e6c5-10253f799215"
      },
      "execution_count": 22,
      "outputs": [
        {
          "output_type": "display_data",
          "data": {
            "text/plain": [
              "<Figure size 640x480 with 1 Axes>"
            ],
            "image/png": "[encoded data removed]"
          },
          "metadata": {}
        }
      ]
    },
    {
      "cell_type": "code",
      "source": [
        "import matplotlib.pyplot as plt\n",
        "\n",
        "image_path = '/content/runs/detect/predict/M0701_img000627.jpg'\n",
        "img = plt.imread(image_path)\n",
        "plt.imshow(img)\n",
        "plt.show()"
      ],
      "metadata": {
        "colab": {
          "base_uri": "https://localhost:8080/",
          "height": 327
        },
        "id": "nRAv5WauXUqP",
        "outputId": "dbb94224-7a93-4337-bff4-32627516afa1"
      },
      "execution_count": 37,
      "outputs": [
        {
          "output_type": "display_data",
          "data": {
            "text/plain": [
              "<Figure size 640x480 with 1 Axes>"
            ],
            "image/png": "[encoded data removed]"
          },
          "metadata": {}
        }
      ]
    },
    {
      "cell_type": "markdown",
      "source": [
        "*   Yuakrıdaki görselde de görüldüğü üzere eğitilen YOLOv8 modeli yüksek irtifalı ve sisli İHA görüntülerinde arabaları tespit edememektedir.\n",
        "\n",
        "\n"
      ],
      "metadata": {
        "id": "-qBF9qEuXbQH"
      }
    },
    {
      "cell_type": "code",
      "source": [
        ""
      ],
      "metadata": {
        "id": "bQ7Sl748XZ2y"
      },
      "execution_count": null,
      "outputs": []
    }
  ]
}